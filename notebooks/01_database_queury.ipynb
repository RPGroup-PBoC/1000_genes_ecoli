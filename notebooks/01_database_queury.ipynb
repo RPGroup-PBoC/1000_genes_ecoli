{
 "cells": [
  {
   "cell_type": "markdown",
   "id": "ae420bd6-70d7-41fd-934e-e9efa02db636",
   "metadata": {},
   "source": [
    "# Data base queury to identify transcription start sites."
   ]
  },
  {
   "cell_type": "markdown",
   "id": "6301e40f-ca68-4214-b0a4-ae06a60c8c86",
   "metadata": {},
   "source": [
    "© 2022 Tom Röschinger. This work is licensed under a <a href=\"https://creativecommons.org/licenses/by/4.0/\">Creative Commons Attribution License CC-BY 4.0</a>. All code contained herein is licensed under an <a href=\"https://opensource.org/licenses/MIT\">MIT license</a>"
   ]
  },
  {
   "cell_type": "markdown",
   "id": "c0e9eb83-477c-4f18-80fc-b7be10474315",
   "metadata": {},
   "source": [
    "***"
   ]
  },
  {
   "cell_type": "markdown",
   "id": "049d4107-44d1-4671-b684-d8c7e8c59b64",
   "metadata": {},
   "source": [
    "In this notebook we show how we look for transcription start sites in various data bases. We downloaded [Ecocyc](https://ecocyc.org/) and [Regulon DB](https://regulondb.ccg.unam.mx/). The goal is to get a list that gives us transcription start sites for all genes, such that we can design oligos for a Reg-Seq experiment."
   ]
  },
  {
   "cell_type": "code",
   "execution_count": 59,
   "id": "c7bc330f-1d41-4f29-9e44-33c552212acb",
   "metadata": {},
   "outputs": [
    {
     "name": "stderr",
     "output_type": "stream",
     "text": [
      "┌ Info: Precompiling wgregseq [57506705-3e72-4664-96ef-b7f153ccca47]\n",
      "└ @ Base loading.jl:1423\n"
     ]
    }
   ],
   "source": [
    "using CSV, DataFrames, wgregseq"
   ]
  },
  {
   "cell_type": "markdown",
   "id": "29484791-9f76-42f9-965e-8c7e7509fb25",
   "metadata": {},
   "source": [
    "## Ecocyc"
   ]
  },
  {
   "cell_type": "markdown",
   "id": "e72e440a-e3b0-4aaa-94e1-c0560c2c81e9",
   "metadata": {},
   "source": [
    "### Genes"
   ]
  },
  {
   "cell_type": "markdown",
   "id": "6b167c7f-7cf9-414b-9227-6c7c1a134849",
   "metadata": {},
   "source": [
    "The files come in `.dat` type, so we have some work to do in order to extract the correct information. First we need to read in the file."
   ]
  },
  {
   "cell_type": "code",
   "execution_count": 9,
   "id": "c1ce324f-1fd3-4641-a45f-a6718ae32ebf",
   "metadata": {},
   "outputs": [
    {
     "data": {
      "text/plain": [
       "\"# Copyright SRI International 1999-2021, Marine Biological Laboratory 1998-2001, DoubleTwist Inc 1998-1999.  All Rights Reserved.\\n#\\n# Authors:\\n#    Peter D. Karp\\n#    Ingrid Keseler\\n#    Carol Fulcher\\n#    Anamika Kothari\\n#    Suzanne Paley\\n#    Markus Krummenacker\\n#  \" ⋯ 4641505 bytes ⋯ \"NS - OBS0-439\\nKNOCKOUT-GROWTH-OBSERVATIONS - OBS0-49\\nKNOCKOUT-GROWTH-OBSERVATIONS - OBS0-37\\nKNOCKOUT-GROWTH-OBSERVATIONS - OBS0-33\\nLAST-UPDATE - 3839010085\\nLEFT-END-POSITION - 2592762\\nPRODUCT - MONOMER0-2685\\nRIGHT-END-POSITION - 2592962\\nTRANSCRIPTION-DIRECTION - +\\n//\\n\""
      ]
     },
     "execution_count": 9,
     "metadata": {},
     "output_type": "execute_result"
    }
   ],
   "source": [
    "s = open(\"../data/ecocyc/genes.dat\") do file\n",
    "    read(file, String)\n",
    "end"
   ]
  },
  {
   "cell_type": "markdown",
   "id": "a9c32a07-b68e-4ce9-90b7-ad816d35e78d",
   "metadata": {},
   "source": [
    "The entries in this file are separated by `//`, therefore we can use it to separate the entries. The first two entries are comments, so we skip those. Then, each entry is a gene."
   ]
  },
  {
   "cell_type": "code",
   "execution_count": 16,
   "id": "d9f940cb-0102-4adf-a224-1e3611623ad4",
   "metadata": {},
   "outputs": [
    {
     "name": "stdout",
     "output_type": "stream",
     "text": [
      "\n",
      "UNIQUE-ID - EG11120\n",
      "TYPES - BC-8.1\n",
      "COMMON-NAME - tfaE\n",
      "ACCESSION-1 - b1156\n",
      "ACCESSION-2 - ECK1142\n",
      "CENTISOME-POSITION - 26.036354    \n",
      "COMPONENT-OF - COLI-K12-24\n",
      "COMPONENT-OF - TU0-13152\n",
      "DBLINKS - (REGULONDB \"b1156\" NIL |kothari| 3713101626 NIL NIL)\n",
      "DBLINKS - (STRING \"511145.b1156\" NIL |kothari| 3652459938 NIL NIL)\n",
      "DBLINKS - (ECOLIHUB \"tfaE\" NIL |kr| 3474243545 NIL NIL)\n",
      "DBLINKS - (ASAP \"ABE-0003880\" NIL |paley| 3398447606 NIL NIL)\n",
      "DBLINKS - (ECHOBASE \"EB1110\" NIL |pkarp| 3346767937 NIL NIL)\n",
      "DBLINKS - (OU-MICROARRAY \"b1156\" NIL NIL NIL NIL NIL)\n",
      "IN-GROUP - PARALOGOUS-GENE-GROUP-154\n",
      "INSTANCE-NAME-TEMPLATE - G-*\n",
      "KNOCKOUT-GROWTH-OBSERVATIONS - OBS0-439\n",
      "KNOCKOUT-GROWTH-OBSERVATIONS - OBS0-49\n",
      "KNOCKOUT-GROWTH-OBSERVATIONS - OBS0-37\n",
      "KNOCKOUT-GROWTH-OBSERVATIONS - OBS0-33\n",
      "KNOCKOUT-GROWTH-OBSERVATIONS - OBS0-44\n",
      "LAST-UPDATE - 3701017116\n",
      "LEFT-END-POSITION - 1208517\n",
      "MEMBER-SORT-FN - NUMBERED-CLASS-SORT-FN\n",
      "PRODUCT - EG11120-MONOMER\n",
      "RIGHT-END-POSITION - 1209119\n",
      "SYNONYMS - ycfA\n",
      "TRANSCRIPTION-DIRECTION - -\n",
      "\n"
     ]
    }
   ],
   "source": [
    "# Split genes and drop comments\n",
    "gene_list = split(s, \"//\")[3:end]\n",
    "println(gene_list[1])"
   ]
  },
  {
   "cell_type": "markdown",
   "id": "b8d4d408-552e-459e-ab0d-0b6fd2962ff1",
   "metadata": {},
   "source": [
    "For each gene, there are multiple attributes, where each attribute is in a single line and has the structure `<attribute> - <value>`. Hence, we can go through every line, look for the attributes we are interested in, and then extract the information. The information gets transformed into an array of the form `[<attribute>, <value>]` for easier access."
   ]
  },
  {
   "cell_type": "code",
   "execution_count": 17,
   "id": "49842a9a-1b85-4f0e-a964-0acfef9613ef",
   "metadata": {},
   "outputs": [
    {
     "name": "stdout",
     "output_type": "stream",
     "text": [
      "Vector{SubString{String}}[[\"UNIQUE-ID\", \"EG11120\"], [\"TYPES\", \"BC-8.1\"], [\"COMMON-NAME\", \"tfaE\"], [\"ACCESSION-1\", \"b1156\"], [\"ACCESSION-2\", \"ECK1142\"], [\"CENTISOME-POSITION\", \"26.036354    \"], [\"COMPONENT-OF\", \"COLI-K12-24\"], [\"COMPONENT-OF\", \"TU0-13152\"], [\"DBLINKS\", \"(REGULONDB \\\"b1156\\\" NIL |kothari| 3713101626 NIL NIL)\"], [\"DBLINKS\", \"(STRING \\\"511145.b1156\\\" NIL |kothari| 3652459938 NIL NIL)\"], [\"DBLINKS\", \"(ECOLIHUB \\\"tfaE\\\" NIL |kr| 3474243545 NIL NIL)\"], [\"DBLINKS\", \"(ASAP \\\"ABE-0003880\\\" NIL |paley| 3398447606 NIL NIL)\"], [\"DBLINKS\", \"(ECHOBASE \\\"EB1110\\\" NIL |pkarp| 3346767937 NIL NIL)\"], [\"DBLINKS\", \"(OU-MICROARRAY \\\"b1156\\\" NIL NIL NIL NIL NIL)\"], [\"IN-GROUP\", \"PARALOGOUS-GENE-GROUP-154\"], [\"INSTANCE-NAME-TEMPLATE\", \"G-*\"], [\"KNOCKOUT-GROWTH-OBSERVATIONS\", \"OBS0-439\"], [\"KNOCKOUT-GROWTH-OBSERVATIONS\", \"OBS0-49\"], [\"KNOCKOUT-GROWTH-OBSERVATIONS\", \"OBS0-37\"], [\"KNOCKOUT-GROWTH-OBSERVATIONS\", \"OBS0-33\"], [\"KNOCKOUT-GROWTH-OBSERVATIONS\", \"OBS0-44\"], [\"LAST-UPDATE\", \"3701017116\"], [\"LEFT-END-POSITION\", \"1208517\"], [\"MEMBER-SORT-FN\", \"NUMBERED-CLASS-SORT-FN\"], [\"PRODUCT\", \"EG11120-MONOMER\"], [\"RIGHT-END-POSITION\", \"1209119\"], [\"SYNONYMS\", \"ycfA\"], [\"TRANSCRIPTION-DIRECTION\", \"-\"]]\n"
     ]
    }
   ],
   "source": [
    "# Separate attributes\n",
    "gene_list = [split(x, '\\n') for x in gene_list]\n",
    "\n",
    "# Transform attributes into arrays\n",
    "gene_list = [[occursin(\" - \", x) ? split(x, \" - \") : SubString{String}[] for x in gene] for gene in gene_list]\n",
    "\n",
    "# Drop empty entries\n",
    "gene_list = [gene[.~isempty.(gene)] for gene in gene_list]\n",
    "println(gene_list[1])"
   ]
  },
  {
   "cell_type": "markdown",
   "id": "5c24d10f-8b5f-461c-930a-bac97f210275",
   "metadata": {},
   "source": [
    "Now that we have the attributes for each gene, we can extract the information we are looking for and store it in a data frame. We iterate through each gene and extract the values for the following attributes: \n",
    "- ID,\n",
    "- Name, \n",
    "- Transcription Units, \n",
    "- Transcription Direction, \n",
    "- Position, \n",
    "- Synonyms, \n",
    "- Accession ID. "
   ]
  },
  {
   "cell_type": "code",
   "execution_count": 21,
   "id": "52472eec-9f76-4de5-9b28-6b154aaa321f",
   "metadata": {},
   "outputs": [
    {
     "data": {
      "text/html": [
       "<div class=\"data-frame\"><p>5 rows × 7 columns (omitted printing of 1 columns)</p><table class=\"data-frame\"><thead><tr><th></th><th>ID</th><th>gene</th><th>direction</th><th>transcription_units</th><th>gene_position</th><th>synonyms</th></tr><tr><th></th><th title=\"String\">String</th><th title=\"String\">String</th><th title=\"String\">String</th><th title=\"Any\">Any</th><th title=\"Float64\">Float64</th><th title=\"Any\">Any</th></tr></thead><tbody><tr><th>1</th><td>EG11120</td><td>tfaE</td><td>-</td><td>[&quot;TU0-13152&quot;]</td><td>1.20912e6</td><td>[&quot;ycfA&quot;]</td></tr><tr><th>2</th><td>G0-10603</td><td>yrhD</td><td>+</td><td>[]</td><td>3.5844e6</td><td>[&quot;none&quot;]</td></tr><tr><th>3</th><td>EG11085</td><td>rsmH</td><td>+</td><td>[&quot;TU0-14439&quot;, &quot;TU0-941&quot;]</td><td>90094.0</td><td>[&quot;yabC&quot;, &quot;mraW&quot;]</td></tr><tr><th>4</th><td>EG12203</td><td>cspB</td><td>-</td><td>[&quot;TU0-6982&quot;]</td><td>1.64155e6</td><td>[&quot;none&quot;]</td></tr><tr><th>5</th><td>G0-16721</td><td>yabR</td><td>-</td><td>[&quot;TU0-44222&quot;]</td><td>85511.0</td><td>[&quot;none&quot;]</td></tr></tbody></table></div>"
      ],
      "text/latex": [
       "\\begin{tabular}{r|ccccccc}\n",
       "\t& ID & gene & direction & transcription\\_units & gene\\_position & synonyms & \\\\\n",
       "\t\\hline\n",
       "\t& String & String & String & Any & Float64 & Any & \\\\\n",
       "\t\\hline\n",
       "\t1 & EG11120 & tfaE & - & [\"TU0-13152\"] & 1.20912e6 & [\"ycfA\"] & $\\dots$ \\\\\n",
       "\t2 & G0-10603 & yrhD & + & [] & 3.5844e6 & [\"none\"] & $\\dots$ \\\\\n",
       "\t3 & EG11085 & rsmH & + & [\"TU0-14439\", \"TU0-941\"] & 90094.0 & [\"yabC\", \"mraW\"] & $\\dots$ \\\\\n",
       "\t4 & EG12203 & cspB & - & [\"TU0-6982\"] & 1.64155e6 & [\"none\"] & $\\dots$ \\\\\n",
       "\t5 & G0-16721 & yabR & - & [\"TU0-44222\"] & 85511.0 & [\"none\"] & $\\dots$ \\\\\n",
       "\\end{tabular}\n"
      ],
      "text/plain": [
       "\u001b[1m5×7 DataFrame\u001b[0m\n",
       "\u001b[1m Row \u001b[0m│\u001b[1m ID       \u001b[0m\u001b[1m gene   \u001b[0m\u001b[1m direction \u001b[0m\u001b[1m transcription_units         \u001b[0m\u001b[1m gene_position\u001b[0m ⋯\n",
       "\u001b[1m     \u001b[0m│\u001b[90m String   \u001b[0m\u001b[90m String \u001b[0m\u001b[90m String    \u001b[0m\u001b[90m Any                         \u001b[0m\u001b[90m Float64      \u001b[0m ⋯\n",
       "─────┼──────────────────────────────────────────────────────────────────────────\n",
       "   1 │ EG11120   tfaE    -          Any[\"TU0-13152\"]                 1.20912e6 ⋯\n",
       "   2 │ G0-10603  yrhD    +          Any[]                            3.5844e6\n",
       "   3 │ EG11085   rsmH    +          Any[\"TU0-14439\", \"TU0-941\"]  90094.0\n",
       "   4 │ EG12203   cspB    -          Any[\"TU0-6982\"]                  1.64155e6\n",
       "   5 │ G0-16721  yabR    -          Any[\"TU0-44222\"]             85511.0       ⋯\n",
       "\u001b[36m                                                               2 columns omitted\u001b[0m"
      ]
     },
     "execution_count": 21,
     "metadata": {},
     "output_type": "execute_result"
    }
   ],
   "source": [
    "# Initialize Arrays for storage\n",
    "ID_list = String[]\n",
    "name_list = String[]\n",
    "TU_list = []\n",
    "direction_list = String[]\n",
    "position_list = Float64[]\n",
    "synonym_list = []\n",
    "accession_list = String[]\n",
    "\n",
    "# Iterate through every gene\n",
    "for x in gene_list\n",
    "    name = filter(x -> x[1] == \"UNIQUE-ID\", x)\n",
    "    if ~isempty(name)\n",
    "        push!(ID_list, name[1][2])\n",
    "    else\n",
    "        push!(ID_list, \"None\")\n",
    "    end\n",
    "    \n",
    "    name = filter(x -> x[1] == \"COMMON-NAME\", x)\n",
    "    if ~isempty(name)\n",
    "        push!(name_list, name[1][2])\n",
    "    else\n",
    "        push!(name_list, \"None\")\n",
    "    end\n",
    "\n",
    "    synonyms = filter(x -> x[1] == \"SYNONYMS\", x)\n",
    "    _synonym_list = []\n",
    "    if ~isempty(synonyms)\n",
    "        for synonym in synonyms\n",
    "            push!(_synonym_list, synonym[2])\n",
    "        end\n",
    "    else\n",
    "        push!(_synonym_list, \"none\")\n",
    "    end\n",
    "    push!(synonym_list, _synonym_list)\n",
    "    \n",
    "    direction = filter(x -> x[1] == \"TRANSCRIPTION-DIRECTION\", x)\n",
    "    if ~isempty(direction)\n",
    "        push!(direction_list, direction[1][2])\n",
    "    else\n",
    "        push!(direction_list, \"none\")\n",
    "    end\n",
    "\n",
    "    accession = filter(x -> x[1] == \"ACCESSION-1\", x)\n",
    "    if ~isempty(accession)\n",
    "        push!(accession_list, accession[1][2])\n",
    "    else\n",
    "        push!(accession_list, \"none\")\n",
    "    end\n",
    "\n",
    "    components = filter(x -> x[1] == \"COMPONENT-OF\", x)\n",
    "    tu_list_gene = []\n",
    "    if ~isempty(components)\n",
    "        for component in components\n",
    "            if occursin(\"TU\", component[2])\n",
    "                push!(tu_list_gene, component[2])\n",
    "            end\n",
    "        end\n",
    "    else\n",
    "        push!(tu_list_gene, \"none\")\n",
    "    end\n",
    "\n",
    "    push!(TU_list, tu_list_gene)\n",
    "    if direction_list[end] == \"+\"\n",
    "        position = filter(x -> x[1] == \"LEFT-END-POSITION\", x)\n",
    "        if ~isempty(position)\n",
    "            push!(position_list, parse(Float64, position[1][2]))\n",
    "        else\n",
    "            push!(position_list, NaN)\n",
    "        end  \n",
    "    elseif direction_list[end] == \"-\"\n",
    "        position = filter(x -> x[1] == \"RIGHT-END-POSITION\", x)\n",
    "        if ~isempty(position)\n",
    "            push!(position_list, parse(Float64, position[1][2]))\n",
    "        else\n",
    "            push!(position_list, NaN)\n",
    "        end  \n",
    "    else \n",
    "        push!(position_list, NaN)\n",
    "    end\n",
    "end\n",
    "\n",
    "df_genes = DataFrames.DataFrame(\n",
    "    ID=ID_list, \n",
    "    gene=name_list, \n",
    "    direction=direction_list, \n",
    "    transcription_units=TU_list, \n",
    "    gene_position=position_list, \n",
    "    synonyms=synonym_list,\n",
    "    accession=accession_list\n",
    "    )\n",
    "\n",
    "first(df_genes, 5)"
   ]
  },
  {
   "cell_type": "markdown",
   "id": "0922fbce-504d-4f5b-bb86-6d5b0ec182da",
   "metadata": {},
   "source": [
    "Now we can store the DataFrame into a file for easier access later."
   ]
  },
  {
   "cell_type": "code",
   "execution_count": null,
   "id": "c1611c9e-2175-475a-a236-62d58def9f6e",
   "metadata": {},
   "outputs": [],
   "source": [
    "CSV.write(\"/$home_dir/data/all_genes_table.csv\", df_genes)"
   ]
  },
  {
   "cell_type": "markdown",
   "id": "22d3ad68-87f2-44c9-ab32-0e785c683bf7",
   "metadata": {},
   "source": [
    "### Transcription Units"
   ]
  },
  {
   "cell_type": "markdown",
   "id": "96bdd30d-1dbc-4aca-880d-b06e80daa26e",
   "metadata": {},
   "source": [
    "For each gene we have a number of transcription units. A transcription unit is the a set of genes that is transcribed together from a promoter. A gene can be in multiple transcription units either due to multiple promoters or due to differences in transcription termination. Now we need to identify the promoters for each transcription unit.  This information is stored in the file about transcription units. Accessing the information is identical to the way we extracted information about the genes."
   ]
  },
  {
   "cell_type": "code",
   "execution_count": 27,
   "id": "5004b541-0da6-4773-8344-0bfed99b12af",
   "metadata": {},
   "outputs": [
    {
     "data": {
      "text/html": [
       "<div class=\"data-frame\"><p>5 rows × 2 columns</p><table class=\"data-frame\"><thead><tr><th></th><th>TU_ID</th><th>promoter_ID</th></tr><tr><th></th><th title=\"String\">String</th><th title=\"Any\">Any</th></tr></thead><tbody><tr><th>1</th><td>TU0-12955</td><td>none</td></tr><tr><th>2</th><td>TU0-13608</td><td>none</td></tr><tr><th>3</th><td>TU358</td><td>PM439</td></tr><tr><th>4</th><td>TU0-8519</td><td>PM0-9601</td></tr><tr><th>5</th><td>TU0-8490</td><td>PM0-8926</td></tr></tbody></table></div>"
      ],
      "text/latex": [
       "\\begin{tabular}{r|cc}\n",
       "\t& TU\\_ID & promoter\\_ID\\\\\n",
       "\t\\hline\n",
       "\t& String & Any\\\\\n",
       "\t\\hline\n",
       "\t1 & TU0-12955 & none \\\\\n",
       "\t2 & TU0-13608 & none \\\\\n",
       "\t3 & TU358 & PM439 \\\\\n",
       "\t4 & TU0-8519 & PM0-9601 \\\\\n",
       "\t5 & TU0-8490 & PM0-8926 \\\\\n",
       "\\end{tabular}\n"
      ],
      "text/plain": [
       "\u001b[1m5×2 DataFrame\u001b[0m\n",
       "\u001b[1m Row \u001b[0m│\u001b[1m TU_ID     \u001b[0m\u001b[1m promoter_ID \u001b[0m\n",
       "\u001b[1m     \u001b[0m│\u001b[90m String    \u001b[0m\u001b[90m Any         \u001b[0m\n",
       "─────┼────────────────────────\n",
       "   1 │ TU0-12955  none\n",
       "   2 │ TU0-13608  none\n",
       "   3 │ TU358      PM439\n",
       "   4 │ TU0-8519   PM0-9601\n",
       "   5 │ TU0-8490   PM0-8926"
      ]
     },
     "execution_count": 27,
     "metadata": {},
     "output_type": "execute_result"
    }
   ],
   "source": [
    "# Open Transcription Units\n",
    "s = open(\"../data/ecocyc/transunits.dat\") do file\n",
    "    read(file, String)\n",
    "end\n",
    "\n",
    "# Drop Comments and split units\n",
    "tu_list = split(s, \"//\")[3:end]\n",
    "\n",
    "# Separate attributes\n",
    "tu_list = [split(x, '\\n') for x in tu_list]\n",
    "\n",
    "# Transform attributes into arrays\n",
    "tu_list = [[occursin(\" - \", x) ? split(x, \" - \") : SubString{String}[] for x in tu] for tu in tu_list]\n",
    "\n",
    "# Drop empty entries\n",
    "tu_list = [tu[.~isempty.(tu)] for tu in tu_list]\n",
    "\n",
    "\n",
    "# Write to DataFrame\n",
    "ID_list = String[]\n",
    "promoter_list = []\n",
    "\n",
    "\n",
    "for x in tu_list\n",
    "    name = filter(x -> x[1] == \"UNIQUE-ID\", x)\n",
    "    if ~isempty(name)\n",
    "        push!(ID_list, name[1][2])\n",
    "    else\n",
    "        push!(ID_list, \"None\")\n",
    "    end\n",
    "    \n",
    "    components = filter(x -> ((x[1] == \"COMPONENTS\") && (occursin(\"PM\", x[2]))), x)\n",
    "    if ~isempty(components)\n",
    "        for component in components\n",
    "            if occursin(\"PM\", component[2])\n",
    "                push!(promoter_list, component[2])\n",
    "            end\n",
    "        end\n",
    "    else\n",
    "        push!(promoter_list, \"none\")\n",
    "    end\n",
    "end\n",
    "\n",
    "df_tu = DataFrames.DataFrame(TU_ID=ID_list, promoter_ID=promoter_list)\n",
    "first(df_tu, 5)"
   ]
  },
  {
   "cell_type": "markdown",
   "id": "61f6df3e-3fdf-4782-9b43-29e5764f2395",
   "metadata": {},
   "source": [
    "Now that we have the promoters for every transcription unit, we can combine the information we have about genes and transcription units. We sort the data by transcription units, therefore we combine all genes that are part of the same transcription unit."
   ]
  },
  {
   "cell_type": "code",
   "execution_count": 28,
   "id": "a9d387bd-8d88-4457-adbd-e0a98a1c8212",
   "metadata": {},
   "outputs": [
    {
     "data": {
      "text/html": [
       "<div class=\"data-frame\"><p>5 rows × 5 columns</p><table class=\"data-frame\"><thead><tr><th></th><th>TU_ID</th><th>promoter_ID</th><th>genes</th><th>direction</th><th>gene_position</th></tr><tr><th></th><th title=\"String\">String</th><th title=\"Any\">Any</th><th title=\"Vector{String}\">Array…</th><th title=\"String\">String</th><th title=\"Vector{Float64}\">Array…</th></tr></thead><tbody><tr><th>1</th><td>TU0-12955</td><td>none</td><td>[&quot;cueR&quot;]</td><td>+</td><td>[513993.0]</td></tr><tr><th>2</th><td>TU0-13608</td><td>none</td><td>[&quot;yfdE&quot;]</td><td>-</td><td>[2.48917e6]</td></tr><tr><th>3</th><td>TU358</td><td>PM439</td><td>[&quot;cydA&quot;, &quot;cydB&quot;]</td><td>+</td><td>[771458.0, 773042.0]</td></tr><tr><th>4</th><td>TU0-8519</td><td>PM0-9601</td><td>[&quot;ryjA&quot;]</td><td>-</td><td>[4.27807e6]</td></tr><tr><th>5</th><td>TU0-8490</td><td>PM0-8926</td><td>[&quot;pepT&quot;]</td><td>+</td><td>[1.18584e6]</td></tr></tbody></table></div>"
      ],
      "text/latex": [
       "\\begin{tabular}{r|ccccc}\n",
       "\t& TU\\_ID & promoter\\_ID & genes & direction & gene\\_position\\\\\n",
       "\t\\hline\n",
       "\t& String & Any & Array… & String & Array…\\\\\n",
       "\t\\hline\n",
       "\t1 & TU0-12955 & none & [\"cueR\"] & + & [513993.0] \\\\\n",
       "\t2 & TU0-13608 & none & [\"yfdE\"] & - & [2.48917e6] \\\\\n",
       "\t3 & TU358 & PM439 & [\"cydA\", \"cydB\"] & + & [771458.0, 773042.0] \\\\\n",
       "\t4 & TU0-8519 & PM0-9601 & [\"ryjA\"] & - & [4.27807e6] \\\\\n",
       "\t5 & TU0-8490 & PM0-8926 & [\"pepT\"] & + & [1.18584e6] \\\\\n",
       "\\end{tabular}\n"
      ],
      "text/plain": [
       "\u001b[1m5×5 DataFrame\u001b[0m\n",
       "\u001b[1m Row \u001b[0m│\u001b[1m TU_ID     \u001b[0m\u001b[1m promoter_ID \u001b[0m\u001b[1m genes            \u001b[0m\u001b[1m direction \u001b[0m\u001b[1m gene_position     \u001b[0m ⋯\n",
       "\u001b[1m     \u001b[0m│\u001b[90m String    \u001b[0m\u001b[90m Any         \u001b[0m\u001b[90m Array…           \u001b[0m\u001b[90m String    \u001b[0m\u001b[90m Array…            \u001b[0m ⋯\n",
       "─────┼──────────────────────────────────────────────────────────────────────────\n",
       "   1 │ TU0-12955  none         [\"cueR\"]          +          [513993.0]         ⋯\n",
       "   2 │ TU0-13608  none         [\"yfdE\"]          -          [2.48917e6]\n",
       "   3 │ TU358      PM439        [\"cydA\", \"cydB\"]  +          [771458.0, 773042.\n",
       "   4 │ TU0-8519   PM0-9601     [\"ryjA\"]          -          [4.27807e6]\n",
       "   5 │ TU0-8490   PM0-8926     [\"pepT\"]          +          [1.18584e6]        ⋯\n",
       "\u001b[36m                                                                1 column omitted\u001b[0m"
      ]
     },
     "execution_count": 28,
     "metadata": {},
     "output_type": "execute_result"
    }
   ],
   "source": [
    "# Arrays for entry storage\n",
    "tu_genes = Vector{String}[]\n",
    "tu_gene_positions = Vector{Float64}[]\n",
    "tu_direction = String[]\n",
    "\n",
    "# Iterate through TU\n",
    "for tu in df_tu.TU_ID\n",
    "    # Find genes and their information for TU\n",
    "    _df = df_genes[map(x -> tu in x[\"transcription_units\"], eachrow(df_genes)), [\"gene\", \"direction\", \"gene_position\"]]\n",
    "    push!(tu_genes, _df.gene)\n",
    "    push!(tu_gene_positions, _df.gene_position)\n",
    "    direction = _df.direction |> unique\n",
    "    # Look for conflicting directions\n",
    "    if length(direction) > 1\n",
    "        throw(ErrorException(\"Found more than one direction for transcription unit $tu.\"))\n",
    "    elseif length(direction) == 0\n",
    "        push!(tu_direction, \"\")\n",
    "    else\n",
    "        push!(tu_direction, direction[1])\n",
    "    end\n",
    "end\n",
    "\n",
    "# Add genes to DataFrame\n",
    "insertcols!(df_tu, 3, :genes=>tu_genes)\n",
    "insertcols!(df_tu, 4, :direction=>tu_direction)\n",
    "insertcols!(df_tu, 5, :gene_position=>tu_gene_positions)\n",
    "\n",
    "first(df_tu, 5)"
   ]
  },
  {
   "cell_type": "markdown",
   "id": "c9486aa9-a651-4a41-9eef-ad1aa8e0c6bd",
   "metadata": {},
   "source": [
    "### Promoters"
   ]
  },
  {
   "cell_type": "markdown",
   "id": "f4049030-6f85-4df1-b904-b24c9b13e0dd",
   "metadata": {},
   "source": [
    "Now that we have a list of all transcription unites and their genes, we need to extract the information about their promoters. We are looking for the transcription start site of each promoter as well as how much evidence there is for the one that have been identified."
   ]
  },
  {
   "cell_type": "code",
   "execution_count": 31,
   "id": "fa435a5f-5dab-4467-bc44-010004ff647f",
   "metadata": {},
   "outputs": [
    {
     "data": {
      "text/html": [
       "<div class=\"data-frame\"><p>5 rows × 4 columns</p><table class=\"data-frame\"><thead><tr><th></th><th>promoter_ID</th><th>promoter</th><th>tss</th><th>evidence</th></tr><tr><th></th><th title=\"String\">String</th><th title=\"String\">String</th><th title=\"Float64\">Float64</th><th title=\"Vector{String}\">Array…</th></tr></thead><tbody><tr><th>1</th><td>PM00451</td><td>uspAp1</td><td>3.63998e6</td><td>[&quot;COMP&quot;, &quot;COMP&quot;, &quot;EXP&quot;, &quot;EXP&quot;]</td></tr><tr><th>2</th><td>PM0-45328</td><td>dedDp3</td><td>2.43188e6</td><td>[&quot;COMP&quot;]</td></tr><tr><th>3</th><td>PM0-45499</td><td>yqeFp11</td><td>2.98581e6</td><td>[&quot;COMP&quot;]</td></tr><tr><th>4</th><td>PM00628</td><td>glnBp3</td><td>2.68753e6</td><td>[&quot;EXP&quot;]</td></tr><tr><th>5</th><td>PM623</td><td>mazEp2</td><td>2.91136e6</td><td>[&quot;none&quot;, &quot;EXP&quot;]</td></tr></tbody></table></div>"
      ],
      "text/latex": [
       "\\begin{tabular}{r|cccc}\n",
       "\t& promoter\\_ID & promoter & tss & evidence\\\\\n",
       "\t\\hline\n",
       "\t& String & String & Float64 & Array…\\\\\n",
       "\t\\hline\n",
       "\t1 & PM00451 & uspAp1 & 3.63998e6 & [\"COMP\", \"COMP\", \"EXP\", \"EXP\"] \\\\\n",
       "\t2 & PM0-45328 & dedDp3 & 2.43188e6 & [\"COMP\"] \\\\\n",
       "\t3 & PM0-45499 & yqeFp11 & 2.98581e6 & [\"COMP\"] \\\\\n",
       "\t4 & PM00628 & glnBp3 & 2.68753e6 & [\"EXP\"] \\\\\n",
       "\t5 & PM623 & mazEp2 & 2.91136e6 & [\"none\", \"EXP\"] \\\\\n",
       "\\end{tabular}\n"
      ],
      "text/plain": [
       "\u001b[1m5×4 DataFrame\u001b[0m\n",
       "\u001b[1m Row \u001b[0m│\u001b[1m promoter_ID \u001b[0m\u001b[1m promoter \u001b[0m\u001b[1m tss       \u001b[0m\u001b[1m evidence                       \u001b[0m\n",
       "\u001b[1m     \u001b[0m│\u001b[90m String      \u001b[0m\u001b[90m String   \u001b[0m\u001b[90m Float64   \u001b[0m\u001b[90m Array…                         \u001b[0m\n",
       "─────┼──────────────────────────────────────────────────────────────────\n",
       "   1 │ PM00451      uspAp1    3.63998e6  [\"COMP\", \"COMP\", \"EXP\", \"EXP\"]\n",
       "   2 │ PM0-45328    dedDp3    2.43188e6  [\"COMP\"]\n",
       "   3 │ PM0-45499    yqeFp11   2.98581e6  [\"COMP\"]\n",
       "   4 │ PM00628      glnBp3    2.68753e6  [\"EXP\"]\n",
       "   5 │ PM623        mazEp2    2.91136e6  [\"none\", \"EXP\"]"
      ]
     },
     "execution_count": 31,
     "metadata": {},
     "output_type": "execute_result"
    }
   ],
   "source": [
    "# Read promoter file\n",
    "s = open(\"../data/ecocyc/promoters.dat\") do file\n",
    "    read(file, String)\n",
    "end\n",
    "\n",
    "# Split promoters and remove comments\n",
    "promoter_list = split(s, \"//\")[3:end]\n",
    "\n",
    "# Separate attributes\n",
    "promoter_list = [split(x, '\\n') for x in promoter_list]\n",
    "\n",
    "# Transform attributes into arrays\n",
    "promoter_list = [[occursin(\" - \", x) ? split(x, \" - \") : SubString{String}[] for x in promoter] for promoter in promoter_list]\n",
    "\n",
    "# Drop empty entries\n",
    "promoter_list = [promoter[.~isempty.(promoter)] for promoter in promoter_list]\n",
    "\n",
    "\n",
    "# Make DataFrame\n",
    "ID_list = String[]\n",
    "name_list = String[]\n",
    "TSS_list = Float64[]\n",
    "evidence_list = Vector{String}[]\n",
    "\n",
    "# Iterate through promoters\n",
    "for x in promoter_list\n",
    "    name = filter(x -> x[1] == \"UNIQUE-ID\", x)\n",
    "    if ~isempty(name)\n",
    "        push!(ID_list, name[1][2])\n",
    "    else\n",
    "        push!(ID_list, \"None\")\n",
    "    end\n",
    "    \n",
    "    name = filter(x -> x[1] == \"COMMON-NAME\", x)\n",
    "    if ~isempty(name)\n",
    "        push!(name_list, name[1][2])\n",
    "    else\n",
    "        push!(name_list, \"None\")\n",
    "    end\n",
    "    \n",
    "    TSS = filter(x -> x[1] == \"ABSOLUTE-PLUS-1-POS\", x)\n",
    "    if ~isempty(TSS)\n",
    "        push!(TSS_list, parse(Float64, TSS[1][2]))\n",
    "    else\n",
    "        push!(TSS_list, NaN)\n",
    "    end\n",
    "    \n",
    "    cits = filter(x -> x[1] == \"CITATIONS\", x)\n",
    "    if ~isempty(cits)\n",
    "        cit_list = String[]\n",
    "        for cit in cits\n",
    "            if occursin(\"EV-EXP\", cit[2])\n",
    "                push!(cit_list, \"EXP\")\n",
    "            elseif occursin(\"EV-COMP\", cit[2])\n",
    "                push!(cit_list, \"COMP\")\n",
    "            end\n",
    "            if length(cit_list) == 0 \n",
    "                push!(cit_list, \"none\")\n",
    "            end\n",
    "        end\n",
    "        push!(evidence_list, cit_list)\n",
    "    else\n",
    "        push!(evidence_list, String[\"none\"])\n",
    "    end\n",
    "    \n",
    "end\n",
    "df_tss = DataFrames.DataFrame(promoter_ID=ID_list, promoter=name_list, tss=TSS_list, evidence=evidence_list)\n",
    "first(df_tss, 5)"
   ]
  },
  {
   "cell_type": "markdown",
   "id": "64346a7b-9fa2-4b7e-ba62-e7cf81f9bb30",
   "metadata": {},
   "source": [
    "Now we need to combine the dataframes of transcription units and promoters. After joining, there will be some missing entries when there is a transcription unit that does not have a promoter associated with it. We are going to replace the missing values with easy to interpret entries."
   ]
  },
  {
   "cell_type": "code",
   "execution_count": 34,
   "id": "f6e51a2d-68dd-4056-88f0-41f376baa143",
   "metadata": {},
   "outputs": [
    {
     "data": {
      "text/html": [
       "<div class=\"data-frame\"><p>20 rows × 8 columns (omitted printing of 4 columns)</p><table class=\"data-frame\"><thead><tr><th></th><th>TU_ID</th><th>promoter_ID</th><th>genes</th><th>direction</th></tr><tr><th></th><th title=\"String\">String</th><th title=\"Any\">Any</th><th title=\"Vector{String}\">Array…</th><th title=\"String\">String</th></tr></thead><tbody><tr><th>1</th><td>TU00431</td><td>PM00451</td><td>[&quot;uspA&quot;]</td><td>+</td></tr><tr><th>2</th><td>TU00474</td><td>PM00628</td><td>[&quot;glnB&quot;]</td><td>-</td></tr><tr><th>3</th><td>TU523</td><td>PM623</td><td>[&quot;mazG&quot;, &quot;mazE&quot;, &quot;mazF&quot;]</td><td>-</td></tr><tr><th>4</th><td>TU0-13680</td><td>PM0-10103</td><td>[&quot;ffh&quot;]</td><td>-</td></tr><tr><th>5</th><td>TU0-13351</td><td>PM0-10409</td><td>[&quot;blr&quot;]</td><td>+</td></tr><tr><th>6</th><td>TU0-14183</td><td>PM0-46064</td><td>[&quot;nanX&quot;, &quot;nanY&quot;]</td><td>+</td></tr><tr><th>7</th><td>TU0-42602</td><td>PM0-46356</td><td>[&quot;accA&quot;]</td><td>+</td></tr><tr><th>8</th><td>TU0-36412</td><td>PM0-36157</td><td>[&quot;pcnB&quot;, &quot;folK&quot;]</td><td>-</td></tr><tr><th>9</th><td>TU783</td><td>PM924</td><td>[&quot;zraS&quot;, &quot;zraR&quot;]</td><td>+</td></tr><tr><th>10</th><td>TU0-45265</td><td>PM0-46567</td><td>[&quot;appX&quot;, &quot;appB&quot;, &quot;appC&quot;, &quot;appA&quot;]</td><td>+</td></tr><tr><th>11</th><td>TU0-7881</td><td>PM0-8261</td><td>[&quot;mdtC&quot;, &quot;mdtB&quot;, &quot;mdtD&quot;, &quot;baeS&quot;, &quot;mdtA&quot;, &quot;baeR&quot;]</td><td>+</td></tr><tr><th>12</th><td>TU0-12805</td><td>PM0-9592</td><td>[&quot;sgrR&quot;, &quot;sroA&quot;, &quot;thiQ&quot;, &quot;thiB&quot;, &quot;thiP&quot;]</td><td>-</td></tr><tr><th>13</th><td>TU0-14559</td><td>PM0-9860</td><td>[&quot;yehX&quot;, &quot;osmF&quot;, &quot;yehY&quot;, &quot;yehW&quot;]</td><td>-</td></tr><tr><th>14</th><td>TU0-14785</td><td>PM0-10472</td><td>[&quot;flhD&quot;, &quot;flhC&quot;]</td><td>-</td></tr><tr><th>15</th><td>TU00131</td><td>PM00175</td><td>[&quot;melB&quot;, &quot;melA&quot;]</td><td>+</td></tr><tr><th>16</th><td>TU0-2644</td><td>PM00401</td><td>[&quot;micF&quot;]</td><td>+</td></tr><tr><th>17</th><td>TU0-42682</td><td>PM0-46395</td><td>[&quot;csqR&quot;]</td><td>+</td></tr><tr><th>18</th><td>TU0-3882</td><td>PM00611</td><td>[&quot;proP&quot;]</td><td>+</td></tr><tr><th>19</th><td>TU441</td><td>PM541</td><td>[&quot;fabF&quot;, &quot;acpP&quot;]</td><td>+</td></tr><tr><th>20</th><td>TU0-42537</td><td>PM541</td><td>[&quot;acpP&quot;]</td><td>+</td></tr></tbody></table></div>"
      ],
      "text/latex": [
       "\\begin{tabular}{r|ccccc}\n",
       "\t& TU\\_ID & promoter\\_ID & genes & direction & \\\\\n",
       "\t\\hline\n",
       "\t& String & Any & Array… & String & \\\\\n",
       "\t\\hline\n",
       "\t1 & TU00431 & PM00451 & [\"uspA\"] & + & $\\dots$ \\\\\n",
       "\t2 & TU00474 & PM00628 & [\"glnB\"] & - & $\\dots$ \\\\\n",
       "\t3 & TU523 & PM623 & [\"mazG\", \"mazE\", \"mazF\"] & - & $\\dots$ \\\\\n",
       "\t4 & TU0-13680 & PM0-10103 & [\"ffh\"] & - & $\\dots$ \\\\\n",
       "\t5 & TU0-13351 & PM0-10409 & [\"blr\"] & + & $\\dots$ \\\\\n",
       "\t6 & TU0-14183 & PM0-46064 & [\"nanX\", \"nanY\"] & + & $\\dots$ \\\\\n",
       "\t7 & TU0-42602 & PM0-46356 & [\"accA\"] & + & $\\dots$ \\\\\n",
       "\t8 & TU0-36412 & PM0-36157 & [\"pcnB\", \"folK\"] & - & $\\dots$ \\\\\n",
       "\t9 & TU783 & PM924 & [\"zraS\", \"zraR\"] & + & $\\dots$ \\\\\n",
       "\t10 & TU0-45265 & PM0-46567 & [\"appX\", \"appB\", \"appC\", \"appA\"] & + & $\\dots$ \\\\\n",
       "\t11 & TU0-7881 & PM0-8261 & [\"mdtC\", \"mdtB\", \"mdtD\", \"baeS\", \"mdtA\", \"baeR\"] & + & $\\dots$ \\\\\n",
       "\t12 & TU0-12805 & PM0-9592 & [\"sgrR\", \"sroA\", \"thiQ\", \"thiB\", \"thiP\"] & - & $\\dots$ \\\\\n",
       "\t13 & TU0-14559 & PM0-9860 & [\"yehX\", \"osmF\", \"yehY\", \"yehW\"] & - & $\\dots$ \\\\\n",
       "\t14 & TU0-14785 & PM0-10472 & [\"flhD\", \"flhC\"] & - & $\\dots$ \\\\\n",
       "\t15 & TU00131 & PM00175 & [\"melB\", \"melA\"] & + & $\\dots$ \\\\\n",
       "\t16 & TU0-2644 & PM00401 & [\"micF\"] & + & $\\dots$ \\\\\n",
       "\t17 & TU0-42682 & PM0-46395 & [\"csqR\"] & + & $\\dots$ \\\\\n",
       "\t18 & TU0-3882 & PM00611 & [\"proP\"] & + & $\\dots$ \\\\\n",
       "\t19 & TU441 & PM541 & [\"fabF\", \"acpP\"] & + & $\\dots$ \\\\\n",
       "\t20 & TU0-42537 & PM541 & [\"acpP\"] & + & $\\dots$ \\\\\n",
       "\\end{tabular}\n"
      ],
      "text/plain": [
       "\u001b[1m20×8 DataFrame\u001b[0m\n",
       "\u001b[1m Row \u001b[0m│\u001b[1m TU_ID     \u001b[0m\u001b[1m promoter_ID \u001b[0m\u001b[1m genes                             \u001b[0m\u001b[1m direction \u001b[0m\u001b[1m g\u001b[0m ⋯\n",
       "\u001b[1m     \u001b[0m│\u001b[90m String    \u001b[0m\u001b[90m Any         \u001b[0m\u001b[90m Array…                            \u001b[0m\u001b[90m String    \u001b[0m\u001b[90m A\u001b[0m ⋯\n",
       "─────┼──────────────────────────────────────────────────────────────────────────\n",
       "   1 │ TU00431    PM00451      [\"uspA\"]                           +          [ ⋯\n",
       "   2 │ TU00474    PM00628      [\"glnB\"]                           -          [\n",
       "   3 │ TU523      PM623        [\"mazG\", \"mazE\", \"mazF\"]           -          [\n",
       "   4 │ TU0-13680  PM0-10103    [\"ffh\"]                            -          [\n",
       "   5 │ TU0-13351  PM0-10409    [\"blr\"]                            +          [ ⋯\n",
       "   6 │ TU0-14183  PM0-46064    [\"nanX\", \"nanY\"]                   +          [\n",
       "   7 │ TU0-42602  PM0-46356    [\"accA\"]                           +          [\n",
       "   8 │ TU0-36412  PM0-36157    [\"pcnB\", \"folK\"]                   -          [\n",
       "   9 │ TU783      PM924        [\"zraS\", \"zraR\"]                   +          [ ⋯\n",
       "  10 │ TU0-45265  PM0-46567    [\"appX\", \"appB\", \"appC\", \"appA\"]   +          [\n",
       "  11 │ TU0-7881   PM0-8261     [\"mdtC\", \"mdtB\", \"mdtD\", \"baeS\",…  +          [\n",
       "  12 │ TU0-12805  PM0-9592     [\"sgrR\", \"sroA\", \"thiQ\", \"thiB\",…  -          [\n",
       "  13 │ TU0-14559  PM0-9860     [\"yehX\", \"osmF\", \"yehY\", \"yehW\"]   -          [ ⋯\n",
       "  14 │ TU0-14785  PM0-10472    [\"flhD\", \"flhC\"]                   -          [\n",
       "  15 │ TU00131    PM00175      [\"melB\", \"melA\"]                   +          [\n",
       "  16 │ TU0-2644   PM00401      [\"micF\"]                           +          [\n",
       "  17 │ TU0-42682  PM0-46395    [\"csqR\"]                           +          [ ⋯\n",
       "  18 │ TU0-3882   PM00611      [\"proP\"]                           +          [\n",
       "  19 │ TU441      PM541        [\"fabF\", \"acpP\"]                   +          [\n",
       "  20 │ TU0-42537  PM541        [\"acpP\"]                           +          [\n",
       "\u001b[36m                                                               4 columns omitted\u001b[0m"
      ]
     },
     "metadata": {},
     "output_type": "display_data"
    }
   ],
   "source": [
    "# Join DataFrames\n",
    "df_joint = outerjoin(df_tu, df_tss, on = :promoter_ID) |> unique\n",
    "\n",
    "# Replace missing values\n",
    "df_joint.TU_ID = coalesce.(df_joint.TU_ID, \"None\")\n",
    "df_joint.genes = coalesce.(df_joint.genes, [[\"None\"]])\n",
    "df_joint.direction = coalesce.(df_joint.direction, \"0\")\n",
    "df_joint.tss = coalesce.(df_joint.tss, NaN)\n",
    "df_joint.evidence = coalesce.(df_joint.evidence, [[\"None\"]])\n",
    "display(first(df_joint, 20))"
   ]
  },
  {
   "cell_type": "code",
   "execution_count": 36,
   "id": "78a06294-d71b-4f1f-b4b2-038b57587656",
   "metadata": {},
   "outputs": [
    {
     "data": {
      "text/plain": [
       "\"../data/promoter_list_ecocyc.csv\""
      ]
     },
     "execution_count": 36,
     "metadata": {},
     "output_type": "execute_result"
    }
   ],
   "source": [
    "##\n",
    "gdf = groupby(df_joint, \"promoter_ID\")\n",
    "temp_df = DataFrame()\n",
    "for _df in gdf\n",
    "    ind = argmax(maximum(length.(_df.genes)))\n",
    "    append!(temp_df, _df[ind:ind, :])\n",
    "end\n",
    "df_joint = temp_df\n",
    "\n",
    "\n",
    "# Split DataFrame into promoters with TUs and without\n",
    "df_joint_prom = df_joint[(df_joint.direction .!= \"0\") .& (.~ isnan.(df_joint.tss)), :]\n",
    "CSV.write(\"../data/promoter_list_ecocyc.csv\", df_joint_prom[:, [\"promoter\", \"genes\", \"gene_position\", \"direction\", \"tss\", \"evidence\"]])"
   ]
  },
  {
   "cell_type": "markdown",
   "id": "9815985c-8869-4077-b9c6-e2808f0bee73",
   "metadata": {},
   "source": [
    "## RegulonDB"
   ]
  },
  {
   "cell_type": "markdown",
   "id": "c87efa9a-4a89-4fd3-8065-b8c78c4533e8",
   "metadata": {},
   "source": [
    "The files from RegulonDB are in `txt` format and can be imported as DataFrames. "
   ]
  },
  {
   "cell_type": "markdown",
   "id": "67bae6bf-3b75-45af-bfc3-18c5ff86e200",
   "metadata": {},
   "source": [
    "### Genes"
   ]
  },
  {
   "cell_type": "markdown",
   "id": "1b9614fc-4933-4ea6-8423-a78091417f06",
   "metadata": {},
   "source": [
    "First we import the database for genes. We have to do some slight modifications to the dataframe to remove a couple of artifacts."
   ]
  },
  {
   "cell_type": "code",
   "execution_count": 49,
   "id": "cbe29909-b5a9-4531-9449-9a41bf0d6145",
   "metadata": {},
   "outputs": [
    {
     "data": {
      "text/html": [
       "<div class=\"data-frame\"><p>5 rows × 13 columns (omitted printing of 7 columns)</p><table class=\"data-frame\"><thead><tr><th></th><th>GENE_ID</th><th>GENE_NAME</th><th>GENE_POSLEFT</th><th>GENE_POSRIGHT</th><th>GENE_STRAND</th><th>GENE_SEQUENCE</th></tr><tr><th></th><th title=\"String15\">String15</th><th title=\"Union{Missing, String31}\">String31?</th><th title=\"Union{Missing, Int64}\">Int64?</th><th title=\"Union{Missing, Int64}\">Int64?</th><th title=\"Union{Missing, String7}\">String7?</th><th title=\"Union{Missing, String}\">String?</th></tr></thead><tbody><tr><th>1</th><td>ECK120000001</td><td>alr</td><td>4265782</td><td>4266861</td><td>forward</td><td>ATGCAAGCGGCAACTGTTGTGATTAACCGCCGCGCTCTGCGACACAACCTGCAACGTCTTCGTGAACTGGCCCCTGCCAGTAAAATGGTTGCGGTGGTGAAAGCGAACGCTTATGGTCACGGTCTTCTTGAGACCGCGCGAACGCTCCCCGATGCTGACGCCTTTGGCGTAGCCCGTCTCGAAGAAGCTCTGCGACTGCGTGCGGGGGGAATCACCAAACCTGTACTGTTACTCGAAGGCTTTTTTGATGCCAGAGATCTGCCGACGATTTCTGCGCAACATTTTCATACCGCCGTGCATAACGAAGAACAGCTGGCTGCGCTGGAAGAGGCTAGCCTGGACGAGCCGGTTACCGTCTGGATGAAACTCGATACCGGTATGCACCGTCTGGGCGTAAGGCCGGAACAGGCTGAGGCGTTTTATCATCGCCTGACCCAGTGCAAAAACGTTCGTCAGCCGGTGAATATCGTCAGCCATTTTGCGCGCGCGGATGAACCAAAATGTGGCGCAACCGAGAAACAACTCGCTATCTTTAATACCTTTTGCGAAGGCAAACCTGGTCAACGTTCCATTGCCGCGTCGGGTGGCATTCTGCTGTGGCCACAGTCGCATTTTGACTGGGTGCGCCCGGGCATCATTCTTTATGGCGTCTCGCCGCTGGAAGATCGCTCCACCGGTGCCGATTTTGGCTGTCAGCCAGTGATGTCACTAACCTCCAGCCTGATTGCCGTGCGTGAGCATAAAGCCGGAGAGCCTGTTGGTTATGGTGGAACCTGGGTAAGCGAACGTGATACCCGTCTTGGCGTAGTCGCGATGGGCTATGGCGATGGTTATCCGCGCGCCGCGCCGTCCGGTACGCCAGTGCTGGTGAACGGTCGCGAAGTACCGATTGTCGGGCGCGTGGCGATGGATATGATCTGCGTAGACTTAGGTCCACAGGCGCAGGACAAAGCCGGGGATCCGGTCATTTTATGGGGCGAAGGTTTGCCCGTAGAACGTATCGCTGAAATGACGAAAGTAAGCGCTTACGAACTTATTACGCGCCTGACTTCAAGGGTCGCGATGAAATACGTGGATTAA</td></tr><tr><th>2</th><td>ECK120000002</td><td>modB</td><td>795862</td><td>796551</td><td>forward</td><td>ATGATACTGACCGATCCAGAATGGCAGGCAGTTTTATTAAGCCTGAAAGTTTCTTCCCTGGCTGTGCTGTTTAGCCTGCCGTTTGGGATCTTTTTTGCCTGGTTACTGGTGCGTTGCACGTTTCCGGGCAAAGCTCTGCTCGACAGCGTACTGCATCTACCGCTGGTGTTACCGCCCGTGGTCGTCGGTTACTTATTATTAGTTTCGATGGGACGGCGCGGATTTATCGGTGAACGTCTGTATGACTGGTTTGGTATTACCTTCGCCTTTAGCTGGCGCGGCGCGGTTCTCGCTGCCGCCGTCATGTCGTTTCCGCTGATGGTGCGGGCAATTCGTCTGGCGCTGGAAGGGGTTGATGTCAAACTGGAACAGGCCGCAAGAACACTGGGGGCCGGGCGCTGGCGCGTTTTCTTTACTATCACGTTACCGCTGACCTTACCGGGAATTATTGTTGGTACGGTACTGGCTTTTGCTCGTTCTCTCGGTGAGTTTGGTGCAACCATCACCTTTGTGTCGAACATTCCTGGTGAAACGCGAACCATTCCTTCTGCCATGTATACCCTGATCCAGACCCCCGGCGGGGAAAGTGGAGCGGCGAGACTGTGCATTATTTCTATTGCGCTGGCGATGATCTCCCTGTTGATTTCAGAATGGCTGGCCAGAATCAGCCGTGAACGGGCGGGGCGCTAA</td></tr><tr><th>3</th><td>ECK120000003</td><td>cysZ</td><td>2531463</td><td>2532224</td><td>forward</td><td>ATGGTTTCATCATTCACATCTGCCCCACGCAGCGGTTTTTACTATTTTGCGCAAGGCTGGAAGCTCGTCTCGCAACCTGGGATTCGGCGTTTCGTTATTTTACCGCTGCTGGTCAATATTTTGTTGATGGGGGGCGCATTCTGGTGGCTCTTTACACAGCTCGATGTCTGGATCCCGACTCTCATGAGTTACGTTCCGGACTGGCTACAATGGCTGAGTTATCTGTTGTGGCCTCTGGCTGTCATCTCTGTGCTGTTAGTGTTTGGCTATTTCTTCTCCACGATTGCTAACTGGATTGCCGCTCCGTTTAACGGTTTATTGGCTGAACAACTGGAAGCACGATTGACTGGCGCTACACCGCCAGATACCGGGATTTTCGGTATCATGAAAGATGTGCCGCGAATCATGAAACGCGAATGGCAAAAATTTGCCTGGTATCTGCCGCGCGCAATTGTATTACTAATTCTTTACTTCATCCCTGGTATTGGGCAAACCGTCGCGCCGGTACTGTGGTTCCTGTTTAGCGCCTGGATGTTAGCCATCCAGTATTGCGATTACCCCTTCGATAACCACAAAGTGCCGTTTAAAGAGATGCGCACCGCCCTGCGCACACGCAAAATCACCAATATGCAGTTTGGTGCTTTAACCAGCCTGTTTACGATGATCCCGCTGCTTAATCTGTTCATCATGCCCGTTGCCGTTTGTGGCGCGACGGCGATGTGGGTCGATTGCTATCGCGATAAACACGCGATGTGGCGGTAA</td></tr><tr><th>4</th><td>ECK120000004</td><td>dfp</td><td>3812731</td><td>3813951</td><td>forward</td><td>ATGAGCCTGGCCGGTAAAAAAATCGTTCTCGGCGTTAGCGGCGGTATTGCTGCCTATAAAACCCCTGAACTGGTGCGTCGTTTGCGCGATCGCGGGGCCGACGTCCGCGTAGCCATGACCGAAGCGGCAAAAGCCTTTATCACCCCACTTAGCTTGCAGGCGGTTTCTGGTTATCCCGTTTCCGACAGTCTGCTGGACCCGGCAGCCGAAGCCGCTATGGGCCATATTGAGCTGGGTAAATGGGCTGATTTAGTGATTCTCGCCCCTGCCACGGCAGATTTGATTGCCCGTGTTGCTGCCGGAATGGCGAATGACCTGGTATCGACGATTTGTCTGGCTACACCTGCGCCTGTAGCCGTGCTCCCCGCCATGAACCAGCAGATGTACCGTGCCGCTGCCACGCAGCATAATTTAGAGGTGCTTGCTTCCCGTGGTTTGCTCATCTGGGGGCCAGACAGTGGCAGTCAGGCTTGTGGTGATATCGGTCCTGGGCGAATGCTCGATCCGTTAACCATTGTGGATATGGCGGTAGCGCATTTTTCGCCCGTCAACGACCTGAAACATCTGAACATTATGATTACCGCCGGCCCGACGCGTGAACCGCTCGATCCGGTGCGTTATATCTCTAATCACAGCTCCGGCAAGATGGGTTTTGCTATCGCCGCCGCCGCTGCCCGTCGTGGCGCGAACGTCACGCTGGTATCAGGTCCGGTTTCACTACCGACGCCACCGTTTGTTAAACGTGTTGATGTGATGACCGCGCTGGAAATGGAAGCCGCCGTGAATGCTTCTGTACAGCAGCAAAATATTTTTATCGGCTGCGCCGCCGTGGCGGATTATCGCGCAGCTACCGTGGCCCCAGAGAAAATCAAAAAGCAGGCCACGCAGGGTGATGAATTAACAATAAAAATGGTTAAAAACCCCGATATCGTCGCAGGCGTTGCCGCACTAAAAGACCATCGACCCTACGTCGTTGGATTTGCCGCCGAAACAAATAATGTGGAAGAATACGCCCGGCAAAAACGTATCCGTAAAAACCTTGATCTGATCTGCGCGAACGATGTTTCCCAGCCAACTCAAGGATTTAACAGCGACAACAACGCATTACACCTTTTCTGGCAGGACGGAGATAAAGTCTTACCGCTTGAGCGCAAAGAGCTCCTTGGCCAATTATTACTCGACGAGATCGTGACCCGTTATGATGAAAAAAATCGACGTTAA</td></tr><tr><th>5</th><td>ECK120000005</td><td>dcuB</td><td>4347404</td><td>4348744</td><td>reverse</td><td>ATGTTATTTACTATCCAACTTATCATAATACTGATATGTCTGTTTTATGGTGCCAGAAAGGGTGGTATCGCGCTGGGTTTATTAGGCGGTATCGGTCTGGTCATTCTGGTCTTCGTCTTCCACCTTCAGCCAGGTAAACCACCAGTTGATGTCATGCTGGTTATCATTGCGGTGGTGGCGGCATCGGCGACCTTGCAAGCTTCGGGCGGTCTTGATGTCATGCTGCAAATTGCCGAGAAGCTGCTGCGCCGCAACCCGAAATATGTCTCAATTGTCGCGCCGTTTGTGACCTGTACACTGACCATTCTTTGCGGTACGGGTCATGTGGTTTACACCATTCTGCCGATCATCTACGACGTCGCCATTAAGAACAACATCCGTCCGGAACGTCCGATGGCGGCAAGTTCTATCGGTGCACAGATGGGGATTATCGCCAGTCCGGTGTCGGTTGCGGTCGTGTCTCTGGTTGCGATGCTGGGTAATGTCACCTTTGATGGTCGCCATCTTGAGTTCCTCGATCTGCTGGCAATCACCATTCCATCGACGTTAATCGGTATCCTGGCGATCGGTATCTTCAGCTGGTTCCGCGGTAAAGATCTGGATAAAGACGAAGAGTTCCAGAAATTCATCTCCGTACCGGAAAACCGTGAGTATGTTTACGGTGATACCGCGACGCTGCTGGATAAAAAACTGCCGAAAAGCAACTGGCTGGCAATGTGGATTTTCCTCGGGGCAATCGCTGTAGTCGCCCTTCTTGGTGCTGATTCGGACCTGCGTCCATCCTTCGGCGGCAAACCGCTGTCGATGGTACTGGTTATTCAGATGTTTATGCTGCTGACCGGGGCGCTGATTATTATCCTGACCAAAACCAATCCCGCGTCTATCTCAAAAAACGAAGTCTTCCGTTCCGGTATGATCGCCATCGTGGCGGTGTACGGTATCGCATGGATGGCAGAAACCATGTTCGGTGCGCATATGTCTGAAATTCAGGGCGTACTGGGTGAAATGGTGAAAGAGTATCCGTGGGCCTATGCCATTGTTCTGCTGCTGGTTTCCAAGTTTGTAAACTCTCAGGCTGCGGCGCTGGCGGCGATTGTTCCGGTCGCGCTGGCGATCGGCGTTGATCCGGCATACATCGTGGCTTCAGCACCGGCTTGCTACGGTTATTACATCCTGCCGACTTATCCGAGCGATCTGGCAGCGATTCAGTTTGACCGTTCCGGCACCACCCACATCGGTCGCTTCGTCATCAACCACAGCTTTATTCTGCCGGGGTTGATTGGTGTGAGCGTATCGTGCGTCTTCGGCTGGATCTTCGCCGCGATGTACGGGTTCTTATAA</td></tr></tbody></table></div>"
      ],
      "text/latex": [
       "\\begin{tabular}{r|ccccccc}\n",
       "\t& GENE\\_ID & GENE\\_NAME & GENE\\_POSLEFT & GENE\\_POSRIGHT & GENE\\_STRAND & GENE\\_SEQUENCE & \\\\\n",
       "\t\\hline\n",
       "\t& String15 & String31? & Int64? & Int64? & String7? & String? & \\\\\n",
       "\t\\hline\n",
       "\t1 & ECK120000001 & alr & 4265782 & 4266861 & forward & ATGCAAGCGGCAACTGTTGTGATTAACCGCCGCGCTCTGCGACACAACCTGCAACGTCTTCGTGAACTGGCCCCTGCCAGTAAAATGGTTGCGGTGGTGAAAGCGAACGCTTATGGTCACGGTCTTCTTGAGACCGCGCGAACGCTCCCCGATGCTGACGCCTTTGGCGTAGCCCGTCTCGAAGAAGCTCTGCGACTGCGTGCGGGGGGAATCACCAAACCTGTACTGTTACTCGAAGGCTTTTTTGATGCCAGAGATCTGCCGACGATTTCTGCGCAACATTTTCATACCGCCGTGCATAACGAAGAACAGCTGGCTGCGCTGGAAGAGGCTAGCCTGGACGAGCCGGTTACCGTCTGGATGAAACTCGATACCGGTATGCACCGTCTGGGCGTAAGGCCGGAACAGGCTGAGGCGTTTTATCATCGCCTGACCCAGTGCAAAAACGTTCGTCAGCCGGTGAATATCGTCAGCCATTTTGCGCGCGCGGATGAACCAAAATGTGGCGCAACCGAGAAACAACTCGCTATCTTTAATACCTTTTGCGAAGGCAAACCTGGTCAACGTTCCATTGCCGCGTCGGGTGGCATTCTGCTGTGGCCACAGTCGCATTTTGACTGGGTGCGCCCGGGCATCATTCTTTATGGCGTCTCGCCGCTGGAAGATCGCTCCACCGGTGCCGATTTTGGCTGTCAGCCAGTGATGTCACTAACCTCCAGCCTGATTGCCGTGCGTGAGCATAAAGCCGGAGAGCCTGTTGGTTATGGTGGAACCTGGGTAAGCGAACGTGATACCCGTCTTGGCGTAGTCGCGATGGGCTATGGCGATGGTTATCCGCGCGCCGCGCCGTCCGGTACGCCAGTGCTGGTGAACGGTCGCGAAGTACCGATTGTCGGGCGCGTGGCGATGGATATGATCTGCGTAGACTTAGGTCCACAGGCGCAGGACAAAGCCGGGGATCCGGTCATTTTATGGGGCGAAGGTTTGCCCGTAGAACGTATCGCTGAAATGACGAAAGTAAGCGCTTACGAACTTATTACGCGCCTGACTTCAAGGGTCGCGATGAAATACGTGGATTAA & $\\dots$ \\\\\n",
       "\t2 & ECK120000002 & modB & 795862 & 796551 & forward & ATGATACTGACCGATCCAGAATGGCAGGCAGTTTTATTAAGCCTGAAAGTTTCTTCCCTGGCTGTGCTGTTTAGCCTGCCGTTTGGGATCTTTTTTGCCTGGTTACTGGTGCGTTGCACGTTTCCGGGCAAAGCTCTGCTCGACAGCGTACTGCATCTACCGCTGGTGTTACCGCCCGTGGTCGTCGGTTACTTATTATTAGTTTCGATGGGACGGCGCGGATTTATCGGTGAACGTCTGTATGACTGGTTTGGTATTACCTTCGCCTTTAGCTGGCGCGGCGCGGTTCTCGCTGCCGCCGTCATGTCGTTTCCGCTGATGGTGCGGGCAATTCGTCTGGCGCTGGAAGGGGTTGATGTCAAACTGGAACAGGCCGCAAGAACACTGGGGGCCGGGCGCTGGCGCGTTTTCTTTACTATCACGTTACCGCTGACCTTACCGGGAATTATTGTTGGTACGGTACTGGCTTTTGCTCGTTCTCTCGGTGAGTTTGGTGCAACCATCACCTTTGTGTCGAACATTCCTGGTGAAACGCGAACCATTCCTTCTGCCATGTATACCCTGATCCAGACCCCCGGCGGGGAAAGTGGAGCGGCGAGACTGTGCATTATTTCTATTGCGCTGGCGATGATCTCCCTGTTGATTTCAGAATGGCTGGCCAGAATCAGCCGTGAACGGGCGGGGCGCTAA & $\\dots$ \\\\\n",
       "\t3 & ECK120000003 & cysZ & 2531463 & 2532224 & forward & ATGGTTTCATCATTCACATCTGCCCCACGCAGCGGTTTTTACTATTTTGCGCAAGGCTGGAAGCTCGTCTCGCAACCTGGGATTCGGCGTTTCGTTATTTTACCGCTGCTGGTCAATATTTTGTTGATGGGGGGCGCATTCTGGTGGCTCTTTACACAGCTCGATGTCTGGATCCCGACTCTCATGAGTTACGTTCCGGACTGGCTACAATGGCTGAGTTATCTGTTGTGGCCTCTGGCTGTCATCTCTGTGCTGTTAGTGTTTGGCTATTTCTTCTCCACGATTGCTAACTGGATTGCCGCTCCGTTTAACGGTTTATTGGCTGAACAACTGGAAGCACGATTGACTGGCGCTACACCGCCAGATACCGGGATTTTCGGTATCATGAAAGATGTGCCGCGAATCATGAAACGCGAATGGCAAAAATTTGCCTGGTATCTGCCGCGCGCAATTGTATTACTAATTCTTTACTTCATCCCTGGTATTGGGCAAACCGTCGCGCCGGTACTGTGGTTCCTGTTTAGCGCCTGGATGTTAGCCATCCAGTATTGCGATTACCCCTTCGATAACCACAAAGTGCCGTTTAAAGAGATGCGCACCGCCCTGCGCACACGCAAAATCACCAATATGCAGTTTGGTGCTTTAACCAGCCTGTTTACGATGATCCCGCTGCTTAATCTGTTCATCATGCCCGTTGCCGTTTGTGGCGCGACGGCGATGTGGGTCGATTGCTATCGCGATAAACACGCGATGTGGCGGTAA & $\\dots$ \\\\\n",
       "\t4 & ECK120000004 & dfp & 3812731 & 3813951 & forward & ATGAGCCTGGCCGGTAAAAAAATCGTTCTCGGCGTTAGCGGCGGTATTGCTGCCTATAAAACCCCTGAACTGGTGCGTCGTTTGCGCGATCGCGGGGCCGACGTCCGCGTAGCCATGACCGAAGCGGCAAAAGCCTTTATCACCCCACTTAGCTTGCAGGCGGTTTCTGGTTATCCCGTTTCCGACAGTCTGCTGGACCCGGCAGCCGAAGCCGCTATGGGCCATATTGAGCTGGGTAAATGGGCTGATTTAGTGATTCTCGCCCCTGCCACGGCAGATTTGATTGCCCGTGTTGCTGCCGGAATGGCGAATGACCTGGTATCGACGATTTGTCTGGCTACACCTGCGCCTGTAGCCGTGCTCCCCGCCATGAACCAGCAGATGTACCGTGCCGCTGCCACGCAGCATAATTTAGAGGTGCTTGCTTCCCGTGGTTTGCTCATCTGGGGGCCAGACAGTGGCAGTCAGGCTTGTGGTGATATCGGTCCTGGGCGAATGCTCGATCCGTTAACCATTGTGGATATGGCGGTAGCGCATTTTTCGCCCGTCAACGACCTGAAACATCTGAACATTATGATTACCGCCGGCCCGACGCGTGAACCGCTCGATCCGGTGCGTTATATCTCTAATCACAGCTCCGGCAAGATGGGTTTTGCTATCGCCGCCGCCGCTGCCCGTCGTGGCGCGAACGTCACGCTGGTATCAGGTCCGGTTTCACTACCGACGCCACCGTTTGTTAAACGTGTTGATGTGATGACCGCGCTGGAAATGGAAGCCGCCGTGAATGCTTCTGTACAGCAGCAAAATATTTTTATCGGCTGCGCCGCCGTGGCGGATTATCGCGCAGCTACCGTGGCCCCAGAGAAAATCAAAAAGCAGGCCACGCAGGGTGATGAATTAACAATAAAAATGGTTAAAAACCCCGATATCGTCGCAGGCGTTGCCGCACTAAAAGACCATCGACCCTACGTCGTTGGATTTGCCGCCGAAACAAATAATGTGGAAGAATACGCCCGGCAAAAACGTATCCGTAAAAACCTTGATCTGATCTGCGCGAACGATGTTTCCCAGCCAACTCAAGGATTTAACAGCGACAACAACGCATTACACCTTTTCTGGCAGGACGGAGATAAAGTCTTACCGCTTGAGCGCAAAGAGCTCCTTGGCCAATTATTACTCGACGAGATCGTGACCCGTTATGATGAAAAAAATCGACGTTAA & $\\dots$ \\\\\n",
       "\t5 & ECK120000005 & dcuB & 4347404 & 4348744 & reverse & ATGTTATTTACTATCCAACTTATCATAATACTGATATGTCTGTTTTATGGTGCCAGAAAGGGTGGTATCGCGCTGGGTTTATTAGGCGGTATCGGTCTGGTCATTCTGGTCTTCGTCTTCCACCTTCAGCCAGGTAAACCACCAGTTGATGTCATGCTGGTTATCATTGCGGTGGTGGCGGCATCGGCGACCTTGCAAGCTTCGGGCGGTCTTGATGTCATGCTGCAAATTGCCGAGAAGCTGCTGCGCCGCAACCCGAAATATGTCTCAATTGTCGCGCCGTTTGTGACCTGTACACTGACCATTCTTTGCGGTACGGGTCATGTGGTTTACACCATTCTGCCGATCATCTACGACGTCGCCATTAAGAACAACATCCGTCCGGAACGTCCGATGGCGGCAAGTTCTATCGGTGCACAGATGGGGATTATCGCCAGTCCGGTGTCGGTTGCGGTCGTGTCTCTGGTTGCGATGCTGGGTAATGTCACCTTTGATGGTCGCCATCTTGAGTTCCTCGATCTGCTGGCAATCACCATTCCATCGACGTTAATCGGTATCCTGGCGATCGGTATCTTCAGCTGGTTCCGCGGTAAAGATCTGGATAAAGACGAAGAGTTCCAGAAATTCATCTCCGTACCGGAAAACCGTGAGTATGTTTACGGTGATACCGCGACGCTGCTGGATAAAAAACTGCCGAAAAGCAACTGGCTGGCAATGTGGATTTTCCTCGGGGCAATCGCTGTAGTCGCCCTTCTTGGTGCTGATTCGGACCTGCGTCCATCCTTCGGCGGCAAACCGCTGTCGATGGTACTGGTTATTCAGATGTTTATGCTGCTGACCGGGGCGCTGATTATTATCCTGACCAAAACCAATCCCGCGTCTATCTCAAAAAACGAAGTCTTCCGTTCCGGTATGATCGCCATCGTGGCGGTGTACGGTATCGCATGGATGGCAGAAACCATGTTCGGTGCGCATATGTCTGAAATTCAGGGCGTACTGGGTGAAATGGTGAAAGAGTATCCGTGGGCCTATGCCATTGTTCTGCTGCTGGTTTCCAAGTTTGTAAACTCTCAGGCTGCGGCGCTGGCGGCGATTGTTCCGGTCGCGCTGGCGATCGGCGTTGATCCGGCATACATCGTGGCTTCAGCACCGGCTTGCTACGGTTATTACATCCTGCCGACTTATCCGAGCGATCTGGCAGCGATTCAGTTTGACCGTTCCGGCACCACCCACATCGGTCGCTTCGTCATCAACCACAGCTTTATTCTGCCGGGGTTGATTGGTGTGAGCGTATCGTGCGTCTTCGGCTGGATCTTCGCCGCGATGTACGGGTTCTTATAA & $\\dots$ \\\\\n",
       "\\end{tabular}\n"
      ],
      "text/plain": [
       "\u001b[1m5×13 DataFrame\u001b[0m\n",
       "\u001b[1m Row \u001b[0m│\u001b[1m GENE_ID      \u001b[0m\u001b[1m GENE_NAME \u001b[0m\u001b[1m GENE_POSLEFT \u001b[0m\u001b[1m GENE_POSRIGHT \u001b[0m\u001b[1m GENE_STRAND \u001b[0m\u001b[1m GENE\u001b[0m ⋯\n",
       "\u001b[1m     \u001b[0m│\u001b[90m String15     \u001b[0m\u001b[90m String31? \u001b[0m\u001b[90m Int64?       \u001b[0m\u001b[90m Int64?        \u001b[0m\u001b[90m String7?    \u001b[0m\u001b[90m Stri\u001b[0m ⋯\n",
       "─────┼──────────────────────────────────────────────────────────────────────────\n",
       "   1 │ ECK120000001  alr             4265782        4266861  forward      ATGC ⋯\n",
       "   2 │ ECK120000002  modB             795862         796551  forward      ATGA\n",
       "   3 │ ECK120000003  cysZ            2531463        2532224  forward      ATGG\n",
       "   4 │ ECK120000004  dfp             3812731        3813951  forward      ATGA\n",
       "   5 │ ECK120000005  dcuB            4347404        4348744  reverse      ATGT ⋯\n",
       "\u001b[36m                                                               8 columns omitted\u001b[0m"
      ]
     },
     "execution_count": 49,
     "metadata": {},
     "output_type": "execute_result"
    }
   ],
   "source": [
    "# Import DataFrame\n",
    "df_DB_genes = CSV.read(\n",
    "    \"../data/regulonDB/gene.txt\", \n",
    "    DataFrames.DataFrame, \n",
    "    comment=\"#\",\n",
    "    header=[\n",
    "        \"GENE_ID\",\n",
    "        \"GENE_NAME\",\n",
    "        \"GENE_POSLEFT\",\n",
    "        \"GENE_POSRIGHT\",\n",
    "        \"GENE_STRAND\",\n",
    "        \"GENE_SEQUENCE\",\n",
    "        \"GC_CONTENT\",\n",
    "        \"CRI_SCORE\",\n",
    "        \"GENE_NOTE\",\n",
    "        \"GENE_INTERNAL_COMMENT\",\n",
    "        \"KEY_ID_ORG\",\n",
    "        \"GENE_TYPE\",\n",
    "    ]\n",
    ")\n",
    "\n",
    "\n",
    "# Remove import artifacts\n",
    "df_DB_genes = df_DB_genes[.~ ismissing.(df_DB_genes.GENE_NAME), :]\n",
    "\n",
    "\n",
    "# Gene Strand information is missing for some genes, turns out those are split by transposons\n",
    "df_trans = df_DB_genes[ismissing.(df_DB_genes.GENE_STRAND), :]\n",
    "df_DB_genes = df_DB_genes[.~ ismissing.(df_DB_genes.GENE_STRAND), :]\n",
    "\n",
    "# Record position of gene in genome\n",
    "gene_pos = []\n",
    "for i in 1:nrow(df_DB_genes)\n",
    "    if df_DB_genes[i, \"GENE_STRAND\"] == \"forward\"\n",
    "        push!(gene_pos, df_DB_genes[i, \"GENE_POSLEFT\"])\n",
    "    else\n",
    "        push!(gene_pos, df_DB_genes[i, \"GENE_POSRIGHT\"])\n",
    "    end\n",
    "end\n",
    "\n",
    "# Add gene location to dataframe\n",
    "insertcols!(df_DB_genes, 13, :gene_position => gene_pos)\n",
    "\n",
    "# Print first 5 rows\n",
    "first(df_DB_genes, 5)"
   ]
  },
  {
   "cell_type": "markdown",
   "id": "cff4fed2-4f78-4072-baaf-9ad17dbfd4ec",
   "metadata": {
    "tags": []
   },
   "source": [
    "### Transcription Units"
   ]
  },
  {
   "cell_type": "markdown",
   "id": "97510145-3219-4e89-9e7b-ef66ecc7747c",
   "metadata": {},
   "source": [
    "Same procedure for the transcription units."
   ]
  },
  {
   "cell_type": "code",
   "execution_count": 52,
   "id": "28d9352a-4837-434f-bb6b-49550d1a87fb",
   "metadata": {},
   "outputs": [
    {
     "data": {
      "text/html": [
       "<div class=\"data-frame\"><p>2,357 rows × 7 columns (omitted printing of 3 columns)</p><table class=\"data-frame\"><thead><tr><th></th><th>TRANSCRIPTION_UNIT_ID</th><th>PROMOTER_ID</th><th>TRANSCRIPTION_UNIT_NAME</th><th>OPERON_ID</th></tr><tr><th></th><th title=\"String\">String</th><th title=\"String\">String</th><th title=\"Union{Missing, String}\">String?</th><th title=\"Union{Missing, String15}\">String15?</th></tr></thead><tbody><tr><th>1</th><td>ECK120008913</td><td>ECK120009851</td><td>astCADBE</td><td>ECK120014360</td></tr><tr><th>2</th><td>ECK120008914</td><td>ECK120009852</td><td>astCADBE</td><td>ECK120014360</td></tr><tr><th>3</th><td>ECK120008915</td><td>ECK120009853</td><td>astCADBE</td><td>ECK120014360</td></tr><tr><th>4</th><td>ECK120008916</td><td>ECK120009855</td><td>nrdHIEF</td><td>ECK120014362</td></tr><tr><th>5</th><td>ECK120008917</td><td>ECK120010879</td><td>cpxPQ</td><td>ECK125242769</td></tr><tr><th>6</th><td>ECK120008918</td><td>ECK120009856</td><td>srkA-dsbA</td><td>ECK125272742</td></tr><tr><th>7</th><td>ECK120008919</td><td>ECK120009857</td><td>dsbA</td><td>ECK125272742</td></tr><tr><th>8</th><td>ECK120008921</td><td>ECK120009858</td><td>dmsABC</td><td>ECK120014367</td></tr><tr><th>9</th><td>ECK120008922</td><td>ECK120009860</td><td>moaABCDE</td><td>ECK120014368</td></tr><tr><th>10</th><td>ECK120008923</td><td>ECK120009861</td><td>ptsG</td><td>ECK120014369</td></tr><tr><th>11</th><td>ECK120008924</td><td>ECK120009862</td><td>ptsG</td><td>ECK120014369</td></tr><tr><th>12</th><td>ECK120008925</td><td>ECK120009863</td><td>grcA</td><td>ECK125147434</td></tr><tr><th>13</th><td>ECK120008926</td><td>ECK120010880</td><td>ldcC</td><td>ECK120014371</td></tr><tr><th>14</th><td>ECK120008927</td><td>ECK120009864</td><td>rrsA-ileT-alaT-rrlA-rrfA</td><td>ECK120023948</td></tr><tr><th>15</th><td>ECK120008928</td><td>ECK120010458</td><td>rrsB-gltT-rrlB-rrfB</td><td>ECK120023947</td></tr><tr><th>16</th><td>ECK120008929</td><td>ECK120009865</td><td>rrsC-gltU-rrlC-rrfC</td><td>ECK120023946</td></tr><tr><th>17</th><td>ECK120008930</td><td>ECK120009866</td><td>rrsC-gltU-rrlC-rrfC</td><td>ECK120023946</td></tr><tr><th>18</th><td>ECK120008931</td><td>ECK120009867</td><td>rrsE-gltV-rrlE-rrfE</td><td>ECK120023945</td></tr><tr><th>19</th><td>ECK120008932</td><td>ECK120009868</td><td>rrsG-gltW-rrlG-rrfG</td><td>ECK120023957</td></tr><tr><th>20</th><td>ECK120008933</td><td>ECK120009869</td><td>rrsG-gltW-rrlG-rrfG</td><td>ECK120023957</td></tr><tr><th>21</th><td>ECK120008934</td><td>ECK120009870</td><td>rrsH-ileV-alaV-rrlH-rrfH</td><td>ECK120023956</td></tr><tr><th>22</th><td>ECK120008935</td><td>ECK120009871</td><td>rrsH-ileV-alaV-rrlH-rrfH</td><td>ECK120023956</td></tr><tr><th>23</th><td>ECK120008936</td><td>ECK120009872</td><td>rrsD-ileU-alaU-rrlD-rrfD-thrV-rrfF</td><td>ECK120023955</td></tr><tr><th>24</th><td>ECK120008937</td><td>ECK120009873</td><td>rrsD-ileU-alaU-rrlD-rrfD-thrV-rrfF</td><td>ECK120023955</td></tr><tr><th>25</th><td>ECK120008938</td><td>ECK120010409</td><td>dnaN-recF</td><td>ECK120014379</td></tr><tr><th>26</th><td>ECK120008939</td><td>ECK120010408</td><td>dnaN-recF</td><td>ECK120014379</td></tr><tr><th>27</th><td>ECK120008940</td><td>ECK120010407</td><td>dnaN-recF</td><td>ECK120014379</td></tr><tr><th>28</th><td>ECK120008941</td><td>ECK120010406</td><td>dnaN-recF</td><td>ECK120014379</td></tr><tr><th>29</th><td>ECK120008942</td><td>ECK120010334</td><td>gdhA</td><td>ECK120014381</td></tr><tr><th>30</th><td>ECK120008943</td><td>ECK120009876</td><td>sugE</td><td>ECK125285829</td></tr><tr><th>&vellip;</th><td>&vellip;</td><td>&vellip;</td><td>&vellip;</td><td>&vellip;</td></tr></tbody></table></div>"
      ],
      "text/latex": [
       "\\begin{tabular}{r|ccccc}\n",
       "\t& TRANSCRIPTION\\_UNIT\\_ID & PROMOTER\\_ID & TRANSCRIPTION\\_UNIT\\_NAME & OPERON\\_ID & \\\\\n",
       "\t\\hline\n",
       "\t& String & String & String? & String15? & \\\\\n",
       "\t\\hline\n",
       "\t1 & ECK120008913 & ECK120009851 & astCADBE & ECK120014360 & $\\dots$ \\\\\n",
       "\t2 & ECK120008914 & ECK120009852 & astCADBE & ECK120014360 & $\\dots$ \\\\\n",
       "\t3 & ECK120008915 & ECK120009853 & astCADBE & ECK120014360 & $\\dots$ \\\\\n",
       "\t4 & ECK120008916 & ECK120009855 & nrdHIEF & ECK120014362 & $\\dots$ \\\\\n",
       "\t5 & ECK120008917 & ECK120010879 & cpxPQ & ECK125242769 & $\\dots$ \\\\\n",
       "\t6 & ECK120008918 & ECK120009856 & srkA-dsbA & ECK125272742 & $\\dots$ \\\\\n",
       "\t7 & ECK120008919 & ECK120009857 & dsbA & ECK125272742 & $\\dots$ \\\\\n",
       "\t8 & ECK120008921 & ECK120009858 & dmsABC & ECK120014367 & $\\dots$ \\\\\n",
       "\t9 & ECK120008922 & ECK120009860 & moaABCDE & ECK120014368 & $\\dots$ \\\\\n",
       "\t10 & ECK120008923 & ECK120009861 & ptsG & ECK120014369 & $\\dots$ \\\\\n",
       "\t11 & ECK120008924 & ECK120009862 & ptsG & ECK120014369 & $\\dots$ \\\\\n",
       "\t12 & ECK120008925 & ECK120009863 & grcA & ECK125147434 & $\\dots$ \\\\\n",
       "\t13 & ECK120008926 & ECK120010880 & ldcC & ECK120014371 & $\\dots$ \\\\\n",
       "\t14 & ECK120008927 & ECK120009864 & rrsA-ileT-alaT-rrlA-rrfA & ECK120023948 & $\\dots$ \\\\\n",
       "\t15 & ECK120008928 & ECK120010458 & rrsB-gltT-rrlB-rrfB & ECK120023947 & $\\dots$ \\\\\n",
       "\t16 & ECK120008929 & ECK120009865 & rrsC-gltU-rrlC-rrfC & ECK120023946 & $\\dots$ \\\\\n",
       "\t17 & ECK120008930 & ECK120009866 & rrsC-gltU-rrlC-rrfC & ECK120023946 & $\\dots$ \\\\\n",
       "\t18 & ECK120008931 & ECK120009867 & rrsE-gltV-rrlE-rrfE & ECK120023945 & $\\dots$ \\\\\n",
       "\t19 & ECK120008932 & ECK120009868 & rrsG-gltW-rrlG-rrfG & ECK120023957 & $\\dots$ \\\\\n",
       "\t20 & ECK120008933 & ECK120009869 & rrsG-gltW-rrlG-rrfG & ECK120023957 & $\\dots$ \\\\\n",
       "\t21 & ECK120008934 & ECK120009870 & rrsH-ileV-alaV-rrlH-rrfH & ECK120023956 & $\\dots$ \\\\\n",
       "\t22 & ECK120008935 & ECK120009871 & rrsH-ileV-alaV-rrlH-rrfH & ECK120023956 & $\\dots$ \\\\\n",
       "\t23 & ECK120008936 & ECK120009872 & rrsD-ileU-alaU-rrlD-rrfD-thrV-rrfF & ECK120023955 & $\\dots$ \\\\\n",
       "\t24 & ECK120008937 & ECK120009873 & rrsD-ileU-alaU-rrlD-rrfD-thrV-rrfF & ECK120023955 & $\\dots$ \\\\\n",
       "\t25 & ECK120008938 & ECK120010409 & dnaN-recF & ECK120014379 & $\\dots$ \\\\\n",
       "\t26 & ECK120008939 & ECK120010408 & dnaN-recF & ECK120014379 & $\\dots$ \\\\\n",
       "\t27 & ECK120008940 & ECK120010407 & dnaN-recF & ECK120014379 & $\\dots$ \\\\\n",
       "\t28 & ECK120008941 & ECK120010406 & dnaN-recF & ECK120014379 & $\\dots$ \\\\\n",
       "\t29 & ECK120008942 & ECK120010334 & gdhA & ECK120014381 & $\\dots$ \\\\\n",
       "\t30 & ECK120008943 & ECK120009876 & sugE & ECK125285829 & $\\dots$ \\\\\n",
       "\t$\\dots$ & $\\dots$ & $\\dots$ & $\\dots$ & $\\dots$ &  \\\\\n",
       "\\end{tabular}\n"
      ],
      "text/plain": [
       "\u001b[1m2357×7 DataFrame\u001b[0m\n",
       "\u001b[1m  Row \u001b[0m│\u001b[1m TRANSCRIPTION_UNIT_ID \u001b[0m\u001b[1m PROMOTER_ID  \u001b[0m\u001b[1m TRANSCRIPTION_UNIT_NAME  \u001b[0m\u001b[1m OPERON_\u001b[0m ⋯\n",
       "\u001b[1m      \u001b[0m│\u001b[90m String                \u001b[0m\u001b[90m String       \u001b[0m\u001b[90m Union{Missing, String}   \u001b[0m\u001b[90m String1\u001b[0m ⋯\n",
       "──────┼─────────────────────────────────────────────────────────────────────────\n",
       "    1 │ ECK120008913           ECK120009851  astCADBE                  ECK1200 ⋯\n",
       "    2 │ ECK120008914           ECK120009852  astCADBE                  ECK1200\n",
       "    3 │ ECK120008915           ECK120009853  astCADBE                  ECK1200\n",
       "    4 │ ECK120008916           ECK120009855  nrdHIEF                   ECK1200\n",
       "    5 │ ECK120008917           ECK120010879  cpxPQ                     ECK1252 ⋯\n",
       "    6 │ ECK120008918           ECK120009856  srkA-dsbA                 ECK1252\n",
       "    7 │ ECK120008919           ECK120009857  dsbA                      ECK1252\n",
       "    8 │ ECK120008921           ECK120009858  dmsABC                    ECK1200\n",
       "    9 │ ECK120008922           ECK120009860  moaABCDE                  ECK1200 ⋯\n",
       "   10 │ ECK120008923           ECK120009861  ptsG                      ECK1200\n",
       "   11 │ ECK120008924           ECK120009862  ptsG                      ECK1200\n",
       "  ⋮   │           ⋮                 ⋮                   ⋮                   ⋮  ⋱\n",
       " 2348 │ ECK125300404           ECK125296912  ptsHI-crr                 ECK1200\n",
       " 2349 │ ECK125300405           ECK125296941  galETKM                   ECK1200 ⋯\n",
       " 2350 │ ECK125300406           ECK125296888  aidB                      ECK1200\n",
       " 2351 │ ECK125300407           ECK125296954  rpoH                      ECK1200\n",
       " 2352 │ ECK125300408           ECK125296895  ibsC                      ECK1253\n",
       " 2353 │ ECK125300409           ECK125296923  tpiA                      ECK1200 ⋯\n",
       " 2354 │ ECK125300410           ECK125296900  pykA                      ECK1200\n",
       " 2355 │ ECK125300411           ECK125296965  dnaN-recF                 ECK1200\n",
       " 2356 │ ECK125300412           ECK125296933  hyaABCDEF                 ECK1200\n",
       " 2357 │ ECK125300413           ECK125296867  micF                      ECK1200 ⋯\n",
       "\u001b[36m                                                 4 columns and 2336 rows omitted\u001b[0m"
      ]
     },
     "execution_count": 52,
     "metadata": {},
     "output_type": "execute_result"
    }
   ],
   "source": [
    "df_DB_TU = CSV.read(\n",
    "    \"../data/regulonDB/transcription_unit.txt\", \n",
    "    DataFrames.DataFrame, \n",
    "    comment=\"#\",\n",
    "    header=[\n",
    "        \"TRANSCRIPTION_UNIT_ID\",\n",
    "        \"PROMOTER_ID\",\n",
    "        \"TRANSCRIPTION_UNIT_NAME\",\n",
    "        \"OPERON_ID\",\n",
    "        \"KEY_ID_ORG\",\n",
    "        \"TRANSCRIPTION_UNIT_NOTE\",\n",
    "        \"TU_INTERNAL_COMMENT\",\n",
    "    ],\n",
    "    delim='\\t'\n",
    ")\n",
    "\n",
    "# Remove import artifacts\n",
    "df_DB_TU = df_DB_TU[.~ ismissing.(df_DB_TU.TRANSCRIPTION_UNIT_ID), :]\n",
    "\n",
    "# Remove transcription units without promoters\n",
    "df_DB_TU = df_DB_TU[.~ ismissing.(df_DB_TU.PROMOTER_ID), :]\n",
    "df_DB_TU.PROMOTER_ID = coalesce.(df_DB_TU.PROMOTER_ID, \"None\")\n",
    "\n",
    "# Fix type\n",
    "df_DB_TU.TRANSCRIPTION_UNIT_ID = convert(Vector{String}, df_DB_TU.TRANSCRIPTION_UNIT_ID)\n",
    "df_DB_TU.PROMOTER_ID = convert(Vector{String}, df_DB_TU.PROMOTER_ID)\n",
    "\n",
    "# Print first 5 columns\n",
    "df_DB_TU"
   ]
  },
  {
   "cell_type": "markdown",
   "id": "19170353-9cb4-40a7-bf71-ac2df3ea865a",
   "metadata": {},
   "source": [
    "There is a file that connects the transcription units with genes, so we import it to combine the dataframes later."
   ]
  },
  {
   "cell_type": "code",
   "execution_count": 54,
   "id": "cea91408-cedb-42e4-acb9-372b97cbcd08",
   "metadata": {},
   "outputs": [
    {
     "data": {
      "text/html": [
       "<div class=\"data-frame\"><p>5 rows × 2 columns</p><table class=\"data-frame\"><thead><tr><th></th><th>TRANSCRIPTION_UNIT_ID</th><th>GENE_ID</th></tr><tr><th></th><th title=\"String15\">String15</th><th title=\"String15\">String15</th></tr></thead><tbody><tr><th>1</th><td>ECK120008913</td><td>ECK120003528</td></tr><tr><th>2</th><td>ECK120008913</td><td>ECK120003529</td></tr><tr><th>3</th><td>ECK120008913</td><td>ECK120003530</td></tr><tr><th>4</th><td>ECK120008913</td><td>ECK120003531</td></tr><tr><th>5</th><td>ECK120008913</td><td>ECK120003532</td></tr></tbody></table></div>"
      ],
      "text/latex": [
       "\\begin{tabular}{r|cc}\n",
       "\t& TRANSCRIPTION\\_UNIT\\_ID & GENE\\_ID\\\\\n",
       "\t\\hline\n",
       "\t& String15 & String15\\\\\n",
       "\t\\hline\n",
       "\t1 & ECK120008913 & ECK120003528 \\\\\n",
       "\t2 & ECK120008913 & ECK120003529 \\\\\n",
       "\t3 & ECK120008913 & ECK120003530 \\\\\n",
       "\t4 & ECK120008913 & ECK120003531 \\\\\n",
       "\t5 & ECK120008913 & ECK120003532 \\\\\n",
       "\\end{tabular}\n"
      ],
      "text/plain": [
       "\u001b[1m5×2 DataFrame\u001b[0m\n",
       "\u001b[1m Row \u001b[0m│\u001b[1m TRANSCRIPTION_UNIT_ID \u001b[0m\u001b[1m GENE_ID      \u001b[0m\n",
       "\u001b[1m     \u001b[0m│\u001b[90m String15              \u001b[0m\u001b[90m String15     \u001b[0m\n",
       "─────┼─────────────────────────────────────\n",
       "   1 │ ECK120008913           ECK120003528\n",
       "   2 │ ECK120008913           ECK120003529\n",
       "   3 │ ECK120008913           ECK120003530\n",
       "   4 │ ECK120008913           ECK120003531\n",
       "   5 │ ECK120008913           ECK120003532"
      ]
     },
     "execution_count": 54,
     "metadata": {},
     "output_type": "execute_result"
    }
   ],
   "source": [
    "\n",
    "df_DB_link = CSV.read(\n",
    "    \"../data/regulonDB/tu_gene_link.txt\", \n",
    "    DataFrames.DataFrame, \n",
    "    comment=\"#\",\n",
    "    header=[\n",
    "        \"TRANSCRIPTION_UNIT_ID\",\n",
    "        \"GENE_ID\",\n",
    "    ],\n",
    "    delim='\\t'\n",
    ")\n",
    "first(df_DB_link, 5)"
   ]
  },
  {
   "cell_type": "markdown",
   "id": "26aafeab-e93b-4205-a8c2-f4831cf151e1",
   "metadata": {},
   "source": [
    "### Promoters"
   ]
  },
  {
   "cell_type": "markdown",
   "id": "beaf6a98-9195-45d5-a7f9-efd4a7a46244",
   "metadata": {},
   "source": [
    "Lastly, we import the promoters."
   ]
  },
  {
   "cell_type": "code",
   "execution_count": 46,
   "id": "64f1faee-1cee-42fd-97d7-2587b4e9d027",
   "metadata": {},
   "outputs": [
    {
     "name": "stderr",
     "output_type": "stream",
     "text": [
      "┌ Warning: thread = 1 warning: only found 12 / 13 columns around data row: 1006. Filling remaining columns with `missing`\n",
      "└ @ CSV /Users/tomroschinger/.julia/packages/CSV/0Elut/src/file.jl:577\n",
      "┌ Warning: thread = 1 warning: only found 12 / 13 columns around data row: 1006. Filling remaining columns with `missing`\n",
      "└ @ CSV /Users/tomroschinger/.julia/packages/CSV/0Elut/src/file.jl:577\n",
      "┌ Warning: thread = 1 warning: only found 1 / 13 columns around data row: 1007. Filling remaining columns with `missing`\n",
      "└ @ CSV /Users/tomroschinger/.julia/packages/CSV/0Elut/src/file.jl:577\n",
      "┌ Warning: thread = 1 warning: only found 1 / 13 columns around data row: 1007. Filling remaining columns with `missing`\n",
      "└ @ CSV /Users/tomroschinger/.julia/packages/CSV/0Elut/src/file.jl:577\n",
      "┌ Warning: thread = 1 warning: only found 2 / 13 columns around data row: 1008. Filling remaining columns with `missing`\n",
      "└ @ CSV /Users/tomroschinger/.julia/packages/CSV/0Elut/src/file.jl:577\n"
     ]
    },
    {
     "data": {
      "text/html": [
       "<div class=\"data-frame\"><p>5 rows × 13 columns (omitted printing of 7 columns)</p><table class=\"data-frame\"><thead><tr><th></th><th>PROMOTER_ID</th><th>PROMOTER_NAME</th><th>PROMOTER_STRAND</th><th>POS_1</th><th>SIGMA_FACTOR</th><th>BASAL_TRANS_VAL</th></tr><tr><th></th><th title=\"String\">String</th><th title=\"String\">String</th><th title=\"String\">String</th><th title=\"Union{Missing, Int64}\">Int64?</th><th title=\"Union{Missing, String7}\">String7?</th><th title=\"Missing\">Missing</th></tr></thead><tbody><tr><th>1</th><td>ECK120009842</td><td>galRp</td><td>+</td><td>2976569</td><td>Sigma70</td><td><em>missing</em></td></tr><tr><th>2</th><td>ECK120009843</td><td>lpxLp</td><td>-</td><td>1116709</td><td><em>missing</em></td><td><em>missing</em></td></tr><tr><th>3</th><td>ECK120009844</td><td>yceAp</td><td>+</td><td>1116772</td><td><em>missing</em></td><td><em>missing</em></td></tr><tr><th>4</th><td>ECK120009845</td><td>mraZp</td><td>+</td><td>89596</td><td>Sigma70</td><td><em>missing</em></td></tr><tr><th>5</th><td>ECK120009846</td><td>sohBp1</td><td>+</td><td>1329284</td><td>Sigma70</td><td><em>missing</em></td></tr></tbody></table></div>"
      ],
      "text/latex": [
       "\\begin{tabular}{r|ccccccc}\n",
       "\t& PROMOTER\\_ID & PROMOTER\\_NAME & PROMOTER\\_STRAND & POS\\_1 & SIGMA\\_FACTOR & BASAL\\_TRANS\\_VAL & \\\\\n",
       "\t\\hline\n",
       "\t& String & String & String & Int64? & String7? & Missing & \\\\\n",
       "\t\\hline\n",
       "\t1 & ECK120009842 & galRp & + & 2976569 & Sigma70 & \\emph{missing} & $\\dots$ \\\\\n",
       "\t2 & ECK120009843 & lpxLp & - & 1116709 & \\emph{missing} & \\emph{missing} & $\\dots$ \\\\\n",
       "\t3 & ECK120009844 & yceAp & + & 1116772 & \\emph{missing} & \\emph{missing} & $\\dots$ \\\\\n",
       "\t4 & ECK120009845 & mraZp & + & 89596 & Sigma70 & \\emph{missing} & $\\dots$ \\\\\n",
       "\t5 & ECK120009846 & sohBp1 & + & 1329284 & Sigma70 & \\emph{missing} & $\\dots$ \\\\\n",
       "\\end{tabular}\n"
      ],
      "text/plain": [
       "\u001b[1m5×13 DataFrame\u001b[0m\n",
       "\u001b[1m Row \u001b[0m│\u001b[1m PROMOTER_ID  \u001b[0m\u001b[1m PROMOTER_NAME \u001b[0m\u001b[1m PROMOTER_STRAND \u001b[0m\u001b[1m POS_1   \u001b[0m\u001b[1m SIGMA_FACTOR \u001b[0m\u001b[1m BA\u001b[0m ⋯\n",
       "\u001b[1m     \u001b[0m│\u001b[90m String       \u001b[0m\u001b[90m String        \u001b[0m\u001b[90m String          \u001b[0m\u001b[90m Int64?  \u001b[0m\u001b[90m String7?     \u001b[0m\u001b[90m Mi\u001b[0m ⋯\n",
       "─────┼──────────────────────────────────────────────────────────────────────────\n",
       "   1 │ ECK120009842  galRp          +                2976569  Sigma70      \u001b[90m   \u001b[0m ⋯\n",
       "   2 │ ECK120009843  lpxLp          -                1116709 \u001b[90m missing      \u001b[0m\u001b[90m\u001b[0m\n",
       "   3 │ ECK120009844  yceAp          +                1116772 \u001b[90m missing      \u001b[0m\u001b[90m\u001b[0m\n",
       "   4 │ ECK120009845  mraZp          +                  89596  Sigma70      \u001b[90m\u001b[0m\n",
       "   5 │ ECK120009846  sohBp1         +                1329284  Sigma70      \u001b[90m   \u001b[0m ⋯\n",
       "\u001b[36m                                                               8 columns omitted\u001b[0m"
      ]
     },
     "execution_count": 46,
     "metadata": {},
     "output_type": "execute_result"
    }
   ],
   "source": [
    "# Import promoter data\n",
    "df_DB_prom = CSV.read(\n",
    "    \"../data/regulonDB/promoter.txt\", \n",
    "    DataFrames.DataFrame, \n",
    "    comment=\"#\", \n",
    "    header=[\n",
    "        \"PROMOTER_ID\",\n",
    "        \"PROMOTER_NAME\",\n",
    "        \"PROMOTER_STRAND\",\n",
    "        \"POS_1\",\n",
    "        \"SIGMA_FACTOR\",\n",
    "        \"BASAL_TRANS_VAL\",\n",
    "        \"EQUILIBRIUM_CONST\",\n",
    "        \"KINETIC_CONST\",\n",
    "        \"STRENGTH_SEQ\",\n",
    "        \"PROMOTER_SEQUENCE\",\n",
    "        \"KEY_ID_ORG\",\n",
    "        \"PROMOTER_NOTE\",\n",
    "        \"PROMOTER_INTERNAL_COMMENT\",\n",
    "    ]\n",
    ")\n",
    "\n",
    "# Remove import artifacts\n",
    "df_DB_prom = df_DB_prom[.~ ismissing.(df_DB_prom.PROMOTER_NAME), :]\n",
    "\n",
    "# Change direction to be compatible with other database\n",
    "direction_dict = Dict(\"forward\" => \"+\", \"reverse\" => \"-\")\n",
    "df_DB_prom.PROMOTER_STRAND = [direction_dict[x] for x in df_DB_prom.PROMOTER_STRAND]\n",
    "\n",
    "# Fix type\n",
    "df_DB_prom.PROMOTER_NAME = convert(Vector{String}, df_DB_prom.PROMOTER_NAME)\n",
    "\n",
    "# Show first five rows\n",
    "first(df_DB_prom, 5)"
   ]
  },
  {
   "cell_type": "code",
   "execution_count": null,
   "id": "4ec30fe2-c5a4-4bde-8068-64018e301987",
   "metadata": {},
   "outputs": [],
   "source": []
  },
  {
   "cell_type": "code",
   "execution_count": null,
   "id": "5a39653d-8c3a-4e98-b930-680140376716",
   "metadata": {},
   "outputs": [],
   "source": []
  },
  {
   "cell_type": "code",
   "execution_count": null,
   "id": "00fb9c8b-18e0-487b-b7c8-910f51c15a9d",
   "metadata": {},
   "outputs": [],
   "source": []
  },
  {
   "cell_type": "markdown",
   "id": "f198d830-1247-46c8-81b0-92c3ed0d8b3a",
   "metadata": {},
   "source": [
    "Now we combine genes, transcription units and promoters. We go through each transcription unit, look for the associated genes and identify the corresponding promoter. Then, the information is combined and stored in a new dataframe."
   ]
  },
  {
   "cell_type": "code",
   "execution_count": 57,
   "id": "8923b0e2-7bfe-44e4-8643-3e06319a32f6",
   "metadata": {},
   "outputs": [
    {
     "data": {
      "text/html": [
       "<div class=\"data-frame\"><p>5 rows × 5 columns (omitted printing of 2 columns)</p><table class=\"data-frame\"><thead><tr><th></th><th>promoter</th><th>genes</th><th>gene_position</th></tr><tr><th></th><th title=\"String\">String</th><th title=\"Vector{String}\">Array…</th><th title=\"Vector{Int64}\">Array…</th></tr></thead><tbody><tr><th>1</th><td>astCp1</td><td>[&quot;astE&quot;, &quot;astB&quot;, &quot;astD&quot;, &quot;astA&quot;, &quot;astC&quot;]</td><td>[1826923, 1828259, 1829734, 1830765, 1831982]</td></tr><tr><th>2</th><td>astCp2</td><td>[&quot;astE&quot;, &quot;astB&quot;, &quot;astD&quot;, &quot;astA&quot;, &quot;astC&quot;]</td><td>[1826923, 1828259, 1829734, 1830765, 1831982]</td></tr><tr><th>3</th><td>astCp3</td><td>[&quot;astE&quot;, &quot;astB&quot;, &quot;astD&quot;, &quot;astA&quot;, &quot;astC&quot;]</td><td>[1826923, 1828259, 1829734, 1830765, 1831982]</td></tr><tr><th>4</th><td>nrdHp</td><td>[&quot;nrdF&quot;, &quot;nrdE&quot;, &quot;nrdH&quot;, &quot;nrdI&quot;]</td><td>[2803502, 2801348, 2800723, 2800965]</td></tr><tr><th>5</th><td>cpxPp</td><td>[&quot;cpxP&quot;, &quot;cpxQ&quot;]</td><td>[4105820, 4106330]</td></tr></tbody></table></div>"
      ],
      "text/latex": [
       "\\begin{tabular}{r|cccc}\n",
       "\t& promoter & genes & gene\\_position & \\\\\n",
       "\t\\hline\n",
       "\t& String & Array… & Array… & \\\\\n",
       "\t\\hline\n",
       "\t1 & astCp1 & [\"astE\", \"astB\", \"astD\", \"astA\", \"astC\"] & [1826923, 1828259, 1829734, 1830765, 1831982] & $\\dots$ \\\\\n",
       "\t2 & astCp2 & [\"astE\", \"astB\", \"astD\", \"astA\", \"astC\"] & [1826923, 1828259, 1829734, 1830765, 1831982] & $\\dots$ \\\\\n",
       "\t3 & astCp3 & [\"astE\", \"astB\", \"astD\", \"astA\", \"astC\"] & [1826923, 1828259, 1829734, 1830765, 1831982] & $\\dots$ \\\\\n",
       "\t4 & nrdHp & [\"nrdF\", \"nrdE\", \"nrdH\", \"nrdI\"] & [2803502, 2801348, 2800723, 2800965] & $\\dots$ \\\\\n",
       "\t5 & cpxPp & [\"cpxP\", \"cpxQ\"] & [4105820, 4106330] & $\\dots$ \\\\\n",
       "\\end{tabular}\n"
      ],
      "text/plain": [
       "\u001b[1m5×5 DataFrame\u001b[0m\n",
       "\u001b[1m Row \u001b[0m│\u001b[1m promoter \u001b[0m\u001b[1m genes                             \u001b[0m\u001b[1m gene_position             \u001b[0m ⋯\n",
       "\u001b[1m     \u001b[0m│\u001b[90m String   \u001b[0m\u001b[90m Array…                            \u001b[0m\u001b[90m Vector{Int64}             \u001b[0m ⋯\n",
       "─────┼──────────────────────────────────────────────────────────────────────────\n",
       "   1 │ astCp1    [\"astE\", \"astB\", \"astD\", \"astA\",…  [1826923, 1828259, 1829734 ⋯\n",
       "   2 │ astCp2    [\"astE\", \"astB\", \"astD\", \"astA\",…  [1826923, 1828259, 1829734\n",
       "   3 │ astCp3    [\"astE\", \"astB\", \"astD\", \"astA\",…  [1826923, 1828259, 1829734\n",
       "   4 │ nrdHp     [\"nrdF\", \"nrdE\", \"nrdH\", \"nrdI\"]   [2803502, 2801348, 2800723\n",
       "   5 │ cpxPp     [\"cpxP\", \"cpxQ\"]                   [4105820, 4106330]         ⋯\n",
       "\u001b[36m                                                               3 columns omitted\u001b[0m"
      ]
     },
     "execution_count": 57,
     "metadata": {},
     "output_type": "execute_result"
    }
   ],
   "source": [
    "df_DB_tss = DataFrames.DataFrame()\n",
    "\n",
    "# Iterate through transcription units\n",
    "for i in 1:nrow(df_DB_TU)\n",
    "    # Get TU ID and promoter ID\n",
    "    TU_ID, promoter_ID = df_DB_TU[i, [\"TRANSCRIPTION_UNIT_ID\", \"PROMOTER_ID\"]]\n",
    "    \n",
    "    # Find gene IDs of genes in TU\n",
    "    gene_IDs = df_DB_link[map(x -> x == TU_ID, df_DB_link.TRANSCRIPTION_UNIT_ID), \"GENE_ID\"]\n",
    "\n",
    "    # Get gene names and locations\n",
    "    genes = convert(Vector{String}, df_DB_genes[map(x -> x in gene_IDs, df_DB_genes.GENE_ID), \"GENE_NAME\"])\n",
    "    gene_positions = convert(Vector{Int64}, df_DB_genes[map(x -> x in gene_IDs, df_DB_genes.GENE_ID), \"gene_position\"])\n",
    "\n",
    "    # Get promoter data and create temporary dataframe\n",
    "    promoter_df = df_DB_prom[df_DB_prom.PROMOTER_ID .== promoter_ID, [\"PROMOTER_NAME\", \"PROMOTER_STRAND\", \"POS_1\",]]\n",
    "    \n",
    "    # Insert data to temporary dataframe\n",
    "    insertcols!(promoter_df, 2, :genes =>fill(genes, nrow(promoter_df)))\n",
    "    insertcols!(promoter_df, 3, :gene_position =>fill(gene_positions, nrow(promoter_df)))\n",
    "    \n",
    "    # Rename columns\n",
    "    rename!(\n",
    "        promoter_df,\n",
    "        Dict(\n",
    "            \"PROMOTER_NAME\"=>\"promoter\",\n",
    "            \"PROMOTER_STRAND\"=>\"direction\",\n",
    "            \"POS_1\"=>\"tss\"\n",
    "        )\n",
    "    )\n",
    "    \n",
    "    # Add temporary dataframe to target\n",
    "    append!(df_DB_tss, promoter_df)\n",
    "end\n",
    "\n",
    "first(df_DB_tss, 5)"
   ]
  },
  {
   "cell_type": "code",
   "execution_count": 60,
   "id": "26d33788-748a-4a1d-aefd-5c720e578548",
   "metadata": {},
   "outputs": [
    {
     "data": {
      "text/plain": [
       "\"../data/promoter_list_regulon_DB.csv\""
      ]
     },
     "execution_count": 60,
     "metadata": {},
     "output_type": "execute_result"
    }
   ],
   "source": [
    "CSV.write(\"../data/promoter_list_regulon_DB.csv\", df_DB_tss)"
   ]
  },
  {
   "cell_type": "markdown",
   "id": "71d9c3de-9883-428d-8b86-c451eb644ecc",
   "metadata": {},
   "source": [
    "### Evidence"
   ]
  },
  {
   "cell_type": "code",
   "execution_count": 74,
   "id": "d21b647e-af6b-45ed-bcca-6ace33a0777f",
   "metadata": {},
   "outputs": [
    {
     "data": {
      "text/plain": [
       "102-element Vector{String15}:\n",
       " \"GID000000001\"\n",
       " \"GID000000002\"\n",
       " \"GID000000003\"\n",
       " \"GID000000004\"\n",
       " \"GID000000005\"\n",
       " \"GID000000006\"\n",
       " \"GID000000007\"\n",
       " \"GID000000008\"\n",
       " \"GID000000009\"\n",
       " \"GID000000010\"\n",
       " \"GID000000011\"\n",
       " \"GID000000012\"\n",
       " \"GID000000013\"\n",
       " ⋮\n",
       " \"GID000064260\"\n",
       " \"GID000064261\"\n",
       " \"GID000064262\"\n",
       " \"GID000064263\"\n",
       " \"GID000064264\"\n",
       " \"GID000064265\"\n",
       " \"GID000064266\"\n",
       " \"GID000064267\"\n",
       " \"GID000064268\"\n",
       " \"GID000064269\"\n",
       " \"GID000064270\"\n",
       " \"GID0065864  \""
      ]
     },
     "execution_count": 74,
     "metadata": {},
     "output_type": "execute_result"
    }
   ],
   "source": [
    "# Import DataFrame\n",
    "df_evidence = CSV.read(\n",
    "    \"../data/regulonDB/evidence.txt\", \n",
    "    DataFrames.DataFrame, \n",
    "    comment=\"#\",\n",
    "    header=[\n",
    "            \"EVIDENCE_ID\",\n",
    "            \"EVIDENCE_NAME\",\n",
    "            \"TYPE_OBJECT\",\n",
    "            \"EVIDENCE_CODE\",\n",
    "            \"EVIDENCE_NOTE\",\n",
    "            \"EVIDENCE_INTERNAL_COMMENT\",\n",
    "            \"KEY_ID_ORG\",\n",
    "            \"EVIDENCE_TYPE\",\n",
    "            \"EVIDENCE_CATEGORY\",\n",
    "            \"HEAD\",\n",
    "            \"EXAMPLE\",\n",
    "            \"ECOCYC_CODE\",\n",
    "            \"EVIDENCE_TECH_CODE\"\n",
    "    ]\n",
    ")\n",
    "\n",
    "df_evidence.EVIDENCE_ID"
   ]
  },
  {
   "cell_type": "markdown",
   "id": "ae73a7f4-e3e3-4d69-b19c-b20130431be4",
   "metadata": {},
   "source": [
    "## Combine Sources"
   ]
  },
  {
   "cell_type": "code",
   "execution_count": 61,
   "id": "0def9bc8-d33a-49d4-bf39-8c1468cf118e",
   "metadata": {},
   "outputs": [
    {
     "data": {
      "text/html": [
       "<div class=\"data-frame\"><p>2,357 rows × 5 columns (omitted printing of 2 columns)</p><table class=\"data-frame\"><thead><tr><th></th><th>promoter</th><th>genes</th><th>gene_position</th></tr><tr><th></th><th title=\"String\">String</th><th title=\"String\">String</th><th title=\"String\">String</th></tr></thead><tbody><tr><th>1</th><td>astCp1</td><td>[&quot;astE&quot;, &quot;astB&quot;, &quot;astD&quot;, &quot;astA&quot;, &quot;astC&quot;]</td><td>[1826923, 1828259, 1829734, 1830765, 1831982]</td></tr><tr><th>2</th><td>astCp2</td><td>[&quot;astE&quot;, &quot;astB&quot;, &quot;astD&quot;, &quot;astA&quot;, &quot;astC&quot;]</td><td>[1826923, 1828259, 1829734, 1830765, 1831982]</td></tr><tr><th>3</th><td>astCp3</td><td>[&quot;astE&quot;, &quot;astB&quot;, &quot;astD&quot;, &quot;astA&quot;, &quot;astC&quot;]</td><td>[1826923, 1828259, 1829734, 1830765, 1831982]</td></tr><tr><th>4</th><td>nrdHp</td><td>[&quot;nrdF&quot;, &quot;nrdE&quot;, &quot;nrdH&quot;, &quot;nrdI&quot;]</td><td>[2803502, 2801348, 2800723, 2800965]</td></tr><tr><th>5</th><td>cpxPp</td><td>[&quot;cpxP&quot;, &quot;cpxQ&quot;]</td><td>[4105820, 4106330]</td></tr><tr><th>6</th><td>srkAp</td><td>[&quot;dsbA&quot;, &quot;srkA&quot;]</td><td>[4043418, 4042415]</td></tr><tr><th>7</th><td>dsbAp</td><td>[&quot;dsbA&quot;]</td><td>[4043418]</td></tr><tr><th>8</th><td>dmsAp2</td><td>[&quot;dmsA&quot;, &quot;dmsB&quot;, &quot;dmsC&quot;]</td><td>[940959, 943414, 944033]</td></tr><tr><th>9</th><td>moaAp2</td><td>[&quot;moaA&quot;, &quot;moaB&quot;, &quot;moaD&quot;, &quot;moaE&quot;, &quot;moaC&quot;]</td><td>[817044, 818055, 819048, 819295, 818570]</td></tr><tr><th>10</th><td>ptsGp1</td><td>[&quot;ptsG&quot;]</td><td>[1157869]</td></tr><tr><th>11</th><td>ptsGp2</td><td>[&quot;ptsG&quot;]</td><td>[1157869]</td></tr><tr><th>12</th><td>grcAp1</td><td>[&quot;grcA&quot;]</td><td>[2716449]</td></tr><tr><th>13</th><td>ldcCp</td><td>[&quot;ldcC&quot;]</td><td>[209679]</td></tr><tr><th>14</th><td>rrsAp1</td><td>[&quot;alaT&quot;, &quot;ileT&quot;, &quot;rrfA&quot;, &quot;rrlA&quot;, &quot;rrsA&quot;]</td><td>[4037260, 4037141, 4040517, 4037519, 4035531]</td></tr><tr><th>15</th><td>rrsBp1</td><td>[&quot;gltT&quot;, &quot;rrfB&quot;, &quot;rrlB&quot;, &quot;rrsB&quot;]</td><td>[4168372, 4171637, 4168641, 4166659]</td></tr><tr><th>16</th><td>rrsCp1</td><td>[&quot;gltU&quot;, &quot;rrfC&quot;, &quot;rrlC&quot;, &quot;rrsC&quot;]</td><td>[3943435, 3946700, 3943704, 3941808]</td></tr><tr><th>17</th><td>rrsCp2</td><td>[&quot;gltU&quot;, &quot;rrfC&quot;, &quot;rrlC&quot;, &quot;rrsC&quot;]</td><td>[3943435, 3946700, 3943704, 3941808]</td></tr><tr><th>18</th><td>rrsEp</td><td>[&quot;gltV&quot;, &quot;rrfE&quot;, &quot;rrlE&quot;, &quot;rrsE&quot;]</td><td>[4209774, 4213040, 4210043, 4208147]</td></tr><tr><th>19</th><td>rrsGp1</td><td>[&quot;gltW&quot;, &quot;rrfG&quot;, &quot;rrlG&quot;, &quot;rrsG&quot;]</td><td>[2729444, 2726188, 2729184, 2731157]</td></tr><tr><th>20</th><td>rrsGp2</td><td>[&quot;gltW&quot;, &quot;rrfG&quot;, &quot;rrlG&quot;, &quot;rrsG&quot;]</td><td>[2729444, 2726188, 2729184, 2731157]</td></tr><tr><th>21</th><td>rrsHp1</td><td>[&quot;alaV&quot;, &quot;ileV&quot;, &quot;rrfH&quot;, &quot;rrlH&quot;, &quot;rrsH&quot;]</td><td>[225500, 225381, 228756, 225759, 223771]</td></tr><tr><th>22</th><td>rrsHp2</td><td>[&quot;alaV&quot;, &quot;ileV&quot;, &quot;rrfH&quot;, &quot;rrlH&quot;, &quot;rrsH&quot;]</td><td>[225500, 225381, 228756, 225759, 223771]</td></tr><tr><th>23</th><td>rrsDp1</td><td>[&quot;alaU&quot;, &quot;ileU&quot;, &quot;rrfD&quot;, &quot;rrlD&quot;, &quot;rrsD&quot;, &quot;rrfF&quot;, &quot;thrV&quot;]</td><td>[3427033, 3427152, 3423787, 3426783, 3428762, 3423542, 3423655]</td></tr><tr><th>24</th><td>rrsDp2</td><td>[&quot;alaU&quot;, &quot;ileU&quot;, &quot;rrfD&quot;, &quot;rrlD&quot;, &quot;rrsD&quot;, &quot;rrfF&quot;, &quot;thrV&quot;]</td><td>[3427033, 3427152, 3423787, 3426783, 3428762, 3423542, 3423655]</td></tr><tr><th>25</th><td>dnaNp1</td><td>[&quot;dnaN&quot;, &quot;recF&quot;]</td><td>[3882321, 3881221]</td></tr><tr><th>26</th><td>dnaNp2</td><td>[&quot;dnaN&quot;, &quot;recF&quot;]</td><td>[3882321, 3881221]</td></tr><tr><th>27</th><td>dnaNp3</td><td>[&quot;dnaN&quot;, &quot;recF&quot;]</td><td>[3882321, 3881221]</td></tr><tr><th>28</th><td>dnaNp4</td><td>[&quot;dnaN&quot;, &quot;recF&quot;]</td><td>[3882321, 3881221]</td></tr><tr><th>29</th><td>gdhAp1</td><td>[&quot;gdhA&quot;]</td><td>[1842371]</td></tr><tr><th>30</th><td>sugEp</td><td>[&quot;gdx&quot;]</td><td>[4376875]</td></tr><tr><th>&vellip;</th><td>&vellip;</td><td>&vellip;</td><td>&vellip;</td></tr></tbody></table></div>"
      ],
      "text/latex": [
       "\\begin{tabular}{r|cccc}\n",
       "\t& promoter & genes & gene\\_position & \\\\\n",
       "\t\\hline\n",
       "\t& String & String & String & \\\\\n",
       "\t\\hline\n",
       "\t1 & astCp1 & [\"astE\", \"astB\", \"astD\", \"astA\", \"astC\"] & [1826923, 1828259, 1829734, 1830765, 1831982] & $\\dots$ \\\\\n",
       "\t2 & astCp2 & [\"astE\", \"astB\", \"astD\", \"astA\", \"astC\"] & [1826923, 1828259, 1829734, 1830765, 1831982] & $\\dots$ \\\\\n",
       "\t3 & astCp3 & [\"astE\", \"astB\", \"astD\", \"astA\", \"astC\"] & [1826923, 1828259, 1829734, 1830765, 1831982] & $\\dots$ \\\\\n",
       "\t4 & nrdHp & [\"nrdF\", \"nrdE\", \"nrdH\", \"nrdI\"] & [2803502, 2801348, 2800723, 2800965] & $\\dots$ \\\\\n",
       "\t5 & cpxPp & [\"cpxP\", \"cpxQ\"] & [4105820, 4106330] & $\\dots$ \\\\\n",
       "\t6 & srkAp & [\"dsbA\", \"srkA\"] & [4043418, 4042415] & $\\dots$ \\\\\n",
       "\t7 & dsbAp & [\"dsbA\"] & [4043418] & $\\dots$ \\\\\n",
       "\t8 & dmsAp2 & [\"dmsA\", \"dmsB\", \"dmsC\"] & [940959, 943414, 944033] & $\\dots$ \\\\\n",
       "\t9 & moaAp2 & [\"moaA\", \"moaB\", \"moaD\", \"moaE\", \"moaC\"] & [817044, 818055, 819048, 819295, 818570] & $\\dots$ \\\\\n",
       "\t10 & ptsGp1 & [\"ptsG\"] & [1157869] & $\\dots$ \\\\\n",
       "\t11 & ptsGp2 & [\"ptsG\"] & [1157869] & $\\dots$ \\\\\n",
       "\t12 & grcAp1 & [\"grcA\"] & [2716449] & $\\dots$ \\\\\n",
       "\t13 & ldcCp & [\"ldcC\"] & [209679] & $\\dots$ \\\\\n",
       "\t14 & rrsAp1 & [\"alaT\", \"ileT\", \"rrfA\", \"rrlA\", \"rrsA\"] & [4037260, 4037141, 4040517, 4037519, 4035531] & $\\dots$ \\\\\n",
       "\t15 & rrsBp1 & [\"gltT\", \"rrfB\", \"rrlB\", \"rrsB\"] & [4168372, 4171637, 4168641, 4166659] & $\\dots$ \\\\\n",
       "\t16 & rrsCp1 & [\"gltU\", \"rrfC\", \"rrlC\", \"rrsC\"] & [3943435, 3946700, 3943704, 3941808] & $\\dots$ \\\\\n",
       "\t17 & rrsCp2 & [\"gltU\", \"rrfC\", \"rrlC\", \"rrsC\"] & [3943435, 3946700, 3943704, 3941808] & $\\dots$ \\\\\n",
       "\t18 & rrsEp & [\"gltV\", \"rrfE\", \"rrlE\", \"rrsE\"] & [4209774, 4213040, 4210043, 4208147] & $\\dots$ \\\\\n",
       "\t19 & rrsGp1 & [\"gltW\", \"rrfG\", \"rrlG\", \"rrsG\"] & [2729444, 2726188, 2729184, 2731157] & $\\dots$ \\\\\n",
       "\t20 & rrsGp2 & [\"gltW\", \"rrfG\", \"rrlG\", \"rrsG\"] & [2729444, 2726188, 2729184, 2731157] & $\\dots$ \\\\\n",
       "\t21 & rrsHp1 & [\"alaV\", \"ileV\", \"rrfH\", \"rrlH\", \"rrsH\"] & [225500, 225381, 228756, 225759, 223771] & $\\dots$ \\\\\n",
       "\t22 & rrsHp2 & [\"alaV\", \"ileV\", \"rrfH\", \"rrlH\", \"rrsH\"] & [225500, 225381, 228756, 225759, 223771] & $\\dots$ \\\\\n",
       "\t23 & rrsDp1 & [\"alaU\", \"ileU\", \"rrfD\", \"rrlD\", \"rrsD\", \"rrfF\", \"thrV\"] & [3427033, 3427152, 3423787, 3426783, 3428762, 3423542, 3423655] & $\\dots$ \\\\\n",
       "\t24 & rrsDp2 & [\"alaU\", \"ileU\", \"rrfD\", \"rrlD\", \"rrsD\", \"rrfF\", \"thrV\"] & [3427033, 3427152, 3423787, 3426783, 3428762, 3423542, 3423655] & $\\dots$ \\\\\n",
       "\t25 & dnaNp1 & [\"dnaN\", \"recF\"] & [3882321, 3881221] & $\\dots$ \\\\\n",
       "\t26 & dnaNp2 & [\"dnaN\", \"recF\"] & [3882321, 3881221] & $\\dots$ \\\\\n",
       "\t27 & dnaNp3 & [\"dnaN\", \"recF\"] & [3882321, 3881221] & $\\dots$ \\\\\n",
       "\t28 & dnaNp4 & [\"dnaN\", \"recF\"] & [3882321, 3881221] & $\\dots$ \\\\\n",
       "\t29 & gdhAp1 & [\"gdhA\"] & [1842371] & $\\dots$ \\\\\n",
       "\t30 & sugEp & [\"gdx\"] & [4376875] & $\\dots$ \\\\\n",
       "\t$\\dots$ & $\\dots$ & $\\dots$ & $\\dots$ &  \\\\\n",
       "\\end{tabular}\n"
      ],
      "text/plain": [
       "\u001b[1m2357×5 DataFrame\u001b[0m\n",
       "\u001b[1m  Row \u001b[0m│\u001b[1m promoter \u001b[0m\u001b[1m genes                             \u001b[0m\u001b[1m gene_position            \u001b[0m ⋯\n",
       "\u001b[1m      \u001b[0m│\u001b[90m String   \u001b[0m\u001b[90m String                            \u001b[0m\u001b[90m String                   \u001b[0m ⋯\n",
       "──────┼─────────────────────────────────────────────────────────────────────────\n",
       "    1 │ astCp1    [\"astE\", \"astB\", \"astD\", \"astA\",…  [1826923, 1828259, 182973 ⋯\n",
       "    2 │ astCp2    [\"astE\", \"astB\", \"astD\", \"astA\",…  [1826923, 1828259, 182973\n",
       "    3 │ astCp3    [\"astE\", \"astB\", \"astD\", \"astA\",…  [1826923, 1828259, 182973\n",
       "    4 │ nrdHp     [\"nrdF\", \"nrdE\", \"nrdH\", \"nrdI\"]   [2803502, 2801348, 280072\n",
       "    5 │ cpxPp     [\"cpxP\", \"cpxQ\"]                   [4105820, 4106330]        ⋯\n",
       "    6 │ srkAp     [\"dsbA\", \"srkA\"]                   [4043418, 4042415]\n",
       "    7 │ dsbAp     [\"dsbA\"]                           [4043418]\n",
       "    8 │ dmsAp2    [\"dmsA\", \"dmsB\", \"dmsC\"]           [940959, 943414, 944033]\n",
       "    9 │ moaAp2    [\"moaA\", \"moaB\", \"moaD\", \"moaE\",…  [817044, 818055, 819048,  ⋯\n",
       "   10 │ ptsGp1    [\"ptsG\"]                           [1157869]\n",
       "   11 │ ptsGp2    [\"ptsG\"]                           [1157869]\n",
       "  ⋮   │    ⋮                      ⋮                                  ⋮         ⋱\n",
       " 2348 │ ptsHp     [\"crr\", \"ptsH\", \"ptsI\"]            [2535834, 2533764, 253406\n",
       " 2349 │ galEp     [\"galE\", \"galK\", \"galT\", \"galM\"]   [792055, 789979, 791029,  ⋯\n",
       " 2350 │ aidBp2    [\"aidB\"]                           [4414275]\n",
       " 2351 │ rpoHp     [\"rpoH\"]                           [3600783]\n",
       " 2352 │ ibsCp     [\"ibsC\"]                           [3056949]\n",
       " 2353 │ tpiAp     [\"tpiA\"]                           [4111507]                 ⋯\n",
       " 2354 │ pykAp     [\"pykA\"]                           [1937649]\n",
       " 2355 │ dnaNp     [\"dnaN\", \"recF\"]                   [3882321, 3881221]\n",
       " 2356 │ hyaAp2    [\"hyaA\", \"hyaB\", \"hyaC\", \"hyaD\",…  [1032139, 1033254, 103506\n",
       " 2357 │ micFp2    [\"micF\"]                           [2313084]                 ⋯\n",
       "\u001b[36m                                                 3 columns and 2336 rows omitted\u001b[0m"
      ]
     },
     "execution_count": 61,
     "metadata": {},
     "output_type": "execute_result"
    }
   ],
   "source": [
    "# Promoters from Ecocyc\n",
    "promoter_list_ecocyc = CSV.read(\n",
    "    \"../data/promoter_list_ecocyc.csv\", \n",
    "    DataFrames.DataFrame, \n",
    "    types=Dict(\n",
    "        \"promoter\"=>String,\n",
    "        \"tss\"=>Float64,\n",
    "        \"direction\"=>String\n",
    "    )\n",
    ")\n",
    "\n",
    "# Promoters from RegulonDB\n",
    "promoter_list_regulonDB = CSV.read(\n",
    "    \"../data/promoter_list_regulon_DB.csv\", \n",
    "    DataFrames.DataFrame, \n",
    "    types=Dict(\n",
    "        \"promoter\"=>String,\n",
    "        \"tss\"=>Float64,\n",
    "        \"direction\"=>String\n",
    "    )\n",
    ")"
   ]
  },
  {
   "cell_type": "code",
   "execution_count": 62,
   "id": "073f0aa8-84d1-478f-a276-9d8ba0b00502",
   "metadata": {},
   "outputs": [
    {
     "data": {
      "text/plain": [
       "2357-element Vector{Vector{Float64}}:\n",
       " [1.826923e6, 1.828259e6, 1.829734e6, 1.830765e6, 1.831982e6]\n",
       " [1.826923e6, 1.828259e6, 1.829734e6, 1.830765e6, 1.831982e6]\n",
       " [1.826923e6, 1.828259e6, 1.829734e6, 1.830765e6, 1.831982e6]\n",
       " [2.803502e6, 2.801348e6, 2.800723e6, 2.800965e6]\n",
       " [4.10582e6, 4.10633e6]\n",
       " [4.043418e6, 4.042415e6]\n",
       " [4.043418e6]\n",
       " [940959.0, 943414.0, 944033.0]\n",
       " [817044.0, 818055.0, 819048.0, 819295.0, 818570.0]\n",
       " [1.157869e6]\n",
       " [1.157869e6]\n",
       " [2.716449e6]\n",
       " [209679.0]\n",
       " ⋮\n",
       " [2.545609e6]\n",
       " [2.804815e6, 2.80601e6, 2.807132e6]\n",
       " [2.535834e6, 2.533764e6, 2.534066e6]\n",
       " [792055.0, 789979.0, 791029.0, 788837.0]\n",
       " [4.414275e6]\n",
       " [3.600783e6]\n",
       " [3.056949e6]\n",
       " [4.111507e6]\n",
       " [1.937649e6]\n",
       " [3.882321e6, 3.881221e6]\n",
       " [1.032139e6, 1.033254e6, 1.035066e6, 1.03577e6, 1.036354e6, 1.036749e6]\n",
       " [2.313084e6]"
      ]
     },
     "execution_count": 62,
     "metadata": {},
     "output_type": "execute_result"
    }
   ],
   "source": [
    "# Replace columns by nicer types\n",
    "promoter_list_ecocyc.genes = parse.(Vector{String}, promoter_list_ecocyc.genes)\n",
    "promoter_list_ecocyc.evidence = parse.(Vector{String}, promoter_list_ecocyc.evidence)\n",
    "promoter_list_ecocyc.gene_position = parse.(Vector{Float64}, promoter_list_ecocyc.gene_position)\n",
    "promoter_list_regulonDB.genes = parse.(Vector{String}, promoter_list_regulonDB.genes)\n",
    "promoter_list_regulonDB.gene_position = parse.(Vector{Float64}, promoter_list_regulonDB.gene_position)"
   ]
  },
  {
   "cell_type": "code",
   "execution_count": 63,
   "id": "260b97ce-1938-4073-8a7d-16c6c495844d",
   "metadata": {},
   "outputs": [
    {
     "ename": "LoadError",
     "evalue": "ArgumentError: Column names :evidence were found in only one of the passed data frames and `cols == :setequal`",
     "output_type": "error",
     "traceback": [
      "ArgumentError: Column names :evidence were found in only one of the passed data frames and `cols == :setequal`",
      "",
      "Stacktrace:",
      " [1] append!(df1::DataFrame, df2::DataFrame; cols::Symbol, promote::Bool)",
      "   @ DataFrames ~/.julia/packages/DataFrames/MA4YO/src/dataframe/dataframe.jl:1347",
      " [2] append!(df1::DataFrame, df2::DataFrame)",
      "   @ DataFrames ~/.julia/packages/DataFrames/MA4YO/src/dataframe/dataframe.jl:1315",
      " [3] top-level scope",
      "   @ In[63]:4",
      " [4] eval",
      "   @ ./boot.jl:373 [inlined]",
      " [5] include_string(mapexpr::typeof(REPL.softscope), mod::Module, code::String, filename::String)",
      "   @ Base ./loading.jl:1196"
     ]
    }
   ],
   "source": [
    "# Join the datasets\n",
    "df = promoter_list_ecocyc[(.~ isnan.(promoter_list_ecocyc.tss)) .& (map(x-> x != [\"None\"], promoter_list_ecocyc.genes)), :]\n",
    "promoter_list_regulonDB.tss = coalesce.(promoter_list_regulonDB.tss, NaN)\n",
    "append!(df, promoter_list_regulonDB)"
   ]
  },
  {
   "cell_type": "markdown",
   "id": "9ed9b164-10cb-4512-9b25-69536662bb43",
   "metadata": {
    "tags": []
   },
   "source": [
    "# Computational Environment"
   ]
  },
  {
   "cell_type": "code",
   "execution_count": 42,
   "id": "f4278dd2-2750-4f50-93a8-f4dc05e2619e",
   "metadata": {},
   "outputs": [
    {
     "name": "stdout",
     "output_type": "stream",
     "text": [
      "\u001b[36m\u001b[1m     Project\u001b[22m\u001b[39m wgregseq v0.1.0\n",
      "\u001b[32m\u001b[1m      Status\u001b[22m\u001b[39m `~/git/1000_genes_ecoli/Project.toml`\n",
      " \u001b[90m [336ed68f] \u001b[39mCSV v0.10.2\n",
      " \u001b[90m [a93c6f00] \u001b[39mDataFrames v1.3.2\n"
     ]
    }
   ],
   "source": [
    "using Pkg\n",
    "Pkg.status([\"DataFrames\", \"CSV\"])"
   ]
  }
 ],
 "metadata": {
  "kernelspec": {
   "display_name": "Julia 1.7.0",
   "language": "julia",
   "name": "julia-1.7"
  },
  "language_info": {
   "file_extension": ".jl",
   "mimetype": "application/julia",
   "name": "julia",
   "version": "1.7.0"
  }
 },
 "nbformat": 4,
 "nbformat_minor": 5
}
