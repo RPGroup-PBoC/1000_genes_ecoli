{
 "cells": [
  {
   "cell_type": "markdown",
   "id": "ae420bd6-70d7-41fd-934e-e9efa02db636",
   "metadata": {},
   "source": [
    "# Data base queury to identify transcription start sites."
   ]
  },
  {
   "cell_type": "markdown",
   "id": "6301e40f-ca68-4214-b0a4-ae06a60c8c86",
   "metadata": {},
   "source": [
    "© 2022 Tom Röschinger. This work is licensed under a <a href=\"https://creativecommons.org/licenses/by/4.0/\">Creative Commons Attribution License CC-BY 4.0</a>. All code contained herein is licensed under an <a href=\"https://opensource.org/licenses/MIT\">MIT license</a>"
   ]
  },
  {
   "cell_type": "markdown",
   "id": "c0e9eb83-477c-4f18-80fc-b7be10474315",
   "metadata": {},
   "source": [
    "***"
   ]
  },
  {
   "cell_type": "markdown",
   "id": "049d4107-44d1-4671-b684-d8c7e8c59b64",
   "metadata": {},
   "source": [
    "In this notebook we show how we look for transcription start sites in various data bases. We downloaded [Ecocyc](https://ecocyc.org/) and [Regulon DB](https://regulondb.ccg.unam.mx/). "
   ]
  },
  {
   "cell_type": "code",
   "execution_count": 8,
   "id": "c7bc330f-1d41-4f29-9e44-33c552212acb",
   "metadata": {},
   "outputs": [],
   "source": [
    "using CSV, DataFrames"
   ]
  },
  {
   "cell_type": "markdown",
   "id": "e72e440a-e3b0-4aaa-94e1-c0560c2c81e9",
   "metadata": {},
   "source": [
    "## Genes"
   ]
  },
  {
   "cell_type": "markdown",
   "id": "6b167c7f-7cf9-414b-9227-6c7c1a134849",
   "metadata": {},
   "source": [
    "Read in the file."
   ]
  },
  {
   "cell_type": "code",
   "execution_count": 9,
   "id": "c1ce324f-1fd3-4641-a45f-a6718ae32ebf",
   "metadata": {},
   "outputs": [
    {
     "data": {
      "text/plain": [
       "\"# Copyright SRI International 1999-2021, Marine Biological Laboratory 1998-2001, DoubleTwist Inc 1998-1999.  All Rights Reserved.\\n#\\n# Authors:\\n#    Peter D. Karp\\n#    Ingrid Keseler\\n#    Carol Fulcher\\n#    Anamika Kothari\\n#    Suzanne Paley\\n#    Markus Krummenacker\\n#  \" ⋯ 4641505 bytes ⋯ \"NS - OBS0-439\\nKNOCKOUT-GROWTH-OBSERVATIONS - OBS0-49\\nKNOCKOUT-GROWTH-OBSERVATIONS - OBS0-37\\nKNOCKOUT-GROWTH-OBSERVATIONS - OBS0-33\\nLAST-UPDATE - 3839010085\\nLEFT-END-POSITION - 2592762\\nPRODUCT - MONOMER0-2685\\nRIGHT-END-POSITION - 2592962\\nTRANSCRIPTION-DIRECTION - +\\n//\\n\""
      ]
     },
     "execution_count": 9,
     "metadata": {},
     "output_type": "execute_result"
    }
   ],
   "source": [
    "s = open(\"../data/ecocyc/genes.dat\") do file\n",
    "    read(file, String)\n",
    "end"
   ]
  },
  {
   "cell_type": "markdown",
   "id": "a9c32a07-b68e-4ce9-90b7-ad816d35e78d",
   "metadata": {},
   "source": [
    "The entries in this file are separated by `//`, therefore we can use it to separate the entries. The first two entries are comments, so we skip those. Then, each entry is a gene."
   ]
  },
  {
   "cell_type": "code",
   "execution_count": 16,
   "id": "d9f940cb-0102-4adf-a224-1e3611623ad4",
   "metadata": {},
   "outputs": [
    {
     "name": "stdout",
     "output_type": "stream",
     "text": [
      "\n",
      "UNIQUE-ID - EG11120\n",
      "TYPES - BC-8.1\n",
      "COMMON-NAME - tfaE\n",
      "ACCESSION-1 - b1156\n",
      "ACCESSION-2 - ECK1142\n",
      "CENTISOME-POSITION - 26.036354    \n",
      "COMPONENT-OF - COLI-K12-24\n",
      "COMPONENT-OF - TU0-13152\n",
      "DBLINKS - (REGULONDB \"b1156\" NIL |kothari| 3713101626 NIL NIL)\n",
      "DBLINKS - (STRING \"511145.b1156\" NIL |kothari| 3652459938 NIL NIL)\n",
      "DBLINKS - (ECOLIHUB \"tfaE\" NIL |kr| 3474243545 NIL NIL)\n",
      "DBLINKS - (ASAP \"ABE-0003880\" NIL |paley| 3398447606 NIL NIL)\n",
      "DBLINKS - (ECHOBASE \"EB1110\" NIL |pkarp| 3346767937 NIL NIL)\n",
      "DBLINKS - (OU-MICROARRAY \"b1156\" NIL NIL NIL NIL NIL)\n",
      "IN-GROUP - PARALOGOUS-GENE-GROUP-154\n",
      "INSTANCE-NAME-TEMPLATE - G-*\n",
      "KNOCKOUT-GROWTH-OBSERVATIONS - OBS0-439\n",
      "KNOCKOUT-GROWTH-OBSERVATIONS - OBS0-49\n",
      "KNOCKOUT-GROWTH-OBSERVATIONS - OBS0-37\n",
      "KNOCKOUT-GROWTH-OBSERVATIONS - OBS0-33\n",
      "KNOCKOUT-GROWTH-OBSERVATIONS - OBS0-44\n",
      "LAST-UPDATE - 3701017116\n",
      "LEFT-END-POSITION - 1208517\n",
      "MEMBER-SORT-FN - NUMBERED-CLASS-SORT-FN\n",
      "PRODUCT - EG11120-MONOMER\n",
      "RIGHT-END-POSITION - 1209119\n",
      "SYNONYMS - ycfA\n",
      "TRANSCRIPTION-DIRECTION - -\n",
      "\n"
     ]
    }
   ],
   "source": [
    "# Split genes and drop comments\n",
    "gene_list = split(s, \"//\")[3:end]\n",
    "println(gene_list[1])"
   ]
  },
  {
   "cell_type": "markdown",
   "id": "b8d4d408-552e-459e-ab0d-0b6fd2962ff1",
   "metadata": {},
   "source": [
    "For each gene, there are multiple attributes, where each attribute is in a single line and has the structure `<attribute> - <value>`. Hence, we can go through every line, look for the attributes we are interested in, and then extract the information. The information gets transformed into an array of the form `[<attribute>, <value>]` for easier access."
   ]
  },
  {
   "cell_type": "code",
   "execution_count": 17,
   "id": "49842a9a-1b85-4f0e-a964-0acfef9613ef",
   "metadata": {},
   "outputs": [
    {
     "name": "stdout",
     "output_type": "stream",
     "text": [
      "Vector{SubString{String}}[[\"UNIQUE-ID\", \"EG11120\"], [\"TYPES\", \"BC-8.1\"], [\"COMMON-NAME\", \"tfaE\"], [\"ACCESSION-1\", \"b1156\"], [\"ACCESSION-2\", \"ECK1142\"], [\"CENTISOME-POSITION\", \"26.036354    \"], [\"COMPONENT-OF\", \"COLI-K12-24\"], [\"COMPONENT-OF\", \"TU0-13152\"], [\"DBLINKS\", \"(REGULONDB \\\"b1156\\\" NIL |kothari| 3713101626 NIL NIL)\"], [\"DBLINKS\", \"(STRING \\\"511145.b1156\\\" NIL |kothari| 3652459938 NIL NIL)\"], [\"DBLINKS\", \"(ECOLIHUB \\\"tfaE\\\" NIL |kr| 3474243545 NIL NIL)\"], [\"DBLINKS\", \"(ASAP \\\"ABE-0003880\\\" NIL |paley| 3398447606 NIL NIL)\"], [\"DBLINKS\", \"(ECHOBASE \\\"EB1110\\\" NIL |pkarp| 3346767937 NIL NIL)\"], [\"DBLINKS\", \"(OU-MICROARRAY \\\"b1156\\\" NIL NIL NIL NIL NIL)\"], [\"IN-GROUP\", \"PARALOGOUS-GENE-GROUP-154\"], [\"INSTANCE-NAME-TEMPLATE\", \"G-*\"], [\"KNOCKOUT-GROWTH-OBSERVATIONS\", \"OBS0-439\"], [\"KNOCKOUT-GROWTH-OBSERVATIONS\", \"OBS0-49\"], [\"KNOCKOUT-GROWTH-OBSERVATIONS\", \"OBS0-37\"], [\"KNOCKOUT-GROWTH-OBSERVATIONS\", \"OBS0-33\"], [\"KNOCKOUT-GROWTH-OBSERVATIONS\", \"OBS0-44\"], [\"LAST-UPDATE\", \"3701017116\"], [\"LEFT-END-POSITION\", \"1208517\"], [\"MEMBER-SORT-FN\", \"NUMBERED-CLASS-SORT-FN\"], [\"PRODUCT\", \"EG11120-MONOMER\"], [\"RIGHT-END-POSITION\", \"1209119\"], [\"SYNONYMS\", \"ycfA\"], [\"TRANSCRIPTION-DIRECTION\", \"-\"]]\n"
     ]
    }
   ],
   "source": [
    "# Separate attributes\n",
    "gene_list = [split(x, '\\n') for x in gene_list]\n",
    "\n",
    "# Transform attributes into arrays\n",
    "gene_list = [[occursin(\" - \", x) ? split(x, \" - \") : SubString{String}[] for x in gene] for gene in gene_list]\n",
    "\n",
    "# Drop empty entries\n",
    "gene_list = [gene[.~isempty.(gene)] for gene in gene_list]\n",
    "println(gene_list[1])"
   ]
  },
  {
   "cell_type": "markdown",
   "id": "5c24d10f-8b5f-461c-930a-bac97f210275",
   "metadata": {},
   "source": [
    "Now that we have the attributes for each gene, we can extract the information we are looking for and store it in a data frame. We iterate through each gene and extract the values for the following attributes: \n",
    "- ID,\n",
    "- Name, \n",
    "- Transcription Units, \n",
    "- Transcription Direction, \n",
    "- Position, \n",
    "- Synonyms, \n",
    "- Accession ID. "
   ]
  },
  {
   "cell_type": "code",
   "execution_count": 21,
   "id": "52472eec-9f76-4de5-9b28-6b154aaa321f",
   "metadata": {},
   "outputs": [
    {
     "data": {
      "text/html": [
       "<div class=\"data-frame\"><p>5 rows × 7 columns (omitted printing of 1 columns)</p><table class=\"data-frame\"><thead><tr><th></th><th>ID</th><th>gene</th><th>direction</th><th>transcription_units</th><th>gene_position</th><th>synonyms</th></tr><tr><th></th><th title=\"String\">String</th><th title=\"String\">String</th><th title=\"String\">String</th><th title=\"Any\">Any</th><th title=\"Float64\">Float64</th><th title=\"Any\">Any</th></tr></thead><tbody><tr><th>1</th><td>EG11120</td><td>tfaE</td><td>-</td><td>[&quot;TU0-13152&quot;]</td><td>1.20912e6</td><td>[&quot;ycfA&quot;]</td></tr><tr><th>2</th><td>G0-10603</td><td>yrhD</td><td>+</td><td>[]</td><td>3.5844e6</td><td>[&quot;none&quot;]</td></tr><tr><th>3</th><td>EG11085</td><td>rsmH</td><td>+</td><td>[&quot;TU0-14439&quot;, &quot;TU0-941&quot;]</td><td>90094.0</td><td>[&quot;yabC&quot;, &quot;mraW&quot;]</td></tr><tr><th>4</th><td>EG12203</td><td>cspB</td><td>-</td><td>[&quot;TU0-6982&quot;]</td><td>1.64155e6</td><td>[&quot;none&quot;]</td></tr><tr><th>5</th><td>G0-16721</td><td>yabR</td><td>-</td><td>[&quot;TU0-44222&quot;]</td><td>85511.0</td><td>[&quot;none&quot;]</td></tr></tbody></table></div>"
      ],
      "text/latex": [
       "\\begin{tabular}{r|ccccccc}\n",
       "\t& ID & gene & direction & transcription\\_units & gene\\_position & synonyms & \\\\\n",
       "\t\\hline\n",
       "\t& String & String & String & Any & Float64 & Any & \\\\\n",
       "\t\\hline\n",
       "\t1 & EG11120 & tfaE & - & [\"TU0-13152\"] & 1.20912e6 & [\"ycfA\"] & $\\dots$ \\\\\n",
       "\t2 & G0-10603 & yrhD & + & [] & 3.5844e6 & [\"none\"] & $\\dots$ \\\\\n",
       "\t3 & EG11085 & rsmH & + & [\"TU0-14439\", \"TU0-941\"] & 90094.0 & [\"yabC\", \"mraW\"] & $\\dots$ \\\\\n",
       "\t4 & EG12203 & cspB & - & [\"TU0-6982\"] & 1.64155e6 & [\"none\"] & $\\dots$ \\\\\n",
       "\t5 & G0-16721 & yabR & - & [\"TU0-44222\"] & 85511.0 & [\"none\"] & $\\dots$ \\\\\n",
       "\\end{tabular}\n"
      ],
      "text/plain": [
       "\u001b[1m5×7 DataFrame\u001b[0m\n",
       "\u001b[1m Row \u001b[0m│\u001b[1m ID       \u001b[0m\u001b[1m gene   \u001b[0m\u001b[1m direction \u001b[0m\u001b[1m transcription_units         \u001b[0m\u001b[1m gene_position\u001b[0m ⋯\n",
       "\u001b[1m     \u001b[0m│\u001b[90m String   \u001b[0m\u001b[90m String \u001b[0m\u001b[90m String    \u001b[0m\u001b[90m Any                         \u001b[0m\u001b[90m Float64      \u001b[0m ⋯\n",
       "─────┼──────────────────────────────────────────────────────────────────────────\n",
       "   1 │ EG11120   tfaE    -          Any[\"TU0-13152\"]                 1.20912e6 ⋯\n",
       "   2 │ G0-10603  yrhD    +          Any[]                            3.5844e6\n",
       "   3 │ EG11085   rsmH    +          Any[\"TU0-14439\", \"TU0-941\"]  90094.0\n",
       "   4 │ EG12203   cspB    -          Any[\"TU0-6982\"]                  1.64155e6\n",
       "   5 │ G0-16721  yabR    -          Any[\"TU0-44222\"]             85511.0       ⋯\n",
       "\u001b[36m                                                               2 columns omitted\u001b[0m"
      ]
     },
     "execution_count": 21,
     "metadata": {},
     "output_type": "execute_result"
    }
   ],
   "source": [
    "# Initialize Arrays for storage\n",
    "ID_list = String[]\n",
    "name_list = String[]\n",
    "TU_list = []\n",
    "direction_list = String[]\n",
    "position_list = Float64[]\n",
    "synonym_list = []\n",
    "accession_list = String[]\n",
    "\n",
    "# Iterate through every gene\n",
    "for x in gene_list\n",
    "    name = filter(x -> x[1] == \"UNIQUE-ID\", x)\n",
    "    if ~isempty(name)\n",
    "        push!(ID_list, name[1][2])\n",
    "    else\n",
    "        push!(ID_list, \"None\")\n",
    "    end\n",
    "    \n",
    "    name = filter(x -> x[1] == \"COMMON-NAME\", x)\n",
    "    if ~isempty(name)\n",
    "        push!(name_list, name[1][2])\n",
    "    else\n",
    "        push!(name_list, \"None\")\n",
    "    end\n",
    "\n",
    "    synonyms = filter(x -> x[1] == \"SYNONYMS\", x)\n",
    "    _synonym_list = []\n",
    "    if ~isempty(synonyms)\n",
    "        for synonym in synonyms\n",
    "            push!(_synonym_list, synonym[2])\n",
    "        end\n",
    "    else\n",
    "        push!(_synonym_list, \"none\")\n",
    "    end\n",
    "    push!(synonym_list, _synonym_list)\n",
    "    \n",
    "    direction = filter(x -> x[1] == \"TRANSCRIPTION-DIRECTION\", x)\n",
    "    if ~isempty(direction)\n",
    "        push!(direction_list, direction[1][2])\n",
    "    else\n",
    "        push!(direction_list, \"none\")\n",
    "    end\n",
    "\n",
    "    accession = filter(x -> x[1] == \"ACCESSION-1\", x)\n",
    "    if ~isempty(accession)\n",
    "        push!(accession_list, accession[1][2])\n",
    "    else\n",
    "        push!(accession_list, \"none\")\n",
    "    end\n",
    "\n",
    "    components = filter(x -> x[1] == \"COMPONENT-OF\", x)\n",
    "    tu_list_gene = []\n",
    "    if ~isempty(components)\n",
    "        for component in components\n",
    "            if occursin(\"TU\", component[2])\n",
    "                push!(tu_list_gene, component[2])\n",
    "            end\n",
    "        end\n",
    "    else\n",
    "        push!(tu_list_gene, \"none\")\n",
    "    end\n",
    "\n",
    "    push!(TU_list, tu_list_gene)\n",
    "    if direction_list[end] == \"+\"\n",
    "        position = filter(x -> x[1] == \"LEFT-END-POSITION\", x)\n",
    "        if ~isempty(position)\n",
    "            push!(position_list, parse(Float64, position[1][2]))\n",
    "        else\n",
    "            push!(position_list, NaN)\n",
    "        end  \n",
    "    elseif direction_list[end] == \"-\"\n",
    "        position = filter(x -> x[1] == \"RIGHT-END-POSITION\", x)\n",
    "        if ~isempty(position)\n",
    "            push!(position_list, parse(Float64, position[1][2]))\n",
    "        else\n",
    "            push!(position_list, NaN)\n",
    "        end  \n",
    "    else \n",
    "        push!(position_list, NaN)\n",
    "    end\n",
    "end\n",
    "\n",
    "df_genes = DataFrames.DataFrame(\n",
    "    ID=ID_list, \n",
    "    gene=name_list, \n",
    "    direction=direction_list, \n",
    "    transcription_units=TU_list, \n",
    "    gene_position=position_list, \n",
    "    synonyms=synonym_list,\n",
    "    accession=accession_list\n",
    "    )\n",
    "\n",
    "first(df_genes, 5)"
   ]
  },
  {
   "cell_type": "markdown",
   "id": "0922fbce-504d-4f5b-bb86-6d5b0ec182da",
   "metadata": {},
   "source": [
    "Now we can store the DataFrame into a file for easier access later."
   ]
  },
  {
   "cell_type": "code",
   "execution_count": null,
   "id": "c1611c9e-2175-475a-a236-62d58def9f6e",
   "metadata": {},
   "outputs": [],
   "source": [
    "CSV.write(\"/$home_dir/data/all_genes_table.csv\", df_genes)"
   ]
  },
  {
   "cell_type": "markdown",
   "id": "22d3ad68-87f2-44c9-ab32-0e785c683bf7",
   "metadata": {},
   "source": [
    "## Transcription Units"
   ]
  },
  {
   "cell_type": "markdown",
   "id": "96bdd30d-1dbc-4aca-880d-b06e80daa26e",
   "metadata": {},
   "source": [
    "For each gene we have a number of transcription units. A transcription unit is the a set of genes that is transcribed together from a promoter. A gene can be in multiple transcription units either due to multiple promoters or due to differences in transcription termination. Now we need to identify the promoters for each transcription unit.  This information is stored in the file about transcription units. Accessing the information is identical to the way we extracted information about the genes."
   ]
  },
  {
   "cell_type": "code",
   "execution_count": 27,
   "id": "5004b541-0da6-4773-8344-0bfed99b12af",
   "metadata": {},
   "outputs": [
    {
     "data": {
      "text/html": [
       "<div class=\"data-frame\"><p>5 rows × 2 columns</p><table class=\"data-frame\"><thead><tr><th></th><th>TU_ID</th><th>promoter_ID</th></tr><tr><th></th><th title=\"String\">String</th><th title=\"Any\">Any</th></tr></thead><tbody><tr><th>1</th><td>TU0-12955</td><td>none</td></tr><tr><th>2</th><td>TU0-13608</td><td>none</td></tr><tr><th>3</th><td>TU358</td><td>PM439</td></tr><tr><th>4</th><td>TU0-8519</td><td>PM0-9601</td></tr><tr><th>5</th><td>TU0-8490</td><td>PM0-8926</td></tr></tbody></table></div>"
      ],
      "text/latex": [
       "\\begin{tabular}{r|cc}\n",
       "\t& TU\\_ID & promoter\\_ID\\\\\n",
       "\t\\hline\n",
       "\t& String & Any\\\\\n",
       "\t\\hline\n",
       "\t1 & TU0-12955 & none \\\\\n",
       "\t2 & TU0-13608 & none \\\\\n",
       "\t3 & TU358 & PM439 \\\\\n",
       "\t4 & TU0-8519 & PM0-9601 \\\\\n",
       "\t5 & TU0-8490 & PM0-8926 \\\\\n",
       "\\end{tabular}\n"
      ],
      "text/plain": [
       "\u001b[1m5×2 DataFrame\u001b[0m\n",
       "\u001b[1m Row \u001b[0m│\u001b[1m TU_ID     \u001b[0m\u001b[1m promoter_ID \u001b[0m\n",
       "\u001b[1m     \u001b[0m│\u001b[90m String    \u001b[0m\u001b[90m Any         \u001b[0m\n",
       "─────┼────────────────────────\n",
       "   1 │ TU0-12955  none\n",
       "   2 │ TU0-13608  none\n",
       "   3 │ TU358      PM439\n",
       "   4 │ TU0-8519   PM0-9601\n",
       "   5 │ TU0-8490   PM0-8926"
      ]
     },
     "execution_count": 27,
     "metadata": {},
     "output_type": "execute_result"
    }
   ],
   "source": [
    "# Open Transcription Units\n",
    "s = open(\"../data/ecocyc/transunits.dat\") do file\n",
    "    read(file, String)\n",
    "end\n",
    "\n",
    "# Drop Comments and split units\n",
    "tu_list = split(s, \"//\")[3:end]\n",
    "\n",
    "# Separate attributes\n",
    "tu_list = [split(x, '\\n') for x in tu_list]\n",
    "\n",
    "# Transform attributes into arrays\n",
    "tu_list = [[occursin(\" - \", x) ? split(x, \" - \") : SubString{String}[] for x in tu] for tu in tu_list]\n",
    "\n",
    "# Drop empty entries\n",
    "tu_list = [tu[.~isempty.(tu)] for tu in tu_list]\n",
    "\n",
    "\n",
    "# Write to DataFrame\n",
    "ID_list = String[]\n",
    "promoter_list = []\n",
    "\n",
    "\n",
    "for x in tu_list\n",
    "    name = filter(x -> x[1] == \"UNIQUE-ID\", x)\n",
    "    if ~isempty(name)\n",
    "        push!(ID_list, name[1][2])\n",
    "    else\n",
    "        push!(ID_list, \"None\")\n",
    "    end\n",
    "    \n",
    "    components = filter(x -> ((x[1] == \"COMPONENTS\") && (occursin(\"PM\", x[2]))), x)\n",
    "    if ~isempty(components)\n",
    "        for component in components\n",
    "            if occursin(\"PM\", component[2])\n",
    "                push!(promoter_list, component[2])\n",
    "            end\n",
    "        end\n",
    "    else\n",
    "        push!(promoter_list, \"none\")\n",
    "    end\n",
    "end\n",
    "\n",
    "df_tu = DataFrames.DataFrame(TU_ID=ID_list, promoter_ID=promoter_list)\n",
    "first(df_tu, 5)"
   ]
  },
  {
   "cell_type": "markdown",
   "id": "61f6df3e-3fdf-4782-9b43-29e5764f2395",
   "metadata": {},
   "source": [
    "Now that we have the promoters for every transcription unit, we can combine the information we have about genes and transcription units. We sort the data by transcription units, therefore we combine all genes that are part of the same transcription unit."
   ]
  },
  {
   "cell_type": "code",
   "execution_count": 28,
   "id": "a9d387bd-8d88-4457-adbd-e0a98a1c8212",
   "metadata": {},
   "outputs": [
    {
     "data": {
      "text/html": [
       "<div class=\"data-frame\"><p>5 rows × 5 columns</p><table class=\"data-frame\"><thead><tr><th></th><th>TU_ID</th><th>promoter_ID</th><th>genes</th><th>direction</th><th>gene_position</th></tr><tr><th></th><th title=\"String\">String</th><th title=\"Any\">Any</th><th title=\"Vector{String}\">Array…</th><th title=\"String\">String</th><th title=\"Vector{Float64}\">Array…</th></tr></thead><tbody><tr><th>1</th><td>TU0-12955</td><td>none</td><td>[&quot;cueR&quot;]</td><td>+</td><td>[513993.0]</td></tr><tr><th>2</th><td>TU0-13608</td><td>none</td><td>[&quot;yfdE&quot;]</td><td>-</td><td>[2.48917e6]</td></tr><tr><th>3</th><td>TU358</td><td>PM439</td><td>[&quot;cydA&quot;, &quot;cydB&quot;]</td><td>+</td><td>[771458.0, 773042.0]</td></tr><tr><th>4</th><td>TU0-8519</td><td>PM0-9601</td><td>[&quot;ryjA&quot;]</td><td>-</td><td>[4.27807e6]</td></tr><tr><th>5</th><td>TU0-8490</td><td>PM0-8926</td><td>[&quot;pepT&quot;]</td><td>+</td><td>[1.18584e6]</td></tr></tbody></table></div>"
      ],
      "text/latex": [
       "\\begin{tabular}{r|ccccc}\n",
       "\t& TU\\_ID & promoter\\_ID & genes & direction & gene\\_position\\\\\n",
       "\t\\hline\n",
       "\t& String & Any & Array… & String & Array…\\\\\n",
       "\t\\hline\n",
       "\t1 & TU0-12955 & none & [\"cueR\"] & + & [513993.0] \\\\\n",
       "\t2 & TU0-13608 & none & [\"yfdE\"] & - & [2.48917e6] \\\\\n",
       "\t3 & TU358 & PM439 & [\"cydA\", \"cydB\"] & + & [771458.0, 773042.0] \\\\\n",
       "\t4 & TU0-8519 & PM0-9601 & [\"ryjA\"] & - & [4.27807e6] \\\\\n",
       "\t5 & TU0-8490 & PM0-8926 & [\"pepT\"] & + & [1.18584e6] \\\\\n",
       "\\end{tabular}\n"
      ],
      "text/plain": [
       "\u001b[1m5×5 DataFrame\u001b[0m\n",
       "\u001b[1m Row \u001b[0m│\u001b[1m TU_ID     \u001b[0m\u001b[1m promoter_ID \u001b[0m\u001b[1m genes            \u001b[0m\u001b[1m direction \u001b[0m\u001b[1m gene_position     \u001b[0m ⋯\n",
       "\u001b[1m     \u001b[0m│\u001b[90m String    \u001b[0m\u001b[90m Any         \u001b[0m\u001b[90m Array…           \u001b[0m\u001b[90m String    \u001b[0m\u001b[90m Array…            \u001b[0m ⋯\n",
       "─────┼──────────────────────────────────────────────────────────────────────────\n",
       "   1 │ TU0-12955  none         [\"cueR\"]          +          [513993.0]         ⋯\n",
       "   2 │ TU0-13608  none         [\"yfdE\"]          -          [2.48917e6]\n",
       "   3 │ TU358      PM439        [\"cydA\", \"cydB\"]  +          [771458.0, 773042.\n",
       "   4 │ TU0-8519   PM0-9601     [\"ryjA\"]          -          [4.27807e6]\n",
       "   5 │ TU0-8490   PM0-8926     [\"pepT\"]          +          [1.18584e6]        ⋯\n",
       "\u001b[36m                                                                1 column omitted\u001b[0m"
      ]
     },
     "execution_count": 28,
     "metadata": {},
     "output_type": "execute_result"
    }
   ],
   "source": [
    "# Arrays for entry storage\n",
    "tu_genes = Vector{String}[]\n",
    "tu_gene_positions = Vector{Float64}[]\n",
    "tu_direction = String[]\n",
    "\n",
    "# Iterate through TU\n",
    "for tu in df_tu.TU_ID\n",
    "    # Find genes and their information for TU\n",
    "    _df = df_genes[map(x -> tu in x[\"transcription_units\"], eachrow(df_genes)), [\"gene\", \"direction\", \"gene_position\"]]\n",
    "    push!(tu_genes, _df.gene)\n",
    "    push!(tu_gene_positions, _df.gene_position)\n",
    "    direction = _df.direction |> unique\n",
    "    # Look for conflicting directions\n",
    "    if length(direction) > 1\n",
    "        throw(ErrorException(\"Found more than one direction for transcription unit $tu.\"))\n",
    "    elseif length(direction) == 0\n",
    "        push!(tu_direction, \"\")\n",
    "    else\n",
    "        push!(tu_direction, direction[1])\n",
    "    end\n",
    "end\n",
    "\n",
    "# Add genes to DataFrame\n",
    "insertcols!(df_tu, 3, :genes=>tu_genes)\n",
    "insertcols!(df_tu, 4, :direction=>tu_direction)\n",
    "insertcols!(df_tu, 5, :gene_position=>tu_gene_positions)\n",
    "\n",
    "first(df_tu, 5)"
   ]
  },
  {
   "cell_type": "markdown",
   "id": "c9486aa9-a651-4a41-9eef-ad1aa8e0c6bd",
   "metadata": {},
   "source": [
    "## Promoters"
   ]
  },
  {
   "cell_type": "markdown",
   "id": "f4049030-6f85-4df1-b904-b24c9b13e0dd",
   "metadata": {},
   "source": [
    "Now that we have a list of all transcription unites and their genes, we need to extract the information about their promoters. We are looking for the transcription start site of each promoter as well as how much evidence there is for the one that have been identified."
   ]
  },
  {
   "cell_type": "code",
   "execution_count": 31,
   "id": "fa435a5f-5dab-4467-bc44-010004ff647f",
   "metadata": {},
   "outputs": [
    {
     "data": {
      "text/html": [
       "<div class=\"data-frame\"><p>5 rows × 4 columns</p><table class=\"data-frame\"><thead><tr><th></th><th>promoter_ID</th><th>promoter</th><th>tss</th><th>evidence</th></tr><tr><th></th><th title=\"String\">String</th><th title=\"String\">String</th><th title=\"Float64\">Float64</th><th title=\"Vector{String}\">Array…</th></tr></thead><tbody><tr><th>1</th><td>PM00451</td><td>uspAp1</td><td>3.63998e6</td><td>[&quot;COMP&quot;, &quot;COMP&quot;, &quot;EXP&quot;, &quot;EXP&quot;]</td></tr><tr><th>2</th><td>PM0-45328</td><td>dedDp3</td><td>2.43188e6</td><td>[&quot;COMP&quot;]</td></tr><tr><th>3</th><td>PM0-45499</td><td>yqeFp11</td><td>2.98581e6</td><td>[&quot;COMP&quot;]</td></tr><tr><th>4</th><td>PM00628</td><td>glnBp3</td><td>2.68753e6</td><td>[&quot;EXP&quot;]</td></tr><tr><th>5</th><td>PM623</td><td>mazEp2</td><td>2.91136e6</td><td>[&quot;none&quot;, &quot;EXP&quot;]</td></tr></tbody></table></div>"
      ],
      "text/latex": [
       "\\begin{tabular}{r|cccc}\n",
       "\t& promoter\\_ID & promoter & tss & evidence\\\\\n",
       "\t\\hline\n",
       "\t& String & String & Float64 & Array…\\\\\n",
       "\t\\hline\n",
       "\t1 & PM00451 & uspAp1 & 3.63998e6 & [\"COMP\", \"COMP\", \"EXP\", \"EXP\"] \\\\\n",
       "\t2 & PM0-45328 & dedDp3 & 2.43188e6 & [\"COMP\"] \\\\\n",
       "\t3 & PM0-45499 & yqeFp11 & 2.98581e6 & [\"COMP\"] \\\\\n",
       "\t4 & PM00628 & glnBp3 & 2.68753e6 & [\"EXP\"] \\\\\n",
       "\t5 & PM623 & mazEp2 & 2.91136e6 & [\"none\", \"EXP\"] \\\\\n",
       "\\end{tabular}\n"
      ],
      "text/plain": [
       "\u001b[1m5×4 DataFrame\u001b[0m\n",
       "\u001b[1m Row \u001b[0m│\u001b[1m promoter_ID \u001b[0m\u001b[1m promoter \u001b[0m\u001b[1m tss       \u001b[0m\u001b[1m evidence                       \u001b[0m\n",
       "\u001b[1m     \u001b[0m│\u001b[90m String      \u001b[0m\u001b[90m String   \u001b[0m\u001b[90m Float64   \u001b[0m\u001b[90m Array…                         \u001b[0m\n",
       "─────┼──────────────────────────────────────────────────────────────────\n",
       "   1 │ PM00451      uspAp1    3.63998e6  [\"COMP\", \"COMP\", \"EXP\", \"EXP\"]\n",
       "   2 │ PM0-45328    dedDp3    2.43188e6  [\"COMP\"]\n",
       "   3 │ PM0-45499    yqeFp11   2.98581e6  [\"COMP\"]\n",
       "   4 │ PM00628      glnBp3    2.68753e6  [\"EXP\"]\n",
       "   5 │ PM623        mazEp2    2.91136e6  [\"none\", \"EXP\"]"
      ]
     },
     "execution_count": 31,
     "metadata": {},
     "output_type": "execute_result"
    }
   ],
   "source": [
    "# Read promoter file\n",
    "s = open(\"../data/ecocyc/promoters.dat\") do file\n",
    "    read(file, String)\n",
    "end\n",
    "\n",
    "# Split promoters and remove comments\n",
    "promoter_list = split(s, \"//\")[3:end]\n",
    "\n",
    "# Separate attributes\n",
    "promoter_list = [split(x, '\\n') for x in promoter_list]\n",
    "\n",
    "# Transform attributes into arrays\n",
    "promoter_list = [[occursin(\" - \", x) ? split(x, \" - \") : SubString{String}[] for x in promoter] for promoter in promoter_list]\n",
    "\n",
    "# Drop empty entries\n",
    "promoter_list = [promoter[.~isempty.(promoter)] for promoter in promoter_list]\n",
    "\n",
    "\n",
    "# Make DataFrame\n",
    "ID_list = String[]\n",
    "name_list = String[]\n",
    "TSS_list = Float64[]\n",
    "evidence_list = Vector{String}[]\n",
    "\n",
    "# Iterate through promoters\n",
    "for x in promoter_list\n",
    "    name = filter(x -> x[1] == \"UNIQUE-ID\", x)\n",
    "    if ~isempty(name)\n",
    "        push!(ID_list, name[1][2])\n",
    "    else\n",
    "        push!(ID_list, \"None\")\n",
    "    end\n",
    "    \n",
    "    name = filter(x -> x[1] == \"COMMON-NAME\", x)\n",
    "    if ~isempty(name)\n",
    "        push!(name_list, name[1][2])\n",
    "    else\n",
    "        push!(name_list, \"None\")\n",
    "    end\n",
    "    \n",
    "    TSS = filter(x -> x[1] == \"ABSOLUTE-PLUS-1-POS\", x)\n",
    "    if ~isempty(TSS)\n",
    "        push!(TSS_list, parse(Float64, TSS[1][2]))\n",
    "    else\n",
    "        push!(TSS_list, NaN)\n",
    "    end\n",
    "    \n",
    "    cits = filter(x -> x[1] == \"CITATIONS\", x)\n",
    "    if ~isempty(cits)\n",
    "        cit_list = String[]\n",
    "        for cit in cits\n",
    "            if occursin(\"EV-EXP\", cit[2])\n",
    "                push!(cit_list, \"EXP\")\n",
    "            elseif occursin(\"EV-COMP\", cit[2])\n",
    "                push!(cit_list, \"COMP\")\n",
    "            end\n",
    "            if length(cit_list) == 0 \n",
    "                push!(cit_list, \"none\")\n",
    "            end\n",
    "        end\n",
    "        push!(evidence_list, cit_list)\n",
    "    else\n",
    "        push!(evidence_list, String[\"none\"])\n",
    "    end\n",
    "    \n",
    "end\n",
    "df_tss = DataFrames.DataFrame(promoter_ID=ID_list, promoter=name_list, tss=TSS_list, evidence=evidence_list)\n",
    "first(df_tss, 5)"
   ]
  },
  {
   "cell_type": "markdown",
   "id": "64346a7b-9fa2-4b7e-ba62-e7cf81f9bb30",
   "metadata": {},
   "source": [
    "Now we need to combine the dataframes of transcription units and promoters. After joining, there will be some missing entries when there is a transcription unit that does not have a promoter associated with it. We are going to replace the missing values with easy to interpret entries."
   ]
  },
  {
   "cell_type": "code",
   "execution_count": 34,
   "id": "f6e51a2d-68dd-4056-88f0-41f376baa143",
   "metadata": {},
   "outputs": [
    {
     "data": {
      "text/html": [
       "<div class=\"data-frame\"><p>20 rows × 8 columns (omitted printing of 4 columns)</p><table class=\"data-frame\"><thead><tr><th></th><th>TU_ID</th><th>promoter_ID</th><th>genes</th><th>direction</th></tr><tr><th></th><th title=\"String\">String</th><th title=\"Any\">Any</th><th title=\"Vector{String}\">Array…</th><th title=\"String\">String</th></tr></thead><tbody><tr><th>1</th><td>TU00431</td><td>PM00451</td><td>[&quot;uspA&quot;]</td><td>+</td></tr><tr><th>2</th><td>TU00474</td><td>PM00628</td><td>[&quot;glnB&quot;]</td><td>-</td></tr><tr><th>3</th><td>TU523</td><td>PM623</td><td>[&quot;mazG&quot;, &quot;mazE&quot;, &quot;mazF&quot;]</td><td>-</td></tr><tr><th>4</th><td>TU0-13680</td><td>PM0-10103</td><td>[&quot;ffh&quot;]</td><td>-</td></tr><tr><th>5</th><td>TU0-13351</td><td>PM0-10409</td><td>[&quot;blr&quot;]</td><td>+</td></tr><tr><th>6</th><td>TU0-14183</td><td>PM0-46064</td><td>[&quot;nanX&quot;, &quot;nanY&quot;]</td><td>+</td></tr><tr><th>7</th><td>TU0-42602</td><td>PM0-46356</td><td>[&quot;accA&quot;]</td><td>+</td></tr><tr><th>8</th><td>TU0-36412</td><td>PM0-36157</td><td>[&quot;pcnB&quot;, &quot;folK&quot;]</td><td>-</td></tr><tr><th>9</th><td>TU783</td><td>PM924</td><td>[&quot;zraS&quot;, &quot;zraR&quot;]</td><td>+</td></tr><tr><th>10</th><td>TU0-45265</td><td>PM0-46567</td><td>[&quot;appX&quot;, &quot;appB&quot;, &quot;appC&quot;, &quot;appA&quot;]</td><td>+</td></tr><tr><th>11</th><td>TU0-7881</td><td>PM0-8261</td><td>[&quot;mdtC&quot;, &quot;mdtB&quot;, &quot;mdtD&quot;, &quot;baeS&quot;, &quot;mdtA&quot;, &quot;baeR&quot;]</td><td>+</td></tr><tr><th>12</th><td>TU0-12805</td><td>PM0-9592</td><td>[&quot;sgrR&quot;, &quot;sroA&quot;, &quot;thiQ&quot;, &quot;thiB&quot;, &quot;thiP&quot;]</td><td>-</td></tr><tr><th>13</th><td>TU0-14559</td><td>PM0-9860</td><td>[&quot;yehX&quot;, &quot;osmF&quot;, &quot;yehY&quot;, &quot;yehW&quot;]</td><td>-</td></tr><tr><th>14</th><td>TU0-14785</td><td>PM0-10472</td><td>[&quot;flhD&quot;, &quot;flhC&quot;]</td><td>-</td></tr><tr><th>15</th><td>TU00131</td><td>PM00175</td><td>[&quot;melB&quot;, &quot;melA&quot;]</td><td>+</td></tr><tr><th>16</th><td>TU0-2644</td><td>PM00401</td><td>[&quot;micF&quot;]</td><td>+</td></tr><tr><th>17</th><td>TU0-42682</td><td>PM0-46395</td><td>[&quot;csqR&quot;]</td><td>+</td></tr><tr><th>18</th><td>TU0-3882</td><td>PM00611</td><td>[&quot;proP&quot;]</td><td>+</td></tr><tr><th>19</th><td>TU441</td><td>PM541</td><td>[&quot;fabF&quot;, &quot;acpP&quot;]</td><td>+</td></tr><tr><th>20</th><td>TU0-42537</td><td>PM541</td><td>[&quot;acpP&quot;]</td><td>+</td></tr></tbody></table></div>"
      ],
      "text/latex": [
       "\\begin{tabular}{r|ccccc}\n",
       "\t& TU\\_ID & promoter\\_ID & genes & direction & \\\\\n",
       "\t\\hline\n",
       "\t& String & Any & Array… & String & \\\\\n",
       "\t\\hline\n",
       "\t1 & TU00431 & PM00451 & [\"uspA\"] & + & $\\dots$ \\\\\n",
       "\t2 & TU00474 & PM00628 & [\"glnB\"] & - & $\\dots$ \\\\\n",
       "\t3 & TU523 & PM623 & [\"mazG\", \"mazE\", \"mazF\"] & - & $\\dots$ \\\\\n",
       "\t4 & TU0-13680 & PM0-10103 & [\"ffh\"] & - & $\\dots$ \\\\\n",
       "\t5 & TU0-13351 & PM0-10409 & [\"blr\"] & + & $\\dots$ \\\\\n",
       "\t6 & TU0-14183 & PM0-46064 & [\"nanX\", \"nanY\"] & + & $\\dots$ \\\\\n",
       "\t7 & TU0-42602 & PM0-46356 & [\"accA\"] & + & $\\dots$ \\\\\n",
       "\t8 & TU0-36412 & PM0-36157 & [\"pcnB\", \"folK\"] & - & $\\dots$ \\\\\n",
       "\t9 & TU783 & PM924 & [\"zraS\", \"zraR\"] & + & $\\dots$ \\\\\n",
       "\t10 & TU0-45265 & PM0-46567 & [\"appX\", \"appB\", \"appC\", \"appA\"] & + & $\\dots$ \\\\\n",
       "\t11 & TU0-7881 & PM0-8261 & [\"mdtC\", \"mdtB\", \"mdtD\", \"baeS\", \"mdtA\", \"baeR\"] & + & $\\dots$ \\\\\n",
       "\t12 & TU0-12805 & PM0-9592 & [\"sgrR\", \"sroA\", \"thiQ\", \"thiB\", \"thiP\"] & - & $\\dots$ \\\\\n",
       "\t13 & TU0-14559 & PM0-9860 & [\"yehX\", \"osmF\", \"yehY\", \"yehW\"] & - & $\\dots$ \\\\\n",
       "\t14 & TU0-14785 & PM0-10472 & [\"flhD\", \"flhC\"] & - & $\\dots$ \\\\\n",
       "\t15 & TU00131 & PM00175 & [\"melB\", \"melA\"] & + & $\\dots$ \\\\\n",
       "\t16 & TU0-2644 & PM00401 & [\"micF\"] & + & $\\dots$ \\\\\n",
       "\t17 & TU0-42682 & PM0-46395 & [\"csqR\"] & + & $\\dots$ \\\\\n",
       "\t18 & TU0-3882 & PM00611 & [\"proP\"] & + & $\\dots$ \\\\\n",
       "\t19 & TU441 & PM541 & [\"fabF\", \"acpP\"] & + & $\\dots$ \\\\\n",
       "\t20 & TU0-42537 & PM541 & [\"acpP\"] & + & $\\dots$ \\\\\n",
       "\\end{tabular}\n"
      ],
      "text/plain": [
       "\u001b[1m20×8 DataFrame\u001b[0m\n",
       "\u001b[1m Row \u001b[0m│\u001b[1m TU_ID     \u001b[0m\u001b[1m promoter_ID \u001b[0m\u001b[1m genes                             \u001b[0m\u001b[1m direction \u001b[0m\u001b[1m g\u001b[0m ⋯\n",
       "\u001b[1m     \u001b[0m│\u001b[90m String    \u001b[0m\u001b[90m Any         \u001b[0m\u001b[90m Array…                            \u001b[0m\u001b[90m String    \u001b[0m\u001b[90m A\u001b[0m ⋯\n",
       "─────┼──────────────────────────────────────────────────────────────────────────\n",
       "   1 │ TU00431    PM00451      [\"uspA\"]                           +          [ ⋯\n",
       "   2 │ TU00474    PM00628      [\"glnB\"]                           -          [\n",
       "   3 │ TU523      PM623        [\"mazG\", \"mazE\", \"mazF\"]           -          [\n",
       "   4 │ TU0-13680  PM0-10103    [\"ffh\"]                            -          [\n",
       "   5 │ TU0-13351  PM0-10409    [\"blr\"]                            +          [ ⋯\n",
       "   6 │ TU0-14183  PM0-46064    [\"nanX\", \"nanY\"]                   +          [\n",
       "   7 │ TU0-42602  PM0-46356    [\"accA\"]                           +          [\n",
       "   8 │ TU0-36412  PM0-36157    [\"pcnB\", \"folK\"]                   -          [\n",
       "   9 │ TU783      PM924        [\"zraS\", \"zraR\"]                   +          [ ⋯\n",
       "  10 │ TU0-45265  PM0-46567    [\"appX\", \"appB\", \"appC\", \"appA\"]   +          [\n",
       "  11 │ TU0-7881   PM0-8261     [\"mdtC\", \"mdtB\", \"mdtD\", \"baeS\",…  +          [\n",
       "  12 │ TU0-12805  PM0-9592     [\"sgrR\", \"sroA\", \"thiQ\", \"thiB\",…  -          [\n",
       "  13 │ TU0-14559  PM0-9860     [\"yehX\", \"osmF\", \"yehY\", \"yehW\"]   -          [ ⋯\n",
       "  14 │ TU0-14785  PM0-10472    [\"flhD\", \"flhC\"]                   -          [\n",
       "  15 │ TU00131    PM00175      [\"melB\", \"melA\"]                   +          [\n",
       "  16 │ TU0-2644   PM00401      [\"micF\"]                           +          [\n",
       "  17 │ TU0-42682  PM0-46395    [\"csqR\"]                           +          [ ⋯\n",
       "  18 │ TU0-3882   PM00611      [\"proP\"]                           +          [\n",
       "  19 │ TU441      PM541        [\"fabF\", \"acpP\"]                   +          [\n",
       "  20 │ TU0-42537  PM541        [\"acpP\"]                           +          [\n",
       "\u001b[36m                                                               4 columns omitted\u001b[0m"
      ]
     },
     "metadata": {},
     "output_type": "display_data"
    }
   ],
   "source": [
    "# Join DataFrames\n",
    "df_joint = outerjoin(df_tu, df_tss, on = :promoter_ID) |> unique\n",
    "\n",
    "# Replace missing values\n",
    "df_joint.TU_ID = coalesce.(df_joint.TU_ID, \"None\")\n",
    "df_joint.genes = coalesce.(df_joint.genes, [[\"None\"]])\n",
    "df_joint.direction = coalesce.(df_joint.direction, \"0\")\n",
    "df_joint.tss = coalesce.(df_joint.tss, NaN)\n",
    "df_joint.evidence = coalesce.(df_joint.evidence, [[\"None\"]])\n",
    "display(first(df_joint, 20))"
   ]
  },
  {
   "cell_type": "code",
   "execution_count": 36,
   "id": "78a06294-d71b-4f1f-b4b2-038b57587656",
   "metadata": {},
   "outputs": [
    {
     "data": {
      "text/plain": [
       "\"../data/promoter_list_ecocyc.csv\""
      ]
     },
     "execution_count": 36,
     "metadata": {},
     "output_type": "execute_result"
    }
   ],
   "source": [
    "##\n",
    "gdf = groupby(df_joint, \"promoter_ID\")\n",
    "temp_df = DataFrame()\n",
    "for _df in gdf\n",
    "    ind = argmax(maximum(length.(_df.genes)))\n",
    "    append!(temp_df, _df[ind:ind, :])\n",
    "end\n",
    "df_joint = temp_df\n",
    "\n",
    "\n",
    "# Split DataFrame into promoters with TUs and without\n",
    "df_joint_prom = df_joint[(df_joint.direction .!= \"0\") .& (.~ isnan.(df_joint.tss)), :]\n",
    "CSV.write(\"../data/promoter_list_ecocyc.csv\", df_joint_prom[:, [\"promoter\", \"genes\", \"gene_position\", \"direction\", \"tss\", \"evidence\"]])"
   ]
  },
  {
   "cell_type": "markdown",
   "id": "9815985c-8869-4077-b9c6-e2808f0bee73",
   "metadata": {},
   "source": []
  },
  {
   "cell_type": "markdown",
   "id": "9ed9b164-10cb-4512-9b25-69536662bb43",
   "metadata": {},
   "source": [
    "# Computational Environment"
   ]
  },
  {
   "cell_type": "code",
   "execution_count": 42,
   "id": "f4278dd2-2750-4f50-93a8-f4dc05e2619e",
   "metadata": {},
   "outputs": [
    {
     "name": "stdout",
     "output_type": "stream",
     "text": [
      "\u001b[36m\u001b[1m     Project\u001b[22m\u001b[39m wgregseq v0.1.0\n",
      "\u001b[32m\u001b[1m      Status\u001b[22m\u001b[39m `~/git/1000_genes_ecoli/Project.toml`\n",
      " \u001b[90m [336ed68f] \u001b[39mCSV v0.10.2\n",
      " \u001b[90m [a93c6f00] \u001b[39mDataFrames v1.3.2\n"
     ]
    }
   ],
   "source": [
    "using Pkg\n",
    "Pkg.status([\"DataFrames\", \"CSV\"])"
   ]
  }
 ],
 "metadata": {
  "kernelspec": {
   "display_name": "Julia 1.7.0",
   "language": "julia",
   "name": "julia-1.7"
  },
  "language_info": {
   "file_extension": ".jl",
   "mimetype": "application/julia",
   "name": "julia",
   "version": "1.7.0"
  }
 },
 "nbformat": 4,
 "nbformat_minor": 5
}
