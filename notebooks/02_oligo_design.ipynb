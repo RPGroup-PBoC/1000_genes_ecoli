{
 "cells": [
  {
   "cell_type": "markdown",
   "id": "d41c2e9d-2a6e-4f83-b60f-dc9c8edd4e23",
   "metadata": {
    "tags": []
   },
   "source": [
    "# Oligo Design for RegSeq Style Experiments"
   ]
  },
  {
   "attachments": {},
   "cell_type": "markdown",
   "id": "290ca1c8-f5bf-45de-a116-7c6ade753078",
   "metadata": {},
   "source": [
    "© 2023 Tom Röschinger. This work is licensed under a <a href=\"https://creativecommons.org/licenses/by/4.0/\">Creative Commons Attribution License CC-BY 4.0</a>. All code contained herein is licensed under an <a href=\"https://opensource.org/licenses/MIT\">MIT license</a>"
   ]
  },
  {
   "cell_type": "markdown",
   "id": "8435e179-2aef-42da-9bd4-9ce229e7b20d",
   "metadata": {},
   "source": [
    "***"
   ]
  },
  {
   "cell_type": "markdown",
   "id": "fa056a4a-4b00-49da-972e-c6f8614b9147",
   "metadata": {},
   "source": [
    "In RegSeq we use mutagenized variants of promoters to identify binding sites for regulatory components. These promoter variants are designed computationally and then synthesized. In this notebook we explain how the oligo design works and design a test set."
   ]
  },
  {
   "cell_type": "code",
   "execution_count": 3,
   "id": "2dc7720e-4433-4c04-bf00-f29e1a10f3a9",
   "metadata": {},
   "outputs": [
    {
     "name": "stderr",
     "output_type": "stream",
     "text": [
      "┌ Warning: SIMD capacity not detected by ScanByte, using scalar fallback\n",
      "└ @ ScanByte /Users/tomroeschinger/.julia/packages/ScanByte/eOQJf/src/ScanByte.jl:11\n"
     ]
    }
   ],
   "source": [
    "# Import packages\n",
    "using wgregseq, FASTX, DataFrames, CSV, BioSequences, CairoMakie\n",
    "\n",
    "# Set plotting style\n",
    "wgregseq.plotting_style.default_makie!()"
   ]
  },
  {
   "cell_type": "markdown",
   "id": "becbc77a-cf54-4eb8-8444-1aeebbfba135",
   "metadata": {},
   "source": [
    "## Data Import"
   ]
  },
  {
   "cell_type": "markdown",
   "id": "babb7d86-0441-402c-8afc-aa002ff8c6a7",
   "metadata": {},
   "source": [
    "First we import the wildtype sequence for *E. coli* K12 MG1655. "
   ]
  },
  {
   "cell_type": "code",
   "execution_count": 4,
   "id": "33561ce2-fb23-49c5-9bd0-a45d3e1a9222",
   "metadata": {},
   "outputs": [
    {
     "data": {
      "text/plain": [
       "4641652nt DNA Sequence:\n",
       "AGCTTTTCATTCTGACTGCAACGGGCAATATGTCTCTGT…AATATCACCAAATAAAAAACGCCTTAGTAAGTATTTTTC"
      ]
     },
     "execution_count": 4,
     "metadata": {},
     "output_type": "execute_result"
    }
   ],
   "source": [
    "# Import genome for E.coli K12 MG1655\n",
    "re = open(FASTA.Reader, \"../data/ecocyc/mg1655_genome.fasta\")\n",
    "\n",
    "# Read out sequence\n",
    "wt_sequence = [sequence(record) for record in re][1]"
   ]
  },
  {
   "attachments": {},
   "cell_type": "markdown",
   "id": "deb03212-1e0a-4b68-b37f-62df947e6acd",
   "metadata": {},
   "source": [
    "Next we import the list of genes that we want to create promoter variants for. Once the genes are imported, we group them into certain classes. These classes can be used to design certain primer sets that allow to amplify only a certain group of genes from the entire pool. The classes were annotated manually when we chose the genes that would be studied in this experiment."
   ]
  },
  {
   "cell_type": "code",
   "execution_count": 5,
   "id": "08a26db2-b337-4121-9103-e78d7ba668d0",
   "metadata": {},
   "outputs": [
    {
     "name": "stdout",
     "output_type": "stream",
     "text": [
      "\u001b[1m14×2 DataFrame\u001b[0m\n",
      "\u001b[1m Row \u001b[0m│\u001b[1m group                             \u001b[0m\u001b[1m Number of Genes \u001b[0m\n",
      "\u001b[1m     \u001b[0m│\u001b[90m String                            \u001b[0m\u001b[90m Int64           \u001b[0m\n",
      "─────┼────────────────────────────────────────────────────\n",
      "   1 │ Gold Standard                                   18\n",
      "   2 │ Antibiotic/toxin                                19\n",
      "   3 │ Inc-4 (x) - stress                               1\n",
      "   4 │ Inc-4 (y) - stress                               1\n",
      "   5 │ Inc-4 (z) - stress                               1\n",
      "   6 │ Inc-1 (x)                                        1\n",
      "   7 │ Inc-1 (y)                                        1\n",
      "   8 │ Inc-1 (z1)                                       1\n",
      "   9 │ Inc-1 (z2)                                       1\n",
      "  10 │ Heinemann dataset                                9\n",
      "  11 │ Heinemann dataset uncharacterized               11\n",
      "  12 │ uncharacterized protein                         13\n",
      "  13 │ YmfT_modulon                                    16\n",
      "  14 │ YgeV_modulon                                    16\n"
     ]
    }
   ],
   "source": [
    "# Import gene list to generate sequences for\n",
    "gene_table = CSV.read(\n",
    "    \"../data/100_genes.csv\", \n",
    "    DataFrames.DataFrame, \n",
    "    delim=\",\",\n",
    "    comment=\"#\",\n",
    "    missingstring=\"none\",\n",
    ")\n",
    "\n",
    "# Give IDs to groups \n",
    "group_dict = Dict{String, Int64}(filter(x -> occursin(\"Antibiotic/toxin\", x), gene_table.group) .=> 1)\n",
    "group_dict[\"Gold Standard\"] = 2\n",
    "group_dict[\"Heinemann dataset\"] = 3\n",
    "group_dict[\"uncharacterized protein\"] = 4\n",
    "group_dict[\"Heinemann dataset uncharacterized\"] = 7\n",
    "group_dict[\"YmfT_modulon\"] = 5\n",
    "group_dict[\"YgeV_modulon\"] = 6\n",
    "\n",
    "# Give give IDs to genes\n",
    "groups = zeros(nrow(gene_table))\n",
    "for i in 1:nrow(gene_table)\n",
    "    if gene_table[i, \"group\"] in keys(group_dict)\n",
    "        groups[i] = group_dict[gene_table[i, \"group\"]]\n",
    "    else\n",
    "        groups[i] = 8\n",
    "    end\n",
    "end\n",
    "\n",
    "# Add IDs to table\n",
    "insertcols!(gene_table, 4, :group_ID => groups)\n",
    "\n",
    "# Print number of genes per group\n",
    "println(combine(groupby(gene_table, \"group\"), nrow=>Symbol(\"Number of Genes\")))"
   ]
  },
  {
   "attachments": {},
   "cell_type": "markdown",
   "id": "ba83d912-2607-4308-9b8d-8e7da66cd6bc",
   "metadata": {},
   "source": [
    "Next we import the promoters we exported from the Ecocyc database previously (check out notebook `database_query.ipynb`). The table we import contains the promoter name, the genes that are transcribed from this promoter, the location of the promoter in the genome, and the direction at which transcription takes place."
   ]
  },
  {
   "cell_type": "code",
   "execution_count": 6,
   "id": "e61aca55-9bef-4c23-afea-d7d26209181e",
   "metadata": {},
   "outputs": [
    {
     "data": {
      "text/html": [
       "<div class=\"data-frame\"><p>5 rows × 6 columns (omitted printing of 2 columns)</p><table class=\"data-frame\"><thead><tr><th></th><th>promoter</th><th>genes</th><th>gene_position</th><th>direction</th></tr><tr><th></th><th title=\"String\">String</th><th title=\"String\">String</th><th title=\"String\">String</th><th title=\"Union{Missing, String}\">String?</th></tr></thead><tbody><tr><th>1</th><td>uspAp1</td><td>[&quot;uspA&quot;]</td><td>[3.640111e6]</td><td>+</td></tr><tr><th>2</th><td>glnBp3</td><td>[&quot;glnB&quot;]</td><td>[2.687408e6]</td><td>-</td></tr><tr><th>3</th><td>mazEp2</td><td>[&quot;mazG&quot;, &quot;mazE&quot;, &quot;mazF&quot;]</td><td>[2.910685e6, 2.911339e6, 2.911091e6]</td><td>-</td></tr><tr><th>4</th><td>ffhp</td><td>[&quot;ffh&quot;]</td><td>[2.747795e6]</td><td>-</td></tr><tr><th>5</th><td>blrp</td><td>[&quot;blr&quot;]</td><td>[1.704551e6]</td><td>+</td></tr></tbody></table></div>"
      ],
      "text/latex": [
       "\\begin{tabular}{r|ccccc}\n",
       "\t& promoter & genes & gene\\_position & direction & \\\\\n",
       "\t\\hline\n",
       "\t& String & String & String & String? & \\\\\n",
       "\t\\hline\n",
       "\t1 & uspAp1 & [\"uspA\"] & [3.640111e6] & + & $\\dots$ \\\\\n",
       "\t2 & glnBp3 & [\"glnB\"] & [2.687408e6] & - & $\\dots$ \\\\\n",
       "\t3 & mazEp2 & [\"mazG\", \"mazE\", \"mazF\"] & [2.910685e6, 2.911339e6, 2.911091e6] & - & $\\dots$ \\\\\n",
       "\t4 & ffhp & [\"ffh\"] & [2.747795e6] & - & $\\dots$ \\\\\n",
       "\t5 & blrp & [\"blr\"] & [1.704551e6] & + & $\\dots$ \\\\\n",
       "\\end{tabular}\n"
      ],
      "text/plain": [
       "\u001b[1m5×6 DataFrame\u001b[0m\n",
       "\u001b[1m Row \u001b[0m│\u001b[1m promoter \u001b[0m\u001b[1m genes                    \u001b[0m\u001b[1m gene_position                     \u001b[0m\u001b[1m \u001b[0m ⋯\n",
       "\u001b[1m     \u001b[0m│\u001b[90m String   \u001b[0m\u001b[90m String                   \u001b[0m\u001b[90m String                            \u001b[0m\u001b[90m \u001b[0m ⋯\n",
       "─────┼──────────────────────────────────────────────────────────────────────────\n",
       "   1 │ uspAp1    [\"uspA\"]                  [3.640111e6]                        ⋯\n",
       "   2 │ glnBp3    [\"glnB\"]                  [2.687408e6]\n",
       "   3 │ mazEp2    [\"mazG\", \"mazE\", \"mazF\"]  [2.910685e6, 2.911339e6, 2.91109…\n",
       "   4 │ ffhp      [\"ffh\"]                   [2.747795e6]\n",
       "   5 │ blrp      [\"blr\"]                   [1.704551e6]                        ⋯\n",
       "\u001b[36m                                                               3 columns omitted\u001b[0m"
      ]
     },
     "execution_count": 6,
     "metadata": {},
     "output_type": "execute_result"
    }
   ],
   "source": [
    "# Import promoter list and infer types that can be infered automatically\n",
    "promoter_list = CSV.read(\n",
    "    \"../data/promoter_list_ecocyc.csv\",\n",
    "    DataFrames.DataFrame, \n",
    "    types=Dict(\n",
    "        \"promoter\"=>String,\n",
    "        \"tss\"=>Float64,\n",
    "        \"direction\"=>String\n",
    "    )\n",
    ")\n",
    "first(promoter_list, 5)"
   ]
  },
  {
   "attachments": {},
   "cell_type": "markdown",
   "id": "d667b38d-fbae-45db-8e02-4355aa02a69a",
   "metadata": {},
   "source": [
    "There is a also a list of genes that are transcribed together, but do not have a transcription start site annotated with them. We use a computational model to predict possible transcription start sites for these genes. For details, check out this [paper](https://www.nature.com/articles/s41467-022-32829-5)."
   ]
  },
  {
   "cell_type": "code",
   "execution_count": 7,
   "id": "15b022af-3988-4437-9856-b2d10b37ad89",
   "metadata": {},
   "outputs": [
    {
     "data": {
      "text/html": [
       "<div class=\"data-frame\"><p>5 rows × 3 columns</p><table class=\"data-frame\"><thead><tr><th></th><th>genes</th><th>direction</th><th>gene_position</th></tr><tr><th></th><th title=\"String\">String</th><th title=\"String\">String</th><th title=\"String\">String</th></tr></thead><tbody><tr><th>1</th><td>[&quot;tfaE&quot;, &quot;stfE&quot;]</td><td>-</td><td>[1.209119e6, 1.209655e6]</td></tr><tr><th>2</th><td>[&quot;yabR&quot;]</td><td>-</td><td>[85511.0]</td></tr><tr><th>3</th><td>[&quot;trmB&quot;, &quot;yggL&quot;]</td><td>-</td><td>[3.102852e6, 3.102133e6]</td></tr><tr><th>4</th><td>[&quot;rluB&quot;]</td><td>+</td><td>[1.326852e6]</td></tr><tr><th>5</th><td>[&quot;insH2&quot;]</td><td>-</td><td>[575717.0]</td></tr></tbody></table></div>"
      ],
      "text/latex": [
       "\\begin{tabular}{r|ccc}\n",
       "\t& genes & direction & gene\\_position\\\\\n",
       "\t\\hline\n",
       "\t& String & String & String\\\\\n",
       "\t\\hline\n",
       "\t1 & [\"tfaE\", \"stfE\"] & - & [1.209119e6, 1.209655e6] \\\\\n",
       "\t2 & [\"yabR\"] & - & [85511.0] \\\\\n",
       "\t3 & [\"trmB\", \"yggL\"] & - & [3.102852e6, 3.102133e6] \\\\\n",
       "\t4 & [\"rluB\"] & + & [1.326852e6] \\\\\n",
       "\t5 & [\"insH2\"] & - & [575717.0] \\\\\n",
       "\\end{tabular}\n"
      ],
      "text/plain": [
       "\u001b[1m5×3 DataFrame\u001b[0m\n",
       "\u001b[1m Row \u001b[0m│\u001b[1m genes            \u001b[0m\u001b[1m direction \u001b[0m\u001b[1m gene_position            \u001b[0m\n",
       "\u001b[1m     \u001b[0m│\u001b[90m String           \u001b[0m\u001b[90m String    \u001b[0m\u001b[90m String                   \u001b[0m\n",
       "─────┼───────────────────────────────────────────────────────\n",
       "   1 │ [\"tfaE\", \"stfE\"]  -          [1.209119e6, 1.209655e6]\n",
       "   2 │ [\"yabR\"]          -          [85511.0]\n",
       "   3 │ [\"trmB\", \"yggL\"]  -          [3.102852e6, 3.102133e6]\n",
       "   4 │ [\"rluB\"]          +          [1.326852e6]\n",
       "   5 │ [\"insH2\"]         -          [575717.0]"
      ]
     },
     "execution_count": 7,
     "metadata": {},
     "output_type": "execute_result"
    }
   ],
   "source": [
    "operons_without_promoters = CSV.read(\n",
    "    \"../data/operons_without_promoters.csv\", \n",
    "    DataFrames.DataFrame, \n",
    "    types=Dict(\n",
    "        \"direction\"=>String\n",
    "    )\n",
    ")\n",
    "\n",
    "first(operons_without_promoters, 5)"
   ]
  },
  {
   "cell_type": "markdown",
   "id": "8669ccaf-a570-4193-91f4-da3902976e78",
   "metadata": {},
   "source": [
    "Importing dataframes with columns that contain arrays as entries leads to them being imported as strings (the column is a list of strings: `Vector{String}`). Therefore we need to do some correction and change the types of these entries, such that we actually have a list at each entry, and not a string. For example, the column for gene positions should have type `Vector{Vector{Int64}}`, which means that the column is a list, where each entry is a list of Integers."
   ]
  },
  {
   "cell_type": "code",
   "execution_count": 8,
   "id": "0f325c32-8392-4630-8e20-63b0dc64a694",
   "metadata": {},
   "outputs": [
    {
     "data": {
      "text/plain": [
       "Vector{String}\u001b[90m (alias for \u001b[39m\u001b[90mArray{String, 1}\u001b[39m\u001b[90m)\u001b[39m"
      ]
     },
     "execution_count": 8,
     "metadata": {},
     "output_type": "execute_result"
    }
   ],
   "source": [
    "typeof(promoter_list.gene_position) "
   ]
  },
  {
   "attachments": {},
   "cell_type": "markdown",
   "id": "e5a4ed04-7117-4eac-9669-58fde3e67a52",
   "metadata": {},
   "source": [
    "To be able to work with these columns we need to transform the types back to their correct type. We wrote some extensions to the `parse` function in Julia's `Base`, which does exactly that. Make sure that the `wgregseq` package is imported, such that these functions are available for use."
   ]
  },
  {
   "cell_type": "code",
   "execution_count": 9,
   "id": "75458d7f-cb18-43d8-a919-9c319f729c01",
   "metadata": {
    "tags": []
   },
   "outputs": [
    {
     "data": {
      "text/plain": [
       "Vector{Vector{Float64}}\u001b[90m (alias for \u001b[39m\u001b[90mArray{Array{Float64, 1}, 1}\u001b[39m\u001b[90m)\u001b[39m"
      ]
     },
     "execution_count": 9,
     "metadata": {},
     "output_type": "execute_result"
    }
   ],
   "source": [
    "# Replace columns by nicer types\n",
    "promoter_list.genes = parse.(Vector{String}, promoter_list.genes)\n",
    "promoter_list.gene_position = parse.(Vector{Float64}, promoter_list.gene_position)\n",
    "promoter_list.evidence = parse.(Vector{String}, promoter_list.evidence)\n",
    "\n",
    "operons_without_promoters.genes = parse.(Vector{String}, operons_without_promoters.genes)\n",
    "operons_without_promoters.gene_position = parse.(Vector{Float64}, operons_without_promoters.gene_position)\n",
    "\n",
    "typeof(promoter_list.gene_position)  # Vector{Vector{Float64}}"
   ]
  },
  {
   "cell_type": "markdown",
   "id": "f937eb18-348b-40b2-9def-d9e1769702c5",
   "metadata": {},
   "source": [
    "Many genes have multiple synonyms. Therefore, we need to check that each gene is listed with the correct name that matches with the gene names in our database. We have a table with all genes that contains entries for all synonyms."
   ]
  },
  {
   "cell_type": "code",
   "execution_count": 10,
   "id": "7c000e73-9150-49e6-bf08-12b6254c9180",
   "metadata": {},
   "outputs": [],
   "source": [
    "# Some genes may have the wrong synomym\n",
    "all_gene_list = CSV.read(\n",
    "    \"../data/all_genes_table.csv\", \n",
    "    DataFrame, \n",
    "    types=Dict(\n",
    "        \"ID\"=>String,\n",
    "        \"gene\"=>String,\n",
    "        \"gene_position\"=>Float64,\n",
    "        \"direction\"=>String\n",
    "    )\n",
    ")\n",
    "\n",
    "# Get the correct types\n",
    "all_gene_list.synonyms = parse.(Vector{String}, all_gene_list.synonyms)\n",
    "all_gene_list.transcription_units = parse.(Vector{String}, all_gene_list.transcription_units);"
   ]
  },
  {
   "cell_type": "markdown",
   "id": "a031bd55-98f5-4384-8e60-aaa6d4c9ae1e",
   "metadata": {},
   "source": [
    "Replace gene names with synomyms if necessary."
   ]
  },
  {
   "cell_type": "code",
   "execution_count": 11,
   "id": "b5b172fc-647b-4a51-810d-f6498d2bd865",
   "metadata": {},
   "outputs": [],
   "source": [
    "# Replace gene names if they are synonyms\n",
    "for i in 1:nrow(gene_table)\n",
    "    name = String(gene_table[i, \"name\"])\n",
    "    if name ∉ all_gene_list.gene\n",
    "        syn = all_gene_list[map(x -> name in x, all_gene_list.synonyms), :gene][1]\n",
    "        gene_table[i, \"name\"] = syn\n",
    "    end\n",
    "end\n",
    "\n",
    "gene_group_ID_dict = Dict(gene_table.name .=> gene_table.group_ID);"
   ]
  },
  {
   "cell_type": "markdown",
   "id": "6bbd8d62-45da-4c37-9fb7-cb5a9a40e702",
   "metadata": {},
   "source": [
    "## Find Transcription Start Sites"
   ]
  },
  {
   "cell_type": "markdown",
   "id": "c0395126",
   "metadata": {},
   "source": [
    "Now we need to find the promoters and transcription start sites for the genes we want to study in this experiment. Therefore we look into the table of promoters `promoter_list` for every gene in our gene table. If we find an entry for a promoter, we save the entry for that promoter, including the transcription start site."
   ]
  },
  {
   "cell_type": "code",
   "execution_count": 1,
   "id": "107c2492-9443-4e30-b30a-bdcd3dcbb3f7",
   "metadata": {},
   "outputs": [
    {
     "ename": "LoadError",
     "evalue": "UndefVarError: DataFrame not defined",
     "output_type": "error",
     "traceback": [
      "UndefVarError: DataFrame not defined",
      "",
      "Stacktrace:",
      " [1] top-level scope",
      "   @ In[1]:2",
      " [2] eval",
      "   @ ./boot.jl:368 [inlined]",
      " [3] include_string(mapexpr::typeof(REPL.softscope), mod::Module, code::String, filename::String)",
      "   @ Base ./loading.jl:1281"
     ]
    }
   ],
   "source": [
    "# Dataframe to store promoters\n",
    "df_list = DataFrame[]\n",
    "# List of genes without promoters\n",
    "genes_no_tss = []\n",
    "\n",
    "# Iterate through genes\n",
    "for gene in gene_table.name\n",
    "    _df = promoter_list[\n",
    "        map(\n",
    "            x -> gene in x, \n",
    "            promoter_list.genes\n",
    "        ), \n",
    "        [:tss, :direction, :gene_position, :genes, :promoter, :evidence]\n",
    "    ]\n",
    "\n",
    "    if nrow(_df) > 0\n",
    "        push!(df_list, _df)\n",
    "    else\n",
    "        push!(genes_no_tss, gene)\n",
    "    end\n",
    "end\n",
    "\n",
    "# Concat\n",
    "df = vcat(df_list...) |> unique\n",
    "first(df, 5)"
   ]
  },
  {
   "cell_type": "markdown",
   "id": "171c9a7a-d63a-48bf-8bd9-2694fab8d9b5",
   "metadata": {},
   "source": [
    "Now we try to identify the operons for genes that do not have a transcription start sites. We will use that information to find the best candidates for transcription start sites later on."
   ]
  },
  {
   "cell_type": "code",
   "execution_count": null,
   "id": "a0c3da45-60a1-4b69-baeb-61b1b72ffe36",
   "metadata": {},
   "outputs": [
    {
     "data": {
      "text/html": [
       "<div class=\"data-frame\"><p>5 rows × 3 columns</p><table class=\"data-frame\"><thead><tr><th></th><th>genes</th><th>direction</th><th>gene_position</th></tr><tr><th></th><th title=\"Vector{String}\">Array…</th><th title=\"String\">String</th><th title=\"Vector{Float64}\">Array…</th></tr></thead><tbody><tr><th>1</th><td>[&quot;dicA&quot;]</td><td>+</td><td>[1.64793e6]</td></tr><tr><th>2</th><td>[&quot;yagB&quot;, &quot;insX&quot;, &quot;yagA&quot;]</td><td>-</td><td>[280735.0, 280362.0, 281983.0]</td></tr><tr><th>3</th><td>[&quot;yjjJ&quot;]</td><td>+</td><td>[4.62177e6]</td></tr><tr><th>4</th><td>[&quot;tmaR&quot;]</td><td>-</td><td>[2.07936e6]</td></tr><tr><th>5</th><td>[&quot;yjbJ&quot;]</td><td>+</td><td>[4.25924e6]</td></tr></tbody></table></div>"
      ],
      "text/latex": [
       "\\begin{tabular}{r|ccc}\n",
       "\t& genes & direction & gene\\_position\\\\\n",
       "\t\\hline\n",
       "\t& Array… & String & Array…\\\\\n",
       "\t\\hline\n",
       "\t1 & [\"dicA\"] & + & [1.64793e6] \\\\\n",
       "\t2 & [\"yagB\", \"insX\", \"yagA\"] & - & [280735.0, 280362.0, 281983.0] \\\\\n",
       "\t3 & [\"yjjJ\"] & + & [4.62177e6] \\\\\n",
       "\t4 & [\"tmaR\"] & - & [2.07936e6] \\\\\n",
       "\t5 & [\"yjbJ\"] & + & [4.25924e6] \\\\\n",
       "\\end{tabular}\n"
      ],
      "text/plain": [
       "\u001b[1m5×3 DataFrame\u001b[0m\n",
       "\u001b[1m Row \u001b[0m│\u001b[1m genes                    \u001b[0m\u001b[1m direction \u001b[0m\u001b[1m gene_position                  \u001b[0m\n",
       "\u001b[1m     \u001b[0m│\u001b[90m Array…                   \u001b[0m\u001b[90m String    \u001b[0m\u001b[90m Array…                         \u001b[0m\n",
       "─────┼─────────────────────────────────────────────────────────────────────\n",
       "   1 │ [\"dicA\"]                  +          [1.64793e6]\n",
       "   2 │ [\"yagB\", \"insX\", \"yagA\"]  -          [280735.0, 280362.0, 281983.0]\n",
       "   3 │ [\"yjjJ\"]                  +          [4.62177e6]\n",
       "   4 │ [\"tmaR\"]                  -          [2.07936e6]\n",
       "   5 │ [\"yjbJ\"]                  +          [4.25924e6]"
      ]
     },
     "execution_count": 27,
     "metadata": {},
     "output_type": "execute_result"
    }
   ],
   "source": [
    "df_no_prom = DataFrame()\n",
    "for gene in genes_no_tss\n",
    "    append!(df_no_prom, operons_without_promoters[map(x -> gene in x, operons_without_promoters.genes), :])\n",
    "end\n",
    "if nrow(df_no_prom) > 0\n",
    "    unique!(df_no_prom)\n",
    "end\n",
    "\n",
    "first(df_no_prom, 5)"
   ]
  },
  {
   "cell_type": "markdown",
   "id": "13cebb18-772a-42cc-82d6-bb122e153840",
   "metadata": {},
   "source": [
    "First, we use the data set from Urtecho et al., 2020, in which every part of the E.coli genome was investigated for transcriptional activity. What that means is that a part of the genome was cloned in front of a reporter gene and the activity was measured by counting the number of transcripts for each genomic sequence. Then, these sequences were classified into active and inactive sites."
   ]
  },
  {
   "cell_type": "code",
   "execution_count": null,
   "id": "3e9b2917-5b19-4287-9e79-1e5fa2cfa7a8",
   "metadata": {},
   "outputs": [
    {
     "data": {
      "text/html": [
       "<div class=\"data-frame\"><p>5 rows × 9 columns (omitted printing of 4 columns)</p><table class=\"data-frame\"><thead><tr><th></th><th>tss_name</th><th>tss_strand</th><th>tss_position</th><th>prom_expression</th><th>active</th></tr><tr><th></th><th title=\"String\">String</th><th title=\"String1\">String1</th><th title=\"Int64\">Int64</th><th title=\"Float64\">Float64</th><th title=\"String15\">String15</th></tr></thead><tbody><tr><th>1</th><td>TSS_11125_storz_regulondb</td><td>+</td><td>2945404</td><td>53.2139</td><td>active</td></tr><tr><th>2</th><td>TSS_16748_storz</td><td>+</td><td>4275469</td><td>0.748653</td><td>inactive</td></tr><tr><th>3</th><td>TSS_16918_storz</td><td>-</td><td>4339955</td><td>0.653776</td><td>inactive</td></tr><tr><th>4</th><td>TSS_9847_regulondb</td><td>+</td><td>2619175</td><td>0.801252</td><td>inactive</td></tr><tr><th>5</th><td>TSS_14431_storz</td><td>+</td><td>3718711</td><td>0.703256</td><td>inactive</td></tr></tbody></table></div>"
      ],
      "text/latex": [
       "\\begin{tabular}{r|cccccc}\n",
       "\t& tss\\_name & tss\\_strand & tss\\_position & prom\\_expression & active & \\\\\n",
       "\t\\hline\n",
       "\t& String & String1 & Int64 & Float64 & String15 & \\\\\n",
       "\t\\hline\n",
       "\t1 & TSS\\_11125\\_storz\\_regulondb & + & 2945404 & 53.2139 & active & $\\dots$ \\\\\n",
       "\t2 & TSS\\_16748\\_storz & + & 4275469 & 0.748653 & inactive & $\\dots$ \\\\\n",
       "\t3 & TSS\\_16918\\_storz & - & 4339955 & 0.653776 & inactive & $\\dots$ \\\\\n",
       "\t4 & TSS\\_9847\\_regulondb & + & 2619175 & 0.801252 & inactive & $\\dots$ \\\\\n",
       "\t5 & TSS\\_14431\\_storz & + & 3718711 & 0.703256 & inactive & $\\dots$ \\\\\n",
       "\\end{tabular}\n"
      ],
      "text/plain": [
       "\u001b[1m5×9 DataFrame\u001b[0m\n",
       "\u001b[1m Row \u001b[0m│\u001b[1m tss_name                  \u001b[0m\u001b[1m tss_strand \u001b[0m\u001b[1m tss_position \u001b[0m\u001b[1m prom_expression \u001b[0m\u001b[1m a\u001b[0m ⋯\n",
       "\u001b[1m     \u001b[0m│\u001b[90m String                    \u001b[0m\u001b[90m String1    \u001b[0m\u001b[90m Int64        \u001b[0m\u001b[90m Float64         \u001b[0m\u001b[90m S\u001b[0m ⋯\n",
       "─────┼──────────────────────────────────────────────────────────────────────────\n",
       "   1 │ TSS_11125_storz_regulondb  +                2945404        53.2139    a ⋯\n",
       "   2 │ TSS_16748_storz            +                4275469         0.748653  i\n",
       "   3 │ TSS_16918_storz            -                4339955         0.653776  i\n",
       "   4 │ TSS_9847_regulondb         +                2619175         0.801252  i\n",
       "   5 │ TSS_14431_storz            +                3718711         0.703256  i ⋯\n",
       "\u001b[36m                                                               5 columns omitted\u001b[0m"
      ]
     },
     "execution_count": 28,
     "metadata": {},
     "output_type": "execute_result"
    }
   ],
   "source": [
    "# import Urtecho data\n",
    "urtecho_tss = CSV.read(\n",
    "    \"../data/urtecho_2020/tss_operon_regulation.txt\", \n",
    "    DataFrame \n",
    ")\n",
    "\n",
    "first(urtecho_tss, 5)"
   ]
  },
  {
   "cell_type": "markdown",
   "id": "2bbf936a-676b-4fa6-a2fa-9dbbb13f8e54",
   "metadata": {},
   "source": [
    "Now we are going to check if we can identify any active transcription start sites for the genes that we did not find any promoters for yet."
   ]
  },
  {
   "cell_type": "code",
   "execution_count": 2,
   "id": "3dd8d7ac-5ad1-41cc-84f9-d265998352ca",
   "metadata": {},
   "outputs": [
    {
     "ename": "LoadError",
     "evalue": "UndefVarError: DataFrame not defined",
     "output_type": "error",
     "traceback": [
      "UndefVarError: DataFrame not defined",
      "",
      "Stacktrace:",
      " [1] top-level scope",
      "   @ In[2]:9",
      " [2] eval",
      "   @ ./boot.jl:368 [inlined]",
      " [3] include_string(mapexpr::typeof(REPL.softscope), mod::Module, code::String, filename::String)",
      "   @ Base ./loading.jl:1281"
     ]
    }
   ],
   "source": [
    "# Check if gene is part of operon\n",
    "function occursin_operon(gene, operon)\n",
    "    split_operon = split(operon, \"-\")\n",
    "    a, b = gene[1:3], gene[4]\n",
    "    return prod(occursin.(a, split_operon) .* occursin.(b, split_operon))\n",
    "end\n",
    "\n",
    "# Find operon in Urtecho data\n",
    "df_tss_urtecho = DataFrame()\n",
    "\n",
    "# Make array to store indeces of genes to be removed from list\n",
    "delete_index_list = Int64[]\n",
    "for i in 1:nrow(df_no_prom)\n",
    "    # Get row data\n",
    "    genes = df_no_prom[i, \"genes\"]\n",
    "    gene_position = df_no_prom[i, \"gene_position\"]\n",
    "    for gene in genes\n",
    "        # Check for each gene if part of an identied operon\n",
    "        operons = filter(x -> prod(occursin_operon.(gene, x)), urtecho_tss.operon)\n",
    "        \n",
    "        # Sanity check\n",
    "        if (operons |> unique |> length) > 1\n",
    "            throw(ErrorException(\"More than one operon for genes: $(genes)\"))\n",
    "            \n",
    "        # Of no operon identified, skip\n",
    "        elseif  (operons |> unique |> length) == 0\n",
    "\n",
    "        # If one operon is identified, check for active site\n",
    "        else\n",
    "            operon = unique(operons)[1]\n",
    "            temp = urtecho_tss[(urtecho_tss.operon .== operon) .& ((urtecho_tss.active .== \"active\")), :]\n",
    "            # If active site is found, add to dataframeb\n",
    "            if nrow(temp) != 0\n",
    "                insertcols!(temp, 2, :genes => fill(genes, nrow(temp)))\n",
    "                insertcols!(temp, 2, :gene_position => fill(gene_position, nrow(temp)))\n",
    "                insertcols!(temp, 2, :evidence => fill([\"EXP\"], nrow(temp)))\n",
    "                rename!(temp, \"tss_strand\" => \"direction\", \"tss_position\"=> \"tss\", \"tss_name\"=>\"promoter\")\n",
    "                append!(df_tss_urtecho, temp)\n",
    "                push!(delete_index_list, i)\n",
    "            end\n",
    "        end\n",
    "    end\n",
    "end\n",
    "\n",
    "# Add found promoters to list\n",
    "if nrow(df_tss_urtecho) > 0\n",
    "    append!(df, df_tss_urtecho[:, [\"genes\", \"tss\", \"direction\", \"gene_position\", \"promoter\", \"evidence\"]])\n",
    "end\n",
    "\n",
    "# Remove genes with identified promoters from list of genes without promoters\n",
    "df_no_prom = df_no_prom[Not(delete_index_list), :];"
   ]
  },
  {
   "cell_type": "markdown",
   "id": "524d6efe-63ad-4198-b85b-d67160af20e7",
   "metadata": {},
   "source": [
    "Some genes do not have a transcription start site annotated with them. To find a promoter sequence for such genes, we use the model from [La Fleur et al 2022](https://www.biorxiv.org/content/10.1101/2021.09.01.458561v1), which predicts promoter strengths for any DNA sequence. We look for the strongest predicted promoter in the vacinity of the coding region of a gene. First we demonstrate how we use the promoter prediction. Here, we generate a random 160 bp sequence and use the promoter calculator on that sequence."
   ]
  },
  {
   "cell_type": "code",
   "execution_count": 30,
   "id": "5e042d21-6d09-423a-b513-8eee54070afa",
   "metadata": {},
   "outputs": [
    {
     "name": "stderr",
     "output_type": "stream",
     "text": [
      "┌ Warning: Could not find font /Users/tomroschinger/.julia/packages/Makie/vwpRo/assets/fonts/NotoSans-Regular.tff, using Dejavu Sans\n",
      "└ @ Makie /Users/tomroschinger/.julia/packages/Makie/vwpRo/src/conversions.jl:946\n"
     ]
    },
    {
     "data": {
      "image/png": "[encoded data removed]",
      "text/plain": [
       "Figure()"
      ]
     },
     "execution_count": 30,
     "metadata": {},
     "output_type": "execute_result"
    }
   ],
   "source": [
    "# Create a random sequence\n",
    "rand_seq = rand([DNA_A, DNA_C, DNA_G, DNA_T], 160) |> LongDNA{4}\n",
    "\n",
    "# Initiate the promoter calculator\n",
    "p = wgregseq.promoter_finder.Promoter_Calculator()\n",
    "\n",
    "# Find best possible promoter per position\n",
    "r = p(rand_seq)[\"Forward_Predictions_per_TSS\"]\n",
    "\n",
    "# Extract TSS and free energy\n",
    "_x = [(key, r[key][\"dG_total\"]) for key in keys(r) |> collect]\n",
    "opt_prom = argmin([x[2] for x in _x])\n",
    "\n",
    "# Plot results\n",
    "fig = Figure(resolution=(700, 300))\n",
    "ax = Axis(fig[1, 1])\n",
    "ax.xlabel = \"Position\"\n",
    "ax.ylabel = \"dG_total\"\n",
    "ax.title = \"Free energy for best promoter per position\"\n",
    "scatter!(ax, _x)\n",
    "\n",
    "# Mark best promoter\n",
    "vlines!(ax, _x[opt_prom][1], color=\"black\", linewidth=2)\n",
    "\n",
    "# Show plot\n",
    "fig"
   ]
  },
  {
   "cell_type": "markdown",
   "id": "0536743d-7a7c-414c-8873-e82dd07b5268",
   "metadata": {},
   "source": [
    "Now we can use the promoter calculator on every gene that does not have a promoter annotated. We have to choose a region upstream of each gene's coding region to look for a promoter. Hence, we look for the distance of every transcription site that we have identified to the coding region of the first gene in the transcription unit."
   ]
  },
  {
   "cell_type": "code",
   "execution_count": 31,
   "id": "e67fcfc1-2b8a-4195-8507-b3e38a6b7c22",
   "metadata": {
    "tags": []
   },
   "outputs": [
    {
     "data": {
      "image/png": "[encoded data removed]",
      "text/plain": [
       "Figure()"
      ]
     },
     "execution_count": 31,
     "metadata": {},
     "output_type": "execute_result"
    }
   ],
   "source": [
    "# Find absolute distance of every gene in TU to TSS\n",
    "y = [abs.(promoter_list[i, \"gene_position\"] .- promoter_list[i, \"tss\"]) for i in 1:nrow(promoter_list)]\n",
    "\n",
    "# Find minimum distance\n",
    "y = minimum.(y)\n",
    "\n",
    "# Make figure\n",
    "fig = Figure(resolution=(300, 300))\n",
    "ax = Axis(fig[1, 1])\n",
    "lines!(ax, sort(y), 0:1/length(y):1-1/length(y), linewidth=2)\n",
    "ax.xlabel = \"Distance of TSS to Coding Region\"\n",
    "ax.ylabel = \"ECDF\"\n",
    "\n",
    "# Show figure\n",
    "save(\"../figures/tss_CR_distance.pdf\", fig)\n",
    "fig"
   ]
  },
  {
   "cell_type": "markdown",
   "id": "65197e68-a50b-487b-ad24-92f2392b340a",
   "metadata": {},
   "source": [
    "We find that most transcription start sites are within 500 base pairs of the coding region. We choose this range as region to search for the best predicted promoter for genes without previously identified transcription start sites."
   ]
  },
  {
   "cell_type": "code",
   "execution_count": 103,
   "id": "85e75552-6d3e-47ed-af3a-ce26b80565a7",
   "metadata": {},
   "outputs": [
    {
     "ename": "LoadError",
     "evalue": "ArgumentError: Column tss is already present in the data frame which is not allowed when `makeunique=true`",
     "output_type": "error",
     "traceback": [
      "ArgumentError: Column tss is already present in the data frame which is not allowed when `makeunique=true`",
      "",
      "Stacktrace:",
      " [1] insertcols!(df::DataFrame, col::Int64, name_cols::Pair{Symbol, Vector{Int64}}; after::Bool, makeunique::Bool, copycols::Bool)",
      "   @ DataFrames ~/.julia/packages/DataFrames/MA4YO/src/dataframe/dataframe.jl:872",
      " [2] insertcols!(df::DataFrame, col::Int64, name_cols::Pair{Symbol, Vector{Int64}})",
      "   @ DataFrames ~/.julia/packages/DataFrames/MA4YO/src/dataframe/dataframe.jl:840",
      " [3] top-level scope",
      "   @ In[103]:49",
      " [4] eval",
      "   @ ./boot.jl:373 [inlined]",
      " [5] include_string(mapexpr::typeof(REPL.softscope), mod::Module, code::String, filename::String)",
      "   @ Base ./loading.jl:1196"
     ]
    }
   ],
   "source": [
    "# Initiate promoter calculator\n",
    "p = wgregseq.promoter_finder.Promoter_Calculator()\n",
    "\n",
    "# Initiate arrays to store tss and gene name\n",
    "tss_list = Int64[]\n",
    "name_list = String[]\n",
    "\n",
    "# Iterate through dataframe\n",
    "for i in 1:nrow(df_no_prom)\n",
    "    # Check which strand the gene is on\n",
    "    if df_no_prom[i, \"direction\"] == \"+\"\n",
    "        # Find beginning of coding region\n",
    "        ind = Int64(minimum(df_no_prom[i, \"gene_position\"]))\n",
    "        \n",
    "        # Extract genome sequence \n",
    "        sequence = wt_sequence[ind-500:ind]\n",
    "        \n",
    "        # Apply promoter calculator\n",
    "        r = p(sequence)[\"Forward_Predictions_per_TSS\"]\n",
    "        \n",
    "        # Take total free energy\n",
    "        _x = [(key, r[key][\"dG_total\"]) for key in keys(r) |> collect]\n",
    "        \n",
    "        # Find position of best tss\n",
    "        tss = _x[argmin([x[2] for x in _x])][1] + ind - 500\n",
    "    else\n",
    "        # Find beginning of coding region\n",
    "        ind = Int64(maximum(df_no_prom[i, \"gene_position\"]))\n",
    "        \n",
    "        # Extract genome sequence \n",
    "        sequence = wt_sequence[ind:ind+500]\n",
    "        \n",
    "        # Apply promoter calculator\n",
    "        r = p(sequence)[\"Reverse_Predictions_per_TSS\"]\n",
    "        \n",
    "         # Take total free energy\n",
    "        _x = [(key, r[key][\"dG_total\"]) for key in keys(r) |> collect]\n",
    "        \n",
    "        # Find position of best tss\n",
    "        tss = _x[argmin([x[2] for x in _x])][1] + ind\n",
    "    end\n",
    "    # Add tss and name to arrays\n",
    "    push!(tss_list, tss)\n",
    "    push!(name_list, join(df_no_prom[i, \"genes\"], \"_\") * \"_predicted\")\n",
    "end\n",
    "\n",
    "if nrow(df_no_prom)  >0 \n",
    "    # Add start sites to genes \n",
    "    insertcols!(df_no_prom, 2, :tss =>tss_list)\n",
    "    \n",
    "    # Add information that they are predicted\n",
    "    insertcols!(df_no_prom, 5, :promoter =>name_list)\n",
    "    insertcols!(df_no_prom, 5, :evidence =>fill([\"COMP\"], nrow(df_no_prom)))\n",
    "    \n",
    "    # Add promoters to list\n",
    "    append!(df, df_no_prom)\n",
    "end"
   ]
  },
  {
   "cell_type": "markdown",
   "id": "69fa937f-7af4-4d7a-8979-d82c213d220b",
   "metadata": {},
   "source": [
    "Now we have one transcription start site for every promoter in our list. Next, we generate the mutated sequences. "
   ]
  },
  {
   "cell_type": "code",
   "execution_count": 142,
   "id": "bd6f8a71-a92f-4fde-a538-e3ee84837922",
   "metadata": {},
   "outputs": [
    {
     "name": "stdout",
     "output_type": "stream",
     "text": [
      "Mutation rate per position: [0.09733333333333338, 0.10466666666666669, 0.10999999999999999, 0.10199999999999998, 0.09466666666666668, 0.10466666666666669, 0.09999999999999998, 0.09666666666666668, 0.09533333333333338, 0.11333333333333329, 0.08333333333333337, 0.11066666666666669, 0.09333333333333338, 0.09066666666666667, 0.10799999999999998, 0.10533333333333328, 0.09466666666666668, 0.09466666666666668, 0.09333333333333338, 0.10733333333333328]\n"
     ]
    }
   ],
   "source": [
    "# Create a random sequence of length 20\n",
    "rand_seq = rand([DNA_A, DNA_C, DNA_G, DNA_T], 20) |> LongDNA{4}\n",
    "\n",
    "# Create 1500 mutated sequences with mutation rate 0.1\n",
    "seqs = wgregseq.design.mutations_rand(rand_seq, 0.1, 1500)\n",
    "\n",
    "# First sequence is wild type\n",
    "wt_seq = seqs[1]\n",
    "\n",
    "# Next 1500 are mutated\n",
    "mut_seqs = seqs[2:end]\n",
    "\n",
    "# Compute position frequency matrix\n",
    "mat = PFM(mut_seqs)\n",
    "\n",
    "# Compute relative frequencies\n",
    "mat = mat ./ length(mut_seqs)\n",
    "\n",
    "# Compute mutation rate\n",
    "mut_rate = 1 .- [maximum(A) for A in eachcol(mat)]\n",
    "\n",
    "println(\"Mutation rate per position: \", mut_rate)"
   ]
  },
  {
   "cell_type": "markdown",
   "id": "b8354eb7-6908-4d2e-9fb7-2df49f9325ba",
   "metadata": {},
   "source": [
    "Let's create mutated sequences for each promoter in our list. First we have to find the sequence in the wild type genome at the transcription start site. "
   ]
  },
  {
   "cell_type": "code",
   "execution_count": 143,
   "id": "4572540a-fefd-43f5-ab95-aa2905b41477",
   "metadata": {},
   "outputs": [
    {
     "name": "stdout",
     "output_type": "stream",
     "text": [
      "Done!\n",
      "\n"
     ]
    },
    {
     "data": {
      "text/html": [
       "<div class=\"data-frame\"><p>5 rows × 4 columns (omitted printing of 3 columns)</p><table class=\"data-frame\"><thead><tr><th></th><th>sequence</th></tr><tr><th></th><th title=\"LongSequence{DNAAlphabet{4}}\">LongSequ…</th></tr></thead><tbody><tr><th>1</th><td>TTTCATCTTTTGTCAACCATTCACAGCGCAAATATACGCCTTTTTTTGTGATCACTCCGGCTTTTTTCGATCTTTATACTTGTATGGTAGTAGCTCAGTTGCGTAGATTTCATGCATCACGACAAGCGATGCAAGGAATCGAACATGAAGATCGTAAAGG</td></tr><tr><th>2</th><td>TTTCCTCTTTTTTCAACCATACTCAGCGCAAATACACGCCTTTTATTGTGATCACTCCCGCTTTTTTCGTTCTTTATACTTGTATCGTAGTAGCTTAGTTGCGTATATTTCATGCATAACGACACGGGATGCAGGGAATCTAACATGAAGATCGTAAAGG</td></tr><tr><th>3</th><td>TTTCAGCTTTAGTCTACCATTCACAGCGCAAATATATGCGTTTATTTGTGATCGCTCCGGCTTTATTCGATATTTCTACTTTTTTGGGAGTAGCTCAGTTGCGTAGATGTGATGCATCACGACAAGCGATGCCAGGAATCGAACATGAAGATCGTAAAGG</td></tr><tr><th>4</th><td>TTTCGTCTTTTGTCGACCATTGACATCGCGAATATACGCCATTTTTTGTGAGCACTCCGGCTTTTTACGATCTTTATACTTGTATGGTAGTAGCTCAGGTGCGTAGATTTCATGCATCTCGACAAGCGATGCTAGGAATCGATCATGGAAATGGTACAGG</td></tr><tr><th>5</th><td>TTTCCTGTTCTGTCAACCATTCACACCGCAAATATACGCCTTTTTTTGTGATGACTCCAGCTTGTTTCGATCTTTATACTTGTATGGTAGTAGCTCAGTTGCGTAGGTATCATGCATCACGGCAAGTGACGCAAGGAATTGAACATGAAGAGCATAAACG</td></tr></tbody></table></div>"
      ],
      "text/latex": [
       "\\begin{tabular}{r|cc}\n",
       "\t& sequence & \\\\\n",
       "\t\\hline\n",
       "\t& LongSequ… & \\\\\n",
       "\t\\hline\n",
       "\t1 & TTTCATCTTTTGTCAACCATTCACAGCGCAAATATACGCCTTTTTTTGTGATCACTCCGGCTTTTTTCGATCTTTATACTTGTATGGTAGTAGCTCAGTTGCGTAGATTTCATGCATCACGACAAGCGATGCAAGGAATCGAACATGAAGATCGTAAAGG & $\\dots$ \\\\\n",
       "\t2 & TTTCCTCTTTTTTCAACCATACTCAGCGCAAATACACGCCTTTTATTGTGATCACTCCCGCTTTTTTCGTTCTTTATACTTGTATCGTAGTAGCTTAGTTGCGTATATTTCATGCATAACGACACGGGATGCAGGGAATCTAACATGAAGATCGTAAAGG & $\\dots$ \\\\\n",
       "\t3 & TTTCAGCTTTAGTCTACCATTCACAGCGCAAATATATGCGTTTATTTGTGATCGCTCCGGCTTTATTCGATATTTCTACTTTTTTGGGAGTAGCTCAGTTGCGTAGATGTGATGCATCACGACAAGCGATGCCAGGAATCGAACATGAAGATCGTAAAGG & $\\dots$ \\\\\n",
       "\t4 & TTTCGTCTTTTGTCGACCATTGACATCGCGAATATACGCCATTTTTTGTGAGCACTCCGGCTTTTTACGATCTTTATACTTGTATGGTAGTAGCTCAGGTGCGTAGATTTCATGCATCTCGACAAGCGATGCTAGGAATCGATCATGGAAATGGTACAGG & $\\dots$ \\\\\n",
       "\t5 & TTTCCTGTTCTGTCAACCATTCACACCGCAAATATACGCCTTTTTTTGTGATGACTCCAGCTTGTTTCGATCTTTATACTTGTATGGTAGTAGCTCAGTTGCGTAGGTATCATGCATCACGGCAAGTGACGCAAGGAATTGAACATGAAGAGCATAAACG & $\\dots$ \\\\\n",
       "\\end{tabular}\n"
      ],
      "text/plain": [
       "\u001b[1m5×4 DataFrame\u001b[0m\n",
       "\u001b[1m Row \u001b[0m│\u001b[1m sequence                          \u001b[0m\u001b[1m genes            \u001b[0m\u001b[1m promoter \u001b[0m\u001b[1m name    \u001b[0m\n",
       "\u001b[1m     \u001b[0m│\u001b[90m LongSequ…                         \u001b[0m\u001b[90m Array…           \u001b[0m\u001b[90m String   \u001b[0m\u001b[90m String  \u001b[0m\n",
       "─────┼────────────────────────────────────────────────────────────────────────\n",
       "   1 │ TTTCATCTTTTGTCAACCATTCACAGCGCAAA…  [\"rspA\", \"rspB\"]  rspAp     rspAp_0\n",
       "   2 │ TTTCCTCTTTTTTCAACCATACTCAGCGCAAA…  [\"rspA\", \"rspB\"]  rspAp     rspAp_1\n",
       "   3 │ TTTCAGCTTTAGTCTACCATTCACAGCGCAAA…  [\"rspA\", \"rspB\"]  rspAp     rspAp_2\n",
       "   4 │ TTTCGTCTTTTGTCGACCATTGACATCGCGAA…  [\"rspA\", \"rspB\"]  rspAp     rspAp_3\n",
       "   5 │ TTTCCTGTTCTGTCAACCATTCACACCGCAAA…  [\"rspA\", \"rspB\"]  rspAp     rspAp_4"
      ]
     },
     "execution_count": 143,
     "metadata": {},
     "output_type": "execute_result"
    }
   ],
   "source": [
    "df_sequences = DataFrame()\n",
    "for row in eachrow(df)\n",
    "    # Get trancription start site\n",
    "    tss = Int64(row.tss)\n",
    "    \n",
    "    # Get strand\n",
    "    direction = row.direction\n",
    "    \n",
    "    # Get gene names\n",
    "    genes = row.genes\n",
    "    \n",
    "    # get promoter name\n",
    "    promoter = row.promoter\n",
    "    \n",
    "    # Get sequence\n",
    "    seq = wgregseq.design.find_seq(tss, direction, 115, 45, wt_sequence)[1]\n",
    "    \n",
    "    # Generate mutations\n",
    "    mut_list = wgregseq.design.mutations_rand(seq, 0.1, 1500)\n",
    "    \n",
    "    # Give each mutated sequence a name\n",
    "    names = [\"$(promoter)_$i\" for i in 0:1500]\n",
    "    \n",
    "    # Store sequences in dataframe\n",
    "    _df = DataFrame(sequence=mut_list, genes=fill(genes, 1501), promoter=fill(promoter, 1501), name=names)\n",
    "    \n",
    "    # Append to global data frame\n",
    "    global df_sequences = vcat(df_sequences, _df)\n",
    "end\n",
    "\n",
    "# Sanity check for sequence lengths\n",
    "if any(length.(df_sequences.sequence) .!= 160)\n",
    "    throw(ErrorException(\"Not all sequences are 160bp!\"))\n",
    "else\n",
    "    println(\"Done!\")\n",
    "    println()\n",
    "end\n",
    "first(df_sequences, 5)"
   ]
  },
  {
   "cell_type": "markdown",
   "id": "40f21d2e-f839-4cbf-91c1-f78ff9cc13e6",
   "metadata": {},
   "source": [
    "Now that we have the mutated sequences, we need to add the restriction sites for cloning. "
   ]
  },
  {
   "cell_type": "markdown",
   "id": "e995131c-eaf9-4e31-a340-2438e1064d05",
   "metadata": {},
   "source": [
    "Add restriction sites."
   ]
  },
  {
   "cell_type": "code",
   "execution_count": 152,
   "id": "023dfca2-46da-4b3c-8452-21f4d212c2df",
   "metadata": {},
   "outputs": [
    {
     "name": "stdout",
     "output_type": "stream",
     "text": [
      "\u001b[1mDataFrameRow\u001b[0m\n",
      "\u001b[1m Row \u001b[0m│\u001b[1m AgeI  \u001b[0m\u001b[1m ApaI  \u001b[0m\u001b[1m BamHI \u001b[0m\u001b[1m BbsI  \u001b[0m\u001b[1m EcoRI \u001b[0m\u001b[1m EcoRV \u001b[0m\u001b[1m MluI  \u001b[0m\u001b[1m NcoI  \u001b[0m\u001b[1m NheI  \u001b[0m\u001b[1m NsiI  \u001b[0m\u001b[1m PstI  \u001b[0m\u001b[1m SacI  \u001b[0m\u001b[1m SalI  \u001b[0m\u001b[1m SbfI  \u001b[0m\u001b[1m ScaI  \u001b[0m\u001b[1m SpeI  \u001b[0m\u001b[1m XbaI  \u001b[0m\u001b[1m XhoI  \u001b[0m\u001b[1m gene    \u001b[0m\u001b[1m promoter \u001b[0m\n",
      "\u001b[1m     \u001b[0m│\u001b[90m Int64 \u001b[0m\u001b[90m Int64 \u001b[0m\u001b[90m Int64 \u001b[0m\u001b[90m Int64 \u001b[0m\u001b[90m Int64 \u001b[0m\u001b[90m Int64 \u001b[0m\u001b[90m Int64 \u001b[0m\u001b[90m Int64 \u001b[0m\u001b[90m Int64 \u001b[0m\u001b[90m Int64 \u001b[0m\u001b[90m Int64 \u001b[0m\u001b[90m Int64 \u001b[0m\u001b[90m Int64 \u001b[0m\u001b[90m Int64 \u001b[0m\u001b[90m Int64 \u001b[0m\u001b[90m Int64 \u001b[0m\u001b[90m Int64 \u001b[0m\u001b[90m Int64 \u001b[0m\u001b[90m Array…  \u001b[0m\u001b[90m String   \u001b[0m\n",
      "─────┼─────────────────────────────────────────────────────────────────────────────────────────────────────────────────────────────────────────────────\n",
      " 120 │  4076    700   3049   4703   3580   7358   6373   2611   3268   9621   6897   1788   1507    225   3737   2197   5183   2121  [\"all\"]  all\n"
     ]
    }
   ],
   "source": [
    "# Group sequences by promoter\n",
    "gdf = groupby(deepcopy(df_sequences), :promoter)\n",
    "df_stack = DataFrame()\n",
    "\n",
    "# List of candidate enzymes\n",
    "enzymes = [\n",
    "    \"SalI\", \n",
    "    \"SacI\", \n",
    "    \"NheI\", \n",
    "    \"XbaI\", \n",
    "    \"SpeI\", \n",
    "    \"XhoI\", \n",
    "    \"EcoRI\", \n",
    "    \"ApaI\", \n",
    "    \"ScaI\", \n",
    "    \"NcoI\", \n",
    "    \"MluI\", \n",
    "    \"EcoRV\", \n",
    "    \"BbsI\", \n",
    "    \"BamHI\", \n",
    "    \"AgeI\", \n",
    "    \"PstI\", \n",
    "    \"NsiI\", \n",
    "    \"SbfI\"\n",
    "]\n",
    "\n",
    "# Check that enzyme names are correct\n",
    "for enz in enzymes\n",
    "    if enz ∉ wgregseq.enzyme_list.enzyme\n",
    "        throw(ErrorException(\"$enz is not in list of enzymes.\"))\n",
    "    end\n",
    "end\n",
    "\n",
    "# Go through every promoter\n",
    "for group in gdf\n",
    "    # Find number of restriction sites in mutated sequences\n",
    "    df_restriction = wgregseq.design.find_restriction_sites(enzymes, group[:, \"sequence\"])\n",
    "    \n",
    "    # Write number of cut sites into dictionary\n",
    "    dict = Dict{Any, Any}(df_restriction.enzyme .=> df_restriction.sites)\n",
    "    \n",
    "    # Write gene name and promoter into dictionary\n",
    "    dict[\"gene\"] = [unique(group.genes)[1]]\n",
    "    dict[\"promoter\"] = [unique(group.promoter)[1]]\n",
    "    \n",
    "    # Make dataframe and add to global data frame\n",
    "    append!(df_stack, DataFrame(dict))\n",
    "end\n",
    "\n",
    "# Get sum of number of cut sites\n",
    "dict_enz = Dict{Any, Any}(enzymes .=> sum.(eachcol(df_stack[!, enzymes])))\n",
    "dict_enz[\"gene\"] = [String31[\"all\"]]\n",
    "dict_enz[\"promoter\"] = \"all\"\n",
    "\n",
    "# Add sums to dataframe\n",
    "append!(df_stack, DataFrame(dict_enz))\n",
    "\n",
    "println(df_stack[end, :])"
   ]
  },
  {
   "cell_type": "markdown",
   "id": "6c95d303-2f98-4eb7-a734-33022cbe4acd",
   "metadata": {},
   "source": [
    "Now we can choose restriction enzymes we use for cloning. We are trying to minimize the number of cutsites in our library, because this would reduce the number of sequences we can maintain during cloning. For this set of sequences we are choosing `ApaI` and `SpeI`, and both have low amount of cut sites in the sequences."
   ]
  },
  {
   "cell_type": "code",
   "execution_count": 153,
   "id": "0987d166-5aad-4136-b26e-14af359b22f8",
   "metadata": {},
   "outputs": [
    {
     "data": {
      "text/plain": [
       "178619-element Vector{LongSequence{DNAAlphabet{4}}}:\n",
       " ACTAGTTTTCATCTTTTGTCAACCATTCACAGCGCAAAT…GATGCAAGGAATCGAACATGAAGATCGTAAAGGGGGCCC\n",
       " ACTAGTTTTCCTCTTTTTTCAACCATACTCAGCGCAAAT…GATGCAGGGAATCTAACATGAAGATCGTAAAGGGGGCCC\n",
       " ACTAGTTTTCAGCTTTAGTCTACCATTCACAGCGCAAAT…GATGCCAGGAATCGAACATGAAGATCGTAAAGGGGGCCC\n",
       " ACTAGTTTTCGTCTTTTGTCGACCATTGACATCGCGAAT…GATGCTAGGAATCGATCATGGAAATGGTACAGGGGGCCC\n",
       " ACTAGTTTTCCTGTTCTGTCAACCATTCACACCGCAAAT…GACGCAAGGAATTGAACATGAAGAGCATAAACGGGGCCC\n",
       " ACTAGTTTTCTTTTGTTGCCAACCAATCACAGCTCTAAT…GATGTAAGGAAGCGAACTTGAAGAACGTAAGCGGGGCCC\n",
       " ACTAGTTTTCATCTTTCGTCAACCATTCACAGCGCACAT…GATGCAAGGAATGGAACGTGAAGATCGTATAGGGGGCCC\n",
       " ACTAGTTCTCATCTTTTGTCAACCTCTCTCAGCGCAAAT…GATGCAAGGTATCGAACATGAAGATCGTAAAGGGGGCCC\n",
       " ACTAGTTTTCATCTTTTGTTAATCATTCCCAGCGCAAAT…GATGCAAGGAAACGAAAATGAAGCTACTAAAGGGGGCCC\n",
       " ACTAGTCTTCGTCTTTTGTCAACCATTCACTGCGGAAAT…GGGGCAAGGAGTCGAACATGAAGATCGTAAAGGGGGCCC\n",
       " ACTAGTTTTCATCCTTTGTCAACCATTTACAGCGAATAT…GATGCAAGGAATCGAACATGCAAATCGTAAAGGGGGCCC\n",
       " ACTAGTTTTCATCTATTGTCAGCCATTCACGGCGCAAAT…GATGCAAAGAATCGAACATGGAGATCGTAAAGGGGGCCC\n",
       " ACTAGTTTTCATCTTTTGTCACCCATTCAAAGGGCAAAT…GATGCAAGGAATCGAAAATAAAGATCGCAAAGGGGGCCC\n",
       " ⋮\n",
       " ACTAGTAAACTTATTCCTTTGCGTCGATTTCATTTAATG…TTGCCCCTCAATCTAAGCCGTTTTCATTATTTCGGGCCC\n",
       " ACTAGTAAACTTATTCATTTGCATCCCTTTCATTTGATG…CTGCCCCTCAATCTATGCCGCTTTGATTATTGCGGGCCC\n",
       " ACTAGTAAACTTATTCATATGCATCCCTTTCATGTAATG…TTGCCCCTTAATCTATGCCGCTTTCGTTATTTCGGGCCC\n",
       " ACTAGTAAACCTTTTCATTTGCATCCATTTCATTTAATG…TGGCACCTCAATCTATGCCGCTTTTATTGTTTCGGGCCC\n",
       " ACTAGTAAACTTATGCATTTCATTCCCTTTCATTTAATG…TTGCCCCTCAATCTTTGCCGCTTGTATTATTTCGGGCCC\n",
       " ACTAGTAAACTTATTCATATGCATCCCTTTCATTTAATT…TCGCCCCTCAATCTCTGACCCTGTCATTATTTCGGGCCC\n",
       " ACTAGTAAACTTATTCATTTGCATCCCTATAATTTTATG…TTGCCCCCCAATGTATGCGGCTTTAATAATTTGGGGCCC\n",
       " ACTAGTAAACTTAGTCATGTGCATCCCTTTCATTTAAAG…TTGCCCCTCAGTCTCTGCCTATTTCATTATATCGGGCCC\n",
       " ACTAGTAAACTTATTCATTTGCATCCCCTTCATTTAATG…TTGCCCCTCGATCTATGGCGCTTTCATTATTTCGGGCCC\n",
       " ACTAGTAAACCTATTTATTTGCATCCCTGTCATTTAATG…GCGCTCCTCAATCTATGCCGGTTTCATTATCTCGGGCCC\n",
       " ACTAGTAAACTTATTCATTTGCATCCCTTTCATATAATG…TTTCCCCTCAATATTTGCTGCTTTCATTATTTCGGGCCC\n",
       " ACTAGTAAACTTATTCACTTGCATACAAATCATTTAATG…ATGCCCCTCAATCTATCCCGCTTGCAATATTTCGGGCCC"
      ]
     },
     "execution_count": 153,
     "metadata": {},
     "output_type": "execute_result"
    }
   ],
   "source": [
    "# Choose enzymes\n",
    "enz1 = \"SpeI\"\n",
    "enz2 = \"ApaI\"\n",
    "\n",
    "# Add restriction sites\n",
    "df_sequences.sequence = wgregseq.design.add_re_sites.(df_sequences.sequence, enz1, enz2)"
   ]
  },
  {
   "cell_type": "markdown",
   "id": "a7032c7a-1974-4c61-92e2-f8af49f17e71",
   "metadata": {},
   "source": [
    "Let's quickly confirm that the first six base pairs are indeed a restriction site. The restriction sites for enzymes are stored in a dictionary in `wgregseq.enzyme_list`."
   ]
  },
  {
   "cell_type": "code",
   "execution_count": 164,
   "id": "f27da571-592c-4317-b369-37628236a233",
   "metadata": {},
   "outputs": [
    {
     "name": "stdout",
     "output_type": "stream",
     "text": [
      "Restriction site for SpeI:\n",
      "ACTAGT\n",
      "\n",
      "First 6 basepairs in sequence:\n",
      "ACTAGT\n"
     ]
    }
   ],
   "source": [
    "println(\"Restriction site for SpeI:\")\n",
    "println(wgregseq.enzyme_list[wgregseq.enzyme_list.enzyme .== \"SpeI\", \"site\"][1])\n",
    "println()\n",
    "println(\"First 6 basepairs in sequence:\")\n",
    "println(df_sequences[1, \"sequence\"][1:6])"
   ]
  },
  {
   "cell_type": "markdown",
   "id": "2d2f65bc-47e9-41ee-ae8f-159829a85d15",
   "metadata": {},
   "source": [
    "Add the names of the restriction sites to the dataframe."
   ]
  },
  {
   "cell_type": "code",
   "execution_count": 165,
   "id": "63f4b4fb-9525-4fbf-b7e6-713c161c089a",
   "metadata": {},
   "outputs": [
    {
     "data": {
      "text/html": [
       "<div class=\"data-frame\"><p>178,619 rows × 6 columns (omitted printing of 5 columns)</p><table class=\"data-frame\"><thead><tr><th></th><th>sequence</th></tr><tr><th></th><th title=\"LongSequence{DNAAlphabet{4}}\">LongSequ…</th></tr></thead><tbody><tr><th>1</th><td>ACTAGTTTTCATCTTTTGTCAACCATTCACAGCGCAAATATACGCCTTTTTTTGTGATCACTCCGGCTTTTTTCGATCTTTATACTTGTATGGTAGTAGCTCAGTTGCGTAGATTTCATGCATCACGACAAGCGATGCAAGGAATCGAACATGAAGATCGTAAAGGGGGCCC</td></tr><tr><th>2</th><td>ACTAGTTTTCCTCTTTTTTCAACCATACTCAGCGCAAATACACGCCTTTTATTGTGATCACTCCCGCTTTTTTCGTTCTTTATACTTGTATCGTAGTAGCTTAGTTGCGTATATTTCATGCATAACGACACGGGATGCAGGGAATCTAACATGAAGATCGTAAAGGGGGCCC</td></tr><tr><th>3</th><td>ACTAGTTTTCAGCTTTAGTCTACCATTCACAGCGCAAATATATGCGTTTATTTGTGATCGCTCCGGCTTTATTCGATATTTCTACTTTTTTGGGAGTAGCTCAGTTGCGTAGATGTGATGCATCACGACAAGCGATGCCAGGAATCGAACATGAAGATCGTAAAGGGGGCCC</td></tr><tr><th>4</th><td>ACTAGTTTTCGTCTTTTGTCGACCATTGACATCGCGAATATACGCCATTTTTTGTGAGCACTCCGGCTTTTTACGATCTTTATACTTGTATGGTAGTAGCTCAGGTGCGTAGATTTCATGCATCTCGACAAGCGATGCTAGGAATCGATCATGGAAATGGTACAGGGGGCCC</td></tr><tr><th>5</th><td>ACTAGTTTTCCTGTTCTGTCAACCATTCACACCGCAAATATACGCCTTTTTTTGTGATGACTCCAGCTTGTTTCGATCTTTATACTTGTATGGTAGTAGCTCAGTTGCGTAGGTATCATGCATCACGGCAAGTGACGCAAGGAATTGAACATGAAGAGCATAAACGGGGCCC</td></tr><tr><th>6</th><td>ACTAGTTTTCTTTTGTTGCCAACCAATCACAGCTCTAATATACGCCTTTTTTTGTGATCACTCCGGCTTATTTCGATCTTTATACTTGTATAGTAGTAGCTCAGTTGCGTATATTTCATGCATCACGACAAGCGATGTAAGGAAGCGAACTTGAAGAACGTAAGCGGGGCCC</td></tr><tr><th>7</th><td>ACTAGTTTTCATCTTTCGTCAACCATTCACAGCGCACATATACGCCTTTTTTGTTGATCACTCCGGCTTATTTCGGTCTTGGTACTTGTATGATAGTAGATCAGTTGCGTAGATCTCATGAATCACAACAAGCGATGCAAGGAATGGAACGTGAAGATCGTATAGGGGGCCC</td></tr><tr><th>8</th><td>ACTAGTTCTCATCTTTTGTCAACCTCTCTCAGCGCAAATAAAAGCCTCTTTTCGTGATCACTCCGGCTTTTTTCGATGTTTGTTTTTTTATGGTAGTAGCTCAGTTGCGTAGATTTCATTCAGCACGACAAGCGATGCAAGGTATCGAACATGAAGATCGTAAAGGGGGCCC</td></tr><tr><th>9</th><td>ACTAGTTTTCATCTTTTGTTAATCATTCCCAGCGCAAATATACGCATTTTTTTGGGATCACTCCGGCTTTTTTCGCTCTTTACACTTGTATGGTAGTATCTCAGTCGCGTAGATTTCAAGCATCACGACTAGCGATGCAAGGAAACGAAAATGAAGCTACTAAAGGGGGCCC</td></tr><tr><th>10</th><td>ACTAGTCTTCGTCTTTTGTCAACCATTCACTGCGGAAATATACGCCGATTTCTCTGATCACTCAGGCTTTTTTCGCTCTATATATTTGTATGGTAGTAGCTCAGTTGCGTAGACTTCATGCATCACGACAAGCGGGGCAAGGAGTCGAACATGAAGATCGTAAAGGGGGCCC</td></tr><tr><th>11</th><td>ACTAGTTTTCATCCTTTGTCAACCATTTACAGCGAATATATACGCCTATTTTTGGTATCACTCCGGCTTTTTTCGCACTTTATACTTGTATGGTTGGAGCTTAGTTGCGTAGATTCCATGCATCAGGACAAGCGATGCAAGGAATCGAACATGCAAATCGTAAAGGGGGCCC</td></tr><tr><th>12</th><td>ACTAGTTTTCATCTATTGTCAGCCATTCACGGCGCAAATATAGGCCTTTTGTTGTGAGCACTGCGGCTTTTTTCGATCTTTATACTGGCATGATAGTAGCTCATTTACGTAGCTTTCATGCATCACGAGAAGCGATGCAAAGAATCGAACATGGAGATCGTAAAGGGGGCCC</td></tr><tr><th>13</th><td>ACTAGTTTTCATCTTTTGTCACCCATTCAAAGGGCAAATATACGTTGTATTTTGTGATCACTCCGGCTTTTTTGGATCTTTATACTTGTATGGTGGTAGCACAGTTGCGTAGAGTTCATGCAGCACGACATGCGATGCAAGGAATCGAAAATAAAGATCGCAAAGGGGGCCC</td></tr><tr><th>14</th><td>ACTAGTTGTCATCTTTGGTCAACCATTCACAGCGCAAATATACGCTTTTTTTTTTTATCACTCCGGTTTTTTTCGATCTTTTCACTTGTATGGTAGTAGCTCAGTCGTGTAGATTTCATGCATCAGGTCAAGCGATGCAAGGAATGGACCACGCAGATCGTAAAGGGGGCCC</td></tr><tr><th>15</th><td>ACTAGTTTTCATCTTTTGTCAATCATTCACAGCGAAAATATTCGCCTTTTTTTGATATAACTACTGCTTTTTTCGATCTACATACTTGTATGGTAGTAGGTCGGTTGCGTAAATTTCATGCATCACAATAAGCGATGCAAGGAATCGAAGATGAAGATCGTAAAGGGGGCCC</td></tr><tr><th>16</th><td>ACTAGTTTTCATCTTTTATCAACCATTCACAGGGCACATAGACGCCATTTTTTGTAATCCCTCCGGCTTTTTTCGATCTTTATACTTGTATCGTAGTGGCTCAGTTGCGTTGATTTCATGCGTCACCACAAGCGATTCAAGGATTCGAACACGAAGAGCGTAAAGGGGGCCC</td></tr><tr><th>17</th><td>ACTAGTTTTCATCTTTTGTCAACTTTTCACAGCGCAAATATACGCCTTTTTTTGTGTTCACTCCGGTTTCTTTTTATCTTTATACTTACATGGTAGTAGCTTAGTTGCGTAGATTTAATACATCACGACGAGCAATGCAAGGAATCGAACAGGAAGATCTTAAAGGGGGCCC</td></tr><tr><th>18</th><td>ACTAGTTTTAATCTTGTGTCAACCATTTACAGCGCAAATATACGCCTTTTTCTGTGATCACTGCGTCTTCTTTCGATCTTTATACTTGTATAGTAGTAGCTCAGTTGCGTAGATTTTATGCAGCACTGCATTCGATGCAAGGAAAAGAACATGAAGATCGTAAAGGGGGCCC</td></tr><tr><th>19</th><td>ACTAGTTTTCCTCTTTTGTCAACAATGCACACCGCAAATATACGCCTTTTTTTGTGATCAGTCAGGATTTTTTCGATCTTTATACTTGTGTGGTAGTAGCTCTCTTGCTTAGATTTCATGCATCACGACAAGCGATGCAAGGAAACGATCATGAAGTTCGCAACGGGGGCCC</td></tr><tr><th>20</th><td>ACTAGTTTTCATCTTATGTCAACCATTCACAGCGCAAATCTACGCATTATTTTGTGATCACTCGGGCTTTTTTCGATCTTTATACTAGTATGGTAGTAGCTCAGCTACATAGATTTAATGCATAACGACACGTGCTGTAAGGAATCGAACATAAAGATCGTAAAGGGGGCCC</td></tr><tr><th>21</th><td>ACTAGTTTTCATCTTCTGTAAGCCATTGACAGCGCAAATATACGCCTTTTTTTGTGATCACTCCGGCTTTTTTCGCTCTTTATACTTGTACCGTAGTACCTCACTTGCGTAGATTTCATGCATTACGACAGGCGGTGCAAGGAATCGAACCTTAAGATCATTAAGGGGGCCC</td></tr><tr><th>22</th><td>ACTAGTTTTCATATTTTGTCAACCATTCAGAGCGCAAATATTCGGATTGTTTTGTGATGACTCGGGCTTTTTTCGATCTTTATACTTGTATGGTAGAAGCTCAGTTGCGTAGATTTCATGCATATCGACAAGCGACACACGGAAACGTACATGAAGATCGTAAAGGGGGCCC</td></tr><tr><th>23</th><td>ACTAGTTTTCATCTTTTGTCTACCATTCACAGCGCAAAGATACGCCTTTTGTTGTGATCACTCCGGCTCCTTTCGCTCTTTATATCTGTATGGTAGTAGCTGAGTTGCATAGATTACAGGCTTCACGACAAGCGATGCAAGGGATCGAGCATGAAGATCGTAAACGGGGCCC</td></tr><tr><th>24</th><td>ACTAGTTTTCATCTTTTGTCAACCATTCACAGCGGAAATATCGGCCTTTTTTTGTCATCTCTCCGGCTTTTTTCGATCTTTATTCTTGCATGCTAGTAACGCGGTTCCGTAGATTTCATGCATTACGACAATCTATGTAAGGAATCGAACATGAAGATCGTAAAGGGGGCCC</td></tr><tr><th>25</th><td>ACTAGTTTTCATCTCTTGTCAACCAATCACCCCGCAAATATACGCCTTTTTTTTTGATCACTCCGGCTTTTTTCGATCTGTATACTTGAAGGGTAGTAGCTCAGTAATGTAGATTTCATGCGTCACGACACGAGATGCAAGGAATCGAGCATGATGATCGTAAAGGGGGCCC</td></tr><tr><th>26</th><td>ACTAGTTTTCATCTTTTGTCAACCATTCACAGCGCAAATATACGCTTTTTTTCGTGACAACTGCGGGTTTTTCCGATCTTTATACTTGTATGGTAGTGGCTCAGTAGCGTTCATATCAAGCATCACGACAAGGGATGCGAGGAAGCGAACATGAAGATCGTAAAGGGGGCCC</td></tr><tr><th>27</th><td>ACTAGTTTACATCTTTTGGCAACCATTCACAGCTCAACTATACGCTTTTTTTTGAGATCACTCCAGCTTTTTTCGATCTTAATACTTGTATGTTAGCAGCTCAGTTGCCTAGATTTCATGCGTCACGACAGGCGATGCAAGCAATCGAACATGAAGATTGTAAAGTGGGCCC</td></tr><tr><th>28</th><td>ACTAGTTTTCATCTTTTGTCAACGACTCACATCGCAGATATACGCTTTTTTTCGTGATCACTCCGGCTTTTTCCGCTCTTTATAGTTGTATGGCAGTAGCTCGGTTGCGTAGATTTCATACATCACGACACGCGATGCAGGGAATCGAACAAGAAGATCGTAAAGTGGGCCC</td></tr><tr><th>29</th><td>ACTAGTTTTCATCTTTTTTAAAACATTCACAGCGCAAATACACGCCTTTTATTGTGATCACTCCGGCTTTTGTAGATCTTTATACTTGTATGGTAGTAGCCCAGTTGCGTTGAATTCATGCATCTCGACAAGCGATACAATGAATCGAATATGACGATCGTCAAGGGGGCCC</td></tr><tr><th>30</th><td>ACTAGTTTTCATATTTTGTCAAGCCTTCACAGTGTAAATATACGCCTTTTTATGTGATCACTCCGGCTTTTTTCGATCTTTATTCATGTATGGTAGTCACTCAGTTGCGTAGATTTCAGCCATCACGACAAGCGATGCAAGGAATCGAACCCGAACAGCGTAAAGGGGGCCC</td></tr><tr><th>&vellip;</th><td>&vellip;</td></tr></tbody></table></div>"
      ],
      "text/latex": [
       "\\begin{tabular}{r|cc}\n",
       "\t& sequence & \\\\\n",
       "\t\\hline\n",
       "\t& LongSequ… & \\\\\n",
       "\t\\hline\n",
       "\t1 & ACTAGTTTTCATCTTTTGTCAACCATTCACAGCGCAAATATACGCCTTTTTTTGTGATCACTCCGGCTTTTTTCGATCTTTATACTTGTATGGTAGTAGCTCAGTTGCGTAGATTTCATGCATCACGACAAGCGATGCAAGGAATCGAACATGAAGATCGTAAAGGGGGCCC & $\\dots$ \\\\\n",
       "\t2 & ACTAGTTTTCCTCTTTTTTCAACCATACTCAGCGCAAATACACGCCTTTTATTGTGATCACTCCCGCTTTTTTCGTTCTTTATACTTGTATCGTAGTAGCTTAGTTGCGTATATTTCATGCATAACGACACGGGATGCAGGGAATCTAACATGAAGATCGTAAAGGGGGCCC & $\\dots$ \\\\\n",
       "\t3 & ACTAGTTTTCAGCTTTAGTCTACCATTCACAGCGCAAATATATGCGTTTATTTGTGATCGCTCCGGCTTTATTCGATATTTCTACTTTTTTGGGAGTAGCTCAGTTGCGTAGATGTGATGCATCACGACAAGCGATGCCAGGAATCGAACATGAAGATCGTAAAGGGGGCCC & $\\dots$ \\\\\n",
       "\t4 & ACTAGTTTTCGTCTTTTGTCGACCATTGACATCGCGAATATACGCCATTTTTTGTGAGCACTCCGGCTTTTTACGATCTTTATACTTGTATGGTAGTAGCTCAGGTGCGTAGATTTCATGCATCTCGACAAGCGATGCTAGGAATCGATCATGGAAATGGTACAGGGGGCCC & $\\dots$ \\\\\n",
       "\t5 & ACTAGTTTTCCTGTTCTGTCAACCATTCACACCGCAAATATACGCCTTTTTTTGTGATGACTCCAGCTTGTTTCGATCTTTATACTTGTATGGTAGTAGCTCAGTTGCGTAGGTATCATGCATCACGGCAAGTGACGCAAGGAATTGAACATGAAGAGCATAAACGGGGCCC & $\\dots$ \\\\\n",
       "\t6 & ACTAGTTTTCTTTTGTTGCCAACCAATCACAGCTCTAATATACGCCTTTTTTTGTGATCACTCCGGCTTATTTCGATCTTTATACTTGTATAGTAGTAGCTCAGTTGCGTATATTTCATGCATCACGACAAGCGATGTAAGGAAGCGAACTTGAAGAACGTAAGCGGGGCCC & $\\dots$ \\\\\n",
       "\t7 & ACTAGTTTTCATCTTTCGTCAACCATTCACAGCGCACATATACGCCTTTTTTGTTGATCACTCCGGCTTATTTCGGTCTTGGTACTTGTATGATAGTAGATCAGTTGCGTAGATCTCATGAATCACAACAAGCGATGCAAGGAATGGAACGTGAAGATCGTATAGGGGGCCC & $\\dots$ \\\\\n",
       "\t8 & ACTAGTTCTCATCTTTTGTCAACCTCTCTCAGCGCAAATAAAAGCCTCTTTTCGTGATCACTCCGGCTTTTTTCGATGTTTGTTTTTTTATGGTAGTAGCTCAGTTGCGTAGATTTCATTCAGCACGACAAGCGATGCAAGGTATCGAACATGAAGATCGTAAAGGGGGCCC & $\\dots$ \\\\\n",
       "\t9 & ACTAGTTTTCATCTTTTGTTAATCATTCCCAGCGCAAATATACGCATTTTTTTGGGATCACTCCGGCTTTTTTCGCTCTTTACACTTGTATGGTAGTATCTCAGTCGCGTAGATTTCAAGCATCACGACTAGCGATGCAAGGAAACGAAAATGAAGCTACTAAAGGGGGCCC & $\\dots$ \\\\\n",
       "\t10 & ACTAGTCTTCGTCTTTTGTCAACCATTCACTGCGGAAATATACGCCGATTTCTCTGATCACTCAGGCTTTTTTCGCTCTATATATTTGTATGGTAGTAGCTCAGTTGCGTAGACTTCATGCATCACGACAAGCGGGGCAAGGAGTCGAACATGAAGATCGTAAAGGGGGCCC & $\\dots$ \\\\\n",
       "\t11 & ACTAGTTTTCATCCTTTGTCAACCATTTACAGCGAATATATACGCCTATTTTTGGTATCACTCCGGCTTTTTTCGCACTTTATACTTGTATGGTTGGAGCTTAGTTGCGTAGATTCCATGCATCAGGACAAGCGATGCAAGGAATCGAACATGCAAATCGTAAAGGGGGCCC & $\\dots$ \\\\\n",
       "\t12 & ACTAGTTTTCATCTATTGTCAGCCATTCACGGCGCAAATATAGGCCTTTTGTTGTGAGCACTGCGGCTTTTTTCGATCTTTATACTGGCATGATAGTAGCTCATTTACGTAGCTTTCATGCATCACGAGAAGCGATGCAAAGAATCGAACATGGAGATCGTAAAGGGGGCCC & $\\dots$ \\\\\n",
       "\t13 & ACTAGTTTTCATCTTTTGTCACCCATTCAAAGGGCAAATATACGTTGTATTTTGTGATCACTCCGGCTTTTTTGGATCTTTATACTTGTATGGTGGTAGCACAGTTGCGTAGAGTTCATGCAGCACGACATGCGATGCAAGGAATCGAAAATAAAGATCGCAAAGGGGGCCC & $\\dots$ \\\\\n",
       "\t14 & ACTAGTTGTCATCTTTGGTCAACCATTCACAGCGCAAATATACGCTTTTTTTTTTTATCACTCCGGTTTTTTTCGATCTTTTCACTTGTATGGTAGTAGCTCAGTCGTGTAGATTTCATGCATCAGGTCAAGCGATGCAAGGAATGGACCACGCAGATCGTAAAGGGGGCCC & $\\dots$ \\\\\n",
       "\t15 & ACTAGTTTTCATCTTTTGTCAATCATTCACAGCGAAAATATTCGCCTTTTTTTGATATAACTACTGCTTTTTTCGATCTACATACTTGTATGGTAGTAGGTCGGTTGCGTAAATTTCATGCATCACAATAAGCGATGCAAGGAATCGAAGATGAAGATCGTAAAGGGGGCCC & $\\dots$ \\\\\n",
       "\t16 & ACTAGTTTTCATCTTTTATCAACCATTCACAGGGCACATAGACGCCATTTTTTGTAATCCCTCCGGCTTTTTTCGATCTTTATACTTGTATCGTAGTGGCTCAGTTGCGTTGATTTCATGCGTCACCACAAGCGATTCAAGGATTCGAACACGAAGAGCGTAAAGGGGGCCC & $\\dots$ \\\\\n",
       "\t17 & ACTAGTTTTCATCTTTTGTCAACTTTTCACAGCGCAAATATACGCCTTTTTTTGTGTTCACTCCGGTTTCTTTTTATCTTTATACTTACATGGTAGTAGCTTAGTTGCGTAGATTTAATACATCACGACGAGCAATGCAAGGAATCGAACAGGAAGATCTTAAAGGGGGCCC & $\\dots$ \\\\\n",
       "\t18 & ACTAGTTTTAATCTTGTGTCAACCATTTACAGCGCAAATATACGCCTTTTTCTGTGATCACTGCGTCTTCTTTCGATCTTTATACTTGTATAGTAGTAGCTCAGTTGCGTAGATTTTATGCAGCACTGCATTCGATGCAAGGAAAAGAACATGAAGATCGTAAAGGGGGCCC & $\\dots$ \\\\\n",
       "\t19 & ACTAGTTTTCCTCTTTTGTCAACAATGCACACCGCAAATATACGCCTTTTTTTGTGATCAGTCAGGATTTTTTCGATCTTTATACTTGTGTGGTAGTAGCTCTCTTGCTTAGATTTCATGCATCACGACAAGCGATGCAAGGAAACGATCATGAAGTTCGCAACGGGGGCCC & $\\dots$ \\\\\n",
       "\t20 & ACTAGTTTTCATCTTATGTCAACCATTCACAGCGCAAATCTACGCATTATTTTGTGATCACTCGGGCTTTTTTCGATCTTTATACTAGTATGGTAGTAGCTCAGCTACATAGATTTAATGCATAACGACACGTGCTGTAAGGAATCGAACATAAAGATCGTAAAGGGGGCCC & $\\dots$ \\\\\n",
       "\t21 & ACTAGTTTTCATCTTCTGTAAGCCATTGACAGCGCAAATATACGCCTTTTTTTGTGATCACTCCGGCTTTTTTCGCTCTTTATACTTGTACCGTAGTACCTCACTTGCGTAGATTTCATGCATTACGACAGGCGGTGCAAGGAATCGAACCTTAAGATCATTAAGGGGGCCC & $\\dots$ \\\\\n",
       "\t22 & ACTAGTTTTCATATTTTGTCAACCATTCAGAGCGCAAATATTCGGATTGTTTTGTGATGACTCGGGCTTTTTTCGATCTTTATACTTGTATGGTAGAAGCTCAGTTGCGTAGATTTCATGCATATCGACAAGCGACACACGGAAACGTACATGAAGATCGTAAAGGGGGCCC & $\\dots$ \\\\\n",
       "\t23 & ACTAGTTTTCATCTTTTGTCTACCATTCACAGCGCAAAGATACGCCTTTTGTTGTGATCACTCCGGCTCCTTTCGCTCTTTATATCTGTATGGTAGTAGCTGAGTTGCATAGATTACAGGCTTCACGACAAGCGATGCAAGGGATCGAGCATGAAGATCGTAAACGGGGCCC & $\\dots$ \\\\\n",
       "\t24 & ACTAGTTTTCATCTTTTGTCAACCATTCACAGCGGAAATATCGGCCTTTTTTTGTCATCTCTCCGGCTTTTTTCGATCTTTATTCTTGCATGCTAGTAACGCGGTTCCGTAGATTTCATGCATTACGACAATCTATGTAAGGAATCGAACATGAAGATCGTAAAGGGGGCCC & $\\dots$ \\\\\n",
       "\t25 & ACTAGTTTTCATCTCTTGTCAACCAATCACCCCGCAAATATACGCCTTTTTTTTTGATCACTCCGGCTTTTTTCGATCTGTATACTTGAAGGGTAGTAGCTCAGTAATGTAGATTTCATGCGTCACGACACGAGATGCAAGGAATCGAGCATGATGATCGTAAAGGGGGCCC & $\\dots$ \\\\\n",
       "\t26 & ACTAGTTTTCATCTTTTGTCAACCATTCACAGCGCAAATATACGCTTTTTTTCGTGACAACTGCGGGTTTTTCCGATCTTTATACTTGTATGGTAGTGGCTCAGTAGCGTTCATATCAAGCATCACGACAAGGGATGCGAGGAAGCGAACATGAAGATCGTAAAGGGGGCCC & $\\dots$ \\\\\n",
       "\t27 & ACTAGTTTACATCTTTTGGCAACCATTCACAGCTCAACTATACGCTTTTTTTTGAGATCACTCCAGCTTTTTTCGATCTTAATACTTGTATGTTAGCAGCTCAGTTGCCTAGATTTCATGCGTCACGACAGGCGATGCAAGCAATCGAACATGAAGATTGTAAAGTGGGCCC & $\\dots$ \\\\\n",
       "\t28 & ACTAGTTTTCATCTTTTGTCAACGACTCACATCGCAGATATACGCTTTTTTTCGTGATCACTCCGGCTTTTTCCGCTCTTTATAGTTGTATGGCAGTAGCTCGGTTGCGTAGATTTCATACATCACGACACGCGATGCAGGGAATCGAACAAGAAGATCGTAAAGTGGGCCC & $\\dots$ \\\\\n",
       "\t29 & ACTAGTTTTCATCTTTTTTAAAACATTCACAGCGCAAATACACGCCTTTTATTGTGATCACTCCGGCTTTTGTAGATCTTTATACTTGTATGGTAGTAGCCCAGTTGCGTTGAATTCATGCATCTCGACAAGCGATACAATGAATCGAATATGACGATCGTCAAGGGGGCCC & $\\dots$ \\\\\n",
       "\t30 & ACTAGTTTTCATATTTTGTCAAGCCTTCACAGTGTAAATATACGCCTTTTTATGTGATCACTCCGGCTTTTTTCGATCTTTATTCATGTATGGTAGTCACTCAGTTGCGTAGATTTCAGCCATCACGACAAGCGATGCAAGGAATCGAACCCGAACAGCGTAAAGGGGGCCC & $\\dots$ \\\\\n",
       "\t$\\dots$ & $\\dots$ &  \\\\\n",
       "\\end{tabular}\n"
      ],
      "text/plain": [
       "\u001b[1m178619×6 DataFrame\u001b[0m\n",
       "\u001b[1m    Row \u001b[0m│\u001b[1m sequence                          \u001b[0m\u001b[1m genes            \u001b[0m\u001b[1m promoter       \u001b[0m\u001b[1m\u001b[0m ⋯\n",
       "\u001b[1m        \u001b[0m│\u001b[90m LongSequ…                         \u001b[0m\u001b[90m Array…           \u001b[0m\u001b[90m String         \u001b[0m\u001b[90m\u001b[0m ⋯\n",
       "────────┼───────────────────────────────────────────────────────────────────────\n",
       "      1 │ ACTAGTTTTCATCTTTTGTCAACCATTCACAG…  [\"rspA\", \"rspB\"]  rspAp           ⋯\n",
       "      2 │ ACTAGTTTTCCTCTTTTTTCAACCATACTCAG…  [\"rspA\", \"rspB\"]  rspAp\n",
       "      3 │ ACTAGTTTTCAGCTTTAGTCTACCATTCACAG…  [\"rspA\", \"rspB\"]  rspAp\n",
       "      4 │ ACTAGTTTTCGTCTTTTGTCGACCATTGACAT…  [\"rspA\", \"rspB\"]  rspAp\n",
       "      5 │ ACTAGTTTTCCTGTTCTGTCAACCATTCACAC…  [\"rspA\", \"rspB\"]  rspAp           ⋯\n",
       "      6 │ ACTAGTTTTCTTTTGTTGCCAACCAATCACAG…  [\"rspA\", \"rspB\"]  rspAp\n",
       "      7 │ ACTAGTTTTCATCTTTCGTCAACCATTCACAG…  [\"rspA\", \"rspB\"]  rspAp\n",
       "      8 │ ACTAGTTCTCATCTTTTGTCAACCTCTCTCAG…  [\"rspA\", \"rspB\"]  rspAp\n",
       "      9 │ ACTAGTTTTCATCTTTTGTTAATCATTCCCAG…  [\"rspA\", \"rspB\"]  rspAp           ⋯\n",
       "     10 │ ACTAGTCTTCGTCTTTTGTCAACCATTCACTG…  [\"rspA\", \"rspB\"]  rspAp\n",
       "     11 │ ACTAGTTTTCATCCTTTGTCAACCATTTACAG…  [\"rspA\", \"rspB\"]  rspAp\n",
       "   ⋮    │                 ⋮                         ⋮                ⋮         ⋱\n",
       " 178610 │ ACTAGTAAACTTATTCATATGCATCCCTTTCA…  [\"uacT\"]          uacT_predicted\n",
       " 178611 │ ACTAGTAAACCTTTTCATTTGCATCCATTTCA…  [\"uacT\"]          uacT_predicted  ⋯\n",
       " 178612 │ ACTAGTAAACTTATGCATTTCATTCCCTTTCA…  [\"uacT\"]          uacT_predicted\n",
       " 178613 │ ACTAGTAAACTTATTCATATGCATCCCTTTCA…  [\"uacT\"]          uacT_predicted\n",
       " 178614 │ ACTAGTAAACTTATTCATTTGCATCCCTATAA…  [\"uacT\"]          uacT_predicted\n",
       " 178615 │ ACTAGTAAACTTAGTCATGTGCATCCCTTTCA…  [\"uacT\"]          uacT_predicted  ⋯\n",
       " 178616 │ ACTAGTAAACTTATTCATTTGCATCCCCTTCA…  [\"uacT\"]          uacT_predicted\n",
       " 178617 │ ACTAGTAAACCTATTTATTTGCATCCCTGTCA…  [\"uacT\"]          uacT_predicted\n",
       " 178618 │ ACTAGTAAACTTATTCATTTGCATCCCTTTCA…  [\"uacT\"]          uacT_predicted\n",
       " 178619 │ ACTAGTAAACTTATTCACTTGCATACAAATCA…  [\"uacT\"]          uacT_predicted  ⋯\n",
       "\u001b[36m                                               3 columns and 178598 rows omitted\u001b[0m"
      ]
     },
     "execution_count": 165,
     "metadata": {},
     "output_type": "execute_result"
    }
   ],
   "source": [
    "insertcols!(df_sequences, 4, :upstream_re_site => fill(enz1, nrow(df_sequences)))\n",
    "insertcols!(df_sequences, 5, :downstream_re_site => fill(enz2, nrow(df_sequences)))"
   ]
  },
  {
   "cell_type": "markdown",
   "id": "2911a185-018b-4eda-9ef0-d0712fe73930",
   "metadata": {
    "tags": []
   },
   "source": [
    "# Computational Environment"
   ]
  },
  {
   "cell_type": "code",
   "execution_count": 12,
   "id": "063cac35-eaa4-498f-9df6-56c6a5927254",
   "metadata": {
    "tags": []
   },
   "outputs": [
    {
     "name": "stdout",
     "output_type": "stream",
     "text": [
      "\u001b[36m\u001b[1mProject\u001b[22m\u001b[39m wgregseq v0.1.0\n",
      "\u001b[32m\u001b[1mStatus\u001b[22m\u001b[39m `~/git/1000_genes_ecoli/Project.toml`\n",
      " \u001b[90m [7e6ae17a] \u001b[39mBioSequences v3.0.0\n",
      " \u001b[90m [336ed68f] \u001b[39mCSV v0.10.4\n",
      " \u001b[90m [13f3f980] \u001b[39mCairoMakie v0.8.3\n",
      " \u001b[90m [a93c6f00] \u001b[39mDataFrames v1.3.4\n",
      " \u001b[90m [c2308a5c] \u001b[39mFASTX v1.3.0\n"
     ]
    }
   ],
   "source": [
    "using Pkg\n",
    "Pkg.status([\"DataFrames\", \"CSV\", \"FASTX\", \"BioSequences\", \"CairoMakie\"])"
   ]
  },
  {
   "cell_type": "code",
   "execution_count": null,
   "id": "6ea05e1a",
   "metadata": {},
   "outputs": [],
   "source": []
  }
 ],
 "metadata": {
  "kernelspec": {
   "display_name": "Julia 1.8.0-rc1",
   "language": "julia",
   "name": "julia-1.8"
  },
  "language_info": {
   "file_extension": ".jl",
   "mimetype": "application/julia",
   "name": "julia",
   "version": "1.8.0"
  }
 },
 "nbformat": 4,
 "nbformat_minor": 5
}
