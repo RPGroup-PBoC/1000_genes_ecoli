{
 "cells": [
  {
   "cell_type": "code",
   "execution_count": 1,
   "id": "bc26b636-7411-42e4-916e-7032d868d754",
   "metadata": {},
   "outputs": [
    {
     "data": {
      "text/plain": [
       "2×3 Matrix{Tuple{Int64, Int64}}:\n",
       " (1, 3)  (1, 4)  (1, 5)\n",
       " (2, 3)  (2, 4)  (2, 5)"
      ]
     },
     "execution_count": 1,
     "metadata": {},
     "output_type": "execute_result"
    }
   ],
   "source": [
    "collect(Iterators.product(1:2, 3:5))"
   ]
  },
  {
   "cell_type": "code",
   "execution_count": 10,
   "id": "282a9c8b-f591-4420-8690-54985c54e204",
   "metadata": {},
   "outputs": [
    {
     "data": {
      "text/plain": [
       "64-element Vector{String}:\n",
       " \"AAA\"\n",
       " \"AAC\"\n",
       " \"AAG\"\n",
       " \"AAT\"\n",
       " \"ACA\"\n",
       " \"ACC\"\n",
       " \"ACG\"\n",
       " \"ACT\"\n",
       " \"AGA\"\n",
       " \"AGC\"\n",
       " \"AGG\"\n",
       " \"AGT\"\n",
       " \"ATA\"\n",
       " ⋮\n",
       " \"TCA\"\n",
       " \"TCC\"\n",
       " \"TCG\"\n",
       " \"TCT\"\n",
       " \"TGA\"\n",
       " \"TGC\"\n",
       " \"TGG\"\n",
       " \"TGT\"\n",
       " \"TTA\"\n",
       " \"TTC\"\n",
       " \"TTG\"\n",
       " \"TTT\""
      ]
     },
     "execution_count": 10,
     "metadata": {},
     "output_type": "execute_result"
    }
   ],
   "source": [
    "x = [\"A\", \"C\", \"G\", \"T\"]\n",
    "vcat(join.(collect(Iterators.product(fill(x, 3)...)))...) |> sort"
   ]
  },
  {
   "cell_type": "code",
   "execution_count": 6,
   "id": "599a4593-51cc-4cf9-8364-dd604fd6e28f",
   "metadata": {},
   "outputs": [
    {
     "name": "stdout",
     "output_type": "stream",
     "text": [
      "search: \u001b[0m\u001b[1mj\u001b[22m\u001b[0m\u001b[1mo\u001b[22m\u001b[0m\u001b[1mi\u001b[22m\u001b[0m\u001b[1mn\u001b[22m \u001b[0m\u001b[1mj\u001b[22m\u001b[0m\u001b[1mo\u001b[22m\u001b[0m\u001b[1mi\u001b[22m\u001b[0m\u001b[1mn\u001b[22mpath ad\u001b[0m\u001b[1mj\u001b[22m\u001b[0m\u001b[1mo\u001b[22m\u001b[0m\u001b[1mi\u001b[22m\u001b[0m\u001b[1mn\u001b[22mt type\u001b[0m\u001b[1mj\u001b[22m\u001b[0m\u001b[1mo\u001b[22m\u001b[0m\u001b[1mi\u001b[22m\u001b[0m\u001b[1mn\u001b[22m isdis\u001b[0m\u001b[1mj\u001b[22m\u001b[0m\u001b[1mo\u001b[22m\u001b[0m\u001b[1mi\u001b[22m\u001b[0m\u001b[1mn\u001b[22mt\n",
      "\n"
     ]
    },
    {
     "data": {
      "text/latex": [
       "\\begin{verbatim}\n",
       "join([io::IO,] iterator [, delim [, last]])\n",
       "\\end{verbatim}\n",
       "Join any \\texttt{iterator} into a single string, inserting the given delimiter (if any) between adjacent items.  If \\texttt{last} is given, it will be used instead of \\texttt{delim} between the last two items.  Each item of \\texttt{iterator} is converted to a string via \\texttt{print(io::IOBuffer, x)}. If \\texttt{io} is given, the result is written to \\texttt{io} rather than returned as a \\texttt{String}.\n",
       "\n",
       "\\section{Examples}\n",
       "\\begin{verbatim}\n",
       "julia> join([\"apples\", \"bananas\", \"pineapples\"], \", \", \" and \")\n",
       "\"apples, bananas and pineapples\"\n",
       "\n",
       "julia> join([1,2,3,4,5])\n",
       "\"12345\"\n",
       "\\end{verbatim}\n"
      ],
      "text/markdown": [
       "```\n",
       "join([io::IO,] iterator [, delim [, last]])\n",
       "```\n",
       "\n",
       "Join any `iterator` into a single string, inserting the given delimiter (if any) between adjacent items.  If `last` is given, it will be used instead of `delim` between the last two items.  Each item of `iterator` is converted to a string via `print(io::IOBuffer, x)`. If `io` is given, the result is written to `io` rather than returned as a `String`.\n",
       "\n",
       "# Examples\n",
       "\n",
       "```jldoctest\n",
       "julia> join([\"apples\", \"bananas\", \"pineapples\"], \", \", \" and \")\n",
       "\"apples, bananas and pineapples\"\n",
       "\n",
       "julia> join([1,2,3,4,5])\n",
       "\"12345\"\n",
       "```\n"
      ],
      "text/plain": [
       "\u001b[36m  join([io::IO,] iterator [, delim [, last]])\u001b[39m\n",
       "\n",
       "  Join any \u001b[36miterator\u001b[39m into a single string, inserting the given delimiter (if\n",
       "  any) between adjacent items. If \u001b[36mlast\u001b[39m is given, it will be used instead of\n",
       "  \u001b[36mdelim\u001b[39m between the last two items. Each item of \u001b[36miterator\u001b[39m is converted to a\n",
       "  string via \u001b[36mprint(io::IOBuffer, x)\u001b[39m. If \u001b[36mio\u001b[39m is given, the result is written to\n",
       "  \u001b[36mio\u001b[39m rather than returned as a \u001b[36mString\u001b[39m.\n",
       "\n",
       "\u001b[1m  Examples\u001b[22m\n",
       "\u001b[1m  ≡≡≡≡≡≡≡≡≡≡\u001b[22m\n",
       "\n",
       "\u001b[36m  julia> join([\"apples\", \"bananas\", \"pineapples\"], \", \", \" and \")\u001b[39m\n",
       "\u001b[36m  \"apples, bananas and pineapples\"\u001b[39m\n",
       "\u001b[36m  \u001b[39m\n",
       "\u001b[36m  julia> join([1,2,3,4,5])\u001b[39m\n",
       "\u001b[36m  \"12345\"\u001b[39m"
      ]
     },
     "execution_count": 6,
     "metadata": {},
     "output_type": "execute_result"
    }
   ],
   "source": [
    "?join"
   ]
  },
  {
   "cell_type": "code",
   "execution_count": null,
   "id": "738bb386-e051-4750-a813-062b52c3f651",
   "metadata": {},
   "outputs": [],
   "source": []
  }
 ],
 "metadata": {
  "kernelspec": {
   "display_name": "Julia 1.7.0",
   "language": "julia",
   "name": "julia-1.7"
  },
  "language_info": {
   "file_extension": ".jl",
   "mimetype": "application/julia",
   "name": "julia",
   "version": "1.7.0"
  }
 },
 "nbformat": 4,
 "nbformat_minor": 5
}
