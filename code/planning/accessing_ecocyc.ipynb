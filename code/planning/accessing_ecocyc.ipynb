{
 "cells": [
  {
   "cell_type": "markdown",
   "id": "547d8028-0b69-4a77-b1f6-d6fd25b6efd5",
   "metadata": {},
   "source": [
    "# Accessing Ecocyc to get transcription start sites"
   ]
  },
  {
   "cell_type": "markdown",
   "id": "690d54a2-a611-4588-8b14-f79ff357f69a",
   "metadata": {},
   "source": [
    "(c) 2021 Tom Röschinger. This work is licensed under a [Creative Commons Attribution License CC-BY 4.0](https://creativecommons.org/licenses/by/4.0/). All code contained herein is licensed under an [MIT license](https://opensource.org/licenses/MIT)."
   ]
  },
  {
   "cell_type": "markdown",
   "id": "431216ea-9ab6-46c8-a7db-df3d1625d66f",
   "metadata": {},
   "source": [
    "***"
   ]
  },
  {
   "cell_type": "code",
   "execution_count": 1,
   "id": "e06f43ff-2397-4936-88f9-26e919cdf528",
   "metadata": {},
   "outputs": [
    {
     "name": "stderr",
     "output_type": "stream",
     "text": [
      "┌ Info: Precompiling wgregseq [92159825-5294-483b-b24c-b5dfa4a5d664]\n",
      "└ @ Base loading.jl:1317\n"
     ]
    }
   ],
   "source": [
    "using CSV, DataFrames, wgregseq, LightXML, HTTP"
   ]
  },
  {
   "cell_type": "code",
   "execution_count": 2,
   "id": "e2def307-6381-46ea-9cba-42348ffa903b",
   "metadata": {},
   "outputs": [
    {
     "data": {
      "text/html": [
       "<div class=\"data-frame\"><p>5 rows × 11 columns (omitted printing of 6 columns)</p><table class=\"data-frame\"><thead><tr><th></th><th>Gene Name</th><th>Accession-1</th><th>Left-End-Position</th><th>Right-End-Position</th><th>Regulation - transcription units of gene</th></tr><tr><th></th><th title=\"String31\">String31</th><th title=\"Union{Missing, String7}\">String7?</th><th title=\"Union{Missing, Int64}\">Int64?</th><th title=\"Union{Missing, Int64}\">Int64?</th><th title=\"Union{Missing, String}\">String?</th></tr></thead><tbody><tr><th>1</th><td>rfbC</td><td>b2038</td><td>2109581</td><td>2110138</td><td>rfbACX // rfbBDACX</td></tr><tr><th>2</th><td>yehE</td><td>b2112</td><td>2192515</td><td>2192796</td><td>yehE</td></tr><tr><th>3</th><td>tmk</td><td>b1098</td><td>1155124</td><td>1155765</td><td>pabC-mltG-tmk-holB-ycfH</td></tr><tr><th>4</th><td>yadG</td><td>b0127</td><td>142779</td><td>143705</td><td>yadGH</td></tr><tr><th>5</th><td>sthA</td><td>b3962</td><td>4159390</td><td>4160790</td><td>sthA</td></tr></tbody></table></div>"
      ],
      "text/latex": [
       "\\begin{tabular}{r|cccccc}\n",
       "\t& Gene Name & Accession-1 & Left-End-Position & Right-End-Position & Regulation - transcription units of gene & \\\\\n",
       "\t\\hline\n",
       "\t& String31 & String7? & Int64? & Int64? & String? & \\\\\n",
       "\t\\hline\n",
       "\t1 & rfbC & b2038 & 2109581 & 2110138 & rfbACX // rfbBDACX & $\\dots$ \\\\\n",
       "\t2 & yehE & b2112 & 2192515 & 2192796 & yehE & $\\dots$ \\\\\n",
       "\t3 & tmk & b1098 & 1155124 & 1155765 & pabC-mltG-tmk-holB-ycfH & $\\dots$ \\\\\n",
       "\t4 & yadG & b0127 & 142779 & 143705 & yadGH & $\\dots$ \\\\\n",
       "\t5 & sthA & b3962 & 4159390 & 4160790 & sthA & $\\dots$ \\\\\n",
       "\\end{tabular}\n"
      ],
      "text/plain": [
       "\u001b[1m5×11 DataFrame\u001b[0m\n",
       "\u001b[1m Row \u001b[0m│\u001b[1m Gene Name \u001b[0m\u001b[1m Accession-1 \u001b[0m\u001b[1m Left-End-Position \u001b[0m\u001b[1m Right-End-Position \u001b[0m\u001b[1m Regulati\u001b[0m ⋯\n",
       "\u001b[1m     \u001b[0m│\u001b[90m String31  \u001b[0m\u001b[90m String7?    \u001b[0m\u001b[90m Int64?            \u001b[0m\u001b[90m Int64?             \u001b[0m\u001b[90m Union{Mi\u001b[0m ⋯\n",
       "─────┼──────────────────────────────────────────────────────────────────────────\n",
       "   1 │ rfbC       b2038                  2109581             2110138  rfbACX / ⋯\n",
       "   2 │ yehE       b2112                  2192515             2192796  yehE\n",
       "   3 │ tmk        b1098                  1155124             1155765  pabC-mlt\n",
       "   4 │ yadG       b0127                   142779              143705  yadGH\n",
       "   5 │ sthA       b3962                  4159390             4160790  sthA     ⋯\n",
       "\u001b[36m                                                               7 columns omitted\u001b[0m"
      ]
     },
     "execution_count": 2,
     "metadata": {},
     "output_type": "execute_result"
    }
   ],
   "source": [
    "df = CSV.read(\"../../data/genes_MG1655.txt\", DataFrame)\n",
    "first(df, 5)"
   ]
  },
  {
   "cell_type": "code",
   "execution_count": 3,
   "id": "b3920cb9-ff3a-4ccd-bcb1-8a3c97d5aea3",
   "metadata": {},
   "outputs": [
    {
     "data": {
      "text/plain": [
       "11-element Vector{String}:\n",
       " \"Gene Name\"\n",
       " \"Accession-1\"\n",
       " \"Left-End-Position\"\n",
       " \"Right-End-Position\"\n",
       " \"Regulation - transcription units of gene\"\n",
       " \"Object ID\"\n",
       " \"Transcription units - promoter of operon\"\n",
       " \"Transcription units - binding sites\"\n",
       " \"Transcription units - regulators of operon\"\n",
       " \"Regulation - direct regulators of gene\"\n",
       " \"Regulation - transcription factor regulators of gene\""
      ]
     },
     "execution_count": 3,
     "metadata": {},
     "output_type": "execute_result"
    }
   ],
   "source": [
    "names(df)"
   ]
  },
  {
   "cell_type": "code",
   "execution_count": 4,
   "id": "40ea2206-12d8-4415-a39d-9e9d50587e54",
   "metadata": {
    "tags": []
   },
   "outputs": [],
   "source": [
    "gold_standards = [\n",
    "    \"rspA\",\n",
    "    \"araA\",\n",
    "    \"araB\",\n",
    "    \"znuC\",\n",
    "    \"znuB\",\n",
    "    \"xylA\",\n",
    "    \"xylF\",\n",
    "    \"dicC\",\n",
    "    \"relE\",\n",
    "    \"relB\",\n",
    "    \"ftsK\",\n",
    "    \"znuA\",\n",
    "    \"lacI\",\n",
    "    \"marR\",\n",
    "    \"dgoR\",\n",
    "    \"ompR\",\n",
    "    \"dicA\",\n",
    "    \"araC\"\n",
    "];"
   ]
  },
  {
   "cell_type": "code",
   "execution_count": 42,
   "id": "281eeb7a-ae3b-4ef1-a284-f4414b642279",
   "metadata": {},
   "outputs": [
    {
     "data": {
      "text/plain": [
       "19"
      ]
     },
     "execution_count": 42,
     "metadata": {},
     "output_type": "execute_result"
    }
   ],
   "source": [
    "gene_list = sort(df[!, \"Gene Name\"])\n",
    "ind = findfirst(x -> x[1] == 'a', gene_list)\n",
    "ind"
   ]
  },
  {
   "cell_type": "code",
   "execution_count": null,
   "id": "efdf07d9-0e10-4198-84e8-42ecdc36bc1a",
   "metadata": {},
   "outputs": [],
   "source": [
    "gene_information = wgregseq.design.get_ecocyc(convert(Vector{String}, gene_list[ind:ind+1000]))"
   ]
  },
  {
   "cell_type": "code",
   "execution_count": 362,
   "id": "818d4295-a84e-41ce-aaf2-bc6818a41299",
   "metadata": {},
   "outputs": [],
   "source": [
    "s = open(\"../../data/var_genes.txt\") do file\n",
    "    read(file, String)\n",
    "end\n",
    "var_genes = split(s, '\\n')[1:end-1];"
   ]
  },
  {
   "cell_type": "code",
   "execution_count": 360,
   "id": "d84cafbb-04ae-4446-8ef4-7ed29d1830ad",
   "metadata": {},
   "outputs": [
    {
     "name": "stdout",
     "output_type": "stream",
     "text": [
      "ygaU\n",
      "pckA\n",
      "lpdA\n",
      "yeeX\n",
      "prr\n",
      "yjiY\n",
      "fliY\n",
      "gyrI\n",
      "gpmI\n",
      "ydbC\n",
      "ydjN\n",
      "yifE\n",
      "ynhG\n",
      "ygfY\n",
      "mtnN\n",
      "typA\n",
      "yhcB\n",
      "trpG\n",
      "ybgF\n",
      "ybiC\n",
      "yjjK\n",
      "yhcH\n",
      "nfnB\n",
      "csiD\n",
      "yaiE\n",
      "ybdH\n",
      "ybiS\n",
      "yqiC\n",
      "hldD\n",
      "ycbL\n",
      "acuI\n",
      "coaB\n",
      "yraP\n",
      "phnB\n",
      "yfiQ\n"
     ]
    }
   ],
   "source": [
    "for gene in var_genes\n",
    "    if length(df[df[!, \"Gene Name\"] .== gene, \"Regulation - direct regulators of gene\"]) < 1\n",
    "        println(gene)\n",
    "    end\n",
    "end   "
   ]
  },
  {
   "cell_type": "code",
   "execution_count": null,
   "id": "0b2b7646-9f9d-4967-9fea-254105e75f80",
   "metadata": {},
   "outputs": [],
   "source": []
  }
 ],
 "metadata": {
  "kernelspec": {
   "display_name": "Julia 1.6.0",
   "language": "julia",
   "name": "julia-1.6"
  },
  "language_info": {
   "file_extension": ".jl",
   "mimetype": "application/julia",
   "name": "julia",
   "version": "1.6.0"
  }
 },
 "nbformat": 4,
 "nbformat_minor": 5
}
