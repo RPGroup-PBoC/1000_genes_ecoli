{
 "cells": [
  {
   "cell_type": "code",
   "execution_count": null,
   "metadata": {},
   "outputs": [],
   "source": []
  },
  {
   "cell_type": "code",
   "execution_count": 179,
   "metadata": {},
   "outputs": [
    {
     "name": "stderr",
     "output_type": "stream",
     "text": [
      "WARNING: could not import BioSequences.reverese_complement into utils\n"
     ]
    },
    {
     "data": {
      "text/plain": [
       "3-element Vector{String}:\n",
       " \"#324fa2\"\n",
       " \"#f47c20\"\n",
       " \"#a8cf38\""
      ]
     },
     "execution_count": 179,
     "metadata": {},
     "output_type": "execute_result"
    }
   ],
   "source": [
    "using CSV, DataFrames, wgregseq, CairoMakie, Statistics, DelimitedFiles, Dates, Colors, FASTX, BioSequences, StatsBase\n",
    "\n",
    "wgregseq.plotting_style.default_makie!()\n",
    "update_theme!(Theme(font = \"Lato\", titlefont=\"Lato\"))\n",
    "colors_dict = wgregseq.plotting_style.my_color_dict\n",
    "colors = [colors_dict[\"blue1\"], colors_dict[\"orange1\"], colors_dict[\"green1\"]]"
   ]
  },
  {
   "attachments": {},
   "cell_type": "markdown",
   "metadata": {},
   "source": [
    "## Import mapping data\n",
    "\n",
    "Import the table mapping barcodes to promoter variants and filter out anything that has less than 3 reads, as well as anything with more than 30 mutations."
   ]
  },
  {
   "cell_type": "code",
   "execution_count": 2,
   "metadata": {},
   "outputs": [],
   "source": [
    "df_map = CSV.read(\n",
    "    \"../../../data/barcodes/20220514_mapping/mapped_barcodes.csv\", \n",
    "    DataFrame, \n",
    ");\n"
   ]
  },
  {
   "cell_type": "code",
   "execution_count": 3,
   "metadata": {},
   "outputs": [],
   "source": [
    "\n",
    "df_map = df_map[df_map.name .!= \"*\", :]\n",
    "\n",
    "gdf = groupby(df_map[(df_map.map_count .> 2), :], :barcode)\n",
    "_df = DataFrame()\n",
    "for df in gdf\n",
    "    if nrow(df) == 1\n",
    "        append!(_df, df)\n",
    "    end\n",
    "end\n",
    "df_map = copy(_df);"
   ]
  },
  {
   "cell_type": "code",
   "execution_count": 4,
   "metadata": {},
   "outputs": [
    {
     "data": {
      "text/plain": [
       "112"
      ]
     },
     "execution_count": 4,
     "metadata": {},
     "output_type": "execute_result"
    }
   ],
   "source": [
    "df_seqs = wgregseq.utils.import_twist_order(\"../../../data/twist_orders/2022-02-15_twist_order.csv\")\n",
    "df_wt = df_seqs[1:1501:119*1501, :];\n",
    "insertcols!(df_wt, 4, :promoter_seq => [string(x[27:186]) for x in df_wt.sequence])\n",
    "\n",
    "df_wt.promoter_seq |> unique |> length"
   ]
  },
  {
   "cell_type": "code",
   "execution_count": 35,
   "metadata": {},
   "outputs": [],
   "source": [
    "gc_dict = Dict(\"LB\" => \"LB\", \"M9-Xy-Ar\"=>\"Minimal Media + 0.5% Xylose + 0.5% Arabinose\")\n",
    "df_store = DataFrame()\n",
    "date = \"2023_05_25\"\n",
    "source = \"plasmid\"\n",
    "\n",
    "for gc in [\"LB\", \"M9-Xy-Ar\"]\n",
    "    for rep in [1, 2]\n",
    "        df_DNA = CSV.read(\"../../../data/extracted_barcodes/20230525_barcode/$(gc)-$(rep)-DNA_collapsed.txt\", DataFrame, ignorerepeated=true, delim=\" \", header=[\"ct_0\", \"barcode\"])\n",
    "        df_RNA = CSV.read(\"../../../data/extracted_barcodes/20230525_barcode/$(gc)-$(rep)-RNA_collapsed.txt\", DataFrame, ignorerepeated=true, delim=\" \", header=[\"ct_1\", \"barcode\"])\n",
    "\n",
    "        df = outerjoin(df_DNA, df_RNA, on=:barcode)\n",
    "        replace!(df.ct_0, missing => 0)\n",
    "        replace!(df.ct_1, missing => 0)\n",
    "\n",
    "        df = innerjoin(df, df_map, on=:barcode)\n",
    "        insertcols!(df, 1, :ct => df.ct_0 .+ df.ct_1)\n",
    "        for prom in df.name |> unique\n",
    "            x = wgregseq.footprints.mutual_information_mutation(df[df.name .== prom, :])\n",
    "            append!(\n",
    "                df_store,\n",
    "                DataFrame(date=date, promoter=prom, source=source, footprint=x, growth_condition=gc_dict[gc], replicate=rep, pos=collect(-115:44), d=\"0\")\n",
    "            )\n",
    "            for d in 1:2\n",
    "                append!(\n",
    "                    df_store,\n",
    "                    DataFrame(\n",
    "                        date=date, \n",
    "                        promoter=prom, \n",
    "                        source=source, \n",
    "                        footprint=[mean(x[i-d:i+d]) for i in 1+d:160-d], \n",
    "                        growth_condition=gc_dict[gc], \n",
    "                        replicate=rep, \n",
    "                        pos=collect(-115+d:44-d), \n",
    "                        d=\"$d\"\n",
    "                    )\n",
    "                )\n",
    "            end\n",
    "        end\n",
    "    end\n",
    "end\n"
   ]
  },
  {
   "cell_type": "code",
   "execution_count": 36,
   "metadata": {},
   "outputs": [
    {
     "data": {
      "text/html": [
       "<div><div style = \"float: left;\"><span>212352×8 DataFrame</span></div><div style = \"float: right;\"><span style = \"font-style: italic;\">212327 rows omitted</span></div><div style = \"clear: both;\"></div></div><div class = \"data-frame\" style = \"overflow-x: scroll;\"><table class = \"data-frame\" style = \"margin-bottom: 6px;\"><thead><tr class = \"header\"><th class = \"rowNumber\" style = \"font-weight: bold; text-align: right;\">Row</th><th style = \"text-align: left;\">date</th><th style = \"text-align: left;\">promoter</th><th style = \"text-align: left;\">source</th><th style = \"text-align: left;\">mut_info</th><th style = \"text-align: left;\">growth_condition</th><th style = \"text-align: left;\">replicate</th><th style = \"text-align: left;\">pos</th><th style = \"text-align: left;\">d</th></tr><tr class = \"subheader headerLastRow\"><th class = \"rowNumber\" style = \"font-weight: bold; text-align: right;\"></th><th title = \"String\" style = \"text-align: left;\">String</th><th title = \"String\" style = \"text-align: left;\">String</th><th title = \"String\" style = \"text-align: left;\">String</th><th title = \"Float64\" style = \"text-align: left;\">Float64</th><th title = \"String\" style = \"text-align: left;\">String</th><th title = \"Int64\" style = \"text-align: left;\">Int64</th><th title = \"Int64\" style = \"text-align: left;\">Int64</th><th title = \"String\" style = \"text-align: left;\">String</th></tr></thead><tbody><tr><td class = \"rowNumber\" style = \"font-weight: bold; text-align: right;\">1</td><td style = \"text-align: left;\">2023_05_25</td><td style = \"text-align: left;\">TSS_1414_storz_regulondb</td><td style = \"text-align: left;\">plasmid</td><td style = \"text-align: right;\">7.09873e-5</td><td style = \"text-align: left;\">LB</td><td style = \"text-align: right;\">1</td><td style = \"text-align: right;\">-115</td><td style = \"text-align: left;\">0</td></tr><tr><td class = \"rowNumber\" style = \"font-weight: bold; text-align: right;\">2</td><td style = \"text-align: left;\">2023_05_25</td><td style = \"text-align: left;\">TSS_1414_storz_regulondb</td><td style = \"text-align: left;\">plasmid</td><td style = \"text-align: right;\">1.40207e-5</td><td style = \"text-align: left;\">LB</td><td style = \"text-align: right;\">1</td><td style = \"text-align: right;\">-114</td><td style = \"text-align: left;\">0</td></tr><tr><td class = \"rowNumber\" style = \"font-weight: bold; text-align: right;\">3</td><td style = \"text-align: left;\">2023_05_25</td><td style = \"text-align: left;\">TSS_1414_storz_regulondb</td><td style = \"text-align: left;\">plasmid</td><td style = \"text-align: right;\">7.19716e-5</td><td style = \"text-align: left;\">LB</td><td style = \"text-align: right;\">1</td><td style = \"text-align: right;\">-113</td><td style = \"text-align: left;\">0</td></tr><tr><td class = \"rowNumber\" style = \"font-weight: bold; text-align: right;\">4</td><td style = \"text-align: left;\">2023_05_25</td><td style = \"text-align: left;\">TSS_1414_storz_regulondb</td><td style = \"text-align: left;\">plasmid</td><td style = \"text-align: right;\">2.1791e-5</td><td style = \"text-align: left;\">LB</td><td style = \"text-align: right;\">1</td><td style = \"text-align: right;\">-112</td><td style = \"text-align: left;\">0</td></tr><tr><td class = \"rowNumber\" style = \"font-weight: bold; text-align: right;\">5</td><td style = \"text-align: left;\">2023_05_25</td><td style = \"text-align: left;\">TSS_1414_storz_regulondb</td><td style = \"text-align: left;\">plasmid</td><td style = \"text-align: right;\">1.16899e-5</td><td style = \"text-align: left;\">LB</td><td style = \"text-align: right;\">1</td><td style = \"text-align: right;\">-111</td><td style = \"text-align: left;\">0</td></tr><tr><td class = \"rowNumber\" style = \"font-weight: bold; text-align: right;\">6</td><td style = \"text-align: left;\">2023_05_25</td><td style = \"text-align: left;\">TSS_1414_storz_regulondb</td><td style = \"text-align: left;\">plasmid</td><td style = \"text-align: right;\">4.85577e-5</td><td style = \"text-align: left;\">LB</td><td style = \"text-align: right;\">1</td><td style = \"text-align: right;\">-110</td><td style = \"text-align: left;\">0</td></tr><tr><td class = \"rowNumber\" style = \"font-weight: bold; text-align: right;\">7</td><td style = \"text-align: left;\">2023_05_25</td><td style = \"text-align: left;\">TSS_1414_storz_regulondb</td><td style = \"text-align: left;\">plasmid</td><td style = \"text-align: right;\">2.45007e-6</td><td style = \"text-align: left;\">LB</td><td style = \"text-align: right;\">1</td><td style = \"text-align: right;\">-109</td><td style = \"text-align: left;\">0</td></tr><tr><td class = \"rowNumber\" style = \"font-weight: bold; text-align: right;\">8</td><td style = \"text-align: left;\">2023_05_25</td><td style = \"text-align: left;\">TSS_1414_storz_regulondb</td><td style = \"text-align: left;\">plasmid</td><td style = \"text-align: right;\">0.000179566</td><td style = \"text-align: left;\">LB</td><td style = \"text-align: right;\">1</td><td style = \"text-align: right;\">-108</td><td style = \"text-align: left;\">0</td></tr><tr><td class = \"rowNumber\" style = \"font-weight: bold; text-align: right;\">9</td><td style = \"text-align: left;\">2023_05_25</td><td style = \"text-align: left;\">TSS_1414_storz_regulondb</td><td style = \"text-align: left;\">plasmid</td><td style = \"text-align: right;\">0.000186077</td><td style = \"text-align: left;\">LB</td><td style = \"text-align: right;\">1</td><td style = \"text-align: right;\">-107</td><td style = \"text-align: left;\">0</td></tr><tr><td class = \"rowNumber\" style = \"font-weight: bold; text-align: right;\">10</td><td style = \"text-align: left;\">2023_05_25</td><td style = \"text-align: left;\">TSS_1414_storz_regulondb</td><td style = \"text-align: left;\">plasmid</td><td style = \"text-align: right;\">2.99843e-5</td><td style = \"text-align: left;\">LB</td><td style = \"text-align: right;\">1</td><td style = \"text-align: right;\">-106</td><td style = \"text-align: left;\">0</td></tr><tr><td class = \"rowNumber\" style = \"font-weight: bold; text-align: right;\">11</td><td style = \"text-align: left;\">2023_05_25</td><td style = \"text-align: left;\">TSS_1414_storz_regulondb</td><td style = \"text-align: left;\">plasmid</td><td style = \"text-align: right;\">0.000346322</td><td style = \"text-align: left;\">LB</td><td style = \"text-align: right;\">1</td><td style = \"text-align: right;\">-105</td><td style = \"text-align: left;\">0</td></tr><tr><td class = \"rowNumber\" style = \"font-weight: bold; text-align: right;\">12</td><td style = \"text-align: left;\">2023_05_25</td><td style = \"text-align: left;\">TSS_1414_storz_regulondb</td><td style = \"text-align: left;\">plasmid</td><td style = \"text-align: right;\">5.35113e-5</td><td style = \"text-align: left;\">LB</td><td style = \"text-align: right;\">1</td><td style = \"text-align: right;\">-104</td><td style = \"text-align: left;\">0</td></tr><tr><td class = \"rowNumber\" style = \"font-weight: bold; text-align: right;\">13</td><td style = \"text-align: left;\">2023_05_25</td><td style = \"text-align: left;\">TSS_1414_storz_regulondb</td><td style = \"text-align: left;\">plasmid</td><td style = \"text-align: right;\">0.000137501</td><td style = \"text-align: left;\">LB</td><td style = \"text-align: right;\">1</td><td style = \"text-align: right;\">-103</td><td style = \"text-align: left;\">0</td></tr><tr><td style = \"text-align: right;\">&vellip;</td><td style = \"text-align: right;\">&vellip;</td><td style = \"text-align: right;\">&vellip;</td><td style = \"text-align: right;\">&vellip;</td><td style = \"text-align: right;\">&vellip;</td><td style = \"text-align: right;\">&vellip;</td><td style = \"text-align: right;\">&vellip;</td><td style = \"text-align: right;\">&vellip;</td><td style = \"text-align: right;\">&vellip;</td></tr><tr><td class = \"rowNumber\" style = \"font-weight: bold; text-align: right;\">212341</td><td style = \"text-align: left;\">2023_05_25</td><td style = \"text-align: left;\">znuCp</td><td style = \"text-align: left;\">plasmid</td><td style = \"text-align: right;\">0.000473626</td><td style = \"text-align: left;\">Minimal Media + 0.5% Xylose + 0.5% Arabinose</td><td style = \"text-align: right;\">2</td><td style = \"text-align: right;\">31</td><td style = \"text-align: left;\">2</td></tr><tr><td class = \"rowNumber\" style = \"font-weight: bold; text-align: right;\">212342</td><td style = \"text-align: left;\">2023_05_25</td><td style = \"text-align: left;\">znuCp</td><td style = \"text-align: left;\">plasmid</td><td style = \"text-align: right;\">0.000442096</td><td style = \"text-align: left;\">Minimal Media + 0.5% Xylose + 0.5% Arabinose</td><td style = \"text-align: right;\">2</td><td style = \"text-align: right;\">32</td><td style = \"text-align: left;\">2</td></tr><tr><td class = \"rowNumber\" style = \"font-weight: bold; text-align: right;\">212343</td><td style = \"text-align: left;\">2023_05_25</td><td style = \"text-align: left;\">znuCp</td><td style = \"text-align: left;\">plasmid</td><td style = \"text-align: right;\">0.000782307</td><td style = \"text-align: left;\">Minimal Media + 0.5% Xylose + 0.5% Arabinose</td><td style = \"text-align: right;\">2</td><td style = \"text-align: right;\">33</td><td style = \"text-align: left;\">2</td></tr><tr><td class = \"rowNumber\" style = \"font-weight: bold; text-align: right;\">212344</td><td style = \"text-align: left;\">2023_05_25</td><td style = \"text-align: left;\">znuCp</td><td style = \"text-align: left;\">plasmid</td><td style = \"text-align: right;\">0.000865426</td><td style = \"text-align: left;\">Minimal Media + 0.5% Xylose + 0.5% Arabinose</td><td style = \"text-align: right;\">2</td><td style = \"text-align: right;\">34</td><td style = \"text-align: left;\">2</td></tr><tr><td class = \"rowNumber\" style = \"font-weight: bold; text-align: right;\">212345</td><td style = \"text-align: left;\">2023_05_25</td><td style = \"text-align: left;\">znuCp</td><td style = \"text-align: left;\">plasmid</td><td style = \"text-align: right;\">0.00061151</td><td style = \"text-align: left;\">Minimal Media + 0.5% Xylose + 0.5% Arabinose</td><td style = \"text-align: right;\">2</td><td style = \"text-align: right;\">35</td><td style = \"text-align: left;\">2</td></tr><tr><td class = \"rowNumber\" style = \"font-weight: bold; text-align: right;\">212346</td><td style = \"text-align: left;\">2023_05_25</td><td style = \"text-align: left;\">znuCp</td><td style = \"text-align: left;\">plasmid</td><td style = \"text-align: right;\">0.000618696</td><td style = \"text-align: left;\">Minimal Media + 0.5% Xylose + 0.5% Arabinose</td><td style = \"text-align: right;\">2</td><td style = \"text-align: right;\">36</td><td style = \"text-align: left;\">2</td></tr><tr><td class = \"rowNumber\" style = \"font-weight: bold; text-align: right;\">212347</td><td style = \"text-align: left;\">2023_05_25</td><td style = \"text-align: left;\">znuCp</td><td style = \"text-align: left;\">plasmid</td><td style = \"text-align: right;\">0.00102192</td><td style = \"text-align: left;\">Minimal Media + 0.5% Xylose + 0.5% Arabinose</td><td style = \"text-align: right;\">2</td><td style = \"text-align: right;\">37</td><td style = \"text-align: left;\">2</td></tr><tr><td class = \"rowNumber\" style = \"font-weight: bold; text-align: right;\">212348</td><td style = \"text-align: left;\">2023_05_25</td><td style = \"text-align: left;\">znuCp</td><td style = \"text-align: left;\">plasmid</td><td style = \"text-align: right;\">0.000676264</td><td style = \"text-align: left;\">Minimal Media + 0.5% Xylose + 0.5% Arabinose</td><td style = \"text-align: right;\">2</td><td style = \"text-align: right;\">38</td><td style = \"text-align: left;\">2</td></tr><tr><td class = \"rowNumber\" style = \"font-weight: bold; text-align: right;\">212349</td><td style = \"text-align: left;\">2023_05_25</td><td style = \"text-align: left;\">znuCp</td><td style = \"text-align: left;\">plasmid</td><td style = \"text-align: right;\">0.00127109</td><td style = \"text-align: left;\">Minimal Media + 0.5% Xylose + 0.5% Arabinose</td><td style = \"text-align: right;\">2</td><td style = \"text-align: right;\">39</td><td style = \"text-align: left;\">2</td></tr><tr><td class = \"rowNumber\" style = \"font-weight: bold; text-align: right;\">212350</td><td style = \"text-align: left;\">2023_05_25</td><td style = \"text-align: left;\">znuCp</td><td style = \"text-align: left;\">plasmid</td><td style = \"text-align: right;\">0.00145897</td><td style = \"text-align: left;\">Minimal Media + 0.5% Xylose + 0.5% Arabinose</td><td style = \"text-align: right;\">2</td><td style = \"text-align: right;\">40</td><td style = \"text-align: left;\">2</td></tr><tr><td class = \"rowNumber\" style = \"font-weight: bold; text-align: right;\">212351</td><td style = \"text-align: left;\">2023_05_25</td><td style = \"text-align: left;\">znuCp</td><td style = \"text-align: left;\">plasmid</td><td style = \"text-align: right;\">0.0013351</td><td style = \"text-align: left;\">Minimal Media + 0.5% Xylose + 0.5% Arabinose</td><td style = \"text-align: right;\">2</td><td style = \"text-align: right;\">41</td><td style = \"text-align: left;\">2</td></tr><tr><td class = \"rowNumber\" style = \"font-weight: bold; text-align: right;\">212352</td><td style = \"text-align: left;\">2023_05_25</td><td style = \"text-align: left;\">znuCp</td><td style = \"text-align: left;\">plasmid</td><td style = \"text-align: right;\">0.000914356</td><td style = \"text-align: left;\">Minimal Media + 0.5% Xylose + 0.5% Arabinose</td><td style = \"text-align: right;\">2</td><td style = \"text-align: right;\">42</td><td style = \"text-align: left;\">2</td></tr></tbody></table></div>"
      ],
      "text/latex": [
       "\\begin{tabular}{r|ccccccc}\n",
       "\t& date & promoter & source & mut\\_info & growth\\_condition & replicate & \\\\\n",
       "\t\\hline\n",
       "\t& String & String & String & Float64 & String & Int64 & \\\\\n",
       "\t\\hline\n",
       "\t1 & 2023\\_05\\_25 & TSS\\_1414\\_storz\\_regulondb & plasmid & 7.09873e-5 & LB & 1 & $\\dots$ \\\\\n",
       "\t2 & 2023\\_05\\_25 & TSS\\_1414\\_storz\\_regulondb & plasmid & 1.40207e-5 & LB & 1 & $\\dots$ \\\\\n",
       "\t3 & 2023\\_05\\_25 & TSS\\_1414\\_storz\\_regulondb & plasmid & 7.19716e-5 & LB & 1 & $\\dots$ \\\\\n",
       "\t4 & 2023\\_05\\_25 & TSS\\_1414\\_storz\\_regulondb & plasmid & 2.1791e-5 & LB & 1 & $\\dots$ \\\\\n",
       "\t5 & 2023\\_05\\_25 & TSS\\_1414\\_storz\\_regulondb & plasmid & 1.16899e-5 & LB & 1 & $\\dots$ \\\\\n",
       "\t6 & 2023\\_05\\_25 & TSS\\_1414\\_storz\\_regulondb & plasmid & 4.85577e-5 & LB & 1 & $\\dots$ \\\\\n",
       "\t7 & 2023\\_05\\_25 & TSS\\_1414\\_storz\\_regulondb & plasmid & 2.45007e-6 & LB & 1 & $\\dots$ \\\\\n",
       "\t8 & 2023\\_05\\_25 & TSS\\_1414\\_storz\\_regulondb & plasmid & 0.000179566 & LB & 1 & $\\dots$ \\\\\n",
       "\t9 & 2023\\_05\\_25 & TSS\\_1414\\_storz\\_regulondb & plasmid & 0.000186077 & LB & 1 & $\\dots$ \\\\\n",
       "\t10 & 2023\\_05\\_25 & TSS\\_1414\\_storz\\_regulondb & plasmid & 2.99843e-5 & LB & 1 & $\\dots$ \\\\\n",
       "\t11 & 2023\\_05\\_25 & TSS\\_1414\\_storz\\_regulondb & plasmid & 0.000346322 & LB & 1 & $\\dots$ \\\\\n",
       "\t12 & 2023\\_05\\_25 & TSS\\_1414\\_storz\\_regulondb & plasmid & 5.35113e-5 & LB & 1 & $\\dots$ \\\\\n",
       "\t13 & 2023\\_05\\_25 & TSS\\_1414\\_storz\\_regulondb & plasmid & 0.000137501 & LB & 1 & $\\dots$ \\\\\n",
       "\t14 & 2023\\_05\\_25 & TSS\\_1414\\_storz\\_regulondb & plasmid & 1.62841e-5 & LB & 1 & $\\dots$ \\\\\n",
       "\t15 & 2023\\_05\\_25 & TSS\\_1414\\_storz\\_regulondb & plasmid & 1.90509e-5 & LB & 1 & $\\dots$ \\\\\n",
       "\t16 & 2023\\_05\\_25 & TSS\\_1414\\_storz\\_regulondb & plasmid & 8.13685e-7 & LB & 1 & $\\dots$ \\\\\n",
       "\t17 & 2023\\_05\\_25 & TSS\\_1414\\_storz\\_regulondb & plasmid & 0.000439973 & LB & 1 & $\\dots$ \\\\\n",
       "\t18 & 2023\\_05\\_25 & TSS\\_1414\\_storz\\_regulondb & plasmid & 0.000111528 & LB & 1 & $\\dots$ \\\\\n",
       "\t19 & 2023\\_05\\_25 & TSS\\_1414\\_storz\\_regulondb & plasmid & 2.50001e-5 & LB & 1 & $\\dots$ \\\\\n",
       "\t20 & 2023\\_05\\_25 & TSS\\_1414\\_storz\\_regulondb & plasmid & 1.00251e-5 & LB & 1 & $\\dots$ \\\\\n",
       "\t21 & 2023\\_05\\_25 & TSS\\_1414\\_storz\\_regulondb & plasmid & 0.000233412 & LB & 1 & $\\dots$ \\\\\n",
       "\t22 & 2023\\_05\\_25 & TSS\\_1414\\_storz\\_regulondb & plasmid & 2.6722e-5 & LB & 1 & $\\dots$ \\\\\n",
       "\t23 & 2023\\_05\\_25 & TSS\\_1414\\_storz\\_regulondb & plasmid & 8.10472e-5 & LB & 1 & $\\dots$ \\\\\n",
       "\t24 & 2023\\_05\\_25 & TSS\\_1414\\_storz\\_regulondb & plasmid & 0.000353229 & LB & 1 & $\\dots$ \\\\\n",
       "\t25 & 2023\\_05\\_25 & TSS\\_1414\\_storz\\_regulondb & plasmid & 1.14025e-5 & LB & 1 & $\\dots$ \\\\\n",
       "\t26 & 2023\\_05\\_25 & TSS\\_1414\\_storz\\_regulondb & plasmid & 0.000387338 & LB & 1 & $\\dots$ \\\\\n",
       "\t27 & 2023\\_05\\_25 & TSS\\_1414\\_storz\\_regulondb & plasmid & 5.69884e-6 & LB & 1 & $\\dots$ \\\\\n",
       "\t28 & 2023\\_05\\_25 & TSS\\_1414\\_storz\\_regulondb & plasmid & 1.25165e-5 & LB & 1 & $\\dots$ \\\\\n",
       "\t29 & 2023\\_05\\_25 & TSS\\_1414\\_storz\\_regulondb & plasmid & 5.85833e-5 & LB & 1 & $\\dots$ \\\\\n",
       "\t30 & 2023\\_05\\_25 & TSS\\_1414\\_storz\\_regulondb & plasmid & 9.35938e-8 & LB & 1 & $\\dots$ \\\\\n",
       "\t$\\dots$ & $\\dots$ & $\\dots$ & $\\dots$ & $\\dots$ & $\\dots$ & $\\dots$ &  \\\\\n",
       "\\end{tabular}\n"
      ],
      "text/plain": [
       "\u001b[1m212352×8 DataFrame\u001b[0m\n",
       "\u001b[1m    Row \u001b[0m│\u001b[1m date       \u001b[0m\u001b[1m promoter                 \u001b[0m\u001b[1m source  \u001b[0m\u001b[1m mut_info    \u001b[0m\u001b[1m growth_c\u001b[0m ⋯\n",
       "        │\u001b[90m String     \u001b[0m\u001b[90m String                   \u001b[0m\u001b[90m String  \u001b[0m\u001b[90m Float64     \u001b[0m\u001b[90m String  \u001b[0m ⋯\n",
       "────────┼───────────────────────────────────────────────────────────────────────\n",
       "      1 │ 2023_05_25  TSS_1414_storz_regulondb  plasmid  7.09873e-5   LB       ⋯\n",
       "      2 │ 2023_05_25  TSS_1414_storz_regulondb  plasmid  1.40207e-5   LB\n",
       "      3 │ 2023_05_25  TSS_1414_storz_regulondb  plasmid  7.19716e-5   LB\n",
       "      4 │ 2023_05_25  TSS_1414_storz_regulondb  plasmid  2.1791e-5    LB\n",
       "      5 │ 2023_05_25  TSS_1414_storz_regulondb  plasmid  1.16899e-5   LB       ⋯\n",
       "      6 │ 2023_05_25  TSS_1414_storz_regulondb  plasmid  4.85577e-5   LB\n",
       "      7 │ 2023_05_25  TSS_1414_storz_regulondb  plasmid  2.45007e-6   LB\n",
       "      8 │ 2023_05_25  TSS_1414_storz_regulondb  plasmid  0.000179566  LB\n",
       "      9 │ 2023_05_25  TSS_1414_storz_regulondb  plasmid  0.000186077  LB       ⋯\n",
       "     10 │ 2023_05_25  TSS_1414_storz_regulondb  plasmid  2.99843e-5   LB\n",
       "     11 │ 2023_05_25  TSS_1414_storz_regulondb  plasmid  0.000346322  LB\n",
       "   ⋮    │     ⋮                  ⋮                 ⋮          ⋮                ⋱\n",
       " 212343 │ 2023_05_25  znuCp                     plasmid  0.000782307  Minimal\n",
       " 212344 │ 2023_05_25  znuCp                     plasmid  0.000865426  Minimal  ⋯\n",
       " 212345 │ 2023_05_25  znuCp                     plasmid  0.00061151   Minimal\n",
       " 212346 │ 2023_05_25  znuCp                     plasmid  0.000618696  Minimal\n",
       " 212347 │ 2023_05_25  znuCp                     plasmid  0.00102192   Minimal\n",
       " 212348 │ 2023_05_25  znuCp                     plasmid  0.000676264  Minimal  ⋯\n",
       " 212349 │ 2023_05_25  znuCp                     plasmid  0.00127109   Minimal\n",
       " 212350 │ 2023_05_25  znuCp                     plasmid  0.00145897   Minimal\n",
       " 212351 │ 2023_05_25  znuCp                     plasmid  0.0013351    Minimal\n",
       " 212352 │ 2023_05_25  znuCp                     plasmid  0.000914356  Minimal  ⋯\n",
       "\u001b[36m                                               4 columns and 212331 rows omitted\u001b[0m"
      ]
     },
     "execution_count": 36,
     "metadata": {},
     "output_type": "execute_result"
    }
   ],
   "source": [
    "rename!(df_store, :footprint => :mut_info)"
   ]
  },
  {
   "cell_type": "code",
   "execution_count": 145,
   "metadata": {},
   "outputs": [
    {
     "data": {
      "text/html": [
       "<div><div style = \"float: left;\"><span>26070×8 DataFrame</span></div><div style = \"float: right;\"><span style = \"font-style: italic;\">26045 rows omitted</span></div><div style = \"clear: both;\"></div></div><div class = \"data-frame\" style = \"overflow-x: scroll;\"><table class = \"data-frame\" style = \"margin-bottom: 6px;\"><thead><tr class = \"header\"><th class = \"rowNumber\" style = \"font-weight: bold; text-align: right;\">Row</th><th style = \"text-align: left;\">date</th><th style = \"text-align: left;\">promoter</th><th style = \"text-align: left;\">source</th><th style = \"text-align: left;\">footprint_test</th><th style = \"text-align: left;\">growth_condition</th><th style = \"text-align: left;\">replicate</th><th style = \"text-align: left;\">pos</th><th style = \"text-align: left;\">d</th></tr><tr class = \"subheader headerLastRow\"><th class = \"rowNumber\" style = \"font-weight: bold; text-align: right;\"></th><th title = \"String\" style = \"text-align: left;\">String</th><th title = \"String\" style = \"text-align: left;\">String</th><th title = \"String\" style = \"text-align: left;\">String</th><th title = \"Float64\" style = \"text-align: left;\">Float64</th><th title = \"String\" style = \"text-align: left;\">String</th><th title = \"Int64\" style = \"text-align: left;\">Int64</th><th title = \"Int64\" style = \"text-align: left;\">Int64</th><th title = \"String\" style = \"text-align: left;\">String</th></tr></thead><tbody><tr><td class = \"rowNumber\" style = \"font-weight: bold; text-align: right;\">1</td><td style = \"text-align: left;\">2023_05_25</td><td style = \"text-align: left;\">TSS_1414_storz_regulondb</td><td style = \"text-align: left;\">plasmid</td><td style = \"text-align: right;\">6.46353e-7</td><td style = \"text-align: left;\">LB</td><td style = \"text-align: right;\">1</td><td style = \"text-align: right;\">-115</td><td style = \"text-align: left;\">0</td></tr><tr><td class = \"rowNumber\" style = \"font-weight: bold; text-align: right;\">2</td><td style = \"text-align: left;\">2023_05_25</td><td style = \"text-align: left;\">TSS_1414_storz_regulondb</td><td style = \"text-align: left;\">plasmid</td><td style = \"text-align: right;\">1.45443e-6</td><td style = \"text-align: left;\">LB</td><td style = \"text-align: right;\">1</td><td style = \"text-align: right;\">-114</td><td style = \"text-align: left;\">0</td></tr><tr><td class = \"rowNumber\" style = \"font-weight: bold; text-align: right;\">3</td><td style = \"text-align: left;\">2023_05_25</td><td style = \"text-align: left;\">TSS_1414_storz_regulondb</td><td style = \"text-align: left;\">plasmid</td><td style = \"text-align: right;\">2.53195e-6</td><td style = \"text-align: left;\">LB</td><td style = \"text-align: right;\">1</td><td style = \"text-align: right;\">-113</td><td style = \"text-align: left;\">0</td></tr><tr><td class = \"rowNumber\" style = \"font-weight: bold; text-align: right;\">4</td><td style = \"text-align: left;\">2023_05_25</td><td style = \"text-align: left;\">TSS_1414_storz_regulondb</td><td style = \"text-align: left;\">plasmid</td><td style = \"text-align: right;\">4.05344e-6</td><td style = \"text-align: left;\">LB</td><td style = \"text-align: right;\">1</td><td style = \"text-align: right;\">-112</td><td style = \"text-align: left;\">0</td></tr><tr><td class = \"rowNumber\" style = \"font-weight: bold; text-align: right;\">5</td><td style = \"text-align: left;\">2023_05_25</td><td style = \"text-align: left;\">TSS_1414_storz_regulondb</td><td style = \"text-align: left;\">plasmid</td><td style = \"text-align: right;\">6.5103e-6</td><td style = \"text-align: left;\">LB</td><td style = \"text-align: right;\">1</td><td style = \"text-align: right;\">-111</td><td style = \"text-align: left;\">0</td></tr><tr><td class = \"rowNumber\" style = \"font-weight: bold; text-align: right;\">6</td><td style = \"text-align: left;\">2023_05_25</td><td style = \"text-align: left;\">TSS_1414_storz_regulondb</td><td style = \"text-align: left;\">plasmid</td><td style = \"text-align: right;\">4.59973e-6</td><td style = \"text-align: left;\">LB</td><td style = \"text-align: right;\">1</td><td style = \"text-align: right;\">-110</td><td style = \"text-align: left;\">0</td></tr><tr><td class = \"rowNumber\" style = \"font-weight: bold; text-align: right;\">7</td><td style = \"text-align: left;\">2023_05_25</td><td style = \"text-align: left;\">TSS_1414_storz_regulondb</td><td style = \"text-align: left;\">plasmid</td><td style = \"text-align: right;\">1.68526e-6</td><td style = \"text-align: left;\">LB</td><td style = \"text-align: right;\">1</td><td style = \"text-align: right;\">-109</td><td style = \"text-align: left;\">0</td></tr><tr><td class = \"rowNumber\" style = \"font-weight: bold; text-align: right;\">8</td><td style = \"text-align: left;\">2023_05_25</td><td style = \"text-align: left;\">TSS_1414_storz_regulondb</td><td style = \"text-align: left;\">plasmid</td><td style = \"text-align: right;\">3.97764e-6</td><td style = \"text-align: left;\">LB</td><td style = \"text-align: right;\">1</td><td style = \"text-align: right;\">-108</td><td style = \"text-align: left;\">0</td></tr><tr><td class = \"rowNumber\" style = \"font-weight: bold; text-align: right;\">9</td><td style = \"text-align: left;\">2023_05_25</td><td style = \"text-align: left;\">TSS_1414_storz_regulondb</td><td style = \"text-align: left;\">plasmid</td><td style = \"text-align: right;\">5.66175e-6</td><td style = \"text-align: left;\">LB</td><td style = \"text-align: right;\">1</td><td style = \"text-align: right;\">-107</td><td style = \"text-align: left;\">0</td></tr><tr><td class = \"rowNumber\" style = \"font-weight: bold; text-align: right;\">10</td><td style = \"text-align: left;\">2023_05_25</td><td style = \"text-align: left;\">TSS_1414_storz_regulondb</td><td style = \"text-align: left;\">plasmid</td><td style = \"text-align: right;\">5.97017e-7</td><td style = \"text-align: left;\">LB</td><td style = \"text-align: right;\">1</td><td style = \"text-align: right;\">-106</td><td style = \"text-align: left;\">0</td></tr><tr><td class = \"rowNumber\" style = \"font-weight: bold; text-align: right;\">11</td><td style = \"text-align: left;\">2023_05_25</td><td style = \"text-align: left;\">TSS_1414_storz_regulondb</td><td style = \"text-align: left;\">plasmid</td><td style = \"text-align: right;\">1.7811e-6</td><td style = \"text-align: left;\">LB</td><td style = \"text-align: right;\">1</td><td style = \"text-align: right;\">-105</td><td style = \"text-align: left;\">0</td></tr><tr><td class = \"rowNumber\" style = \"font-weight: bold; text-align: right;\">12</td><td style = \"text-align: left;\">2023_05_25</td><td style = \"text-align: left;\">TSS_1414_storz_regulondb</td><td style = \"text-align: left;\">plasmid</td><td style = \"text-align: right;\">2.60992e-6</td><td style = \"text-align: left;\">LB</td><td style = \"text-align: right;\">1</td><td style = \"text-align: right;\">-104</td><td style = \"text-align: left;\">0</td></tr><tr><td class = \"rowNumber\" style = \"font-weight: bold; text-align: right;\">13</td><td style = \"text-align: left;\">2023_05_25</td><td style = \"text-align: left;\">TSS_1414_storz_regulondb</td><td style = \"text-align: left;\">plasmid</td><td style = \"text-align: right;\">1.43474e-6</td><td style = \"text-align: left;\">LB</td><td style = \"text-align: right;\">1</td><td style = \"text-align: right;\">-103</td><td style = \"text-align: left;\">0</td></tr><tr><td style = \"text-align: right;\">&vellip;</td><td style = \"text-align: right;\">&vellip;</td><td style = \"text-align: right;\">&vellip;</td><td style = \"text-align: right;\">&vellip;</td><td style = \"text-align: right;\">&vellip;</td><td style = \"text-align: right;\">&vellip;</td><td style = \"text-align: right;\">&vellip;</td><td style = \"text-align: right;\">&vellip;</td><td style = \"text-align: right;\">&vellip;</td></tr><tr><td class = \"rowNumber\" style = \"font-weight: bold; text-align: right;\">26059</td><td style = \"text-align: left;\">2023_05_25</td><td style = \"text-align: left;\">yadE_predicted</td><td style = \"text-align: left;\">plasmid</td><td style = \"text-align: right;\">3.68823e-6</td><td style = \"text-align: left;\">LB</td><td style = \"text-align: right;\">1</td><td style = \"text-align: right;\">31</td><td style = \"text-align: left;\">2</td></tr><tr><td class = \"rowNumber\" style = \"font-weight: bold; text-align: right;\">26060</td><td style = \"text-align: left;\">2023_05_25</td><td style = \"text-align: left;\">yadE_predicted</td><td style = \"text-align: left;\">plasmid</td><td style = \"text-align: right;\">2.58859e-6</td><td style = \"text-align: left;\">LB</td><td style = \"text-align: right;\">1</td><td style = \"text-align: right;\">32</td><td style = \"text-align: left;\">2</td></tr><tr><td class = \"rowNumber\" style = \"font-weight: bold; text-align: right;\">26061</td><td style = \"text-align: left;\">2023_05_25</td><td style = \"text-align: left;\">yadE_predicted</td><td style = \"text-align: left;\">plasmid</td><td style = \"text-align: right;\">2.51785e-6</td><td style = \"text-align: left;\">LB</td><td style = \"text-align: right;\">1</td><td style = \"text-align: right;\">33</td><td style = \"text-align: left;\">2</td></tr><tr><td class = \"rowNumber\" style = \"font-weight: bold; text-align: right;\">26062</td><td style = \"text-align: left;\">2023_05_25</td><td style = \"text-align: left;\">yadE_predicted</td><td style = \"text-align: left;\">plasmid</td><td style = \"text-align: right;\">1.93802e-6</td><td style = \"text-align: left;\">LB</td><td style = \"text-align: right;\">1</td><td style = \"text-align: right;\">34</td><td style = \"text-align: left;\">2</td></tr><tr><td class = \"rowNumber\" style = \"font-weight: bold; text-align: right;\">26063</td><td style = \"text-align: left;\">2023_05_25</td><td style = \"text-align: left;\">yadE_predicted</td><td style = \"text-align: left;\">plasmid</td><td style = \"text-align: right;\">2.09482e-6</td><td style = \"text-align: left;\">LB</td><td style = \"text-align: right;\">1</td><td style = \"text-align: right;\">35</td><td style = \"text-align: left;\">2</td></tr><tr><td class = \"rowNumber\" style = \"font-weight: bold; text-align: right;\">26064</td><td style = \"text-align: left;\">2023_05_25</td><td style = \"text-align: left;\">yadE_predicted</td><td style = \"text-align: left;\">plasmid</td><td style = \"text-align: right;\">1.87441e-6</td><td style = \"text-align: left;\">LB</td><td style = \"text-align: right;\">1</td><td style = \"text-align: right;\">36</td><td style = \"text-align: left;\">2</td></tr><tr><td class = \"rowNumber\" style = \"font-weight: bold; text-align: right;\">26065</td><td style = \"text-align: left;\">2023_05_25</td><td style = \"text-align: left;\">yadE_predicted</td><td style = \"text-align: left;\">plasmid</td><td style = \"text-align: right;\">1.83119e-6</td><td style = \"text-align: left;\">LB</td><td style = \"text-align: right;\">1</td><td style = \"text-align: right;\">37</td><td style = \"text-align: left;\">2</td></tr><tr><td class = \"rowNumber\" style = \"font-weight: bold; text-align: right;\">26066</td><td style = \"text-align: left;\">2023_05_25</td><td style = \"text-align: left;\">yadE_predicted</td><td style = \"text-align: left;\">plasmid</td><td style = \"text-align: right;\">2.16366e-6</td><td style = \"text-align: left;\">LB</td><td style = \"text-align: right;\">1</td><td style = \"text-align: right;\">38</td><td style = \"text-align: left;\">2</td></tr><tr><td class = \"rowNumber\" style = \"font-weight: bold; text-align: right;\">26067</td><td style = \"text-align: left;\">2023_05_25</td><td style = \"text-align: left;\">yadE_predicted</td><td style = \"text-align: left;\">plasmid</td><td style = \"text-align: right;\">3.13852e-6</td><td style = \"text-align: left;\">LB</td><td style = \"text-align: right;\">1</td><td style = \"text-align: right;\">39</td><td style = \"text-align: left;\">2</td></tr><tr><td class = \"rowNumber\" style = \"font-weight: bold; text-align: right;\">26068</td><td style = \"text-align: left;\">2023_05_25</td><td style = \"text-align: left;\">yadE_predicted</td><td style = \"text-align: left;\">plasmid</td><td style = \"text-align: right;\">3.47472e-6</td><td style = \"text-align: left;\">LB</td><td style = \"text-align: right;\">1</td><td style = \"text-align: right;\">40</td><td style = \"text-align: left;\">2</td></tr><tr><td class = \"rowNumber\" style = \"font-weight: bold; text-align: right;\">26069</td><td style = \"text-align: left;\">2023_05_25</td><td style = \"text-align: left;\">yadE_predicted</td><td style = \"text-align: left;\">plasmid</td><td style = \"text-align: right;\">3.66621e-6</td><td style = \"text-align: left;\">LB</td><td style = \"text-align: right;\">1</td><td style = \"text-align: right;\">41</td><td style = \"text-align: left;\">2</td></tr><tr><td class = \"rowNumber\" style = \"font-weight: bold; text-align: right;\">26070</td><td style = \"text-align: left;\">2023_05_25</td><td style = \"text-align: left;\">yadE_predicted</td><td style = \"text-align: left;\">plasmid</td><td style = \"text-align: right;\">3.49692e-6</td><td style = \"text-align: left;\">LB</td><td style = \"text-align: right;\">1</td><td style = \"text-align: right;\">42</td><td style = \"text-align: left;\">2</td></tr></tbody></table></div>"
      ],
      "text/latex": [
       "\\begin{tabular}{r|cccccc}\n",
       "\t& date & promoter & source & footprint\\_test & growth\\_condition & \\\\\n",
       "\t\\hline\n",
       "\t& String & String & String & Float64 & String & \\\\\n",
       "\t\\hline\n",
       "\t1 & 2023\\_05\\_25 & TSS\\_1414\\_storz\\_regulondb & plasmid & 6.46353e-7 & LB & $\\dots$ \\\\\n",
       "\t2 & 2023\\_05\\_25 & TSS\\_1414\\_storz\\_regulondb & plasmid & 1.45443e-6 & LB & $\\dots$ \\\\\n",
       "\t3 & 2023\\_05\\_25 & TSS\\_1414\\_storz\\_regulondb & plasmid & 2.53195e-6 & LB & $\\dots$ \\\\\n",
       "\t4 & 2023\\_05\\_25 & TSS\\_1414\\_storz\\_regulondb & plasmid & 4.05344e-6 & LB & $\\dots$ \\\\\n",
       "\t5 & 2023\\_05\\_25 & TSS\\_1414\\_storz\\_regulondb & plasmid & 6.5103e-6 & LB & $\\dots$ \\\\\n",
       "\t6 & 2023\\_05\\_25 & TSS\\_1414\\_storz\\_regulondb & plasmid & 4.59973e-6 & LB & $\\dots$ \\\\\n",
       "\t7 & 2023\\_05\\_25 & TSS\\_1414\\_storz\\_regulondb & plasmid & 1.68526e-6 & LB & $\\dots$ \\\\\n",
       "\t8 & 2023\\_05\\_25 & TSS\\_1414\\_storz\\_regulondb & plasmid & 3.97764e-6 & LB & $\\dots$ \\\\\n",
       "\t9 & 2023\\_05\\_25 & TSS\\_1414\\_storz\\_regulondb & plasmid & 5.66175e-6 & LB & $\\dots$ \\\\\n",
       "\t10 & 2023\\_05\\_25 & TSS\\_1414\\_storz\\_regulondb & plasmid & 5.97017e-7 & LB & $\\dots$ \\\\\n",
       "\t11 & 2023\\_05\\_25 & TSS\\_1414\\_storz\\_regulondb & plasmid & 1.7811e-6 & LB & $\\dots$ \\\\\n",
       "\t12 & 2023\\_05\\_25 & TSS\\_1414\\_storz\\_regulondb & plasmid & 2.60992e-6 & LB & $\\dots$ \\\\\n",
       "\t13 & 2023\\_05\\_25 & TSS\\_1414\\_storz\\_regulondb & plasmid & 1.43474e-6 & LB & $\\dots$ \\\\\n",
       "\t14 & 2023\\_05\\_25 & TSS\\_1414\\_storz\\_regulondb & plasmid & 1.39324e-6 & LB & $\\dots$ \\\\\n",
       "\t15 & 2023\\_05\\_25 & TSS\\_1414\\_storz\\_regulondb & plasmid & 3.63502e-7 & LB & $\\dots$ \\\\\n",
       "\t16 & 2023\\_05\\_25 & TSS\\_1414\\_storz\\_regulondb & plasmid & 1.4244e-6 & LB & $\\dots$ \\\\\n",
       "\t17 & 2023\\_05\\_25 & TSS\\_1414\\_storz\\_regulondb & plasmid & 4.55877e-6 & LB & $\\dots$ \\\\\n",
       "\t18 & 2023\\_05\\_25 & TSS\\_1414\\_storz\\_regulondb & plasmid & 3.29258e-6 & LB & $\\dots$ \\\\\n",
       "\t19 & 2023\\_05\\_25 & TSS\\_1414\\_storz\\_regulondb & plasmid & 2.49056e-6 & LB & $\\dots$ \\\\\n",
       "\t20 & 2023\\_05\\_25 & TSS\\_1414\\_storz\\_regulondb & plasmid & 2.11221e-6 & LB & $\\dots$ \\\\\n",
       "\t21 & 2023\\_05\\_25 & TSS\\_1414\\_storz\\_regulondb & plasmid & 2.80005e-6 & LB & $\\dots$ \\\\\n",
       "\t22 & 2023\\_05\\_25 & TSS\\_1414\\_storz\\_regulondb & plasmid & 8.61399e-7 & LB & $\\dots$ \\\\\n",
       "\t23 & 2023\\_05\\_25 & TSS\\_1414\\_storz\\_regulondb & plasmid & 6.66361e-6 & LB & $\\dots$ \\\\\n",
       "\t24 & 2023\\_05\\_25 & TSS\\_1414\\_storz\\_regulondb & plasmid & 9.17145e-7 & LB & $\\dots$ \\\\\n",
       "\t25 & 2023\\_05\\_25 & TSS\\_1414\\_storz\\_regulondb & plasmid & 1.84547e-7 & LB & $\\dots$ \\\\\n",
       "\t26 & 2023\\_05\\_25 & TSS\\_1414\\_storz\\_regulondb & plasmid & 1.43624e-6 & LB & $\\dots$ \\\\\n",
       "\t27 & 2023\\_05\\_25 & TSS\\_1414\\_storz\\_regulondb & plasmid & 1.07485e-6 & LB & $\\dots$ \\\\\n",
       "\t28 & 2023\\_05\\_25 & TSS\\_1414\\_storz\\_regulondb & plasmid & 8.20712e-7 & LB & $\\dots$ \\\\\n",
       "\t29 & 2023\\_05\\_25 & TSS\\_1414\\_storz\\_regulondb & plasmid & 2.56545e-6 & LB & $\\dots$ \\\\\n",
       "\t30 & 2023\\_05\\_25 & TSS\\_1414\\_storz\\_regulondb & plasmid & 3.14319e-6 & LB & $\\dots$ \\\\\n",
       "\t$\\dots$ & $\\dots$ & $\\dots$ & $\\dots$ & $\\dots$ & $\\dots$ &  \\\\\n",
       "\\end{tabular}\n"
      ],
      "text/plain": [
       "\u001b[1m26070×8 DataFrame\u001b[0m\n",
       "\u001b[1m   Row \u001b[0m│\u001b[1m date       \u001b[0m\u001b[1m promoter                 \u001b[0m\u001b[1m source  \u001b[0m\u001b[1m footprint_test \u001b[0m\u001b[1m growth\u001b[0m ⋯\n",
       "       │\u001b[90m String     \u001b[0m\u001b[90m String                   \u001b[0m\u001b[90m String  \u001b[0m\u001b[90m Float64        \u001b[0m\u001b[90m String\u001b[0m ⋯\n",
       "───────┼────────────────────────────────────────────────────────────────────────\n",
       "     1 │ 2023_05_25  TSS_1414_storz_regulondb  plasmid      6.46353e-7  LB     ⋯\n",
       "     2 │ 2023_05_25  TSS_1414_storz_regulondb  plasmid      1.45443e-6  LB\n",
       "     3 │ 2023_05_25  TSS_1414_storz_regulondb  plasmid      2.53195e-6  LB\n",
       "     4 │ 2023_05_25  TSS_1414_storz_regulondb  plasmid      4.05344e-6  LB\n",
       "     5 │ 2023_05_25  TSS_1414_storz_regulondb  plasmid      6.5103e-6   LB     ⋯\n",
       "     6 │ 2023_05_25  TSS_1414_storz_regulondb  plasmid      4.59973e-6  LB\n",
       "     7 │ 2023_05_25  TSS_1414_storz_regulondb  plasmid      1.68526e-6  LB\n",
       "     8 │ 2023_05_25  TSS_1414_storz_regulondb  plasmid      3.97764e-6  LB\n",
       "     9 │ 2023_05_25  TSS_1414_storz_regulondb  plasmid      5.66175e-6  LB     ⋯\n",
       "    10 │ 2023_05_25  TSS_1414_storz_regulondb  plasmid      5.97017e-7  LB\n",
       "    11 │ 2023_05_25  TSS_1414_storz_regulondb  plasmid      1.7811e-6   LB\n",
       "   ⋮   │     ⋮                  ⋮                 ⋮           ⋮                ⋱\n",
       " 26061 │ 2023_05_25  yadE_predicted            plasmid      2.51785e-6  LB\n",
       " 26062 │ 2023_05_25  yadE_predicted            plasmid      1.93802e-6  LB     ⋯\n",
       " 26063 │ 2023_05_25  yadE_predicted            plasmid      2.09482e-6  LB\n",
       " 26064 │ 2023_05_25  yadE_predicted            plasmid      1.87441e-6  LB\n",
       " 26065 │ 2023_05_25  yadE_predicted            plasmid      1.83119e-6  LB\n",
       " 26066 │ 2023_05_25  yadE_predicted            plasmid      2.16366e-6  LB     ⋯\n",
       " 26067 │ 2023_05_25  yadE_predicted            plasmid      3.13852e-6  LB\n",
       " 26068 │ 2023_05_25  yadE_predicted            plasmid      3.47472e-6  LB\n",
       " 26069 │ 2023_05_25  yadE_predicted            plasmid      3.66621e-6  LB\n",
       " 26070 │ 2023_05_25  yadE_predicted            plasmid      3.49692e-6  LB     ⋯\n",
       "\u001b[36m                                                4 columns and 26049 rows omitted\u001b[0m"
      ]
     },
     "execution_count": 145,
     "metadata": {},
     "output_type": "execute_result"
    }
   ],
   "source": [
    "gc_dict = Dict(\"LB\" => \"LB\", \"M9XyAr\"=>\"Minimal Media + 0.5% Xylose + 0.5% Arabinose\")\n",
    "\n",
    "df_store_2 = DataFrame()\n",
    "df_store_2_test = DataFrame()\n",
    "for file in readdir(\"footprints\")\n",
    "    if split(file, '.')[end] == \"csv\"\n",
    "        mcmc = CSV.read(\"footprints/\" * file, DataFrame)[!, [\"val_A\", \"val_C\", \"val_G\", \"val_T\"]] |> Matrix\n",
    "        prob_mat = exp.(mcmc) ./ sum(exp.(mcmc), dims=2)\n",
    "        x = sum(prob_mat .* log2.(prob_mat ./ 0.25), dims=2) |> vec\n",
    "        date = \"2023_05_25\"\n",
    "        promoter = join(split(file, '_')[3:end-2], '_')\n",
    "\n",
    "        source = \"plasmid\"\n",
    "        gc = gc_dict[join(split(split(file, '_')[1], '-')[1:end-1])]\n",
    "        replicate = parse(Int64, split(split(file, '_')[1], '-')[end])\n",
    "\n",
    "        mut_info = df_store[\n",
    "            (df_store.source .== source) .&\n",
    "            (df_store.date .== date) .&\n",
    "            (df_store.growth_condition .== gc) .&\n",
    "            (df_store.promoter .== promoter) .&\n",
    "            (df_store.replicate .== replicate) .&\n",
    "            (df_store.d .== \"0\"), :mut_info\n",
    "            ]\n",
    "\n",
    "        if occursin(\"test\", file)\n",
    "            #promoter = promoter  * \"_test\"\n",
    "            append!(df_store_2_test,\n",
    "            DataFrame(date=date, promoter=promoter, source=source, footprint_test=x, growth_condition=gc, replicate=replicate, pos=collect(-115:44), d=\"0\")\n",
    "        )\n",
    "        else\n",
    "            append!(df_store_2,\n",
    "                DataFrame(date=date, promoter=promoter, source=source, footprint=x, growth_condition=gc, replicate=replicate, pos=collect(-115:44), d=\"0\")\n",
    "            )\n",
    "        end\n",
    "        for d in 1:2\n",
    "            if occursin(\"test\", file)\n",
    "                append!(\n",
    "                    df_store_2_test,\n",
    "                    DataFrame(\n",
    "                        date=date, \n",
    "                        promoter=promoter, \n",
    "                        source=source, \n",
    "                        footprint_test=[mean(x[i-d:i+d]) for i in 1+d:160-d], \n",
    "                        growth_condition=gc, \n",
    "                        replicate=replicate, \n",
    "                        pos=collect(-115+d:44-d), \n",
    "                        d=\"$d\",\n",
    "                    )\n",
    "                )\n",
    "            else\n",
    "                append!(\n",
    "                    df_store_2,\n",
    "                    DataFrame(\n",
    "                        date=date, \n",
    "                        promoter=promoter, \n",
    "                        source=source, \n",
    "                        footprint=[mean(x[i-d:i+d]) for i in 1+d:160-d], \n",
    "                        growth_condition=gc, \n",
    "                        replicate=replicate, \n",
    "                        pos=collect(-115+d:44-d), \n",
    "                        d=\"$d\",\n",
    "                    )\n",
    "                )\n",
    "            end\n",
    "        end\n",
    "    end\n",
    "end\n",
    "\n",
    "df_store_2_test"
   ]
  },
  {
   "cell_type": "code",
   "execution_count": 146,
   "metadata": {},
   "outputs": [
    {
     "data": {
      "text/plain": [
       "213300-element Vector{Union{Missing, Float64}}:\n",
       " 6.463526298829017e-7\n",
       " 6.463526298829017e-7\n",
       " 1.4544335836654616e-6\n",
       " 1.4544335836654616e-6\n",
       " 2.5319471740252336e-6\n",
       " 2.5319471740252336e-6\n",
       " 4.053444842960167e-6\n",
       " 4.053444842960167e-6\n",
       " 6.510296146148772e-6\n",
       " 6.510296146148772e-6\n",
       " 4.599729153591985e-6\n",
       " 4.599729153591985e-6\n",
       " 1.685257348487323e-6\n",
       " ⋮\n",
       " 0.0\n",
       " 0.0\n",
       " 0.0\n",
       " 0.0\n",
       " 0.0\n",
       " 0.0\n",
       " 0.0\n",
       " 0.0\n",
       " 0.0\n",
       " 0.0\n",
       " 0.0\n",
       " 0.0"
      ]
     },
     "execution_count": 146,
     "metadata": {},
     "output_type": "execute_result"
    }
   ],
   "source": [
    "df_fin = outerjoin(df_store, df_store_2, df_store_2_test, on=[:date, :promoter, :source, :growth_condition, :replicate, :pos, :d])\n",
    "replace!(df_fin.mut_info, missing => 0)\n",
    "replace!(df_fin.footprint, missing => 0)\n",
    "replace!(df_fin.footprint_test, missing => 0)"
   ]
  },
  {
   "cell_type": "code",
   "execution_count": 149,
   "metadata": {},
   "outputs": [
    {
     "data": {
      "text/plain": [
       "\"../../figures/20230525_footprints.csv\""
      ]
     },
     "execution_count": 149,
     "metadata": {},
     "output_type": "execute_result"
    }
   ],
   "source": [
    "CSV.write(\"../../figures/20230525_footprints.csv\", df_fin)"
   ]
  },
  {
   "cell_type": "code",
   "execution_count": 147,
   "metadata": {},
   "outputs": [
    {
     "data": {
      "text/html": [
       "<div><div style = \"float: left;\"><span>213300×10 DataFrame</span></div><div style = \"float: right;\"><span style = \"font-style: italic;\">213275 rows omitted</span></div><div style = \"clear: both;\"></div></div><div class = \"data-frame\" style = \"overflow-x: scroll;\"><table class = \"data-frame\" style = \"margin-bottom: 6px;\"><thead><tr class = \"header\"><th class = \"rowNumber\" style = \"font-weight: bold; text-align: right;\">Row</th><th style = \"text-align: left;\">date</th><th style = \"text-align: left;\">promoter</th><th style = \"text-align: left;\">source</th><th style = \"text-align: left;\">mut_info</th><th style = \"text-align: left;\">growth_condition</th><th style = \"text-align: left;\">replicate</th><th style = \"text-align: left;\">pos</th><th style = \"text-align: left;\">d</th><th style = \"text-align: left;\">footprint</th><th style = \"text-align: left;\">footprint_test</th></tr><tr class = \"subheader headerLastRow\"><th class = \"rowNumber\" style = \"font-weight: bold; text-align: right;\"></th><th title = \"String\" style = \"text-align: left;\">String</th><th title = \"String\" style = \"text-align: left;\">String</th><th title = \"String\" style = \"text-align: left;\">String</th><th title = \"Union{Missing, Float64}\" style = \"text-align: left;\">Float64?</th><th title = \"String\" style = \"text-align: left;\">String</th><th title = \"Int64\" style = \"text-align: left;\">Int64</th><th title = \"Int64\" style = \"text-align: left;\">Int64</th><th title = \"String\" style = \"text-align: left;\">String</th><th title = \"Union{Missing, Float64}\" style = \"text-align: left;\">Float64?</th><th title = \"Union{Missing, Float64}\" style = \"text-align: left;\">Float64?</th></tr></thead><tbody><tr><td class = \"rowNumber\" style = \"font-weight: bold; text-align: right;\">1</td><td style = \"text-align: left;\">2023_05_25</td><td style = \"text-align: left;\">TSS_1414_storz_regulondb</td><td style = \"text-align: left;\">plasmid</td><td style = \"text-align: right;\">7.09873e-5</td><td style = \"text-align: left;\">LB</td><td style = \"text-align: right;\">1</td><td style = \"text-align: right;\">-115</td><td style = \"text-align: left;\">0</td><td style = \"text-align: right;\">9.86126e-7</td><td style = \"text-align: right;\">6.46353e-7</td></tr><tr><td class = \"rowNumber\" style = \"font-weight: bold; text-align: right;\">2</td><td style = \"text-align: left;\">2023_05_25</td><td style = \"text-align: left;\">TSS_1414_storz_regulondb</td><td style = \"text-align: left;\">plasmid</td><td style = \"text-align: right;\">7.09873e-5</td><td style = \"text-align: left;\">LB</td><td style = \"text-align: right;\">1</td><td style = \"text-align: right;\">-115</td><td style = \"text-align: left;\">0</td><td style = \"text-align: right;\">1.52265e-5</td><td style = \"text-align: right;\">6.46353e-7</td></tr><tr><td class = \"rowNumber\" style = \"font-weight: bold; text-align: right;\">3</td><td style = \"text-align: left;\">2023_05_25</td><td style = \"text-align: left;\">TSS_1414_storz_regulondb</td><td style = \"text-align: left;\">plasmid</td><td style = \"text-align: right;\">1.40207e-5</td><td style = \"text-align: left;\">LB</td><td style = \"text-align: right;\">1</td><td style = \"text-align: right;\">-114</td><td style = \"text-align: left;\">0</td><td style = \"text-align: right;\">3.87399e-7</td><td style = \"text-align: right;\">1.45443e-6</td></tr><tr><td class = \"rowNumber\" style = \"font-weight: bold; text-align: right;\">4</td><td style = \"text-align: left;\">2023_05_25</td><td style = \"text-align: left;\">TSS_1414_storz_regulondb</td><td style = \"text-align: left;\">plasmid</td><td style = \"text-align: right;\">1.40207e-5</td><td style = \"text-align: left;\">LB</td><td style = \"text-align: right;\">1</td><td style = \"text-align: right;\">-114</td><td style = \"text-align: left;\">0</td><td style = \"text-align: right;\">0.000107145</td><td style = \"text-align: right;\">1.45443e-6</td></tr><tr><td class = \"rowNumber\" style = \"font-weight: bold; text-align: right;\">5</td><td style = \"text-align: left;\">2023_05_25</td><td style = \"text-align: left;\">TSS_1414_storz_regulondb</td><td style = \"text-align: left;\">plasmid</td><td style = \"text-align: right;\">7.19716e-5</td><td style = \"text-align: left;\">LB</td><td style = \"text-align: right;\">1</td><td style = \"text-align: right;\">-113</td><td style = \"text-align: left;\">0</td><td style = \"text-align: right;\">3.83811e-8</td><td style = \"text-align: right;\">2.53195e-6</td></tr><tr><td class = \"rowNumber\" style = \"font-weight: bold; text-align: right;\">6</td><td style = \"text-align: left;\">2023_05_25</td><td style = \"text-align: left;\">TSS_1414_storz_regulondb</td><td style = \"text-align: left;\">plasmid</td><td style = \"text-align: right;\">7.19716e-5</td><td style = \"text-align: left;\">LB</td><td style = \"text-align: right;\">1</td><td style = \"text-align: right;\">-113</td><td style = \"text-align: left;\">0</td><td style = \"text-align: right;\">7.93982e-6</td><td style = \"text-align: right;\">2.53195e-6</td></tr><tr><td class = \"rowNumber\" style = \"font-weight: bold; text-align: right;\">7</td><td style = \"text-align: left;\">2023_05_25</td><td style = \"text-align: left;\">TSS_1414_storz_regulondb</td><td style = \"text-align: left;\">plasmid</td><td style = \"text-align: right;\">2.1791e-5</td><td style = \"text-align: left;\">LB</td><td style = \"text-align: right;\">1</td><td style = \"text-align: right;\">-112</td><td style = \"text-align: left;\">0</td><td style = \"text-align: right;\">4.93489e-7</td><td style = \"text-align: right;\">4.05344e-6</td></tr><tr><td class = \"rowNumber\" style = \"font-weight: bold; text-align: right;\">8</td><td style = \"text-align: left;\">2023_05_25</td><td style = \"text-align: left;\">TSS_1414_storz_regulondb</td><td style = \"text-align: left;\">plasmid</td><td style = \"text-align: right;\">2.1791e-5</td><td style = \"text-align: left;\">LB</td><td style = \"text-align: right;\">1</td><td style = \"text-align: right;\">-112</td><td style = \"text-align: left;\">0</td><td style = \"text-align: right;\">6.05985e-6</td><td style = \"text-align: right;\">4.05344e-6</td></tr><tr><td class = \"rowNumber\" style = \"font-weight: bold; text-align: right;\">9</td><td style = \"text-align: left;\">2023_05_25</td><td style = \"text-align: left;\">TSS_1414_storz_regulondb</td><td style = \"text-align: left;\">plasmid</td><td style = \"text-align: right;\">1.16899e-5</td><td style = \"text-align: left;\">LB</td><td style = \"text-align: right;\">1</td><td style = \"text-align: right;\">-111</td><td style = \"text-align: left;\">0</td><td style = \"text-align: right;\">6.2729e-7</td><td style = \"text-align: right;\">6.5103e-6</td></tr><tr><td class = \"rowNumber\" style = \"font-weight: bold; text-align: right;\">10</td><td style = \"text-align: left;\">2023_05_25</td><td style = \"text-align: left;\">TSS_1414_storz_regulondb</td><td style = \"text-align: left;\">plasmid</td><td style = \"text-align: right;\">1.16899e-5</td><td style = \"text-align: left;\">LB</td><td style = \"text-align: right;\">1</td><td style = \"text-align: right;\">-111</td><td style = \"text-align: left;\">0</td><td style = \"text-align: right;\">3.69685e-6</td><td style = \"text-align: right;\">6.5103e-6</td></tr><tr><td class = \"rowNumber\" style = \"font-weight: bold; text-align: right;\">11</td><td style = \"text-align: left;\">2023_05_25</td><td style = \"text-align: left;\">TSS_1414_storz_regulondb</td><td style = \"text-align: left;\">plasmid</td><td style = \"text-align: right;\">4.85577e-5</td><td style = \"text-align: left;\">LB</td><td style = \"text-align: right;\">1</td><td style = \"text-align: right;\">-110</td><td style = \"text-align: left;\">0</td><td style = \"text-align: right;\">9.44147e-8</td><td style = \"text-align: right;\">4.59973e-6</td></tr><tr><td class = \"rowNumber\" style = \"font-weight: bold; text-align: right;\">12</td><td style = \"text-align: left;\">2023_05_25</td><td style = \"text-align: left;\">TSS_1414_storz_regulondb</td><td style = \"text-align: left;\">plasmid</td><td style = \"text-align: right;\">4.85577e-5</td><td style = \"text-align: left;\">LB</td><td style = \"text-align: right;\">1</td><td style = \"text-align: right;\">-110</td><td style = \"text-align: left;\">0</td><td style = \"text-align: right;\">2.83317e-7</td><td style = \"text-align: right;\">4.59973e-6</td></tr><tr><td class = \"rowNumber\" style = \"font-weight: bold; text-align: right;\">13</td><td style = \"text-align: left;\">2023_05_25</td><td style = \"text-align: left;\">TSS_1414_storz_regulondb</td><td style = \"text-align: left;\">plasmid</td><td style = \"text-align: right;\">2.45007e-6</td><td style = \"text-align: left;\">LB</td><td style = \"text-align: right;\">1</td><td style = \"text-align: right;\">-109</td><td style = \"text-align: left;\">0</td><td style = \"text-align: right;\">5.02443e-7</td><td style = \"text-align: right;\">1.68526e-6</td></tr><tr><td style = \"text-align: right;\">&vellip;</td><td style = \"text-align: right;\">&vellip;</td><td style = \"text-align: right;\">&vellip;</td><td style = \"text-align: right;\">&vellip;</td><td style = \"text-align: right;\">&vellip;</td><td style = \"text-align: right;\">&vellip;</td><td style = \"text-align: right;\">&vellip;</td><td style = \"text-align: right;\">&vellip;</td><td style = \"text-align: right;\">&vellip;</td><td style = \"text-align: right;\">&vellip;</td><td style = \"text-align: right;\">&vellip;</td></tr><tr><td class = \"rowNumber\" style = \"font-weight: bold; text-align: right;\">213289</td><td style = \"text-align: left;\">2023_05_25</td><td style = \"text-align: left;\">znuCp</td><td style = \"text-align: left;\">plasmid</td><td style = \"text-align: right;\">0.000473626</td><td style = \"text-align: left;\">Minimal Media + 0.5% Xylose + 0.5% Arabinose</td><td style = \"text-align: right;\">2</td><td style = \"text-align: right;\">31</td><td style = \"text-align: left;\">2</td><td style = \"text-align: right;\">0.0</td><td style = \"text-align: right;\">0.0</td></tr><tr><td class = \"rowNumber\" style = \"font-weight: bold; text-align: right;\">213290</td><td style = \"text-align: left;\">2023_05_25</td><td style = \"text-align: left;\">znuCp</td><td style = \"text-align: left;\">plasmid</td><td style = \"text-align: right;\">0.000442096</td><td style = \"text-align: left;\">Minimal Media + 0.5% Xylose + 0.5% Arabinose</td><td style = \"text-align: right;\">2</td><td style = \"text-align: right;\">32</td><td style = \"text-align: left;\">2</td><td style = \"text-align: right;\">0.0</td><td style = \"text-align: right;\">0.0</td></tr><tr><td class = \"rowNumber\" style = \"font-weight: bold; text-align: right;\">213291</td><td style = \"text-align: left;\">2023_05_25</td><td style = \"text-align: left;\">znuCp</td><td style = \"text-align: left;\">plasmid</td><td style = \"text-align: right;\">0.000782307</td><td style = \"text-align: left;\">Minimal Media + 0.5% Xylose + 0.5% Arabinose</td><td style = \"text-align: right;\">2</td><td style = \"text-align: right;\">33</td><td style = \"text-align: left;\">2</td><td style = \"text-align: right;\">0.0</td><td style = \"text-align: right;\">0.0</td></tr><tr><td class = \"rowNumber\" style = \"font-weight: bold; text-align: right;\">213292</td><td style = \"text-align: left;\">2023_05_25</td><td style = \"text-align: left;\">znuCp</td><td style = \"text-align: left;\">plasmid</td><td style = \"text-align: right;\">0.000865426</td><td style = \"text-align: left;\">Minimal Media + 0.5% Xylose + 0.5% Arabinose</td><td style = \"text-align: right;\">2</td><td style = \"text-align: right;\">34</td><td style = \"text-align: left;\">2</td><td style = \"text-align: right;\">0.0</td><td style = \"text-align: right;\">0.0</td></tr><tr><td class = \"rowNumber\" style = \"font-weight: bold; text-align: right;\">213293</td><td style = \"text-align: left;\">2023_05_25</td><td style = \"text-align: left;\">znuCp</td><td style = \"text-align: left;\">plasmid</td><td style = \"text-align: right;\">0.00061151</td><td style = \"text-align: left;\">Minimal Media + 0.5% Xylose + 0.5% Arabinose</td><td style = \"text-align: right;\">2</td><td style = \"text-align: right;\">35</td><td style = \"text-align: left;\">2</td><td style = \"text-align: right;\">0.0</td><td style = \"text-align: right;\">0.0</td></tr><tr><td class = \"rowNumber\" style = \"font-weight: bold; text-align: right;\">213294</td><td style = \"text-align: left;\">2023_05_25</td><td style = \"text-align: left;\">znuCp</td><td style = \"text-align: left;\">plasmid</td><td style = \"text-align: right;\">0.000618696</td><td style = \"text-align: left;\">Minimal Media + 0.5% Xylose + 0.5% Arabinose</td><td style = \"text-align: right;\">2</td><td style = \"text-align: right;\">36</td><td style = \"text-align: left;\">2</td><td style = \"text-align: right;\">0.0</td><td style = \"text-align: right;\">0.0</td></tr><tr><td class = \"rowNumber\" style = \"font-weight: bold; text-align: right;\">213295</td><td style = \"text-align: left;\">2023_05_25</td><td style = \"text-align: left;\">znuCp</td><td style = \"text-align: left;\">plasmid</td><td style = \"text-align: right;\">0.00102192</td><td style = \"text-align: left;\">Minimal Media + 0.5% Xylose + 0.5% Arabinose</td><td style = \"text-align: right;\">2</td><td style = \"text-align: right;\">37</td><td style = \"text-align: left;\">2</td><td style = \"text-align: right;\">0.0</td><td style = \"text-align: right;\">0.0</td></tr><tr><td class = \"rowNumber\" style = \"font-weight: bold; text-align: right;\">213296</td><td style = \"text-align: left;\">2023_05_25</td><td style = \"text-align: left;\">znuCp</td><td style = \"text-align: left;\">plasmid</td><td style = \"text-align: right;\">0.000676264</td><td style = \"text-align: left;\">Minimal Media + 0.5% Xylose + 0.5% Arabinose</td><td style = \"text-align: right;\">2</td><td style = \"text-align: right;\">38</td><td style = \"text-align: left;\">2</td><td style = \"text-align: right;\">0.0</td><td style = \"text-align: right;\">0.0</td></tr><tr><td class = \"rowNumber\" style = \"font-weight: bold; text-align: right;\">213297</td><td style = \"text-align: left;\">2023_05_25</td><td style = \"text-align: left;\">znuCp</td><td style = \"text-align: left;\">plasmid</td><td style = \"text-align: right;\">0.00127109</td><td style = \"text-align: left;\">Minimal Media + 0.5% Xylose + 0.5% Arabinose</td><td style = \"text-align: right;\">2</td><td style = \"text-align: right;\">39</td><td style = \"text-align: left;\">2</td><td style = \"text-align: right;\">0.0</td><td style = \"text-align: right;\">0.0</td></tr><tr><td class = \"rowNumber\" style = \"font-weight: bold; text-align: right;\">213298</td><td style = \"text-align: left;\">2023_05_25</td><td style = \"text-align: left;\">znuCp</td><td style = \"text-align: left;\">plasmid</td><td style = \"text-align: right;\">0.00145897</td><td style = \"text-align: left;\">Minimal Media + 0.5% Xylose + 0.5% Arabinose</td><td style = \"text-align: right;\">2</td><td style = \"text-align: right;\">40</td><td style = \"text-align: left;\">2</td><td style = \"text-align: right;\">0.0</td><td style = \"text-align: right;\">0.0</td></tr><tr><td class = \"rowNumber\" style = \"font-weight: bold; text-align: right;\">213299</td><td style = \"text-align: left;\">2023_05_25</td><td style = \"text-align: left;\">znuCp</td><td style = \"text-align: left;\">plasmid</td><td style = \"text-align: right;\">0.0013351</td><td style = \"text-align: left;\">Minimal Media + 0.5% Xylose + 0.5% Arabinose</td><td style = \"text-align: right;\">2</td><td style = \"text-align: right;\">41</td><td style = \"text-align: left;\">2</td><td style = \"text-align: right;\">0.0</td><td style = \"text-align: right;\">0.0</td></tr><tr><td class = \"rowNumber\" style = \"font-weight: bold; text-align: right;\">213300</td><td style = \"text-align: left;\">2023_05_25</td><td style = \"text-align: left;\">znuCp</td><td style = \"text-align: left;\">plasmid</td><td style = \"text-align: right;\">0.000914356</td><td style = \"text-align: left;\">Minimal Media + 0.5% Xylose + 0.5% Arabinose</td><td style = \"text-align: right;\">2</td><td style = \"text-align: right;\">42</td><td style = \"text-align: left;\">2</td><td style = \"text-align: right;\">0.0</td><td style = \"text-align: right;\">0.0</td></tr></tbody></table></div>"
      ],
      "text/latex": [
       "\\begin{tabular}{r|ccccccc}\n",
       "\t& date & promoter & source & mut\\_info & growth\\_condition & replicate & \\\\\n",
       "\t\\hline\n",
       "\t& String & String & String & Float64? & String & Int64 & \\\\\n",
       "\t\\hline\n",
       "\t1 & 2023\\_05\\_25 & TSS\\_1414\\_storz\\_regulondb & plasmid & 7.09873e-5 & LB & 1 & $\\dots$ \\\\\n",
       "\t2 & 2023\\_05\\_25 & TSS\\_1414\\_storz\\_regulondb & plasmid & 7.09873e-5 & LB & 1 & $\\dots$ \\\\\n",
       "\t3 & 2023\\_05\\_25 & TSS\\_1414\\_storz\\_regulondb & plasmid & 1.40207e-5 & LB & 1 & $\\dots$ \\\\\n",
       "\t4 & 2023\\_05\\_25 & TSS\\_1414\\_storz\\_regulondb & plasmid & 1.40207e-5 & LB & 1 & $\\dots$ \\\\\n",
       "\t5 & 2023\\_05\\_25 & TSS\\_1414\\_storz\\_regulondb & plasmid & 7.19716e-5 & LB & 1 & $\\dots$ \\\\\n",
       "\t6 & 2023\\_05\\_25 & TSS\\_1414\\_storz\\_regulondb & plasmid & 7.19716e-5 & LB & 1 & $\\dots$ \\\\\n",
       "\t7 & 2023\\_05\\_25 & TSS\\_1414\\_storz\\_regulondb & plasmid & 2.1791e-5 & LB & 1 & $\\dots$ \\\\\n",
       "\t8 & 2023\\_05\\_25 & TSS\\_1414\\_storz\\_regulondb & plasmid & 2.1791e-5 & LB & 1 & $\\dots$ \\\\\n",
       "\t9 & 2023\\_05\\_25 & TSS\\_1414\\_storz\\_regulondb & plasmid & 1.16899e-5 & LB & 1 & $\\dots$ \\\\\n",
       "\t10 & 2023\\_05\\_25 & TSS\\_1414\\_storz\\_regulondb & plasmid & 1.16899e-5 & LB & 1 & $\\dots$ \\\\\n",
       "\t11 & 2023\\_05\\_25 & TSS\\_1414\\_storz\\_regulondb & plasmid & 4.85577e-5 & LB & 1 & $\\dots$ \\\\\n",
       "\t12 & 2023\\_05\\_25 & TSS\\_1414\\_storz\\_regulondb & plasmid & 4.85577e-5 & LB & 1 & $\\dots$ \\\\\n",
       "\t13 & 2023\\_05\\_25 & TSS\\_1414\\_storz\\_regulondb & plasmid & 2.45007e-6 & LB & 1 & $\\dots$ \\\\\n",
       "\t14 & 2023\\_05\\_25 & TSS\\_1414\\_storz\\_regulondb & plasmid & 2.45007e-6 & LB & 1 & $\\dots$ \\\\\n",
       "\t15 & 2023\\_05\\_25 & TSS\\_1414\\_storz\\_regulondb & plasmid & 0.000179566 & LB & 1 & $\\dots$ \\\\\n",
       "\t16 & 2023\\_05\\_25 & TSS\\_1414\\_storz\\_regulondb & plasmid & 0.000179566 & LB & 1 & $\\dots$ \\\\\n",
       "\t17 & 2023\\_05\\_25 & TSS\\_1414\\_storz\\_regulondb & plasmid & 0.000186077 & LB & 1 & $\\dots$ \\\\\n",
       "\t18 & 2023\\_05\\_25 & TSS\\_1414\\_storz\\_regulondb & plasmid & 0.000186077 & LB & 1 & $\\dots$ \\\\\n",
       "\t19 & 2023\\_05\\_25 & TSS\\_1414\\_storz\\_regulondb & plasmid & 2.99843e-5 & LB & 1 & $\\dots$ \\\\\n",
       "\t20 & 2023\\_05\\_25 & TSS\\_1414\\_storz\\_regulondb & plasmid & 2.99843e-5 & LB & 1 & $\\dots$ \\\\\n",
       "\t21 & 2023\\_05\\_25 & TSS\\_1414\\_storz\\_regulondb & plasmid & 0.000346322 & LB & 1 & $\\dots$ \\\\\n",
       "\t22 & 2023\\_05\\_25 & TSS\\_1414\\_storz\\_regulondb & plasmid & 0.000346322 & LB & 1 & $\\dots$ \\\\\n",
       "\t23 & 2023\\_05\\_25 & TSS\\_1414\\_storz\\_regulondb & plasmid & 5.35113e-5 & LB & 1 & $\\dots$ \\\\\n",
       "\t24 & 2023\\_05\\_25 & TSS\\_1414\\_storz\\_regulondb & plasmid & 5.35113e-5 & LB & 1 & $\\dots$ \\\\\n",
       "\t25 & 2023\\_05\\_25 & TSS\\_1414\\_storz\\_regulondb & plasmid & 0.000137501 & LB & 1 & $\\dots$ \\\\\n",
       "\t26 & 2023\\_05\\_25 & TSS\\_1414\\_storz\\_regulondb & plasmid & 0.000137501 & LB & 1 & $\\dots$ \\\\\n",
       "\t27 & 2023\\_05\\_25 & TSS\\_1414\\_storz\\_regulondb & plasmid & 1.62841e-5 & LB & 1 & $\\dots$ \\\\\n",
       "\t28 & 2023\\_05\\_25 & TSS\\_1414\\_storz\\_regulondb & plasmid & 1.62841e-5 & LB & 1 & $\\dots$ \\\\\n",
       "\t29 & 2023\\_05\\_25 & TSS\\_1414\\_storz\\_regulondb & plasmid & 1.90509e-5 & LB & 1 & $\\dots$ \\\\\n",
       "\t30 & 2023\\_05\\_25 & TSS\\_1414\\_storz\\_regulondb & plasmid & 1.90509e-5 & LB & 1 & $\\dots$ \\\\\n",
       "\t$\\dots$ & $\\dots$ & $\\dots$ & $\\dots$ & $\\dots$ & $\\dots$ & $\\dots$ &  \\\\\n",
       "\\end{tabular}\n"
      ],
      "text/plain": [
       "\u001b[1m213300×10 DataFrame\u001b[0m\n",
       "\u001b[1m    Row \u001b[0m│\u001b[1m date       \u001b[0m\u001b[1m promoter                 \u001b[0m\u001b[1m source  \u001b[0m\u001b[1m mut_info    \u001b[0m\u001b[1m growth_c\u001b[0m ⋯\n",
       "        │\u001b[90m String     \u001b[0m\u001b[90m String                   \u001b[0m\u001b[90m String  \u001b[0m\u001b[90m Float64?    \u001b[0m\u001b[90m String  \u001b[0m ⋯\n",
       "────────┼───────────────────────────────────────────────────────────────────────\n",
       "      1 │ 2023_05_25  TSS_1414_storz_regulondb  plasmid  7.09873e-5   LB       ⋯\n",
       "      2 │ 2023_05_25  TSS_1414_storz_regulondb  plasmid  7.09873e-5   LB\n",
       "      3 │ 2023_05_25  TSS_1414_storz_regulondb  plasmid  1.40207e-5   LB\n",
       "      4 │ 2023_05_25  TSS_1414_storz_regulondb  plasmid  1.40207e-5   LB\n",
       "      5 │ 2023_05_25  TSS_1414_storz_regulondb  plasmid  7.19716e-5   LB       ⋯\n",
       "      6 │ 2023_05_25  TSS_1414_storz_regulondb  plasmid  7.19716e-5   LB\n",
       "      7 │ 2023_05_25  TSS_1414_storz_regulondb  plasmid  2.1791e-5    LB\n",
       "      8 │ 2023_05_25  TSS_1414_storz_regulondb  plasmid  2.1791e-5    LB\n",
       "      9 │ 2023_05_25  TSS_1414_storz_regulondb  plasmid  1.16899e-5   LB       ⋯\n",
       "     10 │ 2023_05_25  TSS_1414_storz_regulondb  plasmid  1.16899e-5   LB\n",
       "     11 │ 2023_05_25  TSS_1414_storz_regulondb  plasmid  4.85577e-5   LB\n",
       "   ⋮    │     ⋮                  ⋮                 ⋮          ⋮                ⋱\n",
       " 213291 │ 2023_05_25  znuCp                     plasmid  0.000782307  Minimal\n",
       " 213292 │ 2023_05_25  znuCp                     plasmid  0.000865426  Minimal  ⋯\n",
       " 213293 │ 2023_05_25  znuCp                     plasmid  0.00061151   Minimal\n",
       " 213294 │ 2023_05_25  znuCp                     plasmid  0.000618696  Minimal\n",
       " 213295 │ 2023_05_25  znuCp                     plasmid  0.00102192   Minimal\n",
       " 213296 │ 2023_05_25  znuCp                     plasmid  0.000676264  Minimal  ⋯\n",
       " 213297 │ 2023_05_25  znuCp                     plasmid  0.00127109   Minimal\n",
       " 213298 │ 2023_05_25  znuCp                     plasmid  0.00145897   Minimal\n",
       " 213299 │ 2023_05_25  znuCp                     plasmid  0.0013351    Minimal\n",
       " 213300 │ 2023_05_25  znuCp                     plasmid  0.000914356  Minimal  ⋯\n",
       "\u001b[36m                                               6 columns and 213279 rows omitted\u001b[0m"
      ]
     },
     "execution_count": 147,
     "metadata": {},
     "output_type": "execute_result"
    }
   ],
   "source": [
    "df_fin"
   ]
  },
  {
   "cell_type": "code",
   "execution_count": 148,
   "metadata": {},
   "outputs": [
    {
     "data": {
      "text/html": [
       "<div><div style = \"float: left;\"><span>213300×10 DataFrame</span></div><div style = \"float: right;\"><span style = \"font-style: italic;\">213275 rows omitted</span></div><div style = \"clear: both;\"></div></div><div class = \"data-frame\" style = \"overflow-x: scroll;\"><table class = \"data-frame\" style = \"margin-bottom: 6px;\"><thead><tr class = \"header\"><th class = \"rowNumber\" style = \"font-weight: bold; text-align: right;\">Row</th><th style = \"text-align: left;\">date</th><th style = \"text-align: left;\">promoter</th><th style = \"text-align: left;\">source</th><th style = \"text-align: left;\">mut_info</th><th style = \"text-align: left;\">growth_condition</th><th style = \"text-align: left;\">replicate</th><th style = \"text-align: left;\">pos</th><th style = \"text-align: left;\">d</th><th style = \"text-align: left;\">footprint</th><th style = \"text-align: left;\">footprint_test</th></tr><tr class = \"subheader headerLastRow\"><th class = \"rowNumber\" style = \"font-weight: bold; text-align: right;\"></th><th title = \"String\" style = \"text-align: left;\">String</th><th title = \"String\" style = \"text-align: left;\">String</th><th title = \"String\" style = \"text-align: left;\">String</th><th title = \"Union{Missing, Float64}\" style = \"text-align: left;\">Float64?</th><th title = \"String\" style = \"text-align: left;\">String</th><th title = \"Int64\" style = \"text-align: left;\">Int64</th><th title = \"Int64\" style = \"text-align: left;\">Int64</th><th title = \"String\" style = \"text-align: left;\">String</th><th title = \"Union{Missing, Float64}\" style = \"text-align: left;\">Float64?</th><th title = \"Union{Missing, Float64}\" style = \"text-align: left;\">Float64?</th></tr></thead><tbody><tr><td class = \"rowNumber\" style = \"font-weight: bold; text-align: right;\">1</td><td style = \"text-align: left;\">2023_05_25</td><td style = \"text-align: left;\">TSS_1414_storz_regulondb</td><td style = \"text-align: left;\">plasmid</td><td style = \"text-align: right;\">7.09873e-5</td><td style = \"text-align: left;\">LB</td><td style = \"text-align: right;\">1</td><td style = \"text-align: right;\">-115</td><td style = \"text-align: left;\">0</td><td style = \"text-align: right;\">9.86126e-7</td><td style = \"text-align: right;\">6.46353e-7</td></tr><tr><td class = \"rowNumber\" style = \"font-weight: bold; text-align: right;\">2</td><td style = \"text-align: left;\">2023_05_25</td><td style = \"text-align: left;\">TSS_1414_storz_regulondb</td><td style = \"text-align: left;\">plasmid</td><td style = \"text-align: right;\">7.09873e-5</td><td style = \"text-align: left;\">LB</td><td style = \"text-align: right;\">1</td><td style = \"text-align: right;\">-115</td><td style = \"text-align: left;\">0</td><td style = \"text-align: right;\">1.52265e-5</td><td style = \"text-align: right;\">6.46353e-7</td></tr><tr><td class = \"rowNumber\" style = \"font-weight: bold; text-align: right;\">3</td><td style = \"text-align: left;\">2023_05_25</td><td style = \"text-align: left;\">TSS_1414_storz_regulondb</td><td style = \"text-align: left;\">plasmid</td><td style = \"text-align: right;\">1.40207e-5</td><td style = \"text-align: left;\">LB</td><td style = \"text-align: right;\">1</td><td style = \"text-align: right;\">-114</td><td style = \"text-align: left;\">0</td><td style = \"text-align: right;\">3.87399e-7</td><td style = \"text-align: right;\">1.45443e-6</td></tr><tr><td class = \"rowNumber\" style = \"font-weight: bold; text-align: right;\">4</td><td style = \"text-align: left;\">2023_05_25</td><td style = \"text-align: left;\">TSS_1414_storz_regulondb</td><td style = \"text-align: left;\">plasmid</td><td style = \"text-align: right;\">1.40207e-5</td><td style = \"text-align: left;\">LB</td><td style = \"text-align: right;\">1</td><td style = \"text-align: right;\">-114</td><td style = \"text-align: left;\">0</td><td style = \"text-align: right;\">0.000107145</td><td style = \"text-align: right;\">1.45443e-6</td></tr><tr><td class = \"rowNumber\" style = \"font-weight: bold; text-align: right;\">5</td><td style = \"text-align: left;\">2023_05_25</td><td style = \"text-align: left;\">TSS_1414_storz_regulondb</td><td style = \"text-align: left;\">plasmid</td><td style = \"text-align: right;\">7.19716e-5</td><td style = \"text-align: left;\">LB</td><td style = \"text-align: right;\">1</td><td style = \"text-align: right;\">-113</td><td style = \"text-align: left;\">0</td><td style = \"text-align: right;\">3.83811e-8</td><td style = \"text-align: right;\">2.53195e-6</td></tr><tr><td class = \"rowNumber\" style = \"font-weight: bold; text-align: right;\">6</td><td style = \"text-align: left;\">2023_05_25</td><td style = \"text-align: left;\">TSS_1414_storz_regulondb</td><td style = \"text-align: left;\">plasmid</td><td style = \"text-align: right;\">7.19716e-5</td><td style = \"text-align: left;\">LB</td><td style = \"text-align: right;\">1</td><td style = \"text-align: right;\">-113</td><td style = \"text-align: left;\">0</td><td style = \"text-align: right;\">7.93982e-6</td><td style = \"text-align: right;\">2.53195e-6</td></tr><tr><td class = \"rowNumber\" style = \"font-weight: bold; text-align: right;\">7</td><td style = \"text-align: left;\">2023_05_25</td><td style = \"text-align: left;\">TSS_1414_storz_regulondb</td><td style = \"text-align: left;\">plasmid</td><td style = \"text-align: right;\">2.1791e-5</td><td style = \"text-align: left;\">LB</td><td style = \"text-align: right;\">1</td><td style = \"text-align: right;\">-112</td><td style = \"text-align: left;\">0</td><td style = \"text-align: right;\">4.93489e-7</td><td style = \"text-align: right;\">4.05344e-6</td></tr><tr><td class = \"rowNumber\" style = \"font-weight: bold; text-align: right;\">8</td><td style = \"text-align: left;\">2023_05_25</td><td style = \"text-align: left;\">TSS_1414_storz_regulondb</td><td style = \"text-align: left;\">plasmid</td><td style = \"text-align: right;\">2.1791e-5</td><td style = \"text-align: left;\">LB</td><td style = \"text-align: right;\">1</td><td style = \"text-align: right;\">-112</td><td style = \"text-align: left;\">0</td><td style = \"text-align: right;\">6.05985e-6</td><td style = \"text-align: right;\">4.05344e-6</td></tr><tr><td class = \"rowNumber\" style = \"font-weight: bold; text-align: right;\">9</td><td style = \"text-align: left;\">2023_05_25</td><td style = \"text-align: left;\">TSS_1414_storz_regulondb</td><td style = \"text-align: left;\">plasmid</td><td style = \"text-align: right;\">1.16899e-5</td><td style = \"text-align: left;\">LB</td><td style = \"text-align: right;\">1</td><td style = \"text-align: right;\">-111</td><td style = \"text-align: left;\">0</td><td style = \"text-align: right;\">6.2729e-7</td><td style = \"text-align: right;\">6.5103e-6</td></tr><tr><td class = \"rowNumber\" style = \"font-weight: bold; text-align: right;\">10</td><td style = \"text-align: left;\">2023_05_25</td><td style = \"text-align: left;\">TSS_1414_storz_regulondb</td><td style = \"text-align: left;\">plasmid</td><td style = \"text-align: right;\">1.16899e-5</td><td style = \"text-align: left;\">LB</td><td style = \"text-align: right;\">1</td><td style = \"text-align: right;\">-111</td><td style = \"text-align: left;\">0</td><td style = \"text-align: right;\">3.69685e-6</td><td style = \"text-align: right;\">6.5103e-6</td></tr><tr><td class = \"rowNumber\" style = \"font-weight: bold; text-align: right;\">11</td><td style = \"text-align: left;\">2023_05_25</td><td style = \"text-align: left;\">TSS_1414_storz_regulondb</td><td style = \"text-align: left;\">plasmid</td><td style = \"text-align: right;\">4.85577e-5</td><td style = \"text-align: left;\">LB</td><td style = \"text-align: right;\">1</td><td style = \"text-align: right;\">-110</td><td style = \"text-align: left;\">0</td><td style = \"text-align: right;\">9.44147e-8</td><td style = \"text-align: right;\">4.59973e-6</td></tr><tr><td class = \"rowNumber\" style = \"font-weight: bold; text-align: right;\">12</td><td style = \"text-align: left;\">2023_05_25</td><td style = \"text-align: left;\">TSS_1414_storz_regulondb</td><td style = \"text-align: left;\">plasmid</td><td style = \"text-align: right;\">4.85577e-5</td><td style = \"text-align: left;\">LB</td><td style = \"text-align: right;\">1</td><td style = \"text-align: right;\">-110</td><td style = \"text-align: left;\">0</td><td style = \"text-align: right;\">2.83317e-7</td><td style = \"text-align: right;\">4.59973e-6</td></tr><tr><td class = \"rowNumber\" style = \"font-weight: bold; text-align: right;\">13</td><td style = \"text-align: left;\">2023_05_25</td><td style = \"text-align: left;\">TSS_1414_storz_regulondb</td><td style = \"text-align: left;\">plasmid</td><td style = \"text-align: right;\">2.45007e-6</td><td style = \"text-align: left;\">LB</td><td style = \"text-align: right;\">1</td><td style = \"text-align: right;\">-109</td><td style = \"text-align: left;\">0</td><td style = \"text-align: right;\">5.02443e-7</td><td style = \"text-align: right;\">1.68526e-6</td></tr><tr><td style = \"text-align: right;\">&vellip;</td><td style = \"text-align: right;\">&vellip;</td><td style = \"text-align: right;\">&vellip;</td><td style = \"text-align: right;\">&vellip;</td><td style = \"text-align: right;\">&vellip;</td><td style = \"text-align: right;\">&vellip;</td><td style = \"text-align: right;\">&vellip;</td><td style = \"text-align: right;\">&vellip;</td><td style = \"text-align: right;\">&vellip;</td><td style = \"text-align: right;\">&vellip;</td><td style = \"text-align: right;\">&vellip;</td></tr><tr><td class = \"rowNumber\" style = \"font-weight: bold; text-align: right;\">213289</td><td style = \"text-align: left;\">2023_05_25</td><td style = \"text-align: left;\">znuCp</td><td style = \"text-align: left;\">plasmid</td><td style = \"text-align: right;\">0.000473626</td><td style = \"text-align: left;\">Minimal Media + 0.5% Xylose + 0.5% Arabinose</td><td style = \"text-align: right;\">2</td><td style = \"text-align: right;\">31</td><td style = \"text-align: left;\">2</td><td style = \"text-align: right;\">0.0</td><td style = \"text-align: right;\">0.0</td></tr><tr><td class = \"rowNumber\" style = \"font-weight: bold; text-align: right;\">213290</td><td style = \"text-align: left;\">2023_05_25</td><td style = \"text-align: left;\">znuCp</td><td style = \"text-align: left;\">plasmid</td><td style = \"text-align: right;\">0.000442096</td><td style = \"text-align: left;\">Minimal Media + 0.5% Xylose + 0.5% Arabinose</td><td style = \"text-align: right;\">2</td><td style = \"text-align: right;\">32</td><td style = \"text-align: left;\">2</td><td style = \"text-align: right;\">0.0</td><td style = \"text-align: right;\">0.0</td></tr><tr><td class = \"rowNumber\" style = \"font-weight: bold; text-align: right;\">213291</td><td style = \"text-align: left;\">2023_05_25</td><td style = \"text-align: left;\">znuCp</td><td style = \"text-align: left;\">plasmid</td><td style = \"text-align: right;\">0.000782307</td><td style = \"text-align: left;\">Minimal Media + 0.5% Xylose + 0.5% Arabinose</td><td style = \"text-align: right;\">2</td><td style = \"text-align: right;\">33</td><td style = \"text-align: left;\">2</td><td style = \"text-align: right;\">0.0</td><td style = \"text-align: right;\">0.0</td></tr><tr><td class = \"rowNumber\" style = \"font-weight: bold; text-align: right;\">213292</td><td style = \"text-align: left;\">2023_05_25</td><td style = \"text-align: left;\">znuCp</td><td style = \"text-align: left;\">plasmid</td><td style = \"text-align: right;\">0.000865426</td><td style = \"text-align: left;\">Minimal Media + 0.5% Xylose + 0.5% Arabinose</td><td style = \"text-align: right;\">2</td><td style = \"text-align: right;\">34</td><td style = \"text-align: left;\">2</td><td style = \"text-align: right;\">0.0</td><td style = \"text-align: right;\">0.0</td></tr><tr><td class = \"rowNumber\" style = \"font-weight: bold; text-align: right;\">213293</td><td style = \"text-align: left;\">2023_05_25</td><td style = \"text-align: left;\">znuCp</td><td style = \"text-align: left;\">plasmid</td><td style = \"text-align: right;\">0.00061151</td><td style = \"text-align: left;\">Minimal Media + 0.5% Xylose + 0.5% Arabinose</td><td style = \"text-align: right;\">2</td><td style = \"text-align: right;\">35</td><td style = \"text-align: left;\">2</td><td style = \"text-align: right;\">0.0</td><td style = \"text-align: right;\">0.0</td></tr><tr><td class = \"rowNumber\" style = \"font-weight: bold; text-align: right;\">213294</td><td style = \"text-align: left;\">2023_05_25</td><td style = \"text-align: left;\">znuCp</td><td style = \"text-align: left;\">plasmid</td><td style = \"text-align: right;\">0.000618696</td><td style = \"text-align: left;\">Minimal Media + 0.5% Xylose + 0.5% Arabinose</td><td style = \"text-align: right;\">2</td><td style = \"text-align: right;\">36</td><td style = \"text-align: left;\">2</td><td style = \"text-align: right;\">0.0</td><td style = \"text-align: right;\">0.0</td></tr><tr><td class = \"rowNumber\" style = \"font-weight: bold; text-align: right;\">213295</td><td style = \"text-align: left;\">2023_05_25</td><td style = \"text-align: left;\">znuCp</td><td style = \"text-align: left;\">plasmid</td><td style = \"text-align: right;\">0.00102192</td><td style = \"text-align: left;\">Minimal Media + 0.5% Xylose + 0.5% Arabinose</td><td style = \"text-align: right;\">2</td><td style = \"text-align: right;\">37</td><td style = \"text-align: left;\">2</td><td style = \"text-align: right;\">0.0</td><td style = \"text-align: right;\">0.0</td></tr><tr><td class = \"rowNumber\" style = \"font-weight: bold; text-align: right;\">213296</td><td style = \"text-align: left;\">2023_05_25</td><td style = \"text-align: left;\">znuCp</td><td style = \"text-align: left;\">plasmid</td><td style = \"text-align: right;\">0.000676264</td><td style = \"text-align: left;\">Minimal Media + 0.5% Xylose + 0.5% Arabinose</td><td style = \"text-align: right;\">2</td><td style = \"text-align: right;\">38</td><td style = \"text-align: left;\">2</td><td style = \"text-align: right;\">0.0</td><td style = \"text-align: right;\">0.0</td></tr><tr><td class = \"rowNumber\" style = \"font-weight: bold; text-align: right;\">213297</td><td style = \"text-align: left;\">2023_05_25</td><td style = \"text-align: left;\">znuCp</td><td style = \"text-align: left;\">plasmid</td><td style = \"text-align: right;\">0.00127109</td><td style = \"text-align: left;\">Minimal Media + 0.5% Xylose + 0.5% Arabinose</td><td style = \"text-align: right;\">2</td><td style = \"text-align: right;\">39</td><td style = \"text-align: left;\">2</td><td style = \"text-align: right;\">0.0</td><td style = \"text-align: right;\">0.0</td></tr><tr><td class = \"rowNumber\" style = \"font-weight: bold; text-align: right;\">213298</td><td style = \"text-align: left;\">2023_05_25</td><td style = \"text-align: left;\">znuCp</td><td style = \"text-align: left;\">plasmid</td><td style = \"text-align: right;\">0.00145897</td><td style = \"text-align: left;\">Minimal Media + 0.5% Xylose + 0.5% Arabinose</td><td style = \"text-align: right;\">2</td><td style = \"text-align: right;\">40</td><td style = \"text-align: left;\">2</td><td style = \"text-align: right;\">0.0</td><td style = \"text-align: right;\">0.0</td></tr><tr><td class = \"rowNumber\" style = \"font-weight: bold; text-align: right;\">213299</td><td style = \"text-align: left;\">2023_05_25</td><td style = \"text-align: left;\">znuCp</td><td style = \"text-align: left;\">plasmid</td><td style = \"text-align: right;\">0.0013351</td><td style = \"text-align: left;\">Minimal Media + 0.5% Xylose + 0.5% Arabinose</td><td style = \"text-align: right;\">2</td><td style = \"text-align: right;\">41</td><td style = \"text-align: left;\">2</td><td style = \"text-align: right;\">0.0</td><td style = \"text-align: right;\">0.0</td></tr><tr><td class = \"rowNumber\" style = \"font-weight: bold; text-align: right;\">213300</td><td style = \"text-align: left;\">2023_05_25</td><td style = \"text-align: left;\">znuCp</td><td style = \"text-align: left;\">plasmid</td><td style = \"text-align: right;\">0.000914356</td><td style = \"text-align: left;\">Minimal Media + 0.5% Xylose + 0.5% Arabinose</td><td style = \"text-align: right;\">2</td><td style = \"text-align: right;\">42</td><td style = \"text-align: left;\">2</td><td style = \"text-align: right;\">0.0</td><td style = \"text-align: right;\">0.0</td></tr></tbody></table></div>"
      ],
      "text/latex": [
       "\\begin{tabular}{r|ccccccc}\n",
       "\t& date & promoter & source & mut\\_info & growth\\_condition & replicate & \\\\\n",
       "\t\\hline\n",
       "\t& String & String & String & Float64? & String & Int64 & \\\\\n",
       "\t\\hline\n",
       "\t1 & 2023\\_05\\_25 & TSS\\_1414\\_storz\\_regulondb & plasmid & 7.09873e-5 & LB & 1 & $\\dots$ \\\\\n",
       "\t2 & 2023\\_05\\_25 & TSS\\_1414\\_storz\\_regulondb & plasmid & 7.09873e-5 & LB & 1 & $\\dots$ \\\\\n",
       "\t3 & 2023\\_05\\_25 & TSS\\_1414\\_storz\\_regulondb & plasmid & 1.40207e-5 & LB & 1 & $\\dots$ \\\\\n",
       "\t4 & 2023\\_05\\_25 & TSS\\_1414\\_storz\\_regulondb & plasmid & 1.40207e-5 & LB & 1 & $\\dots$ \\\\\n",
       "\t5 & 2023\\_05\\_25 & TSS\\_1414\\_storz\\_regulondb & plasmid & 7.19716e-5 & LB & 1 & $\\dots$ \\\\\n",
       "\t6 & 2023\\_05\\_25 & TSS\\_1414\\_storz\\_regulondb & plasmid & 7.19716e-5 & LB & 1 & $\\dots$ \\\\\n",
       "\t7 & 2023\\_05\\_25 & TSS\\_1414\\_storz\\_regulondb & plasmid & 2.1791e-5 & LB & 1 & $\\dots$ \\\\\n",
       "\t8 & 2023\\_05\\_25 & TSS\\_1414\\_storz\\_regulondb & plasmid & 2.1791e-5 & LB & 1 & $\\dots$ \\\\\n",
       "\t9 & 2023\\_05\\_25 & TSS\\_1414\\_storz\\_regulondb & plasmid & 1.16899e-5 & LB & 1 & $\\dots$ \\\\\n",
       "\t10 & 2023\\_05\\_25 & TSS\\_1414\\_storz\\_regulondb & plasmid & 1.16899e-5 & LB & 1 & $\\dots$ \\\\\n",
       "\t11 & 2023\\_05\\_25 & TSS\\_1414\\_storz\\_regulondb & plasmid & 4.85577e-5 & LB & 1 & $\\dots$ \\\\\n",
       "\t12 & 2023\\_05\\_25 & TSS\\_1414\\_storz\\_regulondb & plasmid & 4.85577e-5 & LB & 1 & $\\dots$ \\\\\n",
       "\t13 & 2023\\_05\\_25 & TSS\\_1414\\_storz\\_regulondb & plasmid & 2.45007e-6 & LB & 1 & $\\dots$ \\\\\n",
       "\t14 & 2023\\_05\\_25 & TSS\\_1414\\_storz\\_regulondb & plasmid & 2.45007e-6 & LB & 1 & $\\dots$ \\\\\n",
       "\t15 & 2023\\_05\\_25 & TSS\\_1414\\_storz\\_regulondb & plasmid & 0.000179566 & LB & 1 & $\\dots$ \\\\\n",
       "\t16 & 2023\\_05\\_25 & TSS\\_1414\\_storz\\_regulondb & plasmid & 0.000179566 & LB & 1 & $\\dots$ \\\\\n",
       "\t17 & 2023\\_05\\_25 & TSS\\_1414\\_storz\\_regulondb & plasmid & 0.000186077 & LB & 1 & $\\dots$ \\\\\n",
       "\t18 & 2023\\_05\\_25 & TSS\\_1414\\_storz\\_regulondb & plasmid & 0.000186077 & LB & 1 & $\\dots$ \\\\\n",
       "\t19 & 2023\\_05\\_25 & TSS\\_1414\\_storz\\_regulondb & plasmid & 2.99843e-5 & LB & 1 & $\\dots$ \\\\\n",
       "\t20 & 2023\\_05\\_25 & TSS\\_1414\\_storz\\_regulondb & plasmid & 2.99843e-5 & LB & 1 & $\\dots$ \\\\\n",
       "\t21 & 2023\\_05\\_25 & TSS\\_1414\\_storz\\_regulondb & plasmid & 0.000346322 & LB & 1 & $\\dots$ \\\\\n",
       "\t22 & 2023\\_05\\_25 & TSS\\_1414\\_storz\\_regulondb & plasmid & 0.000346322 & LB & 1 & $\\dots$ \\\\\n",
       "\t23 & 2023\\_05\\_25 & TSS\\_1414\\_storz\\_regulondb & plasmid & 5.35113e-5 & LB & 1 & $\\dots$ \\\\\n",
       "\t24 & 2023\\_05\\_25 & TSS\\_1414\\_storz\\_regulondb & plasmid & 5.35113e-5 & LB & 1 & $\\dots$ \\\\\n",
       "\t25 & 2023\\_05\\_25 & TSS\\_1414\\_storz\\_regulondb & plasmid & 0.000137501 & LB & 1 & $\\dots$ \\\\\n",
       "\t26 & 2023\\_05\\_25 & TSS\\_1414\\_storz\\_regulondb & plasmid & 0.000137501 & LB & 1 & $\\dots$ \\\\\n",
       "\t27 & 2023\\_05\\_25 & TSS\\_1414\\_storz\\_regulondb & plasmid & 1.62841e-5 & LB & 1 & $\\dots$ \\\\\n",
       "\t28 & 2023\\_05\\_25 & TSS\\_1414\\_storz\\_regulondb & plasmid & 1.62841e-5 & LB & 1 & $\\dots$ \\\\\n",
       "\t29 & 2023\\_05\\_25 & TSS\\_1414\\_storz\\_regulondb & plasmid & 1.90509e-5 & LB & 1 & $\\dots$ \\\\\n",
       "\t30 & 2023\\_05\\_25 & TSS\\_1414\\_storz\\_regulondb & plasmid & 1.90509e-5 & LB & 1 & $\\dots$ \\\\\n",
       "\t$\\dots$ & $\\dots$ & $\\dots$ & $\\dots$ & $\\dots$ & $\\dots$ & $\\dots$ &  \\\\\n",
       "\\end{tabular}\n"
      ],
      "text/plain": [
       "\u001b[1m213300×10 DataFrame\u001b[0m\n",
       "\u001b[1m    Row \u001b[0m│\u001b[1m date       \u001b[0m\u001b[1m promoter                 \u001b[0m\u001b[1m source  \u001b[0m\u001b[1m mut_info    \u001b[0m\u001b[1m growth_c\u001b[0m ⋯\n",
       "        │\u001b[90m String     \u001b[0m\u001b[90m String                   \u001b[0m\u001b[90m String  \u001b[0m\u001b[90m Float64?    \u001b[0m\u001b[90m String  \u001b[0m ⋯\n",
       "────────┼───────────────────────────────────────────────────────────────────────\n",
       "      1 │ 2023_05_25  TSS_1414_storz_regulondb  plasmid  7.09873e-5   LB       ⋯\n",
       "      2 │ 2023_05_25  TSS_1414_storz_regulondb  plasmid  7.09873e-5   LB\n",
       "      3 │ 2023_05_25  TSS_1414_storz_regulondb  plasmid  1.40207e-5   LB\n",
       "      4 │ 2023_05_25  TSS_1414_storz_regulondb  plasmid  1.40207e-5   LB\n",
       "      5 │ 2023_05_25  TSS_1414_storz_regulondb  plasmid  7.19716e-5   LB       ⋯\n",
       "      6 │ 2023_05_25  TSS_1414_storz_regulondb  plasmid  7.19716e-5   LB\n",
       "      7 │ 2023_05_25  TSS_1414_storz_regulondb  plasmid  2.1791e-5    LB\n",
       "      8 │ 2023_05_25  TSS_1414_storz_regulondb  plasmid  2.1791e-5    LB\n",
       "      9 │ 2023_05_25  TSS_1414_storz_regulondb  plasmid  1.16899e-5   LB       ⋯\n",
       "     10 │ 2023_05_25  TSS_1414_storz_regulondb  plasmid  1.16899e-5   LB\n",
       "     11 │ 2023_05_25  TSS_1414_storz_regulondb  plasmid  4.85577e-5   LB\n",
       "   ⋮    │     ⋮                  ⋮                 ⋮          ⋮                ⋱\n",
       " 213291 │ 2023_05_25  znuCp                     plasmid  0.000782307  Minimal\n",
       " 213292 │ 2023_05_25  znuCp                     plasmid  0.000865426  Minimal  ⋯\n",
       " 213293 │ 2023_05_25  znuCp                     plasmid  0.00061151   Minimal\n",
       " 213294 │ 2023_05_25  znuCp                     plasmid  0.000618696  Minimal\n",
       " 213295 │ 2023_05_25  znuCp                     plasmid  0.00102192   Minimal\n",
       " 213296 │ 2023_05_25  znuCp                     plasmid  0.000676264  Minimal  ⋯\n",
       " 213297 │ 2023_05_25  znuCp                     plasmid  0.00127109   Minimal\n",
       " 213298 │ 2023_05_25  znuCp                     plasmid  0.00145897   Minimal\n",
       " 213299 │ 2023_05_25  znuCp                     plasmid  0.0013351    Minimal\n",
       " 213300 │ 2023_05_25  znuCp                     plasmid  0.000914356  Minimal  ⋯\n",
       "\u001b[36m                                               6 columns and 213279 rows omitted\u001b[0m"
      ]
     },
     "execution_count": 148,
     "metadata": {},
     "output_type": "execute_result"
    }
   ],
   "source": [
    "df_fin"
   ]
  },
  {
   "cell_type": "code",
   "execution_count": 151,
   "metadata": {},
   "outputs": [
    {
     "data": {
      "text/html": [
       "<div><div style = \"float: left;\"><span>1896×10 DataFrame</span></div><div style = \"float: right;\"><span style = \"font-style: italic;\">1871 rows omitted</span></div><div style = \"clear: both;\"></div></div><div class = \"data-frame\" style = \"overflow-x: scroll;\"><table class = \"data-frame\" style = \"margin-bottom: 6px;\"><thead><tr class = \"header\"><th class = \"rowNumber\" style = \"font-weight: bold; text-align: right;\">Row</th><th style = \"text-align: left;\">date</th><th style = \"text-align: left;\">promoter</th><th style = \"text-align: left;\">source</th><th style = \"text-align: left;\">mut_info</th><th style = \"text-align: left;\">growth_condition</th><th style = \"text-align: left;\">replicate</th><th style = \"text-align: left;\">pos</th><th style = \"text-align: left;\">d</th><th style = \"text-align: left;\">footprint</th><th style = \"text-align: left;\">footprint_test</th></tr><tr class = \"subheader headerLastRow\"><th class = \"rowNumber\" style = \"font-weight: bold; text-align: right;\"></th><th title = \"String\" style = \"text-align: left;\">String</th><th title = \"String\" style = \"text-align: left;\">String</th><th title = \"String\" style = \"text-align: left;\">String</th><th title = \"Union{Missing, Float64}\" style = \"text-align: left;\">Float64?</th><th title = \"String\" style = \"text-align: left;\">String</th><th title = \"Int64\" style = \"text-align: left;\">Int64</th><th title = \"Int64\" style = \"text-align: left;\">Int64</th><th title = \"String\" style = \"text-align: left;\">String</th><th title = \"Union{Missing, Float64}\" style = \"text-align: left;\">Float64?</th><th title = \"Union{Missing, Float64}\" style = \"text-align: left;\">Float64?</th></tr></thead><tbody><tr><td class = \"rowNumber\" style = \"font-weight: bold; text-align: right;\">1</td><td style = \"text-align: left;\">2023_05_25</td><td style = \"text-align: left;\">ompRp3</td><td style = \"text-align: left;\">plasmid</td><td style = \"text-align: right;\">3.20638e-5</td><td style = \"text-align: left;\">LB</td><td style = \"text-align: right;\">1</td><td style = \"text-align: right;\">-115</td><td style = \"text-align: left;\">0</td><td style = \"text-align: right;\">3.08372e-7</td><td style = \"text-align: right;\">0.0</td></tr><tr><td class = \"rowNumber\" style = \"font-weight: bold; text-align: right;\">2</td><td style = \"text-align: left;\">2023_05_25</td><td style = \"text-align: left;\">ompRp3</td><td style = \"text-align: left;\">plasmid</td><td style = \"text-align: right;\">9.64902e-5</td><td style = \"text-align: left;\">LB</td><td style = \"text-align: right;\">1</td><td style = \"text-align: right;\">-114</td><td style = \"text-align: left;\">0</td><td style = \"text-align: right;\">1.67331e-7</td><td style = \"text-align: right;\">0.0</td></tr><tr><td class = \"rowNumber\" style = \"font-weight: bold; text-align: right;\">3</td><td style = \"text-align: left;\">2023_05_25</td><td style = \"text-align: left;\">ompRp3</td><td style = \"text-align: left;\">plasmid</td><td style = \"text-align: right;\">0.000248037</td><td style = \"text-align: left;\">LB</td><td style = \"text-align: right;\">1</td><td style = \"text-align: right;\">-113</td><td style = \"text-align: left;\">0</td><td style = \"text-align: right;\">7.05064e-8</td><td style = \"text-align: right;\">0.0</td></tr><tr><td class = \"rowNumber\" style = \"font-weight: bold; text-align: right;\">4</td><td style = \"text-align: left;\">2023_05_25</td><td style = \"text-align: left;\">ompRp3</td><td style = \"text-align: left;\">plasmid</td><td style = \"text-align: right;\">9.40705e-5</td><td style = \"text-align: left;\">LB</td><td style = \"text-align: right;\">1</td><td style = \"text-align: right;\">-112</td><td style = \"text-align: left;\">0</td><td style = \"text-align: right;\">2.19596e-7</td><td style = \"text-align: right;\">0.0</td></tr><tr><td class = \"rowNumber\" style = \"font-weight: bold; text-align: right;\">5</td><td style = \"text-align: left;\">2023_05_25</td><td style = \"text-align: left;\">ompRp3</td><td style = \"text-align: left;\">plasmid</td><td style = \"text-align: right;\">4.18643e-5</td><td style = \"text-align: left;\">LB</td><td style = \"text-align: right;\">1</td><td style = \"text-align: right;\">-111</td><td style = \"text-align: left;\">0</td><td style = \"text-align: right;\">1.51027e-7</td><td style = \"text-align: right;\">0.0</td></tr><tr><td class = \"rowNumber\" style = \"font-weight: bold; text-align: right;\">6</td><td style = \"text-align: left;\">2023_05_25</td><td style = \"text-align: left;\">ompRp3</td><td style = \"text-align: left;\">plasmid</td><td style = \"text-align: right;\">0.000155394</td><td style = \"text-align: left;\">LB</td><td style = \"text-align: right;\">1</td><td style = \"text-align: right;\">-110</td><td style = \"text-align: left;\">0</td><td style = \"text-align: right;\">2.59579e-7</td><td style = \"text-align: right;\">0.0</td></tr><tr><td class = \"rowNumber\" style = \"font-weight: bold; text-align: right;\">7</td><td style = \"text-align: left;\">2023_05_25</td><td style = \"text-align: left;\">ompRp3</td><td style = \"text-align: left;\">plasmid</td><td style = \"text-align: right;\">2.60541e-5</td><td style = \"text-align: left;\">LB</td><td style = \"text-align: right;\">1</td><td style = \"text-align: right;\">-109</td><td style = \"text-align: left;\">0</td><td style = \"text-align: right;\">9.62142e-8</td><td style = \"text-align: right;\">0.0</td></tr><tr><td class = \"rowNumber\" style = \"font-weight: bold; text-align: right;\">8</td><td style = \"text-align: left;\">2023_05_25</td><td style = \"text-align: left;\">ompRp3</td><td style = \"text-align: left;\">plasmid</td><td style = \"text-align: right;\">8.28819e-5</td><td style = \"text-align: left;\">LB</td><td style = \"text-align: right;\">1</td><td style = \"text-align: right;\">-108</td><td style = \"text-align: left;\">0</td><td style = \"text-align: right;\">2.24269e-7</td><td style = \"text-align: right;\">0.0</td></tr><tr><td class = \"rowNumber\" style = \"font-weight: bold; text-align: right;\">9</td><td style = \"text-align: left;\">2023_05_25</td><td style = \"text-align: left;\">ompRp3</td><td style = \"text-align: left;\">plasmid</td><td style = \"text-align: right;\">8.7656e-6</td><td style = \"text-align: left;\">LB</td><td style = \"text-align: right;\">1</td><td style = \"text-align: right;\">-107</td><td style = \"text-align: left;\">0</td><td style = \"text-align: right;\">1.30273e-7</td><td style = \"text-align: right;\">0.0</td></tr><tr><td class = \"rowNumber\" style = \"font-weight: bold; text-align: right;\">10</td><td style = \"text-align: left;\">2023_05_25</td><td style = \"text-align: left;\">ompRp3</td><td style = \"text-align: left;\">plasmid</td><td style = \"text-align: right;\">2.52449e-6</td><td style = \"text-align: left;\">LB</td><td style = \"text-align: right;\">1</td><td style = \"text-align: right;\">-106</td><td style = \"text-align: left;\">0</td><td style = \"text-align: right;\">1.22126e-7</td><td style = \"text-align: right;\">0.0</td></tr><tr><td class = \"rowNumber\" style = \"font-weight: bold; text-align: right;\">11</td><td style = \"text-align: left;\">2023_05_25</td><td style = \"text-align: left;\">ompRp3</td><td style = \"text-align: left;\">plasmid</td><td style = \"text-align: right;\">2.15412e-6</td><td style = \"text-align: left;\">LB</td><td style = \"text-align: right;\">1</td><td style = \"text-align: right;\">-105</td><td style = \"text-align: left;\">0</td><td style = \"text-align: right;\">7.69916e-8</td><td style = \"text-align: right;\">0.0</td></tr><tr><td class = \"rowNumber\" style = \"font-weight: bold; text-align: right;\">12</td><td style = \"text-align: left;\">2023_05_25</td><td style = \"text-align: left;\">ompRp3</td><td style = \"text-align: left;\">plasmid</td><td style = \"text-align: right;\">3.34209e-5</td><td style = \"text-align: left;\">LB</td><td style = \"text-align: right;\">1</td><td style = \"text-align: right;\">-104</td><td style = \"text-align: left;\">0</td><td style = \"text-align: right;\">3.23282e-7</td><td style = \"text-align: right;\">0.0</td></tr><tr><td class = \"rowNumber\" style = \"font-weight: bold; text-align: right;\">13</td><td style = \"text-align: left;\">2023_05_25</td><td style = \"text-align: left;\">ompRp3</td><td style = \"text-align: left;\">plasmid</td><td style = \"text-align: right;\">6.51256e-5</td><td style = \"text-align: left;\">LB</td><td style = \"text-align: right;\">1</td><td style = \"text-align: right;\">-103</td><td style = \"text-align: left;\">0</td><td style = \"text-align: right;\">2.85518e-7</td><td style = \"text-align: right;\">0.0</td></tr><tr><td style = \"text-align: right;\">&vellip;</td><td style = \"text-align: right;\">&vellip;</td><td style = \"text-align: right;\">&vellip;</td><td style = \"text-align: right;\">&vellip;</td><td style = \"text-align: right;\">&vellip;</td><td style = \"text-align: right;\">&vellip;</td><td style = \"text-align: right;\">&vellip;</td><td style = \"text-align: right;\">&vellip;</td><td style = \"text-align: right;\">&vellip;</td><td style = \"text-align: right;\">&vellip;</td><td style = \"text-align: right;\">&vellip;</td></tr><tr><td class = \"rowNumber\" style = \"font-weight: bold; text-align: right;\">1885</td><td style = \"text-align: left;\">2023_05_25</td><td style = \"text-align: left;\">ompRp3</td><td style = \"text-align: left;\">plasmid</td><td style = \"text-align: right;\">5.99494e-5</td><td style = \"text-align: left;\">Minimal Media + 0.5% Xylose + 0.5% Arabinose</td><td style = \"text-align: right;\">2</td><td style = \"text-align: right;\">31</td><td style = \"text-align: left;\">2</td><td style = \"text-align: right;\">5.19891e-7</td><td style = \"text-align: right;\">0.0</td></tr><tr><td class = \"rowNumber\" style = \"font-weight: bold; text-align: right;\">1886</td><td style = \"text-align: left;\">2023_05_25</td><td style = \"text-align: left;\">ompRp3</td><td style = \"text-align: left;\">plasmid</td><td style = \"text-align: right;\">4.38803e-5</td><td style = \"text-align: left;\">Minimal Media + 0.5% Xylose + 0.5% Arabinose</td><td style = \"text-align: right;\">2</td><td style = \"text-align: right;\">32</td><td style = \"text-align: left;\">2</td><td style = \"text-align: right;\">5.34023e-7</td><td style = \"text-align: right;\">0.0</td></tr><tr><td class = \"rowNumber\" style = \"font-weight: bold; text-align: right;\">1887</td><td style = \"text-align: left;\">2023_05_25</td><td style = \"text-align: left;\">ompRp3</td><td style = \"text-align: left;\">plasmid</td><td style = \"text-align: right;\">0.000102378</td><td style = \"text-align: left;\">Minimal Media + 0.5% Xylose + 0.5% Arabinose</td><td style = \"text-align: right;\">2</td><td style = \"text-align: right;\">33</td><td style = \"text-align: left;\">2</td><td style = \"text-align: right;\">3.34768e-7</td><td style = \"text-align: right;\">0.0</td></tr><tr><td class = \"rowNumber\" style = \"font-weight: bold; text-align: right;\">1888</td><td style = \"text-align: left;\">2023_05_25</td><td style = \"text-align: left;\">ompRp3</td><td style = \"text-align: left;\">plasmid</td><td style = \"text-align: right;\">0.000105107</td><td style = \"text-align: left;\">Minimal Media + 0.5% Xylose + 0.5% Arabinose</td><td style = \"text-align: right;\">2</td><td style = \"text-align: right;\">34</td><td style = \"text-align: left;\">2</td><td style = \"text-align: right;\">3.27243e-7</td><td style = \"text-align: right;\">0.0</td></tr><tr><td class = \"rowNumber\" style = \"font-weight: bold; text-align: right;\">1889</td><td style = \"text-align: left;\">2023_05_25</td><td style = \"text-align: left;\">ompRp3</td><td style = \"text-align: left;\">plasmid</td><td style = \"text-align: right;\">0.000155536</td><td style = \"text-align: left;\">Minimal Media + 0.5% Xylose + 0.5% Arabinose</td><td style = \"text-align: right;\">2</td><td style = \"text-align: right;\">35</td><td style = \"text-align: left;\">2</td><td style = \"text-align: right;\">2.99066e-7</td><td style = \"text-align: right;\">0.0</td></tr><tr><td class = \"rowNumber\" style = \"font-weight: bold; text-align: right;\">1890</td><td style = \"text-align: left;\">2023_05_25</td><td style = \"text-align: left;\">ompRp3</td><td style = \"text-align: left;\">plasmid</td><td style = \"text-align: right;\">0.000204873</td><td style = \"text-align: left;\">Minimal Media + 0.5% Xylose + 0.5% Arabinose</td><td style = \"text-align: right;\">2</td><td style = \"text-align: right;\">36</td><td style = \"text-align: left;\">2</td><td style = \"text-align: right;\">3.03717e-7</td><td style = \"text-align: right;\">0.0</td></tr><tr><td class = \"rowNumber\" style = \"font-weight: bold; text-align: right;\">1891</td><td style = \"text-align: left;\">2023_05_25</td><td style = \"text-align: left;\">ompRp3</td><td style = \"text-align: left;\">plasmid</td><td style = \"text-align: right;\">0.00019993</td><td style = \"text-align: left;\">Minimal Media + 0.5% Xylose + 0.5% Arabinose</td><td style = \"text-align: right;\">2</td><td style = \"text-align: right;\">37</td><td style = \"text-align: left;\">2</td><td style = \"text-align: right;\">4.14987e-7</td><td style = \"text-align: right;\">0.0</td></tr><tr><td class = \"rowNumber\" style = \"font-weight: bold; text-align: right;\">1892</td><td style = \"text-align: left;\">2023_05_25</td><td style = \"text-align: left;\">ompRp3</td><td style = \"text-align: left;\">plasmid</td><td style = \"text-align: right;\">0.000183528</td><td style = \"text-align: left;\">Minimal Media + 0.5% Xylose + 0.5% Arabinose</td><td style = \"text-align: right;\">2</td><td style = \"text-align: right;\">38</td><td style = \"text-align: left;\">2</td><td style = \"text-align: right;\">5.57243e-7</td><td style = \"text-align: right;\">0.0</td></tr><tr><td class = \"rowNumber\" style = \"font-weight: bold; text-align: right;\">1893</td><td style = \"text-align: left;\">2023_05_25</td><td style = \"text-align: left;\">ompRp3</td><td style = \"text-align: left;\">plasmid</td><td style = \"text-align: right;\">0.000188153</td><td style = \"text-align: left;\">Minimal Media + 0.5% Xylose + 0.5% Arabinose</td><td style = \"text-align: right;\">2</td><td style = \"text-align: right;\">39</td><td style = \"text-align: left;\">2</td><td style = \"text-align: right;\">5.95702e-7</td><td style = \"text-align: right;\">0.0</td></tr><tr><td class = \"rowNumber\" style = \"font-weight: bold; text-align: right;\">1894</td><td style = \"text-align: left;\">2023_05_25</td><td style = \"text-align: left;\">ompRp3</td><td style = \"text-align: left;\">plasmid</td><td style = \"text-align: right;\">0.000232945</td><td style = \"text-align: left;\">Minimal Media + 0.5% Xylose + 0.5% Arabinose</td><td style = \"text-align: right;\">2</td><td style = \"text-align: right;\">40</td><td style = \"text-align: left;\">2</td><td style = \"text-align: right;\">5.38061e-7</td><td style = \"text-align: right;\">0.0</td></tr><tr><td class = \"rowNumber\" style = \"font-weight: bold; text-align: right;\">1895</td><td style = \"text-align: left;\">2023_05_25</td><td style = \"text-align: left;\">ompRp3</td><td style = \"text-align: left;\">plasmid</td><td style = \"text-align: right;\">0.000355654</td><td style = \"text-align: left;\">Minimal Media + 0.5% Xylose + 0.5% Arabinose</td><td style = \"text-align: right;\">2</td><td style = \"text-align: right;\">41</td><td style = \"text-align: left;\">2</td><td style = \"text-align: right;\">5.42872e-7</td><td style = \"text-align: right;\">0.0</td></tr><tr><td class = \"rowNumber\" style = \"font-weight: bold; text-align: right;\">1896</td><td style = \"text-align: left;\">2023_05_25</td><td style = \"text-align: left;\">ompRp3</td><td style = \"text-align: left;\">plasmid</td><td style = \"text-align: right;\">0.000352156</td><td style = \"text-align: left;\">Minimal Media + 0.5% Xylose + 0.5% Arabinose</td><td style = \"text-align: right;\">2</td><td style = \"text-align: right;\">42</td><td style = \"text-align: left;\">2</td><td style = \"text-align: right;\">4.88421e-7</td><td style = \"text-align: right;\">0.0</td></tr></tbody></table></div>"
      ],
      "text/latex": [
       "\\begin{tabular}{r|cccccccc}\n",
       "\t& date & promoter & source & mut\\_info & growth\\_condition & replicate & pos & \\\\\n",
       "\t\\hline\n",
       "\t& String & String & String & Float64? & String & Int64 & Int64 & \\\\\n",
       "\t\\hline\n",
       "\t1 & 2023\\_05\\_25 & ompRp3 & plasmid & 3.20638e-5 & LB & 1 & -115 & $\\dots$ \\\\\n",
       "\t2 & 2023\\_05\\_25 & ompRp3 & plasmid & 9.64902e-5 & LB & 1 & -114 & $\\dots$ \\\\\n",
       "\t3 & 2023\\_05\\_25 & ompRp3 & plasmid & 0.000248037 & LB & 1 & -113 & $\\dots$ \\\\\n",
       "\t4 & 2023\\_05\\_25 & ompRp3 & plasmid & 9.40705e-5 & LB & 1 & -112 & $\\dots$ \\\\\n",
       "\t5 & 2023\\_05\\_25 & ompRp3 & plasmid & 4.18643e-5 & LB & 1 & -111 & $\\dots$ \\\\\n",
       "\t6 & 2023\\_05\\_25 & ompRp3 & plasmid & 0.000155394 & LB & 1 & -110 & $\\dots$ \\\\\n",
       "\t7 & 2023\\_05\\_25 & ompRp3 & plasmid & 2.60541e-5 & LB & 1 & -109 & $\\dots$ \\\\\n",
       "\t8 & 2023\\_05\\_25 & ompRp3 & plasmid & 8.28819e-5 & LB & 1 & -108 & $\\dots$ \\\\\n",
       "\t9 & 2023\\_05\\_25 & ompRp3 & plasmid & 8.7656e-6 & LB & 1 & -107 & $\\dots$ \\\\\n",
       "\t10 & 2023\\_05\\_25 & ompRp3 & plasmid & 2.52449e-6 & LB & 1 & -106 & $\\dots$ \\\\\n",
       "\t11 & 2023\\_05\\_25 & ompRp3 & plasmid & 2.15412e-6 & LB & 1 & -105 & $\\dots$ \\\\\n",
       "\t12 & 2023\\_05\\_25 & ompRp3 & plasmid & 3.34209e-5 & LB & 1 & -104 & $\\dots$ \\\\\n",
       "\t13 & 2023\\_05\\_25 & ompRp3 & plasmid & 6.51256e-5 & LB & 1 & -103 & $\\dots$ \\\\\n",
       "\t14 & 2023\\_05\\_25 & ompRp3 & plasmid & 4.37582e-6 & LB & 1 & -102 & $\\dots$ \\\\\n",
       "\t15 & 2023\\_05\\_25 & ompRp3 & plasmid & 0.00115267 & LB & 1 & -101 & $\\dots$ \\\\\n",
       "\t16 & 2023\\_05\\_25 & ompRp3 & plasmid & 1.36285e-5 & LB & 1 & -100 & $\\dots$ \\\\\n",
       "\t17 & 2023\\_05\\_25 & ompRp3 & plasmid & 4.43653e-6 & LB & 1 & -99 & $\\dots$ \\\\\n",
       "\t18 & 2023\\_05\\_25 & ompRp3 & plasmid & 1.71901e-6 & LB & 1 & -98 & $\\dots$ \\\\\n",
       "\t19 & 2023\\_05\\_25 & ompRp3 & plasmid & 3.38513e-5 & LB & 1 & -97 & $\\dots$ \\\\\n",
       "\t20 & 2023\\_05\\_25 & ompRp3 & plasmid & 0.00018744 & LB & 1 & -96 & $\\dots$ \\\\\n",
       "\t21 & 2023\\_05\\_25 & ompRp3 & plasmid & 6.30699e-5 & LB & 1 & -95 & $\\dots$ \\\\\n",
       "\t22 & 2023\\_05\\_25 & ompRp3 & plasmid & 4.90163e-6 & LB & 1 & -94 & $\\dots$ \\\\\n",
       "\t23 & 2023\\_05\\_25 & ompRp3 & plasmid & 0.00154551 & LB & 1 & -93 & $\\dots$ \\\\\n",
       "\t24 & 2023\\_05\\_25 & ompRp3 & plasmid & 2.19282e-5 & LB & 1 & -92 & $\\dots$ \\\\\n",
       "\t25 & 2023\\_05\\_25 & ompRp3 & plasmid & 2.47606e-5 & LB & 1 & -91 & $\\dots$ \\\\\n",
       "\t26 & 2023\\_05\\_25 & ompRp3 & plasmid & 1.23691e-6 & LB & 1 & -90 & $\\dots$ \\\\\n",
       "\t27 & 2023\\_05\\_25 & ompRp3 & plasmid & 0.000817273 & LB & 1 & -89 & $\\dots$ \\\\\n",
       "\t28 & 2023\\_05\\_25 & ompRp3 & plasmid & 5.88726e-5 & LB & 1 & -88 & $\\dots$ \\\\\n",
       "\t29 & 2023\\_05\\_25 & ompRp3 & plasmid & 4.75434e-5 & LB & 1 & -87 & $\\dots$ \\\\\n",
       "\t30 & 2023\\_05\\_25 & ompRp3 & plasmid & 2.35907e-5 & LB & 1 & -86 & $\\dots$ \\\\\n",
       "\t$\\dots$ & $\\dots$ & $\\dots$ & $\\dots$ & $\\dots$ & $\\dots$ & $\\dots$ & $\\dots$ &  \\\\\n",
       "\\end{tabular}\n"
      ],
      "text/plain": [
       "\u001b[1m1896×10 DataFrame\u001b[0m\n",
       "\u001b[1m  Row \u001b[0m│\u001b[1m date       \u001b[0m\u001b[1m promoter \u001b[0m\u001b[1m source  \u001b[0m\u001b[1m mut_info    \u001b[0m\u001b[1m growth_condition          \u001b[0m ⋯\n",
       "      │\u001b[90m String     \u001b[0m\u001b[90m String   \u001b[0m\u001b[90m String  \u001b[0m\u001b[90m Float64?    \u001b[0m\u001b[90m String                    \u001b[0m ⋯\n",
       "──────┼─────────────────────────────────────────────────────────────────────────\n",
       "    1 │ 2023_05_25  ompRp3    plasmid  3.20638e-5   LB                         ⋯\n",
       "    2 │ 2023_05_25  ompRp3    plasmid  9.64902e-5   LB\n",
       "    3 │ 2023_05_25  ompRp3    plasmid  0.000248037  LB\n",
       "    4 │ 2023_05_25  ompRp3    plasmid  9.40705e-5   LB\n",
       "    5 │ 2023_05_25  ompRp3    plasmid  4.18643e-5   LB                         ⋯\n",
       "    6 │ 2023_05_25  ompRp3    plasmid  0.000155394  LB\n",
       "    7 │ 2023_05_25  ompRp3    plasmid  2.60541e-5   LB\n",
       "    8 │ 2023_05_25  ompRp3    plasmid  8.28819e-5   LB\n",
       "    9 │ 2023_05_25  ompRp3    plasmid  8.7656e-6    LB                         ⋯\n",
       "   10 │ 2023_05_25  ompRp3    plasmid  2.52449e-6   LB\n",
       "   11 │ 2023_05_25  ompRp3    plasmid  2.15412e-6   LB\n",
       "  ⋮   │     ⋮          ⋮         ⋮          ⋮                       ⋮          ⋱\n",
       " 1887 │ 2023_05_25  ompRp3    plasmid  0.000102378  Minimal Media + 0.5% Xylos\n",
       " 1888 │ 2023_05_25  ompRp3    plasmid  0.000105107  Minimal Media + 0.5% Xylos ⋯\n",
       " 1889 │ 2023_05_25  ompRp3    plasmid  0.000155536  Minimal Media + 0.5% Xylos\n",
       " 1890 │ 2023_05_25  ompRp3    plasmid  0.000204873  Minimal Media + 0.5% Xylos\n",
       " 1891 │ 2023_05_25  ompRp3    plasmid  0.00019993   Minimal Media + 0.5% Xylos\n",
       " 1892 │ 2023_05_25  ompRp3    plasmid  0.000183528  Minimal Media + 0.5% Xylos ⋯\n",
       " 1893 │ 2023_05_25  ompRp3    plasmid  0.000188153  Minimal Media + 0.5% Xylos\n",
       " 1894 │ 2023_05_25  ompRp3    plasmid  0.000232945  Minimal Media + 0.5% Xylos\n",
       " 1895 │ 2023_05_25  ompRp3    plasmid  0.000355654  Minimal Media + 0.5% Xylos\n",
       " 1896 │ 2023_05_25  ompRp3    plasmid  0.000352156  Minimal Media + 0.5% Xylos ⋯\n",
       "\u001b[36m                                                 6 columns and 1875 rows omitted\u001b[0m"
      ]
     },
     "execution_count": 151,
     "metadata": {},
     "output_type": "execute_result"
    }
   ],
   "source": [
    "df_fin[df_fin.promoter .== \"ompRp3\", :]"
   ]
  },
  {
   "cell_type": "code",
   "execution_count": 157,
   "metadata": {},
   "outputs": [
    {
     "data": {
      "text/plain": [
       "\"AGCTTTTCATTCTGACTGCAACGGGCAATATGTCTCTGTGTGGATTAAAAAAAGAGTGTCTGATAGCAGCTTCTGAACTGGTTACCTGCCGTGAGTAAATTAAAATTTTATTGACTTAGGTCACTAAATACTTTAACCAATATAGGCATAGCGCACAGACAGATAAAAATTACAGAGTACACAACATCCATGAAACGCATTAGCACCACCATTACCACCACCATCACCATTACCACAGGTAACGGTGCGGGCTGACGCGTACAGGAAAC\" ⋯ 4641115 bytes ⋯ \"GATGGTCTATTGCTATCAATTAGCAACATTAATACAACAACCGGCGAAAAGTGATGCAACGGCAGACCAACATCAACTGCAAGCTTTACGCGAACGAGCCATGACATTGCTGACGACTCTGGCAGTGGCAGATGACATAAAACTGGTCGACTGGTTACAACAACGCCTGGGGCTTTTAGAGCAACGAGACACGGCAATGTTGCACCGTTTGCTGCATGATATTGAAAAAAATATCACCAAATAAAAAACGCCTTAGTAAGTATTTTTC\""
      ]
     },
     "execution_count": 157,
     "metadata": {},
     "output_type": "execute_result"
    }
   ],
   "source": [
    "df_twist = wgregseq.utils.import_twist_order(\"../../../data/twist_orders/2022-02-15_twist_order.csv\")\n",
    "unique(df_twist[!, [:genes, :promoter]])\n",
    "\n",
    "wt_seqs = df_twist[1:1501:end, :]\n",
    "\n",
    "# Import genome\n",
    "re = open(FASTA.Reader, \"../../../data/ecocyc/mg1655_genome.fasta\")\n",
    "wt_sequence = [sequence(record) for record in re][1]"
   ]
  },
  {
   "cell_type": "code",
   "execution_count": 175,
   "metadata": {},
   "outputs": [
    {
     "data": {
      "text/plain": [
       "false"
      ]
     },
     "execution_count": 175,
     "metadata": {},
     "output_type": "execute_result"
    }
   ],
   "source": [
    "occursin(string(wt_sequence), string(wt_seqs[1, :sequence][27:186]))"
   ]
  },
  {
   "cell_type": "code",
   "execution_count": 182,
   "metadata": {},
   "outputs": [
    {
     "data": {
      "text/plain": [
       "true"
      ]
     },
     "execution_count": 182,
     "metadata": {},
     "output_type": "execute_result"
    }
   ],
   "source": [
    "occursin(reverse_complement(string(wt_seqs[1, :sequence][27:186])), string(wt_sequence))"
   ]
  },
  {
   "cell_type": "code",
   "execution_count": 185,
   "metadata": {},
   "outputs": [
    {
     "data": {
      "text/plain": [
       "1"
      ]
     },
     "execution_count": 185,
     "metadata": {},
     "output_type": "execute_result"
    }
   ],
   "source": [
    "findall(reverse_complement(string(wt_seqs[1, :sequence][27:186])), string(wt_sequence)) |> length"
   ]
  },
  {
   "cell_type": "code",
   "execution_count": 191,
   "metadata": {},
   "outputs": [
    {
     "data": {
      "text/html": [
       "<div><div style = \"float: left;\"><span>119×3 DataFrame</span></div><div style = \"float: right;\"><span style = \"font-style: italic;\">94 rows omitted</span></div><div style = \"clear: both;\"></div></div><div class = \"data-frame\" style = \"overflow-x: scroll;\"><table class = \"data-frame\" style = \"margin-bottom: 6px;\"><thead><tr class = \"header\"><th class = \"rowNumber\" style = \"font-weight: bold; text-align: right;\">Row</th><th style = \"text-align: left;\">location</th><th style = \"text-align: left;\">direction</th><th style = \"text-align: left;\">promoter</th></tr><tr class = \"subheader headerLastRow\"><th class = \"rowNumber\" style = \"font-weight: bold; text-align: right;\"></th><th title = \"Any\" style = \"text-align: left;\">Any</th><th title = \"Any\" style = \"text-align: left;\">Any</th><th title = \"Any\" style = \"text-align: left;\">Any</th></tr></thead><tbody><tr><td class = \"rowNumber\" style = \"font-weight: bold; text-align: right;\">1</td><td style = \"text-align: left;\">1655126:1655285</td><td style = \"text-align: left;\">-</td><td style = \"text-align: left;\">rspAp</td></tr><tr><td class = \"rowNumber\" style = \"font-weight: bold; text-align: right;\">2</td><td style = \"text-align: left;\">70030:70189</td><td style = \"text-align: left;\">-</td><td style = \"text-align: left;\">araBp</td></tr><tr><td class = \"rowNumber\" style = \"font-weight: bold; text-align: right;\">3</td><td style = \"text-align: left;\">1942520:1942679</td><td style = \"text-align: left;\">+</td><td style = \"text-align: left;\">znuCp</td></tr><tr><td class = \"rowNumber\" style = \"font-weight: bold; text-align: right;\">4</td><td style = \"text-align: left;\">3730762:3730921</td><td style = \"text-align: left;\">-</td><td style = \"text-align: left;\">xylAp</td></tr><tr><td class = \"rowNumber\" style = \"font-weight: bold; text-align: right;\">5</td><td style = \"text-align: left;\">3730955:3731114</td><td style = \"text-align: left;\">+</td><td style = \"text-align: left;\">xylFp</td></tr><tr><td class = \"rowNumber\" style = \"font-weight: bold; text-align: right;\">6</td><td style = \"text-align: left;\">1647831:1647990</td><td style = \"text-align: left;\">-</td><td style = \"text-align: left;\">dicCp</td></tr><tr><td class = \"rowNumber\" style = \"font-weight: bold; text-align: right;\">7</td><td style = \"text-align: left;\">1645858:1646017</td><td style = \"text-align: left;\">-</td><td style = \"text-align: left;\">relBp</td></tr><tr><td class = \"rowNumber\" style = \"font-weight: bold; text-align: right;\">8</td><td style = \"text-align: left;\">932815:932974</td><td style = \"text-align: left;\">+</td><td style = \"text-align: left;\">ftsKp2</td></tr><tr><td class = \"rowNumber\" style = \"font-weight: bold; text-align: right;\">9</td><td style = \"text-align: left;\">933024:933183</td><td style = \"text-align: left;\">+</td><td style = \"text-align: left;\">ftsKp1</td></tr><tr><td class = \"rowNumber\" style = \"font-weight: bold; text-align: right;\">10</td><td style = \"text-align: left;\">367493:367652</td><td style = \"text-align: left;\">-</td><td style = \"text-align: left;\">lacIp</td></tr><tr><td class = \"rowNumber\" style = \"font-weight: bold; text-align: right;\">11</td><td style = \"text-align: left;\">368483:368642</td><td style = \"text-align: left;\">-</td><td style = \"text-align: left;\">mhpRp2</td></tr><tr><td class = \"rowNumber\" style = \"font-weight: bold; text-align: right;\">12</td><td style = \"text-align: left;\">368491:368650</td><td style = \"text-align: left;\">-</td><td style = \"text-align: left;\">mhpRp1</td></tr><tr><td class = \"rowNumber\" style = \"font-weight: bold; text-align: right;\">13</td><td style = \"text-align: left;\">1618979:1619138</td><td style = \"text-align: left;\">+</td><td style = \"text-align: left;\">marRp</td></tr><tr><td style = \"text-align: right;\">&vellip;</td><td style = \"text-align: right;\">&vellip;</td><td style = \"text-align: right;\">&vellip;</td><td style = \"text-align: right;\">&vellip;</td></tr><tr><td class = \"rowNumber\" style = \"font-weight: bold; text-align: right;\">108</td><td style = \"text-align: left;\">1201587:1201746</td><td style = \"text-align: left;\">-</td><td style = \"text-align: left;\">intE_xisE_ymfH_predicted</td></tr><tr><td class = \"rowNumber\" style = \"font-weight: bold; text-align: right;\">109</td><td style = \"text-align: left;\">1202574:1202733</td><td style = \"text-align: left;\">+</td><td style = \"text-align: left;\">ymfM_beeE_jayE_ymfL_ymfR_tfaP_ymfT_ymfN_ycfK_ymfQ_predicted</td></tr><tr><td class = \"rowNumber\" style = \"font-weight: bold; text-align: right;\">110</td><td style = \"text-align: left;\">1209678:1209837</td><td style = \"text-align: left;\">-</td><td style = \"text-align: left;\">tfaE_stfE_predicted</td></tr><tr><td class = \"rowNumber\" style = \"font-weight: bold; text-align: right;\">111</td><td style = \"text-align: left;\">1211089:1211248</td><td style = \"text-align: left;\">+</td><td style = \"text-align: left;\">icdC_predicted</td></tr><tr><td class = \"rowNumber\" style = \"font-weight: bold; text-align: right;\">112</td><td style = \"text-align: left;\">863505:863664</td><td style = \"text-align: left;\">-</td><td style = \"text-align: left;\">ybiY_ybiW_predicted</td></tr><tr><td class = \"rowNumber\" style = \"font-weight: bold; text-align: right;\">113</td><td style = \"text-align: left;\">3005989:3006148</td><td style = \"text-align: left;\">+</td><td style = \"text-align: left;\">ygeW_predicted</td></tr><tr><td class = \"rowNumber\" style = \"font-weight: bold; text-align: right;\">114</td><td style = \"text-align: left;\">3007257:3007416</td><td style = \"text-align: left;\">+</td><td style = \"text-align: left;\">ygeX_predicted</td></tr><tr><td class = \"rowNumber\" style = \"font-weight: bold; text-align: right;\">115</td><td style = \"text-align: left;\">3008618:3008777</td><td style = \"text-align: left;\">+</td><td style = \"text-align: left;\">ygeY_predicted</td></tr><tr><td class = \"rowNumber\" style = \"font-weight: bold; text-align: right;\">116</td><td style = \"text-align: left;\">3009587:3009746</td><td style = \"text-align: left;\">+</td><td style = \"text-align: left;\">hyuA_predicted</td></tr><tr><td class = \"rowNumber\" style = \"font-weight: bold; text-align: right;\">117</td><td style = \"text-align: left;\">3020106:3020265</td><td style = \"text-align: left;\">+</td><td style = \"text-align: left;\">ygfM_xdhD_predicted</td></tr><tr><td class = \"rowNumber\" style = \"font-weight: bold; text-align: right;\">118</td><td style = \"text-align: left;\">3031130:3031289</td><td style = \"text-align: left;\">-</td><td style = \"text-align: left;\">ygfS_ygfT_predicted</td></tr><tr><td class = \"rowNumber\" style = \"font-weight: bold; text-align: right;\">119</td><td style = \"text-align: left;\">3030920:3031079</td><td style = \"text-align: left;\">+</td><td style = \"text-align: left;\">uacT_predicted</td></tr></tbody></table></div>"
      ],
      "text/latex": [
       "\\begin{tabular}{r|ccc}\n",
       "\t& location & direction & promoter\\\\\n",
       "\t\\hline\n",
       "\t& Any & Any & Any\\\\\n",
       "\t\\hline\n",
       "\t1 & 1655126:1655285 & - & rspAp \\\\\n",
       "\t2 & 70030:70189 & - & araBp \\\\\n",
       "\t3 & 1942520:1942679 & + & znuCp \\\\\n",
       "\t4 & 3730762:3730921 & - & xylAp \\\\\n",
       "\t5 & 3730955:3731114 & + & xylFp \\\\\n",
       "\t6 & 1647831:1647990 & - & dicCp \\\\\n",
       "\t7 & 1645858:1646017 & - & relBp \\\\\n",
       "\t8 & 932815:932974 & + & ftsKp2 \\\\\n",
       "\t9 & 933024:933183 & + & ftsKp1 \\\\\n",
       "\t10 & 367493:367652 & - & lacIp \\\\\n",
       "\t11 & 368483:368642 & - & mhpRp2 \\\\\n",
       "\t12 & 368491:368650 & - & mhpRp1 \\\\\n",
       "\t13 & 1618979:1619138 & + & marRp \\\\\n",
       "\t14 & 3875140:3875299 & - & dgoRp \\\\\n",
       "\t15 & 3536662:3536821 & - & ompRp1 \\\\\n",
       "\t16 & 3536710:3536869 & - & ompRp4 \\\\\n",
       "\t17 & 3536640:3536799 & - & ompRp2 \\\\\n",
       "\t18 & 3536594:3536753 & - & ompRp3 \\\\\n",
       "\t19 & 70109:70268 & + & araCp \\\\\n",
       "\t20 & 1704398:1704557 & + & blrp \\\\\n",
       "\t21 & 2339412:2339571 & - & gyrAp \\\\\n",
       "\t22 & 4352435:4352594 & + & ghoSp \\\\\n",
       "\t23 & 1795676:1795835 & - & ihfAp4 \\\\\n",
       "\t24 & 1799256:1799415 & - & pheMp \\\\\n",
       "\t25 & 987047:987206 & - & ompFp \\\\\n",
       "\t26 & 987047:987206 & - & ompFp2 \\\\\n",
       "\t27 & 2810633:2810792 & + & mprAp \\\\\n",
       "\t28 & 3485839:3485998 & + & crpp1 \\\\\n",
       "\t29 & 3485911:3486070 & + & crpp3 \\\\\n",
       "\t30 & 3485917:3486076 & + & crpp2 \\\\\n",
       "\t$\\dots$ & $\\dots$ & $\\dots$ & $\\dots$ \\\\\n",
       "\\end{tabular}\n"
      ],
      "text/plain": [
       "\u001b[1m119×3 DataFrame\u001b[0m\n",
       "\u001b[1m Row \u001b[0m│\u001b[1m location        \u001b[0m\u001b[1m direction \u001b[0m\u001b[1m promoter                          \u001b[0m\n",
       "     │\u001b[90m Any             \u001b[0m\u001b[90m Any       \u001b[0m\u001b[90m Any                               \u001b[0m\n",
       "─────┼───────────────────────────────────────────────────────────────\n",
       "   1 │ 1655126:1655285  -          rspAp\n",
       "   2 │ 70030:70189      -          araBp\n",
       "   3 │ 1942520:1942679  +          znuCp\n",
       "   4 │ 3730762:3730921  -          xylAp\n",
       "   5 │ 3730955:3731114  +          xylFp\n",
       "   6 │ 1647831:1647990  -          dicCp\n",
       "   7 │ 1645858:1646017  -          relBp\n",
       "   8 │ 932815:932974    +          ftsKp2\n",
       "   9 │ 933024:933183    +          ftsKp1\n",
       "  10 │ 367493:367652    -          lacIp\n",
       "  11 │ 368483:368642    -          mhpRp2\n",
       "  ⋮  │        ⋮             ⋮                      ⋮\n",
       " 110 │ 1209678:1209837  -          tfaE_stfE_predicted\n",
       " 111 │ 1211089:1211248  +          icdC_predicted\n",
       " 112 │ 863505:863664    -          ybiY_ybiW_predicted\n",
       " 113 │ 3005989:3006148  +          ygeW_predicted\n",
       " 114 │ 3007257:3007416  +          ygeX_predicted\n",
       " 115 │ 3008618:3008777  +          ygeY_predicted\n",
       " 116 │ 3009587:3009746  +          hyuA_predicted\n",
       " 117 │ 3020106:3020265  +          ygfM_xdhD_predicted\n",
       " 118 │ 3031130:3031289  -          ygfS_ygfT_predicted\n",
       " 119 │ 3030920:3031079  +          uacT_predicted\n",
       "\u001b[36m                                                      98 rows omitted\u001b[0m"
      ]
     },
     "execution_count": 191,
     "metadata": {},
     "output_type": "execute_result"
    }
   ],
   "source": [
    "Start = []\n",
    "End = []\n",
    "direction = []\n",
    "promoter = []\n",
    "for i in 1:119\n",
    "    fwd = findall(string(wt_seqs[i, :sequence][27:186]), string(wt_sequence))\n",
    "    rev = findall(reverse_complement(string(wt_seqs[i, :sequence][27:186])), string(wt_sequence))\n",
    "    if length(fwd) == 0 && length(rev) == 0\n",
    "        throw(ErrorException(\"Sequence not found for promoter $(wt_seqs[i, :promoter])!\"))\n",
    "    elseif length(fwd) > 0 && length(rev) > 0\n",
    "        throw(ErrorException(\"Sequence found on both strands for promoter $(wt_seqs[i, :promoter])!\"))\n",
    "    elseif length(fwd) > 0\n",
    "        push!(Start, fwd[1][1])\n",
    "        push!(End, fwd[1][end])\n",
    "        push!(direction, '+')\n",
    "        push!(promoter, wt_seqs[i, :promoter])\n",
    "    else\n",
    "        push!(Start, rev[1][1])\n",
    "        push!(End, rev[1][end])\n",
    "        push!(direction, '-')\n",
    "        push!(promoter, wt_seqs[i, :promoter])\n",
    "    end\n",
    "end\n",
    "\n",
    "df_meta = DataFrame(location=location, direction=direction, promoter=promoter)"
   ]
  },
  {
   "cell_type": "code",
   "execution_count": 174,
   "metadata": {},
   "outputs": [
    {
     "data": {
      "text/plain": [
       "20-element Vector{String}:\n",
       " \"TTTTCATCTTTTGTCAACCATTCACAGCGCA\" ⋯ 101 bytes ⋯ \"CAAGGAATCGAACATGAAGATCGTAAAGGG\"\n",
       " \"TTCCACATTGATTATTTGCACGGCGTCACAC\" ⋯ 101 bytes ⋯ \"GAGTGAAACGATGGCGATTGCAATTGGCCG\"\n",
       " \"TGTGTTGCACCTCCCCAGAGAGCGGCGGATA\" ⋯ 101 bytes ⋯ \"CTAAAATTAACATGACAAGTCTGGTTTCCG\"\n",
       " \"TCCAGTTTCATCATTCCATTTTATTTTGCGA\" ⋯ 101 bytes ⋯ \"GCATTACCTGATTATGGAGTTCAATATGCG\"\n",
       " \"TAATTGCGCAACAAAAGTAAGATCTCGGTCA\" ⋯ 101 bytes ⋯ \"TGTTACTTATTAAAACTGTCCTCTAACTAG\"\n",
       " \"TGAGGTTTTTCCGACGATACCTGATGCGTTC\" ⋯ 101 bytes ⋯ \"GTGTTTTAAATGCTTAAAACTGACGCTCTG\"\n",
       " \"TTGGACTTAGCAATGGCTGCTCCTGGCACAA\" ⋯ 101 bytes ⋯ \"AAGAGGTGTAAGACATGGGTAGCATTAACG\"\n",
       " \"TTTCTGGTATTCGTTGAGATTACTCTGAATC\" ⋯ 101 bytes ⋯ \"AAAACACGCGTGCCGGATATGTCAGCCTAG\"\n",
       " \"TACACGGACATACGTTGTTATGGAAGAAGTC\" ⋯ 101 bytes ⋯ \"TGGGGTAACCTGGTACTGTTGTCCGTTTTG\"\n",
       " \"TGAAGAAGGGGTTGAATCGCAGGCTATTCTG\" ⋯ 101 bytes ⋯ \"GGGTGGTGAATGTGAAACCAGTAACGTTAG\"\n",
       " \"TGCAGGCTGGATGTCAGGGTGTTGTATTGCC\" ⋯ 101 bytes ⋯ \"TATAGGAAGGGTGTTTTCGGCTACAATCAG\"\n",
       " \"TGGTTAACAGCAGGCTGGATGTCAGGGTGTT\" ⋯ 101 bytes ⋯ \"GCGCTCAGTATAGGAAGGGTGTTTTCGGCG\"\n",
       " \"TCTCTTTAGCTAGCCTTGCATCGCATTGAAC\" ⋯ 101 bytes ⋯ \"GGCAACTAATGTGAAAAGTACCAGCGATCG\"\n",
       " \"TTGTAGTACAACAATATAAGTTTGTACTACA\" ⋯ 101 bytes ⋯ \"GACTCTCCATGACTCTCAATAAAACCGATG\"\n",
       " \"TGCGTTTTCATCTCGTTGATTCCCTTTGTCT\" ⋯ 101 bytes ⋯ \"GTAACAATTTAGGCTGAAATTCATACCAGG\"\n",
       " \"TAATTAAGCTCTTGTTTGAGTTTTTCATACC\" ⋯ 101 bytes ⋯ \"TGTTTCGCCGAATAAATTGTATACTTAAGG\"\n",
       " \"TCTTTGTCTGTTTGATAATGCGCACATTGGG\" ⋯ 101 bytes ⋯ \"ATACCAGATTTAGCTGGTGACGAACGTGAG\"\n",
       " \"TCAACAGAATCAATAATGTTTCGCCGAATAA\" ⋯ 101 bytes ⋯ \"CGCTTACAAATTGTTGCGAACCTTTGGGAG\"\n",
       " \"TGTCAGGTAGGATCCGCTAATCTTATGGATA\" ⋯ 101 bytes ⋯ \"TTGGTCCCGCTTTGTTACAGAATGCTTTTG\"\n",
       " \"TGTTGTTTAACTTAAGTCAAAAAAATAGCGA\" ⋯ 101 bytes ⋯ \"ATCAAGAGAGATGTGGGCTGTAATGAATCG\""
      ]
     },
     "execution_count": 174,
     "metadata": {},
     "output_type": "execute_result"
    }
   ],
   "source": [
    "[string(wt_seqs[i, :sequence][26:187]) for i in 1:20]"
   ]
  },
  {
   "cell_type": "code",
   "execution_count": null,
   "metadata": {},
   "outputs": [],
   "source": []
  }
 ],
 "metadata": {
  "kernelspec": {
   "display_name": "Julia 1.9.0-rc1",
   "language": "julia",
   "name": "julia-1.9"
  },
  "language_info": {
   "file_extension": ".jl",
   "mimetype": "application/julia",
   "name": "julia",
   "version": "1.9.0"
  },
  "orig_nbformat": 4
 },
 "nbformat": 4,
 "nbformat_minor": 2
}
