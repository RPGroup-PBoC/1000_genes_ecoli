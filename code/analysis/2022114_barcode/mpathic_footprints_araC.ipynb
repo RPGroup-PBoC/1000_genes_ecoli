{
 "cells": [
  {
   "cell_type": "code",
   "execution_count": null,
   "id": "16a10a2d-9e83-4240-ab36-b162766daca6",
   "metadata": {},
   "outputs": [],
   "source": []
  },
  {
   "cell_type": "code",
   "execution_count": 1,
   "id": "04908a99-939a-43d9-95a5-b87ed9044e65",
   "metadata": {},
   "outputs": [],
   "source": [
    "import pandas as pd\n",
    "import numpy as np\n",
    "import matplotlib.pyplot as plt"
   ]
  },
  {
   "cell_type": "code",
   "execution_count": 2,
   "id": "e1bc07ae-c77a-49ce-b57e-3a03310a8c70",
   "metadata": {},
   "outputs": [],
   "source": [
    "import sys\n",
    "sys.path.insert(0, '/home/tom/mpathic')\n"
   ]
  },
  {
   "cell_type": "code",
   "execution_count": 3,
   "id": "19203f96-49a5-4e0d-975a-5a0622330245",
   "metadata": {},
   "outputs": [],
   "source": [
    "from mpathic import learn_model"
   ]
  },
  {
   "cell_type": "markdown",
   "id": "6dfdab1f-9bb1-4c22-8b64-b8cbe34bcd3b",
   "metadata": {},
   "source": [
    "First we import a test data set."
   ]
  },
  {
   "cell_type": "code",
   "execution_count": 17,
   "id": "6953c002-bc23-40e1-a0ad-4b87badcd75e",
   "metadata": {},
   "outputs": [
    {
     "data": {
      "text/html": [
       "<div>\n",
       "<style scoped>\n",
       "    .dataframe tbody tr th:only-of-type {\n",
       "        vertical-align: middle;\n",
       "    }\n",
       "\n",
       "    .dataframe tbody tr th {\n",
       "        vertical-align: top;\n",
       "    }\n",
       "\n",
       "    .dataframe thead th {\n",
       "        text-align: right;\n",
       "    }\n",
       "</style>\n",
       "<table border=\"1\" class=\"dataframe\">\n",
       "  <thead>\n",
       "    <tr style=\"text-align: right;\">\n",
       "      <th></th>\n",
       "      <th>cDNA_count</th>\n",
       "      <th>gDNA_count</th>\n",
       "      <th>barcode</th>\n",
       "      <th>name</th>\n",
       "      <th>mapping_count</th>\n",
       "      <th>promoter</th>\n",
       "    </tr>\n",
       "  </thead>\n",
       "  <tbody>\n",
       "    <tr>\n",
       "      <th>0</th>\n",
       "      <td>228337</td>\n",
       "      <td>38677</td>\n",
       "      <td>GGCCATACTTTTTGAAGTAT</td>\n",
       "      <td>araCp</td>\n",
       "      <td>39</td>\n",
       "      <td>GTCATGTAGCATCCGCTAATCTTATGGATAAAAATACTATGGCTTA...</td>\n",
       "    </tr>\n",
       "    <tr>\n",
       "      <th>1</th>\n",
       "      <td>79171</td>\n",
       "      <td>2461</td>\n",
       "      <td>CATACCTCATGGTGTGCGTA</td>\n",
       "      <td>araCp</td>\n",
       "      <td>3</td>\n",
       "      <td>GTCAGGTAGGATGCGCTAATCTTATGGATAAAAATGCTATGGCATA...</td>\n",
       "    </tr>\n",
       "    <tr>\n",
       "      <th>2</th>\n",
       "      <td>62180</td>\n",
       "      <td>23612</td>\n",
       "      <td>GTATATGTACGTCCCTGCGA</td>\n",
       "      <td>araCp</td>\n",
       "      <td>178</td>\n",
       "      <td>GTCAGCTAGGATCCGGTAATCTTATGGATAAAACTGCTCTGGCATA...</td>\n",
       "    </tr>\n",
       "    <tr>\n",
       "      <th>3</th>\n",
       "      <td>56594</td>\n",
       "      <td>38141</td>\n",
       "      <td>TAATTCATACTTCGGCGCAG</td>\n",
       "      <td>araCp</td>\n",
       "      <td>56</td>\n",
       "      <td>GTCTGGTAGGATCCGCTAATCTTATGGATATAAATGCTAGGGCATG...</td>\n",
       "    </tr>\n",
       "    <tr>\n",
       "      <th>4</th>\n",
       "      <td>55044</td>\n",
       "      <td>36067</td>\n",
       "      <td>CTTGAAAGGCTCTGTGCGTA</td>\n",
       "      <td>araCp</td>\n",
       "      <td>62</td>\n",
       "      <td>GTCATGTAGGAGCCCCTAATCTTAGGGATAAAAATGCTATGGCATA...</td>\n",
       "    </tr>\n",
       "  </tbody>\n",
       "</table>\n",
       "</div>"
      ],
      "text/plain": [
       "   cDNA_count  gDNA_count               barcode   name  mapping_count  \\\n",
       "0      228337       38677  GGCCATACTTTTTGAAGTAT  araCp             39   \n",
       "1       79171        2461  CATACCTCATGGTGTGCGTA  araCp              3   \n",
       "2       62180       23612  GTATATGTACGTCCCTGCGA  araCp            178   \n",
       "3       56594       38141  TAATTCATACTTCGGCGCAG  araCp             56   \n",
       "4       55044       36067  CTTGAAAGGCTCTGTGCGTA  araCp             62   \n",
       "\n",
       "                                            promoter  \n",
       "0  GTCATGTAGCATCCGCTAATCTTATGGATAAAAATACTATGGCTTA...  \n",
       "1  GTCAGGTAGGATGCGCTAATCTTATGGATAAAAATGCTATGGCATA...  \n",
       "2  GTCAGCTAGGATCCGGTAATCTTATGGATAAAACTGCTCTGGCATA...  \n",
       "3  GTCTGGTAGGATCCGCTAATCTTATGGATATAAATGCTAGGGCATG...  \n",
       "4  GTCATGTAGGAGCCCCTAATCTTAGGGATAAAAATGCTATGGCATA...  "
      ]
     },
     "execution_count": 17,
     "metadata": {},
     "output_type": "execute_result"
    }
   ],
   "source": [
    "df = pd.read_csv(\"../../../data/processed_barcodes/20221114_barcode/LB_by_promoter/araCp_counts.csv\")\n",
    "df.head(5)"
   ]
  },
  {
   "cell_type": "markdown",
   "id": "4159ccde-f903-472d-b26b-376992a66831",
   "metadata": {},
   "source": [
    "Prep dataframe to work with mpathic, therefore renaming columns and sorting the dataframe."
   ]
  },
  {
   "cell_type": "code",
   "execution_count": 18,
   "id": "49cd32c1-d84d-44ee-ac4b-66d67f4d8823",
   "metadata": {},
   "outputs": [
    {
     "data": {
      "text/html": [
       "<div>\n",
       "<style scoped>\n",
       "    .dataframe tbody tr th:only-of-type {\n",
       "        vertical-align: middle;\n",
       "    }\n",
       "\n",
       "    .dataframe tbody tr th {\n",
       "        vertical-align: top;\n",
       "    }\n",
       "\n",
       "    .dataframe thead th {\n",
       "        text-align: right;\n",
       "    }\n",
       "</style>\n",
       "<table border=\"1\" class=\"dataframe\">\n",
       "  <thead>\n",
       "    <tr style=\"text-align: right;\">\n",
       "      <th></th>\n",
       "      <th>ct</th>\n",
       "      <th>ct_0</th>\n",
       "      <th>ct_1</th>\n",
       "      <th>seq</th>\n",
       "    </tr>\n",
       "  </thead>\n",
       "  <tbody>\n",
       "    <tr>\n",
       "      <th>0</th>\n",
       "      <td>267014</td>\n",
       "      <td>38677</td>\n",
       "      <td>228337</td>\n",
       "      <td>GTCATGTAGCATCCGCTAATCTTATGGATAAAAATACTATGGCTTA...</td>\n",
       "    </tr>\n",
       "    <tr>\n",
       "      <th>1</th>\n",
       "      <td>81632</td>\n",
       "      <td>2461</td>\n",
       "      <td>79171</td>\n",
       "      <td>GTCAGGTAGGATGCGCTAATCTTATGGATAAAAATGCTATGGCATA...</td>\n",
       "    </tr>\n",
       "    <tr>\n",
       "      <th>2</th>\n",
       "      <td>85792</td>\n",
       "      <td>23612</td>\n",
       "      <td>62180</td>\n",
       "      <td>GTCAGCTAGGATCCGGTAATCTTATGGATAAAACTGCTCTGGCATA...</td>\n",
       "    </tr>\n",
       "    <tr>\n",
       "      <th>3</th>\n",
       "      <td>94735</td>\n",
       "      <td>38141</td>\n",
       "      <td>56594</td>\n",
       "      <td>GTCTGGTAGGATCCGCTAATCTTATGGATATAAATGCTAGGGCATG...</td>\n",
       "    </tr>\n",
       "    <tr>\n",
       "      <th>4</th>\n",
       "      <td>91111</td>\n",
       "      <td>36067</td>\n",
       "      <td>55044</td>\n",
       "      <td>GTCATGTAGGAGCCCCTAATCTTAGGGATAAAAATGCTATGGCATA...</td>\n",
       "    </tr>\n",
       "  </tbody>\n",
       "</table>\n",
       "</div>"
      ],
      "text/plain": [
       "       ct   ct_0    ct_1                                                seq\n",
       "0  267014  38677  228337  GTCATGTAGCATCCGCTAATCTTATGGATAAAAATACTATGGCTTA...\n",
       "1   81632   2461   79171  GTCAGGTAGGATGCGCTAATCTTATGGATAAAAATGCTATGGCATA...\n",
       "2   85792  23612   62180  GTCAGCTAGGATCCGGTAATCTTATGGATAAAACTGCTCTGGCATA...\n",
       "3   94735  38141   56594  GTCTGGTAGGATCCGCTAATCTTATGGATATAAATGCTAGGGCATG...\n",
       "4   91111  36067   55044  GTCATGTAGGAGCCCCTAATCTTAGGGATAAAAATGCTATGGCATA..."
      ]
     },
     "execution_count": 18,
     "metadata": {},
     "output_type": "execute_result"
    }
   ],
   "source": [
    "df.rename(\n",
    "    columns={\n",
    "        \"cDNA_count\": \"ct_1\",\n",
    "        \"gDNA_count\": \"ct_0\",\n",
    "        \"promoter\": \"seq\"\n",
    "    },\n",
    "    inplace=True\n",
    ")\n",
    "df['ct'] = df['ct_0'] + df['ct_1']\n",
    "df = df[['ct', 'ct_0', 'ct_1', 'seq']]\n",
    "df.head(5)"
   ]
  },
  {
   "cell_type": "markdown",
   "id": "ef0eeaea-9cba-4310-88c5-0b2675618a57",
   "metadata": {},
   "source": [
    "Run mpathic on dataframe."
   ]
  },
  {
   "cell_type": "markdown",
   "id": "27455fa3-6a63-48f3-baab-58250923ab19",
   "metadata": {},
   "source": [
    "## Reg Seq data, re-processed"
   ]
  },
  {
   "cell_type": "code",
   "execution_count": 19,
   "id": "15bcd8e3-308d-4efa-9f6c-de8f0da8df53",
   "metadata": {},
   "outputs": [
    {
     "data": {
      "text/html": [
       "<div>\n",
       "<style scoped>\n",
       "    .dataframe tbody tr th:only-of-type {\n",
       "        vertical-align: middle;\n",
       "    }\n",
       "\n",
       "    .dataframe tbody tr th {\n",
       "        vertical-align: top;\n",
       "    }\n",
       "\n",
       "    .dataframe thead th {\n",
       "        text-align: right;\n",
       "    }\n",
       "</style>\n",
       "<table border=\"1\" class=\"dataframe\">\n",
       "  <thead>\n",
       "    <tr style=\"text-align: right;\">\n",
       "      <th></th>\n",
       "      <th>pos</th>\n",
       "      <th>val_A</th>\n",
       "      <th>val_C</th>\n",
       "      <th>val_G</th>\n",
       "      <th>val_T</th>\n",
       "    </tr>\n",
       "  </thead>\n",
       "  <tbody>\n",
       "    <tr>\n",
       "      <th>0</th>\n",
       "      <td>0</td>\n",
       "      <td>0.038537</td>\n",
       "      <td>-0.001912</td>\n",
       "      <td>-0.074228</td>\n",
       "      <td>0.037604</td>\n",
       "    </tr>\n",
       "    <tr>\n",
       "      <th>1</th>\n",
       "      <td>1</td>\n",
       "      <td>-0.045047</td>\n",
       "      <td>0.007447</td>\n",
       "      <td>0.020856</td>\n",
       "      <td>0.016744</td>\n",
       "    </tr>\n",
       "    <tr>\n",
       "      <th>2</th>\n",
       "      <td>2</td>\n",
       "      <td>-0.052443</td>\n",
       "      <td>0.017856</td>\n",
       "      <td>-0.046508</td>\n",
       "      <td>0.081095</td>\n",
       "    </tr>\n",
       "    <tr>\n",
       "      <th>3</th>\n",
       "      <td>3</td>\n",
       "      <td>-0.030521</td>\n",
       "      <td>-0.014173</td>\n",
       "      <td>0.072689</td>\n",
       "      <td>-0.027995</td>\n",
       "    </tr>\n",
       "    <tr>\n",
       "      <th>4</th>\n",
       "      <td>4</td>\n",
       "      <td>-0.042022</td>\n",
       "      <td>-0.003341</td>\n",
       "      <td>0.013876</td>\n",
       "      <td>0.031487</td>\n",
       "    </tr>\n",
       "    <tr>\n",
       "      <th>...</th>\n",
       "      <td>...</td>\n",
       "      <td>...</td>\n",
       "      <td>...</td>\n",
       "      <td>...</td>\n",
       "      <td>...</td>\n",
       "    </tr>\n",
       "    <tr>\n",
       "      <th>155</th>\n",
       "      <td>155</td>\n",
       "      <td>0.027005</td>\n",
       "      <td>0.007337</td>\n",
       "      <td>0.000180</td>\n",
       "      <td>-0.034523</td>\n",
       "    </tr>\n",
       "    <tr>\n",
       "      <th>156</th>\n",
       "      <td>156</td>\n",
       "      <td>-0.036090</td>\n",
       "      <td>-0.025498</td>\n",
       "      <td>0.055264</td>\n",
       "      <td>0.006324</td>\n",
       "    </tr>\n",
       "    <tr>\n",
       "      <th>157</th>\n",
       "      <td>157</td>\n",
       "      <td>-0.036004</td>\n",
       "      <td>-0.004552</td>\n",
       "      <td>-0.033063</td>\n",
       "      <td>0.073619</td>\n",
       "    </tr>\n",
       "    <tr>\n",
       "      <th>158</th>\n",
       "      <td>158</td>\n",
       "      <td>0.027449</td>\n",
       "      <td>-0.001293</td>\n",
       "      <td>-0.014283</td>\n",
       "      <td>-0.011873</td>\n",
       "    </tr>\n",
       "    <tr>\n",
       "      <th>159</th>\n",
       "      <td>159</td>\n",
       "      <td>-0.021776</td>\n",
       "      <td>-0.012368</td>\n",
       "      <td>0.031819</td>\n",
       "      <td>0.002325</td>\n",
       "    </tr>\n",
       "  </tbody>\n",
       "</table>\n",
       "<p>160 rows × 5 columns</p>\n",
       "</div>"
      ],
      "text/plain": [
       "     pos     val_A     val_C     val_G     val_T\n",
       "0      0  0.038537 -0.001912 -0.074228  0.037604\n",
       "1      1 -0.045047  0.007447  0.020856  0.016744\n",
       "2      2 -0.052443  0.017856 -0.046508  0.081095\n",
       "3      3 -0.030521 -0.014173  0.072689 -0.027995\n",
       "4      4 -0.042022 -0.003341  0.013876  0.031487\n",
       "..   ...       ...       ...       ...       ...\n",
       "155  155  0.027005  0.007337  0.000180 -0.034523\n",
       "156  156 -0.036090 -0.025498  0.055264  0.006324\n",
       "157  157 -0.036004 -0.004552 -0.033063  0.073619\n",
       "158  158  0.027449 -0.001293 -0.014283 -0.011873\n",
       "159  159 -0.021776 -0.012368  0.031819  0.002325\n",
       "\n",
       "[160 rows x 5 columns]"
      ]
     },
     "execution_count": 19,
     "metadata": {},
     "output_type": "execute_result"
    }
   ],
   "source": [
    "df_mcmc = pd.read_csv(\"araC_mcmc_mpathic_regseq_data.csv\", index_col=0)\n",
    "df_mcmc"
   ]
  },
  {
   "cell_type": "code",
   "execution_count": 20,
   "id": "46d096ed-1f7d-42da-b7e0-fcb6fbe8c29b",
   "metadata": {},
   "outputs": [],
   "source": [
    "mcmc_arr = df_mcmc[['val_A', 'val_C', 'val_G', 'val_T']].to_numpy()"
   ]
  },
  {
   "cell_type": "markdown",
   "id": "9843691d-785e-4fed-9fc8-848e3a04afaa",
   "metadata": {},
   "source": [
    "Transform phenotype output to probabilities using exponential distribution."
   ]
  },
  {
   "cell_type": "code",
   "execution_count": 21,
   "id": "429e4ee7-9959-4abc-87b6-e93aa1e73298",
   "metadata": {},
   "outputs": [],
   "source": [
    "norm = np.sum(np.exp(mcmc_arr), axis=1)\n",
    "exp_vec = [np.exp(mcmc_arr)[i, :] / norm[i] for i in range(160)] \n",
    "rel_entropy = [np.sum([x[i] * np.log2(x[i] / 0.25) for i in range(4)]) for x in exp_vec]"
   ]
  },
  {
   "cell_type": "code",
   "execution_count": 22,
   "id": "fa0f545a-d20c-49e7-bffe-e6cca8861e0a",
   "metadata": {},
   "outputs": [
    {
     "data": {
      "text/plain": [
       "Text(0.5, 1.0, 'araC in LB')"
      ]
     },
     "execution_count": 22,
     "metadata": {},
     "output_type": "execute_result"
    },
    {
     "data": {
      "image/png": "[encoded data removed]",
      "text/plain": [
       "<Figure size 1080x216 with 1 Axes>"
      ]
     },
     "metadata": {
      "needs_background": "light"
     },
     "output_type": "display_data"
    }
   ],
   "source": [
    "fig, ax = plt.subplots(figsize=(15, 3))\n",
    "ax.bar(np.arange(-115, 45), rel_entropy)\n",
    "ax.set_xlabel('position')\n",
    "ax.set_xticks(np.linspace(-120, 50, 18))\n",
    "ax.set_ylabel('relative entropy [bits]')\n",
    "ax.set_title('araC in LB')"
   ]
  },
  {
   "cell_type": "code",
   "execution_count": 23,
   "id": "147c82f6-0628-4347-898f-c0910c733a3b",
   "metadata": {},
   "outputs": [
    {
     "data": {
      "text/plain": [
       "Text(0.5, 1.0, 'araC in LB')"
      ]
     },
     "execution_count": 23,
     "metadata": {},
     "output_type": "execute_result"
    },
    {
     "data": {
      "image/png": "[encoded data removed]",
      "text/plain": [
       "<Figure size 1080x216 with 1 Axes>"
      ]
     },
     "metadata": {
      "needs_background": "light"
     },
     "output_type": "display_data"
    }
   ],
   "source": [
    "fig, ax = plt.subplots(figsize=(15, 3))\n",
    "\n",
    "d = 1\n",
    "\n",
    "ax.bar(np.arange(-115+d, 45-d), [np.mean(rel_entropy[i-d:i+d]) for i in range(d, 160-d)])\n",
    "ax.set_xlabel('position')\n",
    "ax.set_xticks(np.linspace(-120, 50, 18))\n",
    "ax.set_ylabel('relative entropy [bits]')\n",
    "ax.set_title('araC in LB')"
   ]
  },
  {
   "cell_type": "code",
   "execution_count": 24,
   "id": "d077b54c-4f51-482b-abce-0fa94e8f366f",
   "metadata": {},
   "outputs": [
    {
     "data": {
      "text/html": [
       "<div>\n",
       "<style scoped>\n",
       "    .dataframe tbody tr th:only-of-type {\n",
       "        vertical-align: middle;\n",
       "    }\n",
       "\n",
       "    .dataframe tbody tr th {\n",
       "        vertical-align: top;\n",
       "    }\n",
       "\n",
       "    .dataframe thead th {\n",
       "        text-align: right;\n",
       "    }\n",
       "</style>\n",
       "<table border=\"1\" class=\"dataframe\">\n",
       "  <thead>\n",
       "    <tr style=\"text-align: right;\">\n",
       "      <th></th>\n",
       "      <th>val_A</th>\n",
       "      <th>val_C</th>\n",
       "      <th>val_G</th>\n",
       "      <th>val_T</th>\n",
       "    </tr>\n",
       "    <tr>\n",
       "      <th>pos</th>\n",
       "      <th></th>\n",
       "      <th></th>\n",
       "      <th></th>\n",
       "      <th></th>\n",
       "    </tr>\n",
       "  </thead>\n",
       "  <tbody>\n",
       "    <tr>\n",
       "      <th>0</th>\n",
       "      <td>0.015578</td>\n",
       "      <td>-0.050710</td>\n",
       "      <td>0.037741</td>\n",
       "      <td>-0.002609</td>\n",
       "    </tr>\n",
       "    <tr>\n",
       "      <th>1</th>\n",
       "      <td>-0.053156</td>\n",
       "      <td>0.022418</td>\n",
       "      <td>-0.018185</td>\n",
       "      <td>0.048923</td>\n",
       "    </tr>\n",
       "    <tr>\n",
       "      <th>2</th>\n",
       "      <td>0.017396</td>\n",
       "      <td>-0.018946</td>\n",
       "      <td>-0.015235</td>\n",
       "      <td>0.016785</td>\n",
       "    </tr>\n",
       "    <tr>\n",
       "      <th>3</th>\n",
       "      <td>-0.039689</td>\n",
       "      <td>-0.001317</td>\n",
       "      <td>0.007370</td>\n",
       "      <td>0.033635</td>\n",
       "    </tr>\n",
       "    <tr>\n",
       "      <th>4</th>\n",
       "      <td>-0.006576</td>\n",
       "      <td>-0.006401</td>\n",
       "      <td>-0.008738</td>\n",
       "      <td>0.021715</td>\n",
       "    </tr>\n",
       "    <tr>\n",
       "      <th>...</th>\n",
       "      <td>...</td>\n",
       "      <td>...</td>\n",
       "      <td>...</td>\n",
       "      <td>...</td>\n",
       "    </tr>\n",
       "    <tr>\n",
       "      <th>155</th>\n",
       "      <td>-0.010166</td>\n",
       "      <td>0.039864</td>\n",
       "      <td>-0.032712</td>\n",
       "      <td>0.003014</td>\n",
       "    </tr>\n",
       "    <tr>\n",
       "      <th>156</th>\n",
       "      <td>0.009200</td>\n",
       "      <td>-0.012482</td>\n",
       "      <td>0.032375</td>\n",
       "      <td>-0.029093</td>\n",
       "    </tr>\n",
       "    <tr>\n",
       "      <th>157</th>\n",
       "      <td>0.009612</td>\n",
       "      <td>0.003716</td>\n",
       "      <td>-0.000593</td>\n",
       "      <td>-0.012736</td>\n",
       "    </tr>\n",
       "    <tr>\n",
       "      <th>158</th>\n",
       "      <td>0.058922</td>\n",
       "      <td>0.012709</td>\n",
       "      <td>-0.029662</td>\n",
       "      <td>-0.041970</td>\n",
       "    </tr>\n",
       "    <tr>\n",
       "      <th>159</th>\n",
       "      <td>0.037096</td>\n",
       "      <td>-0.048760</td>\n",
       "      <td>0.042702</td>\n",
       "      <td>-0.031039</td>\n",
       "    </tr>\n",
       "  </tbody>\n",
       "</table>\n",
       "<p>160 rows × 4 columns</p>\n",
       "</div>"
      ],
      "text/plain": [
       "        val_A     val_C     val_G     val_T\n",
       "pos                                        \n",
       "0    0.015578 -0.050710  0.037741 -0.002609\n",
       "1   -0.053156  0.022418 -0.018185  0.048923\n",
       "2    0.017396 -0.018946 -0.015235  0.016785\n",
       "3   -0.039689 -0.001317  0.007370  0.033635\n",
       "4   -0.006576 -0.006401 -0.008738  0.021715\n",
       "..        ...       ...       ...       ...\n",
       "155 -0.010166  0.039864 -0.032712  0.003014\n",
       "156  0.009200 -0.012482  0.032375 -0.029093\n",
       "157  0.009612  0.003716 -0.000593 -0.012736\n",
       "158  0.058922  0.012709 -0.029662 -0.041970\n",
       "159  0.037096 -0.048760  0.042702 -0.031039\n",
       "\n",
       "[160 rows x 4 columns]"
      ]
     },
     "execution_count": 24,
     "metadata": {},
     "output_type": "execute_result"
    }
   ],
   "source": [
    "df_mcmc = pd.read_csv(\"araC_mcmc_mpathic.csv\", index_col=0)\n",
    "df_mcmc"
   ]
  },
  {
   "cell_type": "code",
   "execution_count": 25,
   "id": "4e1810fb-2978-4505-acc6-03be1f8127b7",
   "metadata": {},
   "outputs": [],
   "source": [
    "mcmc_arr = df_mcmc[['val_A', 'val_C', 'val_G', 'val_T']].to_numpy()"
   ]
  },
  {
   "cell_type": "markdown",
   "id": "45394254-6993-433b-9cd6-739d8005a9f1",
   "metadata": {},
   "source": [
    "Transform phenotype output to probabilities using exponential distribution."
   ]
  },
  {
   "cell_type": "code",
   "execution_count": 26,
   "id": "8dfbff8f-bf08-4c74-bb63-68b36f8e29c4",
   "metadata": {},
   "outputs": [],
   "source": [
    "norm = np.sum(np.exp(mcmc_arr), axis=1)\n",
    "exp_vec = [np.exp(mcmc_arr)[i, :] / norm[i] for i in range(160)] \n",
    "rel_entropy = [np.sum([x[i] * np.log2(x[i] / 0.25) for i in range(4)]) for x in exp_vec]"
   ]
  },
  {
   "cell_type": "code",
   "execution_count": 27,
   "id": "7feedd39-a8b8-4ff9-9415-22f27ac32e56",
   "metadata": {},
   "outputs": [
    {
     "data": {
      "text/plain": [
       "Text(0.5, 1.0, 'araC in LB')"
      ]
     },
     "execution_count": 27,
     "metadata": {},
     "output_type": "execute_result"
    },
    {
     "data": {
      "image/png": "[encoded data removed]",
      "text/plain": [
       "<Figure size 1080x216 with 1 Axes>"
      ]
     },
     "metadata": {
      "needs_background": "light"
     },
     "output_type": "display_data"
    }
   ],
   "source": [
    "fig, ax = plt.subplots(figsize=(15, 3))\n",
    "ax.bar(np.arange(-115, 45), rel_entropy)\n",
    "ax.set_xlabel('position')\n",
    "ax.set_xticks(np.linspace(-120, 50, 18))\n",
    "ax.set_ylabel('relative entropy [bits]')\n",
    "ax.set_title('araC in LB')"
   ]
  },
  {
   "cell_type": "code",
   "execution_count": 28,
   "id": "003258e7-f0d3-4b68-a9ae-c2462216e63a",
   "metadata": {},
   "outputs": [
    {
     "data": {
      "text/plain": [
       "Text(0.5, 1.0, 'rspA in LB')"
      ]
     },
     "execution_count": 28,
     "metadata": {},
     "output_type": "execute_result"
    },
    {
     "data": {
      "image/png": "[encoded data removed]",
      "text/plain": [
       "<Figure size 1080x216 with 1 Axes>"
      ]
     },
     "metadata": {
      "needs_background": "light"
     },
     "output_type": "display_data"
    }
   ],
   "source": [
    "fig, ax = plt.subplots(figsize=(15, 3))\n",
    "\n",
    "d = 1\n",
    "\n",
    "ax.bar(np.arange(-115+d, 45-d), [np.mean(rel_entropy[i-d:i+d]) for i in range(d, 160-d)])\n",
    "ax.set_xlabel('position')\n",
    "ax.set_xticks(np.linspace(-120, 50, 18))\n",
    "ax.set_ylabel('relative entropy [bits]')\n",
    "ax.set_title('rspA in LB')"
   ]
  },
  {
   "cell_type": "code",
   "execution_count": null,
   "id": "04fdb21e-5902-40eb-98ed-7886f0db48ab",
   "metadata": {},
   "outputs": [],
   "source": []
  },
  {
   "cell_type": "code",
   "execution_count": null,
   "id": "d005969e-d28e-4758-89ed-d598249a6122",
   "metadata": {},
   "outputs": [],
   "source": []
  }
 ],
 "metadata": {
  "kernelspec": {
   "display_name": "Python (mpathic)",
   "language": "python",
   "name": "mpathic_env"
  },
  "language_info": {
   "codemirror_mode": {
    "name": "ipython",
    "version": 3
   },
   "file_extension": ".py",
   "mimetype": "text/x-python",
   "name": "python",
   "nbconvert_exporter": "python",
   "pygments_lexer": "ipython3",
   "version": "3.6.15"
  }
 },
 "nbformat": 4,
 "nbformat_minor": 5
}
