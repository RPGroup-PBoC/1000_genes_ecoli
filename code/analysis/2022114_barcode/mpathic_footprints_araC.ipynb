{
 "cells": [
  {
   "cell_type": "markdown",
   "id": "eafa859e-955a-41be-8e0a-d9e509bb7cd0",
   "metadata": {},
   "source": [
    "# Using mpathic to compute footprints"
   ]
  },
  {
   "cell_type": "code",
   "execution_count": null,
   "id": "3a0b1bc1-5944-4e0c-aec7-7b6dcef63c96",
   "metadata": {},
   "outputs": [],
   "source": [
    "import pandas as pd\n",
    "import numpy as np\n",
    "import matplotlib.pyplot as plt"
   ]
  },
  {
   "cell_type": "code",
   "execution_count": 2,
   "id": "ca42390e-77f7-4c8b-9816-cf082e1829b8",
   "metadata": {},
   "outputs": [],
   "source": [
    "import sys\n",
    "sys.path.insert(0, '/home/tom/mpathic')\n"
   ]
  },
  {
   "cell_type": "code",
   "execution_count": 3,
   "id": "2f259944",
   "metadata": {},
   "outputs": [],
   "source": [
    "from mpathic import learn_model"
   ]
  },
  {
   "cell_type": "markdown",
   "id": "534b1873-c652-49fc-b96f-d02ed55173d9",
   "metadata": {},
   "source": [
    "First we import a test data set."
   ]
  },
  {
   "cell_type": "code",
   "execution_count": 4,
   "id": "47e47acb-9bd9-4101-b7d0-cc858ce18181",
   "metadata": {},
   "outputs": [
    {
     "data": {
      "text/html": [
       "<div>\n",
       "<style scoped>\n",
       "    .dataframe tbody tr th:only-of-type {\n",
       "        vertical-align: middle;\n",
       "    }\n",
       "\n",
       "    .dataframe tbody tr th {\n",
       "        vertical-align: top;\n",
       "    }\n",
       "\n",
       "    .dataframe thead th {\n",
       "        text-align: right;\n",
       "    }\n",
       "</style>\n",
       "<table border=\"1\" class=\"dataframe\">\n",
       "  <thead>\n",
       "    <tr style=\"text-align: right;\">\n",
       "      <th></th>\n",
       "      <th>cDNA_count</th>\n",
       "      <th>gDNA_count</th>\n",
       "      <th>barcode</th>\n",
       "      <th>name</th>\n",
       "      <th>mapping_count</th>\n",
       "      <th>promoter</th>\n",
       "    </tr>\n",
       "  </thead>\n",
       "  <tbody>\n",
       "    <tr>\n",
       "      <th>0</th>\n",
       "      <td>228337</td>\n",
       "      <td>38677</td>\n",
       "      <td>GGCCATACTTTTTGAAGTAT</td>\n",
       "      <td>araCp</td>\n",
       "      <td>39</td>\n",
       "      <td>GTCATGTAGCATCCGCTAATCTTATGGATAAAAATACTATGGCTTA...</td>\n",
       "    </tr>\n",
       "    <tr>\n",
       "      <th>1</th>\n",
       "      <td>79171</td>\n",
       "      <td>2461</td>\n",
       "      <td>CATACCTCATGGTGTGCGTA</td>\n",
       "      <td>araCp</td>\n",
       "      <td>3</td>\n",
       "      <td>GTCAGGTAGGATGCGCTAATCTTATGGATAAAAATGCTATGGCATA...</td>\n",
       "    </tr>\n",
       "    <tr>\n",
       "      <th>2</th>\n",
       "      <td>62180</td>\n",
       "      <td>23612</td>\n",
       "      <td>GTATATGTACGTCCCTGCGA</td>\n",
       "      <td>araCp</td>\n",
       "      <td>178</td>\n",
       "      <td>GTCAGCTAGGATCCGGTAATCTTATGGATAAAACTGCTCTGGCATA...</td>\n",
       "    </tr>\n",
       "    <tr>\n",
       "      <th>3</th>\n",
       "      <td>56594</td>\n",
       "      <td>38141</td>\n",
       "      <td>TAATTCATACTTCGGCGCAG</td>\n",
       "      <td>araCp</td>\n",
       "      <td>56</td>\n",
       "      <td>GTCTGGTAGGATCCGCTAATCTTATGGATATAAATGCTAGGGCATG...</td>\n",
       "    </tr>\n",
       "    <tr>\n",
       "      <th>4</th>\n",
       "      <td>55044</td>\n",
       "      <td>36067</td>\n",
       "      <td>CTTGAAAGGCTCTGTGCGTA</td>\n",
       "      <td>araCp</td>\n",
       "      <td>62</td>\n",
       "      <td>GTCATGTAGGAGCCCCTAATCTTAGGGATAAAAATGCTATGGCATA...</td>\n",
       "    </tr>\n",
       "  </tbody>\n",
       "</table>\n",
       "</div>"
      ],
      "text/plain": [
       "   cDNA_count  gDNA_count               barcode   name  mapping_count  \\\n",
       "0      228337       38677  GGCCATACTTTTTGAAGTAT  araCp             39   \n",
       "1       79171        2461  CATACCTCATGGTGTGCGTA  araCp              3   \n",
       "2       62180       23612  GTATATGTACGTCCCTGCGA  araCp            178   \n",
       "3       56594       38141  TAATTCATACTTCGGCGCAG  araCp             56   \n",
       "4       55044       36067  CTTGAAAGGCTCTGTGCGTA  araCp             62   \n",
       "\n",
       "                                            promoter  \n",
       "0  GTCATGTAGCATCCGCTAATCTTATGGATAAAAATACTATGGCTTA...  \n",
       "1  GTCAGGTAGGATGCGCTAATCTTATGGATAAAAATGCTATGGCATA...  \n",
       "2  GTCAGCTAGGATCCGGTAATCTTATGGATAAAACTGCTCTGGCATA...  \n",
       "3  GTCTGGTAGGATCCGCTAATCTTATGGATATAAATGCTAGGGCATG...  \n",
       "4  GTCATGTAGGAGCCCCTAATCTTAGGGATAAAAATGCTATGGCATA...  "
      ]
     },
     "execution_count": 4,
     "metadata": {},
     "output_type": "execute_result"
    }
   ],
   "source": [
    "df = pd.read_csv(\"../../../data/processed_barcodes/20221114_barcode/LB_by_promoter/araCp_counts.csv\")\n",
    "df.head(5)"
   ]
  },
  {
   "cell_type": "markdown",
   "id": "12f43d53-b58a-4652-ae73-26385ccdf261",
   "metadata": {},
   "source": [
    "Prep dataframe to work with mpathic, therefore renaming columns and sorting the dataframe."
   ]
  },
  {
   "cell_type": "code",
   "execution_count": 5,
   "id": "90e714af-5e8c-4bd6-a63b-946dfa4e13e6",
   "metadata": {},
   "outputs": [
    {
     "data": {
      "text/html": [
       "<div>\n",
       "<style scoped>\n",
       "    .dataframe tbody tr th:only-of-type {\n",
       "        vertical-align: middle;\n",
       "    }\n",
       "\n",
       "    .dataframe tbody tr th {\n",
       "        vertical-align: top;\n",
       "    }\n",
       "\n",
       "    .dataframe thead th {\n",
       "        text-align: right;\n",
       "    }\n",
       "</style>\n",
       "<table border=\"1\" class=\"dataframe\">\n",
       "  <thead>\n",
       "    <tr style=\"text-align: right;\">\n",
       "      <th></th>\n",
       "      <th>ct</th>\n",
       "      <th>ct_0</th>\n",
       "      <th>ct_1</th>\n",
       "      <th>seq</th>\n",
       "    </tr>\n",
       "  </thead>\n",
       "  <tbody>\n",
       "    <tr>\n",
       "      <th>0</th>\n",
       "      <td>267014</td>\n",
       "      <td>38677</td>\n",
       "      <td>228337</td>\n",
       "      <td>GTCATGTAGCATCCGCTAATCTTATGGATAAAAATACTATGGCTTA...</td>\n",
       "    </tr>\n",
       "    <tr>\n",
       "      <th>1</th>\n",
       "      <td>81632</td>\n",
       "      <td>2461</td>\n",
       "      <td>79171</td>\n",
       "      <td>GTCAGGTAGGATGCGCTAATCTTATGGATAAAAATGCTATGGCATA...</td>\n",
       "    </tr>\n",
       "    <tr>\n",
       "      <th>2</th>\n",
       "      <td>85792</td>\n",
       "      <td>23612</td>\n",
       "      <td>62180</td>\n",
       "      <td>GTCAGCTAGGATCCGGTAATCTTATGGATAAAACTGCTCTGGCATA...</td>\n",
       "    </tr>\n",
       "    <tr>\n",
       "      <th>3</th>\n",
       "      <td>94735</td>\n",
       "      <td>38141</td>\n",
       "      <td>56594</td>\n",
       "      <td>GTCTGGTAGGATCCGCTAATCTTATGGATATAAATGCTAGGGCATG...</td>\n",
       "    </tr>\n",
       "    <tr>\n",
       "      <th>4</th>\n",
       "      <td>91111</td>\n",
       "      <td>36067</td>\n",
       "      <td>55044</td>\n",
       "      <td>GTCATGTAGGAGCCCCTAATCTTAGGGATAAAAATGCTATGGCATA...</td>\n",
       "    </tr>\n",
       "  </tbody>\n",
       "</table>\n",
       "</div>"
      ],
      "text/plain": [
       "       ct   ct_0    ct_1                                                seq\n",
       "0  267014  38677  228337  GTCATGTAGCATCCGCTAATCTTATGGATAAAAATACTATGGCTTA...\n",
       "1   81632   2461   79171  GTCAGGTAGGATGCGCTAATCTTATGGATAAAAATGCTATGGCATA...\n",
       "2   85792  23612   62180  GTCAGCTAGGATCCGGTAATCTTATGGATAAAACTGCTCTGGCATA...\n",
       "3   94735  38141   56594  GTCTGGTAGGATCCGCTAATCTTATGGATATAAATGCTAGGGCATG...\n",
       "4   91111  36067   55044  GTCATGTAGGAGCCCCTAATCTTAGGGATAAAAATGCTATGGCATA..."
      ]
     },
     "execution_count": 5,
     "metadata": {},
     "output_type": "execute_result"
    }
   ],
   "source": [
    "df.rename(\n",
    "    columns={\n",
    "        \"cDNA_count\": \"ct_1\",\n",
    "        \"gDNA_count\": \"ct_0\",\n",
    "        \"promoter\": \"seq\"\n",
    "    },\n",
    "    inplace=True\n",
    ")\n",
    "df['ct'] = df['ct_0'] + df['ct_1']\n",
    "df = df[['ct', 'ct_0', 'ct_1', 'seq']]\n",
    "df.head(5)"
   ]
  },
  {
   "cell_type": "markdown",
   "id": "b3813c50-8769-4c58-aa1d-7a28594c4768",
   "metadata": {},
   "source": [
    "Run mpathic on dataframe."
   ]
  },
  {
   "cell_type": "code",
   "execution_count": null,
   "id": "78d7cc2d-ca22-4c52-90fb-ed049d664c9f",
   "metadata": {},
   "outputs": [
    {
     "name": "stdout",
     "output_type": "stream",
     "text": [
      " [----             10%                  ] 32498 of 300000 complete in 4756.5 sec"
     ]
    }
   ],
   "source": [
    "db = \"../../../data/mpathic_footprints/20221114_barcode/araCp_LB_dataset_db\"\n",
    "\n",
    "mcmc_df = learn_model.main(\n",
    "    df=df,\n",
    "    lm='IM',\n",
    "    modeltype='MAT',\n",
    "    LS_means_std=None,\n",
    "    db=db,\n",
    "    iteration=300000,\n",
    "    burnin=100000,\n",
    "    thin=10,\n",
    "    runnum=0,\n",
    "    initialize='rand',\n",
    "    start=0,\n",
    "    end=None,\n",
    "    foreground=1,\n",
    "    background=0,\n",
    "    alpha=0,\n",
    "    pseudocounts=1,\n",
    "    test=False,\n",
    "    drop_library=False,\n",
    "    verbose=True,\n",
    ")\n"
   ]
  },
  {
   "cell_type": "code",
   "execution_count": null,
   "id": "5104e90d",
   "metadata": {},
   "outputs": [],
   "source": [
    "mcmc_df.to_csv(\"araC_mcmc_mpathic.csv\", index=False)"
   ]
  },
  {
   "cell_type": "markdown",
   "id": "5e3a8541-23d8-49b7-aa69-000212a9b657",
   "metadata": {},
   "source": [
    "Transform phenotype output to probabilities using exponential distribution."
   ]
  },
  {
   "cell_type": "code",
   "execution_count": null,
   "id": "a4b8be5a-5692-409a-8581-2b8eab26706c",
   "metadata": {},
   "outputs": [],
   "source": []
  },
  {
   "cell_type": "code",
   "execution_count": null,
   "id": "36c198fe-11e1-4620-9820-fbb542e91967",
   "metadata": {},
   "outputs": [],
   "source": [
    "inf_arr = mcmc_df[['val_A', 'val_C', 'val_G', 'val_T']].to_numpy()\n",
    "prob_mat = np.zeros((160, 4))\n",
    "\n",
    "for i in range(160):\n",
    "    prob_mat[i, :] = np.exp(inf_arr[i, :]) / np.sum(np.exp(inf_arr[i, :]))"
   ]
  },
  {
   "cell_type": "markdown",
   "id": "a5122c80-f328-45f0-a719-08e5bb36718a",
   "metadata": {},
   "source": [
    "Compute relative entropy."
   ]
  },
  {
   "cell_type": "code",
   "execution_count": null,
   "id": "2cdc649f-8344-4e30-9b75-0cf2a1409baa",
   "metadata": {},
   "outputs": [],
   "source": [
    "relative_ent = np.zeros(160)\n",
    "for i in range(160):\n",
    "    relative_ent[i] = np.sum([prob_mat[i, j] * np.log2(prob_mat[i, j]/0.25) for j in range(4)])"
   ]
  },
  {
   "cell_type": "markdown",
   "id": "ef05766d-d530-4f3a-959e-85f27582e9c6",
   "metadata": {},
   "source": [
    "Plot relative entropy footprint."
   ]
  },
  {
   "cell_type": "code",
   "execution_count": null,
   "id": "bfdc7d4e-25f9-4dd1-ace5-60db23e46efe",
   "metadata": {},
   "outputs": [],
   "source": [
    "fig, ax = plt.subplots(figsize=(15, 3))\n",
    "ax.bar(np.arange(-115, 45), relative_ent)\n",
    "ax.set_xlabel('position')\n",
    "ax.set_ylabel('relative entropy [bits]')\n",
    "ax.set_title('araC in LB')"
   ]
  },
  {
   "cell_type": "code",
   "execution_count": null,
   "id": "32a45fe1-04d3-42a7-8ca9-ef2c590f2011",
   "metadata": {},
   "outputs": [],
   "source": [
    "fig, ax = plt.subplots(figsize=(15, 3))\n",
    "ax.bar(np.arange(-115, 45), relative_ent)\n",
    "ax.set_xlabel('position')\n",
    "ax.set_ylabel('relative entropy [bits]')\n",
    "ax.set_title('araC in LB')"
   ]
  },
  {
   "cell_type": "markdown",
   "id": "2488a88e-acb1-4cf9-87e8-069f8a21dd7c",
   "metadata": {},
   "source": [
    "## RegSeq dataset"
   ]
  },
  {
   "cell_type": "code",
   "execution_count": null,
   "id": "e301a205-e382-4418-89dc-bcd525c43b05",
   "metadata": {},
   "outputs": [],
   "source": [
    "df = pd.read_csv(\"../../../../RegSeq/data/sequencing_data/LB_data.csv\", index_col=0)\n",
    "df = df.loc[df['gene'] == 'araC', :]\n",
    "df.rename(\n",
    "    columns={\n",
    "        'counts_RNA': 'ct_1',\n",
    "        'counts_DNA': 'ct_0',\n",
    "    },\n",
    "    inplace=True\n",
    ")\n",
    "df['ct'] = df['ct_0'] + df['ct_1']\n",
    "df = df[['ct', 'ct_0', 'ct_1', 'seq']]\n",
    "df.dropna(inplace=True)\n",
    "df.head(5)"
   ]
  },
  {
   "cell_type": "code",
   "execution_count": null,
   "id": "5e97a24c-626f-479a-9131-a26d26e89713",
   "metadata": {},
   "outputs": [],
   "source": []
  },
  {
   "cell_type": "code",
   "execution_count": null,
   "id": "cff31d5e-3d76-4af6-b610-80274b5856b7",
   "metadata": {},
   "outputs": [],
   "source": [
    "mcmc_df = learn_model.main(\n",
    "    df=df,\n",
    "    lm='IM',\n",
    "    modeltype='MAT',\n",
    "    LS_means_std=None,\n",
    "    db=db,\n",
    "    iteration=300000,\n",
    "    burnin=10000,\n",
    "    thin=10,\n",
    "    runnum=0,\n",
    "    initialize='rand',\n",
    "    start=0,\n",
    "    end=None,\n",
    "    foreground=1,\n",
    "    background=0,\n",
    "    alpha=0,\n",
    "    pseudocounts=1,\n",
    "    test=False,\n",
    "    drop_library=False,\n",
    "    verbose=False,\n",
    ")\n"
   ]
  },
  {
   "cell_type": "code",
   "execution_count": null,
   "id": "2b295ce0-faac-40ae-babb-acb5442e5f51",
   "metadata": {},
   "outputs": [],
   "source": [
    "mcmc_df.to_csv(\"ykgE_mcmc_mpathic_regseq.csv\")"
   ]
  },
  {
   "cell_type": "code",
   "execution_count": null,
   "id": "a296246a-1b0e-4ef2-acd4-70447e3bdd29",
   "metadata": {},
   "outputs": [],
   "source": [
    "inf_arr = mcmc_df[['val_A', 'val_C', 'val_G', 'val_T']].to_numpy()\n",
    "prob_mat = np.zeros((160, 4))\n",
    "\n",
    "for i in range(160):\n",
    "    prob_mat[i, :] = np.exp(inf_arr[i, :]) / np.sum(np.exp(inf_arr[i, :]))"
   ]
  },
  {
   "cell_type": "code",
   "execution_count": null,
   "id": "b3bfee8b-1bc4-41e3-93d8-31435fce818f",
   "metadata": {},
   "outputs": [],
   "source": [
    "relative_ent = np.zeros(160)\n",
    "for i in range(160):\n",
    "    relative_ent[i] = np.sum([prob_mat[i, j] * np.log2(prob_mat[i, j]/0.25) for j in range(4)])"
   ]
  },
  {
   "cell_type": "code",
   "execution_count": null,
   "id": "96212078-a0d8-4d88-a83a-dd1c4eeacb97",
   "metadata": {},
   "outputs": [],
   "source": [
    "fig, ax = plt.subplots(figsize=(15, 3))\n",
    "ax.bar(np.arange(-115, 45), relative_ent)\n",
    "ax.set_xlabel('position')\n",
    "ax.set_ylabel('relative entropy [bits]')\n",
    "ax.set_title('ykgE in LB')"
   ]
  },
  {
   "cell_type": "code",
   "execution_count": null,
   "id": "59097e03-cbc3-4c2a-912a-60a29ba4cbb5",
   "metadata": {},
   "outputs": [],
   "source": [
    "pd.read_csv(\"../../../../RegSeq/data/sequencing_data/ykgE_dataset_combined.csv\")"
   ]
  },
  {
   "cell_type": "code",
   "execution_count": null,
   "id": "77bf376e-5574-4a41-8e1f-2c74112405c8",
   "metadata": {},
   "outputs": [],
   "source": [
    "!mpathic learn-model --help"
   ]
  },
  {
   "cell_type": "code",
   "execution_count": null,
   "id": "65146025-b492-4c01-9075-93d873ca65fa",
   "metadata": {},
   "outputs": [],
   "source": [
    "z`"
   ]
  }
 ],
 "metadata": {
  "kernelspec": {
   "display_name": "Python (mpathic)",
   "language": "python",
   "name": "mpathic_env"
  },
  "language_info": {
   "codemirror_mode": {
    "name": "ipython",
    "version": 3
   },
   "file_extension": ".py",
   "mimetype": "text/x-python",
   "name": "python",
   "nbconvert_exporter": "python",
   "pygments_lexer": "ipython3",
   "version": "3.6.15"
  }
 },
 "nbformat": 4,
 "nbformat_minor": 5
}
