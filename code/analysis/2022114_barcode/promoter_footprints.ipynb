{
 "cells": [
  {
   "cell_type": "markdown",
   "id": "ab95f596-d771-4064-9794-aabebb7694ed",
   "metadata": {},
   "source": [
    "# Promoter footprints"
   ]
  },
  {
   "cell_type": "code",
   "execution_count": 1,
   "id": "82a15f0e-0549-40e2-a7f5-873940693507",
   "metadata": {},
   "outputs": [],
   "source": [
    "import numpy as np\n",
    "import pandas as pd\n",
    "import matplotlib.pyplot as plt\n",
    "from matplotlib.patches import Rectangle\n",
    "from sklearn.linear_model import LinearRegression\n",
    "from os.path import exists\n",
    "import seaborn as sns\n",
    "from matplotlib.lines import Line2D\n",
    "from mpl_toolkits.axes_grid1 import make_axes_locatable\n",
    "from scipy.stats import spearmanr\n",
    "\n",
    "sns.set()\n",
    "\n",
    "from sklearn.decomposition import FastICA"
   ]
  },
  {
   "cell_type": "markdown",
   "id": "e9d602db-d722-42fa-9956-1e4f51add958",
   "metadata": {},
   "source": [
    "## MaveNN"
   ]
  },
  {
   "cell_type": "code",
   "execution_count": 2,
   "id": "8a197ca7-483e-4e25-a15b-7ba0fc43b4f1",
   "metadata": {},
   "outputs": [
    {
     "name": "stderr",
     "output_type": "stream",
     "text": [
      "2022-12-15 15:57:22.984480: I tensorflow/core/platform/cpu_feature_guard.cc:193] This TensorFlow binary is optimized with oneAPI Deep Neural Network Library (oneDNN) to use the following CPU instructions in performance-critical operations:  FMA\n",
      "To enable them in other operations, rebuild TensorFlow with the appropriate compiler flags.\n",
      "2022-12-15 15:57:26.821230: W tensorflow/stream_executor/platform/default/dso_loader.cc:64] Could not load dynamic library 'libcudart.so.11.0'; dlerror: libcudart.so.11.0: cannot open shared object file: No such file or directory\n",
      "2022-12-15 15:57:26.821302: I tensorflow/stream_executor/cuda/cudart_stub.cc:29] Ignore above cudart dlerror if you do not have a GPU set up on your machine.\n",
      "2022-12-15 15:57:27.255932: E tensorflow/stream_executor/cuda/cuda_blas.cc:2981] Unable to register cuBLAS factory: Attempting to register factory for plugin cuBLAS when one has already been registered\n",
      "2022-12-15 15:57:32.378461: W tensorflow/stream_executor/platform/default/dso_loader.cc:64] Could not load dynamic library 'libnvinfer.so.7'; dlerror: libnvinfer.so.7: cannot open shared object file: No such file or directory\n",
      "2022-12-15 15:57:32.378655: W tensorflow/stream_executor/platform/default/dso_loader.cc:64] Could not load dynamic library 'libnvinfer_plugin.so.7'; dlerror: libnvinfer_plugin.so.7: cannot open shared object file: No such file or directory\n",
      "2022-12-15 15:57:32.378669: W tensorflow/compiler/tf2tensorrt/utils/py_utils.cc:38] TF-TRT Warning: Cannot dlopen some TensorRT libraries. If you would like to use Nvidia GPU with TensorRT, please make sure the missing libraries mentioned above are installed properly.\n"
     ]
    }
   ],
   "source": [
    "#Load mavenn\n",
    "import mavenn"
   ]
  },
  {
   "cell_type": "code",
   "execution_count": 3,
   "id": "05eff4a8-19c2-4c3c-a341-053d2ff30b3b",
   "metadata": {},
   "outputs": [],
   "source": [
    "promoter = \"syn_rand\"\n",
    "gc = \"LB\"\n",
    "\n",
    "sites = []"
   ]
  },
  {
   "cell_type": "markdown",
   "id": "e8539917-6d6d-4672-a1b4-d831cf295de4",
   "metadata": {},
   "source": [
    "Import data and format table. We randomly assign sequences to training, test and validation data and compute the relative counts for each sequence."
   ]
  },
  {
   "cell_type": "code",
   "execution_count": 4,
   "id": "f5cdfdba-067b-4d55-af38-460bf2e52130",
   "metadata": {},
   "outputs": [],
   "source": [
    "# Get file path\n",
    "filepath = \"../../../data/processed_barcodes/20221114_barcode/{}_by_promoter/{}_counts.csv\".format(gc, promoter)\n",
    "\n",
    "# Import file\n",
    "df = pd.read_csv(filepath)\n",
    "\n",
    "# Filter\n",
    "df = df.loc[df['gDNA_count'] > 100, :]\n",
    "df.reset_index(drop=True, inplace=True)\n",
    "# Rename columns to work with MaveNN\n",
    "df_arr = df.rename(columns={\"gDNA_count\": \"ct_0\", \"cDNA_count\": \"ct_1\", \"promoter\": \"seq\"})\n",
    "\n",
    "df_arr = pd.concat([df_arr, df_arr, df_arr, df_arr]).reset_index(drop=True)\n",
    "df_arr\n",
    "# Set ratio of training and test data\n",
    "training_p = 0.8\n",
    "test_p = 0.1\n",
    "\n",
    "# Randomly choose promoters for test and validation set\n",
    "df_arr['set'] = np.random.choice([\"training\", \"validation\", \"test\"], len(df_arr), p=[0.8, 0.19, 0.01])\n",
    "df_arr['ct_r'] = (1 + df_arr['ct_1']) / (df_arr['ct_0'])\n",
    "df_arr = df_arr[['set', 'ct_r', 'seq']]\n"
   ]
  },
  {
   "cell_type": "code",
   "execution_count": 5,
   "id": "86112322-ce05-4261-b459-c9a808ac29ee",
   "metadata": {},
   "outputs": [
    {
     "data": {
      "text/plain": [
       "[<matplotlib.lines.Line2D at 0x7fac73686520>]"
      ]
     },
     "execution_count": 5,
     "metadata": {},
     "output_type": "execute_result"
    },
    {
     "data": {
      "image/png": "[encoded data removed]",
      "text/plain": [
       "<Figure size 432x288 with 1 Axes>"
      ]
     },
     "metadata": {},
     "output_type": "display_data"
    }
   ],
   "source": [
    "plt.plot(np.sort(df_arr['ct_r']), np.arange(0,len(df_arr['ct_r']))/len(df_arr['ct_r']))"
   ]
  },
  {
   "cell_type": "code",
   "execution_count": 298,
   "id": "40d0fd40-3c15-4895-829b-73ed9cc375bb",
   "metadata": {},
   "outputs": [
    {
     "data": {
      "text/plain": [
       "[-0.6716959194693568, -0.5543276052610246, -0.454545964964432]"
      ]
     },
     "execution_count": 298,
     "metadata": {},
     "output_type": "execute_result"
    }
   ],
   "source": [
    "quant_arr"
   ]
  },
  {
   "cell_type": "code",
   "execution_count": 6,
   "id": "9dea7ed5-702b-42bc-97ac-f19ee2942e93",
   "metadata": {},
   "outputs": [],
   "source": [
    "bins = 4\n",
    "\n",
    "# Array for different bins\n",
    "bin_arr = [np.zeros(len(df_arr['ct_r'])) for i in range(bins)]\n",
    "\n",
    "# Percentages of sequences in bins\n",
    "quant_arr = [np.percentile(np.log10(np.sort(df_arr['ct_r'])), 100 / bins * (i+1)) for i in range(bins-1)]\n",
    "\n",
    "# Assign to bins\n",
    "for i in range(len(df_arr['ct_r'])):\n",
    "    found = False\n",
    "    j = 0\n",
    "    while found==False:\n",
    "        if np.log10(df_arr['ct_r'][i]) < quant_arr[j]:\n",
    "            bin_arr[j][i] = 1\n",
    "            found = True\n",
    "        j += 1\n",
    "        if j == (bins-1):\n",
    "            bin_arr[-1][i] = 1\n",
    "            found = True\n",
    "        if j >= bins:\n",
    "            print(\"Safety stop for while loop\")\n",
    "            break\n",
    "            \n",
    "bin_cols = [f'ct_{i}' for i in range(bins)]\n",
    "for i in range(bins):\n",
    "    df_arr[f'ct_{i}'] = bin_arr[i]"
   ]
  },
  {
   "cell_type": "code",
   "execution_count": 7,
   "id": "3fbc105d-c69c-432c-a94c-60da18a3a5bc",
   "metadata": {},
   "outputs": [
    {
     "data": {
      "text/html": [
       "<div>\n",
       "<style scoped>\n",
       "    .dataframe tbody tr th:only-of-type {\n",
       "        vertical-align: middle;\n",
       "    }\n",
       "\n",
       "    .dataframe tbody tr th {\n",
       "        vertical-align: top;\n",
       "    }\n",
       "\n",
       "    .dataframe thead th {\n",
       "        text-align: right;\n",
       "    }\n",
       "</style>\n",
       "<table border=\"1\" class=\"dataframe\">\n",
       "  <thead>\n",
       "    <tr style=\"text-align: right;\">\n",
       "      <th></th>\n",
       "      <th>set</th>\n",
       "      <th>ct_r</th>\n",
       "      <th>seq</th>\n",
       "      <th>ct_0</th>\n",
       "      <th>ct_1</th>\n",
       "      <th>ct_2</th>\n",
       "      <th>ct_3</th>\n",
       "    </tr>\n",
       "  </thead>\n",
       "  <tbody>\n",
       "    <tr>\n",
       "      <th>0</th>\n",
       "      <td>training</td>\n",
       "      <td>0.232181</td>\n",
       "      <td>CCAGGTTTCCCGACTGGGAGGCGGCCAGTGAGCGCAACGCAATTAA...</td>\n",
       "      <td>0.0</td>\n",
       "      <td>1.0</td>\n",
       "      <td>0.0</td>\n",
       "      <td>0.0</td>\n",
       "    </tr>\n",
       "    <tr>\n",
       "      <th>1</th>\n",
       "      <td>training</td>\n",
       "      <td>0.267937</td>\n",
       "      <td>ACAGGTTTCCCGACTTGAAAGCGGGCAGAGAGCGCAACGCAATCAA...</td>\n",
       "      <td>0.0</td>\n",
       "      <td>1.0</td>\n",
       "      <td>0.0</td>\n",
       "      <td>0.0</td>\n",
       "    </tr>\n",
       "    <tr>\n",
       "      <th>2</th>\n",
       "      <td>training</td>\n",
       "      <td>0.113924</td>\n",
       "      <td>ACAGGTTTCGCGACTAGAAAGCGGGCACTGAGCGCACCGCAATTAA...</td>\n",
       "      <td>1.0</td>\n",
       "      <td>0.0</td>\n",
       "      <td>0.0</td>\n",
       "      <td>0.0</td>\n",
       "    </tr>\n",
       "    <tr>\n",
       "      <th>3</th>\n",
       "      <td>training</td>\n",
       "      <td>0.435573</td>\n",
       "      <td>ACAGGTTTCTCGACTGGAAAGCGGGCAGTGAGCGCAACGCAATTAA...</td>\n",
       "      <td>0.0</td>\n",
       "      <td>0.0</td>\n",
       "      <td>0.0</td>\n",
       "      <td>1.0</td>\n",
       "    </tr>\n",
       "    <tr>\n",
       "      <th>4</th>\n",
       "      <td>training</td>\n",
       "      <td>0.262332</td>\n",
       "      <td>ACAGCGTTGCCGACTGGAAAGCGGGCTCTGAGCGCAACGCAATTTA...</td>\n",
       "      <td>0.0</td>\n",
       "      <td>1.0</td>\n",
       "      <td>0.0</td>\n",
       "      <td>0.0</td>\n",
       "    </tr>\n",
       "    <tr>\n",
       "      <th>...</th>\n",
       "      <td>...</td>\n",
       "      <td>...</td>\n",
       "      <td>...</td>\n",
       "      <td>...</td>\n",
       "      <td>...</td>\n",
       "      <td>...</td>\n",
       "      <td>...</td>\n",
       "    </tr>\n",
       "    <tr>\n",
       "      <th>14931</th>\n",
       "      <td>training</td>\n",
       "      <td>0.266376</td>\n",
       "      <td>ACAGGTTACCCGACTGGCAAACGGGCAGTAAGCGCAACGCAATTAA...</td>\n",
       "      <td>0.0</td>\n",
       "      <td>1.0</td>\n",
       "      <td>0.0</td>\n",
       "      <td>0.0</td>\n",
       "    </tr>\n",
       "    <tr>\n",
       "      <th>14932</th>\n",
       "      <td>validation</td>\n",
       "      <td>0.517929</td>\n",
       "      <td>ACAGGTTTCCCAACTGGAAAGGGTGCAGGGAGCGCAACGCAATTTA...</td>\n",
       "      <td>0.0</td>\n",
       "      <td>0.0</td>\n",
       "      <td>0.0</td>\n",
       "      <td>1.0</td>\n",
       "    </tr>\n",
       "    <tr>\n",
       "      <th>14933</th>\n",
       "      <td>training</td>\n",
       "      <td>0.321190</td>\n",
       "      <td>ACAGGTTTGCCGACTGGGAAGCGGGCATTGAGCGCAACGGAATTTA...</td>\n",
       "      <td>0.0</td>\n",
       "      <td>0.0</td>\n",
       "      <td>1.0</td>\n",
       "      <td>1.0</td>\n",
       "    </tr>\n",
       "    <tr>\n",
       "      <th>14934</th>\n",
       "      <td>training</td>\n",
       "      <td>0.200856</td>\n",
       "      <td>ACATGAATCCCGACTGGAGAGCGAGCAGTGAGCGCAACGCAATTAA...</td>\n",
       "      <td>1.0</td>\n",
       "      <td>0.0</td>\n",
       "      <td>0.0</td>\n",
       "      <td>0.0</td>\n",
       "    </tr>\n",
       "    <tr>\n",
       "      <th>14935</th>\n",
       "      <td>validation</td>\n",
       "      <td>0.244898</td>\n",
       "      <td>ACAGGTTGTCAGACTGGAAAGCGGGCAGTGAGCGCAACGACATTAA...</td>\n",
       "      <td>0.0</td>\n",
       "      <td>1.0</td>\n",
       "      <td>0.0</td>\n",
       "      <td>0.0</td>\n",
       "    </tr>\n",
       "  </tbody>\n",
       "</table>\n",
       "<p>14936 rows × 7 columns</p>\n",
       "</div>"
      ],
      "text/plain": [
       "              set      ct_r  \\\n",
       "0        training  0.232181   \n",
       "1        training  0.267937   \n",
       "2        training  0.113924   \n",
       "3        training  0.435573   \n",
       "4        training  0.262332   \n",
       "...           ...       ...   \n",
       "14931    training  0.266376   \n",
       "14932  validation  0.517929   \n",
       "14933    training  0.321190   \n",
       "14934    training  0.200856   \n",
       "14935  validation  0.244898   \n",
       "\n",
       "                                                     seq  ct_0  ct_1  ct_2  \\\n",
       "0      CCAGGTTTCCCGACTGGGAGGCGGCCAGTGAGCGCAACGCAATTAA...   0.0   1.0   0.0   \n",
       "1      ACAGGTTTCCCGACTTGAAAGCGGGCAGAGAGCGCAACGCAATCAA...   0.0   1.0   0.0   \n",
       "2      ACAGGTTTCGCGACTAGAAAGCGGGCACTGAGCGCACCGCAATTAA...   1.0   0.0   0.0   \n",
       "3      ACAGGTTTCTCGACTGGAAAGCGGGCAGTGAGCGCAACGCAATTAA...   0.0   0.0   0.0   \n",
       "4      ACAGCGTTGCCGACTGGAAAGCGGGCTCTGAGCGCAACGCAATTTA...   0.0   1.0   0.0   \n",
       "...                                                  ...   ...   ...   ...   \n",
       "14931  ACAGGTTACCCGACTGGCAAACGGGCAGTAAGCGCAACGCAATTAA...   0.0   1.0   0.0   \n",
       "14932  ACAGGTTTCCCAACTGGAAAGGGTGCAGGGAGCGCAACGCAATTTA...   0.0   0.0   0.0   \n",
       "14933  ACAGGTTTGCCGACTGGGAAGCGGGCATTGAGCGCAACGGAATTTA...   0.0   0.0   1.0   \n",
       "14934  ACATGAATCCCGACTGGAGAGCGAGCAGTGAGCGCAACGCAATTAA...   1.0   0.0   0.0   \n",
       "14935  ACAGGTTGTCAGACTGGAAAGCGGGCAGTGAGCGCAACGACATTAA...   0.0   1.0   0.0   \n",
       "\n",
       "       ct_3  \n",
       "0       0.0  \n",
       "1       0.0  \n",
       "2       0.0  \n",
       "3       1.0  \n",
       "4       0.0  \n",
       "...     ...  \n",
       "14931   0.0  \n",
       "14932   1.0  \n",
       "14933   1.0  \n",
       "14934   0.0  \n",
       "14935   0.0  \n",
       "\n",
       "[14936 rows x 7 columns]"
      ]
     },
     "execution_count": 7,
     "metadata": {},
     "output_type": "execute_result"
    }
   ],
   "source": [
    "df_arr"
   ]
  },
  {
   "cell_type": "code",
   "execution_count": 8,
   "id": "038fdb51-50c8-4cc5-b54b-a37e7c7de369",
   "metadata": {},
   "outputs": [
    {
     "name": "stderr",
     "output_type": "stream",
     "text": [
      "2022-12-15 15:58:08.877357: W tensorflow/stream_executor/platform/default/dso_loader.cc:64] Could not load dynamic library 'libcuda.so.1'; dlerror: libcuda.so.1: cannot open shared object file: No such file or directory\n",
      "2022-12-15 15:58:08.883403: W tensorflow/stream_executor/cuda/cuda_driver.cc:263] failed call to cuInit: UNKNOWN ERROR (303)\n",
      "2022-12-15 15:58:08.883489: I tensorflow/stream_executor/cuda/cuda_diagnostics.cc:156] kernel driver does not appear to be running on this host (delbruck): /proc/driver/nvidia/version does not exist\n",
      "2022-12-15 15:58:08.891391: I tensorflow/core/platform/cpu_feature_guard.cc:193] This TensorFlow binary is optimized with oneAPI Deep Neural Network Library (oneDNN) to use the following CPU instructions in performance-critical operations:  FMA\n",
      "To enable them in other operations, rebuild TensorFlow with the appropriate compiler flags.\n"
     ]
    },
    {
     "name": "stdout",
     "output_type": "stream",
     "text": [
      "Training set   :   12,017 observations (  80.46%)\n",
      "Validation set :    2,775 observations (  18.58%)\n",
      "Test set       :      144 observations (   0.96%)\n",
      "-------------------------------------------------\n",
      "Total dataset  :   14,936 observations ( 100.00%)\n",
      "\n",
      "N = 14,792 observations set as training data.\n",
      "Using 18.8% for validation.\n",
      "Data shuffled.\n",
      "Time to set data: 0.619 sec.\n"
     ]
    },
    {
     "data": {
      "application/vnd.jupyter.widget-view+json": {
       "model_id": "cea5156cc6604c98a396b50dc3d8dc5e",
       "version_major": 2,
       "version_minor": 0
      },
      "text/plain": [
       "0epoch [00:00, ?epoch/s]"
      ]
     },
     "metadata": {},
     "output_type": "display_data"
    },
    {
     "ename": "KeyboardInterrupt",
     "evalue": "",
     "output_type": "error",
     "traceback": [
      "\u001b[0;31m---------------------------------------------------------------------------\u001b[0m",
      "\u001b[0;31mKeyboardInterrupt\u001b[0m                         Traceback (most recent call last)",
      "\u001b[1;32m/home/tom/git/1000_genes_ecoli/code/analysis/2022114_barcode/promoter_footprints.ipynb Cell 12\u001b[0m in \u001b[0;36m<cell line: 19>\u001b[0;34m()\u001b[0m\n\u001b[1;32m     <a href='vscode-notebook-cell://ssh-remote%2Bdelbruck.caltech.edu/home/tom/git/1000_genes_ecoli/code/analysis/2022114_barcode/promoter_footprints.ipynb#X14sdnNjb2RlLXJlbW90ZQ%3D%3D?line=12'>13</a>\u001b[0m model\u001b[39m.\u001b[39mset_data(x\u001b[39m=\u001b[39mtrainval_df[\u001b[39m'\u001b[39m\u001b[39mseq\u001b[39m\u001b[39m'\u001b[39m],\n\u001b[1;32m     <a href='vscode-notebook-cell://ssh-remote%2Bdelbruck.caltech.edu/home/tom/git/1000_genes_ecoli/code/analysis/2022114_barcode/promoter_footprints.ipynb#X14sdnNjb2RlLXJlbW90ZQ%3D%3D?line=13'>14</a>\u001b[0m                y\u001b[39m=\u001b[39mtrainval_df[bin_cols],\n\u001b[1;32m     <a href='vscode-notebook-cell://ssh-remote%2Bdelbruck.caltech.edu/home/tom/git/1000_genes_ecoli/code/analysis/2022114_barcode/promoter_footprints.ipynb#X14sdnNjb2RlLXJlbW90ZQ%3D%3D?line=14'>15</a>\u001b[0m                validation_flags\u001b[39m=\u001b[39mtrainval_df[\u001b[39m'\u001b[39m\u001b[39mvalidation\u001b[39m\u001b[39m'\u001b[39m],\n\u001b[1;32m     <a href='vscode-notebook-cell://ssh-remote%2Bdelbruck.caltech.edu/home/tom/git/1000_genes_ecoli/code/analysis/2022114_barcode/promoter_footprints.ipynb#X14sdnNjb2RlLXJlbW90ZQ%3D%3D?line=15'>16</a>\u001b[0m                shuffle\u001b[39m=\u001b[39m\u001b[39mTrue\u001b[39;00m)\n\u001b[1;32m     <a href='vscode-notebook-cell://ssh-remote%2Bdelbruck.caltech.edu/home/tom/git/1000_genes_ecoli/code/analysis/2022114_barcode/promoter_footprints.ipynb#X14sdnNjb2RlLXJlbW90ZQ%3D%3D?line=17'>18</a>\u001b[0m \u001b[39m# Fit model to data\u001b[39;00m\n\u001b[0;32m---> <a href='vscode-notebook-cell://ssh-remote%2Bdelbruck.caltech.edu/home/tom/git/1000_genes_ecoli/code/analysis/2022114_barcode/promoter_footprints.ipynb#X14sdnNjb2RlLXJlbW90ZQ%3D%3D?line=18'>19</a>\u001b[0m model\u001b[39m.\u001b[39;49mfit(learning_rate\u001b[39m=\u001b[39;49m\u001b[39m1e-4\u001b[39;49m,\n\u001b[1;32m     <a href='vscode-notebook-cell://ssh-remote%2Bdelbruck.caltech.edu/home/tom/git/1000_genes_ecoli/code/analysis/2022114_barcode/promoter_footprints.ipynb#X14sdnNjb2RlLXJlbW90ZQ%3D%3D?line=19'>20</a>\u001b[0m           epochs\u001b[39m=\u001b[39;49m\u001b[39m2000\u001b[39;49m,\n\u001b[1;32m     <a href='vscode-notebook-cell://ssh-remote%2Bdelbruck.caltech.edu/home/tom/git/1000_genes_ecoli/code/analysis/2022114_barcode/promoter_footprints.ipynb#X14sdnNjb2RlLXJlbW90ZQ%3D%3D?line=20'>21</a>\u001b[0m           batch_size\u001b[39m=\u001b[39;49m\u001b[39m100\u001b[39;49m,\n\u001b[1;32m     <a href='vscode-notebook-cell://ssh-remote%2Bdelbruck.caltech.edu/home/tom/git/1000_genes_ecoli/code/analysis/2022114_barcode/promoter_footprints.ipynb#X14sdnNjb2RlLXJlbW90ZQ%3D%3D?line=21'>22</a>\u001b[0m           early_stopping\u001b[39m=\u001b[39;49m\u001b[39mFalse\u001b[39;49;00m,\n\u001b[1;32m     <a href='vscode-notebook-cell://ssh-remote%2Bdelbruck.caltech.edu/home/tom/git/1000_genes_ecoli/code/analysis/2022114_barcode/promoter_footprints.ipynb#X14sdnNjb2RlLXJlbW90ZQ%3D%3D?line=22'>23</a>\u001b[0m           \u001b[39m#early_stopping_patience=25,\u001b[39;49;00m\n\u001b[1;32m     <a href='vscode-notebook-cell://ssh-remote%2Bdelbruck.caltech.edu/home/tom/git/1000_genes_ecoli/code/analysis/2022114_barcode/promoter_footprints.ipynb#X14sdnNjb2RlLXJlbW90ZQ%3D%3D?line=23'>24</a>\u001b[0m           linear_initialization\u001b[39m=\u001b[39;49m\u001b[39mFalse\u001b[39;49;00m,\n\u001b[1;32m     <a href='vscode-notebook-cell://ssh-remote%2Bdelbruck.caltech.edu/home/tom/git/1000_genes_ecoli/code/analysis/2022114_barcode/promoter_footprints.ipynb#X14sdnNjb2RlLXJlbW90ZQ%3D%3D?line=24'>25</a>\u001b[0m           verbose\u001b[39m=\u001b[39;49m\u001b[39mFalse\u001b[39;49;00m)\n",
      "File \u001b[0;32m~/git/mavenn/mavenn/src/error_handling.py:98\u001b[0m, in \u001b[0;36mhandle_errors.<locals>.wrapped_func\u001b[0;34m(*args, **kwargs)\u001b[0m\n\u001b[1;32m     94\u001b[0m mistake \u001b[39m=\u001b[39m \u001b[39mNone\u001b[39;00m\n\u001b[1;32m     96\u001b[0m \u001b[39mtry\u001b[39;00m:\n\u001b[1;32m     97\u001b[0m     \u001b[39m# Execute function\u001b[39;00m\n\u001b[0;32m---> 98\u001b[0m     result \u001b[39m=\u001b[39m func(\u001b[39m*\u001b[39;49margs, \u001b[39m*\u001b[39;49m\u001b[39m*\u001b[39;49mkwargs)\n\u001b[1;32m    100\u001b[0m     \u001b[39m# If running functional test and expect to fail\u001b[39;00m\n\u001b[1;32m    101\u001b[0m     \u001b[39mif\u001b[39;00m should_fail \u001b[39mis\u001b[39;00m \u001b[39mTrue\u001b[39;00m:\n",
      "File \u001b[0;32m~/git/mavenn/mavenn/src/model.py:828\u001b[0m, in \u001b[0;36mModel.fit\u001b[0;34m(self, epochs, learning_rate, validation_split, verbose, early_stopping, early_stopping_patience, batch_size, linear_initialization, freeze_theta, callbacks, try_tqdm, optimizer, optimizer_kwargs, fit_kwargs)\u001b[0m\n\u001b[1;32m    820\u001b[0m     y_val \u001b[39m=\u001b[39m \u001b[39mself\u001b[39m\u001b[39m.\u001b[39my_norm[ix_val, :]\n\u001b[1;32m    822\u001b[0m \u001b[39m# Using tqdm progress bar for training.\u001b[39;00m\n\u001b[1;32m    823\u001b[0m \u001b[39m# if tqdm_bar == True:\u001b[39;00m\n\u001b[1;32m    824\u001b[0m \u001b[39m#     callbacks.append(TqdmCallback(verbose=0))\u001b[39;00m\n\u001b[1;32m    825\u001b[0m \u001b[39m#     verbose = False\u001b[39;00m\n\u001b[1;32m    826\u001b[0m \n\u001b[1;32m    827\u001b[0m \u001b[39m# Train neural network using TensorFlow\u001b[39;00m\n\u001b[0;32m--> 828\u001b[0m history \u001b[39m=\u001b[39m \u001b[39mself\u001b[39;49m\u001b[39m.\u001b[39;49mmodel\u001b[39m.\u001b[39;49mmodel\u001b[39m.\u001b[39;49mfit(x_train,\n\u001b[1;32m    829\u001b[0m                                y_train,\n\u001b[1;32m    830\u001b[0m                                validation_data\u001b[39m=\u001b[39;49m(x_val, y_val),\n\u001b[1;32m    831\u001b[0m                                epochs\u001b[39m=\u001b[39;49mepochs,\n\u001b[1;32m    832\u001b[0m                                verbose\u001b[39m=\u001b[39;49mverbose,\n\u001b[1;32m    833\u001b[0m                                callbacks\u001b[39m=\u001b[39;49mcallbacks,\n\u001b[1;32m    834\u001b[0m                                batch_size\u001b[39m=\u001b[39;49mbatch_size,\n\u001b[1;32m    835\u001b[0m                                \u001b[39m*\u001b[39;49m\u001b[39m*\u001b[39;49mfit_kwargs)\n\u001b[1;32m    837\u001b[0m \u001b[39m# Get function representing the raw gp_map\u001b[39;00m\n\u001b[1;32m    838\u001b[0m \u001b[39mself\u001b[39m\u001b[39m.\u001b[39m_unfixed_gpmap \u001b[39m=\u001b[39m K\u001b[39m.\u001b[39mfunction(\n\u001b[1;32m    839\u001b[0m     [\u001b[39mself\u001b[39m\u001b[39m.\u001b[39mmodel\u001b[39m.\u001b[39mmodel\u001b[39m.\u001b[39mlayers[\u001b[39m1\u001b[39m]\u001b[39m.\u001b[39minput],\n\u001b[1;32m    840\u001b[0m     [\u001b[39mself\u001b[39m\u001b[39m.\u001b[39mmodel\u001b[39m.\u001b[39mmodel\u001b[39m.\u001b[39mlayers[\u001b[39m2\u001b[39m]\u001b[39m.\u001b[39moutput])\n",
      "File \u001b[0;32m~/anaconda3/lib/python3.9/site-packages/keras/utils/traceback_utils.py:65\u001b[0m, in \u001b[0;36mfilter_traceback.<locals>.error_handler\u001b[0;34m(*args, **kwargs)\u001b[0m\n\u001b[1;32m     63\u001b[0m filtered_tb \u001b[39m=\u001b[39m \u001b[39mNone\u001b[39;00m\n\u001b[1;32m     64\u001b[0m \u001b[39mtry\u001b[39;00m:\n\u001b[0;32m---> 65\u001b[0m     \u001b[39mreturn\u001b[39;00m fn(\u001b[39m*\u001b[39;49margs, \u001b[39m*\u001b[39;49m\u001b[39m*\u001b[39;49mkwargs)\n\u001b[1;32m     66\u001b[0m \u001b[39mexcept\u001b[39;00m \u001b[39mException\u001b[39;00m \u001b[39mas\u001b[39;00m e:\n\u001b[1;32m     67\u001b[0m     filtered_tb \u001b[39m=\u001b[39m _process_traceback_frames(e\u001b[39m.\u001b[39m__traceback__)\n",
      "File \u001b[0;32m~/anaconda3/lib/python3.9/site-packages/keras/engine/training.py:1564\u001b[0m, in \u001b[0;36mModel.fit\u001b[0;34m(self, x, y, batch_size, epochs, verbose, callbacks, validation_split, validation_data, shuffle, class_weight, sample_weight, initial_epoch, steps_per_epoch, validation_steps, validation_batch_size, validation_freq, max_queue_size, workers, use_multiprocessing)\u001b[0m\n\u001b[1;32m   1556\u001b[0m \u001b[39mwith\u001b[39;00m tf\u001b[39m.\u001b[39mprofiler\u001b[39m.\u001b[39mexperimental\u001b[39m.\u001b[39mTrace(\n\u001b[1;32m   1557\u001b[0m     \u001b[39m\"\u001b[39m\u001b[39mtrain\u001b[39m\u001b[39m\"\u001b[39m,\n\u001b[1;32m   1558\u001b[0m     epoch_num\u001b[39m=\u001b[39mepoch,\n\u001b[0;32m   (...)\u001b[0m\n\u001b[1;32m   1561\u001b[0m     _r\u001b[39m=\u001b[39m\u001b[39m1\u001b[39m,\n\u001b[1;32m   1562\u001b[0m ):\n\u001b[1;32m   1563\u001b[0m     callbacks\u001b[39m.\u001b[39mon_train_batch_begin(step)\n\u001b[0;32m-> 1564\u001b[0m     tmp_logs \u001b[39m=\u001b[39m \u001b[39mself\u001b[39;49m\u001b[39m.\u001b[39;49mtrain_function(iterator)\n\u001b[1;32m   1565\u001b[0m     \u001b[39mif\u001b[39;00m data_handler\u001b[39m.\u001b[39mshould_sync:\n\u001b[1;32m   1566\u001b[0m         context\u001b[39m.\u001b[39masync_wait()\n",
      "File \u001b[0;32m~/anaconda3/lib/python3.9/site-packages/tensorflow/python/util/traceback_utils.py:150\u001b[0m, in \u001b[0;36mfilter_traceback.<locals>.error_handler\u001b[0;34m(*args, **kwargs)\u001b[0m\n\u001b[1;32m    148\u001b[0m filtered_tb \u001b[39m=\u001b[39m \u001b[39mNone\u001b[39;00m\n\u001b[1;32m    149\u001b[0m \u001b[39mtry\u001b[39;00m:\n\u001b[0;32m--> 150\u001b[0m   \u001b[39mreturn\u001b[39;00m fn(\u001b[39m*\u001b[39;49margs, \u001b[39m*\u001b[39;49m\u001b[39m*\u001b[39;49mkwargs)\n\u001b[1;32m    151\u001b[0m \u001b[39mexcept\u001b[39;00m \u001b[39mException\u001b[39;00m \u001b[39mas\u001b[39;00m e:\n\u001b[1;32m    152\u001b[0m   filtered_tb \u001b[39m=\u001b[39m _process_traceback_frames(e\u001b[39m.\u001b[39m__traceback__)\n",
      "File \u001b[0;32m~/anaconda3/lib/python3.9/site-packages/tensorflow/python/eager/def_function.py:915\u001b[0m, in \u001b[0;36mFunction.__call__\u001b[0;34m(self, *args, **kwds)\u001b[0m\n\u001b[1;32m    912\u001b[0m compiler \u001b[39m=\u001b[39m \u001b[39m\"\u001b[39m\u001b[39mxla\u001b[39m\u001b[39m\"\u001b[39m \u001b[39mif\u001b[39;00m \u001b[39mself\u001b[39m\u001b[39m.\u001b[39m_jit_compile \u001b[39melse\u001b[39;00m \u001b[39m\"\u001b[39m\u001b[39mnonXla\u001b[39m\u001b[39m\"\u001b[39m\n\u001b[1;32m    914\u001b[0m \u001b[39mwith\u001b[39;00m OptionalXlaContext(\u001b[39mself\u001b[39m\u001b[39m.\u001b[39m_jit_compile):\n\u001b[0;32m--> 915\u001b[0m   result \u001b[39m=\u001b[39m \u001b[39mself\u001b[39;49m\u001b[39m.\u001b[39;49m_call(\u001b[39m*\u001b[39;49margs, \u001b[39m*\u001b[39;49m\u001b[39m*\u001b[39;49mkwds)\n\u001b[1;32m    917\u001b[0m new_tracing_count \u001b[39m=\u001b[39m \u001b[39mself\u001b[39m\u001b[39m.\u001b[39mexperimental_get_tracing_count()\n\u001b[1;32m    918\u001b[0m without_tracing \u001b[39m=\u001b[39m (tracing_count \u001b[39m==\u001b[39m new_tracing_count)\n",
      "File \u001b[0;32m~/anaconda3/lib/python3.9/site-packages/tensorflow/python/eager/def_function.py:947\u001b[0m, in \u001b[0;36mFunction._call\u001b[0;34m(self, *args, **kwds)\u001b[0m\n\u001b[1;32m    944\u001b[0m   \u001b[39mself\u001b[39m\u001b[39m.\u001b[39m_lock\u001b[39m.\u001b[39mrelease()\n\u001b[1;32m    945\u001b[0m   \u001b[39m# In this case we have created variables on the first call, so we run the\u001b[39;00m\n\u001b[1;32m    946\u001b[0m   \u001b[39m# defunned version which is guaranteed to never create variables.\u001b[39;00m\n\u001b[0;32m--> 947\u001b[0m   \u001b[39mreturn\u001b[39;00m \u001b[39mself\u001b[39;49m\u001b[39m.\u001b[39;49m_stateless_fn(\u001b[39m*\u001b[39;49margs, \u001b[39m*\u001b[39;49m\u001b[39m*\u001b[39;49mkwds)  \u001b[39m# pylint: disable=not-callable\u001b[39;00m\n\u001b[1;32m    948\u001b[0m \u001b[39melif\u001b[39;00m \u001b[39mself\u001b[39m\u001b[39m.\u001b[39m_stateful_fn \u001b[39mis\u001b[39;00m \u001b[39mnot\u001b[39;00m \u001b[39mNone\u001b[39;00m:\n\u001b[1;32m    949\u001b[0m   \u001b[39m# Release the lock early so that multiple threads can perform the call\u001b[39;00m\n\u001b[1;32m    950\u001b[0m   \u001b[39m# in parallel.\u001b[39;00m\n\u001b[1;32m    951\u001b[0m   \u001b[39mself\u001b[39m\u001b[39m.\u001b[39m_lock\u001b[39m.\u001b[39mrelease()\n",
      "File \u001b[0;32m~/anaconda3/lib/python3.9/site-packages/tensorflow/python/eager/function.py:2496\u001b[0m, in \u001b[0;36mFunction.__call__\u001b[0;34m(self, *args, **kwargs)\u001b[0m\n\u001b[1;32m   2493\u001b[0m \u001b[39mwith\u001b[39;00m \u001b[39mself\u001b[39m\u001b[39m.\u001b[39m_lock:\n\u001b[1;32m   2494\u001b[0m   (graph_function,\n\u001b[1;32m   2495\u001b[0m    filtered_flat_args) \u001b[39m=\u001b[39m \u001b[39mself\u001b[39m\u001b[39m.\u001b[39m_maybe_define_function(args, kwargs)\n\u001b[0;32m-> 2496\u001b[0m \u001b[39mreturn\u001b[39;00m graph_function\u001b[39m.\u001b[39;49m_call_flat(\n\u001b[1;32m   2497\u001b[0m     filtered_flat_args, captured_inputs\u001b[39m=\u001b[39;49mgraph_function\u001b[39m.\u001b[39;49mcaptured_inputs)\n",
      "File \u001b[0;32m~/anaconda3/lib/python3.9/site-packages/tensorflow/python/eager/function.py:1862\u001b[0m, in \u001b[0;36mConcreteFunction._call_flat\u001b[0;34m(self, args, captured_inputs, cancellation_manager)\u001b[0m\n\u001b[1;32m   1858\u001b[0m possible_gradient_type \u001b[39m=\u001b[39m gradients_util\u001b[39m.\u001b[39mPossibleTapeGradientTypes(args)\n\u001b[1;32m   1859\u001b[0m \u001b[39mif\u001b[39;00m (possible_gradient_type \u001b[39m==\u001b[39m gradients_util\u001b[39m.\u001b[39mPOSSIBLE_GRADIENT_TYPES_NONE\n\u001b[1;32m   1860\u001b[0m     \u001b[39mand\u001b[39;00m executing_eagerly):\n\u001b[1;32m   1861\u001b[0m   \u001b[39m# No tape is watching; skip to running the function.\u001b[39;00m\n\u001b[0;32m-> 1862\u001b[0m   \u001b[39mreturn\u001b[39;00m \u001b[39mself\u001b[39m\u001b[39m.\u001b[39m_build_call_outputs(\u001b[39mself\u001b[39;49m\u001b[39m.\u001b[39;49m_inference_function\u001b[39m.\u001b[39;49mcall(\n\u001b[1;32m   1863\u001b[0m       ctx, args, cancellation_manager\u001b[39m=\u001b[39;49mcancellation_manager))\n\u001b[1;32m   1864\u001b[0m forward_backward \u001b[39m=\u001b[39m \u001b[39mself\u001b[39m\u001b[39m.\u001b[39m_select_forward_and_backward_functions(\n\u001b[1;32m   1865\u001b[0m     args,\n\u001b[1;32m   1866\u001b[0m     possible_gradient_type,\n\u001b[1;32m   1867\u001b[0m     executing_eagerly)\n\u001b[1;32m   1868\u001b[0m forward_function, args_with_tangents \u001b[39m=\u001b[39m forward_backward\u001b[39m.\u001b[39mforward()\n",
      "File \u001b[0;32m~/anaconda3/lib/python3.9/site-packages/tensorflow/python/eager/function.py:499\u001b[0m, in \u001b[0;36m_EagerDefinedFunction.call\u001b[0;34m(self, ctx, args, cancellation_manager)\u001b[0m\n\u001b[1;32m    497\u001b[0m \u001b[39mwith\u001b[39;00m _InterpolateFunctionError(\u001b[39mself\u001b[39m):\n\u001b[1;32m    498\u001b[0m   \u001b[39mif\u001b[39;00m cancellation_manager \u001b[39mis\u001b[39;00m \u001b[39mNone\u001b[39;00m:\n\u001b[0;32m--> 499\u001b[0m     outputs \u001b[39m=\u001b[39m execute\u001b[39m.\u001b[39;49mexecute(\n\u001b[1;32m    500\u001b[0m         \u001b[39mstr\u001b[39;49m(\u001b[39mself\u001b[39;49m\u001b[39m.\u001b[39;49msignature\u001b[39m.\u001b[39;49mname),\n\u001b[1;32m    501\u001b[0m         num_outputs\u001b[39m=\u001b[39;49m\u001b[39mself\u001b[39;49m\u001b[39m.\u001b[39;49m_num_outputs,\n\u001b[1;32m    502\u001b[0m         inputs\u001b[39m=\u001b[39;49margs,\n\u001b[1;32m    503\u001b[0m         attrs\u001b[39m=\u001b[39;49mattrs,\n\u001b[1;32m    504\u001b[0m         ctx\u001b[39m=\u001b[39;49mctx)\n\u001b[1;32m    505\u001b[0m   \u001b[39melse\u001b[39;00m:\n\u001b[1;32m    506\u001b[0m     outputs \u001b[39m=\u001b[39m execute\u001b[39m.\u001b[39mexecute_with_cancellation(\n\u001b[1;32m    507\u001b[0m         \u001b[39mstr\u001b[39m(\u001b[39mself\u001b[39m\u001b[39m.\u001b[39msignature\u001b[39m.\u001b[39mname),\n\u001b[1;32m    508\u001b[0m         num_outputs\u001b[39m=\u001b[39m\u001b[39mself\u001b[39m\u001b[39m.\u001b[39m_num_outputs,\n\u001b[0;32m   (...)\u001b[0m\n\u001b[1;32m    511\u001b[0m         ctx\u001b[39m=\u001b[39mctx,\n\u001b[1;32m    512\u001b[0m         cancellation_manager\u001b[39m=\u001b[39mcancellation_manager)\n",
      "File \u001b[0;32m~/anaconda3/lib/python3.9/site-packages/tensorflow/python/eager/execute.py:54\u001b[0m, in \u001b[0;36mquick_execute\u001b[0;34m(op_name, num_outputs, inputs, attrs, ctx, name)\u001b[0m\n\u001b[1;32m     52\u001b[0m \u001b[39mtry\u001b[39;00m:\n\u001b[1;32m     53\u001b[0m   ctx\u001b[39m.\u001b[39mensure_initialized()\n\u001b[0;32m---> 54\u001b[0m   tensors \u001b[39m=\u001b[39m pywrap_tfe\u001b[39m.\u001b[39;49mTFE_Py_Execute(ctx\u001b[39m.\u001b[39;49m_handle, device_name, op_name,\n\u001b[1;32m     55\u001b[0m                                       inputs, attrs, num_outputs)\n\u001b[1;32m     56\u001b[0m \u001b[39mexcept\u001b[39;00m core\u001b[39m.\u001b[39m_NotOkStatusException \u001b[39mas\u001b[39;00m e:\n\u001b[1;32m     57\u001b[0m   \u001b[39mif\u001b[39;00m name \u001b[39mis\u001b[39;00m \u001b[39mnot\u001b[39;00m \u001b[39mNone\u001b[39;00m:\n",
      "\u001b[0;31mKeyboardInterrupt\u001b[0m: "
     ]
    }
   ],
   "source": [
    "model = mavenn.Model(\n",
    "    L=160,\n",
    "    Y=bins,\n",
    "    alphabet='dna',\n",
    "    regression_type='MPA',\n",
    "    gpmap_type='additive',\n",
    "    mpa_hidden_nodes=100\n",
    ")\n",
    "\n",
    "trainval_df, test_df = mavenn.split_dataset(df_arr)   \n",
    "\n",
    "# Set training data\n",
    "model.set_data(x=trainval_df['seq'],\n",
    "               y=trainval_df[bin_cols],\n",
    "               validation_flags=trainval_df['validation'],\n",
    "               shuffle=True)\n",
    "\n",
    "# Fit model to data\n",
    "model.fit(learning_rate=1e-4,\n",
    "          epochs=2000,\n",
    "          batch_size=100,\n",
    "          early_stopping=False,\n",
    "          #early_stopping_patience=25,\n",
    "          linear_initialization=False,\n",
    "          verbose=False);"
   ]
  },
  {
   "cell_type": "code",
   "execution_count": null,
   "id": "514fcc3c-2f27-42a6-8d59-4b5f2339576f",
   "metadata": {},
   "outputs": [],
   "source": [
    "# Compute predictive information on test data\n",
    "I_pred, dI_pred = model.I_predictive(x=test_df['seq'], y=test_df[bin_cols])\n",
    "print(f'test_I_pred: {I_pred:.3f} +- {dI_pred:.3f} bits')\n",
    "\n",
    "param_dict = model.layer_gpmap.get_params()"
   ]
  },
  {
   "cell_type": "code",
   "execution_count": null,
   "id": "8894aead-0fdf-4199-8b84-d845580f6ed8",
   "metadata": {},
   "outputs": [],
   "source": [
    "# Create figure and axes for plotting\n",
    "fig, ax = plt.subplots(1, 1, figsize=[5, 5])\n",
    "\n",
    "# Plot I_var_train, the variational information on training data as a function of epoch\n",
    "ax.plot(model.history['I_var'], label=r'I_var_train')\n",
    "\n",
    "# Plot I_var_val, the variational information on validation data as a function of epoch\n",
    "ax.plot(model.history['val_I_var'], label=r'val_I_var')\n",
    "\n",
    "# Show I_pred_test, the predictive information of the final model on test data\n",
    "ax.axhline(I_pred, color='C3', linestyle=':', label=r'test_I_pred')\n",
    "\n",
    "# Style plot\n",
    "ax.set_xlabel('epochs')\n",
    "ax.set_ylabel('bits')\n",
    "ax.set_title('Training history: variational information')\n",
    "ax.legend()\n",
    "\n",
    "plt.tight_layout()\n"
   ]
  },
  {
   "cell_type": "code",
   "execution_count": null,
   "id": "5cdab6de-bb4c-4553-a3d5-4a65cd5aa345",
   "metadata": {},
   "outputs": [],
   "source": [
    "fig, ax = plt.subplots(1, 1, figsize=(15,3))\n",
    "\n",
    "#ax[0].set_title(\"Differences at each position in frequencies.\")\n",
    "ax.set_yticks([0, 1, 2, 3], [\"A\", \"C\", \"G\", \"T\"])\n",
    "\n",
    "z1_plot = ax.imshow(\n",
    "    param_dict['theta_lc'].T, \n",
    "    aspect=\"auto\", \n",
    "    cmap=\"bwr\", \n",
    "    vmin=-np.max(np.abs(param_dict['theta_lc'])), \n",
    "    vmax=np.max(np.abs(param_dict['theta_lc']))\n",
    ")\n",
    "\n",
    "ax.grid(False)\n",
    "\n"
   ]
  },
  {
   "cell_type": "code",
   "execution_count": null,
   "id": "50b8e2d3-b83f-4959-9e8e-b49f9a21fa60",
   "metadata": {},
   "outputs": [],
   "source": [
    "prob_mat = np.exp(param_dict['theta_lc']).T / np.sum(np.exp(param_dict['theta_lc']).T, axis=0)\n",
    "rel_ent = [np.sum([prob_mat[i, j] * np.log2(prob_mat[i, j] / 0.25) for i in range(4)]) for j in range(160)]"
   ]
  },
  {
   "cell_type": "code",
   "execution_count": null,
   "id": "bb806596-8533-44b4-8bc4-0df90e13996f",
   "metadata": {},
   "outputs": [],
   "source": [
    "fig, ax = plt.subplots(figsize=(15, 3))\n",
    "ax.set_ylabel(\"relative entropy\")\n",
    "ax.set_xlabel(\"position relative to TSS\")\n",
    "d=1\n",
    "\n",
    "ax.bar(range(-115+d, 45-d), [np.mean(rel_ent[i-d:i+d]) for i in range(-115+d, 45-d)])\n",
    "#ax.bar(range(-115+d, 45-d), [np.mean(rel_ent[i-d:i+d]) for i in range(-115+d, 45-d)])"
   ]
  },
  {
   "cell_type": "code",
   "execution_count": 240,
   "id": "2f99ef61-4cdf-4185-be08-f7b895331bc0",
   "metadata": {},
   "outputs": [],
   "source": [
    "color_dict={\n",
    "    \"act\":\"#BFD598\",\n",
    "    \"dual\":\"#F3DAA9\",\n",
    "    \"rep\":\"#E8B19D\",\n",
    "    \"pol\":\"#A9BFE3\"\n",
    "   }"
   ]
  },
  {
   "cell_type": "markdown",
   "id": "ddd63017-19da-4d36-b4c9-032562806b0f",
   "metadata": {
    "tags": []
   },
   "source": [
    "## Expression shift"
   ]
  },
  {
   "cell_type": "code",
   "execution_count": 241,
   "id": "990a94f7-d4ea-4fda-94a4-ab904fc79964",
   "metadata": {},
   "outputs": [],
   "source": [
    "def expression_shift(promoter, gc, sites, d=1):\n",
    "    \"\"\"\n",
    "    Plot promoter footprint and add annotations for annotated sites.\n",
    "    \"\"\"\n",
    "        \n",
    "    # Double check that the files for the promoter exist\n",
    "    filepath = \"../../../data/processed_barcodes/20221114_barcode/{}_by_promoter/{}_counts.csv\".format(gc, promoter)\n",
    "    if not exists(filepath):\n",
    "        return\n",
    "    df = pd.read_csv(filepath)\n",
    "\n",
    "    # Filter\n",
    "    df = df.loc[df.gDNA_count > 10, :]\n",
    "    df[\"relative_counts\"] = df.cDNA_count / df.gDNA_count\n",
    "    df[\"total_counts\"] = df.cDNA_count + df.gDNA_count\n",
    "\n",
    "    # transform sequences to integers\n",
    "    DNA_dict = {\"A\":0, \"C\":1, \"G\":2, \"T\":3}\n",
    "    def make_int(x):\n",
    "        return np.array([DNA_dict[y] for y in x])\n",
    "\n",
    "    df['int_promoter'] = df['promoter'].apply(make_int)\n",
    "\n",
    "    # compute nucleotide frequencies\n",
    "    freq_mat = np.zeros([2, 4, 160])\n",
    "    for gDNA_counts, cDNA_counts, prom in zip(df['gDNA_count'], df['cDNA_count'], df['int_promoter']):\n",
    "        freq_mat[0, prom, np.arange(160)] += gDNA_counts\n",
    "        freq_mat[1, prom, np.arange(160)] += cDNA_counts\n",
    "\n",
    "    freq_mat /= np.sum(df.total_counts)\n",
    "\n",
    "    # find wild type sequence \n",
    "    wt_seq = np.argmax(np.sum(freq_mat, axis=0), axis=0)\n",
    "\n",
    "    def is_mut(x):\n",
    "        return ~np.equal(x, wt_seq)\n",
    "\n",
    "    df['is_mutated'] = df['int_promoter'].apply(is_mut)\n",
    "\n",
    "    mean_rel_counts = np.mean(df[\"relative_counts\"])\n",
    "    tot_counts = np.sum(df[\"total_counts\"])\n",
    "\n",
    "    ex_shift_arr = np.zeros(160)\n",
    "    for x, seq, c in zip(df['relative_counts'], df['is_mutated'], df['total_counts']):\n",
    "        ex_shift_arr[seq] += (x - mean_rel_counts) #* -1/np.log(c / tot_counts)\n",
    "\n",
    "    # make plot\n",
    "    fig, ax = plt.subplots(1, 1, figsize=(15, 4), sharex=True)\n",
    "\n",
    "    # colors for plotting (from PBoC)\n",
    "    color_dict={\n",
    "        \"act\":\"#BFD598\",\n",
    "        \"dual\":\"#F3DAA9\",\n",
    "        \"rep\":\"#E8B19D\",\n",
    "        \"pol\":\"#A9BFE3\"\n",
    "       }\n",
    "\n",
    "    # compute rolling average for expression shift\n",
    "    ex_shift_av = [np.sum(ex_shift_arr[i-d:i+d]) / (2 * d + 1) for i in range(d, 160-d)]\n",
    "    ex_shift_colors = [color_dict[\"rep\"] if x > 0 else color_dict[\"act\"] for x in ex_shift_av]\n",
    "\n",
    "    # plot expression shift\n",
    "    ax.bar(np.arange(160 - 2 * d) - (115-d), ex_shift_av, color=ex_shift_colors)\n",
    "    ax.set_ylabel(\"Expression Shift\")\n",
    "    ax.set_title(promoter + \" in \" + gc)\n",
    "\n",
    "    # plot patches\n",
    "    for element in sites:\n",
    "        if element[2] == \"act\":\n",
    "            h = 1.15 * np.min(ex_shift_av)\n",
    "        else:\n",
    "            h = 1.15 * np.max(ex_shift_av)\n",
    "        pp1 = Rectangle(\n",
    "            (element[0], 0), \n",
    "            -(element[0] - element[1]), \n",
    "            h, \n",
    "            alpha=0.2, \n",
    "            edgecolor=\"black\", \n",
    "            facecolor=color_dict[element[2]]\n",
    "        )\n",
    "        ax.add_patch(pp1)\n",
    "        ax.annotate(element[3], (element[0], h)) \n",
    "\n",
    "    plt.subplots_adjust(wspace=0, hspace=0)\n",
    "        \n",
    "    for element in sites:\n",
    "            if element[2] == \"act\":\n",
    "                h = 1.15 * np.min(ex_shift_av)\n",
    "            else:\n",
    "                h = 1.15 * np.max(ex_shift_av)\n",
    "            pp1 = Rectangle(\n",
    "                (element[0], 0), \n",
    "                -(element[0] - element[1]), \n",
    "                h, \n",
    "                alpha=0.2, \n",
    "                edgecolor=\"black\", \n",
    "                facecolor=color_dict[element[2]]\n",
    "            )\n",
    "            ax.add_patch(pp1)\n",
    "            ax.annotate(element[3], (element[0], h)) \n",
    "    plt.tight_layout()     \n",
    "    return"
   ]
  },
  {
   "cell_type": "code",
   "execution_count": 281,
   "id": "c341eed2-84f6-48f1-8eaa-a88e9dd41fb6",
   "metadata": {},
   "outputs": [
    {
     "data": {
      "image/png": "[encoded data removed]",
      "text/plain": [
       "<Figure size 1080x288 with 1 Axes>"
      ]
     },
     "metadata": {},
     "output_type": "display_data"
    }
   ],
   "source": [
    "promoter = \"syn_rand\"\n",
    "\n",
    "sites = []\n",
    "\n",
    "\n",
    "expression_shift(promoter, \"LB\", sites, d=1)"
   ]
  },
  {
   "cell_type": "code",
   "execution_count": 246,
   "id": "f384267f-ba97-44e4-b7b1-822d49847922",
   "metadata": {},
   "outputs": [
    {
     "data": {
      "image/png": "[encoded data removed]",
      "text/plain": [
       "<Figure size 1080x288 with 1 Axes>"
      ]
     },
     "metadata": {},
     "output_type": "display_data"
    }
   ],
   "source": [
    "promoter = \"araCp\"\n",
    "\n",
    "sites = [\n",
    "    (-113, -97, \"act\", \"AraC\"),\n",
    "    (-92, -76, \"dual\", \"AraC\"),\n",
    "    (-65, -44, \"act\", \"Crp\"),\n",
    "    (-39, -23, \"rep\", \"AraC\"),\n",
    "    (-28, -11, \"rep\", \"XylR\"),\n",
    "    (-18, -2, \"rep\", \"AraC\"),\n",
    "    (-7, 11, \"rep\", \"XylR\"),\n",
    "]\n",
    "\n",
    "sites=[]\n",
    "\n",
    "expression_shift(promoter, \"XyAr\",sites, d=1)"
   ]
  },
  {
   "cell_type": "code",
   "execution_count": null,
   "id": "c6b50035-c3e6-4844-abd6-825f0c19ce93",
   "metadata": {},
   "outputs": [],
   "source": []
  },
  {
   "cell_type": "code",
   "execution_count": 244,
   "id": "140f2b13-a494-4659-8cee-04555cb5e8e2",
   "metadata": {},
   "outputs": [
    {
     "ename": "TypeError",
     "evalue": "expression_shift() missing 1 required positional argument: 'sites'",
     "output_type": "error",
     "traceback": [
      "\u001b[0;31m---------------------------------------------------------------------------\u001b[0m",
      "\u001b[0;31mTypeError\u001b[0m                                 Traceback (most recent call last)",
      "Input \u001b[0;32mIn [244]\u001b[0m, in \u001b[0;36m<cell line: 12>\u001b[0;34m()\u001b[0m\n\u001b[1;32m      1\u001b[0m promoter \u001b[38;5;241m=\u001b[39m \u001b[38;5;124m\"\u001b[39m\u001b[38;5;124maraCp\u001b[39m\u001b[38;5;124m\"\u001b[39m\n\u001b[1;32m      3\u001b[0m sites \u001b[38;5;241m=\u001b[39m [\n\u001b[1;32m      4\u001b[0m     (\u001b[38;5;241m-\u001b[39m\u001b[38;5;241m113\u001b[39m, \u001b[38;5;241m-\u001b[39m\u001b[38;5;241m97\u001b[39m, \u001b[38;5;124m\"\u001b[39m\u001b[38;5;124mact\u001b[39m\u001b[38;5;124m\"\u001b[39m, \u001b[38;5;124m\"\u001b[39m\u001b[38;5;124mAraC\u001b[39m\u001b[38;5;124m\"\u001b[39m),\n\u001b[1;32m      5\u001b[0m     (\u001b[38;5;241m-\u001b[39m\u001b[38;5;241m92\u001b[39m, \u001b[38;5;241m-\u001b[39m\u001b[38;5;241m76\u001b[39m, \u001b[38;5;124m\"\u001b[39m\u001b[38;5;124mdual\u001b[39m\u001b[38;5;124m\"\u001b[39m, \u001b[38;5;124m\"\u001b[39m\u001b[38;5;124mAraC\u001b[39m\u001b[38;5;124m\"\u001b[39m),\n\u001b[0;32m   (...)\u001b[0m\n\u001b[1;32m     10\u001b[0m     (\u001b[38;5;241m-\u001b[39m\u001b[38;5;241m7\u001b[39m, \u001b[38;5;241m11\u001b[39m, \u001b[38;5;124m\"\u001b[39m\u001b[38;5;124mrep\u001b[39m\u001b[38;5;124m\"\u001b[39m, \u001b[38;5;124m\"\u001b[39m\u001b[38;5;124mXylR\u001b[39m\u001b[38;5;124m\"\u001b[39m),\n\u001b[1;32m     11\u001b[0m ]\n\u001b[0;32m---> 12\u001b[0m \u001b[43mexpression_shift\u001b[49m\u001b[43m(\u001b[49m\u001b[43mpromoter\u001b[49m\u001b[43m,\u001b[49m\u001b[43m \u001b[49m\u001b[43msites\u001b[49m\u001b[43m,\u001b[49m\u001b[43m \u001b[49m\u001b[43md\u001b[49m\u001b[38;5;241;43m=\u001b[39;49m\u001b[38;5;241;43m8\u001b[39;49m\u001b[43m)\u001b[49m\n",
      "\u001b[0;31mTypeError\u001b[0m: expression_shift() missing 1 required positional argument: 'sites'"
     ]
    }
   ],
   "source": [
    "promoter = \"araCp\"\n",
    "\n",
    "sites = [\n",
    "    (-113, -97, \"act\", \"AraC\"),\n",
    "    (-92, -76, \"dual\", \"AraC\"),\n",
    "    (-65, -44, \"act\", \"Crp\"),\n",
    "    (-39, -23, \"rep\", \"AraC\"),\n",
    "    (-28, -11, \"rep\", \"XylR\"),\n",
    "    (-18, -2, \"rep\", \"AraC\"),\n",
    "    (-7, 11, \"rep\", \"XylR\"),\n",
    "]\n",
    "expression_shift(promoter, sites, d=8)"
   ]
  },
  {
   "cell_type": "code",
   "execution_count": null,
   "id": "df588832-049b-471f-96ec-287004763112",
   "metadata": {},
   "outputs": [],
   "source": [
    "promoter = \"rspAp\"\n",
    "\n",
    "sites = [\n",
    "    (-39, -31, \"rep\", \"YdfH\"),\n",
    "    (-71, -50, \"act\", \"Crp\"),\n",
    "]\n",
    "expression_shift(promoter, sites, d=3)"
   ]
  },
  {
   "cell_type": "code",
   "execution_count": null,
   "id": "c3b25c24-be06-4233-98b8-2f4bd4259b86",
   "metadata": {},
   "outputs": [],
   "source": [
    "promoter = \"araBp\"\n",
    "\n",
    "sites = [\n",
    "    (-125, -109, \"rep\", \"AraC\"),\n",
    "    (-104, -83, \"act\", \"Crp\"),\n",
    "    (-72, -56, \"dual\", \"AraC\"),\n",
    "    (-51, -35, \"act\", \"AraC\"),\n",
    "]\n",
    "\n",
    "expression_shift(promoter, sites, d=3)"
   ]
  },
  {
   "cell_type": "markdown",
   "id": "c01f232c-c5dd-4b23-b9c8-07fb2c0b0b1e",
   "metadata": {},
   "source": [
    "### Synthetic data"
   ]
  },
  {
   "cell_type": "code",
   "execution_count": null,
   "id": "20c14a19-b011-4ca9-9c4c-ff7b58186e57",
   "metadata": {},
   "outputs": [],
   "source": [
    "promoter = \"syn\"\n",
    "\n",
    "sites = []\n",
    "\n",
    "expression_shift(promoter, sites, d=1)"
   ]
  },
  {
   "cell_type": "code",
   "execution_count": 93,
   "id": "606a1e35-3f17-421e-9fb9-e95d3318d210",
   "metadata": {},
   "outputs": [
    {
     "data": {
      "image/png": "[encoded data removed]",
      "text/plain": [
       "<Figure size 1080x288 with 1 Axes>"
      ]
     },
     "metadata": {},
     "output_type": "display_data"
    },
    {
     "data": {
      "image/png": "[encoded data removed]",
      "text/plain": [
       "<Figure size 1008x288 with 1 Axes>"
      ]
     },
     "metadata": {},
     "output_type": "display_data"
    }
   ],
   "source": [
    "promoter = \"syn_rand\"\n",
    "\n",
    "sites = []\n",
    "\n",
    "expression_shift(promoter, sites, d=1)"
   ]
  },
  {
   "cell_type": "markdown",
   "id": "2829a321-2366-4f45-abfa-4cd1a2567d01",
   "metadata": {},
   "source": [
    "# Frequency matrices"
   ]
  },
  {
   "cell_type": "code",
   "execution_count": null,
   "id": "e6da2062-0a5a-4ca5-aa9f-56b2807f4be4",
   "metadata": {},
   "outputs": [],
   "source": [
    "def freq_mat(promoter, gc, sites, d=1):\n",
    "    filepath = \"../../../data/processed_barcodes/20221114_barcode/{}_by_promoter/{}_counts.csv\".format(gc, promoter)\n",
    "    if not exists(filepath):\n",
    "        return\n",
    "    df = pd.read_csv(filepath)\n",
    "    # Filter\n",
    "    df = df.loc[df.gDNA_count > 10, :]\n",
    "    df[\"relative_counts\"] = df.cDNA_count / df.gDNA_count\n",
    "    df[\"total_counts\"] = df.cDNA_count + df.gDNA_count\n",
    "\n",
    "    # transform sequences to integers\n",
    "    DNA_dict = {\"A\":0, \"C\":1, \"G\":2, \"T\":3}\n",
    "    def make_int(x):\n",
    "        return np.array([DNA_dict[y] for y in x])\n",
    "\n",
    "    df['int_promoter'] = df['promoter'].apply(make_int)\n",
    "    # compute nucleotide frequencies\n",
    "    freq_mat = np.zeros([2, 4, 160])\n",
    "    tot_gDNA = np.sum(df['gDNA_count'])\n",
    "    tot_cDNA = np.sum(df['cDNA_count'])\n",
    "    for gDNA_counts, cDNA_counts, prom in zip(df['gDNA_count'], df['cDNA_count'], df['int_promoter']):\n",
    "        freq_mat[0, prom, np.arange(160)] += gDNA_counts / tot_gDNA\n",
    "        freq_mat[1, prom, np.arange(160)] += cDNA_counts / tot_cDNA\n",
    "    \n",
    "    # find wild type sequence \n",
    "    wt_seq = np.argmax(np.sum(freq_mat, axis=0), axis=0)\n",
    "    \n",
    "    freq_diffs = (freq_mat[0, :, :] - freq_mat[1, :, :])\n",
    "    \n",
    "    fig, ax = plt.subplots(3, 1, figsize=(15,8))\n",
    "    \n",
    "    ax[0].set_title(\"Differences at each position in frequencies.\")\n",
    "    ax[0].set_yticks([0, 1, 2, 3], [\"A\", \"C\", \"G\", \"T\"])\n",
    "    ax[0].set_xticks([])\n",
    "    ax[1].set_title(\"Differences at each position in frequencies.\")\n",
    "    ax[2].set_title(\"Differences in occurence of wild type letter between RNA and DNA.\")\n",
    "    ax[2].set_xlabel(\"Position\")\n",
    "    \n",
    "    z1_plot = ax[0].imshow(\n",
    "        freq_diffs, \n",
    "        aspect=\"auto\", \n",
    "        cmap=\"bwr\", \n",
    "        vmin=-np.max(np.abs(freq_diffs)), \n",
    "        vmax=np.max(np.abs(freq_diffs))\n",
    "    )\n",
    "    \n",
    "    ax[0].grid(False)\n",
    "    divider = make_axes_locatable(ax[0])\n",
    "\n",
    "    ax_cb = divider.append_axes(\"right\", size=\"2%\", pad=0.05)\n",
    "    fig_ = ax[0].get_figure()\n",
    "    fig_.add_axes(ax_cb)\n",
    "\n",
    "    plt.colorbar(z1_plot, cax=ax_cb)\n",
    "    y = np.sum(np.abs(freq_diffs), axis=0)\n",
    "    ax[1].bar(np.arange(d, 160-d) - 115, [np.sum(y[i-d:i+d+1]) / (2 * d + 1) for i in range(d, 160-d)])\n",
    "    diff_av = [np.sum(freq_diffs[wt_seq, np.arange(160)][i-d:i+d+1]) / (2 * d + 1) for i in range(d, 160-d)]\n",
    "    ax[2].bar(np.arange(d, 160-d) - 115, diff_av)\n",
    "    \n",
    "    for element in sites:\n",
    "        if element[2] == \"act\":\n",
    "            h = 1.15 * np.min(diff_av)\n",
    "        else:\n",
    "            h = 1.15 * np.max(diff_av)\n",
    "        pp1 = Rectangle(\n",
    "            (element[0], 0), \n",
    "            -(element[0] - element[1]), \n",
    "            h, \n",
    "            alpha=0.2, \n",
    "            edgecolor=\"black\", \n",
    "            facecolor=color_dict[element[2]]\n",
    "        )\n",
    "        ax[2].add_patch(pp1)\n",
    "        ax[2].annotate(element[3], (element[0], h)) \n",
    "    \n",
    "    plt.tight_layout()\n",
    "    return "
   ]
  },
  {
   "cell_type": "code",
   "execution_count": null,
   "id": "5d6179ec-3a55-429c-8bd5-388fa00b50c9",
   "metadata": {},
   "outputs": [],
   "source": [
    "promoter = \"syn_rand\"\n",
    "sites=[]\n",
    "freq_mat(promoter, \"LB\", sites, d=1)"
   ]
  },
  {
   "cell_type": "code",
   "execution_count": null,
   "id": "be7c4855-4e7c-4ee0-8cc7-4d690b455425",
   "metadata": {},
   "outputs": [],
   "source": [
    "promoter = \"araBp\"\n",
    "\n",
    "sites = [\n",
    "    (-125, -109, \"rep\", \"AraC\"),\n",
    "    (-104, -83, \"act\", \"Crp\"),\n",
    "    (-72, -56, \"dual\", \"AraC\"),\n",
    "    (-51, -35, \"act\", \"AraC\"),\n",
    "]\n",
    "\n",
    "freq_mat(promoter, \"XyAr\", sites, d=2)"
   ]
  },
  {
   "cell_type": "code",
   "execution_count": null,
   "id": "53f9ad05-315f-487d-a0bb-bc96d91a04f7",
   "metadata": {},
   "outputs": [],
   "source": [
    "promoter = \"rspAp\"\n",
    "\n",
    "sites = [\n",
    "    (-39, -31, \"rep\", \"YdfH\"),\n",
    "    (-71, -50, \"act\", \"Crp\"),\n",
    "]\n",
    "\n",
    "freq_mat(promoter, \"Gluc\", sites, d=2)"
   ]
  },
  {
   "cell_type": "code",
   "execution_count": null,
   "id": "d0114401-05e0-4183-b40c-10b18c3ef687",
   "metadata": {},
   "outputs": [],
   "source": [
    "promoter = \"araCp\"\n",
    "\n",
    "sites = [\n",
    "    (-113, -97, \"act\", \"AraC\"),\n",
    "    (-92, -76, \"dual\", \"AraC\"),\n",
    "    (-65, -44, \"act\", \"Crp\"),\n",
    "    (-39, -23, \"rep\", \"AraC\"),\n",
    "    (-28, -11, \"rep\", \"XylR\"),\n",
    "    (-18, -2, \"rep\", \"AraC\"),\n",
    "    (-7, 11, \"rep\", \"XylR\"),\n",
    "]\n",
    "\n",
    "freq_mat(promoter, \"LB\", sites, d=2)"
   ]
  },
  {
   "cell_type": "code",
   "execution_count": null,
   "id": "efbd52cc-e725-460f-b8f2-f5de86209af2",
   "metadata": {},
   "outputs": [],
   "source": [
    "promoter = find_promoter(\"ecnB\")\n",
    "\n",
    "sites = [\n",
    "    (9, 28, \"rep\", \"OmpR\"),\n",
    "]\n",
    "freq_mat(promoter, \"Etoh\", sites, d=1)"
   ]
  },
  {
   "cell_type": "code",
   "execution_count": null,
   "id": "bcb01702-022d-4b3f-85e9-bd4884e7fdb8",
   "metadata": {},
   "outputs": [],
   "source": []
  },
  {
   "cell_type": "markdown",
   "id": "afa3834c-230a-43f6-9bc9-65cd585f3177",
   "metadata": {},
   "source": [
    "## ICA"
   ]
  },
  {
   "cell_type": "code",
   "execution_count": null,
   "id": "01ff84c2-65eb-47e2-98bc-f179252c4aae",
   "metadata": {},
   "outputs": [],
   "source": [
    "transformer = FastICA(\n",
    "    n_components=7,\n",
    "    random_state=0,\n",
    "    whiten='unit-variance')\n",
    "X_transformed = transformer.fit_transform(X)\n",
    "X_transformed.shape"
   ]
  },
  {
   "cell_type": "code",
   "execution_count": null,
   "id": "8b1a5514-e3a6-4540-acc8-6860f2e8f6b6",
   "metadata": {},
   "outputs": [],
   "source": []
  },
  {
   "cell_type": "markdown",
   "id": "5bde8b77-9d1f-464e-bb5f-57e9c75dcd03",
   "metadata": {},
   "source": [
    "## Mutual information and Linear Regression"
   ]
  },
  {
   "cell_type": "code",
   "execution_count": null,
   "id": "be37f143-f1ab-4db7-b143-e059019b5399",
   "metadata": {},
   "outputs": [],
   "source": [
    "def mut_information(p):\n",
    "    \"\"\"\n",
    "    Compute mutial information from joint probability distribution p(m, mu).\n",
    "    \"\"\"\n",
    "    l = np.size(p, 2)\n",
    "    I = np.zeros(l)\n",
    "    for i in range(l):\n",
    "        p_mu = np.sum(p[:, :, i], axis=0)\n",
    "        p_m = np.sum(p[:, :, i], axis=1)\n",
    "        I[i] = np.sum([p[m, mu, i] * np.log2(p[m, mu, i] / p_m[m] / p_mu[mu]) for mu in [0, 1] for m in [0, 1]])\n",
    "\n",
    "    return I\n",
    "\n",
    "    \n",
    "\n",
    "def make_footprints(promoter, sites, d_lin=2, d_MI=2):\n",
    "    \"\"\"\n",
    "    Plot promoter footprint and add annotations for annotated sites.\n",
    "    \"\"\"\n",
    "    \n",
    "    # Iterate through growth conditions\n",
    "    for gc in [\"LB\", \"Etoh\", \"Gluc\", \"XyAr\"]:\n",
    "        \n",
    "        # Double check that the files for the promoter exist\n",
    "        filepath = \"../../../data/processed_barcodes/20221114_barcode/{}_by_promoter/{}_counts.csv\".format(gc, promoter)\n",
    "        if not exists(filepath):\n",
    "            break\n",
    "        df = pd.read_csv(filepath)\n",
    "        # Filter\n",
    "        df = df.loc[df.gDNA_count > 10, :]\n",
    "        # read counts and compute total counts per sequence\n",
    "        df[\"total_counts\"] = [x + y for x, y in zip(df.cDNA_count, df.gDNA_count)]\n",
    "    \n",
    "        # transform sequences to integers\n",
    "        DNA_dict = {\"A\":0, \"C\":1, \"G\":2, \"T\":3}\n",
    "        def make_int(x):\n",
    "            return np.array([DNA_dict[y] for y in x])\n",
    "\n",
    "        df['int_promoter'] = df['promoter'].apply(make_int)\n",
    "        \n",
    "        # compute nucleotide frequencies\n",
    "        freq_mat = np.zeros([2, 4, 160])\n",
    "        for gDNA_counts, cDNA_counts, prom in zip(df['gDNA_count'], df['cDNA_count'], df['int_promoter']):\n",
    "            freq_mat[0, prom, np.arange(160)] += gDNA_counts\n",
    "            freq_mat[1, prom, np.arange(160)] += cDNA_counts\n",
    "            \n",
    "        freq_mat /= np.sum(df.total_counts)\n",
    "        \n",
    "        # find wild type sequence \n",
    "        wt_seq = np.argmax(np.sum(freq_mat, axis=0), axis=0)\n",
    "        \n",
    "        # compute relative counts and rescale by mean\n",
    "        rel_counts = df.cDNA_count / df.gDNA_count\n",
    "        rel_counts = rel_counts - np.mean(rel_counts)\n",
    "        \n",
    "        # make binary sequences about mutations\n",
    "        binary_seqs = [1 - np.equal(wt_seq, x) for x in df['int_promoter']]\n",
    "        reg = LinearRegression().fit(binary_seqs, rel_counts)\n",
    "        \n",
    "        \n",
    "        # compute probabilites for mutual information\n",
    "        p = np.zeros([2, 2, 160])\n",
    "        p[0, 0, :] = np.max(freq_mat[0, :, :], axis=0)\n",
    "        p[1, 0, :] = np.sum(freq_mat[0, :, :], axis=0) - np.max(freq_mat[0, :, :], axis=0)\n",
    "        p[0, 1, :] = np.max(freq_mat[1, :, :], axis=0)\n",
    "        p[1, 1, :] = np.sum(freq_mat[1, :, :], axis=0) - np.max(freq_mat[1, :, :], axis=0)\n",
    "        \n",
    "        # compute mutual information\n",
    "        MI = mut_information(p)\n",
    "        \n",
    "        # make plot\n",
    "        fig, ax = plt.subplots(2, 1, figsize=(15, 8), sharex=True)\n",
    "        \n",
    "        # colors for plotting (from PBoC)\n",
    "        color_dict={\n",
    "            \"act\":\"#BFD598\",\n",
    "            \"dual\":\"#F3DAA9\",\n",
    "            \"rep\":\"#E8B19D\",\n",
    "            \"pol\":\"#A9BFE3\"\n",
    "           }\n",
    "        \n",
    "        # compute rolling average for linear regression\n",
    "        lin_reg_av = [np.sum(reg.coef_[i-d_lin:i+d_lin]) / (2 * d_lin + 1) for i in range(d_lin, 160-d_lin)]\n",
    "        lin_reg_colors = [color_dict[\"rep\"] if x > 0 else color_dict[\"act\"] for x in lin_reg_av]\n",
    "        \n",
    "        # plot linear regression\n",
    "        ax[0].bar(np.arange(160 - 2 * d_lin) - (115-d_lin), lin_reg_av, color=lin_reg_colors)\n",
    "        ax[0].set_ylabel(\"Linear Regression Coefficient\")\n",
    "        ax[0].set_title(promoter + \" in \" + gc)\n",
    "            \n",
    "        # compute rolling average for mutual information\n",
    "        MI_av = [np.sum(MI[i-d_MI:i+d_MI]) / (2 * d_MI + 1) for i in range(d_MI, 160-d_MI)]\n",
    "\n",
    "        # plot mutual information footprint\n",
    "        ax[1].bar(np.arange(160 - 2 * d_MI) - (115-d_MI), MI_av)\n",
    "        ax[1].set_ylabel(\"Mutual Information\")\n",
    "        ax[1].set_xlabel(\"Position [rel. to TSS]\")\n",
    "\n",
    "        # plot patches\n",
    "        for element in sites:\n",
    "            if element[2] == \"act\":\n",
    "                h = 1.15 * np.min(lin_reg_av)\n",
    "            else:\n",
    "                h = 1.15 * np.max(lin_reg_av)\n",
    "            pp1 = Rectangle(\n",
    "                (element[0], 0), \n",
    "                -(element[0] - element[1]), \n",
    "                h, \n",
    "                alpha=0.2, \n",
    "                edgecolor=\"black\", \n",
    "                facecolor=color_dict[element[2]]\n",
    "            )\n",
    "            ax[0].add_patch(pp1)\n",
    "            ax[0].annotate(element[3], (element[0], h)) \n",
    "            \n",
    "            if element[2] == \"pol\":\n",
    "                h = 1.15 * np.max(MI_av)\n",
    "            else:\n",
    "                h = 1.05 * np.max(MI_av)\n",
    "            \n",
    "            pp1 = Rectangle(\n",
    "                (element[0], 0), \n",
    "                -(element[0] - element[1]), \n",
    "                h, \n",
    "                alpha=0.2, \n",
    "                edgecolor=\"black\", \n",
    "                facecolor=color_dict[element[2]]\n",
    "            )\n",
    "                \n",
    "            ax[1].add_patch(pp1)\n",
    "            ax[1].annotate(element[3], (element[0], h)) \n",
    "        plt.subplots_adjust(wspace=0, hspace=0)\n",
    "        if len(sites) == 0:\n",
    "            continue\n",
    "            #fig.savefig(\"../../../code/processing/20221114_barcode/figures/footprints_unannotated/{}_footprint_{}.pdf\".format(promoter,gc))\n",
    "        else:\n",
    "            continue\n",
    "            #fig.savefig(\"../../../code/processing/20221114_barcode/figures/footprints_annotated/{}_footprint_{}.pdf\".format(promoter,gc))\n",
    "        \n",
    "        #plt.close(fig)"
   ]
  },
  {
   "cell_type": "code",
   "execution_count": null,
   "id": "ce79cb63-e810-4b9b-bc8b-f2438b97f560",
   "metadata": {},
   "outputs": [],
   "source": [
    "promoter = \"syn_rand\"\n",
    "sites=[]\n",
    "\n",
    "make_footprints(promoter, sites)"
   ]
  },
  {
   "cell_type": "code",
   "execution_count": null,
   "id": "90fc1b9e-98f6-4383-a67f-c60ea58576ca",
   "metadata": {},
   "outputs": [],
   "source": [
    "promoter = \"xylFp\"\n",
    "\n",
    "sites = [\n",
    "    (-91, -73, \"rep\", \"Fis\"),\n",
    "    (-84, -66, \"rep\", \"Fis\"),\n",
    "    (-70, -53, \"act\", \"XylR\"),\n",
    "    (-49, -32, \"act\", \"XylR\"),\n",
    "    (15, 31, \"rep\", \"Fis\"),\n",
    "]\n",
    "\n",
    "make_footprints(promoter, sites)"
   ]
  },
  {
   "cell_type": "code",
   "execution_count": null,
   "id": "b00810c1-6519-4200-8aa1-283efaa7544b",
   "metadata": {},
   "outputs": [],
   "source": [
    "promoter = \"araBp\"\n",
    "\n",
    "sites = [\n",
    "    (-125, -109, \"rep\", \"AraC\"),\n",
    "    (-104, -83, \"act\", \"Crp\"),\n",
    "    (-72, -56, \"dual\", \"AraC\"),\n",
    "    (-51, -35, \"act\", \"AraC\"),\n",
    "]\n",
    "\n",
    "make_footprints(promoter, sites)"
   ]
  },
  {
   "cell_type": "code",
   "execution_count": null,
   "id": "540fb7a6-f603-4883-8b69-6a0ce63a7aed",
   "metadata": {},
   "outputs": [],
   "source": [
    "promoter = \"araCp\"\n",
    "\n",
    "sites = [\n",
    "    (-113, -97, \"act\", \"AraC\"),\n",
    "    (-92, -76, \"dual\", \"AraC\"),\n",
    "    (-65, -44, \"act\", \"Crp\"),\n",
    "    (-39, -23, \"rep\", \"AraC\"),\n",
    "    (-28, -11, \"rep\", \"XylR\"),\n",
    "    (-18, -2, \"rep\", \"AraC\"),\n",
    "    (-7, 11, \"rep\", \"XylR\"),\n",
    "]\n",
    "\n",
    "make_footprints(promoter, sites)"
   ]
  },
  {
   "cell_type": "code",
   "execution_count": null,
   "id": "a1cf160d-7887-412c-b54e-60bf1798b58e",
   "metadata": {},
   "outputs": [],
   "source": [
    "promoter = \"rspAp\"\n",
    "\n",
    "sites = [\n",
    "    (-39, -31, \"rep\", \"YdfH\"),\n",
    "    (-71, -50, \"act\", \"Crp\"),\n",
    "]\n",
    "make_footprints(promoter, sites)"
   ]
  },
  {
   "cell_type": "code",
   "execution_count": null,
   "id": "ee4f199e-4c96-4ff6-8373-94369778f7b5",
   "metadata": {},
   "outputs": [],
   "source": [
    "promoter = \"xylAp\"\n",
    "\n",
    "sites = [\n",
    "    (-92, -71, \"act\", \"Crp\"),\n",
    "    (-71, -54, \"act\", \"XylR\"),\n",
    "    (-55, -40, \"rep\", \"AraC\"),\n",
    "    (-50, -33, \"act\", \"XylR\"),\n",
    "    (-33, -17, \"rep\", \"AraC\"),\n",
    "]\n",
    "\n",
    "make_footprints(promoter, sites)"
   ]
  },
  {
   "cell_type": "code",
   "execution_count": null,
   "id": "aac9359d-c16d-4abb-880a-ea514402dac6",
   "metadata": {},
   "outputs": [],
   "source": [
    "promoter = \"yacCp\"\n",
    "\n",
    "sites = [\n",
    "]\n",
    "make_footprints(promoter, sites)"
   ]
  },
  {
   "cell_type": "code",
   "execution_count": null,
   "id": "59304429-41f9-4588-812b-3d734bfe1e95",
   "metadata": {},
   "outputs": [],
   "source": [
    "promoter = find_promoter(\"yahL\")\n",
    "sites = [\n",
    "]\n",
    "make_footprints(promoter, sites)"
   ]
  },
  {
   "cell_type": "code",
   "execution_count": null,
   "id": "5c019e53-292e-46cf-9685-eea59942750e",
   "metadata": {},
   "outputs": [],
   "source": [
    "promoter = find_promoter(\"fur\")\n",
    "sites = [\n",
    "]\n",
    "make_footprints(promoter, sites)"
   ]
  },
  {
   "cell_type": "code",
   "execution_count": null,
   "id": "6c237f89-9b8c-4f66-8220-f77ee43c1f86",
   "metadata": {},
   "outputs": [],
   "source": [
    "promoter = find_promoter(\"ybiY\")\n",
    "sites = [\n",
    "]\n",
    "make_footprints(promoter, sites)"
   ]
  },
  {
   "cell_type": "code",
   "execution_count": null,
   "id": "83c751fa-17bb-454e-ac6b-f97b01bb19d3",
   "metadata": {},
   "outputs": [],
   "source": [
    "promoter = find_promoter(\"rcsB\")\n",
    "sites = [\n",
    "]\n",
    "make_footprints(promoter, sites)"
   ]
  },
  {
   "cell_type": "code",
   "execution_count": null,
   "id": "ae0cb033-0022-49d3-a5a3-21913f8ca300",
   "metadata": {},
   "outputs": [],
   "source": [
    "promoter = find_promoter(\"xdhA\")\n",
    "sites = [\n",
    "]\n",
    "make_footprints(promoter, sites)"
   ]
  },
  {
   "cell_type": "code",
   "execution_count": null,
   "id": "7192051b-fad5-4194-a3cc-845c32f70bd0",
   "metadata": {},
   "outputs": [],
   "source": [
    "promoter = find_promoter(\"relB\")\n",
    "sites = [\n",
    "    (-19, -8, \"rep\", \"RelEB\"),\n",
    "    (-5, 7, \"rep\", \"RelEB/RelE\"),\n",
    "    (8, 19, \"rep\", \"RelEB/RelE\"),\n",
    "    (23, 33, \"rep\", \"RelEB\")\n",
    "]\n",
    "make_footprints(promoter, sites)"
   ]
  },
  {
   "cell_type": "code",
   "execution_count": null,
   "id": "8f4dbdc7-7fbb-4a5a-9840-2a2b080e8495",
   "metadata": {},
   "outputs": [],
   "source": [
    "promoter = find_promoter(\"ftsK\")\n",
    "sites = [\n",
    "    (-10, 10, \"rep\", \"LexA\"),\n",
    "]\n",
    "make_footprints(promoter, sites)"
   ]
  },
  {
   "cell_type": "code",
   "execution_count": null,
   "id": "8e41ab38-86b3-426d-9eab-965904e57b91",
   "metadata": {},
   "outputs": [],
   "source": [
    "promoter = find_promoter(\"znuC\")\n",
    "sites = [\n",
    "    (-36, -20, \"act\", \"OxyR\"),\n",
    "    (-21, 2, \"rep\", \"Zur\")\n",
    "]\n",
    "make_footprints(promoter, sites)"
   ]
  },
  {
   "cell_type": "code",
   "execution_count": null,
   "id": "f53b0ec9-3733-46d2-8ea6-7f60a14a54bf",
   "metadata": {},
   "outputs": [],
   "source": [
    "\n",
    "promoter = find_promoter(\"lacI\")\n",
    "sites = [\n",
    "]\n",
    "make_footprints(promoter, sites)"
   ]
  },
  {
   "cell_type": "code",
   "execution_count": null,
   "id": "625af5c8-bb60-4f27-9bee-9afb86357870",
   "metadata": {},
   "outputs": [],
   "source": [
    "promoter = find_promoter(\"galS\")\n",
    "sites = [\n",
    "    (-69, -54, \"rep\", \"galS/galE\"),\n",
    "    (-53, -32, \"act\", \"Crp\")\n",
    "]\n",
    "make_footprints(promoter, sites)"
   ]
  },
  {
   "cell_type": "code",
   "execution_count": null,
   "id": "17d4c52e-388e-41f2-ba87-1829a8da5d87",
   "metadata": {},
   "outputs": [],
   "source": [
    "promoter = find_promoter(\"cpxR\")\n",
    "sites = [\n",
    "    (-57, -37, \"act\", \"CpxR\"),\n",
    "    (-77, -57, \"act\", \"CpxR\")\n",
    "]\n",
    "make_footprints(promoter, sites)"
   ]
  },
  {
   "cell_type": "code",
   "execution_count": null,
   "id": "1199df87-89e4-4c98-8c75-dec7eb13a8b7",
   "metadata": {},
   "outputs": [],
   "source": [
    "promoter = find_promoter(\"hdeA\")\n",
    "sites = [\n",
    "    (-20, -35, \"rep\", \"FliZ\"),\n",
    "    (-1, 19, \"act\", \"GadE\"),\n",
    "    (-25, -11, \"rep\", \"Lrp\"),\n",
    "    (-32, -23, \"act\", \"TorR\"),\n",
    "    (-40, -24, \"act\", \"PhoP\"),\n",
    "    (-49, -29, \"rep\", \"MarA\"),\n",
    "    (-104, -90, \"rep\", \"Lrp\"),\n",
    "    (-63, -44, \"dual\", \"GadW/GadX\"),\n",
    "    (-56, -47, \"act\", \"TorR\"),\n",
    "    (-62, -48, \"act\", \"Lrp\")\n",
    "]\n",
    "make_footprints(promoter, sites)"
   ]
  },
  {
   "cell_type": "code",
   "execution_count": null,
   "id": "a6eec6d6-a001-4692-b29b-ef5695c6334a",
   "metadata": {},
   "outputs": [],
   "source": [
    "promoter = find_promoter(\"aceB\")\n",
    "sites = [\n",
    "    (-29, -23, \"rep\", \"IclR\"),\n",
    "    (-45, -31, \"rep\", \"IclR\"),\n",
    "    (-56, -50, \"rep\", \"IclR\"),\n",
    "    (-107, -101, \"rep\", \"IclR\"),\n",
    "    (-78, -66, \"act\", \"IHF\"),\n",
    "]\n",
    "make_footprints(promoter, sites)"
   ]
  },
  {
   "cell_type": "code",
   "execution_count": null,
   "id": "0b446e36-8f44-4d48-813a-921f1cb2def4",
   "metadata": {},
   "outputs": [],
   "source": [
    "promoter = find_promoter(\"ecnB\")\n",
    "\n",
    "sites = [\n",
    "    (9, 28, \"rep\", \"OmpR\"),\n",
    "]\n",
    "\n",
    "make_footprints(promoter, sites)"
   ]
  },
  {
   "cell_type": "code",
   "execution_count": null,
   "id": "ff0587c3-12f0-4d01-9842-e4101cf74a17",
   "metadata": {},
   "outputs": [],
   "source": []
  },
  {
   "cell_type": "markdown",
   "id": "eb1631e9-b77b-4a07-8ffd-a58df69d6cf8",
   "metadata": {},
   "source": [
    "## Relative expression for different promoters"
   ]
  },
  {
   "cell_type": "code",
   "execution_count": null,
   "id": "337db445-8826-4002-b603-a5f413094a80",
   "metadata": {},
   "outputs": [],
   "source": []
  },
  {
   "cell_type": "markdown",
   "id": "28eb37c2-89e9-4f57-895f-5be1562b3ab8",
   "metadata": {},
   "source": [
    "## qcbc"
   ]
  },
  {
   "cell_type": "code",
   "execution_count": null,
   "id": "0e6bbdf7-713f-4e3c-93b2-657e534f5457",
   "metadata": {},
   "outputs": [],
   "source": [
    "np.arange(19)[2:]+1"
   ]
  },
  {
   "cell_type": "code",
   "execution_count": null,
   "id": "45c1db36-b35c-4249-abc2-aa00ad0184a5",
   "metadata": {},
   "outputs": [],
   "source": [
    "np.arange(3,20)"
   ]
  },
  {
   "cell_type": "code",
   "execution_count": null,
   "id": "597ca6dd-5135-42ba-b471-1fae1765ec0e",
   "metadata": {},
   "outputs": [],
   "source": [
    "# Exclude last sample (all_possible_20bp_barcodes_unique) since it is only available as unique\n",
    "\n",
    "for length in np.arange(19)[2:]+1:\n",
    "    in_file = f\"../../../data/processed_sequencing/20220514_mapping/100_barcode_promoter_list.txt\"\n",
    "    out_file = f\"../../../data/processed_barcodes/20220514_mapping/100_barcode_promoter_qcbc.txt\"\n",
    "    !qcbc ambiguous -l $length -o $out_file $in_file"
   ]
  },
  {
   "cell_type": "code",
   "execution_count": null,
   "id": "b45f8809-2528-4c04-bea3-8060ba2e42a6",
   "metadata": {},
   "outputs": [],
   "source": [
    "def rel_expression(promoter):\n",
    "    \"\"\"\n",
    "    Plot promoter footprint and add annotations for annotated sites.\n",
    "    \"\"\"\n",
    "    # Iterate through growth conditions\n",
    "    fig, ax = plt.subplots(1, 2, figsize=(8, 4))\n",
    "    \n",
    "    ax[0].set_xlabel(\"mean gDNA counts\")\n",
    "    ax[0].set_ylabel(\"mean relative counts\")\n",
    "    ax[0].set_title(promoter)\n",
    "    \n",
    "    ax[1].set_xlabel(\"median gDNA counts\")\n",
    "    ax[1].set_ylabel(\"median relative counts\")\n",
    "    for i, gc in enumerate([\"LB\", \"Etoh\", \"Gluc\", \"XyAr\"]):\n",
    "        \n",
    "        # Double check that the files for the promoter exist\n",
    "        filepath = \"../../../data/processed_barcodes/20221114_barcode/{}_by_promoter/{}_counts.csv\".format(gc, promoter)\n",
    "        if not exists(filepath):\n",
    "            break\n",
    "        df = pd.read_csv(filepath)\n",
    "        df[\"relative_counts\"] = df.cDNA_count / df.gDNA_count\n",
    "        df[\"total_counts\"] = df.cDNA_count + df.gDNA_count\n",
    "        ax[0].scatter(np.mean(df.gDNA_count), np.mean(df[\"relative_counts\"]))\n",
    "        ax[1].scatter(np.median(df.gDNA_count), np.median(df[\"relative_counts\"]), label=gc)\n",
    "    ax[1].legend()\n",
    "    plt.tight_layout()\n",
    "\n",
    "    plt.close()\n",
    "    return fig"
   ]
  },
  {
   "cell_type": "code",
   "execution_count": null,
   "id": "f7cac913-1ab0-4fc7-aa12-53efb5a93f2b",
   "metadata": {},
   "outputs": [],
   "source": [
    "promoter = \"araBp\"\n",
    "rel_expression(promoter)"
   ]
  },
  {
   "cell_type": "code",
   "execution_count": null,
   "id": "c71fdad3-6166-47b4-a602-d6c54212b0d0",
   "metadata": {},
   "outputs": [],
   "source": [
    "promoter = \"araCp\"\n",
    "rel_expression(promoter)"
   ]
  },
  {
   "cell_type": "code",
   "execution_count": null,
   "id": "0b3fddc9-5de6-4906-b5d0-97764459d464",
   "metadata": {},
   "outputs": [],
   "source": [
    "promoter = \"xylFp\"\n",
    "rel_expression(promoter)"
   ]
  },
  {
   "cell_type": "code",
   "execution_count": null,
   "id": "76298edc-3604-401e-8a5a-30868424c7d5",
   "metadata": {},
   "outputs": [],
   "source": [
    "promoter = \"yacCp\"\n",
    "rel_expression(promoter)"
   ]
  },
  {
   "cell_type": "code",
   "execution_count": null,
   "id": "8e09542d-0258-4a65-bc91-e3c710107951",
   "metadata": {},
   "outputs": [],
   "source": [
    "promoter = find_promoter(\"hdeA\")\n",
    "rel_expression(promoter)"
   ]
  },
  {
   "cell_type": "code",
   "execution_count": null,
   "id": "4bb2b946-8c17-4596-b4f3-e7f83c675c0c",
   "metadata": {},
   "outputs": [],
   "source": [
    "promoter = find_promoter(\"crp\")\n",
    "rel_expression(promoter)"
   ]
  },
  {
   "cell_type": "code",
   "execution_count": null,
   "id": "807d6c8a-e783-43f5-9eca-d52638954c33",
   "metadata": {},
   "outputs": [],
   "source": [
    "color_dict={\n",
    "    \"LB\":\"#FA815F\",\n",
    "    \"Etoh\":\"#9F48D9\",\n",
    "    \"Gluc\":\"#58D948\",\n",
    "    \"XyAr\":\"#FCD353\"\n",
    "   }\n",
    "fig, ax = plt.subplots(1, 2, figsize=(10, 5))\n",
    "\n",
    "ax[0].set_xlabel(\"mean gDNA counts\")\n",
    "ax[0].set_ylabel(\"mean relative counts\")\n",
    "\n",
    "ax[1].set_xlabel(\"median gDNA counts\")\n",
    "ax[1].set_ylabel(\"median relative counts\")\n",
    "for promoter in promoter_names:\n",
    "    for i, gc in enumerate([\"LB\", \"Etoh\", \"Gluc\", \"XyAr\"]):\n",
    "        # Double check that the files for the promoter exist\n",
    "        filepath = \"../../../data/processed_barcodes/20221114_barcode/{}_by_promoter/{}_counts.csv\".format(gc, promoter)\n",
    "        if not exists(filepath):\n",
    "            break\n",
    "        df = pd.read_csv(filepath)\n",
    "        df[\"relative_counts\"] = df.cDNA_count / df.gDNA_count\n",
    "        df[\"total_counts\"] = df.cDNA_count + df.gDNA_count\n",
    "        ax[0].scatter(np.mean(df.gDNA_count), np.mean(df[\"relative_counts\"]), color=color_dict[gc], alpha=0.4)\n",
    "        ax[1].scatter(np.median(df.gDNA_count), np.median(df[\"relative_counts\"]), color=color_dict[gc], alpha=0.4)\n",
    "\n",
    "custom_lines = [\n",
    "    Line2D([0], [0], color=color_dict[\"LB\"], marker='o', lw=0, markersize=4),\n",
    "    Line2D([0], [0], color=color_dict[\"Etoh\"], marker='o', lw=0, markersize=4),\n",
    "    Line2D([0], [0], color=color_dict[\"Gluc\"], marker='o', lw=0, markersize=4),\n",
    "    Line2D([0], [0], color=color_dict[\"XyAr\"], marker='o', lw=0, markersize=4)\n",
    "   ]\n",
    "\n",
    "ax[1].legend(custom_lines, [\"LB\", \"Etoh\", \"Gluc\", \"XyAr\"])\n",
    "ax[1].plot(np.arange(80, 400), 1/np.arange(80, 400), \"--\", color=\"gray\", lw=2)\n",
    "ax[1].plot(np.arange(80, 400), 3.5/np.arange(80, 400), \"--\", color=\"black\", lw=2)\n",
    "ax[1].set_ylim([0, 0.05])\n",
    "plt.tight_layout()"
   ]
  },
  {
   "cell_type": "markdown",
   "id": "f21ff5e8-9804-40d9-87e0-4b6ec24b97ce",
   "metadata": {},
   "source": [
    "# MaveNN"
   ]
  },
  {
   "cell_type": "code",
   "execution_count": null,
   "id": "967c96ff-678f-4dd3-9a34-069f005a395e",
   "metadata": {},
   "outputs": [],
   "source": []
  },
  {
   "cell_type": "code",
   "execution_count": null,
   "id": "bb58a271-d260-41e0-971d-860a43b86e5a",
   "metadata": {},
   "outputs": [],
   "source": []
  },
  {
   "cell_type": "code",
   "execution_count": null,
   "id": "93809d28-f87d-4400-a7de-11a9305b1e68",
   "metadata": {},
   "outputs": [],
   "source": []
  }
 ],
 "metadata": {
  "kernelspec": {
   "display_name": "base",
   "language": "python",
   "name": "python3"
  },
  "language_info": {
   "codemirror_mode": {
    "name": "ipython",
    "version": 3
   },
   "file_extension": ".py",
   "mimetype": "text/x-python",
   "name": "python",
   "nbconvert_exporter": "python",
   "pygments_lexer": "ipython3",
   "version": "3.9.12 (main, Apr  5 2022, 06:56:58) \n[GCC 7.5.0]"
  },
  "vscode": {
   "interpreter": {
    "hash": "35455d277cc69279d69bd3d2fff07608906c78ad9fde0fa493e6ee7e737d810e"
   }
  }
 },
 "nbformat": 4,
 "nbformat_minor": 5
}
