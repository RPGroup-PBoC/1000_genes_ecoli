{
 "cells": [
  {
   "cell_type": "markdown",
   "id": "eafa859e-955a-41be-8e0a-d9e509bb7cd0",
   "metadata": {},
   "source": [
    "# Using mpathic to compute footprints"
   ]
  },
  {
   "cell_type": "code",
   "execution_count": 1,
   "id": "3a0b1bc1-5944-4e0c-aec7-7b6dcef63c96",
   "metadata": {},
   "outputs": [],
   "source": [
    "import pandas as pd\n",
    "import numpy as np\n",
    "import matplotlib.pyplot as plt"
   ]
  },
  {
   "cell_type": "code",
   "execution_count": 2,
   "id": "ca42390e-77f7-4c8b-9816-cf082e1829b8",
   "metadata": {},
   "outputs": [],
   "source": [
    "import sys\n",
    "sys.path.insert(0, '/home/tom/mpathic')\n"
   ]
  },
  {
   "cell_type": "code",
   "execution_count": 3,
   "id": "2f259944",
   "metadata": {},
   "outputs": [],
   "source": [
    "from mpathic import learn_model"
   ]
  },
  {
   "cell_type": "markdown",
   "id": "534b1873-c652-49fc-b96f-d02ed55173d9",
   "metadata": {},
   "source": [
    "First we import a test data set."
   ]
  },
  {
   "cell_type": "code",
   "execution_count": 4,
   "id": "47e47acb-9bd9-4101-b7d0-cc858ce18181",
   "metadata": {},
   "outputs": [
    {
     "data": {
      "text/html": [
       "<div>\n",
       "<style scoped>\n",
       "    .dataframe tbody tr th:only-of-type {\n",
       "        vertical-align: middle;\n",
       "    }\n",
       "\n",
       "    .dataframe tbody tr th {\n",
       "        vertical-align: top;\n",
       "    }\n",
       "\n",
       "    .dataframe thead th {\n",
       "        text-align: right;\n",
       "    }\n",
       "</style>\n",
       "<table border=\"1\" class=\"dataframe\">\n",
       "  <thead>\n",
       "    <tr style=\"text-align: right;\">\n",
       "      <th></th>\n",
       "      <th>cDNA_count</th>\n",
       "      <th>gDNA_count</th>\n",
       "      <th>barcode</th>\n",
       "      <th>name</th>\n",
       "      <th>mapping_count</th>\n",
       "      <th>promoter</th>\n",
       "    </tr>\n",
       "  </thead>\n",
       "  <tbody>\n",
       "    <tr>\n",
       "      <th>0</th>\n",
       "      <td>66678</td>\n",
       "      <td>1006</td>\n",
       "      <td>GTCAAAGGCTACTTTTTCTC</td>\n",
       "      <td>rspAp</td>\n",
       "      <td>170</td>\n",
       "      <td>TTCCTTCTTTTCTCGACCATTCACAGCGCATATATACCCATTTTCT...</td>\n",
       "    </tr>\n",
       "    <tr>\n",
       "      <th>1</th>\n",
       "      <td>54854</td>\n",
       "      <td>5380</td>\n",
       "      <td>AGACACCTTACGAAGCACTG</td>\n",
       "      <td>rspAp</td>\n",
       "      <td>95</td>\n",
       "      <td>TTTCATCTTTTGACAAGCATTCAGAGCGCAAATAGACGCCTTTTTT...</td>\n",
       "    </tr>\n",
       "    <tr>\n",
       "      <th>2</th>\n",
       "      <td>39960</td>\n",
       "      <td>1044</td>\n",
       "      <td>CACGGGAGGACTGACGCCAG</td>\n",
       "      <td>rspAp</td>\n",
       "      <td>171</td>\n",
       "      <td>TTTCATCATTTGCCAACCATTCACAGCGCAAATATAGGCCTTTTTT...</td>\n",
       "    </tr>\n",
       "    <tr>\n",
       "      <th>3</th>\n",
       "      <td>33885</td>\n",
       "      <td>365</td>\n",
       "      <td>TTTTCCTCAGGGCATAGCTC</td>\n",
       "      <td>rspAp</td>\n",
       "      <td>119</td>\n",
       "      <td>TTTCATCTTTTGTCAACCATTCACAGCGCATACAGACGCCTTTTTT...</td>\n",
       "    </tr>\n",
       "    <tr>\n",
       "      <th>4</th>\n",
       "      <td>31128</td>\n",
       "      <td>1273</td>\n",
       "      <td>CACTGTCGGACGTCAATACT</td>\n",
       "      <td>rspAp</td>\n",
       "      <td>350</td>\n",
       "      <td>GTTCAGCTATTGTCAACCATTCGCAGCGCAAATATACGCTTTTTTT...</td>\n",
       "    </tr>\n",
       "  </tbody>\n",
       "</table>\n",
       "</div>"
      ],
      "text/plain": [
       "   cDNA_count  gDNA_count               barcode   name  mapping_count  \\\n",
       "0       66678        1006  GTCAAAGGCTACTTTTTCTC  rspAp            170   \n",
       "1       54854        5380  AGACACCTTACGAAGCACTG  rspAp             95   \n",
       "2       39960        1044  CACGGGAGGACTGACGCCAG  rspAp            171   \n",
       "3       33885         365  TTTTCCTCAGGGCATAGCTC  rspAp            119   \n",
       "4       31128        1273  CACTGTCGGACGTCAATACT  rspAp            350   \n",
       "\n",
       "                                            promoter  \n",
       "0  TTCCTTCTTTTCTCGACCATTCACAGCGCATATATACCCATTTTCT...  \n",
       "1  TTTCATCTTTTGACAAGCATTCAGAGCGCAAATAGACGCCTTTTTT...  \n",
       "2  TTTCATCATTTGCCAACCATTCACAGCGCAAATATAGGCCTTTTTT...  \n",
       "3  TTTCATCTTTTGTCAACCATTCACAGCGCATACAGACGCCTTTTTT...  \n",
       "4  GTTCAGCTATTGTCAACCATTCGCAGCGCAAATATACGCTTTTTTT...  "
      ]
     },
     "execution_count": 4,
     "metadata": {},
     "output_type": "execute_result"
    }
   ],
   "source": [
    "df = pd.read_csv(\"../../../data/processed_barcodes/20221114_barcode/LB_by_promoter/rspAp_counts.csv\")\n",
    "df.head(5)"
   ]
  },
  {
   "cell_type": "markdown",
   "id": "12f43d53-b58a-4652-ae73-26385ccdf261",
   "metadata": {},
   "source": [
    "Prep dataframe to work with mpathic, therefore renaming columns and sorting the dataframe."
   ]
  },
  {
   "cell_type": "code",
   "execution_count": 5,
   "id": "90e714af-5e8c-4bd6-a63b-946dfa4e13e6",
   "metadata": {},
   "outputs": [
    {
     "data": {
      "text/html": [
       "<div>\n",
       "<style scoped>\n",
       "    .dataframe tbody tr th:only-of-type {\n",
       "        vertical-align: middle;\n",
       "    }\n",
       "\n",
       "    .dataframe tbody tr th {\n",
       "        vertical-align: top;\n",
       "    }\n",
       "\n",
       "    .dataframe thead th {\n",
       "        text-align: right;\n",
       "    }\n",
       "</style>\n",
       "<table border=\"1\" class=\"dataframe\">\n",
       "  <thead>\n",
       "    <tr style=\"text-align: right;\">\n",
       "      <th></th>\n",
       "      <th>ct</th>\n",
       "      <th>ct_0</th>\n",
       "      <th>ct_1</th>\n",
       "      <th>seq</th>\n",
       "    </tr>\n",
       "  </thead>\n",
       "  <tbody>\n",
       "    <tr>\n",
       "      <th>0</th>\n",
       "      <td>67684</td>\n",
       "      <td>1006</td>\n",
       "      <td>66678</td>\n",
       "      <td>TTCCTTCTTTTCTCGACCATTCACAGCGCATATATACCCATTTTCT...</td>\n",
       "    </tr>\n",
       "    <tr>\n",
       "      <th>1</th>\n",
       "      <td>60234</td>\n",
       "      <td>5380</td>\n",
       "      <td>54854</td>\n",
       "      <td>TTTCATCTTTTGACAAGCATTCAGAGCGCAAATAGACGCCTTTTTT...</td>\n",
       "    </tr>\n",
       "    <tr>\n",
       "      <th>2</th>\n",
       "      <td>41004</td>\n",
       "      <td>1044</td>\n",
       "      <td>39960</td>\n",
       "      <td>TTTCATCATTTGCCAACCATTCACAGCGCAAATATAGGCCTTTTTT...</td>\n",
       "    </tr>\n",
       "    <tr>\n",
       "      <th>3</th>\n",
       "      <td>34250</td>\n",
       "      <td>365</td>\n",
       "      <td>33885</td>\n",
       "      <td>TTTCATCTTTTGTCAACCATTCACAGCGCATACAGACGCCTTTTTT...</td>\n",
       "    </tr>\n",
       "    <tr>\n",
       "      <th>4</th>\n",
       "      <td>32401</td>\n",
       "      <td>1273</td>\n",
       "      <td>31128</td>\n",
       "      <td>GTTCAGCTATTGTCAACCATTCGCAGCGCAAATATACGCTTTTTTT...</td>\n",
       "    </tr>\n",
       "  </tbody>\n",
       "</table>\n",
       "</div>"
      ],
      "text/plain": [
       "      ct  ct_0   ct_1                                                seq\n",
       "0  67684  1006  66678  TTCCTTCTTTTCTCGACCATTCACAGCGCATATATACCCATTTTCT...\n",
       "1  60234  5380  54854  TTTCATCTTTTGACAAGCATTCAGAGCGCAAATAGACGCCTTTTTT...\n",
       "2  41004  1044  39960  TTTCATCATTTGCCAACCATTCACAGCGCAAATATAGGCCTTTTTT...\n",
       "3  34250   365  33885  TTTCATCTTTTGTCAACCATTCACAGCGCATACAGACGCCTTTTTT...\n",
       "4  32401  1273  31128  GTTCAGCTATTGTCAACCATTCGCAGCGCAAATATACGCTTTTTTT..."
      ]
     },
     "execution_count": 5,
     "metadata": {},
     "output_type": "execute_result"
    }
   ],
   "source": [
    "df.rename(\n",
    "    columns={\n",
    "        \"cDNA_count\": \"ct_1\",\n",
    "        \"gDNA_count\": \"ct_0\",\n",
    "        \"promoter\": \"seq\"\n",
    "    },\n",
    "    inplace=True\n",
    ")\n",
    "df['ct'] = df['ct_0'] + df['ct_1']\n",
    "df = df[['ct', 'ct_0', 'ct_1', 'seq']]\n",
    "df.head(5)"
   ]
  },
  {
   "cell_type": "markdown",
   "id": "b3813c50-8769-4c58-aa1d-7a28594c4768",
   "metadata": {},
   "source": [
    "Run mpathic on dataframe."
   ]
  },
  {
   "cell_type": "markdown",
   "id": "1c0843ab-733f-416b-85e1-8a4695011df3",
   "metadata": {},
   "source": [
    "## Reg Seq data, re-processed"
   ]
  },
  {
   "cell_type": "code",
   "execution_count": 6,
   "id": "78d7cc2d-ca22-4c52-90fb-ed049d664c9f",
   "metadata": {},
   "outputs": [
    {
     "data": {
      "text/html": [
       "<div>\n",
       "<style scoped>\n",
       "    .dataframe tbody tr th:only-of-type {\n",
       "        vertical-align: middle;\n",
       "    }\n",
       "\n",
       "    .dataframe tbody tr th {\n",
       "        vertical-align: top;\n",
       "    }\n",
       "\n",
       "    .dataframe thead th {\n",
       "        text-align: right;\n",
       "    }\n",
       "</style>\n",
       "<table border=\"1\" class=\"dataframe\">\n",
       "  <thead>\n",
       "    <tr style=\"text-align: right;\">\n",
       "      <th></th>\n",
       "      <th>pos</th>\n",
       "      <th>val_A</th>\n",
       "      <th>val_C</th>\n",
       "      <th>val_G</th>\n",
       "      <th>val_T</th>\n",
       "    </tr>\n",
       "  </thead>\n",
       "  <tbody>\n",
       "    <tr>\n",
       "      <th>0</th>\n",
       "      <td>0</td>\n",
       "      <td>-0.000287</td>\n",
       "      <td>0.000360</td>\n",
       "      <td>0.000563</td>\n",
       "      <td>-0.000636</td>\n",
       "    </tr>\n",
       "    <tr>\n",
       "      <th>1</th>\n",
       "      <td>1</td>\n",
       "      <td>0.001715</td>\n",
       "      <td>-0.000152</td>\n",
       "      <td>-0.003685</td>\n",
       "      <td>0.002122</td>\n",
       "    </tr>\n",
       "    <tr>\n",
       "      <th>2</th>\n",
       "      <td>2</td>\n",
       "      <td>0.001929</td>\n",
       "      <td>-0.000984</td>\n",
       "      <td>0.000633</td>\n",
       "      <td>-0.001578</td>\n",
       "    </tr>\n",
       "    <tr>\n",
       "      <th>3</th>\n",
       "      <td>3</td>\n",
       "      <td>-0.002412</td>\n",
       "      <td>0.002891</td>\n",
       "      <td>0.000134</td>\n",
       "      <td>-0.000613</td>\n",
       "    </tr>\n",
       "    <tr>\n",
       "      <th>4</th>\n",
       "      <td>4</td>\n",
       "      <td>0.002481</td>\n",
       "      <td>-0.002765</td>\n",
       "      <td>0.001357</td>\n",
       "      <td>-0.001073</td>\n",
       "    </tr>\n",
       "    <tr>\n",
       "      <th>...</th>\n",
       "      <td>...</td>\n",
       "      <td>...</td>\n",
       "      <td>...</td>\n",
       "      <td>...</td>\n",
       "      <td>...</td>\n",
       "    </tr>\n",
       "    <tr>\n",
       "      <th>155</th>\n",
       "      <td>155</td>\n",
       "      <td>0.001062</td>\n",
       "      <td>0.000134</td>\n",
       "      <td>-0.001957</td>\n",
       "      <td>0.000761</td>\n",
       "    </tr>\n",
       "    <tr>\n",
       "      <th>156</th>\n",
       "      <td>156</td>\n",
       "      <td>0.000128</td>\n",
       "      <td>-0.000469</td>\n",
       "      <td>0.003830</td>\n",
       "      <td>-0.003489</td>\n",
       "    </tr>\n",
       "    <tr>\n",
       "      <th>157</th>\n",
       "      <td>157</td>\n",
       "      <td>-0.001993</td>\n",
       "      <td>0.000256</td>\n",
       "      <td>-0.003083</td>\n",
       "      <td>0.004820</td>\n",
       "    </tr>\n",
       "    <tr>\n",
       "      <th>158</th>\n",
       "      <td>158</td>\n",
       "      <td>0.002636</td>\n",
       "      <td>-0.000052</td>\n",
       "      <td>-0.004805</td>\n",
       "      <td>0.002221</td>\n",
       "    </tr>\n",
       "    <tr>\n",
       "      <th>159</th>\n",
       "      <td>159</td>\n",
       "      <td>0.001324</td>\n",
       "      <td>-0.002054</td>\n",
       "      <td>-0.000381</td>\n",
       "      <td>0.001111</td>\n",
       "    </tr>\n",
       "  </tbody>\n",
       "</table>\n",
       "<p>160 rows × 5 columns</p>\n",
       "</div>"
      ],
      "text/plain": [
       "     pos     val_A     val_C     val_G     val_T\n",
       "0      0 -0.000287  0.000360  0.000563 -0.000636\n",
       "1      1  0.001715 -0.000152 -0.003685  0.002122\n",
       "2      2  0.001929 -0.000984  0.000633 -0.001578\n",
       "3      3 -0.002412  0.002891  0.000134 -0.000613\n",
       "4      4  0.002481 -0.002765  0.001357 -0.001073\n",
       "..   ...       ...       ...       ...       ...\n",
       "155  155  0.001062  0.000134 -0.001957  0.000761\n",
       "156  156  0.000128 -0.000469  0.003830 -0.003489\n",
       "157  157 -0.001993  0.000256 -0.003083  0.004820\n",
       "158  158  0.002636 -0.000052 -0.004805  0.002221\n",
       "159  159  0.001324 -0.002054 -0.000381  0.001111\n",
       "\n",
       "[160 rows x 5 columns]"
      ]
     },
     "execution_count": 6,
     "metadata": {},
     "output_type": "execute_result"
    }
   ],
   "source": [
    "df_mcmc = pd.read_csv(\"rspA_mcmc_mpathic_regseq_data2.csv\", index_col=0)\n",
    "df_mcmc"
   ]
  },
  {
   "cell_type": "code",
   "execution_count": 7,
   "id": "8aa2195a-1beb-4405-b670-be369d297cf1",
   "metadata": {},
   "outputs": [],
   "source": [
    "mcmc_arr = df_mcmc[['val_A', 'val_C', 'val_G', 'val_T']].to_numpy()"
   ]
  },
  {
   "cell_type": "markdown",
   "id": "5e3a8541-23d8-49b7-aa69-000212a9b657",
   "metadata": {},
   "source": [
    "Transform phenotype output to probabilities using exponential distribution."
   ]
  },
  {
   "cell_type": "code",
   "execution_count": 8,
   "id": "dee71c6c-5d6a-49e3-a2b5-c9a485202886",
   "metadata": {},
   "outputs": [],
   "source": [
    "norm = np.sum(np.exp(mcmc_arr), axis=1)\n",
    "exp_vec = [np.exp(mcmc_arr)[i, :] / norm[i] for i in range(160)] \n",
    "rel_entropy = [np.sum([x[i] * np.log2(x[i] / 0.25) for i in range(4)]) for x in exp_vec]"
   ]
  },
  {
   "cell_type": "code",
   "execution_count": 9,
   "id": "bfdc7d4e-25f9-4dd1-ace5-60db23e46efe",
   "metadata": {},
   "outputs": [
    {
     "data": {
      "text/plain": [
       "Text(0.5, 1.0, 'rspA in LB')"
      ]
     },
     "execution_count": 9,
     "metadata": {},
     "output_type": "execute_result"
    },
    {
     "data": {
      "image/png": "[encoded data removed]",
      "text/plain": [
       "<Figure size 1080x216 with 1 Axes>"
      ]
     },
     "metadata": {
      "needs_background": "light"
     },
     "output_type": "display_data"
    }
   ],
   "source": [
    "fig, ax = plt.subplots(figsize=(15, 3))\n",
    "ax.bar(np.arange(-115, 45), rel_entropy)\n",
    "ax.set_xlabel('position')\n",
    "ax.set_xticks(np.linspace(-120, 50, 18))\n",
    "ax.set_ylabel('relative entropy [bits]')\n",
    "ax.set_title('rspA in LB')"
   ]
  },
  {
   "cell_type": "code",
   "execution_count": 10,
   "id": "1c6495c0-2726-4c1b-8de9-febcb9d44c05",
   "metadata": {},
   "outputs": [
    {
     "data": {
      "text/plain": [
       "Text(0.5, 1.0, 'rspA in LB')"
      ]
     },
     "execution_count": 10,
     "metadata": {},
     "output_type": "execute_result"
    },
    {
     "data": {
      "image/png": "[encoded data removed]",
      "text/plain": [
       "<Figure size 1080x216 with 1 Axes>"
      ]
     },
     "metadata": {
      "needs_background": "light"
     },
     "output_type": "display_data"
    }
   ],
   "source": [
    "fig, ax = plt.subplots(figsize=(15, 3))\n",
    "\n",
    "d = 1\n",
    "\n",
    "ax.bar(np.arange(-115+d, 45-d), [np.mean(rel_entropy[i-d:i+d]) for i in range(d, 160-d)])\n",
    "ax.set_xlabel('position')\n",
    "ax.set_xticks(np.linspace(-120, 50, 18))\n",
    "ax.set_ylabel('relative entropy [bits]')\n",
    "ax.set_title('rspA in LB')"
   ]
  },
  {
   "cell_type": "markdown",
   "id": "2488a88e-acb1-4cf9-87e8-069f8a21dd7c",
   "metadata": {},
   "source": [
    "## RegSeq dataset for rspA"
   ]
  },
  {
   "cell_type": "markdown",
   "id": "f2e4178b-e537-400a-a0b6-29a1a63a0a63",
   "metadata": {},
   "source": [
    "Run mpathic on dataframe."
   ]
  },
  {
   "cell_type": "code",
   "execution_count": 11,
   "id": "04d048da-0714-4e4d-85b2-68d365afb175",
   "metadata": {},
   "outputs": [
    {
     "data": {
      "text/html": [
       "<div>\n",
       "<style scoped>\n",
       "    .dataframe tbody tr th:only-of-type {\n",
       "        vertical-align: middle;\n",
       "    }\n",
       "\n",
       "    .dataframe tbody tr th {\n",
       "        vertical-align: top;\n",
       "    }\n",
       "\n",
       "    .dataframe thead th {\n",
       "        text-align: right;\n",
       "    }\n",
       "</style>\n",
       "<table border=\"1\" class=\"dataframe\">\n",
       "  <thead>\n",
       "    <tr style=\"text-align: right;\">\n",
       "      <th></th>\n",
       "      <th>pos</th>\n",
       "      <th>val_A</th>\n",
       "      <th>val_C</th>\n",
       "      <th>val_G</th>\n",
       "      <th>val_T</th>\n",
       "    </tr>\n",
       "  </thead>\n",
       "  <tbody>\n",
       "    <tr>\n",
       "      <th>0</th>\n",
       "      <td>0</td>\n",
       "      <td>-0.027768</td>\n",
       "      <td>0.010674</td>\n",
       "      <td>0.002477</td>\n",
       "      <td>0.014617</td>\n",
       "    </tr>\n",
       "    <tr>\n",
       "      <th>1</th>\n",
       "      <td>1</td>\n",
       "      <td>-0.030472</td>\n",
       "      <td>0.024170</td>\n",
       "      <td>-0.008575</td>\n",
       "      <td>0.014877</td>\n",
       "    </tr>\n",
       "    <tr>\n",
       "      <th>2</th>\n",
       "      <td>2</td>\n",
       "      <td>0.002316</td>\n",
       "      <td>0.010473</td>\n",
       "      <td>-0.017288</td>\n",
       "      <td>0.004499</td>\n",
       "    </tr>\n",
       "    <tr>\n",
       "      <th>3</th>\n",
       "      <td>3</td>\n",
       "      <td>-0.002471</td>\n",
       "      <td>-0.013041</td>\n",
       "      <td>-0.015547</td>\n",
       "      <td>0.031058</td>\n",
       "    </tr>\n",
       "    <tr>\n",
       "      <th>4</th>\n",
       "      <td>4</td>\n",
       "      <td>0.021851</td>\n",
       "      <td>-0.013582</td>\n",
       "      <td>-0.017939</td>\n",
       "      <td>0.009669</td>\n",
       "    </tr>\n",
       "    <tr>\n",
       "      <th>...</th>\n",
       "      <td>...</td>\n",
       "      <td>...</td>\n",
       "      <td>...</td>\n",
       "      <td>...</td>\n",
       "      <td>...</td>\n",
       "    </tr>\n",
       "    <tr>\n",
       "      <th>155</th>\n",
       "      <td>155</td>\n",
       "      <td>0.004111</td>\n",
       "      <td>0.016529</td>\n",
       "      <td>0.016855</td>\n",
       "      <td>-0.037494</td>\n",
       "    </tr>\n",
       "    <tr>\n",
       "      <th>156</th>\n",
       "      <td>156</td>\n",
       "      <td>0.008809</td>\n",
       "      <td>-0.035737</td>\n",
       "      <td>0.011172</td>\n",
       "      <td>0.015756</td>\n",
       "    </tr>\n",
       "    <tr>\n",
       "      <th>157</th>\n",
       "      <td>157</td>\n",
       "      <td>0.011666</td>\n",
       "      <td>-0.018856</td>\n",
       "      <td>0.025697</td>\n",
       "      <td>-0.018508</td>\n",
       "    </tr>\n",
       "    <tr>\n",
       "      <th>158</th>\n",
       "      <td>158</td>\n",
       "      <td>-0.009589</td>\n",
       "      <td>-0.014251</td>\n",
       "      <td>0.006636</td>\n",
       "      <td>0.017205</td>\n",
       "    </tr>\n",
       "    <tr>\n",
       "      <th>159</th>\n",
       "      <td>159</td>\n",
       "      <td>-0.001532</td>\n",
       "      <td>-0.014872</td>\n",
       "      <td>0.017243</td>\n",
       "      <td>-0.000839</td>\n",
       "    </tr>\n",
       "  </tbody>\n",
       "</table>\n",
       "<p>160 rows × 5 columns</p>\n",
       "</div>"
      ],
      "text/plain": [
       "     pos     val_A     val_C     val_G     val_T\n",
       "0      0 -0.027768  0.010674  0.002477  0.014617\n",
       "1      1 -0.030472  0.024170 -0.008575  0.014877\n",
       "2      2  0.002316  0.010473 -0.017288  0.004499\n",
       "3      3 -0.002471 -0.013041 -0.015547  0.031058\n",
       "4      4  0.021851 -0.013582 -0.017939  0.009669\n",
       "..   ...       ...       ...       ...       ...\n",
       "155  155  0.004111  0.016529  0.016855 -0.037494\n",
       "156  156  0.008809 -0.035737  0.011172  0.015756\n",
       "157  157  0.011666 -0.018856  0.025697 -0.018508\n",
       "158  158 -0.009589 -0.014251  0.006636  0.017205\n",
       "159  159 -0.001532 -0.014872  0.017243 -0.000839\n",
       "\n",
       "[160 rows x 5 columns]"
      ]
     },
     "execution_count": 11,
     "metadata": {},
     "output_type": "execute_result"
    }
   ],
   "source": [
    "df_mcmc = pd.read_csv(\"rspA_mcmc_mpathic_regseq_data.csv\", index_col=0)\n",
    "df_mcmc"
   ]
  },
  {
   "cell_type": "code",
   "execution_count": 12,
   "id": "5b08bd17-c925-4fe8-b85e-8afb5b78cfcb",
   "metadata": {},
   "outputs": [],
   "source": [
    "mcmc_arr = df_mcmc[['val_A', 'val_C', 'val_G', 'val_T']].to_numpy()"
   ]
  },
  {
   "cell_type": "markdown",
   "id": "36ba3040-32be-4a62-9d63-55f5eccd1c40",
   "metadata": {},
   "source": [
    "Transform phenotype output to probabilities using exponential distribution."
   ]
  },
  {
   "cell_type": "code",
   "execution_count": 13,
   "id": "c263209c-d4cf-4c65-8fef-1b420b0c4e2b",
   "metadata": {},
   "outputs": [],
   "source": [
    "norm = np.sum(np.exp(mcmc_arr), axis=1)\n",
    "exp_vec = [np.exp(mcmc_arr)[i, :] / norm[i] for i in range(160)] \n",
    "rel_entropy = [np.sum([x[i] * np.log2(x[i] / 0.25) for i in range(4)]) for x in exp_vec]"
   ]
  },
  {
   "cell_type": "code",
   "execution_count": 14,
   "id": "7373c7a3-6e16-4ad2-9812-58ba85107343",
   "metadata": {},
   "outputs": [
    {
     "data": {
      "text/plain": [
       "Text(0.5, 1.0, 'rspA in LB')"
      ]
     },
     "execution_count": 14,
     "metadata": {},
     "output_type": "execute_result"
    },
    {
     "data": {
      "image/png": "[encoded data removed]",
      "text/plain": [
       "<Figure size 1080x216 with 1 Axes>"
      ]
     },
     "metadata": {
      "needs_background": "light"
     },
     "output_type": "display_data"
    }
   ],
   "source": [
    "fig, ax = plt.subplots(figsize=(15, 3))\n",
    "ax.bar(np.arange(-115, 45), rel_entropy)\n",
    "ax.set_xlabel('position')\n",
    "ax.set_xticks(np.linspace(-120, 50, 18))\n",
    "ax.set_ylabel('relative entropy [bits]')\n",
    "ax.set_title('rspA in LB')"
   ]
  },
  {
   "cell_type": "code",
   "execution_count": 15,
   "id": "fd21ad7f-c9e3-4301-8052-1460acec0862",
   "metadata": {},
   "outputs": [
    {
     "data": {
      "text/plain": [
       "Text(0.5, 1.0, 'rspA in LB')"
      ]
     },
     "execution_count": 15,
     "metadata": {},
     "output_type": "execute_result"
    },
    {
     "data": {
      "image/png": "[encoded data removed]",
      "text/plain": [
       "<Figure size 1080x216 with 1 Axes>"
      ]
     },
     "metadata": {
      "needs_background": "light"
     },
     "output_type": "display_data"
    }
   ],
   "source": [
    "fig, ax = plt.subplots(figsize=(15, 3))\n",
    "\n",
    "d = 1\n",
    "\n",
    "ax.bar(np.arange(-115+d, 45-d), [np.mean(rel_entropy[i-d:i+d]) for i in range(d, 160-d)])\n",
    "ax.set_xlabel('position')\n",
    "ax.set_xticks(np.linspace(-120, 50, 18))\n",
    "ax.set_ylabel('relative entropy [bits]')\n",
    "ax.set_title('rspA in LB')"
   ]
  },
  {
   "cell_type": "code",
   "execution_count": 16,
   "id": "59462e2d-86cc-4334-834f-7f23ec0a1039",
   "metadata": {},
   "outputs": [
    {
     "data": {
      "text/html": [
       "<div>\n",
       "<style scoped>\n",
       "    .dataframe tbody tr th:only-of-type {\n",
       "        vertical-align: middle;\n",
       "    }\n",
       "\n",
       "    .dataframe tbody tr th {\n",
       "        vertical-align: top;\n",
       "    }\n",
       "\n",
       "    .dataframe thead th {\n",
       "        text-align: right;\n",
       "    }\n",
       "</style>\n",
       "<table border=\"1\" class=\"dataframe\">\n",
       "  <thead>\n",
       "    <tr style=\"text-align: right;\">\n",
       "      <th></th>\n",
       "      <th>pos</th>\n",
       "      <th>val_A</th>\n",
       "      <th>val_C</th>\n",
       "      <th>val_G</th>\n",
       "      <th>val_T</th>\n",
       "    </tr>\n",
       "  </thead>\n",
       "  <tbody>\n",
       "    <tr>\n",
       "      <th>0</th>\n",
       "      <td>0</td>\n",
       "      <td>-0.002352</td>\n",
       "      <td>-0.014152</td>\n",
       "      <td>0.001432</td>\n",
       "      <td>0.015072</td>\n",
       "    </tr>\n",
       "    <tr>\n",
       "      <th>1</th>\n",
       "      <td>1</td>\n",
       "      <td>0.036721</td>\n",
       "      <td>-0.019553</td>\n",
       "      <td>-0.026683</td>\n",
       "      <td>0.009514</td>\n",
       "    </tr>\n",
       "    <tr>\n",
       "      <th>2</th>\n",
       "      <td>2</td>\n",
       "      <td>-0.038035</td>\n",
       "      <td>0.036018</td>\n",
       "      <td>0.024049</td>\n",
       "      <td>-0.022031</td>\n",
       "    </tr>\n",
       "    <tr>\n",
       "      <th>3</th>\n",
       "      <td>3</td>\n",
       "      <td>-0.005439</td>\n",
       "      <td>0.012558</td>\n",
       "      <td>0.013207</td>\n",
       "      <td>-0.020325</td>\n",
       "    </tr>\n",
       "    <tr>\n",
       "      <th>4</th>\n",
       "      <td>4</td>\n",
       "      <td>-0.001129</td>\n",
       "      <td>-0.002335</td>\n",
       "      <td>-0.035807</td>\n",
       "      <td>0.039270</td>\n",
       "    </tr>\n",
       "    <tr>\n",
       "      <th>...</th>\n",
       "      <td>...</td>\n",
       "      <td>...</td>\n",
       "      <td>...</td>\n",
       "      <td>...</td>\n",
       "      <td>...</td>\n",
       "    </tr>\n",
       "    <tr>\n",
       "      <th>155</th>\n",
       "      <td>155</td>\n",
       "      <td>0.014464</td>\n",
       "      <td>0.005694</td>\n",
       "      <td>-0.018776</td>\n",
       "      <td>-0.001381</td>\n",
       "    </tr>\n",
       "    <tr>\n",
       "      <th>156</th>\n",
       "      <td>156</td>\n",
       "      <td>-0.024386</td>\n",
       "      <td>-0.005898</td>\n",
       "      <td>0.015516</td>\n",
       "      <td>0.014769</td>\n",
       "    </tr>\n",
       "    <tr>\n",
       "      <th>157</th>\n",
       "      <td>157</td>\n",
       "      <td>0.033540</td>\n",
       "      <td>-0.034722</td>\n",
       "      <td>-0.007027</td>\n",
       "      <td>0.008208</td>\n",
       "    </tr>\n",
       "    <tr>\n",
       "      <th>158</th>\n",
       "      <td>158</td>\n",
       "      <td>-0.019241</td>\n",
       "      <td>0.012793</td>\n",
       "      <td>0.014486</td>\n",
       "      <td>-0.008038</td>\n",
       "    </tr>\n",
       "    <tr>\n",
       "      <th>159</th>\n",
       "      <td>159</td>\n",
       "      <td>-0.038522</td>\n",
       "      <td>0.015903</td>\n",
       "      <td>-0.029757</td>\n",
       "      <td>0.052377</td>\n",
       "    </tr>\n",
       "  </tbody>\n",
       "</table>\n",
       "<p>160 rows × 5 columns</p>\n",
       "</div>"
      ],
      "text/plain": [
       "     pos     val_A     val_C     val_G     val_T\n",
       "0      0 -0.002352 -0.014152  0.001432  0.015072\n",
       "1      1  0.036721 -0.019553 -0.026683  0.009514\n",
       "2      2 -0.038035  0.036018  0.024049 -0.022031\n",
       "3      3 -0.005439  0.012558  0.013207 -0.020325\n",
       "4      4 -0.001129 -0.002335 -0.035807  0.039270\n",
       "..   ...       ...       ...       ...       ...\n",
       "155  155  0.014464  0.005694 -0.018776 -0.001381\n",
       "156  156 -0.024386 -0.005898  0.015516  0.014769\n",
       "157  157  0.033540 -0.034722 -0.007027  0.008208\n",
       "158  158 -0.019241  0.012793  0.014486 -0.008038\n",
       "159  159 -0.038522  0.015903 -0.029757  0.052377\n",
       "\n",
       "[160 rows x 5 columns]"
      ]
     },
     "execution_count": 16,
     "metadata": {},
     "output_type": "execute_result"
    }
   ],
   "source": [
    "df_mcmc = pd.read_csv(\"rspA_mcmc_mpathic.csv\", index_col=0)\n",
    "df_mcmc"
   ]
  },
  {
   "cell_type": "code",
   "execution_count": 17,
   "id": "3e9fc7b8-5cba-4f7c-bb31-ee4d94b131a4",
   "metadata": {},
   "outputs": [],
   "source": [
    "mcmc_arr = df_mcmc[['val_A', 'val_C', 'val_G', 'val_T']].to_numpy()"
   ]
  },
  {
   "cell_type": "markdown",
   "id": "7cba0a68-4c31-48f9-bb12-2aa437aa6f29",
   "metadata": {},
   "source": [
    "Transform phenotype output to probabilities using exponential distribution."
   ]
  },
  {
   "cell_type": "code",
   "execution_count": 18,
   "id": "f7ef5b12-2822-477f-88f5-4e939abcc820",
   "metadata": {},
   "outputs": [],
   "source": [
    "norm = np.sum(np.exp(mcmc_arr), axis=1)\n",
    "exp_vec = [np.exp(mcmc_arr)[i, :] / norm[i] for i in range(160)] \n",
    "rel_entropy = [np.sum([x[i] * np.log2(x[i] / 0.25) for i in range(4)]) for x in exp_vec]"
   ]
  },
  {
   "cell_type": "code",
   "execution_count": 19,
   "id": "c68a3051-1d28-4dc7-8ebf-63ac7c6fefbe",
   "metadata": {},
   "outputs": [
    {
     "data": {
      "text/plain": [
       "Text(0.5, 1.0, 'rspA in LB')"
      ]
     },
     "execution_count": 19,
     "metadata": {},
     "output_type": "execute_result"
    },
    {
     "data": {
      "image/png": "[encoded data removed]",
      "text/plain": [
       "<Figure size 1080x216 with 1 Axes>"
      ]
     },
     "metadata": {
      "needs_background": "light"
     },
     "output_type": "display_data"
    }
   ],
   "source": [
    "fig, ax = plt.subplots(figsize=(15, 3))\n",
    "ax.bar(np.arange(-115, 45), rel_entropy)\n",
    "ax.set_xlabel('position')\n",
    "ax.set_xticks(np.linspace(-120, 50, 18))\n",
    "ax.set_ylabel('relative entropy [bits]')\n",
    "ax.set_title('rspA in LB')"
   ]
  },
  {
   "cell_type": "code",
   "execution_count": 21,
   "id": "78d48190-c908-468f-bd53-d17810f8fafd",
   "metadata": {},
   "outputs": [
    {
     "data": {
      "text/plain": [
       "Text(0.5, 1.0, 'rspA in LB')"
      ]
     },
     "execution_count": 21,
     "metadata": {},
     "output_type": "execute_result"
    },
    {
     "data": {
      "image/png": "[encoded data removed]",
      "text/plain": [
       "<Figure size 1080x216 with 1 Axes>"
      ]
     },
     "metadata": {
      "needs_background": "light"
     },
     "output_type": "display_data"
    }
   ],
   "source": [
    "fig, ax = plt.subplots(figsize=(15, 3))\n",
    "\n",
    "d = 1\n",
    "\n",
    "ax.bar(np.arange(-115+d, 45-d), [np.mean(rel_entropy[i-d:i+d]) for i in range(d, 160-d)])\n",
    "ax.set_xlabel('position')\n",
    "ax.set_xticks(np.linspace(-120, 50, 18))\n",
    "ax.set_ylabel('relative entropy [bits]')\n",
    "ax.set_title('rspA in LB')"
   ]
  },
  {
   "cell_type": "code",
   "execution_count": null,
   "id": "185de8e5-5057-4991-95b9-be3073768b78",
   "metadata": {},
   "outputs": [],
   "source": []
  }
 ],
 "metadata": {
  "kernelspec": {
   "display_name": "Python (mpathic)",
   "language": "python",
   "name": "mpathic_env"
  },
  "language_info": {
   "codemirror_mode": {
    "name": "ipython",
    "version": 3
   },
   "file_extension": ".py",
   "mimetype": "text/x-python",
   "name": "python",
   "nbconvert_exporter": "python",
   "pygments_lexer": "ipython3",
   "version": "3.6.15"
  }
 },
 "nbformat": 4,
 "nbformat_minor": 5
}
