{
 "cells": [
  {
   "cell_type": "code",
   "execution_count": 1,
   "id": "61ac6929-9772-477d-a7a6-3a3e89665c0c",
   "metadata": {},
   "outputs": [
    {
     "name": "stderr",
     "output_type": "stream",
     "text": [
      "\u001b[32m\u001b[1mPrecompiling\u001b[22m\u001b[39m wgregseq\n",
      "\u001b[36m\u001b[1m        Info\u001b[22m\u001b[39m Given wgregseq was explicitly requested, output will be shown live \u001b[0K\n",
      "\u001b[0KWARNING: could not import BioSequences.reverese_complement into utils\n",
      "\u001b[32m  ✓ \u001b[39mwgregseq\n",
      "  1 dependency successfully precompiled in 9 seconds. 306 already precompiled.\n",
      "  \u001b[33m1\u001b[39m dependency had output during precompilation:\u001b[33m\n",
      "┌ \u001b[39mwgregseq\u001b[33m\n",
      "│  \u001b[39m[Output was shown above]\u001b[33m\n",
      "└  \u001b[39m\n"
     ]
    }
   ],
   "source": [
    "using CairoMakie, CSV, DataFrames, wgregseq"
   ]
  },
  {
   "cell_type": "code",
   "execution_count": 2,
   "id": "c2ef427a",
   "metadata": {},
   "outputs": [
    {
     "data": {
      "text/plain": [
       "119-element Vector{String}:\n",
       " \"rspAp\"\n",
       " \"araBp\"\n",
       " \"znuCp\"\n",
       " \"xylAp\"\n",
       " \"xylFp\"\n",
       " \"dicCp\"\n",
       " \"relBp\"\n",
       " \"ftsKp2\"\n",
       " \"ftsKp1\"\n",
       " \"lacIp\"\n",
       " \"mhpRp2\"\n",
       " \"mhpRp1\"\n",
       " \"marRp\"\n",
       " ⋮\n",
       " \"intE_xisE_ymfH_predicted\"\n",
       " \"ymfM_beeE_jayE_ymfL_ymfR_tfaP_ymfT_ymfN_ycfK_ymfQ_predicted\"\n",
       " \"tfaE_stfE_predicted\"\n",
       " \"icdC_predicted\"\n",
       " \"ybiY_ybiW_predicted\"\n",
       " \"ygeW_predicted\"\n",
       " \"ygeX_predicted\"\n",
       " \"ygeY_predicted\"\n",
       " \"hyuA_predicted\"\n",
       " \"ygfM_xdhD_predicted\"\n",
       " \"ygfS_ygfT_predicted\"\n",
       " \"uacT_predicted\""
      ]
     },
     "execution_count": 2,
     "metadata": {},
     "output_type": "execute_result"
    }
   ],
   "source": [
    "promoters = wgregseq.utils.import_twist_order(\"../../../data/twist_orders/2022-02-15_twist_order.csv\").promoter |> unique"
   ]
  },
  {
   "cell_type": "code",
   "execution_count": 3,
   "id": "b7f36976",
   "metadata": {},
   "outputs": [
    {
     "data": {
      "text/plain": [
       "Levels (generic function with 1 method)"
      ]
     },
     "execution_count": 3,
     "metadata": {},
     "output_type": "execute_result"
    }
   ],
   "source": [
    "function Levels(_df)\n",
    "    df = sort(_df, :start)\n",
    "    levels = [[1]]\n",
    "    last_ends = [df[1, :stop]]\n",
    "    for i in 2:nrow(df)\n",
    "        level = 1\n",
    "        inserted = false\n",
    "        start_site = df[i, :start]\n",
    "        if ismissing(start_site)\n",
    "            continue\n",
    "        end\n",
    "        while inserted == false\n",
    "            \n",
    "            if start_site > last_ends[level]\n",
    "                push!(levels[level], i)\n",
    "                last_ends[level] = df[i, :stop]\n",
    "                inserted = true\n",
    "            else\n",
    "                level += 1\n",
    "            end\n",
    "            if level > length(levels)\n",
    "                push!(levels, [i])\n",
    "                push!(last_ends, df[i, :stop])\n",
    "                inserted = true\n",
    "            end\n",
    "        end\n",
    "    end\n",
    "    return levels\n",
    "end\n",
    "        "
   ]
  },
  {
   "cell_type": "code",
   "execution_count": 4,
   "id": "19632a9e",
   "metadata": {},
   "outputs": [
    {
     "name": "stdout",
     "output_type": "stream",
     "text": [
      "Union{Missing, String15}[String15(\"repressor\"), String15(\"repressor\"), String15(\"repressor\"), String15(\"repressor\"), String15(\"repressor\"), String15(\"repressor\"), String15(\"repressor\"), String15(\"repressor\"), String15(\"activator\"), String15(\"repressor\"), String15(\"activator\"), String15(\"activator\"), String15(\"activator\"), String15(\"activator\"), String15(\"activator\"), String15(\"activator\"), String15(\"activator\"), String15(\"repressor\"), String15(\"repressor\"), String15(\"repressor\")]\n"
     ]
    },
    {
     "data": {
      "text/html": [
       "<div><div style = \"float: left;\"><span>11594×8 DataFrame</span></div><div style = \"float: right;\"><span style = \"font-style: italic;\">11569 rows omitted</span></div><div style = \"clear: both;\"></div></div><div class = \"data-frame\" style = \"overflow-x: scroll;\"><table class = \"data-frame\" style = \"margin-bottom: 6px;\"><thead><tr class = \"header\"><th class = \"rowNumber\" style = \"font-weight: bold; text-align: right;\">Row</th><th style = \"text-align: left;\">name</th><th style = \"text-align: left;\">position</th><th style = \"text-align: left;\">tf</th><th style = \"text-align: left;\">binding_site</th><th style = \"text-align: left;\">stop</th><th style = \"text-align: left;\">start</th><th style = \"text-align: left;\">bs_length</th><th style = \"text-align: left;\">function</th></tr><tr class = \"subheader headerLastRow\"><th class = \"rowNumber\" style = \"font-weight: bold; text-align: right;\"></th><th title = \"String31\" style = \"text-align: left;\">String31</th><th title = \"Union{Missing, Float64}\" style = \"text-align: left;\">Float64?</th><th title = \"Union{Missing, String}\" style = \"text-align: left;\">String?</th><th title = \"Union{Missing, String}\" style = \"text-align: left;\">String?</th><th title = \"Union{Missing, Float64}\" style = \"text-align: left;\">Float64?</th><th title = \"Union{Missing, Float64}\" style = \"text-align: left;\">Float64?</th><th title = \"Int64\" style = \"text-align: left;\">Int64</th><th title = \"Union{Missing, String15}\" style = \"text-align: left;\">String15?</th></tr></thead><tbody><tr><td class = \"rowNumber\" style = \"font-weight: bold; text-align: right;\">1</td><td style = \"text-align: left;\">galRp</td><td style = \"text-align: right;\">8.5</td><td style = \"text-align: left;\">GalR-D-galactose</td><td style = \"text-align: left;\">cactgaaagaATGTAAGCGTTTACCCactaaggtat</td><td style = \"text-align: right;\">16.0</td><td style = \"text-align: right;\">1.0</td><td style = \"text-align: right;\">16</td><td style = \"text-align: left;\">repressor</td></tr><tr><td class = \"rowNumber\" style = \"font-weight: bold; text-align: right;\">2</td><td style = \"text-align: left;\">galRp</td><td style = \"text-align: right;\">8.5</td><td style = \"text-align: left;\">GalS-D-galactose</td><td style = \"text-align: left;\">cactgaaagaATGTAAGCGTTTACCCactaaggtat</td><td style = \"text-align: right;\">16.0</td><td style = \"text-align: right;\">1.0</td><td style = \"text-align: right;\">16</td><td style = \"text-align: left;\">repressor</td></tr><tr><td class = \"rowNumber\" style = \"font-weight: bold; text-align: right;\">3</td><td style = \"text-align: left;\">mraZp</td><td style = \"text-align: right;\">-42.0</td><td style = \"text-align: left;\">PdhR</td><td style = \"text-align: left;\">tatgccttgtGACTGGCTTGACAAGCTtttcctcagc</td><td style = \"text-align: right;\">-34.0</td><td style = \"text-align: right;\">-50.0</td><td style = \"text-align: right;\">17</td><td style = \"text-align: left;\">repressor</td></tr><tr><td class = \"rowNumber\" style = \"font-weight: bold; text-align: right;\">4</td><td style = \"text-align: left;\">mraZp</td><td style = \"text-align: right;\">-3.0</td><td style = \"text-align: left;\">MraZ</td><td style = \"text-align: left;\">ctcctttcagTGGGAaattgtgggg</td><td style = \"text-align: right;\">-1.0</td><td style = \"text-align: right;\">-5.0</td><td style = \"text-align: right;\">5</td><td style = \"text-align: left;\">repressor</td></tr><tr><td class = \"rowNumber\" style = \"font-weight: bold; text-align: right;\">5</td><td style = \"text-align: left;\">mraZp</td><td style = \"text-align: right;\">8.0</td><td style = \"text-align: left;\">MraZ</td><td style = \"text-align: left;\">tgggaaattgTGGGGcaaagtggga</td><td style = \"text-align: right;\">10.0</td><td style = \"text-align: right;\">6.0</td><td style = \"text-align: right;\">5</td><td style = \"text-align: left;\">repressor</td></tr><tr><td class = \"rowNumber\" style = \"font-weight: bold; text-align: right;\">6</td><td style = \"text-align: left;\">mraZp</td><td style = \"text-align: right;\">18.0</td><td style = \"text-align: left;\">MraZ</td><td style = \"text-align: left;\">tggggcaaagTGGGAataaggggtg</td><td style = \"text-align: right;\">20.0</td><td style = \"text-align: right;\">16.0</td><td style = \"text-align: right;\">5</td><td style = \"text-align: left;\">repressor</td></tr><tr><td class = \"rowNumber\" style = \"font-weight: bold; text-align: right;\">7</td><td style = \"text-align: left;\">sohBp1</td><td style = \"text-align: right;\">19.5</td><td style = \"text-align: left;\">CRP-cyclic-AMP</td><td style = \"text-align: left;\">gcctgttgtaAACTGTGAGCCAAAGCGTTGTTtaaccaaggt</td><td style = \"text-align: right;\">30.0</td><td style = \"text-align: right;\">9.0</td><td style = \"text-align: right;\">22</td><td style = \"text-align: left;\">repressor</td></tr><tr><td class = \"rowNumber\" style = \"font-weight: bold; text-align: right;\">8</td><td style = \"text-align: left;\">sohBp2</td><td style = \"text-align: right;\">2.0</td><td style = \"text-align: left;\">CRP-cyclic-AMP</td><td style = \"text-align: left;\">tgcctgttgtAAACTGTGAGCCAAAGCGTTGTttaaccaagg</td><td style = \"text-align: right;\">12.5</td><td style = \"text-align: right;\">-8.5</td><td style = \"text-align: right;\">22</td><td style = \"text-align: left;\">repressor</td></tr><tr><td class = \"rowNumber\" style = \"font-weight: bold; text-align: right;\">9</td><td style = \"text-align: left;\">mplp1</td><td style = \"text-align: right;\">-37.5</td><td style = \"text-align: left;\">CRP-cyclic-AMP</td><td style = \"text-align: left;\">caatgttgcgCTCAGGTGAATCGCGCCAGCAAattacggatt</td><td style = \"text-align: right;\">-27.0</td><td style = \"text-align: right;\">-48.0</td><td style = \"text-align: right;\">22</td><td style = \"text-align: left;\">activator</td></tr><tr><td class = \"rowNumber\" style = \"font-weight: bold; text-align: right;\">10</td><td style = \"text-align: left;\">mplp1</td><td style = \"text-align: right;\">-36.5</td><td style = \"text-align: left;\">Cra</td><td style = \"text-align: left;\">tgttgcgctcAGGTGAATCGCGCCAGCAaattacggat</td><td style = \"text-align: right;\">-28.0</td><td style = \"text-align: right;\">-45.0</td><td style = \"text-align: right;\">18</td><td style = \"text-align: left;\">repressor</td></tr><tr><td class = \"rowNumber\" style = \"font-weight: bold; text-align: right;\">11</td><td style = \"text-align: left;\">astCp2</td><td style = \"text-align: right;\">-121.5</td><td style = \"text-align: left;\">ArgR-L-arginine</td><td style = \"text-align: left;\">attcacccacATCGCAAACGTATTCACTttatatgcac</td><td style = \"text-align: right;\">-113.0</td><td style = \"text-align: right;\">-130.0</td><td style = \"text-align: right;\">18</td><td style = \"text-align: left;\">activator</td></tr><tr><td class = \"rowNumber\" style = \"font-weight: bold; text-align: right;\">12</td><td style = \"text-align: left;\">astCp2</td><td style = \"text-align: right;\">-99.5</td><td style = \"text-align: left;\">ArgR-L-arginine</td><td style = \"text-align: left;\">ttcactttatATGCACTTTAAATGCATAtggtttggtt</td><td style = \"text-align: right;\">-91.0</td><td style = \"text-align: right;\">-108.0</td><td style = \"text-align: right;\">18</td><td style = \"text-align: left;\">activator</td></tr><tr><td class = \"rowNumber\" style = \"font-weight: bold; text-align: right;\">13</td><td style = \"text-align: left;\">astCp2</td><td style = \"text-align: right;\">-78.5</td><td style = \"text-align: left;\">ArgR-L-arginine</td><td style = \"text-align: left;\">atgcatatggTTTGGTTATAACTCCTTGatttccagtt</td><td style = \"text-align: right;\">-70.0</td><td style = \"text-align: right;\">-87.0</td><td style = \"text-align: right;\">18</td><td style = \"text-align: left;\">activator</td></tr><tr><td style = \"text-align: right;\">&vellip;</td><td style = \"text-align: right;\">&vellip;</td><td style = \"text-align: right;\">&vellip;</td><td style = \"text-align: right;\">&vellip;</td><td style = \"text-align: right;\">&vellip;</td><td style = \"text-align: right;\">&vellip;</td><td style = \"text-align: right;\">&vellip;</td><td style = \"text-align: right;\">&vellip;</td><td style = \"text-align: right;\">&vellip;</td></tr><tr><td class = \"rowNumber\" style = \"font-weight: bold; text-align: right;\">11583</td><td style = \"text-align: left;\">lapAp</td><td style = \"font-style: italic; text-align: right;\">missing</td><td style = \"font-style: italic; text-align: left;\">missing</td><td style = \"font-style: italic; text-align: left;\">missing</td><td style = \"font-style: italic; text-align: right;\">missing</td><td style = \"font-style: italic; text-align: right;\">missing</td><td style = \"text-align: right;\">0</td><td style = \"font-style: italic; text-align: left;\">missing</td></tr><tr><td class = \"rowNumber\" style = \"font-weight: bold; text-align: right;\">11584</td><td style = \"text-align: left;\">rbnp</td><td style = \"font-style: italic; text-align: right;\">missing</td><td style = \"font-style: italic; text-align: left;\">missing</td><td style = \"font-style: italic; text-align: left;\">missing</td><td style = \"font-style: italic; text-align: right;\">missing</td><td style = \"font-style: italic; text-align: right;\">missing</td><td style = \"text-align: right;\">0</td><td style = \"font-style: italic; text-align: left;\">missing</td></tr><tr><td class = \"rowNumber\" style = \"font-weight: bold; text-align: right;\">11585</td><td style = \"text-align: left;\">yceJp2</td><td style = \"font-style: italic; text-align: right;\">missing</td><td style = \"font-style: italic; text-align: left;\">missing</td><td style = \"font-style: italic; text-align: left;\">missing</td><td style = \"font-style: italic; text-align: right;\">missing</td><td style = \"font-style: italic; text-align: right;\">missing</td><td style = \"text-align: right;\">0</td><td style = \"font-style: italic; text-align: left;\">missing</td></tr><tr><td class = \"rowNumber\" style = \"font-weight: bold; text-align: right;\">11586</td><td style = \"text-align: left;\">pcnBp</td><td style = \"font-style: italic; text-align: right;\">missing</td><td style = \"font-style: italic; text-align: left;\">missing</td><td style = \"font-style: italic; text-align: left;\">missing</td><td style = \"font-style: italic; text-align: right;\">missing</td><td style = \"font-style: italic; text-align: right;\">missing</td><td style = \"text-align: right;\">0</td><td style = \"font-style: italic; text-align: left;\">missing</td></tr><tr><td class = \"rowNumber\" style = \"font-weight: bold; text-align: right;\">11587</td><td style = \"text-align: left;\">glnSp</td><td style = \"font-style: italic; text-align: right;\">missing</td><td style = \"font-style: italic; text-align: left;\">missing</td><td style = \"font-style: italic; text-align: left;\">missing</td><td style = \"font-style: italic; text-align: right;\">missing</td><td style = \"font-style: italic; text-align: right;\">missing</td><td style = \"text-align: right;\">0</td><td style = \"font-style: italic; text-align: left;\">missing</td></tr><tr><td class = \"rowNumber\" style = \"font-weight: bold; text-align: right;\">11588</td><td style = \"text-align: left;\">osmBp</td><td style = \"font-style: italic; text-align: right;\">missing</td><td style = \"font-style: italic; text-align: left;\">missing</td><td style = \"font-style: italic; text-align: left;\">missing</td><td style = \"font-style: italic; text-align: right;\">missing</td><td style = \"font-style: italic; text-align: right;\">missing</td><td style = \"text-align: right;\">0</td><td style = \"font-style: italic; text-align: left;\">missing</td></tr><tr><td class = \"rowNumber\" style = \"font-weight: bold; text-align: right;\">11589</td><td style = \"text-align: left;\">arrSp2</td><td style = \"font-style: italic; text-align: right;\">missing</td><td style = \"font-style: italic; text-align: left;\">missing</td><td style = \"font-style: italic; text-align: left;\">missing</td><td style = \"font-style: italic; text-align: right;\">missing</td><td style = \"font-style: italic; text-align: right;\">missing</td><td style = \"text-align: right;\">0</td><td style = \"font-style: italic; text-align: left;\">missing</td></tr><tr><td class = \"rowNumber\" style = \"font-weight: bold; text-align: right;\">11590</td><td style = \"text-align: left;\">gskp</td><td style = \"font-style: italic; text-align: right;\">missing</td><td style = \"font-style: italic; text-align: left;\">missing</td><td style = \"font-style: italic; text-align: left;\">missing</td><td style = \"font-style: italic; text-align: right;\">missing</td><td style = \"font-style: italic; text-align: right;\">missing</td><td style = \"text-align: right;\">0</td><td style = \"font-style: italic; text-align: left;\">missing</td></tr><tr><td class = \"rowNumber\" style = \"font-weight: bold; text-align: right;\">11591</td><td style = \"text-align: left;\">C0293p</td><td style = \"font-style: italic; text-align: right;\">missing</td><td style = \"font-style: italic; text-align: left;\">missing</td><td style = \"font-style: italic; text-align: left;\">missing</td><td style = \"font-style: italic; text-align: right;\">missing</td><td style = \"font-style: italic; text-align: right;\">missing</td><td style = \"text-align: right;\">0</td><td style = \"font-style: italic; text-align: left;\">missing</td></tr><tr><td class = \"rowNumber\" style = \"font-weight: bold; text-align: right;\">11592</td><td style = \"text-align: left;\">hemFp2</td><td style = \"font-style: italic; text-align: right;\">missing</td><td style = \"font-style: italic; text-align: left;\">missing</td><td style = \"font-style: italic; text-align: left;\">missing</td><td style = \"font-style: italic; text-align: right;\">missing</td><td style = \"font-style: italic; text-align: right;\">missing</td><td style = \"text-align: right;\">0</td><td style = \"font-style: italic; text-align: left;\">missing</td></tr><tr><td class = \"rowNumber\" style = \"font-weight: bold; text-align: right;\">11593</td><td style = \"text-align: left;\">rntp</td><td style = \"font-style: italic; text-align: right;\">missing</td><td style = \"font-style: italic; text-align: left;\">missing</td><td style = \"font-style: italic; text-align: left;\">missing</td><td style = \"font-style: italic; text-align: right;\">missing</td><td style = \"font-style: italic; text-align: right;\">missing</td><td style = \"text-align: right;\">0</td><td style = \"font-style: italic; text-align: left;\">missing</td></tr><tr><td class = \"rowNumber\" style = \"font-weight: bold; text-align: right;\">11594</td><td style = \"text-align: left;\">purUp</td><td style = \"font-style: italic; text-align: right;\">missing</td><td style = \"font-style: italic; text-align: left;\">missing</td><td style = \"font-style: italic; text-align: left;\">missing</td><td style = \"font-style: italic; text-align: right;\">missing</td><td style = \"font-style: italic; text-align: right;\">missing</td><td style = \"text-align: right;\">0</td><td style = \"font-style: italic; text-align: left;\">missing</td></tr></tbody></table></div>"
      ],
      "text/latex": [
       "\\begin{tabular}{r|ccccc}\n",
       "\t& name & position & tf & binding\\_site & \\\\\n",
       "\t\\hline\n",
       "\t& String31 & Float64? & String? & String? & \\\\\n",
       "\t\\hline\n",
       "\t1 & galRp & 8.5 & GalR-D-galactose & cactgaaagaATGTAAGCGTTTACCCactaaggtat & $\\dots$ \\\\\n",
       "\t2 & galRp & 8.5 & GalS-D-galactose & cactgaaagaATGTAAGCGTTTACCCactaaggtat & $\\dots$ \\\\\n",
       "\t3 & mraZp & -42.0 & PdhR & tatgccttgtGACTGGCTTGACAAGCTtttcctcagc & $\\dots$ \\\\\n",
       "\t4 & mraZp & -3.0 & MraZ & ctcctttcagTGGGAaattgtgggg & $\\dots$ \\\\\n",
       "\t5 & mraZp & 8.0 & MraZ & tgggaaattgTGGGGcaaagtggga & $\\dots$ \\\\\n",
       "\t6 & mraZp & 18.0 & MraZ & tggggcaaagTGGGAataaggggtg & $\\dots$ \\\\\n",
       "\t7 & sohBp1 & 19.5 & CRP-cyclic-AMP & gcctgttgtaAACTGTGAGCCAAAGCGTTGTTtaaccaaggt & $\\dots$ \\\\\n",
       "\t8 & sohBp2 & 2.0 & CRP-cyclic-AMP & tgcctgttgtAAACTGTGAGCCAAAGCGTTGTttaaccaagg & $\\dots$ \\\\\n",
       "\t9 & mplp1 & -37.5 & CRP-cyclic-AMP & caatgttgcgCTCAGGTGAATCGCGCCAGCAAattacggatt & $\\dots$ \\\\\n",
       "\t10 & mplp1 & -36.5 & Cra & tgttgcgctcAGGTGAATCGCGCCAGCAaattacggat & $\\dots$ \\\\\n",
       "\t11 & astCp2 & -121.5 & ArgR-L-arginine & attcacccacATCGCAAACGTATTCACTttatatgcac & $\\dots$ \\\\\n",
       "\t12 & astCp2 & -99.5 & ArgR-L-arginine & ttcactttatATGCACTTTAAATGCATAtggtttggtt & $\\dots$ \\\\\n",
       "\t13 & astCp2 & -78.5 & ArgR-L-arginine & atgcatatggTTTGGTTATAACTCCTTGatttccagtt & $\\dots$ \\\\\n",
       "\t14 & astCp2 & -47.5 & ArgR-L-arginine & tccagttagcCTCCGCCGTTTATGCACTtttatcactg & $\\dots$ \\\\\n",
       "\t15 & astCp2 & -275.0 & NtrC-phosphorylated & gttgttaatgATGTCAACGATGGCGCAaaaaatgccc & $\\dots$ \\\\\n",
       "\t16 & astCp2 & -253.0 & NtrC-phosphorylated & gcgcaaaaaaTGCCCGCTTTTGGTGCGcgctgcgtca & $\\dots$ \\\\\n",
       "\t17 & astCp2 & -233.0 & NtrC-phosphorylated & tggtgcgcgcTGCGTCAGAATGGCGCAgtaatttcca & $\\dots$ \\\\\n",
       "\t18 & nrdHp & -61.0 & Fur-Fe<sup>2+</sup> & catatccaggGTAATTTCGACCACTATTTgctatatatt & $\\dots$ \\\\\n",
       "\t19 & nrdHp & -14.5 & NrdR-Zn<SUP>2+</SUP> & aatcttttttCAACTACATCTAGTATctctgtatca & $\\dots$ \\\\\n",
       "\t20 & nrdHp & -45.5 & NrdR-Zn<SUP>2+</SUP> & cgaccactatTTGCTATATATTGTGTggttgaatct & $\\dots$ \\\\\n",
       "\t21 & nrdHp & \\emph{missing} & IscR & \\emph{missing} & $\\dots$ \\\\\n",
       "\t22 & srkAp & -49.0 & CpxR-phosphorylated & agagtaaaagCttgtaagcgg & $\\dots$ \\\\\n",
       "\t23 & dmsAp2 & -22.0 & IHF & tctctttgatTTTCAAATTATTCgatgtataca & $\\dots$ \\\\\n",
       "\t24 & dmsAp2 & -5.0 & ModE-molybdate & ttcaaattatTCGATGTATACAAGCCTATATAGCgaactgctat & $\\dots$ \\\\\n",
       "\t25 & moaAp1 & -39.5 & FNR & tgcctccctgATGATGTATATCAAagtaaaaccg & $\\dots$ \\\\\n",
       "\t26 & moaAp1 & 202.0 & CueR-Cu<sup>+</sup> & aaatgacttcGCCTCCCGTATCTGGAAAGgtgtacatgg & $\\dots$ \\\\\n",
       "\t27 & moaAp2 & -57.5 & ModE-molybdate & acgatcatgaCGCTATATACATGATTACATAGCGaaagtgtgga & $\\dots$ \\\\\n",
       "\t28 & ptsGp1 & -94.5 & CRP-cyclic-AMP & acgtttgaaaTATTGTGACATATGTTTTGTCAaaatgtgcaa & $\\dots$ \\\\\n",
       "\t29 & ptsGp1 & -40.5 & CRP-cyclic-AMP & tctgaagttgAAACGTGATAGCCGTCAAACAAattggcactg & $\\dots$ \\\\\n",
       "\t30 & ptsGp1 & -85.0 & ArcA-phosphorylated & tgtgacatatGTTTTGTCAAAATGTgcaacttctc & $\\dots$ \\\\\n",
       "\t$\\dots$ & $\\dots$ & $\\dots$ & $\\dots$ & $\\dots$ &  \\\\\n",
       "\\end{tabular}\n"
      ],
      "text/plain": [
       "\u001b[1m11594×8 DataFrame\u001b[0m\n",
       "\u001b[1m   Row \u001b[0m│\u001b[1m name     \u001b[0m\u001b[1m position  \u001b[0m\u001b[1m tf               \u001b[0m\u001b[1m binding_site                  \u001b[0m ⋯\n",
       "       │\u001b[90m String31 \u001b[0m\u001b[90m Float64?  \u001b[0m\u001b[90m String?          \u001b[0m\u001b[90m String?                       \u001b[0m ⋯\n",
       "───────┼────────────────────────────────────────────────────────────────────────\n",
       "     1 │ galRp           8.5  GalR-D-galactose  cactgaaagaATGTAAGCGTTTACCCacta ⋯\n",
       "     2 │ galRp           8.5  GalS-D-galactose  cactgaaagaATGTAAGCGTTTACCCacta\n",
       "     3 │ mraZp         -42.0  PdhR              tatgccttgtGACTGGCTTGACAAGCTttt\n",
       "     4 │ mraZp          -3.0  MraZ              ctcctttcagTGGGAaattgtgggg\n",
       "     5 │ mraZp           8.0  MraZ              tgggaaattgTGGGGcaaagtggga      ⋯\n",
       "     6 │ mraZp          18.0  MraZ              tggggcaaagTGGGAataaggggtg\n",
       "     7 │ sohBp1         19.5  CRP-cyclic-AMP    gcctgttgtaAACTGTGAGCCAAAGCGTTG\n",
       "     8 │ sohBp2          2.0  CRP-cyclic-AMP    tgcctgttgtAAACTGTGAGCCAAAGCGTT\n",
       "     9 │ mplp1         -37.5  CRP-cyclic-AMP    caatgttgcgCTCAGGTGAATCGCGCCAGC ⋯\n",
       "    10 │ mplp1         -36.5  Cra               tgttgcgctcAGGTGAATCGCGCCAGCAaa\n",
       "    11 │ astCp2       -121.5  ArgR-L-arginine   attcacccacATCGCAAACGTATTCACTtt\n",
       "   ⋮   │    ⋮          ⋮             ⋮                          ⋮              ⋱\n",
       " 11585 │ yceJp2   \u001b[90m missing   \u001b[0m\u001b[90m missing          \u001b[0m\u001b[90m missing                       \u001b[0m\n",
       " 11586 │ pcnBp    \u001b[90m missing   \u001b[0m\u001b[90m missing          \u001b[0m\u001b[90m missing                       \u001b[0m ⋯\n",
       " 11587 │ glnSp    \u001b[90m missing   \u001b[0m\u001b[90m missing          \u001b[0m\u001b[90m missing                       \u001b[0m\n",
       " 11588 │ osmBp    \u001b[90m missing   \u001b[0m\u001b[90m missing          \u001b[0m\u001b[90m missing                       \u001b[0m\n",
       " 11589 │ arrSp2   \u001b[90m missing   \u001b[0m\u001b[90m missing          \u001b[0m\u001b[90m missing                       \u001b[0m\n",
       " 11590 │ gskp     \u001b[90m missing   \u001b[0m\u001b[90m missing          \u001b[0m\u001b[90m missing                       \u001b[0m ⋯\n",
       " 11591 │ C0293p   \u001b[90m missing   \u001b[0m\u001b[90m missing          \u001b[0m\u001b[90m missing                       \u001b[0m\n",
       " 11592 │ hemFp2   \u001b[90m missing   \u001b[0m\u001b[90m missing          \u001b[0m\u001b[90m missing                       \u001b[0m\n",
       " 11593 │ rntp     \u001b[90m missing   \u001b[0m\u001b[90m missing          \u001b[0m\u001b[90m missing                       \u001b[0m\n",
       " 11594 │ purUp    \u001b[90m missing   \u001b[0m\u001b[90m missing          \u001b[0m\u001b[90m missing                       \u001b[0m ⋯\n",
       "\u001b[36m                                                5 columns and 11573 rows omitted\u001b[0m"
      ]
     },
     "execution_count": 4,
     "metadata": {},
     "output_type": "execute_result"
    }
   ],
   "source": [
    "get_BS_length(x::AbstractString) = isuppercase.(collect(x)) |> sum\n",
    "get_BS_length(x::Missing) = 0\n",
    "\n",
    "df = CSV.read(\"binding_sites.txt\", DataFrame)\n",
    "println(df.RI_FUNCTION[1:20])\n",
    "df = df[!, [:PROMOTER_NAME, :CENTER_POSITION, :FINAL_STATE, :RI_SEQUENCE, :RI_FUNCTION]]\n",
    "rename!(\n",
    "    df,\n",
    "    Dict(\"PROMOTER_NAME\" => \"name\", \n",
    "         \"CENTER_POSITION\" => \"position\",\n",
    "         \"FINAL_STATE\" => \"tf\", \n",
    "         \"RI_SEQUENCE\" => \"binding_site\",\n",
    "         \"RI_FUNCTION\" => \"function\"))\n",
    "\n",
    "insertcols!(df, 5, :bs_length => get_BS_length.(df.binding_site))\n",
    "insertcols!(df, 5, :start => df.position .- (df.bs_length .- 1) ./ 2)\n",
    "insertcols!(df, 5, :stop => df.position .+ (df.bs_length .- 1) ./ 2);\n",
    "df"
   ]
  },
  {
   "cell_type": "code",
   "execution_count": 22,
   "id": "7c0212be",
   "metadata": {
    "editable": true,
    "slideshow": {
     "slide_type": ""
    },
    "tags": []
   },
   "outputs": [],
   "source": [
    "function plot_architecture(_df, prom)\n",
    "    df = _df[_df.name .== prom, :]\n",
    "    offset = 5\n",
    "    if nrow(df) > 0 \n",
    "        downstream_distance = min(min_missing(df[!, :start]), -115) - offset\n",
    "        upstream_distance = max(max_missing(df[!, :start]), 44) + offset\n",
    "        sort!(df, :start)\n",
    "        if ismissing(downstream_distance)\n",
    "            downstream_distance = -115 - offset\n",
    "            upstream_distance = 44 + offset\n",
    "        end\n",
    "        level_arr = Levels(df)\n",
    "    else\n",
    "        downstream_distance = -115 - offset\n",
    "        upstream_distance = 44 + offset\n",
    "        level_arr = []\n",
    "    end\n",
    "    # Create canvas\n",
    "    fig = Figure(scene=(800, 400))\n",
    "    gc_plot = fig[1, 1] = GridLayout()\n",
    "    gc_legend = fig[2, 1] = GridLayout()\n",
    "    ax = Axis(gc_plot[1, 1])\n",
    "    lines!(ax, [-115, -115], [0, 4], color = :gray, linestyle=:dash)\n",
    "    lines!(ax, [44, 44], [0, 4], color = :gray, linestyle=:dash)\n",
    "    \n",
    "    hidexdecorations!(ax)\n",
    "    hideydecorations!(ax)\n",
    "    \n",
    "    hidespines!(ax)\n",
    "    \n",
    "    # empty promoter\n",
    "    band!(ax, [downstream_distance, upstream_distance], [0, 0], [1, 1], color=\"#FFEDCE\")\n",
    "    \n",
    "    # edge of promoter\n",
    "    lines!(ax, [downstream_distance, upstream_distance], [0, 0], color=\"black\", linewidth=2)\n",
    "    #lines!(ax, [-115, 44], [1, 1], color=\"black\", linewidth=2)\n",
    "    \n",
    "    \n",
    "    # TSS arrow\n",
    "    lines!(ax, [0, 0], [1, length(level_arr) + 2], color=\"#34495e\", linewidth=2)\n",
    "    arrows!(ax, [0], [length(level_arr) + 2], [10], [0], color=\"#34495e\", linewidth=2)\n",
    "    \n",
    "    #band!(ax, [-45, -25], [4.8, 4.8], [5.8, 5.8], color=\"#FFFBCE\")\n",
    "    text!(ax, (downstream_distance + upstream_distance)/2, 5, text=prom, align=(:center, :bottom))\n",
    "    \n",
    "    function plot_BS(df, fig, ax)\n",
    "        labels = []\n",
    "        \n",
    "        for (index, row) in enumerate(eachrow(df))\n",
    "            tf = row[3]\n",
    "            name = row[1]\n",
    "            stop = row[5]\n",
    "            start = row[6]\n",
    "            func = row[8]\n",
    "            if ismissing(tf) \n",
    "                break\n",
    "            end\n",
    "            if ismissing(start)\n",
    "                b, c = [PolyElement(color = :gray, strokewidth = 0),\n",
    "                LineElement(color = :gray, linestyle = :dash)]\n",
    "                # Draw outline\n",
    "                push!(labels, [b, c])\n",
    "                continue\n",
    "            end\n",
    "\n",
    "            level = filter(x -> index ∈ level_arr[x], collect(1:length(level_arr)))[1]\n",
    "            if func == \"activator\"\n",
    "                color = \"#BFD496\"\n",
    "            elseif func == \"repressor\"\n",
    "                color = \"#D56D55\"\n",
    "            else\n",
    "                color = \"gray\"\n",
    "            end\n",
    "            #if evidence == \"low\"\n",
    "                #linestyle=:dash\n",
    "            #elseif evidence == \"high\"\n",
    "                #inestyle=:solid\n",
    "            #end\n",
    "            linestyle=:solid\n",
    "            # Draw box\n",
    "            \n",
    "            b = band!(ax, [start, stop], level .+ [0, 0], level .+ [1, 1], color=(color, 0.4))\n",
    "            # Draw outline\n",
    "            c = lines!(ax, [start, start, stop, stop, start], level .+ [0, 1, 1, 0, 0], color=color, linestyle=linestyle, linewidth=2)\n",
    "            text!(ax, (start + stop) / 2, level + 0.5, text=\"$index\", align=(:center, :center))\n",
    "            push!(labels, [b, c])\n",
    "        end\n",
    "        #[scatter!(ax, [0], [0], markersize=0) for i in 1:nrow(df)]\n",
    "        if length(labels) != 0\n",
    "            Legend(gc_legend[1, 1],labels, [\"$i - $TF\" for (i, TF) in enumerate(df.tf)], labelsize=12, nbanks=length(labels)/5 |> ceil |> Int64, tellwidth=false)\n",
    "        end\n",
    "    end\n",
    "    if nrow(df) > 0\n",
    "        plot_BS(df, fig, ax)\n",
    "    end\n",
    "    \n",
    "    ylims!(ax, -0.5, 6)\n",
    "    lines!(ax, [downstream_distance, upstream_distance], [1, 1], color=\"black\", linewidth=2)\n",
    "    fig\n",
    "end\n",
    "\n",
    "for prom in promoters\n",
    "    save(\"cartoons/$(prom)_cartoon.pdf\", plot_architecture(df, prom))\n",
    "end\n"
   ]
  },
  {
   "cell_type": "code",
   "execution_count": 20,
   "id": "f29aea31",
   "metadata": {},
   "outputs": [
    {
     "data": {
      "text/plain": [
       "min_missing (generic function with 1 method)"
      ]
     },
     "metadata": {},
     "output_type": "display_data"
    }
   ],
   "source": [
    "function max_missing(x)\n",
    "    if (skipmissing(x) |> collect |> length) == 0\n",
    "        return missing\n",
    "    else\n",
    "        return maximum(skipmissing(x))\n",
    "    end\n",
    "end\n",
    "\n",
    "function min_missing(x)\n",
    "    if (skipmissing(x) |> collect |> length) == 0\n",
    "        return missing\n",
    "    else\n",
    "        return minimum(skipmissing(x))\n",
    "    end\n",
    "end"
   ]
  },
  {
   "cell_type": "code",
   "execution_count": 19,
   "id": "b92e7c68",
   "metadata": {},
   "outputs": [
    {
     "data": {
      "text/plain": [
       "Union{}[]"
      ]
     },
     "metadata": {},
     "output_type": "display_data"
    }
   ],
   "source": [
    "skipmissing([missing]) |> collect"
   ]
  },
  {
   "cell_type": "code",
   "execution_count": 141,
   "id": "ca76ac10-5330-4ece-a77d-64726d840248",
   "metadata": {},
   "outputs": [
    {
     "name": "stderr",
     "output_type": "stream",
     "text": [
      "\u001b[33m\u001b[1m┌ \u001b[22m\u001b[39m\u001b[33m\u001b[1mWarning: \u001b[22m\u001b[39mthread = 1 warning: only found 1 / 6 columns around data row: 82. Filling remaining columns with `missing`\n",
      "\u001b[33m\u001b[1m└ \u001b[22m\u001b[39m\u001b[90m@ CSV ~/.julia/packages/CSV/b8ebJ/src/file.jl:576\u001b[39m\n"
     ]
    },
    {
     "data": {
      "image/png": "[encoded data removed]"
     },
     "execution_count": 141,
     "metadata": {},
     "output_type": "execute_result"
    }
   ],
   "source": [
    "function plot_architecture(_df, prom)\n",
    "    df = _df[_df.promoter .== prom, :]\n",
    "    offset = 5\n",
    "    if nrow(df) > 0\n",
    "        downstream_distance = min(df[!, :start] |> minimum, -115) - offset\n",
    "        upstream_distance = max(df[!, :stop] |> maximum, 44) + offset\n",
    "        sort!(df, :start)\n",
    "        level_arr = levels(df)\n",
    "    else\n",
    "        downstream_distance = -115 - offset\n",
    "        upstream_distance = 44 + offset\n",
    "        level_arr = []\n",
    "    end\n",
    "    # Create canvas\n",
    "    fig = Figure(resolution=(800, 400))\n",
    "    gc_plot = fig[1, 1] = GridLayout()\n",
    "    gc_legend = fig[2, 1] = GridLayout()\n",
    "    ax = Axis(gc_plot[1, 1])\n",
    "    lines!(ax, [-115, -115], [0, 4], color = :gray, linestyle=:dash)\n",
    "    lines!(ax, [44, 44], [0, 4], color = :gray, linestyle=:dash)\n",
    "    \n",
    "    hidexdecorations!(ax)\n",
    "    hideydecorations!(ax)\n",
    "    \n",
    "    hidespines!(ax)\n",
    "    \n",
    "    # empty promoter\n",
    "    band!(ax, [downstream_distance, upstream_distance], [0, 0], [1, 1], color=\"#FFEDCE\")\n",
    "    \n",
    "    # edge of promoter\n",
    "    lines!(ax, [downstream_distance, upstream_distance], [0, 0], color=\"black\", linewidth=2)\n",
    "    #lines!(ax, [-115, 44], [1, 1], color=\"black\", linewidth=2)\n",
    "    \n",
    "    \n",
    "    # TSS arrow\n",
    "    lines!(ax, [0, 0], [1, length(level_arr) + 2], color=\"#34495e\", linewidth=2)\n",
    "    arrows!(ax, [0], [length(level_arr) + 2], [10], [0], color=\"#34495e\", linewidth=2)\n",
    "    \n",
    "    #band!(ax, [-45, -25], [4.8, 4.8], [5.8, 5.8], color=\"#FFFBCE\")\n",
    "    text!(ax, (downstream_distance + upstream_distance)/2, 5, text=prom, align=(:center, :bottom))\n",
    "    \n",
    "    function plot_BS(df, fig, ax)\n",
    "        labels = []\n",
    "        \n",
    "\n",
    "        for (index, row) in enumerate(eachrow(df))\n",
    "            name, start, stop, tf, evidence = row[2:end]\n",
    "            level = filter(x -> index ∈ level_arr[x], collect(1:length(level_arr)))[1]\n",
    "            if tf == \"act\"\n",
    "                color = \"#BFD496\"\n",
    "            elseif tf == \"rep\"\n",
    "                color = \"#D56D55\"\n",
    "            elseif tf == \"dual\"\n",
    "                color = \"#EAC264\"\n",
    "            end\n",
    "            if evidence == \"low\"\n",
    "                linestyle=:dash\n",
    "            elseif evidence == \"high\"\n",
    "                linestyle=:solid\n",
    "            end\n",
    "            # Draw box\n",
    "            \n",
    "            b = band!(ax, [start, stop], level .+ [0, 0], level .+ [1, 1], color=(color, 0.4))\n",
    "            # Draw outline\n",
    "            c = lines!(ax, [start, start, stop, stop, start], level .+ [0, 1, 1, 0, 0], color=color, linestyle=linestyle, linewidth=2)\n",
    "            text!(ax, (start + stop) / 2, level + 0.5, text=\"$index\", align=(:center, :center))\n",
    "            push!(labels, [b, c])\n",
    "        end\n",
    "        #[scatter!(ax, [0], [0], markersize=0) for i in 1:nrow(df)]\n",
    "        Legend(gc_legend[1, 1],labels, [\"$i - $TF\" for (i, TF) in enumerate(df.TF)], labelsize=12, nbanks=length(labels)/5 |> ceil |> Int64, tellwidth=false)\n",
    "    end\n",
    "    \n",
    "    if nrow(df) > 0\n",
    "        plot_BS(df, fig, ax)\n",
    "    end\n",
    "    \n",
    "    ylims!(ax, -0.5, 6)\n",
    "    lines!(ax, [downstream_distance, upstream_distance], [1, 1], color=\"black\", linewidth=2)\n",
    "    fig\n",
    "end\n",
    "\n",
    "df = CSV.read(\"binding_sites.txt\", DataFrame, delim=\" \")\n",
    "plot_architecture(df, \"araCp\")"
   ]
  },
  {
   "cell_type": "code",
   "execution_count": null,
   "id": "a713979a-8235-4c0f-b800-d4215b714530",
   "metadata": {},
   "outputs": [],
   "source": [
    "df = CSV.read(\"binding_sites.txt\", DataFrame, delim=\" \")\n",
    "for prom in [\"aceBp\", \"acrAp\", \"acrBp\", \"acrZp\", \"araBp\", \"araCp\"]\n",
    "    fig = plot_architecture(df, prom)  \n",
    "    save(\"cartoons/$(prom)_ecocyc.pdf\", fig)\n",
    "end"
   ]
  },
  {
   "cell_type": "code",
   "execution_count": null,
   "id": "aa80e440-b967-4ded-914b-64c4e1a0bfbe",
   "metadata": {},
   "outputs": [],
   "source": [
    "run(`pwd`)"
   ]
  },
  {
   "cell_type": "markdown",
   "id": "78016fbd-276d-4614-8274-b218fa10b046",
   "metadata": {},
   "source": [
    "## Regulon DB table"
   ]
  },
  {
   "cell_type": "code",
   "execution_count": 27,
   "id": "ecca167e-aae7-49da-89c3-54c3041cbc54",
   "metadata": {},
   "outputs": [
    {
     "ename": "ErrorException",
     "evalue": "error in method definition: function DataAPI.levels must be explicitly imported to be extended",
     "output_type": "error",
     "traceback": [
      "error in method definition: function DataAPI.levels must be explicitly imported to be extended\n",
      "\n",
      "Stacktrace:\n",
      " [1] top-level scope\n",
      "   @ none:0"
     ]
    }
   ],
   "source": [
    "function levels(_df)\n",
    "    df = sort(_df, :start)\n",
    "    levels = [[1]]\n",
    "    last_ends = [df[1, :stop]]\n",
    "    for i in 2:nrow(df)\n",
    "        level = 1\n",
    "        inserted = false\n",
    "        start_site = df[i, :start]\n",
    "        while inserted == false\n",
    "            if start_site > last_ends[level]\n",
    "                push!(levels[level], i)\n",
    "                last_ends[level] = df[i, :stop]\n",
    "                inserted = true\n",
    "            else\n",
    "                level += 1\n",
    "            end\n",
    "            if level > length(levels)\n",
    "                push!(levels, [i])\n",
    "                push!(last_ends, df[i, :stop])\n",
    "                inserted = true\n",
    "            end\n",
    "        end\n",
    "    end\n",
    "    return levels\n",
    "end\n",
    "        "
   ]
  },
  {
   "cell_type": "code",
   "execution_count": 148,
   "id": "74b7febd-f2f7-4e16-8a11-dde77a366369",
   "metadata": {},
   "outputs": [
    {
     "data": {
      "image/png": "[encoded data removed]"
     },
     "execution_count": 148,
     "metadata": {},
     "output_type": "execute_result"
    }
   ],
   "source": [
    "function plot_architecture_2(_df, prom)\n",
    "    df = _df[_df.PROMOTER_NAME .== prom, :]\n",
    "    df_annotated = df[.~ ismissing.(df.CENTER_POSITION), :]\n",
    "    \n",
    "    BS_length = map(x -> sum(isuppercase.(collect(x))), df_annotated.RI_SEQUENCE)\n",
    "    insertcols!(df_annotated, 1, :start => Int64.(floor.(((df_annotated[!, :CENTER_POSITION] .- (BS_length .- 1) / 2)))))\n",
    "    insertcols!(df_annotated, 2, :stop => Int64.(floor.(((df_annotated[!, :CENTER_POSITION] .+ (BS_length .- 1) / 2)))))\n",
    "    offset = 5\n",
    "    \n",
    "    if nrow(df_annotated) > 0\n",
    "        downstream_distance = min(df_annotated.start |> minimum, -115) - offset\n",
    "        upstream_distance = max(df_annotated.stop |> maximum, 44) + offset\n",
    "        sort!(df_annotated, :CENTER_POSITION)\n",
    "        level_arr = levels(df_annotated)\n",
    "        SIGMA_FACTOR = df_annotated[!, :SIGMA_FACTOR][1]\n",
    "    else\n",
    "        downstream_distance = -115 - offset\n",
    "        upstream_distance = 44 + offset\n",
    "        level_arr = []\n",
    "        SIGMA_FACTOR = \"predicted\"\n",
    "    end\n",
    "    # Create canvas\n",
    "    fig = Figure(resolution=(800, 400))\n",
    "    gc_plot = fig[1, 1] = GridLayout()\n",
    "    gc_legend = fig[2, 1] = GridLayout()\n",
    "    ax = Axis(gc_plot[1, 1])\n",
    "    lines!(ax, [-115, -115], [0, 4], color = :gray, linestyle=:dash)\n",
    "    lines!(ax, [44, 44], [0, 4], color = :gray, linestyle=:dash)\n",
    "    \n",
    "    hidexdecorations!(ax)\n",
    "    hideydecorations!(ax)\n",
    "    \n",
    "    hidespines!(ax)\n",
    "    \n",
    "    # empty promoter\n",
    "    band!(ax, [downstream_distance, upstream_distance], [0, 0], [1, 1], color=\"#FFEDCE\")\n",
    "    \n",
    "    # edge of promoter\n",
    "    lines!(ax, [downstream_distance, upstream_distance], [0, 0], color=\"black\", linewidth=2)\n",
    "    #lines!(ax, [-115, 44], [1, 1], color=\"black\", linewidth=2)\n",
    "    \n",
    "    \n",
    "    # TSS arrow\n",
    "    lines!(ax, [0, 0], [1, length(level_arr) + 2], color=\"#34495e\", linewidth=2)\n",
    "    arrows!(ax, [0], [length(level_arr) + 2], [10], [0], color=\"#34495e\", linewidth=2)\n",
    "    if ~ismissing(SIGMA_FACTOR)\n",
    "        text!(ax, 0, length(level_arr) + 2.2, text=SIGMA_FACTOR, align=(:left, :bottom))\n",
    "    end\n",
    "    \n",
    "    #band!(ax, [-45, -25], [4.8, 4.8], [5.8, 5.8], color=\"#FFFBCE\")\n",
    "    text!(ax, (downstream_distance + upstream_distance)/2, 5, text=prom, align=(:center, :bottom))\n",
    "    function plot_BS(df, fig, ax)\n",
    "        labels = []\n",
    "    \n",
    "        for (index, row) in enumerate(eachrow(df))\n",
    "            start = row[:start]\n",
    "            stop = row[:stop]\n",
    "            level = filter(x -> index ∈ level_arr[x], collect(1:length(level_arr)))[1]\n",
    "            center = row[:CENTER_POSITION]\n",
    "            if ismissing(center)\n",
    "                continue\n",
    "            end\n",
    "            tf = row[:RI_FUNCTION]\n",
    "            if tf == \"activator\"\n",
    "                color = \"#BFD496\"\n",
    "            elseif tf == \"repressor\"\n",
    "                color = \"#D56D55\"\n",
    "            elseif tf == \"dual\"\n",
    "                color = \"#EAC264\"\n",
    "            else \n",
    "                println(tf)\n",
    "            end\n",
    "                    #=\n",
    "            if evidence == \"low\"\n",
    "                linestyle=:dash\n",
    "            elseif evidence == \"high\"\n",
    "                linestyle=:solid\n",
    "            end\n",
    "                    =#\n",
    "            # Draw box\n",
    "            linestyle=:solid\n",
    "    \n",
    "            b = band!(ax, [start, stop], level .+ [0, 0], level .+ [1, 1], color=(color, 0.4))\n",
    "            \n",
    "            # Draw outline\n",
    "            c = lines!(ax, [start, start, stop, stop, start], level .+ [0, 1, 1, 0, 0], color=color, linestyle=linestyle, linewidth=2)\n",
    "            text!(ax, (start + stop) / 2, level + 0.5, text=\"$index\", align=(:center, :center))\n",
    "            push!(labels, [b, c])\n",
    "        end\n",
    "        #[scatter!(ax, [0], [0], markersize=0) for i in 1:nrow(df)]\n",
    "        Legend(gc_legend[1, 1],labels, [\"$i - $TF\" for (i, TF) in enumerate(df.FINAL_STATE)], labelsize=12, nbanks=length(labels)/5 |> ceil |> Int64, tellwidth=false)\n",
    "    end\n",
    "    \n",
    "    if nrow(df_annotated) > 0\n",
    "        plot_BS(df_annotated, fig, ax)\n",
    "    end\n",
    "    \n",
    "    ylims!(ax, -0.5, 6)\n",
    "    lines!(ax, [downstream_distance, upstream_distance], [1, 1], color=\"black\", linewidth=2)\n",
    "    fig\n",
    "end\n",
    "\n",
    "\n",
    "\n",
    "plot_architecture_2(df, \"araCp\")"
   ]
  },
  {
   "cell_type": "code",
   "execution_count": 149,
   "id": "6be85a41-167f-4c04-a077-1f05c5f7ce7a",
   "metadata": {},
   "outputs": [],
   "source": [
    "df = CSV.read(\"../../aux_files/binding_sites.txt\", DataFrame)\n",
    "\n",
    "for prom in promoters\n",
    "    fig = plot_architecture_2(df, prom)\n",
    "    save(\"cartoons/$(prom)_DB.pdf\", fig)\n",
    "end"
   ]
  },
  {
   "cell_type": "code",
   "execution_count": 150,
   "id": "fdd93f64-f30f-4784-b631-a2f9d499d801",
   "metadata": {},
   "outputs": [
    {
     "data": {
      "text/html": [
       "<div><div style = \"float: left;\"><span>2×38 DataFrame</span></div><div style = \"clear: both;\"></div></div><div class = \"data-frame\" style = \"overflow-x: scroll;\"><table class = \"data-frame\" style = \"margin-bottom: 6px;\"><thead><tr class = \"header\"><th class = \"rowNumber\" style = \"font-weight: bold; text-align: right;\">Row</th><th style = \"text-align: left;\">PROMOTER_ID</th><th style = \"text-align: left;\">PROMOTER_NAME</th><th style = \"text-align: left;\">PROMOTER_STRAND</th><th style = \"text-align: left;\">POS_1</th><th style = \"text-align: left;\">SIGMA_FACTOR</th><th style = \"text-align: left;\">BASAL_TRANS_VAL</th><th style = \"text-align: left;\">EQUILIBRIUM_CONST</th><th style = \"text-align: left;\">KINETIC_CONST</th><th style = \"text-align: left;\">STRENGTH_SEQ</th><th style = \"text-align: left;\">PROMOTER_SEQUENCE</th><th style = \"text-align: left;\">KEY_ID_ORG</th><th style = \"text-align: left;\">PROMOTER_NOTE</th><th style = \"text-align: left;\">PROMOTER_INTERNAL_COMMENT</th><th style = \"text-align: left;\">PROMOTER_NOTE_WEB</th><th style = \"text-align: left;\">REGULATORY_INTERACTION_ID</th><th style = \"text-align: left;\">CONFORMATION_ID</th><th style = \"text-align: left;\">SITE_ID</th><th style = \"text-align: left;\">RI_FUNCTION</th><th style = \"text-align: left;\">CENTER_POSITION</th><th style = \"text-align: left;\">RI_DIST_FIRST_GENE</th><th style = \"text-align: left;\">RI_FIRST_GENE_ID</th><th style = \"text-align: left;\">AFFINITY_EXP</th><th style = \"text-align: left;\">REGULATORY_INTERACTION_NOTE</th><th style = \"text-align: left;\">RI_INTERNAL_COMMENT</th><th style = \"text-align: left;\">KEY_ID_ORG_1</th><th style = \"text-align: left;\">RI_SEQUENCE</th><th style = \"text-align: left;\">RI_ORIENTATION</th><th style = \"text-align: left;\">RI_SEQUENCE_ORIENTATION</th><th style = \"text-align: left;\">REGULATORY_INTERACTION_NOTE_WEB</th><th style = \"text-align: left;\">TRANSCRIPTION_FACTOR_ID</th><th style = \"text-align: left;\">FINAL_STATE</th><th style = \"text-align: left;\">CONFORMATION_NOTE</th><th style = \"text-align: left;\">INTERACTION_TYPE</th><th style = \"text-align: left;\">CONFORMATION_INTERNAL_COMMENT</th><th style = \"text-align: left;\">KEY_ID_ORG_2</th><th style = \"text-align: left;\">CONFORMATION_TYPE</th><th style = \"text-align: left;\">APO_HOLO_CONFORMATION</th><th style = \"text-align: left;\">CONFORMATION_NOTE_WEB</th></tr><tr class = \"subheader headerLastRow\"><th class = \"rowNumber\" style = \"font-weight: bold; text-align: right;\"></th><th title = \"String15\" style = \"text-align: left;\">String15</th><th title = \"String31\" style = \"text-align: left;\">String31</th><th title = \"String7\" style = \"text-align: left;\">String7</th><th title = \"Union{Missing, Int64}\" style = \"text-align: left;\">Int64?</th><th title = \"Union{Missing, String7}\" style = \"text-align: left;\">String7?</th><th title = \"Missing\" style = \"text-align: left;\">Missing</th><th title = \"Missing\" style = \"text-align: left;\">Missing</th><th title = \"Missing\" style = \"text-align: left;\">Missing</th><th title = \"Missing\" style = \"text-align: left;\">Missing</th><th title = \"Union{Missing, String}\" style = \"text-align: left;\">String?</th><th title = \"String7\" style = \"text-align: left;\">String7</th><th title = \"Union{Missing, String}\" style = \"text-align: left;\">String?</th><th title = \"Missing\" style = \"text-align: left;\">Missing</th><th title = \"Union{Missing, String}\" style = \"text-align: left;\">String?</th><th title = \"Union{Missing, String15}\" style = \"text-align: left;\">String15?</th><th title = \"String15\" style = \"text-align: left;\">String15</th><th title = \"Union{Missing, String15}\" style = \"text-align: left;\">String15?</th><th title = \"Union{Missing, String15}\" style = \"text-align: left;\">String15?</th><th title = \"Union{Missing, Float64}\" style = \"text-align: left;\">Float64?</th><th title = \"Union{Missing, Float64}\" style = \"text-align: left;\">Float64?</th><th title = \"Union{Missing, String15}\" style = \"text-align: left;\">String15?</th><th title = \"Missing\" style = \"text-align: left;\">Missing</th><th title = \"Union{Missing, String}\" style = \"text-align: left;\">String?</th><th title = \"Missing\" style = \"text-align: left;\">Missing</th><th title = \"Union{Missing, String7}\" style = \"text-align: left;\">String7?</th><th title = \"Union{Missing, String}\" style = \"text-align: left;\">String?</th><th title = \"Union{Missing, String31}\" style = \"text-align: left;\">String31?</th><th title = \"Union{Missing, String}\" style = \"text-align: left;\">String?</th><th title = \"Missing\" style = \"text-align: left;\">Missing</th><th title = \"Union{Missing, String15}\" style = \"text-align: left;\">String15?</th><th title = \"Union{Missing, String}\" style = \"text-align: left;\">String?</th><th title = \"Union{Missing, String}\" style = \"text-align: left;\">String?</th><th title = \"Union{Missing, String15}\" style = \"text-align: left;\">String15?</th><th title = \"Missing\" style = \"text-align: left;\">Missing</th><th title = \"Union{Missing, String7}\" style = \"text-align: left;\">String7?</th><th title = \"Union{Missing, String15}\" style = \"text-align: left;\">String15?</th><th title = \"Union{Missing, String7}\" style = \"text-align: left;\">String7?</th><th title = \"Union{Missing, String}\" style = \"text-align: left;\">String?</th></tr></thead><tbody><tr><td class = \"rowNumber\" style = \"font-weight: bold; text-align: right;\">1</td><td style = \"text-align: left;\">ECK125328140</td><td style = \"text-align: left;\">rspAp</td><td style = \"text-align: left;\">reverse</td><td style = \"text-align: right;\">1655171</td><td style = \"font-style: italic; text-align: left;\">missing</td><td style = \"font-style: italic; text-align: right;\">missing</td><td style = \"font-style: italic; text-align: right;\">missing</td><td style = \"font-style: italic; text-align: right;\">missing</td><td style = \"font-style: italic; text-align: right;\">missing</td><td style = \"text-align: left;\">ctccggcttttttcgatctttatacttgtatggtagtagctcagttgcgtagatttcatgCatcacgacaagcgatgcaag</td><td style = \"text-align: left;\">ECK12</td><td style = \"font-style: italic; text-align: left;\">missing</td><td style = \"font-style: italic; text-align: right;\">missing</td><td style = \"font-style: italic; text-align: left;\">missing</td><td style = \"text-align: left;\">ECK125328184</td><td style = \"text-align: left;\">ECK125269234</td><td style = \"text-align: left;\">ECK125286693</td><td style = \"text-align: left;\">activator</td><td style = \"text-align: right;\">-60.5</td><td style = \"text-align: right;\">-90.5</td><td style = \"text-align: left;\">ECK120003428</td><td style = \"font-style: italic; text-align: right;\">missing</td><td style = \"font-style: italic; text-align: left;\">missing</td><td style = \"font-style: italic; text-align: right;\">missing</td><td style = \"text-align: left;\">ECK12</td><td style = \"text-align: left;\">atacgcctttTTTTGTGATCACTCCGGCTTTTttcgatcttt</td><td style = \"font-style: italic; text-align: left;\">missing</td><td style = \"font-style: italic; text-align: left;\">missing</td><td style = \"font-style: italic; text-align: right;\">missing</td><td style = \"text-align: left;\">ECK120011235</td><td style = \"text-align: left;\">CRP-cyclic-AMP</td><td style = \"text-align: left;\">The transcriptional dual regulator CRP, &lt;b&gt;c&lt;/b&gt;AMP &lt;b&gt;r&lt;/b&gt;eceptor &lt;b&gt;p&lt;/b&gt;rotein, also called CAP, catabolite gene activator protein, regulates the expression of over 180 genes |CITS: [16301522][9813115][15520470]| in &lt;i&gt;E. coli&lt;/i&gt;. Many of these genes are involved in the catabolism of secondary carbon sources (for reviews, see |CITS: [19033675][18359269][18628769][8394684]|. In addition, CRP is involved in many other processes, such as osmoregulation |CITS: [10601034][16885462]|, stringent response |CITS: [10966109]|, biofilm formation |CITS: [12029060]|, virulence |CITS: [16885462]|, nitrogen assimilation |CITS: [17284458][17233899][11532153]|, iron uptake |CITS: [15659676]|, competence |CITS: [19502395]|, multidrug resistance to antibiotics |CITS: [18503189][16885453][33972351]|, and expression of CyaR sRNA |CITS: [18978044]|. Transcriptome analyses have been performed |CITS: [19703305][17559662][15520470][15150239]|. Expression of &lt;i&gt;crp&lt;/i&gt; is positively and negatively autoregulated |CITS: [6297782][1328816]|; repression of &lt;i&gt;crp&lt;/i&gt; requires Fis |CITS: [9582281]|. CRP plays an important role in persistent cell formation |CITS: [26408451]|, as has been shown by activation of a gene potentially related to persistence |CITS: [24509317]|. &lt;br&gt;The activity of CRP on its targets indirectly reduces the expression of genes that are not CRP targets. This appears to happen because the regulation of CRP as a global regulator consumes the resources necessary for the expression of other genes, such as genes of anabolism |CITS:[33852189]|.&lt;br&gt;CRP was the first purified transcriptional regulator and the first regulator for which the structure was solved |CITS: [4320461][4317918][6261152][6280140]|. CRP is activated as a DNA-binding protein via binding of its allosteric effector, cAMP |CITS: [4320461][6261152][11890200]|. The hydrogen-bonding abilities of the Thr&lt;sup&gt;127&lt;/sup&gt; and Ser&lt;sup&gt;128&lt;/sup&gt; residues at the cAMP pocket play a key role in stabilizing the CRP inactive form and in providing high cAMP affinity. However, these residues are not critical for cAMP-induced CRP activation |CITS: [26378231]|. The CRP lysine (K100) residue promotes CRP activity at class II promoters and helps to ensure proper CRP steady-state levels. On the other hand, acetylation of this residue is a mechanism by which the cell downregulates CRP-dependent class II promoter activity while elevating CRP steady-state levels, thus indirectly increasing class I promoter activity |CITS: [29105190]|. CRP K100 can be acetylated by &lt;i&gt;acP&lt;/i&gt; &lt;i&gt;in vitro&lt;/i&gt; and &lt;i&gt;in vivo&lt;/i&gt; |CITS: [29105190]|. In minimal medium with glycerol, CRP is acetylated by the N&amp;epsilon;-lysine acetyltransferase YfiQ; this effect is triggered by high levels of ppGpp, which promote &lt;i&gt;yfiQ&lt;/i&gt; expression |CITS: [34705884]|. CRP acetylation by YfiQ affects the activation promoters class I, while CRP acetylation in K100 by acetyl phosphate does not |CITS: [34705884]|. The CRP residues acetylated by YfiQ are not yet known |CITS: [34705884]|.&lt;br&gt;cAMP-dependent catabolite repression plays a role in the regulation of biofilm growth in response to sugars |CITS: [26159080]|. The metabolism of lactose, L-arabinose, and D-xylose is regulated in a hierarchical manner through cAMP, where lactose is clearly the preferred sugar, followed by L-arabinose and then D-xylose |CITS: [29330542]|. Microstates of CRP bound to cAMP have been analyzed by |CITS: [31885251]|.  Based on semisynthetic promoters containing different lengths of the spacer relative to the TSS, as well as natural Class II promoters in the presence of wild-type (WT) CRP or K100 mutant CRP, it was determined that the expression profiles of these promoters at different distances from the CRP site were similar in both the K100 mutants and WT CRP, with the highest activity at the -41.5 length of the spacer relative to the TSS |CITS: [33095239]|. It is proposed that CRP K100 acetylation is  required for full promoter activity and could ...</td><td style = \"text-align: left;\">Allosteric</td><td style = \"font-style: italic; text-align: right;\">missing</td><td style = \"text-align: left;\">ECK12</td><td style = \"text-align: left;\">Active</td><td style = \"text-align: left;\">Holo</td><td style = \"text-align: left;\">The transcriptional dual regulator CRP, &lt;b&gt;c&lt;/b&gt;AMP &lt;b&gt;r&lt;/b&gt;eceptor &lt;b&gt;p&lt;/b&gt;rotein, also called CAP, catabolite gene activator protein, regulates the expression of over 180 genes &lt;a href=&quot;#myRef&quot; class=&quot;linkBlue&quot;&gt;Grainger DC, Hurd D, Harrison M, Holdstock J, Busby SJ,2005. Robison K,1998. Zheng D,2004&lt;/a&gt; in &lt;i&gt;E. coli&lt;/i&gt;. Many of these genes are involved in the catabolism of secondary carbon sources (for reviews, see &lt;a href=&quot;#myRef&quot; class=&quot;linkBlue&quot;&gt;Fic E, Bonarek P, Gorecki A, Kedracka-Krok S, Mikolajczak J, Polit A, Tworzydlo M, Dziedzicka-Wasylewska M, Wasylewski Z,2009. Deutscher J,2008. Görke B, Stülke J,2008. Kolb A, Busby S, Buc H, Garges S, Adhya S,1993&lt;/a&gt;. In addition, CRP is involved in many other processes, such as osmoregulation &lt;a href=&quot;#myRef&quot; class=&quot;linkBlue&quot;&gt;Landis L, Xu J, Johnson RC,1999. Balsalobre C, Johansson J, Uhlin BE,2006&lt;/a&gt;, stringent response &lt;a href=&quot;#myRef&quot; class=&quot;linkBlue&quot;&gt;Johansson J,2000&lt;/a&gt;, biofilm formation &lt;a href=&quot;#myRef&quot; class=&quot;linkBlue&quot;&gt;Jackson DW, Simecka JW, Romeo T,2002&lt;/a&gt;, virulence &lt;a href=&quot;#myRef&quot; class=&quot;linkBlue&quot;&gt;Balsalobre C, Johansson J, Uhlin BE,2006&lt;/a&gt;, nitrogen assimilation &lt;a href=&quot;#myRef&quot; class=&quot;linkBlue&quot;&gt;Mao XJ, Huo YX, Buck M, Kolb A, Wang YP,2007. Paul L,2007. Tian ZX,2001&lt;/a&gt;, iron uptake &lt;a href=&quot;#myRef&quot; class=&quot;linkBlue&quot;&gt;Zhang Z,2005&lt;/a&gt;, competence &lt;a href=&quot;#myRef&quot; class=&quot;linkBlue&quot;&gt;Sinha S, Cameron AD, Redfield RJ,2009&lt;/a&gt;, multidrug resistance to antibiotics &lt;a href=&quot;#myRef&quot; class=&quot;linkBlue&quot;&gt;Nishino K, Senda Y, Yamaguchi A,2008. Hirakawa H,2006. Cho H, Misra R,2021&lt;/a&gt;, and expression of CyaR sRNA &lt;a href=&quot;#myRef&quot; class=&quot;linkBlue&quot;&gt;De Lay N,2009&lt;/a&gt;. Transcriptome analyses have been performed &lt;a href=&quot;#myRef&quot; class=&quot;linkBlue&quot;&gt;Khankal R, Chin JW, Ghosh D, Cirino PC,2009. Gutierrez-Ríos RM, Freyre-Gonzalez JA, Resendis O, Collado-Vides J, Saier M, Gosset G,2007. Zheng D,2004. Gosset G,2004&lt;/a&gt;. Expression of &lt;i&gt;crp&lt;/i&gt; is positively and negatively autoregulated &lt;a href=&quot;#myRef&quot; class=&quot;linkBlue&quot;&gt;Aiba H,1983. Hanamura A,1992&lt;/a&gt;; repression of &lt;i&gt;crp&lt;/i&gt; requires Fis &lt;a href=&quot;#myRef&quot; class=&quot;linkBlue&quot;&gt;Gonzalez-Gil G,1998&lt;/a&gt;. CRP plays an important role in persistent cell formation &lt;a href=&quot;#myRef&quot; class=&quot;linkBlue&quot;&gt;Uppal S, Jawali N,2016&lt;/a&gt;, as has been shown by activation of a gene potentially related to persistence &lt;a href=&quot;#myRef&quot; class=&quot;linkBlue&quot;&gt;Uppal S,2014&lt;/a&gt;. &lt;br&gt;The activity of CRP on its targets indirectly reduces the expression of genes that are not CRP targets. This appears to happen because the regulation of CRP as a global regulator consumes the resources necessary for the expression of other genes, such as genes of anabolism &lt;a href=&quot;#myRef&quot; class=&quot;linkBlue&quot;&gt;Kochanowski K, Okano H, Patsalo V, Williamson J, Sauer U, Hwa T,2021&lt;/a&gt;&lt;br&gt;CRP was the first purified transcriptional regulator and the first regulator for which the structure was solved &lt;a href=&quot;#myRef&quot; class=&quot;linkBlue&quot;&gt;Zubay G, Schwartz D, Beckwith J,1970. Emmer M, deCrombrugghe B, Pastan I, Perlman R,1970. McKay DB, Steitz TA,1981. Aiba H,1982&lt;/a&gt;. CRP is activated as a DNA-binding protein via binding of its allosteric effector, cAMP &lt;a href=&quot;#myRef&quot; class=&quot;linkBlue&quot;&gt;Zubay G, Schwartz D, Beckwith J,1970. McKay DB, Steitz TA,1981. Błaszczyk U, Polit A, Guz A, Wasylewski Z,2001&lt;/a&gt;. The hydrogen-bonding abilities of the Thr&lt;sup&gt;127&lt;/sup&gt; and Ser&lt;sup&gt;128&lt;/sup&gt; residues at the cAMP pocket play a key role in stabilizing the CRP inactive form and in providing high cAMP affinity. However, these residues are not critical for cAMP-induced CRP activation &lt;a href=&quot;#myRef&quot; class=&quot;linkBlue&quot;&gt;Gunasekara SM, Hicks MN, Park J, Brooks CL, Serate J, Saunders CV, Grover SK, Goto JJ, Lee JW, Youn H,2015&lt;/a&gt;. The CRP lysine (K100) residue promotes CRP activity at class II promoters and helps to ensure proper CRP steady-state levels. On the other hand, acetylation of this residue is a mechanism by which the cell downregulates CRP-dependent class II promoter activity while elevating CRP steady-state levels, thus indirectly increasing class I promoter activity &lt;a href=&quot;#myRef&quot; class=&quot;linkBlue&quot;&gt;Davis R, Écija-Conesa A, Gallego-Jara J, de Diego T, Filippova EV, Kuffel G, Anderson WF, Gibson BW, Schilling B, Canovas M, Wolfe AJ,2018&lt;/a&gt;. CRP K100 can be acetylated by &lt;i&gt;acP&lt;/i&gt; &lt;i&gt;in vitro&lt;/i&gt; and &lt;i&gt;in vivo&lt;/i&gt; &lt;a href=&quot;#myRef&quot; class=&quot;linkBlue&quot;&gt;Davis R, Écija-Conesa A, Gallego-Jara J, de Diego T, Filippova EV, Kuffel G, Anderson WF, Gibson BW, Schilling B, Canovas M, Wolfe AJ,2018&lt;/a&gt;. In minimal medium with glycerol, CRP is acetylated by the N&amp;epsilon;-lysine acetyltransferase YfiQ; this effect is triggered by high levels of ppGpp, which promote &lt;i&gt;yfiQ&lt;/i&gt; expression &lt;a href=&quot;#myRef&quot; class=&quot;linkBlue&quot;&gt;Ro C, Cashel M, Fernández-Coll L,2021&lt;/a&gt;. CRP acetylation by YfiQ affects the activation promoters class I, while CRP acetylation in K100 by acetyl phosphate does not &lt;a href=&quot;#myRef&quot; class=&quot;linkBlue&quot;&gt;Ro C, Cashel M, Fernández-Coll L,2021&lt;/a&gt;. The CRP residues acetylated by YfiQ are not yet known &lt;a href=&quot;#myRef&quot; class=&quot;linkBlue&quot;&gt;Ro C, Cashel M, Fernández-Coll L,2021&lt;/a&gt;.&lt;br&gt;cAMP-dependent catabolite repression plays a role in the regulation of biofilm growth in response to sugars &lt;a href=&quot;#myRef&quot; class=&quot;linkBlue&quot;&gt;Sutrina SL, Daniel K, Lewis M, Charles NT, Anselm CK, Thomas N, Holder N,2015&lt;/a&gt;. The metabolism of lactose, L-arabinose, and D-xylose is regulated in a hierarchical manner through cAMP, where lactose is clearly the preferred sugar, followed by L-arabinose and then D-xylose &lt;a href=&quot;#myRef&quot; class=&quot;linkBlue&quot;&gt;Ammar EM, Wang X, Rao CV,2018&lt;/a&gt;. Microstates of CRP bound to cAMP have been analyzed by &lt;a href=&quot;#myRef&quot; class=&quot;linkBlue&quot;&gt;Chkheidze R, Evangelista W, White MA, Yin YW, Lee JC,2020&lt;/a&gt;.  Based on semisynthetic promoters containing different lengths of the spacer relative to the TSS, as well as natural Class II promoters in the presence of wild-type (WT) CRP or K100 mutant CRP, it was determined that the expression profiles of these promoters at different distances from the CRP site were similar in both the K100 mutants and WT CRP, with the highest activity at the -41.5 length of the spacer relative to the TSS &lt;a href=&quot;#myRef&quot; class=&quot;linkBlue&quot;&gt;Ecija-Conesa A,2020&lt;/a&gt;. It is proposed that CRP K100 acetylation is  required for full promoter activity and could ...</td></tr><tr><td class = \"rowNumber\" style = \"font-weight: bold; text-align: right;\">2</td><td style = \"text-align: left;\">ECK125328140</td><td style = \"text-align: left;\">rspAp</td><td style = \"text-align: left;\">reverse</td><td style = \"text-align: right;\">1655171</td><td style = \"font-style: italic; text-align: left;\">missing</td><td style = \"font-style: italic; text-align: right;\">missing</td><td style = \"font-style: italic; text-align: right;\">missing</td><td style = \"font-style: italic; text-align: right;\">missing</td><td style = \"font-style: italic; text-align: right;\">missing</td><td style = \"text-align: left;\">ctccggcttttttcgatctttatacttgtatggtagtagctcagttgcgtagatttcatgCatcacgacaagcgatgcaag</td><td style = \"text-align: left;\">ECK12</td><td style = \"font-style: italic; text-align: left;\">missing</td><td style = \"font-style: italic; text-align: right;\">missing</td><td style = \"font-style: italic; text-align: left;\">missing</td><td style = \"text-align: left;\">ECK125328189</td><td style = \"text-align: left;\">ECK125269456</td><td style = \"text-align: left;\">ECK125258719</td><td style = \"text-align: left;\">repressor</td><td style = \"text-align: right;\">-35.0</td><td style = \"text-align: right;\">-65.0</td><td style = \"text-align: left;\">ECK120003428</td><td style = \"font-style: italic; text-align: right;\">missing</td><td style = \"text-align: left;\">Based on a reduced genome of &lt;i&gt;Escherichia coli&lt;/i&gt; W3110red (MGF-01) and shift assay analysis, it was determined that YdfH is a transcriptional repressor of the &lt;i&gt;rspAB&lt;/i&gt; operon |CITS:[22972332]|.</td><td style = \"font-style: italic; text-align: right;\">missing</td><td style = \"text-align: left;\">ECK12</td><td style = \"text-align: left;\">tttcgatcttTATACTTGTATggtagtagct</td><td style = \"font-style: italic; text-align: left;\">missing</td><td style = \"font-style: italic; text-align: left;\">missing</td><td style = \"font-style: italic; text-align: right;\">missing</td><td style = \"text-align: left;\">ECK125158221</td><td style = \"text-align: left;\">RspR</td><td style = \"text-align: left;\">YdfH belongs to the GntR transcription factor family |CITS: [10734204]|, for which the consensus sequence is reported to be tnGTnnnACna |CITS: [11756427]|.&lt;br&gt;Although only one site was determined in a gel shift assay, it is possible that YfdH binds as a complex of flanking regions of the core sequence (-65 to -50) |CITS: [22972332]|.&lt;br&gt;It was determined by Genomic SELEX screening that a site located upstream of &lt;i&gt;rspAB&lt;/i&gt; is the only target of RspR |CITS: [34220787]|.</td><td style = \"font-style: italic; text-align: left;\">missing</td><td style = \"font-style: italic; text-align: right;\">missing</td><td style = \"text-align: left;\">ECK12</td><td style = \"text-align: left;\">Active</td><td style = \"font-style: italic; text-align: left;\">missing</td><td style = \"text-align: left;\">YdfH belongs to the GntR transcription factor family &lt;a href=&quot;#myRef&quot; class=&quot;linkBlue&quot;&gt;Perez-Rueda E,2000&lt;/a&gt;, for which the consensus sequence is reported to be tnGTnnnACna &lt;a href=&quot;#myRef&quot; class=&quot;linkBlue&quot;&gt;Rigali S,2002&lt;/a&gt;.&lt;br&gt;Although only one site was determined in a gel shift assay, it is possible that YfdH binds as a complex of flanking regions of the core sequence (-65 to -50) &lt;a href=&quot;#myRef&quot; class=&quot;linkBlue&quot;&gt;Sakihama Y,2012&lt;/a&gt;.&lt;br&gt;It was determined by Genomic SELEX screening that a site located upstream of &lt;i&gt;rspAB&lt;/i&gt; is the only target of RspR &lt;a href=&quot;#myRef&quot; class=&quot;linkBlue&quot;&gt;Shimada T,2021&lt;/a&gt;.</td></tr></tbody></table></div>"
      ],
      "text/latex": [
       "\\begin{tabular}{r|ccccccc}\n",
       "\t& PROMOTER\\_ID & PROMOTER\\_NAME & PROMOTER\\_STRAND & POS\\_1 & SIGMA\\_FACTOR & BASAL\\_TRANS\\_VAL & \\\\\n",
       "\t\\hline\n",
       "\t& String15 & String31 & String7 & Int64? & String7? & Missing & \\\\\n",
       "\t\\hline\n",
       "\t1 & ECK125328140 & rspAp & reverse & 1655171 & \\emph{missing} & \\emph{missing} & $\\dots$ \\\\\n",
       "\t2 & ECK125328140 & rspAp & reverse & 1655171 & \\emph{missing} & \\emph{missing} & $\\dots$ \\\\\n",
       "\\end{tabular}\n"
      ],
      "text/plain": [
       "\u001b[1m2×38 DataFrame\u001b[0m\n",
       "\u001b[1m Row \u001b[0m│\u001b[1m PROMOTER_ID  \u001b[0m\u001b[1m PROMOTER_NAME \u001b[0m\u001b[1m PROMOTER_STRAND \u001b[0m\u001b[1m POS_1   \u001b[0m\u001b[1m SIGMA_FACTOR \u001b[0m\u001b[1m BA\u001b[0m ⋯\n",
       "     │\u001b[90m String15     \u001b[0m\u001b[90m String31      \u001b[0m\u001b[90m String7         \u001b[0m\u001b[90m Int64?  \u001b[0m\u001b[90m String7?     \u001b[0m\u001b[90m Mi\u001b[0m ⋯\n",
       "─────┼──────────────────────────────────────────────────────────────────────────\n",
       "   1 │ ECK125328140  rspAp          reverse          1655171 \u001b[90m missing      \u001b[0m\u001b[90m   \u001b[0m ⋯\n",
       "   2 │ ECK125328140  rspAp          reverse          1655171 \u001b[90m missing      \u001b[0m\u001b[90m   \u001b[0m\n",
       "\u001b[36m                                                              33 columns omitted\u001b[0m"
      ]
     },
     "execution_count": 150,
     "metadata": {},
     "output_type": "execute_result"
    }
   ],
   "source": [
    "df[df.PROMOTER_NAME .== \"rspAp\", :]"
   ]
  },
  {
   "cell_type": "code",
   "execution_count": null,
   "id": "d8a5e36a-9cb5-4fb3-867e-94450387d9e5",
   "metadata": {},
   "outputs": [],
   "source": []
  }
 ],
 "metadata": {
  "kernelspec": {
   "display_name": "Julia 1.10.3",
   "language": "julia",
   "name": "julia-1.10"
  },
  "language_info": {
   "file_extension": ".jl",
   "mimetype": "application/julia",
   "name": "julia",
   "version": "1.10.3"
  }
 },
 "nbformat": 4,
 "nbformat_minor": 5
}
