{
 "cells": [
  {
   "cell_type": "markdown",
   "id": "d1ac8160-7b9f-4b36-8d0f-444abf90cbf6",
   "metadata": {},
   "source": [
    "# EDA"
   ]
  },
  {
   "cell_type": "code",
   "execution_count": 1,
   "id": "5de19194-7b42-4a73-a085-3add20fd43bb",
   "metadata": {},
   "outputs": [
    {
     "data": {
      "text/plain": [
       "3-element Vector{String}:\n",
       " \"#324fa2\"\n",
       " \"#f47c20\"\n",
       " \"#a8cf38\""
      ]
     },
     "execution_count": 1,
     "metadata": {},
     "output_type": "execute_result"
    }
   ],
   "source": [
    "# Get packages\n",
    "using CSV, DataFrames, wgregseq, CairoMakie, Statistics, DelimitedFiles, Dates, Colors, FASTX, BioSequences, StatsBase, ProgressMeter\n",
    "\n",
    "# Set colors and plotting style\n",
    "wgregseq.plotting_style.default_makie!()\n",
    "update_theme!(Theme(font = \"Lato\", titlefont=\"Lato\"))\n",
    "colors_dict = wgregseq.plotting_style.my_color_dict\n",
    "colors = [colors_dict[\"blue1\"], colors_dict[\"orange1\"], colors_dict[\"green1\"]]"
   ]
  },
  {
   "attachments": {},
   "cell_type": "markdown",
   "id": "8488f31b-152d-4c82-8a92-d1350fad773a",
   "metadata": {},
   "source": [
    "## Import mapping data\n",
    "\n",
    "Import the table mapping barcodes to promoter variants and filter out anything that has less than 3 reads, as well as anything with more than 30 mutations."
   ]
  },
  {
   "cell_type": "code",
   "execution_count": 2,
   "id": "4d6485b2-120b-488c-8f90-2eb213b003ce",
   "metadata": {},
   "outputs": [],
   "source": [
    "df_map = CSV.read(\n",
    "    \"../../../data/barcodes/20220514_mapping/mapped_barcodes.csv\", \n",
    "    DataFrame, \n",
    ");"
   ]
  },
  {
   "cell_type": "code",
   "execution_count": 3,
   "id": "afa72c83-9a04-4e54-87f0-303b1fe82b76",
   "metadata": {},
   "outputs": [],
   "source": [
    "# Filter out unnannotad sequences\n",
    "df_map = df_map[df_map.name .!= \"*\", :]\n",
    "\n",
    "# Filter out non-unique barcodes\n",
    "gdf = groupby(df_map[(df_map.map_count .> 2), :], :barcode)\n",
    "_df = DataFrame()\n",
    "for df in gdf\n",
    "    if nrow(df) == 1\n",
    "        append!(_df, df)\n",
    "    end\n",
    "end\n",
    "df_map = copy(_df);"
   ]
  },
  {
   "cell_type": "code",
   "execution_count": 4,
   "id": "502b17a1-2077-4b3b-83db-0ae4e4a408f9",
   "metadata": {},
   "outputs": [],
   "source": [
    "# Get twist order to get wild type sequences\n",
    "df_seqs = wgregseq.utils.import_twist_order(\"../../../data/twist_orders/2022-02-15_twist_order.csv\")\n",
    "df_wt = df_seqs[1:1501:119*1501, :];\n",
    "insertcols!(df_wt, 4, :promoter_seq => [string(x[27:186]) for x in df_wt.sequence])\n",
    "\n",
    "df_wt.promoter_seq |> unique |> length\n",
    "df_map = leftjoin(df_map, rename(df_wt[!, [:promoter, :promoter_seq]], :promoter => :name), on=\"name\")\n",
    "rename!(df_map, :promoter_seq => :wt_seq);"
   ]
  },
  {
   "cell_type": "code",
   "execution_count": 7,
   "id": "5ff907f5-5ded-462f-b37a-b3058fac1bef",
   "metadata": {},
   "outputs": [
    {
     "data": {
      "text/plain": [
       "expression_shifts (generic function with 1 method)"
      ]
     },
     "execution_count": 7,
     "metadata": {},
     "output_type": "execute_result"
    }
   ],
   "source": [
    "function expression_shifts(df)\n",
    "    _df = copy(df) \n",
    "    # Compute relative (with pseudo counts)\n",
    "    if :wt_seq ∉ names(_df)\n",
    "        freq_mat = wgregseq.footprints.frequency_matrix(_df)[1]\n",
    "        # find wild type sequence \n",
    "        wt_seq = argmax(freq_mat, dims=2) |> vec\n",
    "        wt_seq = map(x -> x[2], wt_seq)\n",
    "        wt_seq_dna = [wgregseq.footprints.DNA_dict_rev[x] for x in wt_seq]\n",
    "\n",
    "        function is_mut(x)\n",
    "            return x .!= wt_seq\n",
    "        end\n",
    "\n",
    "        insertcols!(_df, 4, :is_mutated => is_mut.(_df.int_promoter))\n",
    "    else\n",
    "        function is_mut(x, y)\n",
    "            return x .!= y\n",
    "        end\n",
    "        insertcols!(_df, 4, :is_mutated => is_mut.(_df.int_promoter, df.int_wt))\n",
    "    end\n",
    "\n",
    "    mean_rel_counts = mean(_df.relative_counts)\n",
    "    a = (_df.relative_counts .- mean_rel_counts) .* _df.is_mutated\n",
    "    b = wgregseq.utils.onehot_encoder.(_df.promoter)\n",
    "\n",
    "    ex_shift_arr = zeros(160, 4)\n",
    "    for i in 1:nrow(_df)\n",
    "        ex_shift_arr += a[i] .* b[i]\n",
    "    end\n",
    "\n",
    "    return ex_shift_arr ./ sum(b, dims=1)[1]\n",
    "end"
   ]
  },
  {
   "cell_type": "code",
   "execution_count": 8,
   "id": "f08df606-3914-4e96-aa63-2f577784c361",
   "metadata": {
    "scrolled": true
   },
   "outputs": [
    {
     "data": {
      "text/plain": [
       "Dict{Int64, String} with 9 entries:\n",
       "  5  => \"M9 + 0.5% Glucose + 2.5mM Sodium Salicytate\"\n",
       "  13 => \"LB\"\n",
       "  6  => \"M9 + 0.5% Glucose + 5% Ethanol\"\n",
       "  7  => \"M9 + 0.5% Glucose + Stationary Phase (1d)\"\n",
       "  2  => \"M9 + 0.5% Xylose\"\n",
       "  10 => \"M9 + 0.5% Glucose + 2mg/L Ampicillin\"\n",
       "  12 => \"M9 + 0.5% Glucose + H2O2 (0.1 mM)\"\n",
       "  3  => \"M9 + 0.5% Arabinose\"\n",
       "  1  => \"M9 + 0.5% Glucose\""
      ]
     },
     "execution_count": 8,
     "metadata": {},
     "output_type": "execute_result"
    }
   ],
   "source": [
    "gc_dict = Dict(\n",
    "    1 => \"M9 + 0.5% Glucose\",\n",
    "    2 => \"M9 + 0.5% Xylose\",\n",
    "    3 => \"M9 + 0.5% Arabinose\",\n",
    "    5 => \"M9 + 0.5% Glucose + 2.5mM Sodium Salicytate\",\n",
    "    6 => \"M9 + 0.5% Glucose + 5% Ethanol\",\n",
    "    7 => \"M9 + 0.5% Glucose + Stationary Phase (1d)\",\n",
    "    10 => \"M9 + 0.5% Glucose + 2mg/L Ampicillin\",\n",
    "    12 => \"M9 + 0.5% Glucose + H2O2 (0.1 mM)\",\n",
    "    13 => \"LB\",\n",
    ")"
   ]
  },
  {
   "cell_type": "code",
   "execution_count": 11,
   "id": "f1a3ba6e-4ca0-4856-ae2a-4d5f61851b3a",
   "metadata": {},
   "outputs": [
    {
     "name": "stdout",
     "output_type": "stream",
     "text": [
      "GATGACGACAAACTCATTCATCTCATGGCTGCCGTACGAGACTGTGAGTGGTCAGACGATAACGCACTCACCATAAATGTGCAGTTTAATGATTTCCCTGGATTTTATGACTGGATGGATTACCCTGATCACCCGGTTAAGTTTGTTTTTCACATACTTG\n",
      "TGCTGGACTCATTCGGCATCGGCGCTACAGAAGATGCAGAACGCTTTGGTGACGTCGGGGCTGACACCCTGGGTCATATCGCAGAAGCTTGTGCCAAAGGCGAAGCTGATAACGGTCGTAAAGGCCCGCTCAATCTGCCAAATCTGACCCGTCTGGGGCT\n",
      "GAACGTGAACATAAAACTGGTTCATTAAGTTTCCTTGCTTGCTGGCTGTGTGAGAACTCCAGCATACCACCGAGCCTGAAGTGGTGAAAAGACAGGCACATAACAGCTAAGTATTTTCAACCAGAGAGAATCCTTAGCGTTGTGGTGAATGCGGCTCAGC\n",
      "GGTCTGTTCGGCTGTGTCTTCAAATAGACGAACGTGAACATAAAACTGGTTCATTAAGTTTCCTTGCTTGCTGGCTGTGTGAGAACTCCAGCATACCACCGAGCCTGAAGTGGTGAAAAGACAGGCACATAACAGCTAAGTATTTTCAACCAGAGAGAAT\n",
      "TTCATCGTCAATACGCAGGTTAATGCTACCCATGTCTTACACCTCTTGTAATTACAAATGTCATTACAAGTATCGCACTACAACATGCTTAGGGCAAGTCACGAAGGAAGTCAGAAAGTAGTCGTAAGAACGGTGATCACTGTCCGCTTTGTGCCAGGAG\n",
      "GTACCTCAGCAGGTGAATAAATTTTATTCATATTGTTATCAACAAGTTATCAAGTATTTTTAATTAAAATGGAAATTGTTTTTGATTTTGCATTTTAAATGAGTAGTCTTAGTTGTGCTGAACGAAAAGAGCACAACGATCCTTCGTTCACAGTGGGGAA\n",
      "CGAGGATGTGTTGGCGCGTTTCTTGCGCTTCTTGTTTGGTTTTTCGTGCCATATGTTCGTGAATTTACAGGCGTTAGATTTACATACATTTGTGAATGTATGTACCATAGCACGACGATAATATAAACGCAGCAATGGGTTTATTAACTTTTGACCATTG\n",
      "TCACCCTACGCGCTATCTTCCCGAACCCGGATCACACTCTGCTGCCGGGTATGTTCGTGCGCGCACGTCTGGAAGAAGGGCTTAATCCAAACGCTATTTTAGTCCCGCAACAGGGCGTAACCCGTACGCCGCGTGGCGATGCCACCGTACTGGTAGTTGG\n",
      "GCCTGCATAACAATGTCCTGGCAAAAGTCTTATTGTGACGGAAAACGAACGCCACGCAAAGCTGACCGCACAAAAGGGGAGTGCTTTTCTGTGCTTAGCGGTTAGAATAGTCTCATGACTATATCTGGAGTTGACCATGTTAGAGTTATTAAAAAGTCTG\n",
      "TCCACATTGATTATTTGCACGGCGTCACACTTTGCTATGCCATAGCATTTTTATCCATAAGATTAGCGGATCCTACCTGACGCTTTTTATCGCAACTCTCTACTGTTTCTCCATACCCGTTTTTTTGGATGGAGTGAAACGATGGCGATTGCAATTGGCC\n",
      "GTCAGGTAGGATCCGCTAATCTTATGGATAAAAATGCTATGGCATAGCAAAGTGTGACGCCGTGCAAATAATCAATGTGGACTTTTCTGCCGTGATTATAGACACTTTTGTTACGCGTTTTTGTCATGGCTTTGGTCCCGCTTTGTTACAGAATGCTTTT\n",
      "GTTGTTTAACTTAAGTCAAAAAAATAGCGAATTTTCCAACGACAAAAGCTAAATATCGCAAAAACCTCAGTAAAAATCTTGCTGGAGCTATTATTGCTAAGTAACATTTACCCCCTGAAGTTAATGGATCAATCAAGAGAGATGTGGGCTGTAATGAATC\n",
      "TCTGTCGCGATTCAACGATAGAGAGTTTACGATTCAGGCTGCAAACATGCGTCAGGGGGTGTAAAACAACGTAAAGTCATGGATTAGCGACGTCTGATGACGTAATTTCTGCCTCGGAGGTATTTAAACAATGAATAAAATCCTGTTAGTTGATGATGAC\n",
      "AATTTTCCTGACAGAGTACGCGTACTAACCAAATCGCGCAACGGAAGGCGACCTGGGTCATGCTGAAGCGAGACACCAGGAGACACAAAGCGAAAGCTATGCTAAAACAGTCAGGATGCTACAGTAATACATTGATGTACTGCATGTATGCAAAGGACGT\n",
      "GGAGACACAAAGCGAAAGCTATGCTAAAACAGTCAGGATGCTACAGTAATACATTGATGTACTGCATGTATGCAAAGGACGTCACATTACCGTGCAGTACAGTTGATAGCCCCTTCCCAGGTAGCGGGAAGCATATTTCGGCAATCCAGAGACAGCGGCG\n",
      "ACACCAGGAGACACAAAGCGAAAGCTATGCTAAAACAGTCAGGATGCTACAGTAATACATTGATGTACTGCATGTATGCAAAGGACGTCACATTACCGTGCAGTACAGTTGATAGCCCCTTCCCAGGTAGCGGGAAGCATATTTCGGCAATCCAGAGACA\n",
      "TGCCCGGGCAATTCTAGAGTAGCGGGATCAGATGGCAATCGCTTATTGGCAAAATGACAATTTTGTCATTTTTCTGTCACCGGAAAATCAGAGCCTGGCGAGTAAAGTTGGCGGCATAAAATCACCAGAAATTATGAGCCTATGTCTCCTTGTAAACTTC\n",
      "TGTAGTACAACAATATAAGTTTGTACTACATTACACGCACGGCAAACGCGAACGTCATCACGCTGGTACTACAAAGTTGCCGCGTTATGCATCGATCGGGGTAAAGTAGAGAAGAACATACAGAGCACAAGGACTCTCCATGACTCTCAATAAAACCGAT\n",
      "GAGGTTTTTCCGACGATACCTGATGCGTTCGCCGATAGTTAAATTTTTTGTTTCCATAGTTAGCTAATGCTAAATCGTATTGACTATGTTTTTGTTAACATCTATCTTGTTAGTTATGACTAACAATAAAGGTGTTTTAAATGCTTAAAACTGACGCTCT\n",
      "TGGCTCTGACTGGAGTGAGATAGCCATCATCTAACGCATCAATGCTAATACCATACTGAAACTATTGCAAGGACGTGCTGGTTTTATAACCTGCATGTACTGTATGATTATCCAGTTAGCTCTGAGGCATTTTCACTCTGGCAATGCGCATAAACGCTTT\n",
      "GAAGACATCAAACATCTCGGCAACTCCATCTCTCGCGCTGCCAGCTAATTTTTCTTCTCTTCCGAAAAATCATCAGATTCCCATCATTTTTGGCGATGTTGTCTATTATTAATTTGCTATAGGCAAACATAAATAACATTACCTAAAAGGAAGACGTTAT\n",
      "GTTTCGGTTTTATCCCTGTGACGGAGGTCTATGAAGAAGATGGTATCCCACACATTGGGATGGCACGCGAGGTAATTCAGGCGTAATCAACAACCCTTGTCTATAGTTAGTGACAGGTTTTACGCAAATGGAGAACGAGAATGTCTAATCAGTTTGGTGA\n",
      "GGCGGCGCTGCGTAGTCAGGGCATCGTTTAAATTTCCACTTTCATGTAGCACAGTGTGCAGTCCTGCTCGTTTGCTGATTCCGCAAGACTGCCTGTTCTGCTATGATTGCCTTTATCCGTGGGCAATTTTCCACCCCCATTTCAATAAGTTTCAAGAGGT\n"
     ]
    },
    {
     "ename": "LoadError",
     "evalue": "InterruptException:",
     "output_type": "error",
     "traceback": [
      "InterruptException:",
      "",
      "Stacktrace:",
      "  [1] Array",
      "    @ ./boot.jl:479 [inlined]",
      "  [2] Array",
      "    @ ./boot.jl:487 [inlined]",
      "  [3] Array",
      "    @ ./boot.jl:494 [inlined]",
      "  [4] similar",
      "    @ ./abstractarray.jl:882 [inlined]",
      "  [5] similar",
      "    @ ./abstractarray.jl:881 [inlined]",
      "  [6] similar",
      "    @ ./broadcast.jl:212 [inlined]",
      "  [7] similar",
      "    @ ./broadcast.jl:211 [inlined]",
      "  [8] copy",
      "    @ ./broadcast.jl:898 [inlined]",
      "  [9] materialize",
      "    @ ./broadcast.jl:873 [inlined]",
      " [10] broadcast_preserving_zero_d",
      "    @ ./broadcast.jl:862 [inlined]",
      " [11] +(A::Matrix{Int64}, Bs::Matrix{Int64})",
      "    @ Base ./arraymath.jl:16",
      " [12] add_sum",
      "    @ ./reduce.jl:24 [inlined]",
      " [13] macro expansion",
      "    @ ./reduce.jl:260 [inlined]",
      " [14] macro expansion",
      "    @ ./simdloop.jl:77 [inlined]",
      " [15] mapreduce_impl(f::typeof(identity), op::typeof(Base.add_sum), A::Vector{Matrix{Int64}}, ifirst::Int64, ilast::Int64, blksize::Int64)",
      "    @ Base ./reduce.jl:258",
      " [16] mapreduce_impl(f::typeof(identity), op::typeof(Base.add_sum), A::Vector{Matrix{Int64}}, ifirst::Int64, ilast::Int64, blksize::Int64)",
      "    @ Base ./reduce.jl:267",
      " [17] mapreduce_impl(f::typeof(identity), op::typeof(Base.add_sum), A::Vector{Matrix{Int64}}, ifirst::Int64, ilast::Int64, blksize::Int64) (repeats 2 times)",
      "    @ Base ./reduce.jl:266",
      " [18] mapreduce_impl(f::typeof(identity), op::typeof(Base.add_sum), A::Vector{Matrix{Int64}}, ifirst::Int64, ilast::Int64, blksize::Int64) (repeats 2 times)",
      "    @ Base ./reduce.jl:267",
      " [19] mapreduce_impl",
      "    @ ./reduce.jl:272 [inlined]",
      " [20] _mapreduce(f::typeof(identity), op::typeof(Base.add_sum), #unused#::IndexLinear, A::Vector{Matrix{Int64}})",
      "    @ Base ./reduce.jl:442",
      " [21] _mapreduce_dim",
      "    @ ./reducedim.jl:365 [inlined]",
      " [22] #mapreduce#800",
      "    @ ./reducedim.jl:357 [inlined]",
      " [23] mapreduce",
      "    @ ./reducedim.jl:357 [inlined]",
      " [24] #_sum#810",
      "    @ ./reducedim.jl:999 [inlined]",
      " [25] _sum",
      "    @ ./reducedim.jl:999 [inlined]",
      " [26] #_sum#809",
      "    @ ./reducedim.jl:998 [inlined]",
      " [27] _sum",
      "    @ ./reducedim.jl:998 [inlined]",
      " [28] #sum#807",
      "    @ ./reducedim.jl:994 [inlined]",
      " [29] sum(a::Vector{Matrix{Int64}})",
      "    @ Base ./reducedim.jl:994",
      " [30] frequency_matrix(df::DataFrame)",
      "    @ wgregseq.footprints ~/git/1000_genes_ecoli/src/footprints.jl:190",
      " [31] expression_shifts(df::DataFrame)",
      "    @ Main ./In[7]:5"
     ]
    }
   ],
   "source": [
    "# initiate dataframes\n",
    "df_footprints = DataFrame()\n",
    "df_exshift = DataFrame()\n",
    "\n",
    "# date and source for dfs\n",
    "date = \"2023_09_07\"\n",
    "source = \"genome\"\n",
    "rep = \"1\"\n",
    "\n",
    "ind = collect(Iterators.product(collect(1:4), collect(-115:44))) |> vec\n",
    "\n",
    "# iterate through growth conditions\n",
    "for i in [1, 2, 3, 5, 6, 7, 10, 12, 13]\n",
    "    gc = gc_dict[i]\n",
    "    # import DNA\n",
    "    df_DNA = CSV.read(\n",
    "        \"../../../data/extracted_barcodes/20230907_barcode/D$(i)_collapsed.txt\", \n",
    "        DataFrame, \n",
    "        ignorerepeated=true, \n",
    "        delim=\" \", \n",
    "        header=[\"ct_0\", \"barcode\"]\n",
    "    )\n",
    "    # import RNA\n",
    "    df_RNA = CSV.read(\n",
    "        \"../../../data/extracted_barcodes/20230907_barcode/R$(i)_collapsed.txt\", \n",
    "        DataFrame, \n",
    "        ignorerepeated=true, \n",
    "        delim=\" \", \n",
    "        header=[\"ct_1\", \"barcode\"]\n",
    "    )\n",
    "    \n",
    "    # merge DNA and RNA reads\n",
    "    df = outerjoin(df_DNA, df_RNA, on=:barcode)\n",
    "    \n",
    "    # replace missing reads with 0\n",
    "    replace!(df.ct_0, missing => 0)\n",
    "    replace!(df.ct_1, missing => 0)\n",
    "    \n",
    "    # identify promoter sequences\n",
    "    df = innerjoin(df, df_map, on=:barcode)\n",
    "    \n",
    "    # compute total counts\n",
    "    insertcols!(df, 1, :ct => df.ct_0 .+ df.ct_1)\n",
    "    insertcols!(df, 1, :relative_counts => (df.ct_1 .+ 1) ./ (df.ct_0 .+ 1))\n",
    "    \n",
    "    # Turn sequences into integer\n",
    "    insertcols!(df, 3, :int_promoter => wgregseq.footprints.make_int.(df[:, :promoter]))\n",
    "    insertcols!(df, 3, :int_wt => wgregseq.footprints.make_int.(df[:, :wt_seq]));\n",
    "    for prom in unique(df.name)\n",
    "        wt_seq = df_wt[df_wt.promoter .== prom, :promoter_seq][1]\n",
    "        println(wt_seq)\n",
    "        ind_wt = collect(Iterators.product(collect(1:4), collect(wt_seq))) |> vec\n",
    "        # get mutual information\n",
    "        x = wgregseq.footprints.mutual_information_mutation(df[df.name .== prom, :])\n",
    "        # get expression shift\n",
    "        ex_shift = expression_shifts(df[df.name .== prom, :])\n",
    "        ex_shift ./= maximum(abs.(ex_shift))\n",
    "        # add mutual information to dataframe\n",
    "        append!(\n",
    "            df_footprints,\n",
    "            DataFrame(\n",
    "                date=date, \n",
    "                promoter=prom, \n",
    "                source=source, \n",
    "                footprint=x,\n",
    "                growth_condition=gc, \n",
    "                replicate=rep, \n",
    "                pos=collect(-115:44), \n",
    "                d=\"0\")\n",
    "        )\n",
    "\n",
    "        append!(\n",
    "            df_exshift,\n",
    "            DataFrame(\n",
    "                date=date, \n",
    "                promoter=prom, \n",
    "                source=source, \n",
    "                expression_shift=ex_shift' |> vec , \n",
    "                growth_condition=gc, \n",
    "                replicate=rep,\n",
    "                pos=[t[2] for t in ind],\n",
    "                base=[t[1] for t in ind],\n",
    "                wt_base=[t[2] for t in ind_wt]\n",
    "            )\n",
    "        )\n",
    "        for d in 1:2\n",
    "            append!(\n",
    "                df_footprints,\n",
    "                DataFrame(\n",
    "                    date=date, \n",
    "                    promoter=prom, \n",
    "                    source=source, \n",
    "                    footprint=[mean(x[i-d:i+d]) for i in 1+d:160-d], \n",
    "                    growth_condition=gc, \n",
    "                    replicate=rep, \n",
    "                    pos=collect(-115+d:44-d), \n",
    "                    d=\"$d\"\n",
    "                )\n",
    "            )\n",
    "        end\n",
    "    end\n",
    "end"
   ]
  },
  {
   "cell_type": "code",
   "execution_count": 37,
   "id": "2ca7bef0-e7be-4ea3-b36a-f3027c7c710b",
   "metadata": {},
   "outputs": [
    {
     "data": {
      "text/html": [
       "<div><div style = \"float: left;\"><span>477792×8 DataFrame</span></div><div style = \"float: right;\"><span style = \"font-style: italic;\">477767 rows omitted</span></div><div style = \"clear: both;\"></div></div><div class = \"data-frame\" style = \"overflow-x: scroll;\"><table class = \"data-frame\" style = \"margin-bottom: 6px;\"><thead><tr class = \"header\"><th class = \"rowNumber\" style = \"font-weight: bold; text-align: right;\">Row</th><th style = \"text-align: left;\">date</th><th style = \"text-align: left;\">promoter</th><th style = \"text-align: left;\">source</th><th style = \"text-align: left;\">mut_info</th><th style = \"text-align: left;\">growth_condition</th><th style = \"text-align: left;\">replicate</th><th style = \"text-align: left;\">pos</th><th style = \"text-align: left;\">d</th></tr><tr class = \"subheader headerLastRow\"><th class = \"rowNumber\" style = \"font-weight: bold; text-align: right;\"></th><th title = \"String\" style = \"text-align: left;\">String</th><th title = \"String\" style = \"text-align: left;\">String</th><th title = \"String\" style = \"text-align: left;\">String</th><th title = \"Float64\" style = \"text-align: left;\">Float64</th><th title = \"String\" style = \"text-align: left;\">String</th><th title = \"String\" style = \"text-align: left;\">String</th><th title = \"Int64\" style = \"text-align: left;\">Int64</th><th title = \"String\" style = \"text-align: left;\">String</th></tr></thead><tbody><tr><td class = \"rowNumber\" style = \"font-weight: bold; text-align: right;\">1</td><td style = \"text-align: left;\">2023_09_07</td><td style = \"text-align: left;\">TSS_1414_storz_regulondb</td><td style = \"text-align: left;\">genome</td><td style = \"text-align: right;\">0.00015366</td><td style = \"text-align: left;\">M9 + 0.5% Glucose</td><td style = \"text-align: left;\">1</td><td style = \"text-align: right;\">-115</td><td style = \"text-align: left;\">0</td></tr><tr><td class = \"rowNumber\" style = \"font-weight: bold; text-align: right;\">2</td><td style = \"text-align: left;\">2023_09_07</td><td style = \"text-align: left;\">TSS_1414_storz_regulondb</td><td style = \"text-align: left;\">genome</td><td style = \"text-align: right;\">0.000311656</td><td style = \"text-align: left;\">M9 + 0.5% Glucose</td><td style = \"text-align: left;\">1</td><td style = \"text-align: right;\">-114</td><td style = \"text-align: left;\">0</td></tr><tr><td class = \"rowNumber\" style = \"font-weight: bold; text-align: right;\">3</td><td style = \"text-align: left;\">2023_09_07</td><td style = \"text-align: left;\">TSS_1414_storz_regulondb</td><td style = \"text-align: left;\">genome</td><td style = \"text-align: right;\">0.000240944</td><td style = \"text-align: left;\">M9 + 0.5% Glucose</td><td style = \"text-align: left;\">1</td><td style = \"text-align: right;\">-113</td><td style = \"text-align: left;\">0</td></tr><tr><td class = \"rowNumber\" style = \"font-weight: bold; text-align: right;\">4</td><td style = \"text-align: left;\">2023_09_07</td><td style = \"text-align: left;\">TSS_1414_storz_regulondb</td><td style = \"text-align: left;\">genome</td><td style = \"text-align: right;\">1.37081e-5</td><td style = \"text-align: left;\">M9 + 0.5% Glucose</td><td style = \"text-align: left;\">1</td><td style = \"text-align: right;\">-112</td><td style = \"text-align: left;\">0</td></tr><tr><td class = \"rowNumber\" style = \"font-weight: bold; text-align: right;\">5</td><td style = \"text-align: left;\">2023_09_07</td><td style = \"text-align: left;\">TSS_1414_storz_regulondb</td><td style = \"text-align: left;\">genome</td><td style = \"text-align: right;\">1.37036e-6</td><td style = \"text-align: left;\">M9 + 0.5% Glucose</td><td style = \"text-align: left;\">1</td><td style = \"text-align: right;\">-111</td><td style = \"text-align: left;\">0</td></tr><tr><td class = \"rowNumber\" style = \"font-weight: bold; text-align: right;\">6</td><td style = \"text-align: left;\">2023_09_07</td><td style = \"text-align: left;\">TSS_1414_storz_regulondb</td><td style = \"text-align: left;\">genome</td><td style = \"text-align: right;\">0.000729594</td><td style = \"text-align: left;\">M9 + 0.5% Glucose</td><td style = \"text-align: left;\">1</td><td style = \"text-align: right;\">-110</td><td style = \"text-align: left;\">0</td></tr><tr><td class = \"rowNumber\" style = \"font-weight: bold; text-align: right;\">7</td><td style = \"text-align: left;\">2023_09_07</td><td style = \"text-align: left;\">TSS_1414_storz_regulondb</td><td style = \"text-align: left;\">genome</td><td style = \"text-align: right;\">5.42769e-8</td><td style = \"text-align: left;\">M9 + 0.5% Glucose</td><td style = \"text-align: left;\">1</td><td style = \"text-align: right;\">-109</td><td style = \"text-align: left;\">0</td></tr><tr><td class = \"rowNumber\" style = \"font-weight: bold; text-align: right;\">8</td><td style = \"text-align: left;\">2023_09_07</td><td style = \"text-align: left;\">TSS_1414_storz_regulondb</td><td style = \"text-align: left;\">genome</td><td style = \"text-align: right;\">0.000187899</td><td style = \"text-align: left;\">M9 + 0.5% Glucose</td><td style = \"text-align: left;\">1</td><td style = \"text-align: right;\">-108</td><td style = \"text-align: left;\">0</td></tr><tr><td class = \"rowNumber\" style = \"font-weight: bold; text-align: right;\">9</td><td style = \"text-align: left;\">2023_09_07</td><td style = \"text-align: left;\">TSS_1414_storz_regulondb</td><td style = \"text-align: left;\">genome</td><td style = \"text-align: right;\">0.000202271</td><td style = \"text-align: left;\">M9 + 0.5% Glucose</td><td style = \"text-align: left;\">1</td><td style = \"text-align: right;\">-107</td><td style = \"text-align: left;\">0</td></tr><tr><td class = \"rowNumber\" style = \"font-weight: bold; text-align: right;\">10</td><td style = \"text-align: left;\">2023_09_07</td><td style = \"text-align: left;\">TSS_1414_storz_regulondb</td><td style = \"text-align: left;\">genome</td><td style = \"text-align: right;\">3.84158e-5</td><td style = \"text-align: left;\">M9 + 0.5% Glucose</td><td style = \"text-align: left;\">1</td><td style = \"text-align: right;\">-106</td><td style = \"text-align: left;\">0</td></tr><tr><td class = \"rowNumber\" style = \"font-weight: bold; text-align: right;\">11</td><td style = \"text-align: left;\">2023_09_07</td><td style = \"text-align: left;\">TSS_1414_storz_regulondb</td><td style = \"text-align: left;\">genome</td><td style = \"text-align: right;\">0.000690424</td><td style = \"text-align: left;\">M9 + 0.5% Glucose</td><td style = \"text-align: left;\">1</td><td style = \"text-align: right;\">-105</td><td style = \"text-align: left;\">0</td></tr><tr><td class = \"rowNumber\" style = \"font-weight: bold; text-align: right;\">12</td><td style = \"text-align: left;\">2023_09_07</td><td style = \"text-align: left;\">TSS_1414_storz_regulondb</td><td style = \"text-align: left;\">genome</td><td style = \"text-align: right;\">0.000201744</td><td style = \"text-align: left;\">M9 + 0.5% Glucose</td><td style = \"text-align: left;\">1</td><td style = \"text-align: right;\">-104</td><td style = \"text-align: left;\">0</td></tr><tr><td class = \"rowNumber\" style = \"font-weight: bold; text-align: right;\">13</td><td style = \"text-align: left;\">2023_09_07</td><td style = \"text-align: left;\">TSS_1414_storz_regulondb</td><td style = \"text-align: left;\">genome</td><td style = \"text-align: right;\">6.17088e-7</td><td style = \"text-align: left;\">M9 + 0.5% Glucose</td><td style = \"text-align: left;\">1</td><td style = \"text-align: right;\">-103</td><td style = \"text-align: left;\">0</td></tr><tr><td style = \"text-align: right;\">&vellip;</td><td style = \"text-align: right;\">&vellip;</td><td style = \"text-align: right;\">&vellip;</td><td style = \"text-align: right;\">&vellip;</td><td style = \"text-align: right;\">&vellip;</td><td style = \"text-align: right;\">&vellip;</td><td style = \"text-align: right;\">&vellip;</td><td style = \"text-align: right;\">&vellip;</td><td style = \"text-align: right;\">&vellip;</td></tr><tr><td class = \"rowNumber\" style = \"font-weight: bold; text-align: right;\">477781</td><td style = \"text-align: left;\">2023_09_07</td><td style = \"text-align: left;\">znuCp</td><td style = \"text-align: left;\">genome</td><td style = \"text-align: right;\">0.000249782</td><td style = \"text-align: left;\">LB</td><td style = \"text-align: left;\">1</td><td style = \"text-align: right;\">31</td><td style = \"text-align: left;\">2</td></tr><tr><td class = \"rowNumber\" style = \"font-weight: bold; text-align: right;\">477782</td><td style = \"text-align: left;\">2023_09_07</td><td style = \"text-align: left;\">znuCp</td><td style = \"text-align: left;\">genome</td><td style = \"text-align: right;\">0.000233801</td><td style = \"text-align: left;\">LB</td><td style = \"text-align: left;\">1</td><td style = \"text-align: right;\">32</td><td style = \"text-align: left;\">2</td></tr><tr><td class = \"rowNumber\" style = \"font-weight: bold; text-align: right;\">477783</td><td style = \"text-align: left;\">2023_09_07</td><td style = \"text-align: left;\">znuCp</td><td style = \"text-align: left;\">genome</td><td style = \"text-align: right;\">0.000303624</td><td style = \"text-align: left;\">LB</td><td style = \"text-align: left;\">1</td><td style = \"text-align: right;\">33</td><td style = \"text-align: left;\">2</td></tr><tr><td class = \"rowNumber\" style = \"font-weight: bold; text-align: right;\">477784</td><td style = \"text-align: left;\">2023_09_07</td><td style = \"text-align: left;\">znuCp</td><td style = \"text-align: left;\">genome</td><td style = \"text-align: right;\">0.000339701</td><td style = \"text-align: left;\">LB</td><td style = \"text-align: left;\">1</td><td style = \"text-align: right;\">34</td><td style = \"text-align: left;\">2</td></tr><tr><td class = \"rowNumber\" style = \"font-weight: bold; text-align: right;\">477785</td><td style = \"text-align: left;\">2023_09_07</td><td style = \"text-align: left;\">znuCp</td><td style = \"text-align: left;\">genome</td><td style = \"text-align: right;\">0.000242591</td><td style = \"text-align: left;\">LB</td><td style = \"text-align: left;\">1</td><td style = \"text-align: right;\">35</td><td style = \"text-align: left;\">2</td></tr><tr><td class = \"rowNumber\" style = \"font-weight: bold; text-align: right;\">477786</td><td style = \"text-align: left;\">2023_09_07</td><td style = \"text-align: left;\">znuCp</td><td style = \"text-align: left;\">genome</td><td style = \"text-align: right;\">0.000174102</td><td style = \"text-align: left;\">LB</td><td style = \"text-align: left;\">1</td><td style = \"text-align: right;\">36</td><td style = \"text-align: left;\">2</td></tr><tr><td class = \"rowNumber\" style = \"font-weight: bold; text-align: right;\">477787</td><td style = \"text-align: left;\">2023_09_07</td><td style = \"text-align: left;\">znuCp</td><td style = \"text-align: left;\">genome</td><td style = \"text-align: right;\">0.000551449</td><td style = \"text-align: left;\">LB</td><td style = \"text-align: left;\">1</td><td style = \"text-align: right;\">37</td><td style = \"text-align: left;\">2</td></tr><tr><td class = \"rowNumber\" style = \"font-weight: bold; text-align: right;\">477788</td><td style = \"text-align: left;\">2023_09_07</td><td style = \"text-align: left;\">znuCp</td><td style = \"text-align: left;\">genome</td><td style = \"text-align: right;\">0.000488259</td><td style = \"text-align: left;\">LB</td><td style = \"text-align: left;\">1</td><td style = \"text-align: right;\">38</td><td style = \"text-align: left;\">2</td></tr><tr><td class = \"rowNumber\" style = \"font-weight: bold; text-align: right;\">477789</td><td style = \"text-align: left;\">2023_09_07</td><td style = \"text-align: left;\">znuCp</td><td style = \"text-align: left;\">genome</td><td style = \"text-align: right;\">0.000425941</td><td style = \"text-align: left;\">LB</td><td style = \"text-align: left;\">1</td><td style = \"text-align: right;\">39</td><td style = \"text-align: left;\">2</td></tr><tr><td class = \"rowNumber\" style = \"font-weight: bold; text-align: right;\">477790</td><td style = \"text-align: left;\">2023_09_07</td><td style = \"text-align: left;\">znuCp</td><td style = \"text-align: left;\">genome</td><td style = \"text-align: right;\">0.000482242</td><td style = \"text-align: left;\">LB</td><td style = \"text-align: left;\">1</td><td style = \"text-align: right;\">40</td><td style = \"text-align: left;\">2</td></tr><tr><td class = \"rowNumber\" style = \"font-weight: bold; text-align: right;\">477791</td><td style = \"text-align: left;\">2023_09_07</td><td style = \"text-align: left;\">znuCp</td><td style = \"text-align: left;\">genome</td><td style = \"text-align: right;\">0.000471604</td><td style = \"text-align: left;\">LB</td><td style = \"text-align: left;\">1</td><td style = \"text-align: right;\">41</td><td style = \"text-align: left;\">2</td></tr><tr><td class = \"rowNumber\" style = \"font-weight: bold; text-align: right;\">477792</td><td style = \"text-align: left;\">2023_09_07</td><td style = \"text-align: left;\">znuCp</td><td style = \"text-align: left;\">genome</td><td style = \"text-align: right;\">0.00025251</td><td style = \"text-align: left;\">LB</td><td style = \"text-align: left;\">1</td><td style = \"text-align: right;\">42</td><td style = \"text-align: left;\">2</td></tr></tbody></table></div>"
      ],
      "text/latex": [
       "\\begin{tabular}{r|ccccccc}\n",
       "\t& date & promoter & source & mut\\_info & growth\\_condition & replicate & \\\\\n",
       "\t\\hline\n",
       "\t& String & String & String & Float64 & String & String & \\\\\n",
       "\t\\hline\n",
       "\t1 & 2023\\_09\\_07 & TSS\\_1414\\_storz\\_regulondb & genome & 0.00015366 & M9 + 0.5\\% Glucose & 1 & $\\dots$ \\\\\n",
       "\t2 & 2023\\_09\\_07 & TSS\\_1414\\_storz\\_regulondb & genome & 0.000311656 & M9 + 0.5\\% Glucose & 1 & $\\dots$ \\\\\n",
       "\t3 & 2023\\_09\\_07 & TSS\\_1414\\_storz\\_regulondb & genome & 0.000240944 & M9 + 0.5\\% Glucose & 1 & $\\dots$ \\\\\n",
       "\t4 & 2023\\_09\\_07 & TSS\\_1414\\_storz\\_regulondb & genome & 1.37081e-5 & M9 + 0.5\\% Glucose & 1 & $\\dots$ \\\\\n",
       "\t5 & 2023\\_09\\_07 & TSS\\_1414\\_storz\\_regulondb & genome & 1.37036e-6 & M9 + 0.5\\% Glucose & 1 & $\\dots$ \\\\\n",
       "\t6 & 2023\\_09\\_07 & TSS\\_1414\\_storz\\_regulondb & genome & 0.000729594 & M9 + 0.5\\% Glucose & 1 & $\\dots$ \\\\\n",
       "\t7 & 2023\\_09\\_07 & TSS\\_1414\\_storz\\_regulondb & genome & 5.42769e-8 & M9 + 0.5\\% Glucose & 1 & $\\dots$ \\\\\n",
       "\t8 & 2023\\_09\\_07 & TSS\\_1414\\_storz\\_regulondb & genome & 0.000187899 & M9 + 0.5\\% Glucose & 1 & $\\dots$ \\\\\n",
       "\t9 & 2023\\_09\\_07 & TSS\\_1414\\_storz\\_regulondb & genome & 0.000202271 & M9 + 0.5\\% Glucose & 1 & $\\dots$ \\\\\n",
       "\t10 & 2023\\_09\\_07 & TSS\\_1414\\_storz\\_regulondb & genome & 3.84158e-5 & M9 + 0.5\\% Glucose & 1 & $\\dots$ \\\\\n",
       "\t11 & 2023\\_09\\_07 & TSS\\_1414\\_storz\\_regulondb & genome & 0.000690424 & M9 + 0.5\\% Glucose & 1 & $\\dots$ \\\\\n",
       "\t12 & 2023\\_09\\_07 & TSS\\_1414\\_storz\\_regulondb & genome & 0.000201744 & M9 + 0.5\\% Glucose & 1 & $\\dots$ \\\\\n",
       "\t13 & 2023\\_09\\_07 & TSS\\_1414\\_storz\\_regulondb & genome & 6.17088e-7 & M9 + 0.5\\% Glucose & 1 & $\\dots$ \\\\\n",
       "\t14 & 2023\\_09\\_07 & TSS\\_1414\\_storz\\_regulondb & genome & 6.77051e-5 & M9 + 0.5\\% Glucose & 1 & $\\dots$ \\\\\n",
       "\t15 & 2023\\_09\\_07 & TSS\\_1414\\_storz\\_regulondb & genome & 2.27409e-5 & M9 + 0.5\\% Glucose & 1 & $\\dots$ \\\\\n",
       "\t16 & 2023\\_09\\_07 & TSS\\_1414\\_storz\\_regulondb & genome & 0.000320349 & M9 + 0.5\\% Glucose & 1 & $\\dots$ \\\\\n",
       "\t17 & 2023\\_09\\_07 & TSS\\_1414\\_storz\\_regulondb & genome & 2.86912e-5 & M9 + 0.5\\% Glucose & 1 & $\\dots$ \\\\\n",
       "\t18 & 2023\\_09\\_07 & TSS\\_1414\\_storz\\_regulondb & genome & 3.95463e-6 & M9 + 0.5\\% Glucose & 1 & $\\dots$ \\\\\n",
       "\t19 & 2023\\_09\\_07 & TSS\\_1414\\_storz\\_regulondb & genome & 1.39873e-5 & M9 + 0.5\\% Glucose & 1 & $\\dots$ \\\\\n",
       "\t20 & 2023\\_09\\_07 & TSS\\_1414\\_storz\\_regulondb & genome & 3.33087e-6 & M9 + 0.5\\% Glucose & 1 & $\\dots$ \\\\\n",
       "\t21 & 2023\\_09\\_07 & TSS\\_1414\\_storz\\_regulondb & genome & 5.83963e-5 & M9 + 0.5\\% Glucose & 1 & $\\dots$ \\\\\n",
       "\t22 & 2023\\_09\\_07 & TSS\\_1414\\_storz\\_regulondb & genome & 8.339e-5 & M9 + 0.5\\% Glucose & 1 & $\\dots$ \\\\\n",
       "\t23 & 2023\\_09\\_07 & TSS\\_1414\\_storz\\_regulondb & genome & 1.76715e-5 & M9 + 0.5\\% Glucose & 1 & $\\dots$ \\\\\n",
       "\t24 & 2023\\_09\\_07 & TSS\\_1414\\_storz\\_regulondb & genome & 0.000215943 & M9 + 0.5\\% Glucose & 1 & $\\dots$ \\\\\n",
       "\t25 & 2023\\_09\\_07 & TSS\\_1414\\_storz\\_regulondb & genome & 3.2569e-5 & M9 + 0.5\\% Glucose & 1 & $\\dots$ \\\\\n",
       "\t26 & 2023\\_09\\_07 & TSS\\_1414\\_storz\\_regulondb & genome & 4.94731e-7 & M9 + 0.5\\% Glucose & 1 & $\\dots$ \\\\\n",
       "\t27 & 2023\\_09\\_07 & TSS\\_1414\\_storz\\_regulondb & genome & 7.68148e-5 & M9 + 0.5\\% Glucose & 1 & $\\dots$ \\\\\n",
       "\t28 & 2023\\_09\\_07 & TSS\\_1414\\_storz\\_regulondb & genome & 1.72509e-5 & M9 + 0.5\\% Glucose & 1 & $\\dots$ \\\\\n",
       "\t29 & 2023\\_09\\_07 & TSS\\_1414\\_storz\\_regulondb & genome & 0.000136565 & M9 + 0.5\\% Glucose & 1 & $\\dots$ \\\\\n",
       "\t30 & 2023\\_09\\_07 & TSS\\_1414\\_storz\\_regulondb & genome & 1.26147e-6 & M9 + 0.5\\% Glucose & 1 & $\\dots$ \\\\\n",
       "\t$\\dots$ & $\\dots$ & $\\dots$ & $\\dots$ & $\\dots$ & $\\dots$ & $\\dots$ &  \\\\\n",
       "\\end{tabular}\n"
      ],
      "text/plain": [
       "\u001b[1m477792×8 DataFrame\u001b[0m\n",
       "\u001b[1m    Row \u001b[0m│\u001b[1m date       \u001b[0m\u001b[1m promoter                 \u001b[0m\u001b[1m source \u001b[0m\u001b[1m mut_info    \u001b[0m\u001b[1m growth_co\u001b[0m ⋯\n",
       "        │\u001b[90m String     \u001b[0m\u001b[90m String                   \u001b[0m\u001b[90m String \u001b[0m\u001b[90m Float64     \u001b[0m\u001b[90m String   \u001b[0m ⋯\n",
       "────────┼───────────────────────────────────────────────────────────────────────\n",
       "      1 │ 2023_09_07  TSS_1414_storz_regulondb  genome  0.00015366   M9 + 0.5% ⋯\n",
       "      2 │ 2023_09_07  TSS_1414_storz_regulondb  genome  0.000311656  M9 + 0.5%\n",
       "      3 │ 2023_09_07  TSS_1414_storz_regulondb  genome  0.000240944  M9 + 0.5%\n",
       "      4 │ 2023_09_07  TSS_1414_storz_regulondb  genome  1.37081e-5   M9 + 0.5%\n",
       "      5 │ 2023_09_07  TSS_1414_storz_regulondb  genome  1.37036e-6   M9 + 0.5% ⋯\n",
       "      6 │ 2023_09_07  TSS_1414_storz_regulondb  genome  0.000729594  M9 + 0.5%\n",
       "      7 │ 2023_09_07  TSS_1414_storz_regulondb  genome  5.42769e-8   M9 + 0.5%\n",
       "      8 │ 2023_09_07  TSS_1414_storz_regulondb  genome  0.000187899  M9 + 0.5%\n",
       "      9 │ 2023_09_07  TSS_1414_storz_regulondb  genome  0.000202271  M9 + 0.5% ⋯\n",
       "     10 │ 2023_09_07  TSS_1414_storz_regulondb  genome  3.84158e-5   M9 + 0.5%\n",
       "     11 │ 2023_09_07  TSS_1414_storz_regulondb  genome  0.000690424  M9 + 0.5%\n",
       "   ⋮    │     ⋮                  ⋮                ⋮          ⋮               ⋮ ⋱\n",
       " 477783 │ 2023_09_07  znuCp                     genome  0.000303624  LB\n",
       " 477784 │ 2023_09_07  znuCp                     genome  0.000339701  LB        ⋯\n",
       " 477785 │ 2023_09_07  znuCp                     genome  0.000242591  LB\n",
       " 477786 │ 2023_09_07  znuCp                     genome  0.000174102  LB\n",
       " 477787 │ 2023_09_07  znuCp                     genome  0.000551449  LB\n",
       " 477788 │ 2023_09_07  znuCp                     genome  0.000488259  LB        ⋯\n",
       " 477789 │ 2023_09_07  znuCp                     genome  0.000425941  LB\n",
       " 477790 │ 2023_09_07  znuCp                     genome  0.000482242  LB\n",
       " 477791 │ 2023_09_07  znuCp                     genome  0.000471604  LB\n",
       " 477792 │ 2023_09_07  znuCp                     genome  0.00025251   LB        ⋯\n",
       "\u001b[36m                                               4 columns and 477771 rows omitted\u001b[0m"
      ]
     },
     "execution_count": 37,
     "metadata": {},
     "output_type": "execute_result"
    }
   ],
   "source": [
    "rename!(df_footprints, :footprint => :mut_info)"
   ]
  },
  {
   "cell_type": "code",
   "execution_count": 38,
   "id": "2328e031-146c-4869-bb51-852aeb580fdc",
   "metadata": {},
   "outputs": [
    {
     "data": {
      "text/html": [
       "<div><div style = \"float: left;\"><span>477792×10 DataFrame</span></div><div style = \"float: right;\"><span style = \"font-style: italic;\">477767 rows omitted</span></div><div style = \"clear: both;\"></div></div><div class = \"data-frame\" style = \"overflow-x: scroll;\"><table class = \"data-frame\" style = \"margin-bottom: 6px;\"><thead><tr class = \"header\"><th class = \"rowNumber\" style = \"font-weight: bold; text-align: right;\">Row</th><th style = \"text-align: left;\">date</th><th style = \"text-align: left;\">promoter</th><th style = \"text-align: left;\">source</th><th style = \"text-align: left;\">mut_info</th><th style = \"text-align: left;\">footprint_test</th><th style = \"text-align: left;\">footprint</th><th style = \"text-align: left;\">growth_condition</th><th style = \"text-align: left;\">replicate</th><th style = \"text-align: left;\">pos</th><th style = \"text-align: left;\">d</th></tr><tr class = \"subheader headerLastRow\"><th class = \"rowNumber\" style = \"font-weight: bold; text-align: right;\"></th><th title = \"String\" style = \"text-align: left;\">String</th><th title = \"String\" style = \"text-align: left;\">String</th><th title = \"String\" style = \"text-align: left;\">String</th><th title = \"Float64\" style = \"text-align: left;\">Float64</th><th title = \"Float64\" style = \"text-align: left;\">Float64</th><th title = \"Float64\" style = \"text-align: left;\">Float64</th><th title = \"String\" style = \"text-align: left;\">String</th><th title = \"String\" style = \"text-align: left;\">String</th><th title = \"Int64\" style = \"text-align: left;\">Int64</th><th title = \"String\" style = \"text-align: left;\">String</th></tr></thead><tbody><tr><td class = \"rowNumber\" style = \"font-weight: bold; text-align: right;\">1</td><td style = \"text-align: left;\">2023_09_07</td><td style = \"text-align: left;\">TSS_1414_storz_regulondb</td><td style = \"text-align: left;\">genome</td><td style = \"text-align: right;\">0.00015366</td><td style = \"text-align: right;\">0.0</td><td style = \"text-align: right;\">0.0</td><td style = \"text-align: left;\">M9 + 0.5% Glucose</td><td style = \"text-align: left;\">1</td><td style = \"text-align: right;\">-115</td><td style = \"text-align: left;\">0</td></tr><tr><td class = \"rowNumber\" style = \"font-weight: bold; text-align: right;\">2</td><td style = \"text-align: left;\">2023_09_07</td><td style = \"text-align: left;\">TSS_1414_storz_regulondb</td><td style = \"text-align: left;\">genome</td><td style = \"text-align: right;\">0.000311656</td><td style = \"text-align: right;\">0.0</td><td style = \"text-align: right;\">0.0</td><td style = \"text-align: left;\">M9 + 0.5% Glucose</td><td style = \"text-align: left;\">1</td><td style = \"text-align: right;\">-114</td><td style = \"text-align: left;\">0</td></tr><tr><td class = \"rowNumber\" style = \"font-weight: bold; text-align: right;\">3</td><td style = \"text-align: left;\">2023_09_07</td><td style = \"text-align: left;\">TSS_1414_storz_regulondb</td><td style = \"text-align: left;\">genome</td><td style = \"text-align: right;\">0.000240944</td><td style = \"text-align: right;\">0.0</td><td style = \"text-align: right;\">0.0</td><td style = \"text-align: left;\">M9 + 0.5% Glucose</td><td style = \"text-align: left;\">1</td><td style = \"text-align: right;\">-113</td><td style = \"text-align: left;\">0</td></tr><tr><td class = \"rowNumber\" style = \"font-weight: bold; text-align: right;\">4</td><td style = \"text-align: left;\">2023_09_07</td><td style = \"text-align: left;\">TSS_1414_storz_regulondb</td><td style = \"text-align: left;\">genome</td><td style = \"text-align: right;\">1.37081e-5</td><td style = \"text-align: right;\">0.0</td><td style = \"text-align: right;\">0.0</td><td style = \"text-align: left;\">M9 + 0.5% Glucose</td><td style = \"text-align: left;\">1</td><td style = \"text-align: right;\">-112</td><td style = \"text-align: left;\">0</td></tr><tr><td class = \"rowNumber\" style = \"font-weight: bold; text-align: right;\">5</td><td style = \"text-align: left;\">2023_09_07</td><td style = \"text-align: left;\">TSS_1414_storz_regulondb</td><td style = \"text-align: left;\">genome</td><td style = \"text-align: right;\">1.37036e-6</td><td style = \"text-align: right;\">0.0</td><td style = \"text-align: right;\">0.0</td><td style = \"text-align: left;\">M9 + 0.5% Glucose</td><td style = \"text-align: left;\">1</td><td style = \"text-align: right;\">-111</td><td style = \"text-align: left;\">0</td></tr><tr><td class = \"rowNumber\" style = \"font-weight: bold; text-align: right;\">6</td><td style = \"text-align: left;\">2023_09_07</td><td style = \"text-align: left;\">TSS_1414_storz_regulondb</td><td style = \"text-align: left;\">genome</td><td style = \"text-align: right;\">0.000729594</td><td style = \"text-align: right;\">0.0</td><td style = \"text-align: right;\">0.0</td><td style = \"text-align: left;\">M9 + 0.5% Glucose</td><td style = \"text-align: left;\">1</td><td style = \"text-align: right;\">-110</td><td style = \"text-align: left;\">0</td></tr><tr><td class = \"rowNumber\" style = \"font-weight: bold; text-align: right;\">7</td><td style = \"text-align: left;\">2023_09_07</td><td style = \"text-align: left;\">TSS_1414_storz_regulondb</td><td style = \"text-align: left;\">genome</td><td style = \"text-align: right;\">5.42769e-8</td><td style = \"text-align: right;\">0.0</td><td style = \"text-align: right;\">0.0</td><td style = \"text-align: left;\">M9 + 0.5% Glucose</td><td style = \"text-align: left;\">1</td><td style = \"text-align: right;\">-109</td><td style = \"text-align: left;\">0</td></tr><tr><td class = \"rowNumber\" style = \"font-weight: bold; text-align: right;\">8</td><td style = \"text-align: left;\">2023_09_07</td><td style = \"text-align: left;\">TSS_1414_storz_regulondb</td><td style = \"text-align: left;\">genome</td><td style = \"text-align: right;\">0.000187899</td><td style = \"text-align: right;\">0.0</td><td style = \"text-align: right;\">0.0</td><td style = \"text-align: left;\">M9 + 0.5% Glucose</td><td style = \"text-align: left;\">1</td><td style = \"text-align: right;\">-108</td><td style = \"text-align: left;\">0</td></tr><tr><td class = \"rowNumber\" style = \"font-weight: bold; text-align: right;\">9</td><td style = \"text-align: left;\">2023_09_07</td><td style = \"text-align: left;\">TSS_1414_storz_regulondb</td><td style = \"text-align: left;\">genome</td><td style = \"text-align: right;\">0.000202271</td><td style = \"text-align: right;\">0.0</td><td style = \"text-align: right;\">0.0</td><td style = \"text-align: left;\">M9 + 0.5% Glucose</td><td style = \"text-align: left;\">1</td><td style = \"text-align: right;\">-107</td><td style = \"text-align: left;\">0</td></tr><tr><td class = \"rowNumber\" style = \"font-weight: bold; text-align: right;\">10</td><td style = \"text-align: left;\">2023_09_07</td><td style = \"text-align: left;\">TSS_1414_storz_regulondb</td><td style = \"text-align: left;\">genome</td><td style = \"text-align: right;\">3.84158e-5</td><td style = \"text-align: right;\">0.0</td><td style = \"text-align: right;\">0.0</td><td style = \"text-align: left;\">M9 + 0.5% Glucose</td><td style = \"text-align: left;\">1</td><td style = \"text-align: right;\">-106</td><td style = \"text-align: left;\">0</td></tr><tr><td class = \"rowNumber\" style = \"font-weight: bold; text-align: right;\">11</td><td style = \"text-align: left;\">2023_09_07</td><td style = \"text-align: left;\">TSS_1414_storz_regulondb</td><td style = \"text-align: left;\">genome</td><td style = \"text-align: right;\">0.000690424</td><td style = \"text-align: right;\">0.0</td><td style = \"text-align: right;\">0.0</td><td style = \"text-align: left;\">M9 + 0.5% Glucose</td><td style = \"text-align: left;\">1</td><td style = \"text-align: right;\">-105</td><td style = \"text-align: left;\">0</td></tr><tr><td class = \"rowNumber\" style = \"font-weight: bold; text-align: right;\">12</td><td style = \"text-align: left;\">2023_09_07</td><td style = \"text-align: left;\">TSS_1414_storz_regulondb</td><td style = \"text-align: left;\">genome</td><td style = \"text-align: right;\">0.000201744</td><td style = \"text-align: right;\">0.0</td><td style = \"text-align: right;\">0.0</td><td style = \"text-align: left;\">M9 + 0.5% Glucose</td><td style = \"text-align: left;\">1</td><td style = \"text-align: right;\">-104</td><td style = \"text-align: left;\">0</td></tr><tr><td class = \"rowNumber\" style = \"font-weight: bold; text-align: right;\">13</td><td style = \"text-align: left;\">2023_09_07</td><td style = \"text-align: left;\">TSS_1414_storz_regulondb</td><td style = \"text-align: left;\">genome</td><td style = \"text-align: right;\">6.17088e-7</td><td style = \"text-align: right;\">0.0</td><td style = \"text-align: right;\">0.0</td><td style = \"text-align: left;\">M9 + 0.5% Glucose</td><td style = \"text-align: left;\">1</td><td style = \"text-align: right;\">-103</td><td style = \"text-align: left;\">0</td></tr><tr><td style = \"text-align: right;\">&vellip;</td><td style = \"text-align: right;\">&vellip;</td><td style = \"text-align: right;\">&vellip;</td><td style = \"text-align: right;\">&vellip;</td><td style = \"text-align: right;\">&vellip;</td><td style = \"text-align: right;\">&vellip;</td><td style = \"text-align: right;\">&vellip;</td><td style = \"text-align: right;\">&vellip;</td><td style = \"text-align: right;\">&vellip;</td><td style = \"text-align: right;\">&vellip;</td><td style = \"text-align: right;\">&vellip;</td></tr><tr><td class = \"rowNumber\" style = \"font-weight: bold; text-align: right;\">477781</td><td style = \"text-align: left;\">2023_09_07</td><td style = \"text-align: left;\">znuCp</td><td style = \"text-align: left;\">genome</td><td style = \"text-align: right;\">0.000249782</td><td style = \"text-align: right;\">0.0</td><td style = \"text-align: right;\">0.0</td><td style = \"text-align: left;\">LB</td><td style = \"text-align: left;\">1</td><td style = \"text-align: right;\">31</td><td style = \"text-align: left;\">2</td></tr><tr><td class = \"rowNumber\" style = \"font-weight: bold; text-align: right;\">477782</td><td style = \"text-align: left;\">2023_09_07</td><td style = \"text-align: left;\">znuCp</td><td style = \"text-align: left;\">genome</td><td style = \"text-align: right;\">0.000233801</td><td style = \"text-align: right;\">0.0</td><td style = \"text-align: right;\">0.0</td><td style = \"text-align: left;\">LB</td><td style = \"text-align: left;\">1</td><td style = \"text-align: right;\">32</td><td style = \"text-align: left;\">2</td></tr><tr><td class = \"rowNumber\" style = \"font-weight: bold; text-align: right;\">477783</td><td style = \"text-align: left;\">2023_09_07</td><td style = \"text-align: left;\">znuCp</td><td style = \"text-align: left;\">genome</td><td style = \"text-align: right;\">0.000303624</td><td style = \"text-align: right;\">0.0</td><td style = \"text-align: right;\">0.0</td><td style = \"text-align: left;\">LB</td><td style = \"text-align: left;\">1</td><td style = \"text-align: right;\">33</td><td style = \"text-align: left;\">2</td></tr><tr><td class = \"rowNumber\" style = \"font-weight: bold; text-align: right;\">477784</td><td style = \"text-align: left;\">2023_09_07</td><td style = \"text-align: left;\">znuCp</td><td style = \"text-align: left;\">genome</td><td style = \"text-align: right;\">0.000339701</td><td style = \"text-align: right;\">0.0</td><td style = \"text-align: right;\">0.0</td><td style = \"text-align: left;\">LB</td><td style = \"text-align: left;\">1</td><td style = \"text-align: right;\">34</td><td style = \"text-align: left;\">2</td></tr><tr><td class = \"rowNumber\" style = \"font-weight: bold; text-align: right;\">477785</td><td style = \"text-align: left;\">2023_09_07</td><td style = \"text-align: left;\">znuCp</td><td style = \"text-align: left;\">genome</td><td style = \"text-align: right;\">0.000242591</td><td style = \"text-align: right;\">0.0</td><td style = \"text-align: right;\">0.0</td><td style = \"text-align: left;\">LB</td><td style = \"text-align: left;\">1</td><td style = \"text-align: right;\">35</td><td style = \"text-align: left;\">2</td></tr><tr><td class = \"rowNumber\" style = \"font-weight: bold; text-align: right;\">477786</td><td style = \"text-align: left;\">2023_09_07</td><td style = \"text-align: left;\">znuCp</td><td style = \"text-align: left;\">genome</td><td style = \"text-align: right;\">0.000174102</td><td style = \"text-align: right;\">0.0</td><td style = \"text-align: right;\">0.0</td><td style = \"text-align: left;\">LB</td><td style = \"text-align: left;\">1</td><td style = \"text-align: right;\">36</td><td style = \"text-align: left;\">2</td></tr><tr><td class = \"rowNumber\" style = \"font-weight: bold; text-align: right;\">477787</td><td style = \"text-align: left;\">2023_09_07</td><td style = \"text-align: left;\">znuCp</td><td style = \"text-align: left;\">genome</td><td style = \"text-align: right;\">0.000551449</td><td style = \"text-align: right;\">0.0</td><td style = \"text-align: right;\">0.0</td><td style = \"text-align: left;\">LB</td><td style = \"text-align: left;\">1</td><td style = \"text-align: right;\">37</td><td style = \"text-align: left;\">2</td></tr><tr><td class = \"rowNumber\" style = \"font-weight: bold; text-align: right;\">477788</td><td style = \"text-align: left;\">2023_09_07</td><td style = \"text-align: left;\">znuCp</td><td style = \"text-align: left;\">genome</td><td style = \"text-align: right;\">0.000488259</td><td style = \"text-align: right;\">0.0</td><td style = \"text-align: right;\">0.0</td><td style = \"text-align: left;\">LB</td><td style = \"text-align: left;\">1</td><td style = \"text-align: right;\">38</td><td style = \"text-align: left;\">2</td></tr><tr><td class = \"rowNumber\" style = \"font-weight: bold; text-align: right;\">477789</td><td style = \"text-align: left;\">2023_09_07</td><td style = \"text-align: left;\">znuCp</td><td style = \"text-align: left;\">genome</td><td style = \"text-align: right;\">0.000425941</td><td style = \"text-align: right;\">0.0</td><td style = \"text-align: right;\">0.0</td><td style = \"text-align: left;\">LB</td><td style = \"text-align: left;\">1</td><td style = \"text-align: right;\">39</td><td style = \"text-align: left;\">2</td></tr><tr><td class = \"rowNumber\" style = \"font-weight: bold; text-align: right;\">477790</td><td style = \"text-align: left;\">2023_09_07</td><td style = \"text-align: left;\">znuCp</td><td style = \"text-align: left;\">genome</td><td style = \"text-align: right;\">0.000482242</td><td style = \"text-align: right;\">0.0</td><td style = \"text-align: right;\">0.0</td><td style = \"text-align: left;\">LB</td><td style = \"text-align: left;\">1</td><td style = \"text-align: right;\">40</td><td style = \"text-align: left;\">2</td></tr><tr><td class = \"rowNumber\" style = \"font-weight: bold; text-align: right;\">477791</td><td style = \"text-align: left;\">2023_09_07</td><td style = \"text-align: left;\">znuCp</td><td style = \"text-align: left;\">genome</td><td style = \"text-align: right;\">0.000471604</td><td style = \"text-align: right;\">0.0</td><td style = \"text-align: right;\">0.0</td><td style = \"text-align: left;\">LB</td><td style = \"text-align: left;\">1</td><td style = \"text-align: right;\">41</td><td style = \"text-align: left;\">2</td></tr><tr><td class = \"rowNumber\" style = \"font-weight: bold; text-align: right;\">477792</td><td style = \"text-align: left;\">2023_09_07</td><td style = \"text-align: left;\">znuCp</td><td style = \"text-align: left;\">genome</td><td style = \"text-align: right;\">0.00025251</td><td style = \"text-align: right;\">0.0</td><td style = \"text-align: right;\">0.0</td><td style = \"text-align: left;\">LB</td><td style = \"text-align: left;\">1</td><td style = \"text-align: right;\">42</td><td style = \"text-align: left;\">2</td></tr></tbody></table></div>"
      ],
      "text/latex": [
       "\\begin{tabular}{r|ccccccc}\n",
       "\t& date & promoter & source & mut\\_info & footprint\\_test & footprint & \\\\\n",
       "\t\\hline\n",
       "\t& String & String & String & Float64 & Float64 & Float64 & \\\\\n",
       "\t\\hline\n",
       "\t1 & 2023\\_09\\_07 & TSS\\_1414\\_storz\\_regulondb & genome & 0.00015366 & 0.0 & 0.0 & $\\dots$ \\\\\n",
       "\t2 & 2023\\_09\\_07 & TSS\\_1414\\_storz\\_regulondb & genome & 0.000311656 & 0.0 & 0.0 & $\\dots$ \\\\\n",
       "\t3 & 2023\\_09\\_07 & TSS\\_1414\\_storz\\_regulondb & genome & 0.000240944 & 0.0 & 0.0 & $\\dots$ \\\\\n",
       "\t4 & 2023\\_09\\_07 & TSS\\_1414\\_storz\\_regulondb & genome & 1.37081e-5 & 0.0 & 0.0 & $\\dots$ \\\\\n",
       "\t5 & 2023\\_09\\_07 & TSS\\_1414\\_storz\\_regulondb & genome & 1.37036e-6 & 0.0 & 0.0 & $\\dots$ \\\\\n",
       "\t6 & 2023\\_09\\_07 & TSS\\_1414\\_storz\\_regulondb & genome & 0.000729594 & 0.0 & 0.0 & $\\dots$ \\\\\n",
       "\t7 & 2023\\_09\\_07 & TSS\\_1414\\_storz\\_regulondb & genome & 5.42769e-8 & 0.0 & 0.0 & $\\dots$ \\\\\n",
       "\t8 & 2023\\_09\\_07 & TSS\\_1414\\_storz\\_regulondb & genome & 0.000187899 & 0.0 & 0.0 & $\\dots$ \\\\\n",
       "\t9 & 2023\\_09\\_07 & TSS\\_1414\\_storz\\_regulondb & genome & 0.000202271 & 0.0 & 0.0 & $\\dots$ \\\\\n",
       "\t10 & 2023\\_09\\_07 & TSS\\_1414\\_storz\\_regulondb & genome & 3.84158e-5 & 0.0 & 0.0 & $\\dots$ \\\\\n",
       "\t11 & 2023\\_09\\_07 & TSS\\_1414\\_storz\\_regulondb & genome & 0.000690424 & 0.0 & 0.0 & $\\dots$ \\\\\n",
       "\t12 & 2023\\_09\\_07 & TSS\\_1414\\_storz\\_regulondb & genome & 0.000201744 & 0.0 & 0.0 & $\\dots$ \\\\\n",
       "\t13 & 2023\\_09\\_07 & TSS\\_1414\\_storz\\_regulondb & genome & 6.17088e-7 & 0.0 & 0.0 & $\\dots$ \\\\\n",
       "\t14 & 2023\\_09\\_07 & TSS\\_1414\\_storz\\_regulondb & genome & 6.77051e-5 & 0.0 & 0.0 & $\\dots$ \\\\\n",
       "\t15 & 2023\\_09\\_07 & TSS\\_1414\\_storz\\_regulondb & genome & 2.27409e-5 & 0.0 & 0.0 & $\\dots$ \\\\\n",
       "\t16 & 2023\\_09\\_07 & TSS\\_1414\\_storz\\_regulondb & genome & 0.000320349 & 0.0 & 0.0 & $\\dots$ \\\\\n",
       "\t17 & 2023\\_09\\_07 & TSS\\_1414\\_storz\\_regulondb & genome & 2.86912e-5 & 0.0 & 0.0 & $\\dots$ \\\\\n",
       "\t18 & 2023\\_09\\_07 & TSS\\_1414\\_storz\\_regulondb & genome & 3.95463e-6 & 0.0 & 0.0 & $\\dots$ \\\\\n",
       "\t19 & 2023\\_09\\_07 & TSS\\_1414\\_storz\\_regulondb & genome & 1.39873e-5 & 0.0 & 0.0 & $\\dots$ \\\\\n",
       "\t20 & 2023\\_09\\_07 & TSS\\_1414\\_storz\\_regulondb & genome & 3.33087e-6 & 0.0 & 0.0 & $\\dots$ \\\\\n",
       "\t21 & 2023\\_09\\_07 & TSS\\_1414\\_storz\\_regulondb & genome & 5.83963e-5 & 0.0 & 0.0 & $\\dots$ \\\\\n",
       "\t22 & 2023\\_09\\_07 & TSS\\_1414\\_storz\\_regulondb & genome & 8.339e-5 & 0.0 & 0.0 & $\\dots$ \\\\\n",
       "\t23 & 2023\\_09\\_07 & TSS\\_1414\\_storz\\_regulondb & genome & 1.76715e-5 & 0.0 & 0.0 & $\\dots$ \\\\\n",
       "\t24 & 2023\\_09\\_07 & TSS\\_1414\\_storz\\_regulondb & genome & 0.000215943 & 0.0 & 0.0 & $\\dots$ \\\\\n",
       "\t25 & 2023\\_09\\_07 & TSS\\_1414\\_storz\\_regulondb & genome & 3.2569e-5 & 0.0 & 0.0 & $\\dots$ \\\\\n",
       "\t26 & 2023\\_09\\_07 & TSS\\_1414\\_storz\\_regulondb & genome & 4.94731e-7 & 0.0 & 0.0 & $\\dots$ \\\\\n",
       "\t27 & 2023\\_09\\_07 & TSS\\_1414\\_storz\\_regulondb & genome & 7.68148e-5 & 0.0 & 0.0 & $\\dots$ \\\\\n",
       "\t28 & 2023\\_09\\_07 & TSS\\_1414\\_storz\\_regulondb & genome & 1.72509e-5 & 0.0 & 0.0 & $\\dots$ \\\\\n",
       "\t29 & 2023\\_09\\_07 & TSS\\_1414\\_storz\\_regulondb & genome & 0.000136565 & 0.0 & 0.0 & $\\dots$ \\\\\n",
       "\t30 & 2023\\_09\\_07 & TSS\\_1414\\_storz\\_regulondb & genome & 1.26147e-6 & 0.0 & 0.0 & $\\dots$ \\\\\n",
       "\t$\\dots$ & $\\dots$ & $\\dots$ & $\\dots$ & $\\dots$ & $\\dots$ & $\\dots$ &  \\\\\n",
       "\\end{tabular}\n"
      ],
      "text/plain": [
       "\u001b[1m477792×10 DataFrame\u001b[0m\n",
       "\u001b[1m    Row \u001b[0m│\u001b[1m date       \u001b[0m\u001b[1m promoter                 \u001b[0m\u001b[1m source \u001b[0m\u001b[1m mut_info    \u001b[0m\u001b[1m footprint\u001b[0m ⋯\n",
       "        │\u001b[90m String     \u001b[0m\u001b[90m String                   \u001b[0m\u001b[90m String \u001b[0m\u001b[90m Float64     \u001b[0m\u001b[90m Float64  \u001b[0m ⋯\n",
       "────────┼───────────────────────────────────────────────────────────────────────\n",
       "      1 │ 2023_09_07  TSS_1414_storz_regulondb  genome  0.00015366             ⋯\n",
       "      2 │ 2023_09_07  TSS_1414_storz_regulondb  genome  0.000311656\n",
       "      3 │ 2023_09_07  TSS_1414_storz_regulondb  genome  0.000240944\n",
       "      4 │ 2023_09_07  TSS_1414_storz_regulondb  genome  1.37081e-5\n",
       "      5 │ 2023_09_07  TSS_1414_storz_regulondb  genome  1.37036e-6             ⋯\n",
       "      6 │ 2023_09_07  TSS_1414_storz_regulondb  genome  0.000729594\n",
       "      7 │ 2023_09_07  TSS_1414_storz_regulondb  genome  5.42769e-8\n",
       "      8 │ 2023_09_07  TSS_1414_storz_regulondb  genome  0.000187899\n",
       "      9 │ 2023_09_07  TSS_1414_storz_regulondb  genome  0.000202271            ⋯\n",
       "     10 │ 2023_09_07  TSS_1414_storz_regulondb  genome  3.84158e-5\n",
       "     11 │ 2023_09_07  TSS_1414_storz_regulondb  genome  0.000690424\n",
       "   ⋮    │     ⋮                  ⋮                ⋮          ⋮             ⋮   ⋱\n",
       " 477783 │ 2023_09_07  znuCp                     genome  0.000303624\n",
       " 477784 │ 2023_09_07  znuCp                     genome  0.000339701            ⋯\n",
       " 477785 │ 2023_09_07  znuCp                     genome  0.000242591\n",
       " 477786 │ 2023_09_07  znuCp                     genome  0.000174102\n",
       " 477787 │ 2023_09_07  znuCp                     genome  0.000551449\n",
       " 477788 │ 2023_09_07  znuCp                     genome  0.000488259            ⋯\n",
       " 477789 │ 2023_09_07  znuCp                     genome  0.000425941\n",
       " 477790 │ 2023_09_07  znuCp                     genome  0.000482242\n",
       " 477791 │ 2023_09_07  znuCp                     genome  0.000471604\n",
       " 477792 │ 2023_09_07  znuCp                     genome  0.00025251             ⋯\n",
       "\u001b[36m                                               6 columns and 477771 rows omitted\u001b[0m"
      ]
     },
     "execution_count": 38,
     "metadata": {},
     "output_type": "execute_result"
    }
   ],
   "source": [
    "insertcols!(df_footprints, 5, :footprint => zeros(nrow(df_footprints)))\n",
    "insertcols!(df_footprints, 5, :footprint_test => zeros(nrow(df_footprints)))"
   ]
  },
  {
   "cell_type": "code",
   "execution_count": 14,
   "id": "e6038d23-61ea-4327-9cde-6015a96a9d89",
   "metadata": {},
   "outputs": [
    {
     "data": {
      "text/html": [
       "<div><div style = \"float: left;\"><span>640×9 DataFrame</span></div><div style = \"float: right;\"><span style = \"font-style: italic;\">615 rows omitted</span></div><div style = \"clear: both;\"></div></div><div class = \"data-frame\" style = \"overflow-x: scroll;\"><table class = \"data-frame\" style = \"margin-bottom: 6px;\"><thead><tr class = \"header\"><th class = \"rowNumber\" style = \"font-weight: bold; text-align: right;\">Row</th><th style = \"text-align: left;\">date</th><th style = \"text-align: left;\">promoter</th><th style = \"text-align: left;\">source</th><th style = \"text-align: left;\">expression_shift</th><th style = \"text-align: left;\">growth_condition</th><th style = \"text-align: left;\">replicate</th><th style = \"text-align: left;\">pos</th><th style = \"text-align: left;\">base</th><th style = \"text-align: left;\">wt_base</th></tr><tr class = \"subheader headerLastRow\"><th class = \"rowNumber\" style = \"font-weight: bold; text-align: right;\"></th><th title = \"String\" style = \"text-align: left;\">String</th><th title = \"String\" style = \"text-align: left;\">String</th><th title = \"String\" style = \"text-align: left;\">String</th><th title = \"Float64\" style = \"text-align: left;\">Float64</th><th title = \"String\" style = \"text-align: left;\">String</th><th title = \"String\" style = \"text-align: left;\">String</th><th title = \"Int64\" style = \"text-align: left;\">Int64</th><th title = \"Int64\" style = \"text-align: left;\">Int64</th><th title = \"Char\" style = \"text-align: left;\">Char</th></tr></thead><tbody><tr><td class = \"rowNumber\" style = \"font-weight: bold; text-align: right;\">1</td><td style = \"text-align: left;\">2023_09_07</td><td style = \"text-align: left;\">araCp</td><td style = \"text-align: left;\">genome</td><td style = \"text-align: right;\">-0.0502675</td><td style = \"text-align: left;\">M9 + 0.5% Glucose</td><td style = \"text-align: left;\">1</td><td style = \"text-align: right;\">-115</td><td style = \"text-align: right;\">1</td><td style = \"text-align: left;\">G</td></tr><tr><td class = \"rowNumber\" style = \"font-weight: bold; text-align: right;\">2</td><td style = \"text-align: left;\">2023_09_07</td><td style = \"text-align: left;\">araCp</td><td style = \"text-align: left;\">genome</td><td style = \"text-align: right;\">0.278936</td><td style = \"text-align: left;\">M9 + 0.5% Glucose</td><td style = \"text-align: left;\">1</td><td style = \"text-align: right;\">-115</td><td style = \"text-align: right;\">2</td><td style = \"text-align: left;\">G</td></tr><tr><td class = \"rowNumber\" style = \"font-weight: bold; text-align: right;\">3</td><td style = \"text-align: left;\">2023_09_07</td><td style = \"text-align: left;\">araCp</td><td style = \"text-align: left;\">genome</td><td style = \"text-align: right;\">0.0</td><td style = \"text-align: left;\">M9 + 0.5% Glucose</td><td style = \"text-align: left;\">1</td><td style = \"text-align: right;\">-115</td><td style = \"text-align: right;\">3</td><td style = \"text-align: left;\">G</td></tr><tr><td class = \"rowNumber\" style = \"font-weight: bold; text-align: right;\">4</td><td style = \"text-align: left;\">2023_09_07</td><td style = \"text-align: left;\">araCp</td><td style = \"text-align: left;\">genome</td><td style = \"text-align: right;\">-0.04113</td><td style = \"text-align: left;\">M9 + 0.5% Glucose</td><td style = \"text-align: left;\">1</td><td style = \"text-align: right;\">-115</td><td style = \"text-align: right;\">4</td><td style = \"text-align: left;\">G</td></tr><tr><td class = \"rowNumber\" style = \"font-weight: bold; text-align: right;\">5</td><td style = \"text-align: left;\">2023_09_07</td><td style = \"text-align: left;\">araCp</td><td style = \"text-align: left;\">genome</td><td style = \"text-align: right;\">-0.0782516</td><td style = \"text-align: left;\">M9 + 0.5% Glucose</td><td style = \"text-align: left;\">1</td><td style = \"text-align: right;\">-114</td><td style = \"text-align: right;\">1</td><td style = \"text-align: left;\">T</td></tr><tr><td class = \"rowNumber\" style = \"font-weight: bold; text-align: right;\">6</td><td style = \"text-align: left;\">2023_09_07</td><td style = \"text-align: left;\">araCp</td><td style = \"text-align: left;\">genome</td><td style = \"text-align: right;\">-0.0421389</td><td style = \"text-align: left;\">M9 + 0.5% Glucose</td><td style = \"text-align: left;\">1</td><td style = \"text-align: right;\">-114</td><td style = \"text-align: right;\">2</td><td style = \"text-align: left;\">T</td></tr><tr><td class = \"rowNumber\" style = \"font-weight: bold; text-align: right;\">7</td><td style = \"text-align: left;\">2023_09_07</td><td style = \"text-align: left;\">araCp</td><td style = \"text-align: left;\">genome</td><td style = \"text-align: right;\">0.212821</td><td style = \"text-align: left;\">M9 + 0.5% Glucose</td><td style = \"text-align: left;\">1</td><td style = \"text-align: right;\">-114</td><td style = \"text-align: right;\">3</td><td style = \"text-align: left;\">T</td></tr><tr><td class = \"rowNumber\" style = \"font-weight: bold; text-align: right;\">8</td><td style = \"text-align: left;\">2023_09_07</td><td style = \"text-align: left;\">araCp</td><td style = \"text-align: left;\">genome</td><td style = \"text-align: right;\">0.0</td><td style = \"text-align: left;\">M9 + 0.5% Glucose</td><td style = \"text-align: left;\">1</td><td style = \"text-align: right;\">-114</td><td style = \"text-align: right;\">4</td><td style = \"text-align: left;\">T</td></tr><tr><td class = \"rowNumber\" style = \"font-weight: bold; text-align: right;\">9</td><td style = \"text-align: left;\">2023_09_07</td><td style = \"text-align: left;\">araCp</td><td style = \"text-align: left;\">genome</td><td style = \"text-align: right;\">0.0568218</td><td style = \"text-align: left;\">M9 + 0.5% Glucose</td><td style = \"text-align: left;\">1</td><td style = \"text-align: right;\">-113</td><td style = \"text-align: right;\">1</td><td style = \"text-align: left;\">C</td></tr><tr><td class = \"rowNumber\" style = \"font-weight: bold; text-align: right;\">10</td><td style = \"text-align: left;\">2023_09_07</td><td style = \"text-align: left;\">araCp</td><td style = \"text-align: left;\">genome</td><td style = \"text-align: right;\">0.0</td><td style = \"text-align: left;\">M9 + 0.5% Glucose</td><td style = \"text-align: left;\">1</td><td style = \"text-align: right;\">-113</td><td style = \"text-align: right;\">2</td><td style = \"text-align: left;\">C</td></tr><tr><td class = \"rowNumber\" style = \"font-weight: bold; text-align: right;\">11</td><td style = \"text-align: left;\">2023_09_07</td><td style = \"text-align: left;\">araCp</td><td style = \"text-align: left;\">genome</td><td style = \"text-align: right;\">0.0504061</td><td style = \"text-align: left;\">M9 + 0.5% Glucose</td><td style = \"text-align: left;\">1</td><td style = \"text-align: right;\">-113</td><td style = \"text-align: right;\">3</td><td style = \"text-align: left;\">C</td></tr><tr><td class = \"rowNumber\" style = \"font-weight: bold; text-align: right;\">12</td><td style = \"text-align: left;\">2023_09_07</td><td style = \"text-align: left;\">araCp</td><td style = \"text-align: left;\">genome</td><td style = \"text-align: right;\">-0.0911624</td><td style = \"text-align: left;\">M9 + 0.5% Glucose</td><td style = \"text-align: left;\">1</td><td style = \"text-align: right;\">-113</td><td style = \"text-align: right;\">4</td><td style = \"text-align: left;\">C</td></tr><tr><td class = \"rowNumber\" style = \"font-weight: bold; text-align: right;\">13</td><td style = \"text-align: left;\">2023_09_07</td><td style = \"text-align: left;\">araCp</td><td style = \"text-align: left;\">genome</td><td style = \"text-align: right;\">0.0</td><td style = \"text-align: left;\">M9 + 0.5% Glucose</td><td style = \"text-align: left;\">1</td><td style = \"text-align: right;\">-112</td><td style = \"text-align: right;\">1</td><td style = \"text-align: left;\">A</td></tr><tr><td style = \"text-align: right;\">&vellip;</td><td style = \"text-align: right;\">&vellip;</td><td style = \"text-align: right;\">&vellip;</td><td style = \"text-align: right;\">&vellip;</td><td style = \"text-align: right;\">&vellip;</td><td style = \"text-align: right;\">&vellip;</td><td style = \"text-align: right;\">&vellip;</td><td style = \"text-align: right;\">&vellip;</td><td style = \"text-align: right;\">&vellip;</td><td style = \"text-align: right;\">&vellip;</td></tr><tr><td class = \"rowNumber\" style = \"font-weight: bold; text-align: right;\">629</td><td style = \"text-align: left;\">2023_09_07</td><td style = \"text-align: left;\">araCp</td><td style = \"text-align: left;\">genome</td><td style = \"text-align: right;\">0.254006</td><td style = \"text-align: left;\">M9 + 0.5% Glucose</td><td style = \"text-align: left;\">1</td><td style = \"text-align: right;\">42</td><td style = \"text-align: right;\">1</td><td style = \"text-align: left;\">T</td></tr><tr><td class = \"rowNumber\" style = \"font-weight: bold; text-align: right;\">630</td><td style = \"text-align: left;\">2023_09_07</td><td style = \"text-align: left;\">araCp</td><td style = \"text-align: left;\">genome</td><td style = \"text-align: right;\">0.315618</td><td style = \"text-align: left;\">M9 + 0.5% Glucose</td><td style = \"text-align: left;\">1</td><td style = \"text-align: right;\">42</td><td style = \"text-align: right;\">2</td><td style = \"text-align: left;\">T</td></tr><tr><td class = \"rowNumber\" style = \"font-weight: bold; text-align: right;\">631</td><td style = \"text-align: left;\">2023_09_07</td><td style = \"text-align: left;\">araCp</td><td style = \"text-align: left;\">genome</td><td style = \"text-align: right;\">0.103063</td><td style = \"text-align: left;\">M9 + 0.5% Glucose</td><td style = \"text-align: left;\">1</td><td style = \"text-align: right;\">42</td><td style = \"text-align: right;\">3</td><td style = \"text-align: left;\">T</td></tr><tr><td class = \"rowNumber\" style = \"font-weight: bold; text-align: right;\">632</td><td style = \"text-align: left;\">2023_09_07</td><td style = \"text-align: left;\">araCp</td><td style = \"text-align: left;\">genome</td><td style = \"text-align: right;\">0.0</td><td style = \"text-align: left;\">M9 + 0.5% Glucose</td><td style = \"text-align: left;\">1</td><td style = \"text-align: right;\">42</td><td style = \"text-align: right;\">4</td><td style = \"text-align: left;\">T</td></tr><tr><td class = \"rowNumber\" style = \"font-weight: bold; text-align: right;\">633</td><td style = \"text-align: left;\">2023_09_07</td><td style = \"text-align: left;\">araCp</td><td style = \"text-align: left;\">genome</td><td style = \"text-align: right;\">0.0689705</td><td style = \"text-align: left;\">M9 + 0.5% Glucose</td><td style = \"text-align: left;\">1</td><td style = \"text-align: right;\">43</td><td style = \"text-align: right;\">1</td><td style = \"text-align: left;\">T</td></tr><tr><td class = \"rowNumber\" style = \"font-weight: bold; text-align: right;\">634</td><td style = \"text-align: left;\">2023_09_07</td><td style = \"text-align: left;\">araCp</td><td style = \"text-align: left;\">genome</td><td style = \"text-align: right;\">0.0311817</td><td style = \"text-align: left;\">M9 + 0.5% Glucose</td><td style = \"text-align: left;\">1</td><td style = \"text-align: right;\">43</td><td style = \"text-align: right;\">2</td><td style = \"text-align: left;\">T</td></tr><tr><td class = \"rowNumber\" style = \"font-weight: bold; text-align: right;\">635</td><td style = \"text-align: left;\">2023_09_07</td><td style = \"text-align: left;\">araCp</td><td style = \"text-align: left;\">genome</td><td style = \"text-align: right;\">0.123968</td><td style = \"text-align: left;\">M9 + 0.5% Glucose</td><td style = \"text-align: left;\">1</td><td style = \"text-align: right;\">43</td><td style = \"text-align: right;\">3</td><td style = \"text-align: left;\">T</td></tr><tr><td class = \"rowNumber\" style = \"font-weight: bold; text-align: right;\">636</td><td style = \"text-align: left;\">2023_09_07</td><td style = \"text-align: left;\">araCp</td><td style = \"text-align: left;\">genome</td><td style = \"text-align: right;\">0.0</td><td style = \"text-align: left;\">M9 + 0.5% Glucose</td><td style = \"text-align: left;\">1</td><td style = \"text-align: right;\">43</td><td style = \"text-align: right;\">4</td><td style = \"text-align: left;\">T</td></tr><tr><td class = \"rowNumber\" style = \"font-weight: bold; text-align: right;\">637</td><td style = \"text-align: left;\">2023_09_07</td><td style = \"text-align: left;\">araCp</td><td style = \"text-align: left;\">genome</td><td style = \"text-align: right;\">-0.096561</td><td style = \"text-align: left;\">M9 + 0.5% Glucose</td><td style = \"text-align: left;\">1</td><td style = \"text-align: right;\">44</td><td style = \"text-align: right;\">1</td><td style = \"text-align: left;\">T</td></tr><tr><td class = \"rowNumber\" style = \"font-weight: bold; text-align: right;\">638</td><td style = \"text-align: left;\">2023_09_07</td><td style = \"text-align: left;\">araCp</td><td style = \"text-align: left;\">genome</td><td style = \"text-align: right;\">-0.179234</td><td style = \"text-align: left;\">M9 + 0.5% Glucose</td><td style = \"text-align: left;\">1</td><td style = \"text-align: right;\">44</td><td style = \"text-align: right;\">2</td><td style = \"text-align: left;\">T</td></tr><tr><td class = \"rowNumber\" style = \"font-weight: bold; text-align: right;\">639</td><td style = \"text-align: left;\">2023_09_07</td><td style = \"text-align: left;\">araCp</td><td style = \"text-align: left;\">genome</td><td style = \"text-align: right;\">-0.121213</td><td style = \"text-align: left;\">M9 + 0.5% Glucose</td><td style = \"text-align: left;\">1</td><td style = \"text-align: right;\">44</td><td style = \"text-align: right;\">3</td><td style = \"text-align: left;\">T</td></tr><tr><td class = \"rowNumber\" style = \"font-weight: bold; text-align: right;\">640</td><td style = \"text-align: left;\">2023_09_07</td><td style = \"text-align: left;\">araCp</td><td style = \"text-align: left;\">genome</td><td style = \"text-align: right;\">0.0</td><td style = \"text-align: left;\">M9 + 0.5% Glucose</td><td style = \"text-align: left;\">1</td><td style = \"text-align: right;\">44</td><td style = \"text-align: right;\">4</td><td style = \"text-align: left;\">T</td></tr></tbody></table></div>"
      ],
      "text/latex": [
       "\\begin{tabular}{r|cccccccc}\n",
       "\t& date & promoter & source & expression\\_shift & growth\\_condition & replicate & pos & \\\\\n",
       "\t\\hline\n",
       "\t& String & String & String & Float64 & String & String & Int64 & \\\\\n",
       "\t\\hline\n",
       "\t1 & 2023\\_09\\_07 & araCp & genome & -0.0502675 & M9 + 0.5\\% Glucose & 1 & -115 & $\\dots$ \\\\\n",
       "\t2 & 2023\\_09\\_07 & araCp & genome & 0.278936 & M9 + 0.5\\% Glucose & 1 & -115 & $\\dots$ \\\\\n",
       "\t3 & 2023\\_09\\_07 & araCp & genome & 0.0 & M9 + 0.5\\% Glucose & 1 & -115 & $\\dots$ \\\\\n",
       "\t4 & 2023\\_09\\_07 & araCp & genome & -0.04113 & M9 + 0.5\\% Glucose & 1 & -115 & $\\dots$ \\\\\n",
       "\t5 & 2023\\_09\\_07 & araCp & genome & -0.0782516 & M9 + 0.5\\% Glucose & 1 & -114 & $\\dots$ \\\\\n",
       "\t6 & 2023\\_09\\_07 & araCp & genome & -0.0421389 & M9 + 0.5\\% Glucose & 1 & -114 & $\\dots$ \\\\\n",
       "\t7 & 2023\\_09\\_07 & araCp & genome & 0.212821 & M9 + 0.5\\% Glucose & 1 & -114 & $\\dots$ \\\\\n",
       "\t8 & 2023\\_09\\_07 & araCp & genome & 0.0 & M9 + 0.5\\% Glucose & 1 & -114 & $\\dots$ \\\\\n",
       "\t9 & 2023\\_09\\_07 & araCp & genome & 0.0568218 & M9 + 0.5\\% Glucose & 1 & -113 & $\\dots$ \\\\\n",
       "\t10 & 2023\\_09\\_07 & araCp & genome & 0.0 & M9 + 0.5\\% Glucose & 1 & -113 & $\\dots$ \\\\\n",
       "\t11 & 2023\\_09\\_07 & araCp & genome & 0.0504061 & M9 + 0.5\\% Glucose & 1 & -113 & $\\dots$ \\\\\n",
       "\t12 & 2023\\_09\\_07 & araCp & genome & -0.0911624 & M9 + 0.5\\% Glucose & 1 & -113 & $\\dots$ \\\\\n",
       "\t13 & 2023\\_09\\_07 & araCp & genome & 0.0 & M9 + 0.5\\% Glucose & 1 & -112 & $\\dots$ \\\\\n",
       "\t14 & 2023\\_09\\_07 & araCp & genome & -0.151979 & M9 + 0.5\\% Glucose & 1 & -112 & $\\dots$ \\\\\n",
       "\t15 & 2023\\_09\\_07 & araCp & genome & -0.0680367 & M9 + 0.5\\% Glucose & 1 & -112 & $\\dots$ \\\\\n",
       "\t16 & 2023\\_09\\_07 & araCp & genome & -0.0954474 & M9 + 0.5\\% Glucose & 1 & -112 & $\\dots$ \\\\\n",
       "\t17 & 2023\\_09\\_07 & araCp & genome & -0.0688959 & M9 + 0.5\\% Glucose & 1 & -111 & $\\dots$ \\\\\n",
       "\t18 & 2023\\_09\\_07 & araCp & genome & 0.105482 & M9 + 0.5\\% Glucose & 1 & -111 & $\\dots$ \\\\\n",
       "\t19 & 2023\\_09\\_07 & araCp & genome & 0.0 & M9 + 0.5\\% Glucose & 1 & -111 & $\\dots$ \\\\\n",
       "\t20 & 2023\\_09\\_07 & araCp & genome & 0.0263588 & M9 + 0.5\\% Glucose & 1 & -111 & $\\dots$ \\\\\n",
       "\t21 & 2023\\_09\\_07 & araCp & genome & 0.0396565 & M9 + 0.5\\% Glucose & 1 & -110 & $\\dots$ \\\\\n",
       "\t22 & 2023\\_09\\_07 & araCp & genome & -0.0828057 & M9 + 0.5\\% Glucose & 1 & -110 & $\\dots$ \\\\\n",
       "\t23 & 2023\\_09\\_07 & araCp & genome & 0.0 & M9 + 0.5\\% Glucose & 1 & -110 & $\\dots$ \\\\\n",
       "\t24 & 2023\\_09\\_07 & araCp & genome & -0.035191 & M9 + 0.5\\% Glucose & 1 & -110 & $\\dots$ \\\\\n",
       "\t25 & 2023\\_09\\_07 & araCp & genome & 0.0142198 & M9 + 0.5\\% Glucose & 1 & -109 & $\\dots$ \\\\\n",
       "\t26 & 2023\\_09\\_07 & araCp & genome & -0.141611 & M9 + 0.5\\% Glucose & 1 & -109 & $\\dots$ \\\\\n",
       "\t27 & 2023\\_09\\_07 & araCp & genome & 0.0995246 & M9 + 0.5\\% Glucose & 1 & -109 & $\\dots$ \\\\\n",
       "\t28 & 2023\\_09\\_07 & araCp & genome & 0.0 & M9 + 0.5\\% Glucose & 1 & -109 & $\\dots$ \\\\\n",
       "\t29 & 2023\\_09\\_07 & araCp & genome & 0.0 & M9 + 0.5\\% Glucose & 1 & -108 & $\\dots$ \\\\\n",
       "\t30 & 2023\\_09\\_07 & araCp & genome & 0.13641 & M9 + 0.5\\% Glucose & 1 & -108 & $\\dots$ \\\\\n",
       "\t$\\dots$ & $\\dots$ & $\\dots$ & $\\dots$ & $\\dots$ & $\\dots$ & $\\dots$ & $\\dots$ &  \\\\\n",
       "\\end{tabular}\n"
      ],
      "text/plain": [
       "\u001b[1m640×9 DataFrame\u001b[0m\n",
       "\u001b[1m Row \u001b[0m│\u001b[1m date       \u001b[0m\u001b[1m promoter \u001b[0m\u001b[1m source \u001b[0m\u001b[1m expression_shift \u001b[0m\u001b[1m growth_condition  \u001b[0m\u001b[1m repl\u001b[0m ⋯\n",
       "     │\u001b[90m String     \u001b[0m\u001b[90m String   \u001b[0m\u001b[90m String \u001b[0m\u001b[90m Float64          \u001b[0m\u001b[90m String            \u001b[0m\u001b[90m Stri\u001b[0m ⋯\n",
       "─────┼──────────────────────────────────────────────────────────────────────────\n",
       "   1 │ 2023_09_07  araCp     genome        -0.0502675  M9 + 0.5% Glucose  1    ⋯\n",
       "   2 │ 2023_09_07  araCp     genome         0.278936   M9 + 0.5% Glucose  1\n",
       "   3 │ 2023_09_07  araCp     genome         0.0        M9 + 0.5% Glucose  1\n",
       "   4 │ 2023_09_07  araCp     genome        -0.04113    M9 + 0.5% Glucose  1\n",
       "   5 │ 2023_09_07  araCp     genome        -0.0782516  M9 + 0.5% Glucose  1    ⋯\n",
       "   6 │ 2023_09_07  araCp     genome        -0.0421389  M9 + 0.5% Glucose  1\n",
       "   7 │ 2023_09_07  araCp     genome         0.212821   M9 + 0.5% Glucose  1\n",
       "   8 │ 2023_09_07  araCp     genome         0.0        M9 + 0.5% Glucose  1\n",
       "   9 │ 2023_09_07  araCp     genome         0.0568218  M9 + 0.5% Glucose  1    ⋯\n",
       "  10 │ 2023_09_07  araCp     genome         0.0        M9 + 0.5% Glucose  1\n",
       "  11 │ 2023_09_07  araCp     genome         0.0504061  M9 + 0.5% Glucose  1\n",
       "  ⋮  │     ⋮          ⋮        ⋮            ⋮                  ⋮               ⋱\n",
       " 631 │ 2023_09_07  araCp     genome         0.103063   M9 + 0.5% Glucose  1\n",
       " 632 │ 2023_09_07  araCp     genome         0.0        M9 + 0.5% Glucose  1    ⋯\n",
       " 633 │ 2023_09_07  araCp     genome         0.0689705  M9 + 0.5% Glucose  1\n",
       " 634 │ 2023_09_07  araCp     genome         0.0311817  M9 + 0.5% Glucose  1\n",
       " 635 │ 2023_09_07  araCp     genome         0.123968   M9 + 0.5% Glucose  1\n",
       " 636 │ 2023_09_07  araCp     genome         0.0        M9 + 0.5% Glucose  1    ⋯\n",
       " 637 │ 2023_09_07  araCp     genome        -0.096561   M9 + 0.5% Glucose  1\n",
       " 638 │ 2023_09_07  araCp     genome        -0.179234   M9 + 0.5% Glucose  1\n",
       " 639 │ 2023_09_07  araCp     genome        -0.121213   M9 + 0.5% Glucose  1\n",
       " 640 │ 2023_09_07  araCp     genome         0.0        M9 + 0.5% Glucose  1    ⋯\n",
       "\u001b[36m                                                  4 columns and 619 rows omitted\u001b[0m"
      ]
     },
     "execution_count": 14,
     "metadata": {},
     "output_type": "execute_result"
    }
   ],
   "source": [
    "df_exshift[df_exshift.promoter .== \"araCp\", :]"
   ]
  },
  {
   "cell_type": "code",
   "execution_count": 43,
   "id": "1245353d-a622-488a-b00f-9580866e1335",
   "metadata": {},
   "outputs": [
    {
     "data": {
      "text/plain": [
       "\"../../figures/interactive_footprints/20230907_exshifts.csv\""
      ]
     },
     "execution_count": 43,
     "metadata": {},
     "output_type": "execute_result"
    }
   ],
   "source": [
    "CSV.write(\"../../figures/interactive_footprints/20230907_footprints.csv\", df_footprints)\n",
    "CSV.write(\"../../figures/interactive_footprints/20230907_exshifts.csv\", df_exshift)"
   ]
  },
  {
   "attachments": {},
   "cell_type": "markdown",
   "id": "0cfd0fab-3b3b-48ae-9f45-dc8ba1e529c2",
   "metadata": {},
   "source": [
    "## Metadata"
   ]
  },
  {
   "cell_type": "code",
   "execution_count": 41,
   "id": "9f6787f2-5b79-435d-b563-e74655b45a51",
   "metadata": {},
   "outputs": [
    {
     "data": {
      "text/plain": [
       "\"AGCTTTTCATTCTGACTGCAACGGGCAATATGTCTCTGTGTGGATTAAAAAAAGAGTGTCTGATAGCAGCTTCTGAACTGGTTACCTGCCGTGAGTAAATTAAAATTTTATTGACTTAGGTCACTAAATACTTTAACCAATATAGGCATAGCGCACAGACAGATAAAAATTACAGAGTACACAACATCCATGAAACGCATTAGCACCACCATTACCACCACCATCACCATTACCACAGGTAACGGTGCGGGCTGACGCGTACAGGAAAC\" ⋯ 4641115 bytes ⋯ \"GATGGTCTATTGCTATCAATTAGCAACATTAATACAACAACCGGCGAAAAGTGATGCAACGGCAGACCAACATCAACTGCAAGCTTTACGCGAACGAGCCATGACATTGCTGACGACTCTGGCAGTGGCAGATGACATAAAACTGGTCGACTGGTTACAACAACGCCTGGGGCTTTTAGAGCAACGAGACACGGCAATGTTGCACCGTTTGCTGCATGATATTGAAAAAAATATCACCAAATAAAAAACGCCTTAGTAAGTATTTTTC\""
      ]
     },
     "execution_count": 41,
     "metadata": {},
     "output_type": "execute_result"
    }
   ],
   "source": [
    "df_twist = wgregseq.utils.import_twist_order(\"../../../data/twist_orders/2022-02-15_twist_order.csv\")\n",
    "unique(df_twist[!, [:genes, :promoter]])\n",
    "\n",
    "wt_seqs = df_twist[1:1501:end, :]\n",
    "\n",
    "# Import genome\n",
    "re = open(FASTA.Reader, \"../../../data/ecocyc/mg1655_genome.fasta\")\n",
    "wt_sequence = [sequence(record) for record in re][1]"
   ]
  },
  {
   "cell_type": "code",
   "execution_count": null,
   "id": "01868457-fbb0-4992-8fcc-fd77a757200b",
   "metadata": {},
   "outputs": [],
   "source": []
  },
  {
   "cell_type": "code",
   "execution_count": 44,
   "id": "ce6693f5-6a00-4d8f-9915-b8451d05a1f3",
   "metadata": {},
   "outputs": [
    {
     "data": {
      "text/plain": [
       "\"../../figures/interactive_footprints/20230907_footprints_meta.csv\""
      ]
     },
     "execution_count": 44,
     "metadata": {},
     "output_type": "execute_result"
    }
   ],
   "source": [
    "five_prime = []\n",
    "three_prime = []\n",
    "direction = []\n",
    "promoter = []\n",
    "genes = []\n",
    "promoter_seq = []\n",
    "for i in 1:119\n",
    "    fwd = findall(string(wt_seqs[i, :sequence][27:186]), string(wt_sequence))\n",
    "    rev = findall(reverse_complement(string(wt_seqs[i, :sequence][27:186])), string(wt_sequence))\n",
    "    if length(fwd) == 0 && length(rev) == 0\n",
    "        throw(ErrorException(\"Sequence not found for promoter $(wt_seqs[i, :promoter])!\"))\n",
    "    elseif length(fwd) > 0 && length(rev) > 0\n",
    "        throw(ErrorException(\"Sequence found on both strands for promoter $(wt_seqs[i, :promoter])!\"))\n",
    "    elseif length(fwd) > 0\n",
    "        push!(five_prime, fwd[1][1])\n",
    "        push!(three_prime, fwd[1][end])\n",
    "        push!(direction, '+')\n",
    "        push!(promoter, wt_seqs[i, :promoter])\n",
    "        push!(genes, join(wt_seqs[i, :genes], \", \"))\n",
    "        push!(promoter_seq, wt_seqs[i, :sequence][27:186])\n",
    "    else\n",
    "        push!(three_prime, rev[1][1])\n",
    "        push!(five_prime, rev[1][end])\n",
    "        push!(direction, '-')\n",
    "        push!(promoter, wt_seqs[i, :promoter])\n",
    "        push!(genes, join(wt_seqs[i, :genes], \", \"))\n",
    "        push!(promoter_seq, wt_seqs[i, :sequence][27:186])\n",
    "    end\n",
    "end\n",
    "\n",
    "df_meta = DataFrame(five_prime=five_prime, three_prime=three_prime, direction=direction, promoter=promoter, genes=genes, promoter_seq=promoter_seq)\n",
    "CSV.write(\"../../figures/interactive_footprints/20230907_footprints_meta.csv\", df_meta)"
   ]
  },
  {
   "cell_type": "code",
   "execution_count": null,
   "id": "15f71129-fced-4dc4-9cfd-0228f5d371d9",
   "metadata": {},
   "outputs": [],
   "source": []
  }
 ],
 "metadata": {
  "kernelspec": {
   "display_name": "Julia 1.9.1",
   "language": "julia",
   "name": "julia-1.9"
  },
  "language_info": {
   "file_extension": ".jl",
   "mimetype": "application/julia",
   "name": "julia",
   "version": "1.9.1"
  }
 },
 "nbformat": 4,
 "nbformat_minor": 5
}
