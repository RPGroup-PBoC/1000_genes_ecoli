{
 "cells": [
  {
   "cell_type": "code",
   "execution_count": 12,
   "id": "977b24e5-2793-4cdd-adc8-80a8f4adfb78",
   "metadata": {},
   "outputs": [],
   "source": [
    "using wgregseq, CSV, DataFrames, CairoMakie, SparseArrays\n",
    "\n",
    "wgregseq.plotting_style.default_makie!()"
   ]
  },
  {
   "cell_type": "code",
   "execution_count": 8,
   "id": "ac943385-57f7-45fd-b428-e149d4e963ba",
   "metadata": {},
   "outputs": [],
   "source": [
    "df_map = CSV.read(\n",
    "    \"../../../data/barcodes/20220514_mapping/mapped_barcodes.csv\", \n",
    "    DataFrame, \n",
    ");\n",
    "\n",
    "# Filter out unnannotad sequences\n",
    "df_map = df_map[df_map.name .!= \"*\", :]\n",
    "\n",
    "# Filter out non-unique barcodes\n",
    "gdf = groupby(df_map[(df_map.map_count .> 2), :], :barcode)\n",
    "_df = DataFrame()\n",
    "for df in gdf\n",
    "    if nrow(df) == 1\n",
    "        append!(_df, df)\n",
    "    end\n",
    "end\n",
    "df_map = copy(_df);\n",
    "\n",
    "# Get twist order to get wild type sequences\n",
    "df_seqs = wgregseq.utils.import_twist_order(\"../../../data/twist_orders/2022-02-15_twist_order.csv\")\n",
    "df_wt = df_seqs[1:1501:119*1501, :];\n",
    "insertcols!(df_wt, 4, :promoter_seq => [string(x[27:186]) for x in df_wt.sequence])\n",
    "\n",
    "df_wt.promoter_seq |> unique |> length\n",
    "df_map = leftjoin(df_map, rename(df_wt[!, [:promoter, :promoter_seq]], :promoter => :name), on=\"name\")\n",
    "rename!(df_map, :promoter_seq => :wt_seq);"
   ]
  },
  {
   "cell_type": "code",
   "execution_count": 9,
   "id": "c82dc50c-6f86-41e3-82c1-ee4f6ee5e025",
   "metadata": {},
   "outputs": [
    {
     "data": {
      "text/plain": [
       "get_dataset (generic function with 1 method)"
      ]
     },
     "execution_count": 9,
     "metadata": {},
     "output_type": "execute_result"
    }
   ],
   "source": [
    "function get_dataset(i)\n",
    "    df_DNA = CSV.read(\n",
    "        \"../../../data/extracted_barcodes/20230907_barcode/D$(i)_collapsed.txt\", \n",
    "        DataFrame, \n",
    "        ignorerepeated=true, \n",
    "        delim=\" \", \n",
    "        header=[\"ct_0\", \"barcode\"]\n",
    "    )\n",
    "    # import RNA\n",
    "    df_RNA = CSV.read(\n",
    "        \"../../../data/extracted_barcodes/20230907_barcode/R$(i)_collapsed.txt\", \n",
    "        DataFrame, \n",
    "        ignorerepeated=true, \n",
    "        delim=\" \", \n",
    "        header=[\"ct_1\", \"barcode\"]\n",
    "    )\n",
    "    \n",
    "    # merge DNA and RNA reads\n",
    "    df = outerjoin(df_DNA, df_RNA, on=:barcode)\n",
    "    \n",
    "    # replace missing reads with 0\n",
    "    replace!(df.ct_0, missing => 0)\n",
    "    replace!(df.ct_1, missing => 0)\n",
    "    \n",
    "    # identify promoter sequences\n",
    "    df = innerjoin(df, df_map, on=:barcode)\n",
    "    \n",
    "    # compute total counts\n",
    "    insertcols!(df, 1, :ct => df.ct_0 .+ df.ct_1)\n",
    "    insertcols!(df, 1, :relative_counts => (df.ct_1 .+ 1) ./ (df.ct_0 .+ 1))\n",
    "    \n",
    "    # Turn sequences into integer\n",
    "    insertcols!(df, 3, :int_promoter => wgregseq.footprints.make_int.(df[:, :promoter]))\n",
    "    insertcols!(df, 3, :int_wt => wgregseq.footprints.make_int.(df[:, :wt_seq]));\n",
    "    return df\n",
    "end"
   ]
  },
  {
   "cell_type": "code",
   "execution_count": 10,
   "id": "8179d758-4b07-4c8e-8cc9-2ca9d7db5a2b",
   "metadata": {},
   "outputs": [],
   "source": [
    "df = get_dataset(3);\n",
    "df = df[df.name .== \"araBp\", :];"
   ]
  },
  {
   "cell_type": "code",
   "execution_count": 14,
   "id": "92bf7616-558e-49d0-9b58-9481239ced38",
   "metadata": {},
   "outputs": [],
   "source": [
    "seq_vec_0 = vcat([fill(i, df.ct_0[i]) for i in 1:nrow(df)]...)\n",
    "mu0 = fill(0, length(seq_vec_0))\n",
    "\n",
    "seq_vec_1 = vcat([fill(i, df.ct_1[i]) for i in 1:nrow(df)]...)\n",
    "mu1 = fill(1, length(seq_vec_1))\n",
    "\n",
    "seq_vec = vcat(seq_vec_0, seq_vec_1)\n",
    "mu = vcat(mu0, mu1)\n",
    "mu = log10.((df.ct_1 .+ 1) ./ (df.ct_0 .+ 1))\n",
    "seq_mat = sparse(vcat([vcat(wgregseq.utils.onehot_encoder.(seq)'...)' for seq in df.promoter]...));"
   ]
  },
  {
   "cell_type": "code",
   "execution_count": 17,
   "id": "3167ca96-12c6-4c6d-9e16-ef807e382e75",
   "metadata": {},
   "outputs": [
    {
     "name": "stderr",
     "output_type": "stream",
     "text": [
      "\u001b[36m\u001b[1m[ \u001b[22m\u001b[39m\u001b[36m\u001b[1mInfo: \u001b[22m\u001b[39m started timer at: 2023-09-19T09:33:40.242\n"
     ]
    },
    {
     "name": "stdout",
     "output_type": "stream",
     "text": [
      "1000 of 20000 done.\n",
      "2         1         "
     ]
    },
    {
     "name": "stderr",
     "output_type": "stream",
     "text": [
      "\u001b[36m\u001b[1m[ \u001b[22m\u001b[39m\u001b[36m\u001b[1mInfo: \u001b[22m\u001b[39m         5.735163291s: 5 seconds, 735 milliseconds\n",
      "\u001b[36m\u001b[1m[ \u001b[22m\u001b[39m\u001b[36m\u001b[1mInfo: \u001b[22m\u001b[39m        65.698656375s: 1 minute, 5 seconds, 698 milliseconds\n"
     ]
    },
    {
     "name": "stdout",
     "output_type": "stream",
     "text": [
      "2000 of 20000 done.\n",
      "2         1         "
     ]
    },
    {
     "name": "stderr",
     "output_type": "stream",
     "text": [
      "\u001b[36m\u001b[1m[ \u001b[22m\u001b[39m\u001b[36m\u001b[1mInfo: \u001b[22m\u001b[39m        11.403397083s: 11 seconds, 403 milliseconds\n",
      "\u001b[36m\u001b[1m[ \u001b[22m\u001b[39m\u001b[36m\u001b[1mInfo: \u001b[22m\u001b[39m        71.366890167s: 1 minute, 11 seconds, 366 milliseconds\n"
     ]
    },
    {
     "name": "stdout",
     "output_type": "stream",
     "text": [
      "3000 of 20000 done.\n",
      "2         1         "
     ]
    },
    {
     "name": "stderr",
     "output_type": "stream",
     "text": [
      "\u001b[36m\u001b[1m[ \u001b[22m\u001b[39m\u001b[36m\u001b[1mInfo: \u001b[22m\u001b[39m        16.871826958s: 16 seconds, 871 milliseconds\n",
      "\u001b[36m\u001b[1m[ \u001b[22m\u001b[39m\u001b[36m\u001b[1mInfo: \u001b[22m\u001b[39m        76.835320042s: 1 minute, 16 seconds, 835 milliseconds\n"
     ]
    },
    {
     "name": "stdout",
     "output_type": "stream",
     "text": [
      "4000 of 20000 done.\n",
      "2         1         "
     ]
    },
    {
     "name": "stderr",
     "output_type": "stream",
     "text": [
      "\u001b[36m\u001b[1m[ \u001b[22m\u001b[39m\u001b[36m\u001b[1mInfo: \u001b[22m\u001b[39m        22.331657041s: 22 seconds, 331 milliseconds\n",
      "\u001b[36m\u001b[1m[ \u001b[22m\u001b[39m\u001b[36m\u001b[1mInfo: \u001b[22m\u001b[39m        82.295150125s: 1 minute, 22 seconds, 295 milliseconds\n"
     ]
    },
    {
     "ename": "LoadError",
     "evalue": "InterruptException:",
     "output_type": "error",
     "traceback": [
      "InterruptException:",
      "",
      "Stacktrace:",
      "  [1] Array",
      "    @ ./boot.jl:477 [inlined]",
      "  [2] Array",
      "    @ ./boot.jl:486 [inlined]",
      "  [3] similar",
      "    @ ./abstractarray.jl:882 [inlined]",
      "  [4] similar",
      "    @ ./abstractarray.jl:881 [inlined]",
      "  [5] _array_for",
      "    @ ./array.jl:671 [inlined]",
      "  [6] _array_for",
      "    @ ./array.jl:674 [inlined]",
      "  [7] vect",
      "    @ ./array.jl:126 [inlined]",
      "  [8] default_bandwidth(data::Vector{Float64}, alpha::Float64)",
      "    @ KernelDensity ~/.julia/packages/KernelDensity/bNBAQ/src/univariate.jl:39",
      "  [9] default_bandwidth",
      "    @ ~/.julia/packages/KernelDensity/bNBAQ/src/univariate.jl:34 [inlined]",
      " [10] default_bandwidth",
      "    @ ~/.julia/packages/KernelDensity/bNBAQ/src/bivariate.jl:42 [inlined]",
      " [11] density(seq_mat::SparseMatrixCSC{Int64, Int64}, mu::Vector{Float64}, θ::Matrix{Float64})",
      "    @ wgregseq.footprints ~/git/1000_genes_ecoli/src/footprints.jl:345",
      " [12] ℓπ(model::wgregseq.footprints.DensityModel{typeof(wgregseq.footprints.density)}, T::wgregseq.footprints.Transition{Matrix{Float64}, Float64})",
      "    @ wgregseq.footprints ~/git/1000_genes_ecoli/src/footprints.jl:334",
      " [13] step(rng::Random.TaskLocalRNG, model::wgregseq.footprints.DensityModel{typeof(wgregseq.footprints.density)}, spl::wgregseq.footprints.MetropolisHastings{Matrix{Float64}, Distributions.MatrixReshaped{Distributions.Continuous, Distributions.IsoNormal}, Float64}, θ_prev_T::wgregseq.footprints.Transition{Matrix{Float64}, Float64}; kwargs::Base.Pairs{Symbol, Union{}, Tuple{}, NamedTuple{(), Tuple{}}})",
      "    @ wgregseq.footprints ~/git/1000_genes_ecoli/src/footprints.jl:309",
      " [14] step(rng::Random.TaskLocalRNG, model::wgregseq.footprints.DensityModel{typeof(wgregseq.footprints.density)}, spl::wgregseq.footprints.MetropolisHastings{Matrix{Float64}, Distributions.MatrixReshaped{Distributions.Continuous, Distributions.IsoNormal}, Float64}, θ_prev_T::wgregseq.footprints.Transition{Matrix{Float64}, Float64})",
      "    @ wgregseq.footprints ~/git/1000_genes_ecoli/src/footprints.jl:298",
      " [15] sample(model::wgregseq.footprints.DensityModel{typeof(wgregseq.footprints.density)}, sampler::wgregseq.footprints.MetropolisHastings{Matrix{Float64}, Distributions.MatrixReshaped{Distributions.Continuous, Distributions.IsoNormal}, Float64}, nsamples::Int64, seq_mat::SparseMatrixCSC{Int64, Int64}, rng::Random.TaskLocalRNG, adapt_steps::Int64; kwargs::Base.Pairs{Symbol, Union{}, Tuple{}, NamedTuple{(), Tuple{}}})",
      "    @ wgregseq.footprints ~/git/1000_genes_ecoli/src/footprints.jl:444",
      " [16] sample(model::wgregseq.footprints.DensityModel{typeof(wgregseq.footprints.density)}, sampler::wgregseq.footprints.MetropolisHastings{Matrix{Float64}, Distributions.MatrixReshaped{Distributions.Continuous, Distributions.IsoNormal}, Float64}, nsamples::Int64, seq_mat::SparseMatrixCSC{Int64, Int64}, rng::Random.TaskLocalRNG, adapt_steps::Int64)",
      "    @ wgregseq.footprints ~/git/1000_genes_ecoli/src/footprints.jl:423",
      " [17] sample(model::wgregseq.footprints.DensityModel{typeof(wgregseq.footprints.density)}, sampler::wgregseq.footprints.MetropolisHastings{Matrix{Float64}, Distributions.MatrixReshaped{Distributions.Continuous, Distributions.IsoNormal}, Float64}, nsamples::Int64, seq_mat::SparseMatrixCSC{Int64, Int64}, rng::Random.TaskLocalRNG)",
      "    @ wgregseq.footprints ~/git/1000_genes_ecoli/src/footprints.jl:423",
      " [18] sample(model::wgregseq.footprints.DensityModel{typeof(wgregseq.footprints.density)}, sampler::wgregseq.footprints.MetropolisHastings{Matrix{Float64}, Distributions.MatrixReshaped{Distributions.Continuous, Distributions.IsoNormal}, Float64}, nsamples::Int64, seq_mat::SparseMatrixCSC{Int64, Int64})",
      "    @ wgregseq.footprints ~/git/1000_genes_ecoli/src/footprints.jl:423",
      " [19] run_mcmc(seq_mat::SparseMatrixCSC{Int64, Int64}, mu::Vector{Float64}; warmup_steps::Int64, iter_steps::Int64, density::Function)",
      "    @ wgregseq.footprints ~/git/1000_genes_ecoli/src/footprints.jl:490"
     ]
    }
   ],
   "source": [
    "wgregseq.footprints.run_mcmc(seq_mat, mu, warmup_steps=10000, iter_steps=10000)"
   ]
  },
  {
   "cell_type": "code",
   "execution_count": null,
   "id": "32efe560-303e-4a95-ac7b-080aedd061c4",
   "metadata": {},
   "outputs": [],
   "source": []
  }
 ],
 "metadata": {
  "kernelspec": {
   "display_name": "Julia 1.9.1",
   "language": "julia",
   "name": "julia-1.9"
  },
  "language_info": {
   "file_extension": ".jl",
   "mimetype": "application/julia",
   "name": "julia",
   "version": "1.9.1"
  }
 },
 "nbformat": 4,
 "nbformat_minor": 5
}
