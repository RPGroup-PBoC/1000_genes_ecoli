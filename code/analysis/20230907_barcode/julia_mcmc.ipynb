{
 "cells": [
  {
   "cell_type": "markdown",
   "metadata": {},
   "source": [
    "# MCMC model using Julia"
   ]
  },
  {
   "cell_type": "code",
   "execution_count": 1,
   "metadata": {},
   "outputs": [],
   "source": [
    "# Import the relevant libraries.\n",
    "import AbstractMCMC\n",
    "import StatsBase\n",
    "using Distributions\n",
    "using Random\n",
    "using LinearAlgebra\n",
    "import MCMCChains\n",
    "using DataFrames, CSV\n",
    "using wgregseq\n",
    "using Revise\n",
    "using KernelDensity\n",
    "using CairoMakie\n",
    "using SparseArrays\n",
    "using TickTock\n",
    "\n",
    "#CairoMakie.activate!()\n",
    "\n",
    "#wgregseq.plotting_style.default_makie!()"
   ]
  },
  {
   "cell_type": "markdown",
   "metadata": {},
   "source": [
    "## Import data"
   ]
  },
  {
   "cell_type": "code",
   "execution_count": 2,
   "metadata": {},
   "outputs": [],
   "source": [
    "df_map = CSV.read(\n",
    "    \"../../../data/barcodes/20220514_mapping/mapped_barcodes.csv\", \n",
    "    DataFrame, \n",
    ");\n",
    "\n",
    "# Filter out unnannotad sequences\n",
    "df_map = df_map[df_map.name .!= \"*\", :]\n",
    "\n",
    "# Filter out non-unique barcodes\n",
    "gdf = groupby(df_map[(df_map.map_count .> 2), :], :barcode)\n",
    "_df = DataFrame()\n",
    "for df in gdf\n",
    "    if nrow(df) == 1\n",
    "        append!(_df, df)\n",
    "    end\n",
    "end\n",
    "df_map = copy(_df);\n",
    "\n",
    "# Get twist order to get wild type sequences\n",
    "df_seqs = wgregseq.utils.import_twist_order(\"../../../data/twist_orders/2022-02-15_twist_order.csv\")\n",
    "df_wt = df_seqs[1:1501:119*1501, :];\n",
    "insertcols!(df_wt, 4, :promoter_seq => [string(x[27:186]) for x in df_wt.sequence])\n",
    "\n",
    "df_wt.promoter_seq |> unique |> length\n",
    "df_map = leftjoin(df_map, rename(df_wt[!, [:promoter, :promoter_seq]], :promoter => :name), on=\"name\")\n",
    "rename!(df_map, :promoter_seq => :wt_seq);"
   ]
  },
  {
   "cell_type": "code",
   "execution_count": 3,
   "metadata": {},
   "outputs": [
    {
     "data": {
      "text/plain": [
       "get_dataset (generic function with 1 method)"
      ]
     },
     "execution_count": 3,
     "metadata": {},
     "output_type": "execute_result"
    }
   ],
   "source": [
    "function get_dataset(i)\n",
    "    df_DNA = CSV.read(\n",
    "        \"../../../data/extracted_barcodes/20230907_barcode/D$(i)_collapsed.txt\", \n",
    "        DataFrame, \n",
    "        ignorerepeated=true, \n",
    "        delim=\" \", \n",
    "        header=[\"ct_0\", \"barcode\"]\n",
    "    )\n",
    "    # import RNA\n",
    "    df_RNA = CSV.read(\n",
    "        \"../../../data/extracted_barcodes/20230907_barcode/R$(i)_collapsed.txt\", \n",
    "        DataFrame, \n",
    "        ignorerepeated=true, \n",
    "        delim=\" \", \n",
    "        header=[\"ct_1\", \"barcode\"]\n",
    "    )\n",
    "    \n",
    "    # merge DNA and RNA reads\n",
    "    df = outerjoin(df_DNA, df_RNA, on=:barcode)\n",
    "    \n",
    "    # replace missing reads with 0\n",
    "    replace!(df.ct_0, missing => 0)\n",
    "    replace!(df.ct_1, missing => 0)\n",
    "    \n",
    "    # identify promoter sequences\n",
    "    df = innerjoin(df, df_map, on=:barcode)\n",
    "    \n",
    "    # compute total counts\n",
    "    insertcols!(df, 1, :ct => df.ct_0 .+ df.ct_1)\n",
    "    insertcols!(df, 1, :relative_counts => (df.ct_1 .+ 1) ./ (df.ct_0 .+ 1))\n",
    "    \n",
    "    # Turn sequences into integer\n",
    "    insertcols!(df, 3, :int_promoter => wgregseq.footprints.make_int.(df[:, :promoter]))\n",
    "    insertcols!(df, 3, :int_wt => wgregseq.footprints.make_int.(df[:, :wt_seq]));\n",
    "    return df\n",
    "end"
   ]
  },
  {
   "cell_type": "code",
   "execution_count": 94,
   "metadata": {},
   "outputs": [],
   "source": [
    "df = get_dataset(3);\n",
    "df = df[df.name .== \"araBp\", :];"
   ]
  },
  {
   "cell_type": "code",
   "execution_count": 95,
   "metadata": {},
   "outputs": [],
   "source": [
    "seq_vec_0 = vcat([fill(i, df.ct_0[i]) for i in 1:nrow(df)]...)\n",
    "mu0 = fill(0, length(seq_vec_0))\n",
    "\n",
    "seq_vec_1 = vcat([fill(i, df.ct_1[i]) for i in 1:nrow(df)]...)\n",
    "mu1 = fill(1, length(seq_vec_1))\n",
    "\n",
    "seq_vec = vcat(seq_vec_0, seq_vec_1)\n",
    "mu = vcat(mu0, mu1)\n",
    "mu = log10.((df.ct_1 .+ 1) ./ (df.ct_0 .+ 1))\n",
    "seq_mat = sparse(vcat([vcat(wgregseq.utils.onehot_encoder.(seq)'...)' for seq in df.promoter]...));"
   ]
  },
  {
   "cell_type": "code",
   "execution_count": 96,
   "metadata": {},
   "outputs": [
    {
     "data": {
      "text/plain": [
       "MetropolisHastings"
      ]
     },
     "execution_count": 96,
     "metadata": {},
     "output_type": "execute_result"
    }
   ],
   "source": [
    "# Define a sampler type.\n",
    "mutable struct MetropolisHastings{T, D, C} <: AbstractMCMC.AbstractSampler \n",
    "    init_θ::T\n",
    "    proposal::D\n",
    "    sigma::C\n",
    "end\n",
    "\n",
    "# Default constructors.\n",
    "MetropolisHastings(init_θ::Matrix{<:Real}) = MetropolisHastings(init_θ, reshape(MvNormal(zero(vec(init_θ)), I), 4, 160), 1.)"
   ]
  },
  {
   "cell_type": "code",
   "execution_count": 97,
   "metadata": {},
   "outputs": [
    {
     "data": {
      "text/plain": [
       "MetropolisHastings{Matrix{Float64}, MatrixReshaped{Continuous, IsoNormal}, Float64}([0.3293929756275419 0.033547262208247663 … 0.8068821641057369 0.07268517433209165; 0.04543907535920566 0.22353437721423908 … 0.6722406408421263 0.5231866206940357; 0.6421862751544661 0.5023890044122213 … 0.06632079426213322 0.40691205459747815; 0.3095318153956128 0.1837641512399253 … 0.3426951465495913 0.07386612595088649], MatrixReshaped{Continuous, IsoNormal}(\n",
       "dist: IsoNormal(\n",
       "dim: 640\n",
       "μ: [0.0, 0.0, 0.0, 0.0, 0.0, 0.0, 0.0, 0.0, 0.0, 0.0  …  0.0, 0.0, 0.0, 0.0, 0.0, 0.0, 0.0, 0.0, 0.0, 0.0]\n",
       "Σ: [1.0 0.0 … 0.0 0.0; 0.0 1.0 … 0.0 0.0; … ; 0.0 0.0 … 1.0 0.0; 0.0 0.0 … 0.0 1.0]\n",
       ")\n",
       "\n",
       "dims: (4, 160)\n",
       ")\n",
       ", 1.0)"
      ]
     },
     "execution_count": 97,
     "metadata": {},
     "output_type": "execute_result"
    }
   ],
   "source": [
    "MetropolisHastings(rand(4, 160))"
   ]
  },
  {
   "cell_type": "code",
   "execution_count": 98,
   "metadata": {},
   "outputs": [],
   "source": [
    "# Define a model type. Stores the log density function.\n",
    "struct DensityModel{F<:Function} <: AbstractMCMC.AbstractModel\n",
    "    ℓπ::F\n",
    "    mu_arr::AbstractArray\n",
    "    seq_mat\n",
    "end\n"
   ]
  },
  {
   "cell_type": "code",
   "execution_count": 99,
   "metadata": {},
   "outputs": [
    {
     "data": {
      "text/plain": [
       "Transition"
      ]
     },
     "execution_count": 99,
     "metadata": {},
     "output_type": "execute_result"
    }
   ],
   "source": [
    "struct Transition{T, L}\n",
    "    θ::T\n",
    "    lp::L\n",
    "end\n",
    "\n",
    "# Store the new draw and its log density.\n",
    "Transition(model::DensityModel, θ) = Transition(θ, ℓπ(model, θ))"
   ]
  },
  {
   "cell_type": "code",
   "execution_count": 100,
   "metadata": {},
   "outputs": [],
   "source": [
    "# Define the first step! function, which is called at the \n",
    "# beginning of sampling. Return the initial parameter used\n",
    "# to define the sampler.\n",
    "function AbstractMCMC.step(\n",
    "    rng::AbstractRNG,\n",
    "    model::DensityModel,\n",
    "    spl::MetropolisHastings,\n",
    "    kwargs...\n",
    ")   \n",
    "    return Transition(model, spl.init_θ), spl\n",
    "end"
   ]
  },
  {
   "cell_type": "code",
   "execution_count": 101,
   "metadata": {},
   "outputs": [
    {
     "data": {
      "text/plain": [
       "ℓπ (generic function with 2 methods)"
      ]
     },
     "execution_count": 101,
     "metadata": {},
     "output_type": "execute_result"
    }
   ],
   "source": [
    "# Define a function that makes a basic proposal depending on a univariate\n",
    "# parameterization or a multivariate parameterization.\n",
    "\n",
    "propose(spl::MetropolisHastings, model::DensityModel, θ::Matrix{<:Real}) = \n",
    "    Transition(model, wgregseq.footprints.gauge_emat(θ + rand(spl.proposal)))\n",
    "propose(spl::MetropolisHastings, model::DensityModel, t::Transition) =\n",
    "    propose(spl, model, t.θ)\n",
    "\n",
    "# Calculates the probability `q(θ|θcond)`, using the proposal distribution `spl.proposal`.\n",
    "q(spl::MetropolisHastings, θ::Matrix{<:Real}, θcond::Matrix{<:Real}) =\n",
    "    logpdf(spl.proposal, θ - θcond)\n",
    "q(spl::MetropolisHastings, t1::Transition, t2::Transition) = q(spl, t1.θ, t2.θ)\n",
    "\n",
    "# Calculate the density of the model given some parameterization.\n",
    "ℓπ(model::DensityModel, θ) = model.ℓπ(model.seq_mat, model.mu_arr, θ)\n",
    "ℓπ(model::DensityModel, T::Transition) = model.ℓπ(model.seq_mat, model.mu_arr, T.θ)"
   ]
  },
  {
   "cell_type": "code",
   "execution_count": 102,
   "metadata": {},
   "outputs": [],
   "source": [
    "\n",
    "# Define the other step function. Returns a Transition containing\n",
    "# either a new proposal (if accepted) or the previous proposal \n",
    "# (if not accepted).\n",
    "function AbstractMCMC.step(\n",
    "    rng::AbstractRNG,\n",
    "    model::DensityModel,\n",
    "    spl::MetropolisHastings,\n",
    "    θ_prev_T::Transition,\n",
    "    ;\n",
    "    kwargs...\n",
    ")\n",
    "    # Generate a new proposal.\n",
    "    θ_T = propose(spl, model, θ_prev_T)\n",
    "    # Calculate the log acceptance probability.\n",
    "    α = ℓπ(model, θ_T) - ℓπ(model, θ_prev_T) + q(spl, θ_prev_T, θ_T) - q(spl, θ_T, θ_prev_T)\n",
    "\n",
    "    # Decide whether to return the previous θ or the new one.\n",
    "    #if log(rand(rng)) < min(α, 0.0)\n",
    "    if log(rand(rng)) < min(α, 0.0)\n",
    "        return θ_T, spl, true\n",
    "    else\n",
    "        return θ_prev_T, spl, false\n",
    "    end\n",
    "end"
   ]
  },
  {
   "cell_type": "code",
   "execution_count": 103,
   "metadata": {},
   "outputs": [
    {
     "data": {
      "text/plain": [
       "MetropolisHastings{Matrix{Float64}, MatrixReshaped{Continuous, IsoNormal}, Float64}([0.4137641954088161 0.015211232647360781 … -0.7230099120104091 -0.029774745144764813; -0.25220876828966365 -0.4572251781735096 … -0.23418150266436027 -0.2679202093462902; -1.3839281908841508 -0.5096043686596554 … 0.9418514225881085 -0.7477000649022743; -1.1159978164249822 0.12446545098276338 … -2.5222638040282943 0.5885267461310189], MatrixReshaped{Continuous, IsoNormal}(\n",
       "dist: IsoNormal(\n",
       "dim: 640\n",
       "μ: [0.0, 0.0, 0.0, 0.0, 0.0, 0.0, 0.0, 0.0, 0.0, 0.0  …  0.0, 0.0, 0.0, 0.0, 0.0, 0.0, 0.0, 0.0, 0.0, 0.0]\n",
       "Σ: [1.0 0.0 … 0.0 0.0; 0.0 1.0 … 0.0 0.0; … ; 0.0 0.0 … 1.0 0.0; 0.0 0.0 … 0.0 1.0]\n",
       ")\n",
       "\n",
       "dims: (4, 160)\n",
       ")\n",
       ", 1.0)"
      ]
     },
     "execution_count": 103,
     "metadata": {},
     "output_type": "execute_result"
    }
   ],
   "source": [
    "function density(seq_mat, mu::Vector{Float64}, θ::Matrix{Float64})\n",
    "    en = (seq_mat * vec(θ))\n",
    "    y = kde((en, mu), npoints=(10, 512))\n",
    "    y.density ./= sum(y.density)\n",
    "    return wgregseq.footprints.mutual_information_add_model(y.density)\n",
    "end\n",
    "\n",
    "# Construct a DensityModel.\n",
    "model = DensityModel(density, mu, seq_mat)\n",
    "\n",
    "# Set up our sampler with initial parameters.\n",
    "spl = MetropolisHastings(randn(4, 160))"
   ]
  },
  {
   "cell_type": "code",
   "execution_count": 104,
   "metadata": {},
   "outputs": [
    {
     "data": {
      "text/plain": [
       "-0.002499349141771745"
      ]
     },
     "execution_count": 104,
     "metadata": {},
     "output_type": "execute_result"
    }
   ],
   "source": [
    "θ_prev_T = Transition(model, randn(4, 160))\n",
    "θ_T = propose(spl, model, θ_prev_T)\n",
    "\n",
    "ℓπ(model, θ_T) - ℓπ(model, θ_prev_T) + q(spl, θ_prev_T, θ_T) - q(spl, θ_T, θ_prev_T)"
   ]
  },
  {
   "cell_type": "code",
   "execution_count": 105,
   "metadata": {},
   "outputs": [],
   "source": [
    "function AbstractMCMC.bundle_samples(\n",
    "    ℓ::DensityModel, \n",
    "    s::MetropolisHastings, \n",
    "    N::Integer, \n",
    "    ts::Vector{<:Transition},\n",
    "    chain_type::Type{Any};\n",
    "    param_names=missing,\n",
    "    kwargs...\n",
    ")\n",
    "    # Turn all the transitions into a vector-of-vectors.\n",
    "    vals = copy(reduce(hcat,[vcat(vec(t.θ), t.lp) for t in ts])')\n",
    "\n",
    "    # Check if we received any parameter names.\n",
    "    if ismissing(param_names)\n",
    "        param_names = [\"Parameter $i\" for i in 1:(length(first(vals))-1)]\n",
    "    end\n",
    "\n",
    "    # Add the log density field to the parameter names.\n",
    "    push!(param_names, \"lp\")\n",
    "\n",
    "    # Bundle everything up and return a Chains struct.\n",
    "    return vals, param_names\n",
    "end"
   ]
  },
  {
   "cell_type": "code",
   "execution_count": 106,
   "metadata": {},
   "outputs": [
    {
     "data": {
      "text/plain": [
       "adapt_sigma (generic function with 1 method)"
      ]
     },
     "execution_count": 106,
     "metadata": {},
     "output_type": "execute_result"
    }
   ],
   "source": [
    "function adapt_sigma(rate)\n",
    "    if rate < 0.001\n",
    "        return 0.1\n",
    "    elseif rate < 0.05\n",
    "        return 0.5\n",
    "    elseif rate < 0.2 \n",
    "        return 0.9\n",
    "    elseif rate > 0.5\n",
    "        return 1.1\n",
    "    elseif rate > 0.75\n",
    "        return 2\n",
    "    elseif rate > 0.95\n",
    "        return 10\n",
    "    else\n",
    "        return 1\n",
    "    end\n",
    "end"
   ]
  },
  {
   "cell_type": "code",
   "execution_count": 107,
   "metadata": {},
   "outputs": [],
   "source": [
    "function StatsBase.sample(\n",
    "    model::AbstractMCMC.AbstractModel,\n",
    "    sampler::AbstractMCMC.AbstractSampler,\n",
    "    nsamples::Integer,\n",
    "    seq_mat,\n",
    "    rng::Random.AbstractRNG=Random.default_rng(),\n",
    "    ;\n",
    "    kwargs...\n",
    ")\n",
    "    # Obtain the initial sample and state.\n",
    "    sample, sampler = AbstractMCMC.step(rng, model, sampler; kwargs...)\n",
    "\n",
    "    ## Save the sample.\n",
    "    samples = AbstractMCMC.samples(sample, model, sampler, nsamples; kwargs...)\n",
    "    samples = AbstractMCMC.save!!(samples, sample, 1, model, sampler, nsamples; kwargs...)\n",
    "    tick()\n",
    "    # Step through the sampler.\n",
    "    acceptance = 0\n",
    "    for i in 2:nsamples\n",
    "        # Obtain the next sample and state.\n",
    "        sample, sampler, accept = AbstractMCMC.step(rng, model, sampler, sample; kwargs...)\n",
    "        acceptance += accept\n",
    "        # Save the sample.\n",
    "        samples = AbstractMCMC.save!!(samples, sample, i, model, sampler, nsamples; kwargs...)\n",
    "        if i%1000 == 0\n",
    "            println(\"$i of $nsamples done.\")\n",
    "            laptimer()\n",
    "            println(density(model.seq_mat, model.mu_arr, sample.θ))\n",
    "            spl.sigma *= adapt_sigma(acceptance/1000)\n",
    "            acceptance = 0\n",
    "            spl.proposal = reshape(MvNormal(zeros(640), I * spl.sigma), 4, 160)\n",
    "        end\n",
    "    end\n",
    "    tock()\n",
    "\n",
    "    return AbstractMCMC.bundle_samples(model, sampler, nsamples, samples, Any; kwargs...)\n",
    "end"
   ]
  },
  {
   "cell_type": "code",
   "execution_count": null,
   "metadata": {},
   "outputs": [],
   "source": []
  },
  {
   "cell_type": "code",
   "execution_count": 108,
   "metadata": {},
   "outputs": [
    {
     "ename": "LoadError",
     "evalue": "Use `tick()` to start a timer.",
     "output_type": "error",
     "traceback": [
      "Use `tick()` to start a timer.",
      "",
      "Stacktrace:",
      " [1] error(s::String)",
      "   @ Base ./error.jl:35",
      " [2] tok()",
      "   @ TickTock ~/.julia/packages/TickTock/KFrVj/src/TickTock.jl:146",
      " [3] tock()",
      "   @ TickTock ~/.julia/packages/TickTock/KFrVj/src/TickTock.jl:160",
      " [4] top-level scope",
      "   @ In[108]:1"
     ]
    }
   ],
   "source": [
    "tock()"
   ]
  },
  {
   "cell_type": "code",
   "execution_count": 109,
   "metadata": {},
   "outputs": [
    {
     "name": "stderr",
     "output_type": "stream",
     "text": [
      "\u001b[36m\u001b[1m[ \u001b[22m\u001b[39m\u001b[36m\u001b[1mInfo: \u001b[22m\u001b[39m started timer at: 2023-09-19T08:29:27.732\n"
     ]
    },
    {
     "name": "stdout",
     "output_type": "stream",
     "text": [
      "1000 of 100000 done.\n",
      "1         0.006273699255955395\n"
     ]
    },
    {
     "name": "stderr",
     "output_type": "stream",
     "text": [
      "\u001b[36m\u001b[1m[ \u001b[22m\u001b[39m\u001b[36m\u001b[1mInfo: \u001b[22m\u001b[39m          5.96029425s: 5 seconds, 960 milliseconds\n"
     ]
    },
    {
     "name": "stdout",
     "output_type": "stream",
     "text": [
      "2000 of 100000 done.\n",
      "1         0.005922124783295988\n"
     ]
    },
    {
     "name": "stderr",
     "output_type": "stream",
     "text": [
      "\u001b[36m\u001b[1m[ \u001b[22m\u001b[39m\u001b[36m\u001b[1mInfo: \u001b[22m\u001b[39m        11.572199375s: 11 seconds, 572 milliseconds\n"
     ]
    },
    {
     "name": "stdout",
     "output_type": "stream",
     "text": [
      "3000 of 100000 done.\n",
      "1         0.006650738336499821\n"
     ]
    },
    {
     "name": "stderr",
     "output_type": "stream",
     "text": [
      "\u001b[36m\u001b[1m[ \u001b[22m\u001b[39m\u001b[36m\u001b[1mInfo: \u001b[22m\u001b[39m           17.105202s: 17 seconds, 105 milliseconds\n"
     ]
    },
    {
     "name": "stdout",
     "output_type": "stream",
     "text": [
      "4000 of 100000 done.\n",
      "1         0.004411997824391126\n"
     ]
    },
    {
     "name": "stderr",
     "output_type": "stream",
     "text": [
      "\u001b[36m\u001b[1m[ \u001b[22m\u001b[39m\u001b[36m\u001b[1mInfo: \u001b[22m\u001b[39m        22.471358875s: 22 seconds, 471 milliseconds\n"
     ]
    },
    {
     "name": "stdout",
     "output_type": "stream",
     "text": [
      "5000 of 100000 done.\n",
      "1         0.008334032807924885\n"
     ]
    },
    {
     "name": "stderr",
     "output_type": "stream",
     "text": [
      "\u001b[36m\u001b[1m[ \u001b[22m\u001b[39m\u001b[36m\u001b[1mInfo: \u001b[22m\u001b[39m          28.0003245s: 28 seconds\n"
     ]
    },
    {
     "name": "stdout",
     "output_type": "stream",
     "text": [
      "6000 of 100000 done.\n",
      "1         0.009392073322474142\n"
     ]
    },
    {
     "name": "stderr",
     "output_type": "stream",
     "text": [
      "\u001b[36m\u001b[1m[ \u001b[22m\u001b[39m\u001b[36m\u001b[1mInfo: \u001b[22m\u001b[39m        33.575956125s: 33 seconds, 575 milliseconds\n"
     ]
    },
    {
     "name": "stdout",
     "output_type": "stream",
     "text": [
      "7000 of 100000 done.\n",
      "1         0.006711155010402672\n"
     ]
    },
    {
     "name": "stderr",
     "output_type": "stream",
     "text": [
      "\u001b[36m\u001b[1m[ \u001b[22m\u001b[39m\u001b[36m\u001b[1mInfo: \u001b[22m\u001b[39m        38.932607459s: 38 seconds, 932 milliseconds\n"
     ]
    },
    {
     "name": "stdout",
     "output_type": "stream",
     "text": [
      "8000 of 100000 done.\n",
      "1         0.005911497989518725\n"
     ]
    },
    {
     "name": "stderr",
     "output_type": "stream",
     "text": [
      "\u001b[36m\u001b[1m[ \u001b[22m\u001b[39m\u001b[36m\u001b[1mInfo: \u001b[22m\u001b[39m        44.438613792s: 44 seconds, 438 milliseconds\n"
     ]
    },
    {
     "name": "stdout",
     "output_type": "stream",
     "text": [
      "9000 of 100000 done.\n",
      "1         0.004728134889974081\n"
     ]
    },
    {
     "name": "stderr",
     "output_type": "stream",
     "text": [
      "\u001b[36m\u001b[1m[ \u001b[22m\u001b[39m\u001b[36m\u001b[1mInfo: \u001b[22m\u001b[39m         49.98835925s: 49 seconds, 988 milliseconds\n"
     ]
    },
    {
     "name": "stdout",
     "output_type": "stream",
     "text": [
      "10000 of 100000 done.\n",
      "1         0.007456869342605078\n"
     ]
    },
    {
     "name": "stderr",
     "output_type": "stream",
     "text": [
      "\u001b[36m\u001b[1m[ \u001b[22m\u001b[39m\u001b[36m\u001b[1mInfo: \u001b[22m\u001b[39m        55.324797667s: 55 seconds, 324 milliseconds\n"
     ]
    },
    {
     "name": "stdout",
     "output_type": "stream",
     "text": [
      "11000 of 100000 done.\n",
      "1         0.007332713100674451\n"
     ]
    },
    {
     "name": "stderr",
     "output_type": "stream",
     "text": [
      "\u001b[36m\u001b[1m[ \u001b[22m\u001b[39m\u001b[36m\u001b[1mInfo: \u001b[22m\u001b[39m           60.850745s: 1 minute, 850 milliseconds\n"
     ]
    },
    {
     "name": "stdout",
     "output_type": "stream",
     "text": [
      "12000 of 100000 done.\n",
      "1         0.00786336482800263\n"
     ]
    },
    {
     "name": "stderr",
     "output_type": "stream",
     "text": [
      "\u001b[36m\u001b[1m[ \u001b[22m\u001b[39m\u001b[36m\u001b[1mInfo: \u001b[22m\u001b[39m        66.331669042s: 1 minute, 6 seconds, 331 milliseconds\n"
     ]
    },
    {
     "name": "stdout",
     "output_type": "stream",
     "text": [
      "13000 of 100000 done.\n",
      "1         0.0038931851819863123\n"
     ]
    },
    {
     "name": "stderr",
     "output_type": "stream",
     "text": [
      "\u001b[36m\u001b[1m[ \u001b[22m\u001b[39m\u001b[36m\u001b[1mInfo: \u001b[22m\u001b[39m        71.786414334s: 1 minute, 11 seconds, 786 milliseconds\n"
     ]
    },
    {
     "name": "stdout",
     "output_type": "stream",
     "text": [
      "14000 of 100000 done.\n",
      "1         0.008727388826648981\n"
     ]
    },
    {
     "name": "stderr",
     "output_type": "stream",
     "text": [
      "\u001b[36m\u001b[1m[ \u001b[22m\u001b[39m\u001b[36m\u001b[1mInfo: \u001b[22m\u001b[39m        77.472715709s: 1 minute, 17 seconds, 472 milliseconds\n"
     ]
    },
    {
     "name": "stdout",
     "output_type": "stream",
     "text": [
      "15000 of 100000 done.\n",
      "1         0.005525597335817188\n"
     ]
    },
    {
     "name": "stderr",
     "output_type": "stream",
     "text": [
      "\u001b[36m\u001b[1m[ \u001b[22m\u001b[39m\u001b[36m\u001b[1mInfo: \u001b[22m\u001b[39m        83.144261959s: 1 minute, 23 seconds, 144 milliseconds\n"
     ]
    },
    {
     "name": "stdout",
     "output_type": "stream",
     "text": [
      "16000 of 100000 done.\n",
      "1         0.008281266897196188\n"
     ]
    },
    {
     "name": "stderr",
     "output_type": "stream",
     "text": [
      "\u001b[36m\u001b[1m[ \u001b[22m\u001b[39m\u001b[36m\u001b[1mInfo: \u001b[22m\u001b[39m        88.610933292s: 1 minute, 28 seconds, 610 milliseconds\n"
     ]
    },
    {
     "name": "stdout",
     "output_type": "stream",
     "text": [
      "17000 of 100000 done.\n",
      "1         0.00577519647932765\n"
     ]
    },
    {
     "name": "stderr",
     "output_type": "stream",
     "text": [
      "\u001b[36m\u001b[1m[ \u001b[22m\u001b[39m\u001b[36m\u001b[1mInfo: \u001b[22m\u001b[39m         94.27720675s: 1 minute, 34 seconds, 277 milliseconds\n"
     ]
    },
    {
     "name": "stdout",
     "output_type": "stream",
     "text": [
      "18000 of 100000 done.\n",
      "1         0.006733479150473826\n"
     ]
    },
    {
     "name": "stderr",
     "output_type": "stream",
     "text": [
      "\u001b[36m\u001b[1m[ \u001b[22m\u001b[39m\u001b[36m\u001b[1mInfo: \u001b[22m\u001b[39m       100.057470292s: 1 minute, 40 seconds, 57 milliseconds\n"
     ]
    },
    {
     "name": "stdout",
     "output_type": "stream",
     "text": [
      "19000 of 100000 done.\n",
      "1         0.0052423277888916054\n"
     ]
    },
    {
     "name": "stderr",
     "output_type": "stream",
     "text": [
      "\u001b[36m\u001b[1m[ \u001b[22m\u001b[39m\u001b[36m\u001b[1mInfo: \u001b[22m\u001b[39m       105.780916292s: 1 minute, 45 seconds, 780 milliseconds\n"
     ]
    },
    {
     "name": "stdout",
     "output_type": "stream",
     "text": [
      "20000 of 100000 done.\n",
      "1         0.004789759366341057\n"
     ]
    },
    {
     "name": "stderr",
     "output_type": "stream",
     "text": [
      "\u001b[36m\u001b[1m[ \u001b[22m\u001b[39m\u001b[36m\u001b[1mInfo: \u001b[22m\u001b[39m       111.127342334s: 1 minute, 51 seconds, 127 milliseconds\n"
     ]
    },
    {
     "name": "stdout",
     "output_type": "stream",
     "text": [
      "21000 of 100000 done.\n",
      "1         0.005030183918601845\n"
     ]
    },
    {
     "name": "stderr",
     "output_type": "stream",
     "text": [
      "\u001b[36m\u001b[1m[ \u001b[22m\u001b[39m\u001b[36m\u001b[1mInfo: \u001b[22m\u001b[39m       116.724971709s: 1 minute, 56 seconds, 724 milliseconds\n"
     ]
    },
    {
     "name": "stdout",
     "output_type": "stream",
     "text": [
      "22000 of 100000 done.\n",
      "1         0.009519966308781155\n"
     ]
    },
    {
     "name": "stderr",
     "output_type": "stream",
     "text": [
      "\u001b[36m\u001b[1m[ \u001b[22m\u001b[39m\u001b[36m\u001b[1mInfo: \u001b[22m\u001b[39m       122.410683625s: 2 minutes, 2 seconds, 410 milliseconds\n"
     ]
    },
    {
     "name": "stdout",
     "output_type": "stream",
     "text": [
      "23000 of 100000 done.\n",
      "1         0.004651183551885735\n"
     ]
    },
    {
     "name": "stderr",
     "output_type": "stream",
     "text": [
      "\u001b[36m\u001b[1m[ \u001b[22m\u001b[39m\u001b[36m\u001b[1mInfo: \u001b[22m\u001b[39m       127.892362959s: 2 minutes, 7 seconds, 892 milliseconds\n"
     ]
    },
    {
     "name": "stdout",
     "output_type": "stream",
     "text": [
      "24000 of 100000 done.\n",
      "1         0.006021324957282636\n"
     ]
    },
    {
     "name": "stderr",
     "output_type": "stream",
     "text": [
      "\u001b[36m\u001b[1m[ \u001b[22m\u001b[39m\u001b[36m\u001b[1mInfo: \u001b[22m\u001b[39m        133.57197575s: 2 minutes, 13 seconds, 571 milliseconds\n"
     ]
    },
    {
     "name": "stdout",
     "output_type": "stream",
     "text": [
      "25000 of 100000 done.\n",
      "1         0.0050440252987073945\n"
     ]
    },
    {
     "name": "stderr",
     "output_type": "stream",
     "text": [
      "\u001b[36m\u001b[1m[ \u001b[22m\u001b[39m\u001b[36m\u001b[1mInfo: \u001b[22m\u001b[39m       139.293639417s: 2 minutes, 19 seconds, 293 milliseconds\n"
     ]
    },
    {
     "name": "stdout",
     "output_type": "stream",
     "text": [
      "26000 of 100000 done.\n",
      "1         0.006575470907201158\n"
     ]
    },
    {
     "name": "stderr",
     "output_type": "stream",
     "text": [
      "\u001b[36m\u001b[1m[ \u001b[22m\u001b[39m\u001b[36m\u001b[1mInfo: \u001b[22m\u001b[39m       144.719108417s: 2 minutes, 24 seconds, 719 milliseconds\n"
     ]
    },
    {
     "name": "stdout",
     "output_type": "stream",
     "text": [
      "27000 of 100000 done.\n",
      "1         0.007913706494842576\n"
     ]
    },
    {
     "name": "stderr",
     "output_type": "stream",
     "text": [
      "\u001b[36m\u001b[1m[ \u001b[22m\u001b[39m\u001b[36m\u001b[1mInfo: \u001b[22m\u001b[39m       150.352696292s: 2 minutes, 30 seconds, 352 milliseconds\n"
     ]
    },
    {
     "name": "stdout",
     "output_type": "stream",
     "text": [
      "28000 of 100000 done.\n",
      "1         0.0058648287098155664\n"
     ]
    },
    {
     "name": "stderr",
     "output_type": "stream",
     "text": [
      "\u001b[36m\u001b[1m[ \u001b[22m\u001b[39m\u001b[36m\u001b[1mInfo: \u001b[22m\u001b[39m       155.951011917s: 2 minutes, 35 seconds, 951 milliseconds\n"
     ]
    },
    {
     "name": "stdout",
     "output_type": "stream",
     "text": [
      "29000 of 100000 done.\n",
      "1         0.005845006722950675\n"
     ]
    },
    {
     "name": "stderr",
     "output_type": "stream",
     "text": [
      "\u001b[36m\u001b[1m[ \u001b[22m\u001b[39m\u001b[36m\u001b[1mInfo: \u001b[22m\u001b[39m       161.327048167s: 2 minutes, 41 seconds, 327 milliseconds\n"
     ]
    },
    {
     "ename": "LoadError",
     "evalue": "InterruptException:",
     "output_type": "error",
     "traceback": [
      "InterruptException:",
      "",
      "Stacktrace:",
      "  [1] Array",
      "    @ ./boot.jl:477 [inlined]",
      "  [2] Array",
      "    @ ./boot.jl:486 [inlined]",
      "  [3] similar",
      "    @ ./abstractarray.jl:882 [inlined]",
      "  [4] similar",
      "    @ ./abstractarray.jl:881 [inlined]",
      "  [5] _array_for",
      "    @ ./array.jl:671 [inlined]",
      "  [6] _array_for",
      "    @ ./array.jl:674 [inlined]",
      "  [7] vect",
      "    @ ./array.jl:126 [inlined]",
      "  [8] default_bandwidth(data::Vector{Float64}, alpha::Float64)",
      "    @ KernelDensity ~/.julia/packages/KernelDensity/bNBAQ/src/univariate.jl:39",
      "  [9] default_bandwidth",
      "    @ ~/.julia/packages/KernelDensity/bNBAQ/src/univariate.jl:34 [inlined]",
      " [10] default_bandwidth",
      "    @ ~/.julia/packages/KernelDensity/bNBAQ/src/bivariate.jl:42 [inlined]",
      " [11] density(seq_mat::SparseMatrixCSC{Int64, Int64}, mu::Vector{Float64}, θ::Matrix{Float64})",
      "    @ Main ./In[103]:3",
      " [12] ℓπ(model::DensityModel{typeof(density)}, T::Transition{Matrix{Float64}, Float64})",
      "    @ Main ./In[101]:16",
      " [13] step(rng::TaskLocalRNG, model::DensityModel{typeof(density)}, spl::MetropolisHastings{Matrix{Float64}, MatrixReshaped{Continuous, IsoNormal}, Float64}, θ_prev_T::Transition{Matrix{Float64}, Float64}; kwargs::Base.Pairs{Symbol, Union{}, Tuple{}, NamedTuple{(), Tuple{}}})",
      "    @ Main ./In[102]:16",
      " [14] step(rng::TaskLocalRNG, model::DensityModel{typeof(density)}, spl::MetropolisHastings{Matrix{Float64}, MatrixReshaped{Continuous, IsoNormal}, Float64}, θ_prev_T::Transition{Matrix{Float64}, Float64})",
      "    @ Main ./In[102]:5",
      " [15] sample(model::DensityModel{typeof(density)}, sampler::MetropolisHastings{Matrix{Float64}, MatrixReshaped{Continuous, IsoNormal}, Float64}, nsamples::Int64, seq_mat::SparseMatrixCSC{Int64, Int64}, rng::TaskLocalRNG; kwargs::Base.Pairs{Symbol, Union{}, Tuple{}, NamedTuple{(), Tuple{}}})",
      "    @ Main ./In[107]:21",
      " [16] sample",
      "    @ ./In[107]:1 [inlined]",
      " [17] sample(model::DensityModel{typeof(density)}, sampler::MetropolisHastings{Matrix{Float64}, MatrixReshaped{Continuous, IsoNormal}, Float64}, nsamples::Int64, seq_mat::SparseMatrixCSC{Int64, Int64})",
      "    @ Main ./In[107]:1"
     ]
    }
   ],
   "source": [
    "chain = StatsBase.sample(model, spl, 500000, seq_mat)"
   ]
  },
  {
   "cell_type": "code",
   "execution_count": 86,
   "metadata": {},
   "outputs": [
    {
     "data": {
      "image/png": "[encoded data removed]"
     },
     "execution_count": 86,
     "metadata": {},
     "output_type": "execute_result"
    }
   ],
   "source": [
    "lines(chain[1][:, end])"
   ]
  },
  {
   "cell_type": "code",
   "execution_count": 110,
   "metadata": {},
   "outputs": [
    {
     "data": {
      "text/plain": [
       "4×160 Matrix{Float64}:\n",
       "  0.0146982   -0.0103807    0.00398053  …   0.0148545    0.00413783\n",
       " -0.0143643    0.00913476   0.0104349       0.00700947  -0.00585067\n",
       " -0.00257506   0.00103355   0.00555091      0.00473523   0.0111893\n",
       "  0.00224121   0.00021239  -0.0199664      -0.0265992   -0.00947643"
      ]
     },
     "execution_count": 110,
     "metadata": {},
     "output_type": "execute_result"
    }
   ],
   "source": [
    "x = reshape(mean(chain[1][50000:100000, 1:640], dims=1), 4, 160)"
   ]
  },
  {
   "cell_type": "code",
   "execution_count": 111,
   "metadata": {},
   "outputs": [
    {
     "data": {
      "text/plain": [
       "1×160 Matrix{Float64}:\n",
       " 7.8293e-5  3.46386e-5  9.91479e-5  …  3.47485e-5  0.000178466  4.80828e-5"
      ]
     },
     "execution_count": 111,
     "metadata": {},
     "output_type": "execute_result"
    }
   ],
   "source": [
    "prob_mat = exp.(x) ./ sum(exp.(x), dims=1)\n",
    "mut_info = sum([x * log2(x/0.25) for x in prob_mat], dims=1)"
   ]
  },
  {
   "cell_type": "code",
   "execution_count": 112,
   "metadata": {},
   "outputs": [
    {
     "data": {
      "image/png": "[encoded data removed]"
     },
     "execution_count": 112,
     "metadata": {},
     "output_type": "execute_result"
    }
   ],
   "source": [
    "barplot(-115:44, mut_info|>vec)"
   ]
  },
  {
   "cell_type": "code",
   "execution_count": null,
   "metadata": {},
   "outputs": [],
   "source": []
  }
 ],
 "metadata": {
  "kernelspec": {
   "display_name": "Julia 1.9.1",
   "language": "julia",
   "name": "julia-1.9"
  },
  "language_info": {
   "file_extension": ".jl",
   "mimetype": "application/julia",
   "name": "julia",
   "version": "1.9.1"
  }
 },
 "nbformat": 4,
 "nbformat_minor": 4
}
