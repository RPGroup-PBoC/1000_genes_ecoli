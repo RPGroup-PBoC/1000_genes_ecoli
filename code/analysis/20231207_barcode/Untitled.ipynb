{
 "cells": [
  {
   "cell_type": "markdown",
   "id": "d1ac8160-7b9f-4b36-8d0f-444abf90cbf6",
   "metadata": {},
   "source": [
    "# Preparing data for interactive plots"
   ]
  },
  {
   "cell_type": "code",
   "execution_count": 1,
   "id": "5de19194-7b42-4a73-a085-3add20fd43bb",
   "metadata": {},
   "outputs": [
    {
     "name": "stderr",
     "output_type": "stream",
     "text": [
      "WARNING: could not import BioSequences.reverese_complement into utils\n"
     ]
    },
    {
     "data": {
      "text/plain": [
       "3-element Vector{String}:\n",
       " \"#324fa2\"\n",
       " \"#f47c20\"\n",
       " \"#a8cf38\""
      ]
     },
     "metadata": {},
     "output_type": "display_data"
    }
   ],
   "source": [
    "# Get packages\n",
    "using CSV, DataFrames, wgregseq, CairoMakie, Statistics, DelimitedFiles, Dates, Colors, FASTX, BioSequences, StatsBase, ProgressMeter\n",
    "\n",
    "# Set colors and plotting style\n",
    "wgregseq.plotting_style.default_makie!()\n",
    "update_theme!(Theme(font = \"Lato\", titlefont=\"Lato\"))\n",
    "colors_dict = wgregseq.plotting_style.my_color_dict\n",
    "colors = [colors_dict[\"blue1\"], colors_dict[\"orange1\"], colors_dict[\"green1\"]]"
   ]
  },
  {
   "attachments": {},
   "cell_type": "markdown",
   "id": "8488f31b-152d-4c82-8a92-d1350fad773a",
   "metadata": {},
   "source": [
    "## Import mapping data\n",
    "\n",
    "Import the table mapping barcodes to promoter variants and filter out anything that has less than 3 reads, as well as anything with more than 30 mutations."
   ]
  },
  {
   "cell_type": "code",
   "execution_count": 2,
   "id": "4d6485b2-120b-488c-8f90-2eb213b003ce",
   "metadata": {},
   "outputs": [],
   "source": [
    "df_map = CSV.read(\n",
    "    \"../../../data/barcodes/20220514_mapping/mapped_barcodes.csv\", \n",
    "    DataFrame, \n",
    ");"
   ]
  },
  {
   "cell_type": "code",
   "execution_count": 3,
   "id": "afa72c83-9a04-4e54-87f0-303b1fe82b76",
   "metadata": {},
   "outputs": [],
   "source": [
    "# Filter out unnannotad sequences\n",
    "df_map = df_map[df_map.name .!= \"*\", :]\n",
    "\n",
    "# Filter out non-unique barcodes\n",
    "gdf = groupby(df_map[(df_map.map_count .> 2), :], :barcode)\n",
    "_df = DataFrame()\n",
    "for df in gdf\n",
    "    if nrow(df) == 1\n",
    "        append!(_df, df)\n",
    "    end\n",
    "end\n",
    "df_map = copy(_df);"
   ]
  },
  {
   "cell_type": "code",
   "execution_count": 4,
   "id": "502b17a1-2077-4b3b-83db-0ae4e4a408f9",
   "metadata": {},
   "outputs": [],
   "source": [
    "# Get twist order to get wild type sequences\n",
    "df_seqs = wgregseq.utils.import_twist_order(\"../../../data/twist_orders/2022-02-15_twist_order.csv\")\n",
    "df_wt = df_seqs[1:1501:119*1501, :];\n",
    "insertcols!(df_wt, 4, :promoter_seq => [string(x[27:186]) for x in df_wt.sequence])\n",
    "\n",
    "df_wt.promoter_seq |> unique |> length\n",
    "df_map = leftjoin(df_map, rename(df_wt[!, [:promoter, :promoter_seq]], :promoter => :name), on=\"name\")\n",
    "rename!(df_map, :promoter_seq => :wt_seq);"
   ]
  },
  {
   "cell_type": "markdown",
   "metadata": {},
   "source": [
    "## Import barcode data"
   ]
  },
  {
   "cell_type": "code",
   "execution_count": 6,
   "metadata": {},
   "outputs": [
    {
     "data": {
      "text/plain": [
       "get_dataset (generic function with 1 method)"
      ]
     },
     "metadata": {},
     "output_type": "display_data"
    }
   ],
   "source": [
    "function get_dataset(i)\n",
    "    if  isfile(\"../../../data/extracted_barcodes/20231207_barcode/$(i)_DNA_collapsed.txt\")\n",
    "        df_DNA = CSV.read(\n",
    "            \"../../../data/extracted_barcodes/20231207_barcode/$(i)_DNA_collapsed.txt\", \n",
    "            DataFrame, \n",
    "            ignorerepeated=true, \n",
    "            delim=\" \", \n",
    "            header=[\"ct_0\", \"barcode\"]\n",
    "        )\n",
    "        # import RNA\n",
    "        df_RNA = CSV.read(\n",
    "            \"../../../data/extracted_barcodes/20231207_barcode/$(i)_RNA_collapsed.txt\", \n",
    "            DataFrame, \n",
    "            ignorerepeated=true, \n",
    "            delim=\" \", \n",
    "            header=[\"ct_1\", \"barcode\"]\n",
    "        )\n",
    "    else\n",
    "        df_DNA = CSV.read(\n",
    "            \"../../../data/extracted_barcodes/20230907_barcode/temp/$(i)_DNA_collapsed.txt\", \n",
    "            DataFrame, \n",
    "            ignorerepeated=true, \n",
    "            delim=\" \", \n",
    "            header=[\"ct_0\", \"barcode\"]\n",
    "        )\n",
    "        # import RNA\n",
    "        df_RNA = CSV.read(\n",
    "            \"../../../data/extracted_barcodes/20230907_barcode/temp/$(i)_RNA_collapsed.txt\", \n",
    "            DataFrame, \n",
    "            ignorerepeated=true, \n",
    "            delim=\" \", \n",
    "            header=[\"ct_1\", \"barcode\"])\n",
    "    end\n",
    "    \n",
    "    # merge DNA and RNA reads\n",
    "    df = outerjoin(df_DNA, df_RNA, on=:barcode)\n",
    "    \n",
    "    # replace missing reads with 0\n",
    "    replace!(df.ct_0, missing => 0)\n",
    "    replace!(df.ct_1, missing => 0)\n",
    "    \n",
    "    # identify promoter sequences\n",
    "    df = innerjoin(df, df_map, on=:barcode)\n",
    "    \n",
    "    # compute total counts\n",
    "    insertcols!(df, 1, :ct => df.ct_0 .+ df.ct_1)\n",
    "    insertcols!(df, 1, :relative_counts => (df.ct_1 .+ 1) ./ (df.ct_0 .+ 1))\n",
    "    \n",
    "    # Turn sequences into integer\n",
    "    insertcols!(df, 3, :int_promoter => wgregseq.footprints.make_int.(df[:, :promoter]))\n",
    "    insertcols!(df, 3, :int_wt => wgregseq.footprints.make_int.(df[:, :wt_seq]));\n",
    "    return df\n",
    "end"
   ]
  },
  {
   "cell_type": "code",
   "execution_count": 7,
   "id": "5ff907f5-5ded-462f-b37a-b3058fac1bef",
   "metadata": {},
   "outputs": [
    {
     "data": {
      "text/plain": [
       "expression_shift_matrix (generic function with 1 method)"
      ]
     },
     "metadata": {},
     "output_type": "display_data"
    }
   ],
   "source": [
    "function expression_shift_matrix(df)\n",
    "    _df = copy(df) \n",
    "    # Compute relative (with pseudo counts)\n",
    "    if :wt_seq ∉ names(_df)\n",
    "        freq_mat = wgregseq.footprints.frequency_matrix(_df)[1]\n",
    "        # find wild type sequence \n",
    "        wt_seq = argmax(freq_mat, dims=2) |> vec\n",
    "        wt_seq = map(x -> x[2], wt_seq)\n",
    "        wt_seq_dna = [wgregseq.footprints.DNA_dict_rev[x] for x in wt_seq]\n",
    "\n",
    "        function is_mut(x)\n",
    "            return x .!= wt_seq\n",
    "        end\n",
    "\n",
    "        insertcols!(_df, 4, :is_mutated => is_mut.(_df.int_promoter))\n",
    "    else\n",
    "        function is_mut(x, y)\n",
    "            return x .!= y\n",
    "        end\n",
    "        insertcols!(_df, 4, :is_mutated => is_mut.(_df.int_promoter, df.int_wt))\n",
    "    end\n",
    "\n",
    "    mean_rel_counts = mean(_df.relative_counts)\n",
    "    a = (_df.relative_counts .- mean_rel_counts) .* _df.is_mutated\n",
    "    b = wgregseq.utils.onehot_encoder.(_df.promoter)\n",
    "\n",
    "    ex_shift_arr = zeros(160, 4)\n",
    "    for i in 1:nrow(_df)\n",
    "        ex_shift_arr += a[i] .* b[i]\n",
    "    end\n",
    "\n",
    "    return ex_shift_arr ./ sum(b, dims=1)[1]\n",
    "end"
   ]
  },
  {
   "cell_type": "code",
   "execution_count": 30,
   "metadata": {},
   "outputs": [
    {
     "data": {
      "text/plain": [
       "get_gc_info (generic function with 1 method)"
      ]
     },
     "metadata": {},
     "output_type": "display_data"
    }
   ],
   "source": [
    "# Get all growth condition indexes\n",
    "gcs = unique([x[1] for x in split.(vcat(readdir(\"../../../data/extracted_barcodes/20230907_barcode/temp\"), readdir(\"../../../data/extracted_barcodes/20231207_barcode/\")), \"_\")])\n",
    "\n",
    "# get list of growth condition labels\n",
    "growth_conditions = CSV.read(\"growth_conditions.csv\", DataFrame)\n",
    "\n",
    "function get_gc_info(gc)\n",
    "    gc, rep = parse.(Int64, split(gc, '-'))\n",
    "    gc, info = growth_conditions[gc, [:Condition, :Description]]\n",
    "    if ismissing(info)\n",
    "        info = \"\"\n",
    "    end\n",
    "    return gc, info, rep\n",
    "end\n"
   ]
  },
  {
   "cell_type": "code",
   "execution_count": 31,
   "id": "f1a3ba6e-4ca0-4856-ae2a-4d5f61851b3a",
   "metadata": {},
   "outputs": [],
   "source": [
    "# initiate dataframes\n",
    "df_footprints = DataFrame()\n",
    "df_exshift = DataFrame()\n",
    "\n",
    "# date and source for dfs\n",
    "source = \"genome\"\n",
    "\n",
    "ind = collect(Iterators.product(collect(1:4), collect(-115:44))) |> vec\n",
    "\n",
    "# iterate through growth conditions\n",
    "for gc_ind in gcs\n",
    "    gc, info, rep = get_gc_info(gc_ind)\n",
    "    df = get_dataset(gc_ind)\n",
    "    for prom in unique(df.name)\n",
    "        wt_seq = df_wt[df_wt.promoter .== prom, :promoter_seq][1]\n",
    "        ind_wt = collect(Iterators.product(collect(1:4), collect(wt_seq))) |> vec\n",
    "        # get mutual information\n",
    "        x = wgregseq.footprints.mutual_information_mutation(df[df.name .== prom, :])\n",
    "        # get expression shift\n",
    "        ex_shift = expression_shifts(df[df.name .== prom, :])\n",
    "        ex_shift ./= maximum(abs.(ex_shift))\n",
    "        # add mutual information to dataframe\n",
    "        append!(\n",
    "            df_footprints,\n",
    "            DataFrame( \n",
    "                promoter=prom, \n",
    "                source=source, \n",
    "                footprint=x,\n",
    "                growth_condition=gc,\n",
    "                growth_condition_info=info,\n",
    "                replicate=rep, \n",
    "                pos=collect(-115:44), \n",
    "                d=\"0\")\n",
    "        )\n",
    "\n",
    "        append!(\n",
    "            df_exshift,\n",
    "            DataFrame( \n",
    "                promoter=prom, \n",
    "                source=source, \n",
    "                expression_shift=ex_shift' |> vec , \n",
    "                growth_condition=gc,\n",
    "                growth_condition_info=info,\n",
    "                replicate=rep,\n",
    "                pos=[t[2] for t in ind],\n",
    "                base=[t[1] for t in ind],\n",
    "                wt_base=[t[2] for t in ind_wt]\n",
    "            )\n",
    "        )\n",
    "        for d in 1:2\n",
    "            append!(\n",
    "                df_footprints,\n",
    "                DataFrame( \n",
    "                    promoter=prom, \n",
    "                    source=source, \n",
    "                    footprint=[mean(x[i-d:i+d]) for i in 1+d:160-d], \n",
    "                    growth_condition=gc,\n",
    "                    growth_condition_info=info,\n",
    "                    replicate=rep, \n",
    "                    pos=collect(-115+d:44-d), \n",
    "                    d=\"$d\"\n",
    "                )\n",
    "            )\n",
    "        end\n",
    "    end\n",
    "end"
   ]
  },
  {
   "cell_type": "code",
   "execution_count": 32,
   "id": "2ca7bef0-e7be-4ea3-b36a-f3027c7c710b",
   "metadata": {},
   "outputs": [
    {
     "data": {
      "text/html": [
       "<div><div style = \"float: left;\"><span>1911168×8 DataFrame</span></div><div style = \"float: right;\"><span style = \"font-style: italic;\">1911143 rows omitted</span></div><div style = \"clear: both;\"></div></div><div class = \"data-frame\" style = \"overflow-x: scroll;\"><table class = \"data-frame\" style = \"margin-bottom: 6px;\"><thead><tr class = \"header\"><th class = \"rowNumber\" style = \"font-weight: bold; text-align: right;\">Row</th><th style = \"text-align: left;\">promoter</th><th style = \"text-align: left;\">source</th><th style = \"text-align: left;\">mut_info</th><th style = \"text-align: left;\">growth_condition</th><th style = \"text-align: left;\">growth_condition_info</th><th style = \"text-align: left;\">replicate</th><th style = \"text-align: left;\">pos</th><th style = \"text-align: left;\">d</th></tr><tr class = \"subheader headerLastRow\"><th class = \"rowNumber\" style = \"font-weight: bold; text-align: right;\"></th><th title = \"String\" style = \"text-align: left;\">String</th><th title = \"String\" style = \"text-align: left;\">String</th><th title = \"Float64\" style = \"text-align: left;\">Float64</th><th title = \"String\" style = \"text-align: left;\">String</th><th title = \"String\" style = \"text-align: left;\">String</th><th title = \"Int64\" style = \"text-align: left;\">Int64</th><th title = \"Int64\" style = \"text-align: left;\">Int64</th><th title = \"String\" style = \"text-align: left;\">String</th></tr></thead><tbody><tr><td class = \"rowNumber\" style = \"font-weight: bold; text-align: right;\">1</td><td style = \"text-align: left;\">TSS_1414_storz_regulondb</td><td style = \"text-align: left;\">genome</td><td style = \"text-align: right;\">0.00015366</td><td style = \"text-align: left;\">Glucose</td><td style = \"text-align: left;\">M9 Minimal Media with 0.5% Glucose</td><td style = \"text-align: right;\">1</td><td style = \"text-align: right;\">-115</td><td style = \"text-align: left;\">0</td></tr><tr><td class = \"rowNumber\" style = \"font-weight: bold; text-align: right;\">2</td><td style = \"text-align: left;\">TSS_1414_storz_regulondb</td><td style = \"text-align: left;\">genome</td><td style = \"text-align: right;\">0.000311656</td><td style = \"text-align: left;\">Glucose</td><td style = \"text-align: left;\">M9 Minimal Media with 0.5% Glucose</td><td style = \"text-align: right;\">1</td><td style = \"text-align: right;\">-114</td><td style = \"text-align: left;\">0</td></tr><tr><td class = \"rowNumber\" style = \"font-weight: bold; text-align: right;\">3</td><td style = \"text-align: left;\">TSS_1414_storz_regulondb</td><td style = \"text-align: left;\">genome</td><td style = \"text-align: right;\">0.000240944</td><td style = \"text-align: left;\">Glucose</td><td style = \"text-align: left;\">M9 Minimal Media with 0.5% Glucose</td><td style = \"text-align: right;\">1</td><td style = \"text-align: right;\">-113</td><td style = \"text-align: left;\">0</td></tr><tr><td class = \"rowNumber\" style = \"font-weight: bold; text-align: right;\">4</td><td style = \"text-align: left;\">TSS_1414_storz_regulondb</td><td style = \"text-align: left;\">genome</td><td style = \"text-align: right;\">1.37081e-5</td><td style = \"text-align: left;\">Glucose</td><td style = \"text-align: left;\">M9 Minimal Media with 0.5% Glucose</td><td style = \"text-align: right;\">1</td><td style = \"text-align: right;\">-112</td><td style = \"text-align: left;\">0</td></tr><tr><td class = \"rowNumber\" style = \"font-weight: bold; text-align: right;\">5</td><td style = \"text-align: left;\">TSS_1414_storz_regulondb</td><td style = \"text-align: left;\">genome</td><td style = \"text-align: right;\">1.37036e-6</td><td style = \"text-align: left;\">Glucose</td><td style = \"text-align: left;\">M9 Minimal Media with 0.5% Glucose</td><td style = \"text-align: right;\">1</td><td style = \"text-align: right;\">-111</td><td style = \"text-align: left;\">0</td></tr><tr><td class = \"rowNumber\" style = \"font-weight: bold; text-align: right;\">6</td><td style = \"text-align: left;\">TSS_1414_storz_regulondb</td><td style = \"text-align: left;\">genome</td><td style = \"text-align: right;\">0.000729594</td><td style = \"text-align: left;\">Glucose</td><td style = \"text-align: left;\">M9 Minimal Media with 0.5% Glucose</td><td style = \"text-align: right;\">1</td><td style = \"text-align: right;\">-110</td><td style = \"text-align: left;\">0</td></tr><tr><td class = \"rowNumber\" style = \"font-weight: bold; text-align: right;\">7</td><td style = \"text-align: left;\">TSS_1414_storz_regulondb</td><td style = \"text-align: left;\">genome</td><td style = \"text-align: right;\">5.42769e-8</td><td style = \"text-align: left;\">Glucose</td><td style = \"text-align: left;\">M9 Minimal Media with 0.5% Glucose</td><td style = \"text-align: right;\">1</td><td style = \"text-align: right;\">-109</td><td style = \"text-align: left;\">0</td></tr><tr><td class = \"rowNumber\" style = \"font-weight: bold; text-align: right;\">8</td><td style = \"text-align: left;\">TSS_1414_storz_regulondb</td><td style = \"text-align: left;\">genome</td><td style = \"text-align: right;\">0.000187899</td><td style = \"text-align: left;\">Glucose</td><td style = \"text-align: left;\">M9 Minimal Media with 0.5% Glucose</td><td style = \"text-align: right;\">1</td><td style = \"text-align: right;\">-108</td><td style = \"text-align: left;\">0</td></tr><tr><td class = \"rowNumber\" style = \"font-weight: bold; text-align: right;\">9</td><td style = \"text-align: left;\">TSS_1414_storz_regulondb</td><td style = \"text-align: left;\">genome</td><td style = \"text-align: right;\">0.000202271</td><td style = \"text-align: left;\">Glucose</td><td style = \"text-align: left;\">M9 Minimal Media with 0.5% Glucose</td><td style = \"text-align: right;\">1</td><td style = \"text-align: right;\">-107</td><td style = \"text-align: left;\">0</td></tr><tr><td class = \"rowNumber\" style = \"font-weight: bold; text-align: right;\">10</td><td style = \"text-align: left;\">TSS_1414_storz_regulondb</td><td style = \"text-align: left;\">genome</td><td style = \"text-align: right;\">3.84158e-5</td><td style = \"text-align: left;\">Glucose</td><td style = \"text-align: left;\">M9 Minimal Media with 0.5% Glucose</td><td style = \"text-align: right;\">1</td><td style = \"text-align: right;\">-106</td><td style = \"text-align: left;\">0</td></tr><tr><td class = \"rowNumber\" style = \"font-weight: bold; text-align: right;\">11</td><td style = \"text-align: left;\">TSS_1414_storz_regulondb</td><td style = \"text-align: left;\">genome</td><td style = \"text-align: right;\">0.000690424</td><td style = \"text-align: left;\">Glucose</td><td style = \"text-align: left;\">M9 Minimal Media with 0.5% Glucose</td><td style = \"text-align: right;\">1</td><td style = \"text-align: right;\">-105</td><td style = \"text-align: left;\">0</td></tr><tr><td class = \"rowNumber\" style = \"font-weight: bold; text-align: right;\">12</td><td style = \"text-align: left;\">TSS_1414_storz_regulondb</td><td style = \"text-align: left;\">genome</td><td style = \"text-align: right;\">0.000201744</td><td style = \"text-align: left;\">Glucose</td><td style = \"text-align: left;\">M9 Minimal Media with 0.5% Glucose</td><td style = \"text-align: right;\">1</td><td style = \"text-align: right;\">-104</td><td style = \"text-align: left;\">0</td></tr><tr><td class = \"rowNumber\" style = \"font-weight: bold; text-align: right;\">13</td><td style = \"text-align: left;\">TSS_1414_storz_regulondb</td><td style = \"text-align: left;\">genome</td><td style = \"text-align: right;\">6.17088e-7</td><td style = \"text-align: left;\">Glucose</td><td style = \"text-align: left;\">M9 Minimal Media with 0.5% Glucose</td><td style = \"text-align: right;\">1</td><td style = \"text-align: right;\">-103</td><td style = \"text-align: left;\">0</td></tr><tr><td style = \"text-align: right;\">&vellip;</td><td style = \"text-align: right;\">&vellip;</td><td style = \"text-align: right;\">&vellip;</td><td style = \"text-align: right;\">&vellip;</td><td style = \"text-align: right;\">&vellip;</td><td style = \"text-align: right;\">&vellip;</td><td style = \"text-align: right;\">&vellip;</td><td style = \"text-align: right;\">&vellip;</td><td style = \"text-align: right;\">&vellip;</td></tr><tr><td class = \"rowNumber\" style = \"font-weight: bold; text-align: right;\">1911157</td><td style = \"text-align: left;\">znuCp</td><td style = \"text-align: left;\">genome</td><td style = \"text-align: right;\">0.000432387</td><td style = \"text-align: left;\">Cold Shock (1h at 10C)</td><td style = \"text-align: left;\">M9 Minimal Media with 0.5% Glucose with 1h at 10C in steady state</td><td style = \"text-align: right;\">1</td><td style = \"text-align: right;\">31</td><td style = \"text-align: left;\">2</td></tr><tr><td class = \"rowNumber\" style = \"font-weight: bold; text-align: right;\">1911158</td><td style = \"text-align: left;\">znuCp</td><td style = \"text-align: left;\">genome</td><td style = \"text-align: right;\">0.000528695</td><td style = \"text-align: left;\">Cold Shock (1h at 10C)</td><td style = \"text-align: left;\">M9 Minimal Media with 0.5% Glucose with 1h at 10C in steady state</td><td style = \"text-align: right;\">1</td><td style = \"text-align: right;\">32</td><td style = \"text-align: left;\">2</td></tr><tr><td class = \"rowNumber\" style = \"font-weight: bold; text-align: right;\">1911159</td><td style = \"text-align: left;\">znuCp</td><td style = \"text-align: left;\">genome</td><td style = \"text-align: right;\">0.000618039</td><td style = \"text-align: left;\">Cold Shock (1h at 10C)</td><td style = \"text-align: left;\">M9 Minimal Media with 0.5% Glucose with 1h at 10C in steady state</td><td style = \"text-align: right;\">1</td><td style = \"text-align: right;\">33</td><td style = \"text-align: left;\">2</td></tr><tr><td class = \"rowNumber\" style = \"font-weight: bold; text-align: right;\">1911160</td><td style = \"text-align: left;\">znuCp</td><td style = \"text-align: left;\">genome</td><td style = \"text-align: right;\">0.00126957</td><td style = \"text-align: left;\">Cold Shock (1h at 10C)</td><td style = \"text-align: left;\">M9 Minimal Media with 0.5% Glucose with 1h at 10C in steady state</td><td style = \"text-align: right;\">1</td><td style = \"text-align: right;\">34</td><td style = \"text-align: left;\">2</td></tr><tr><td class = \"rowNumber\" style = \"font-weight: bold; text-align: right;\">1911161</td><td style = \"text-align: left;\">znuCp</td><td style = \"text-align: left;\">genome</td><td style = \"text-align: right;\">0.00133845</td><td style = \"text-align: left;\">Cold Shock (1h at 10C)</td><td style = \"text-align: left;\">M9 Minimal Media with 0.5% Glucose with 1h at 10C in steady state</td><td style = \"text-align: right;\">1</td><td style = \"text-align: right;\">35</td><td style = \"text-align: left;\">2</td></tr><tr><td class = \"rowNumber\" style = \"font-weight: bold; text-align: right;\">1911162</td><td style = \"text-align: left;\">znuCp</td><td style = \"text-align: left;\">genome</td><td style = \"text-align: right;\">0.00130243</td><td style = \"text-align: left;\">Cold Shock (1h at 10C)</td><td style = \"text-align: left;\">M9 Minimal Media with 0.5% Glucose with 1h at 10C in steady state</td><td style = \"text-align: right;\">1</td><td style = \"text-align: right;\">36</td><td style = \"text-align: left;\">2</td></tr><tr><td class = \"rowNumber\" style = \"font-weight: bold; text-align: right;\">1911163</td><td style = \"text-align: left;\">znuCp</td><td style = \"text-align: left;\">genome</td><td style = \"text-align: right;\">0.00112094</td><td style = \"text-align: left;\">Cold Shock (1h at 10C)</td><td style = \"text-align: left;\">M9 Minimal Media with 0.5% Glucose with 1h at 10C in steady state</td><td style = \"text-align: right;\">1</td><td style = \"text-align: right;\">37</td><td style = \"text-align: left;\">2</td></tr><tr><td class = \"rowNumber\" style = \"font-weight: bold; text-align: right;\">1911164</td><td style = \"text-align: left;\">znuCp</td><td style = \"text-align: left;\">genome</td><td style = \"text-align: right;\">0.00128536</td><td style = \"text-align: left;\">Cold Shock (1h at 10C)</td><td style = \"text-align: left;\">M9 Minimal Media with 0.5% Glucose with 1h at 10C in steady state</td><td style = \"text-align: right;\">1</td><td style = \"text-align: right;\">38</td><td style = \"text-align: left;\">2</td></tr><tr><td class = \"rowNumber\" style = \"font-weight: bold; text-align: right;\">1911165</td><td style = \"text-align: left;\">znuCp</td><td style = \"text-align: left;\">genome</td><td style = \"text-align: right;\">0.000608792</td><td style = \"text-align: left;\">Cold Shock (1h at 10C)</td><td style = \"text-align: left;\">M9 Minimal Media with 0.5% Glucose with 1h at 10C in steady state</td><td style = \"text-align: right;\">1</td><td style = \"text-align: right;\">39</td><td style = \"text-align: left;\">2</td></tr><tr><td class = \"rowNumber\" style = \"font-weight: bold; text-align: right;\">1911166</td><td style = \"text-align: left;\">znuCp</td><td style = \"text-align: left;\">genome</td><td style = \"text-align: right;\">0.000546956</td><td style = \"text-align: left;\">Cold Shock (1h at 10C)</td><td style = \"text-align: left;\">M9 Minimal Media with 0.5% Glucose with 1h at 10C in steady state</td><td style = \"text-align: right;\">1</td><td style = \"text-align: right;\">40</td><td style = \"text-align: left;\">2</td></tr><tr><td class = \"rowNumber\" style = \"font-weight: bold; text-align: right;\">1911167</td><td style = \"text-align: left;\">znuCp</td><td style = \"text-align: left;\">genome</td><td style = \"text-align: right;\">0.000577391</td><td style = \"text-align: left;\">Cold Shock (1h at 10C)</td><td style = \"text-align: left;\">M9 Minimal Media with 0.5% Glucose with 1h at 10C in steady state</td><td style = \"text-align: right;\">1</td><td style = \"text-align: right;\">41</td><td style = \"text-align: left;\">2</td></tr><tr><td class = \"rowNumber\" style = \"font-weight: bold; text-align: right;\">1911168</td><td style = \"text-align: left;\">znuCp</td><td style = \"text-align: left;\">genome</td><td style = \"text-align: right;\">0.000473337</td><td style = \"text-align: left;\">Cold Shock (1h at 10C)</td><td style = \"text-align: left;\">M9 Minimal Media with 0.5% Glucose with 1h at 10C in steady state</td><td style = \"text-align: right;\">1</td><td style = \"text-align: right;\">42</td><td style = \"text-align: left;\">2</td></tr></tbody></table></div>"
      ],
      "text/latex": [
       "\\begin{tabular}{r|cccccc}\n",
       "\t& promoter & source & mut\\_info & growth\\_condition & growth\\_condition\\_info & \\\\\n",
       "\t\\hline\n",
       "\t& String & String & Float64 & String & String & \\\\\n",
       "\t\\hline\n",
       "\t1 & TSS\\_1414\\_storz\\_regulondb & genome & 0.00015366 & Glucose & M9 Minimal Media with 0.5\\% Glucose & $\\dots$ \\\\\n",
       "\t2 & TSS\\_1414\\_storz\\_regulondb & genome & 0.000311656 & Glucose & M9 Minimal Media with 0.5\\% Glucose & $\\dots$ \\\\\n",
       "\t3 & TSS\\_1414\\_storz\\_regulondb & genome & 0.000240944 & Glucose & M9 Minimal Media with 0.5\\% Glucose & $\\dots$ \\\\\n",
       "\t4 & TSS\\_1414\\_storz\\_regulondb & genome & 1.37081e-5 & Glucose & M9 Minimal Media with 0.5\\% Glucose & $\\dots$ \\\\\n",
       "\t5 & TSS\\_1414\\_storz\\_regulondb & genome & 1.37036e-6 & Glucose & M9 Minimal Media with 0.5\\% Glucose & $\\dots$ \\\\\n",
       "\t6 & TSS\\_1414\\_storz\\_regulondb & genome & 0.000729594 & Glucose & M9 Minimal Media with 0.5\\% Glucose & $\\dots$ \\\\\n",
       "\t7 & TSS\\_1414\\_storz\\_regulondb & genome & 5.42769e-8 & Glucose & M9 Minimal Media with 0.5\\% Glucose & $\\dots$ \\\\\n",
       "\t8 & TSS\\_1414\\_storz\\_regulondb & genome & 0.000187899 & Glucose & M9 Minimal Media with 0.5\\% Glucose & $\\dots$ \\\\\n",
       "\t9 & TSS\\_1414\\_storz\\_regulondb & genome & 0.000202271 & Glucose & M9 Minimal Media with 0.5\\% Glucose & $\\dots$ \\\\\n",
       "\t10 & TSS\\_1414\\_storz\\_regulondb & genome & 3.84158e-5 & Glucose & M9 Minimal Media with 0.5\\% Glucose & $\\dots$ \\\\\n",
       "\t11 & TSS\\_1414\\_storz\\_regulondb & genome & 0.000690424 & Glucose & M9 Minimal Media with 0.5\\% Glucose & $\\dots$ \\\\\n",
       "\t12 & TSS\\_1414\\_storz\\_regulondb & genome & 0.000201744 & Glucose & M9 Minimal Media with 0.5\\% Glucose & $\\dots$ \\\\\n",
       "\t13 & TSS\\_1414\\_storz\\_regulondb & genome & 6.17088e-7 & Glucose & M9 Minimal Media with 0.5\\% Glucose & $\\dots$ \\\\\n",
       "\t14 & TSS\\_1414\\_storz\\_regulondb & genome & 6.77051e-5 & Glucose & M9 Minimal Media with 0.5\\% Glucose & $\\dots$ \\\\\n",
       "\t15 & TSS\\_1414\\_storz\\_regulondb & genome & 2.27409e-5 & Glucose & M9 Minimal Media with 0.5\\% Glucose & $\\dots$ \\\\\n",
       "\t16 & TSS\\_1414\\_storz\\_regulondb & genome & 0.000320349 & Glucose & M9 Minimal Media with 0.5\\% Glucose & $\\dots$ \\\\\n",
       "\t17 & TSS\\_1414\\_storz\\_regulondb & genome & 2.86912e-5 & Glucose & M9 Minimal Media with 0.5\\% Glucose & $\\dots$ \\\\\n",
       "\t18 & TSS\\_1414\\_storz\\_regulondb & genome & 3.95463e-6 & Glucose & M9 Minimal Media with 0.5\\% Glucose & $\\dots$ \\\\\n",
       "\t19 & TSS\\_1414\\_storz\\_regulondb & genome & 1.39873e-5 & Glucose & M9 Minimal Media with 0.5\\% Glucose & $\\dots$ \\\\\n",
       "\t20 & TSS\\_1414\\_storz\\_regulondb & genome & 3.33087e-6 & Glucose & M9 Minimal Media with 0.5\\% Glucose & $\\dots$ \\\\\n",
       "\t21 & TSS\\_1414\\_storz\\_regulondb & genome & 5.83963e-5 & Glucose & M9 Minimal Media with 0.5\\% Glucose & $\\dots$ \\\\\n",
       "\t22 & TSS\\_1414\\_storz\\_regulondb & genome & 8.339e-5 & Glucose & M9 Minimal Media with 0.5\\% Glucose & $\\dots$ \\\\\n",
       "\t23 & TSS\\_1414\\_storz\\_regulondb & genome & 1.76715e-5 & Glucose & M9 Minimal Media with 0.5\\% Glucose & $\\dots$ \\\\\n",
       "\t24 & TSS\\_1414\\_storz\\_regulondb & genome & 0.000215943 & Glucose & M9 Minimal Media with 0.5\\% Glucose & $\\dots$ \\\\\n",
       "\t$\\dots$ & $\\dots$ & $\\dots$ & $\\dots$ & $\\dots$ & $\\dots$ &  \\\\\n",
       "\\end{tabular}\n"
      ],
      "text/plain": [
       "\u001b[1m1911168×8 DataFrame\u001b[0m\n",
       "\u001b[1m     Row \u001b[0m│\u001b[1m promoter                 \u001b[0m\u001b[1m source \u001b[0m\u001b[1m mut_info    \u001b[0m\u001b[1m growth_condition    \u001b[0m ⋯\n",
       "         │\u001b[90m String                   \u001b[0m\u001b[90m String \u001b[0m\u001b[90m Float64     \u001b[0m\u001b[90m String              \u001b[0m ⋯\n",
       "─────────┼──────────────────────────────────────────────────────────────────────\n",
       "       1 │ TSS_1414_storz_regulondb  genome  0.00015366   Glucose              ⋯\n",
       "       2 │ TSS_1414_storz_regulondb  genome  0.000311656  Glucose\n",
       "       3 │ TSS_1414_storz_regulondb  genome  0.000240944  Glucose\n",
       "       4 │ TSS_1414_storz_regulondb  genome  1.37081e-5   Glucose\n",
       "       5 │ TSS_1414_storz_regulondb  genome  1.37036e-6   Glucose              ⋯\n",
       "       6 │ TSS_1414_storz_regulondb  genome  0.000729594  Glucose\n",
       "       7 │ TSS_1414_storz_regulondb  genome  5.42769e-8   Glucose\n",
       "       8 │ TSS_1414_storz_regulondb  genome  0.000187899  Glucose\n",
       "    ⋮    │            ⋮                ⋮          ⋮                 ⋮          ⋱\n",
       " 1911162 │ znuCp                     genome  0.00130243   Cold Shock (1h at 10 ⋯\n",
       " 1911163 │ znuCp                     genome  0.00112094   Cold Shock (1h at 10\n",
       " 1911164 │ znuCp                     genome  0.00128536   Cold Shock (1h at 10\n",
       " 1911165 │ znuCp                     genome  0.000608792  Cold Shock (1h at 10\n",
       " 1911166 │ znuCp                     genome  0.000546956  Cold Shock (1h at 10 ⋯\n",
       " 1911167 │ znuCp                     genome  0.000577391  Cold Shock (1h at 10\n",
       " 1911168 │ znuCp                     genome  0.000473337  Cold Shock (1h at 10\n",
       "\u001b[36m                                              5 columns and 1911153 rows omitted\u001b[0m"
      ]
     },
     "metadata": {},
     "output_type": "display_data"
    }
   ],
   "source": [
    "rename!(df_footprints, :footprint => :mut_info)"
   ]
  },
  {
   "cell_type": "code",
   "execution_count": 33,
   "id": "2328e031-146c-4869-bb51-852aeb580fdc",
   "metadata": {},
   "outputs": [
    {
     "data": {
      "text/html": [
       "<div><div style = \"float: left;\"><span>1911168×10 DataFrame</span></div><div style = \"float: right;\"><span style = \"font-style: italic;\">1911143 rows omitted</span></div><div style = \"clear: both;\"></div></div><div class = \"data-frame\" style = \"overflow-x: scroll;\"><table class = \"data-frame\" style = \"margin-bottom: 6px;\"><thead><tr class = \"header\"><th class = \"rowNumber\" style = \"font-weight: bold; text-align: right;\">Row</th><th style = \"text-align: left;\">promoter</th><th style = \"text-align: left;\">source</th><th style = \"text-align: left;\">mut_info</th><th style = \"text-align: left;\">growth_condition</th><th style = \"text-align: left;\">footprint_test</th><th style = \"text-align: left;\">footprint</th><th style = \"text-align: left;\">growth_condition_info</th><th style = \"text-align: left;\">replicate</th><th style = \"text-align: left;\">pos</th><th style = \"text-align: left;\">d</th></tr><tr class = \"subheader headerLastRow\"><th class = \"rowNumber\" style = \"font-weight: bold; text-align: right;\"></th><th title = \"String\" style = \"text-align: left;\">String</th><th title = \"String\" style = \"text-align: left;\">String</th><th title = \"Float64\" style = \"text-align: left;\">Float64</th><th title = \"String\" style = \"text-align: left;\">String</th><th title = \"Float64\" style = \"text-align: left;\">Float64</th><th title = \"Float64\" style = \"text-align: left;\">Float64</th><th title = \"String\" style = \"text-align: left;\">String</th><th title = \"Int64\" style = \"text-align: left;\">Int64</th><th title = \"Int64\" style = \"text-align: left;\">Int64</th><th title = \"String\" style = \"text-align: left;\">String</th></tr></thead><tbody><tr><td class = \"rowNumber\" style = \"font-weight: bold; text-align: right;\">1</td><td style = \"text-align: left;\">TSS_1414_storz_regulondb</td><td style = \"text-align: left;\">genome</td><td style = \"text-align: right;\">0.00015366</td><td style = \"text-align: left;\">Glucose</td><td style = \"text-align: right;\">0.0</td><td style = \"text-align: right;\">0.0</td><td style = \"text-align: left;\">M9 Minimal Media with 0.5% Glucose</td><td style = \"text-align: right;\">1</td><td style = \"text-align: right;\">-115</td><td style = \"text-align: left;\">0</td></tr><tr><td class = \"rowNumber\" style = \"font-weight: bold; text-align: right;\">2</td><td style = \"text-align: left;\">TSS_1414_storz_regulondb</td><td style = \"text-align: left;\">genome</td><td style = \"text-align: right;\">0.000311656</td><td style = \"text-align: left;\">Glucose</td><td style = \"text-align: right;\">0.0</td><td style = \"text-align: right;\">0.0</td><td style = \"text-align: left;\">M9 Minimal Media with 0.5% Glucose</td><td style = \"text-align: right;\">1</td><td style = \"text-align: right;\">-114</td><td style = \"text-align: left;\">0</td></tr><tr><td class = \"rowNumber\" style = \"font-weight: bold; text-align: right;\">3</td><td style = \"text-align: left;\">TSS_1414_storz_regulondb</td><td style = \"text-align: left;\">genome</td><td style = \"text-align: right;\">0.000240944</td><td style = \"text-align: left;\">Glucose</td><td style = \"text-align: right;\">0.0</td><td style = \"text-align: right;\">0.0</td><td style = \"text-align: left;\">M9 Minimal Media with 0.5% Glucose</td><td style = \"text-align: right;\">1</td><td style = \"text-align: right;\">-113</td><td style = \"text-align: left;\">0</td></tr><tr><td class = \"rowNumber\" style = \"font-weight: bold; text-align: right;\">4</td><td style = \"text-align: left;\">TSS_1414_storz_regulondb</td><td style = \"text-align: left;\">genome</td><td style = \"text-align: right;\">1.37081e-5</td><td style = \"text-align: left;\">Glucose</td><td style = \"text-align: right;\">0.0</td><td style = \"text-align: right;\">0.0</td><td style = \"text-align: left;\">M9 Minimal Media with 0.5% Glucose</td><td style = \"text-align: right;\">1</td><td style = \"text-align: right;\">-112</td><td style = \"text-align: left;\">0</td></tr><tr><td class = \"rowNumber\" style = \"font-weight: bold; text-align: right;\">5</td><td style = \"text-align: left;\">TSS_1414_storz_regulondb</td><td style = \"text-align: left;\">genome</td><td style = \"text-align: right;\">1.37036e-6</td><td style = \"text-align: left;\">Glucose</td><td style = \"text-align: right;\">0.0</td><td style = \"text-align: right;\">0.0</td><td style = \"text-align: left;\">M9 Minimal Media with 0.5% Glucose</td><td style = \"text-align: right;\">1</td><td style = \"text-align: right;\">-111</td><td style = \"text-align: left;\">0</td></tr><tr><td class = \"rowNumber\" style = \"font-weight: bold; text-align: right;\">6</td><td style = \"text-align: left;\">TSS_1414_storz_regulondb</td><td style = \"text-align: left;\">genome</td><td style = \"text-align: right;\">0.000729594</td><td style = \"text-align: left;\">Glucose</td><td style = \"text-align: right;\">0.0</td><td style = \"text-align: right;\">0.0</td><td style = \"text-align: left;\">M9 Minimal Media with 0.5% Glucose</td><td style = \"text-align: right;\">1</td><td style = \"text-align: right;\">-110</td><td style = \"text-align: left;\">0</td></tr><tr><td class = \"rowNumber\" style = \"font-weight: bold; text-align: right;\">7</td><td style = \"text-align: left;\">TSS_1414_storz_regulondb</td><td style = \"text-align: left;\">genome</td><td style = \"text-align: right;\">5.42769e-8</td><td style = \"text-align: left;\">Glucose</td><td style = \"text-align: right;\">0.0</td><td style = \"text-align: right;\">0.0</td><td style = \"text-align: left;\">M9 Minimal Media with 0.5% Glucose</td><td style = \"text-align: right;\">1</td><td style = \"text-align: right;\">-109</td><td style = \"text-align: left;\">0</td></tr><tr><td class = \"rowNumber\" style = \"font-weight: bold; text-align: right;\">8</td><td style = \"text-align: left;\">TSS_1414_storz_regulondb</td><td style = \"text-align: left;\">genome</td><td style = \"text-align: right;\">0.000187899</td><td style = \"text-align: left;\">Glucose</td><td style = \"text-align: right;\">0.0</td><td style = \"text-align: right;\">0.0</td><td style = \"text-align: left;\">M9 Minimal Media with 0.5% Glucose</td><td style = \"text-align: right;\">1</td><td style = \"text-align: right;\">-108</td><td style = \"text-align: left;\">0</td></tr><tr><td class = \"rowNumber\" style = \"font-weight: bold; text-align: right;\">9</td><td style = \"text-align: left;\">TSS_1414_storz_regulondb</td><td style = \"text-align: left;\">genome</td><td style = \"text-align: right;\">0.000202271</td><td style = \"text-align: left;\">Glucose</td><td style = \"text-align: right;\">0.0</td><td style = \"text-align: right;\">0.0</td><td style = \"text-align: left;\">M9 Minimal Media with 0.5% Glucose</td><td style = \"text-align: right;\">1</td><td style = \"text-align: right;\">-107</td><td style = \"text-align: left;\">0</td></tr><tr><td class = \"rowNumber\" style = \"font-weight: bold; text-align: right;\">10</td><td style = \"text-align: left;\">TSS_1414_storz_regulondb</td><td style = \"text-align: left;\">genome</td><td style = \"text-align: right;\">3.84158e-5</td><td style = \"text-align: left;\">Glucose</td><td style = \"text-align: right;\">0.0</td><td style = \"text-align: right;\">0.0</td><td style = \"text-align: left;\">M9 Minimal Media with 0.5% Glucose</td><td style = \"text-align: right;\">1</td><td style = \"text-align: right;\">-106</td><td style = \"text-align: left;\">0</td></tr><tr><td class = \"rowNumber\" style = \"font-weight: bold; text-align: right;\">11</td><td style = \"text-align: left;\">TSS_1414_storz_regulondb</td><td style = \"text-align: left;\">genome</td><td style = \"text-align: right;\">0.000690424</td><td style = \"text-align: left;\">Glucose</td><td style = \"text-align: right;\">0.0</td><td style = \"text-align: right;\">0.0</td><td style = \"text-align: left;\">M9 Minimal Media with 0.5% Glucose</td><td style = \"text-align: right;\">1</td><td style = \"text-align: right;\">-105</td><td style = \"text-align: left;\">0</td></tr><tr><td class = \"rowNumber\" style = \"font-weight: bold; text-align: right;\">12</td><td style = \"text-align: left;\">TSS_1414_storz_regulondb</td><td style = \"text-align: left;\">genome</td><td style = \"text-align: right;\">0.000201744</td><td style = \"text-align: left;\">Glucose</td><td style = \"text-align: right;\">0.0</td><td style = \"text-align: right;\">0.0</td><td style = \"text-align: left;\">M9 Minimal Media with 0.5% Glucose</td><td style = \"text-align: right;\">1</td><td style = \"text-align: right;\">-104</td><td style = \"text-align: left;\">0</td></tr><tr><td class = \"rowNumber\" style = \"font-weight: bold; text-align: right;\">13</td><td style = \"text-align: left;\">TSS_1414_storz_regulondb</td><td style = \"text-align: left;\">genome</td><td style = \"text-align: right;\">6.17088e-7</td><td style = \"text-align: left;\">Glucose</td><td style = \"text-align: right;\">0.0</td><td style = \"text-align: right;\">0.0</td><td style = \"text-align: left;\">M9 Minimal Media with 0.5% Glucose</td><td style = \"text-align: right;\">1</td><td style = \"text-align: right;\">-103</td><td style = \"text-align: left;\">0</td></tr><tr><td style = \"text-align: right;\">&vellip;</td><td style = \"text-align: right;\">&vellip;</td><td style = \"text-align: right;\">&vellip;</td><td style = \"text-align: right;\">&vellip;</td><td style = \"text-align: right;\">&vellip;</td><td style = \"text-align: right;\">&vellip;</td><td style = \"text-align: right;\">&vellip;</td><td style = \"text-align: right;\">&vellip;</td><td style = \"text-align: right;\">&vellip;</td><td style = \"text-align: right;\">&vellip;</td><td style = \"text-align: right;\">&vellip;</td></tr><tr><td class = \"rowNumber\" style = \"font-weight: bold; text-align: right;\">1911157</td><td style = \"text-align: left;\">znuCp</td><td style = \"text-align: left;\">genome</td><td style = \"text-align: right;\">0.000432387</td><td style = \"text-align: left;\">Cold Shock (1h at 10C)</td><td style = \"text-align: right;\">0.0</td><td style = \"text-align: right;\">0.0</td><td style = \"text-align: left;\">M9 Minimal Media with 0.5% Glucose with 1h at 10C in steady state</td><td style = \"text-align: right;\">1</td><td style = \"text-align: right;\">31</td><td style = \"text-align: left;\">2</td></tr><tr><td class = \"rowNumber\" style = \"font-weight: bold; text-align: right;\">1911158</td><td style = \"text-align: left;\">znuCp</td><td style = \"text-align: left;\">genome</td><td style = \"text-align: right;\">0.000528695</td><td style = \"text-align: left;\">Cold Shock (1h at 10C)</td><td style = \"text-align: right;\">0.0</td><td style = \"text-align: right;\">0.0</td><td style = \"text-align: left;\">M9 Minimal Media with 0.5% Glucose with 1h at 10C in steady state</td><td style = \"text-align: right;\">1</td><td style = \"text-align: right;\">32</td><td style = \"text-align: left;\">2</td></tr><tr><td class = \"rowNumber\" style = \"font-weight: bold; text-align: right;\">1911159</td><td style = \"text-align: left;\">znuCp</td><td style = \"text-align: left;\">genome</td><td style = \"text-align: right;\">0.000618039</td><td style = \"text-align: left;\">Cold Shock (1h at 10C)</td><td style = \"text-align: right;\">0.0</td><td style = \"text-align: right;\">0.0</td><td style = \"text-align: left;\">M9 Minimal Media with 0.5% Glucose with 1h at 10C in steady state</td><td style = \"text-align: right;\">1</td><td style = \"text-align: right;\">33</td><td style = \"text-align: left;\">2</td></tr><tr><td class = \"rowNumber\" style = \"font-weight: bold; text-align: right;\">1911160</td><td style = \"text-align: left;\">znuCp</td><td style = \"text-align: left;\">genome</td><td style = \"text-align: right;\">0.00126957</td><td style = \"text-align: left;\">Cold Shock (1h at 10C)</td><td style = \"text-align: right;\">0.0</td><td style = \"text-align: right;\">0.0</td><td style = \"text-align: left;\">M9 Minimal Media with 0.5% Glucose with 1h at 10C in steady state</td><td style = \"text-align: right;\">1</td><td style = \"text-align: right;\">34</td><td style = \"text-align: left;\">2</td></tr><tr><td class = \"rowNumber\" style = \"font-weight: bold; text-align: right;\">1911161</td><td style = \"text-align: left;\">znuCp</td><td style = \"text-align: left;\">genome</td><td style = \"text-align: right;\">0.00133845</td><td style = \"text-align: left;\">Cold Shock (1h at 10C)</td><td style = \"text-align: right;\">0.0</td><td style = \"text-align: right;\">0.0</td><td style = \"text-align: left;\">M9 Minimal Media with 0.5% Glucose with 1h at 10C in steady state</td><td style = \"text-align: right;\">1</td><td style = \"text-align: right;\">35</td><td style = \"text-align: left;\">2</td></tr><tr><td class = \"rowNumber\" style = \"font-weight: bold; text-align: right;\">1911162</td><td style = \"text-align: left;\">znuCp</td><td style = \"text-align: left;\">genome</td><td style = \"text-align: right;\">0.00130243</td><td style = \"text-align: left;\">Cold Shock (1h at 10C)</td><td style = \"text-align: right;\">0.0</td><td style = \"text-align: right;\">0.0</td><td style = \"text-align: left;\">M9 Minimal Media with 0.5% Glucose with 1h at 10C in steady state</td><td style = \"text-align: right;\">1</td><td style = \"text-align: right;\">36</td><td style = \"text-align: left;\">2</td></tr><tr><td class = \"rowNumber\" style = \"font-weight: bold; text-align: right;\">1911163</td><td style = \"text-align: left;\">znuCp</td><td style = \"text-align: left;\">genome</td><td style = \"text-align: right;\">0.00112094</td><td style = \"text-align: left;\">Cold Shock (1h at 10C)</td><td style = \"text-align: right;\">0.0</td><td style = \"text-align: right;\">0.0</td><td style = \"text-align: left;\">M9 Minimal Media with 0.5% Glucose with 1h at 10C in steady state</td><td style = \"text-align: right;\">1</td><td style = \"text-align: right;\">37</td><td style = \"text-align: left;\">2</td></tr><tr><td class = \"rowNumber\" style = \"font-weight: bold; text-align: right;\">1911164</td><td style = \"text-align: left;\">znuCp</td><td style = \"text-align: left;\">genome</td><td style = \"text-align: right;\">0.00128536</td><td style = \"text-align: left;\">Cold Shock (1h at 10C)</td><td style = \"text-align: right;\">0.0</td><td style = \"text-align: right;\">0.0</td><td style = \"text-align: left;\">M9 Minimal Media with 0.5% Glucose with 1h at 10C in steady state</td><td style = \"text-align: right;\">1</td><td style = \"text-align: right;\">38</td><td style = \"text-align: left;\">2</td></tr><tr><td class = \"rowNumber\" style = \"font-weight: bold; text-align: right;\">1911165</td><td style = \"text-align: left;\">znuCp</td><td style = \"text-align: left;\">genome</td><td style = \"text-align: right;\">0.000608792</td><td style = \"text-align: left;\">Cold Shock (1h at 10C)</td><td style = \"text-align: right;\">0.0</td><td style = \"text-align: right;\">0.0</td><td style = \"text-align: left;\">M9 Minimal Media with 0.5% Glucose with 1h at 10C in steady state</td><td style = \"text-align: right;\">1</td><td style = \"text-align: right;\">39</td><td style = \"text-align: left;\">2</td></tr><tr><td class = \"rowNumber\" style = \"font-weight: bold; text-align: right;\">1911166</td><td style = \"text-align: left;\">znuCp</td><td style = \"text-align: left;\">genome</td><td style = \"text-align: right;\">0.000546956</td><td style = \"text-align: left;\">Cold Shock (1h at 10C)</td><td style = \"text-align: right;\">0.0</td><td style = \"text-align: right;\">0.0</td><td style = \"text-align: left;\">M9 Minimal Media with 0.5% Glucose with 1h at 10C in steady state</td><td style = \"text-align: right;\">1</td><td style = \"text-align: right;\">40</td><td style = \"text-align: left;\">2</td></tr><tr><td class = \"rowNumber\" style = \"font-weight: bold; text-align: right;\">1911167</td><td style = \"text-align: left;\">znuCp</td><td style = \"text-align: left;\">genome</td><td style = \"text-align: right;\">0.000577391</td><td style = \"text-align: left;\">Cold Shock (1h at 10C)</td><td style = \"text-align: right;\">0.0</td><td style = \"text-align: right;\">0.0</td><td style = \"text-align: left;\">M9 Minimal Media with 0.5% Glucose with 1h at 10C in steady state</td><td style = \"text-align: right;\">1</td><td style = \"text-align: right;\">41</td><td style = \"text-align: left;\">2</td></tr><tr><td class = \"rowNumber\" style = \"font-weight: bold; text-align: right;\">1911168</td><td style = \"text-align: left;\">znuCp</td><td style = \"text-align: left;\">genome</td><td style = \"text-align: right;\">0.000473337</td><td style = \"text-align: left;\">Cold Shock (1h at 10C)</td><td style = \"text-align: right;\">0.0</td><td style = \"text-align: right;\">0.0</td><td style = \"text-align: left;\">M9 Minimal Media with 0.5% Glucose with 1h at 10C in steady state</td><td style = \"text-align: right;\">1</td><td style = \"text-align: right;\">42</td><td style = \"text-align: left;\">2</td></tr></tbody></table></div>"
      ],
      "text/latex": [
       "\\begin{tabular}{r|cccccc}\n",
       "\t& promoter & source & mut\\_info & growth\\_condition & footprint\\_test & \\\\\n",
       "\t\\hline\n",
       "\t& String & String & Float64 & String & Float64 & \\\\\n",
       "\t\\hline\n",
       "\t1 & TSS\\_1414\\_storz\\_regulondb & genome & 0.00015366 & Glucose & 0.0 & $\\dots$ \\\\\n",
       "\t2 & TSS\\_1414\\_storz\\_regulondb & genome & 0.000311656 & Glucose & 0.0 & $\\dots$ \\\\\n",
       "\t3 & TSS\\_1414\\_storz\\_regulondb & genome & 0.000240944 & Glucose & 0.0 & $\\dots$ \\\\\n",
       "\t4 & TSS\\_1414\\_storz\\_regulondb & genome & 1.37081e-5 & Glucose & 0.0 & $\\dots$ \\\\\n",
       "\t5 & TSS\\_1414\\_storz\\_regulondb & genome & 1.37036e-6 & Glucose & 0.0 & $\\dots$ \\\\\n",
       "\t6 & TSS\\_1414\\_storz\\_regulondb & genome & 0.000729594 & Glucose & 0.0 & $\\dots$ \\\\\n",
       "\t7 & TSS\\_1414\\_storz\\_regulondb & genome & 5.42769e-8 & Glucose & 0.0 & $\\dots$ \\\\\n",
       "\t8 & TSS\\_1414\\_storz\\_regulondb & genome & 0.000187899 & Glucose & 0.0 & $\\dots$ \\\\\n",
       "\t9 & TSS\\_1414\\_storz\\_regulondb & genome & 0.000202271 & Glucose & 0.0 & $\\dots$ \\\\\n",
       "\t10 & TSS\\_1414\\_storz\\_regulondb & genome & 3.84158e-5 & Glucose & 0.0 & $\\dots$ \\\\\n",
       "\t11 & TSS\\_1414\\_storz\\_regulondb & genome & 0.000690424 & Glucose & 0.0 & $\\dots$ \\\\\n",
       "\t12 & TSS\\_1414\\_storz\\_regulondb & genome & 0.000201744 & Glucose & 0.0 & $\\dots$ \\\\\n",
       "\t13 & TSS\\_1414\\_storz\\_regulondb & genome & 6.17088e-7 & Glucose & 0.0 & $\\dots$ \\\\\n",
       "\t14 & TSS\\_1414\\_storz\\_regulondb & genome & 6.77051e-5 & Glucose & 0.0 & $\\dots$ \\\\\n",
       "\t15 & TSS\\_1414\\_storz\\_regulondb & genome & 2.27409e-5 & Glucose & 0.0 & $\\dots$ \\\\\n",
       "\t16 & TSS\\_1414\\_storz\\_regulondb & genome & 0.000320349 & Glucose & 0.0 & $\\dots$ \\\\\n",
       "\t17 & TSS\\_1414\\_storz\\_regulondb & genome & 2.86912e-5 & Glucose & 0.0 & $\\dots$ \\\\\n",
       "\t18 & TSS\\_1414\\_storz\\_regulondb & genome & 3.95463e-6 & Glucose & 0.0 & $\\dots$ \\\\\n",
       "\t19 & TSS\\_1414\\_storz\\_regulondb & genome & 1.39873e-5 & Glucose & 0.0 & $\\dots$ \\\\\n",
       "\t20 & TSS\\_1414\\_storz\\_regulondb & genome & 3.33087e-6 & Glucose & 0.0 & $\\dots$ \\\\\n",
       "\t21 & TSS\\_1414\\_storz\\_regulondb & genome & 5.83963e-5 & Glucose & 0.0 & $\\dots$ \\\\\n",
       "\t22 & TSS\\_1414\\_storz\\_regulondb & genome & 8.339e-5 & Glucose & 0.0 & $\\dots$ \\\\\n",
       "\t23 & TSS\\_1414\\_storz\\_regulondb & genome & 1.76715e-5 & Glucose & 0.0 & $\\dots$ \\\\\n",
       "\t24 & TSS\\_1414\\_storz\\_regulondb & genome & 0.000215943 & Glucose & 0.0 & $\\dots$ \\\\\n",
       "\t$\\dots$ & $\\dots$ & $\\dots$ & $\\dots$ & $\\dots$ & $\\dots$ &  \\\\\n",
       "\\end{tabular}\n"
      ],
      "text/plain": [
       "\u001b[1m1911168×10 DataFrame\u001b[0m\n",
       "\u001b[1m     Row \u001b[0m│\u001b[1m promoter                 \u001b[0m\u001b[1m source \u001b[0m\u001b[1m mut_info    \u001b[0m\u001b[1m growth_condition    \u001b[0m ⋯\n",
       "         │\u001b[90m String                   \u001b[0m\u001b[90m String \u001b[0m\u001b[90m Float64     \u001b[0m\u001b[90m String              \u001b[0m ⋯\n",
       "─────────┼──────────────────────────────────────────────────────────────────────\n",
       "       1 │ TSS_1414_storz_regulondb  genome  0.00015366   Glucose              ⋯\n",
       "       2 │ TSS_1414_storz_regulondb  genome  0.000311656  Glucose\n",
       "       3 │ TSS_1414_storz_regulondb  genome  0.000240944  Glucose\n",
       "       4 │ TSS_1414_storz_regulondb  genome  1.37081e-5   Glucose\n",
       "       5 │ TSS_1414_storz_regulondb  genome  1.37036e-6   Glucose              ⋯\n",
       "       6 │ TSS_1414_storz_regulondb  genome  0.000729594  Glucose\n",
       "       7 │ TSS_1414_storz_regulondb  genome  5.42769e-8   Glucose\n",
       "       8 │ TSS_1414_storz_regulondb  genome  0.000187899  Glucose\n",
       "    ⋮    │            ⋮                ⋮          ⋮                 ⋮          ⋱\n",
       " 1911162 │ znuCp                     genome  0.00130243   Cold Shock (1h at 10 ⋯\n",
       " 1911163 │ znuCp                     genome  0.00112094   Cold Shock (1h at 10\n",
       " 1911164 │ znuCp                     genome  0.00128536   Cold Shock (1h at 10\n",
       " 1911165 │ znuCp                     genome  0.000608792  Cold Shock (1h at 10\n",
       " 1911166 │ znuCp                     genome  0.000546956  Cold Shock (1h at 10 ⋯\n",
       " 1911167 │ znuCp                     genome  0.000577391  Cold Shock (1h at 10\n",
       " 1911168 │ znuCp                     genome  0.000473337  Cold Shock (1h at 10\n",
       "\u001b[36m                                              7 columns and 1911153 rows omitted\u001b[0m"
      ]
     },
     "metadata": {},
     "output_type": "display_data"
    }
   ],
   "source": [
    "insertcols!(df_footprints, 5, :footprint => zeros(nrow(df_footprints)))\n",
    "insertcols!(df_footprints, 5, :footprint_test => zeros(nrow(df_footprints)))"
   ]
  },
  {
   "cell_type": "code",
   "execution_count": 34,
   "id": "e6038d23-61ea-4327-9cde-6015a96a9d89",
   "metadata": {},
   "outputs": [
    {
     "data": {
      "text/html": [
       "<div><div style = \"float: left;\"><span>23040×9 DataFrame</span></div><div style = \"float: right;\"><span style = \"font-style: italic;\">23015 rows omitted</span></div><div style = \"clear: both;\"></div></div><div class = \"data-frame\" style = \"overflow-x: scroll;\"><table class = \"data-frame\" style = \"margin-bottom: 6px;\"><thead><tr class = \"header\"><th class = \"rowNumber\" style = \"font-weight: bold; text-align: right;\">Row</th><th style = \"text-align: left;\">promoter</th><th style = \"text-align: left;\">source</th><th style = \"text-align: left;\">expression_shift</th><th style = \"text-align: left;\">growth_condition</th><th style = \"text-align: left;\">growth_condition_info</th><th style = \"text-align: left;\">replicate</th><th style = \"text-align: left;\">pos</th><th style = \"text-align: left;\">base</th><th style = \"text-align: left;\">wt_base</th></tr><tr class = \"subheader headerLastRow\"><th class = \"rowNumber\" style = \"font-weight: bold; text-align: right;\"></th><th title = \"String\" style = \"text-align: left;\">String</th><th title = \"String\" style = \"text-align: left;\">String</th><th title = \"Float64\" style = \"text-align: left;\">Float64</th><th title = \"String\" style = \"text-align: left;\">String</th><th title = \"String\" style = \"text-align: left;\">String</th><th title = \"Int64\" style = \"text-align: left;\">Int64</th><th title = \"Int64\" style = \"text-align: left;\">Int64</th><th title = \"Int64\" style = \"text-align: left;\">Int64</th><th title = \"Char\" style = \"text-align: left;\">Char</th></tr></thead><tbody><tr><td class = \"rowNumber\" style = \"font-weight: bold; text-align: right;\">1</td><td style = \"text-align: left;\">araCp</td><td style = \"text-align: left;\">genome</td><td style = \"text-align: right;\">-0.0502675</td><td style = \"text-align: left;\">Glucose</td><td style = \"text-align: left;\">M9 Minimal Media with 0.5% Glucose</td><td style = \"text-align: right;\">1</td><td style = \"text-align: right;\">-115</td><td style = \"text-align: right;\">1</td><td style = \"text-align: left;\">G</td></tr><tr><td class = \"rowNumber\" style = \"font-weight: bold; text-align: right;\">2</td><td style = \"text-align: left;\">araCp</td><td style = \"text-align: left;\">genome</td><td style = \"text-align: right;\">0.278936</td><td style = \"text-align: left;\">Glucose</td><td style = \"text-align: left;\">M9 Minimal Media with 0.5% Glucose</td><td style = \"text-align: right;\">1</td><td style = \"text-align: right;\">-115</td><td style = \"text-align: right;\">2</td><td style = \"text-align: left;\">G</td></tr><tr><td class = \"rowNumber\" style = \"font-weight: bold; text-align: right;\">3</td><td style = \"text-align: left;\">araCp</td><td style = \"text-align: left;\">genome</td><td style = \"text-align: right;\">0.0</td><td style = \"text-align: left;\">Glucose</td><td style = \"text-align: left;\">M9 Minimal Media with 0.5% Glucose</td><td style = \"text-align: right;\">1</td><td style = \"text-align: right;\">-115</td><td style = \"text-align: right;\">3</td><td style = \"text-align: left;\">G</td></tr><tr><td class = \"rowNumber\" style = \"font-weight: bold; text-align: right;\">4</td><td style = \"text-align: left;\">araCp</td><td style = \"text-align: left;\">genome</td><td style = \"text-align: right;\">-0.04113</td><td style = \"text-align: left;\">Glucose</td><td style = \"text-align: left;\">M9 Minimal Media with 0.5% Glucose</td><td style = \"text-align: right;\">1</td><td style = \"text-align: right;\">-115</td><td style = \"text-align: right;\">4</td><td style = \"text-align: left;\">G</td></tr><tr><td class = \"rowNumber\" style = \"font-weight: bold; text-align: right;\">5</td><td style = \"text-align: left;\">araCp</td><td style = \"text-align: left;\">genome</td><td style = \"text-align: right;\">-0.0782516</td><td style = \"text-align: left;\">Glucose</td><td style = \"text-align: left;\">M9 Minimal Media with 0.5% Glucose</td><td style = \"text-align: right;\">1</td><td style = \"text-align: right;\">-114</td><td style = \"text-align: right;\">1</td><td style = \"text-align: left;\">T</td></tr><tr><td class = \"rowNumber\" style = \"font-weight: bold; text-align: right;\">6</td><td style = \"text-align: left;\">araCp</td><td style = \"text-align: left;\">genome</td><td style = \"text-align: right;\">-0.0421389</td><td style = \"text-align: left;\">Glucose</td><td style = \"text-align: left;\">M9 Minimal Media with 0.5% Glucose</td><td style = \"text-align: right;\">1</td><td style = \"text-align: right;\">-114</td><td style = \"text-align: right;\">2</td><td style = \"text-align: left;\">T</td></tr><tr><td class = \"rowNumber\" style = \"font-weight: bold; text-align: right;\">7</td><td style = \"text-align: left;\">araCp</td><td style = \"text-align: left;\">genome</td><td style = \"text-align: right;\">0.212821</td><td style = \"text-align: left;\">Glucose</td><td style = \"text-align: left;\">M9 Minimal Media with 0.5% Glucose</td><td style = \"text-align: right;\">1</td><td style = \"text-align: right;\">-114</td><td style = \"text-align: right;\">3</td><td style = \"text-align: left;\">T</td></tr><tr><td class = \"rowNumber\" style = \"font-weight: bold; text-align: right;\">8</td><td style = \"text-align: left;\">araCp</td><td style = \"text-align: left;\">genome</td><td style = \"text-align: right;\">0.0</td><td style = \"text-align: left;\">Glucose</td><td style = \"text-align: left;\">M9 Minimal Media with 0.5% Glucose</td><td style = \"text-align: right;\">1</td><td style = \"text-align: right;\">-114</td><td style = \"text-align: right;\">4</td><td style = \"text-align: left;\">T</td></tr><tr><td class = \"rowNumber\" style = \"font-weight: bold; text-align: right;\">9</td><td style = \"text-align: left;\">araCp</td><td style = \"text-align: left;\">genome</td><td style = \"text-align: right;\">0.0568218</td><td style = \"text-align: left;\">Glucose</td><td style = \"text-align: left;\">M9 Minimal Media with 0.5% Glucose</td><td style = \"text-align: right;\">1</td><td style = \"text-align: right;\">-113</td><td style = \"text-align: right;\">1</td><td style = \"text-align: left;\">C</td></tr><tr><td class = \"rowNumber\" style = \"font-weight: bold; text-align: right;\">10</td><td style = \"text-align: left;\">araCp</td><td style = \"text-align: left;\">genome</td><td style = \"text-align: right;\">0.0</td><td style = \"text-align: left;\">Glucose</td><td style = \"text-align: left;\">M9 Minimal Media with 0.5% Glucose</td><td style = \"text-align: right;\">1</td><td style = \"text-align: right;\">-113</td><td style = \"text-align: right;\">2</td><td style = \"text-align: left;\">C</td></tr><tr><td class = \"rowNumber\" style = \"font-weight: bold; text-align: right;\">11</td><td style = \"text-align: left;\">araCp</td><td style = \"text-align: left;\">genome</td><td style = \"text-align: right;\">0.0504061</td><td style = \"text-align: left;\">Glucose</td><td style = \"text-align: left;\">M9 Minimal Media with 0.5% Glucose</td><td style = \"text-align: right;\">1</td><td style = \"text-align: right;\">-113</td><td style = \"text-align: right;\">3</td><td style = \"text-align: left;\">C</td></tr><tr><td class = \"rowNumber\" style = \"font-weight: bold; text-align: right;\">12</td><td style = \"text-align: left;\">araCp</td><td style = \"text-align: left;\">genome</td><td style = \"text-align: right;\">-0.0911624</td><td style = \"text-align: left;\">Glucose</td><td style = \"text-align: left;\">M9 Minimal Media with 0.5% Glucose</td><td style = \"text-align: right;\">1</td><td style = \"text-align: right;\">-113</td><td style = \"text-align: right;\">4</td><td style = \"text-align: left;\">C</td></tr><tr><td class = \"rowNumber\" style = \"font-weight: bold; text-align: right;\">13</td><td style = \"text-align: left;\">araCp</td><td style = \"text-align: left;\">genome</td><td style = \"text-align: right;\">0.0</td><td style = \"text-align: left;\">Glucose</td><td style = \"text-align: left;\">M9 Minimal Media with 0.5% Glucose</td><td style = \"text-align: right;\">1</td><td style = \"text-align: right;\">-112</td><td style = \"text-align: right;\">1</td><td style = \"text-align: left;\">A</td></tr><tr><td style = \"text-align: right;\">&vellip;</td><td style = \"text-align: right;\">&vellip;</td><td style = \"text-align: right;\">&vellip;</td><td style = \"text-align: right;\">&vellip;</td><td style = \"text-align: right;\">&vellip;</td><td style = \"text-align: right;\">&vellip;</td><td style = \"text-align: right;\">&vellip;</td><td style = \"text-align: right;\">&vellip;</td><td style = \"text-align: right;\">&vellip;</td><td style = \"text-align: right;\">&vellip;</td></tr><tr><td class = \"rowNumber\" style = \"font-weight: bold; text-align: right;\">23029</td><td style = \"text-align: left;\">araCp</td><td style = \"text-align: left;\">genome</td><td style = \"text-align: right;\">-0.0740547</td><td style = \"text-align: left;\">Cold Shock (1h at 10C)</td><td style = \"text-align: left;\">M9 Minimal Media with 0.5% Glucose with 1h at 10C in steady state</td><td style = \"text-align: right;\">1</td><td style = \"text-align: right;\">42</td><td style = \"text-align: right;\">1</td><td style = \"text-align: left;\">T</td></tr><tr><td class = \"rowNumber\" style = \"font-weight: bold; text-align: right;\">23030</td><td style = \"text-align: left;\">araCp</td><td style = \"text-align: left;\">genome</td><td style = \"text-align: right;\">0.360106</td><td style = \"text-align: left;\">Cold Shock (1h at 10C)</td><td style = \"text-align: left;\">M9 Minimal Media with 0.5% Glucose with 1h at 10C in steady state</td><td style = \"text-align: right;\">1</td><td style = \"text-align: right;\">42</td><td style = \"text-align: right;\">2</td><td style = \"text-align: left;\">T</td></tr><tr><td class = \"rowNumber\" style = \"font-weight: bold; text-align: right;\">23031</td><td style = \"text-align: left;\">araCp</td><td style = \"text-align: left;\">genome</td><td style = \"text-align: right;\">0.193004</td><td style = \"text-align: left;\">Cold Shock (1h at 10C)</td><td style = \"text-align: left;\">M9 Minimal Media with 0.5% Glucose with 1h at 10C in steady state</td><td style = \"text-align: right;\">1</td><td style = \"text-align: right;\">42</td><td style = \"text-align: right;\">3</td><td style = \"text-align: left;\">T</td></tr><tr><td class = \"rowNumber\" style = \"font-weight: bold; text-align: right;\">23032</td><td style = \"text-align: left;\">araCp</td><td style = \"text-align: left;\">genome</td><td style = \"text-align: right;\">0.0</td><td style = \"text-align: left;\">Cold Shock (1h at 10C)</td><td style = \"text-align: left;\">M9 Minimal Media with 0.5% Glucose with 1h at 10C in steady state</td><td style = \"text-align: right;\">1</td><td style = \"text-align: right;\">42</td><td style = \"text-align: right;\">4</td><td style = \"text-align: left;\">T</td></tr><tr><td class = \"rowNumber\" style = \"font-weight: bold; text-align: right;\">23033</td><td style = \"text-align: left;\">araCp</td><td style = \"text-align: left;\">genome</td><td style = \"text-align: right;\">-0.0359114</td><td style = \"text-align: left;\">Cold Shock (1h at 10C)</td><td style = \"text-align: left;\">M9 Minimal Media with 0.5% Glucose with 1h at 10C in steady state</td><td style = \"text-align: right;\">1</td><td style = \"text-align: right;\">43</td><td style = \"text-align: right;\">1</td><td style = \"text-align: left;\">T</td></tr><tr><td class = \"rowNumber\" style = \"font-weight: bold; text-align: right;\">23034</td><td style = \"text-align: left;\">araCp</td><td style = \"text-align: left;\">genome</td><td style = \"text-align: right;\">-0.054103</td><td style = \"text-align: left;\">Cold Shock (1h at 10C)</td><td style = \"text-align: left;\">M9 Minimal Media with 0.5% Glucose with 1h at 10C in steady state</td><td style = \"text-align: right;\">1</td><td style = \"text-align: right;\">43</td><td style = \"text-align: right;\">2</td><td style = \"text-align: left;\">T</td></tr><tr><td class = \"rowNumber\" style = \"font-weight: bold; text-align: right;\">23035</td><td style = \"text-align: left;\">araCp</td><td style = \"text-align: left;\">genome</td><td style = \"text-align: right;\">0.234149</td><td style = \"text-align: left;\">Cold Shock (1h at 10C)</td><td style = \"text-align: left;\">M9 Minimal Media with 0.5% Glucose with 1h at 10C in steady state</td><td style = \"text-align: right;\">1</td><td style = \"text-align: right;\">43</td><td style = \"text-align: right;\">3</td><td style = \"text-align: left;\">T</td></tr><tr><td class = \"rowNumber\" style = \"font-weight: bold; text-align: right;\">23036</td><td style = \"text-align: left;\">araCp</td><td style = \"text-align: left;\">genome</td><td style = \"text-align: right;\">0.0</td><td style = \"text-align: left;\">Cold Shock (1h at 10C)</td><td style = \"text-align: left;\">M9 Minimal Media with 0.5% Glucose with 1h at 10C in steady state</td><td style = \"text-align: right;\">1</td><td style = \"text-align: right;\">43</td><td style = \"text-align: right;\">4</td><td style = \"text-align: left;\">T</td></tr><tr><td class = \"rowNumber\" style = \"font-weight: bold; text-align: right;\">23037</td><td style = \"text-align: left;\">araCp</td><td style = \"text-align: left;\">genome</td><td style = \"text-align: right;\">-0.011803</td><td style = \"text-align: left;\">Cold Shock (1h at 10C)</td><td style = \"text-align: left;\">M9 Minimal Media with 0.5% Glucose with 1h at 10C in steady state</td><td style = \"text-align: right;\">1</td><td style = \"text-align: right;\">44</td><td style = \"text-align: right;\">1</td><td style = \"text-align: left;\">T</td></tr><tr><td class = \"rowNumber\" style = \"font-weight: bold; text-align: right;\">23038</td><td style = \"text-align: left;\">araCp</td><td style = \"text-align: left;\">genome</td><td style = \"text-align: right;\">-0.089073</td><td style = \"text-align: left;\">Cold Shock (1h at 10C)</td><td style = \"text-align: left;\">M9 Minimal Media with 0.5% Glucose with 1h at 10C in steady state</td><td style = \"text-align: right;\">1</td><td style = \"text-align: right;\">44</td><td style = \"text-align: right;\">2</td><td style = \"text-align: left;\">T</td></tr><tr><td class = \"rowNumber\" style = \"font-weight: bold; text-align: right;\">23039</td><td style = \"text-align: left;\">araCp</td><td style = \"text-align: left;\">genome</td><td style = \"text-align: right;\">-0.040077</td><td style = \"text-align: left;\">Cold Shock (1h at 10C)</td><td style = \"text-align: left;\">M9 Minimal Media with 0.5% Glucose with 1h at 10C in steady state</td><td style = \"text-align: right;\">1</td><td style = \"text-align: right;\">44</td><td style = \"text-align: right;\">3</td><td style = \"text-align: left;\">T</td></tr><tr><td class = \"rowNumber\" style = \"font-weight: bold; text-align: right;\">23040</td><td style = \"text-align: left;\">araCp</td><td style = \"text-align: left;\">genome</td><td style = \"text-align: right;\">0.0</td><td style = \"text-align: left;\">Cold Shock (1h at 10C)</td><td style = \"text-align: left;\">M9 Minimal Media with 0.5% Glucose with 1h at 10C in steady state</td><td style = \"text-align: right;\">1</td><td style = \"text-align: right;\">44</td><td style = \"text-align: right;\">4</td><td style = \"text-align: left;\">T</td></tr></tbody></table></div>"
      ],
      "text/latex": [
       "\\begin{tabular}{r|cccccc}\n",
       "\t& promoter & source & expression\\_shift & growth\\_condition & growth\\_condition\\_info & \\\\\n",
       "\t\\hline\n",
       "\t& String & String & Float64 & String & String & \\\\\n",
       "\t\\hline\n",
       "\t1 & araCp & genome & -0.0502675 & Glucose & M9 Minimal Media with 0.5\\% Glucose & $\\dots$ \\\\\n",
       "\t2 & araCp & genome & 0.278936 & Glucose & M9 Minimal Media with 0.5\\% Glucose & $\\dots$ \\\\\n",
       "\t3 & araCp & genome & 0.0 & Glucose & M9 Minimal Media with 0.5\\% Glucose & $\\dots$ \\\\\n",
       "\t4 & araCp & genome & -0.04113 & Glucose & M9 Minimal Media with 0.5\\% Glucose & $\\dots$ \\\\\n",
       "\t5 & araCp & genome & -0.0782516 & Glucose & M9 Minimal Media with 0.5\\% Glucose & $\\dots$ \\\\\n",
       "\t6 & araCp & genome & -0.0421389 & Glucose & M9 Minimal Media with 0.5\\% Glucose & $\\dots$ \\\\\n",
       "\t7 & araCp & genome & 0.212821 & Glucose & M9 Minimal Media with 0.5\\% Glucose & $\\dots$ \\\\\n",
       "\t8 & araCp & genome & 0.0 & Glucose & M9 Minimal Media with 0.5\\% Glucose & $\\dots$ \\\\\n",
       "\t9 & araCp & genome & 0.0568218 & Glucose & M9 Minimal Media with 0.5\\% Glucose & $\\dots$ \\\\\n",
       "\t10 & araCp & genome & 0.0 & Glucose & M9 Minimal Media with 0.5\\% Glucose & $\\dots$ \\\\\n",
       "\t11 & araCp & genome & 0.0504061 & Glucose & M9 Minimal Media with 0.5\\% Glucose & $\\dots$ \\\\\n",
       "\t12 & araCp & genome & -0.0911624 & Glucose & M9 Minimal Media with 0.5\\% Glucose & $\\dots$ \\\\\n",
       "\t13 & araCp & genome & 0.0 & Glucose & M9 Minimal Media with 0.5\\% Glucose & $\\dots$ \\\\\n",
       "\t14 & araCp & genome & -0.151979 & Glucose & M9 Minimal Media with 0.5\\% Glucose & $\\dots$ \\\\\n",
       "\t15 & araCp & genome & -0.0680367 & Glucose & M9 Minimal Media with 0.5\\% Glucose & $\\dots$ \\\\\n",
       "\t16 & araCp & genome & -0.0954474 & Glucose & M9 Minimal Media with 0.5\\% Glucose & $\\dots$ \\\\\n",
       "\t17 & araCp & genome & -0.0688959 & Glucose & M9 Minimal Media with 0.5\\% Glucose & $\\dots$ \\\\\n",
       "\t18 & araCp & genome & 0.105482 & Glucose & M9 Minimal Media with 0.5\\% Glucose & $\\dots$ \\\\\n",
       "\t19 & araCp & genome & 0.0 & Glucose & M9 Minimal Media with 0.5\\% Glucose & $\\dots$ \\\\\n",
       "\t20 & araCp & genome & 0.0263588 & Glucose & M9 Minimal Media with 0.5\\% Glucose & $\\dots$ \\\\\n",
       "\t21 & araCp & genome & 0.0396565 & Glucose & M9 Minimal Media with 0.5\\% Glucose & $\\dots$ \\\\\n",
       "\t22 & araCp & genome & -0.0828057 & Glucose & M9 Minimal Media with 0.5\\% Glucose & $\\dots$ \\\\\n",
       "\t23 & araCp & genome & 0.0 & Glucose & M9 Minimal Media with 0.5\\% Glucose & $\\dots$ \\\\\n",
       "\t24 & araCp & genome & -0.035191 & Glucose & M9 Minimal Media with 0.5\\% Glucose & $\\dots$ \\\\\n",
       "\t$\\dots$ & $\\dots$ & $\\dots$ & $\\dots$ & $\\dots$ & $\\dots$ &  \\\\\n",
       "\\end{tabular}\n"
      ],
      "text/plain": [
       "\u001b[1m23040×9 DataFrame\u001b[0m\n",
       "\u001b[1m   Row \u001b[0m│\u001b[1m promoter \u001b[0m\u001b[1m source \u001b[0m\u001b[1m expression_shift \u001b[0m\u001b[1m growth_condition       \u001b[0m\u001b[1m growth_co\u001b[0m ⋯\n",
       "       │\u001b[90m String   \u001b[0m\u001b[90m String \u001b[0m\u001b[90m Float64          \u001b[0m\u001b[90m String                 \u001b[0m\u001b[90m String   \u001b[0m ⋯\n",
       "───────┼────────────────────────────────────────────────────────────────────────\n",
       "     1 │ araCp     genome        -0.0502675  Glucose                 M9 Minima ⋯\n",
       "     2 │ araCp     genome         0.278936   Glucose                 M9 Minima\n",
       "     3 │ araCp     genome         0.0        Glucose                 M9 Minima\n",
       "     4 │ araCp     genome        -0.04113    Glucose                 M9 Minima\n",
       "     5 │ araCp     genome        -0.0782516  Glucose                 M9 Minima ⋯\n",
       "     6 │ araCp     genome        -0.0421389  Glucose                 M9 Minima\n",
       "     7 │ araCp     genome         0.212821   Glucose                 M9 Minima\n",
       "     8 │ araCp     genome         0.0        Glucose                 M9 Minima\n",
       "   ⋮   │    ⋮        ⋮            ⋮                    ⋮                       ⋱\n",
       " 23034 │ araCp     genome        -0.054103   Cold Shock (1h at 10C)  M9 Minima ⋯\n",
       " 23035 │ araCp     genome         0.234149   Cold Shock (1h at 10C)  M9 Minima\n",
       " 23036 │ araCp     genome         0.0        Cold Shock (1h at 10C)  M9 Minima\n",
       " 23037 │ araCp     genome        -0.011803   Cold Shock (1h at 10C)  M9 Minima\n",
       " 23038 │ araCp     genome        -0.089073   Cold Shock (1h at 10C)  M9 Minima ⋯\n",
       " 23039 │ araCp     genome        -0.040077   Cold Shock (1h at 10C)  M9 Minima\n",
       " 23040 │ araCp     genome         0.0        Cold Shock (1h at 10C)  M9 Minima\n",
       "\u001b[36m                                                5 columns and 23025 rows omitted\u001b[0m"
      ]
     },
     "metadata": {},
     "output_type": "display_data"
    }
   ],
   "source": [
    "df_exshift[df_exshift.promoter .== \"araCp\", :]"
   ]
  },
  {
   "cell_type": "code",
   "execution_count": 38,
   "id": "1245353d-a622-488a-b00f-9580866e1335",
   "metadata": {},
   "outputs": [
    {
     "data": {
      "text/plain": [
       "\"../../figures/interactive_footprints/20231207_exshifts.csv\""
      ]
     },
     "metadata": {},
     "output_type": "display_data"
    }
   ],
   "source": [
    "CSV.write(\"../../figures/interactive_footprints/20231207_footprints.csv\", df_footprints)\n",
    "CSV.write(\"../../figures/interactive_footprints/20231207_exshifts.csv\", df_exshift)"
   ]
  },
  {
   "attachments": {},
   "cell_type": "markdown",
   "id": "0cfd0fab-3b3b-48ae-9f45-dc8ba1e529c2",
   "metadata": {},
   "source": [
    "## Metadata"
   ]
  },
  {
   "cell_type": "code",
   "execution_count": 36,
   "id": "9f6787f2-5b79-435d-b563-e74655b45a51",
   "metadata": {},
   "outputs": [
    {
     "data": {
      "text/plain": [
       "\"AGCTTTTCATTCTGACTGCAACGGGCAATATGTCTCTGTGTGGATTAAAAAAAGAGTGTCTGATAGCAGCTTCTGAACTGGTTACCTGCCGTGAGTAAATTAAAATTTTATTGACTTAGGTCACTAAATACTTTAACCAATATAGGCATAGCGCACAGACAGATAAAAATTACAGAGTACACAACATCCATGAAACGCATTAGCACCACCATTACCACCACCATCACCATTACCACAGGTAACGGTGCGGGCTGACGCGTACAGGAAAC\" ⋯ 4641115 bytes ⋯ \"GATGGTCTATTGCTATCAATTAGCAACATTAATACAACAACCGGCGAAAAGTGATGCAACGGCAGACCAACATCAACTGCAAGCTTTACGCGAACGAGCCATGACATTGCTGACGACTCTGGCAGTGGCAGATGACATAAAACTGGTCGACTGGTTACAACAACGCCTGGGGCTTTTAGAGCAACGAGACACGGCAATGTTGCACCGTTTGCTGCATGATATTGAAAAAAATATCACCAAATAAAAAACGCCTTAGTAAGTATTTTTC\""
      ]
     },
     "metadata": {},
     "output_type": "display_data"
    }
   ],
   "source": [
    "df_twist = wgregseq.utils.import_twist_order(\"../../../data/twist_orders/2022-02-15_twist_order.csv\")\n",
    "unique(df_twist[!, [:genes, :promoter]])\n",
    "\n",
    "wt_seqs = df_twist[1:1501:end, :]\n",
    "\n",
    "# Import genome\n",
    "re = open(FASTA.Reader, \"../../../data/ecocyc/mg1655_genome.fasta\")\n",
    "wt_sequence = [sequence(record) for record in re][1]"
   ]
  },
  {
   "cell_type": "code",
   "execution_count": null,
   "id": "01868457-fbb0-4992-8fcc-fd77a757200b",
   "metadata": {},
   "outputs": [],
   "source": []
  },
  {
   "cell_type": "code",
   "execution_count": 37,
   "id": "ce6693f5-6a00-4d8f-9915-b8451d05a1f3",
   "metadata": {},
   "outputs": [
    {
     "data": {
      "text/plain": [
       "\"../../figures/interactive_footprints/20231207_footprints_meta.csv\""
      ]
     },
     "metadata": {},
     "output_type": "display_data"
    }
   ],
   "source": [
    "five_prime = []\n",
    "three_prime = []\n",
    "direction = []\n",
    "promoter = []\n",
    "genes = []\n",
    "promoter_seq = []\n",
    "for i in 1:119\n",
    "    fwd = findall(string(wt_seqs[i, :sequence][27:186]), string(wt_sequence))\n",
    "    rev = findall(reverse_complement(string(wt_seqs[i, :sequence][27:186])), string(wt_sequence))\n",
    "    if length(fwd) == 0 && length(rev) == 0\n",
    "        throw(ErrorException(\"Sequence not found for promoter $(wt_seqs[i, :promoter])!\"))\n",
    "    elseif length(fwd) > 0 && length(rev) > 0\n",
    "        throw(ErrorException(\"Sequence found on both strands for promoter $(wt_seqs[i, :promoter])!\"))\n",
    "    elseif length(fwd) > 0\n",
    "        push!(five_prime, fwd[1][1])\n",
    "        push!(three_prime, fwd[1][end])\n",
    "        push!(direction, '+')\n",
    "        push!(promoter, wt_seqs[i, :promoter])\n",
    "        push!(genes, join(wt_seqs[i, :genes], \", \"))\n",
    "        push!(promoter_seq, wt_seqs[i, :sequence][27:186])\n",
    "    else\n",
    "        push!(three_prime, rev[1][1])\n",
    "        push!(five_prime, rev[1][end])\n",
    "        push!(direction, '-')\n",
    "        push!(promoter, wt_seqs[i, :promoter])\n",
    "        push!(genes, join(wt_seqs[i, :genes], \", \"))\n",
    "        push!(promoter_seq, wt_seqs[i, :sequence][27:186])\n",
    "    end\n",
    "end\n",
    "\n",
    "df_meta = DataFrame(five_prime=five_prime, three_prime=three_prime, direction=direction, promoter=promoter, genes=genes, promoter_seq=promoter_seq)\n",
    "CSV.write(\"../../figures/interactive_footprints/20231207_footprints_meta.csv\", df_meta)"
   ]
  },
  {
   "cell_type": "code",
   "execution_count": null,
   "id": "15f71129-fced-4dc4-9cfd-0228f5d371d9",
   "metadata": {},
   "outputs": [],
   "source": []
  }
 ],
 "metadata": {
  "kernelspec": {
   "display_name": "Julia 1.9.1",
   "language": "julia",
   "name": "julia-1.9"
  },
  "language_info": {
   "file_extension": ".jl",
   "mimetype": "application/julia",
   "name": "julia",
   "version": "1.9.1"
  }
 },
 "nbformat": 4,
 "nbformat_minor": 5
}
