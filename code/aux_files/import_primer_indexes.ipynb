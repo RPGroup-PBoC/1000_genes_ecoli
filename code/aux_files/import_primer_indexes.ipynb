{
 "cells": [
  {
   "cell_type": "code",
   "execution_count": 1,
   "id": "1d6d71b1-6411-4268-b7ef-d488d435b5a5",
   "metadata": {},
   "outputs": [],
   "source": [
    "using CSV, DataFrames, BioSequences"
   ]
  },
  {
   "cell_type": "code",
   "execution_count": 2,
   "id": "dd2b2f5d-fcf2-4505-8ced-2a5e6659fd6f",
   "metadata": {},
   "outputs": [
    {
     "name": "stderr",
     "output_type": "stream",
     "text": [
      "\u001b[33m\u001b[1m┌ \u001b[22m\u001b[39m\u001b[33m\u001b[1mWarning: \u001b[22m\u001b[39mthread = 1 warning: parsed expected 2 columns, but didn't reach end of line around data row: 1. Parsing extra columns and widening final columnset\n",
      "\u001b[33m\u001b[1m└ \u001b[22m\u001b[39m\u001b[90m@ CSV ~/.julia/packages/CSV/OnldF/src/file.jl:578\u001b[39m\n"
     ]
    },
    {
     "data": {
      "text/html": [
       "<div><div style = \"float: left;\"><span>58×3 DataFrame</span></div><div style = \"float: right;\"><span style = \"font-style: italic;\">33 rows omitted</span></div><div style = \"clear: both;\"></div></div><div class = \"data-frame\" style = \"overflow-x: scroll;\"><table class = \"data-frame\" style = \"margin-bottom: 6px;\"><thead><tr class = \"header\"><th class = \"rowNumber\" style = \"font-weight: bold; text-align: right;\">Row</th><th style = \"text-align: left;\">index</th><th style = \"text-align: left;\">primer</th><th style = \"text-align: left;\">sequence</th></tr><tr class = \"subheader headerLastRow\"><th class = \"rowNumber\" style = \"font-weight: bold; text-align: right;\"></th><th title = \"LongSequence{DNAAlphabet{4}}\" style = \"text-align: left;\">LongSequ…</th><th title = \"String\" style = \"text-align: left;\">String</th><th title = \"String\" style = \"text-align: left;\">String</th></tr></thead><tbody><tr><td class = \"rowNumber\" style = \"font-weight: bold; text-align: right;\">1</td><td style = \"text-align: left;\">GTAGAGCA</td><td style = \"text-align: left;\">SC354_sfYFP_i1_p7</td><td style = \"text-align: left;\">CAAGCAGAAGACGGCATACGAGATTGCTCTACTCCAATCGGTGATGGTCCTG</td></tr><tr><td class = \"rowNumber\" style = \"font-weight: bold; text-align: right;\">2</td><td style = \"text-align: left;\">TACTACAG</td><td style = \"text-align: left;\">SC355_sfYFP_i2_p7</td><td style = \"text-align: left;\">CAAGCAGAAGACGGCATACGAGATCTGTAGTATCCAATCGGTGATGGTCCTG</td></tr><tr><td class = \"rowNumber\" style = \"font-weight: bold; text-align: right;\">3</td><td style = \"text-align: left;\">CGCTGTAG</td><td style = \"text-align: left;\">SC356_sfYFP_i3_p7</td><td style = \"text-align: left;\">CAAGCAGAAGACGGCATACGAGATCTACAGCGTCCAATCGGTGATGGTCCTG</td></tr><tr><td class = \"rowNumber\" style = \"font-weight: bold; text-align: right;\">4</td><td style = \"text-align: left;\">CTGCGCTG</td><td style = \"text-align: left;\">SC357_sfYFP_i4_p7</td><td style = \"text-align: left;\">CAAGCAGAAGACGGCATACGAGATCAGCGCAGTCCAATCGGTGATGGTCCTG</td></tr><tr><td class = \"rowNumber\" style = \"font-weight: bold; text-align: right;\">5</td><td style = \"text-align: left;\">GTCGACTG</td><td style = \"text-align: left;\">SC358_sfYFP_i5_p7</td><td style = \"text-align: left;\">CAAGCAGAAGACGGCATACGAGATCAGTCGACTCCAATCGGTGATGGTCCTG</td></tr><tr><td class = \"rowNumber\" style = \"font-weight: bold; text-align: right;\">6</td><td style = \"text-align: left;\">TCTAGCTC</td><td style = \"text-align: left;\">SC359_sfYFP_i6_p7</td><td style = \"text-align: left;\">CAAGCAGAAGACGGCATACGAGATGAGCTAGATCCAATCGGTGATGGTCCTG</td></tr><tr><td class = \"rowNumber\" style = \"font-weight: bold; text-align: right;\">7</td><td style = \"text-align: left;\">TGAGATAC</td><td style = \"text-align: left;\">SC360_sfYFP_i7_p7</td><td style = \"text-align: left;\">CAAGCAGAAGACGGCATACGAGATGTATCTCATCCAATCGGTGATGGTCCTG</td></tr><tr><td class = \"rowNumber\" style = \"font-weight: bold; text-align: right;\">8</td><td style = \"text-align: left;\">GTCAGTGT</td><td style = \"text-align: left;\">SC361_sfYFP_i8_p7</td><td style = \"text-align: left;\">CAAGCAGAAGACGGCATACGAGATACACTGACTCCAATCGGTGATGGTCCTG</td></tr><tr><td class = \"rowNumber\" style = \"font-weight: bold; text-align: right;\">9</td><td style = \"text-align: left;\">GTGAGATA</td><td style = \"text-align: left;\">SC362_sfYFP_i9_p7</td><td style = \"text-align: left;\">CAAGCAGAAGACGGCATACGAGATTATCTCACTCCAATCGGTGATGGTCCTG</td></tr><tr><td class = \"rowNumber\" style = \"font-weight: bold; text-align: right;\">10</td><td style = \"text-align: left;\">AGTCTACT</td><td style = \"text-align: left;\">SC363_sfYFP_i10_p7</td><td style = \"text-align: left;\">CAAGCAGAAGACGGCATACGAGATAGTAGACTTCCAATCGGTGATGGTCCTG</td></tr><tr><td class = \"rowNumber\" style = \"font-weight: bold; text-align: right;\">11</td><td style = \"text-align: left;\">CTATCGAT</td><td style = \"text-align: left;\">SC364_sfYFP_i11_p7</td><td style = \"text-align: left;\">CAAGCAGAAGACGGCATACGAGATATCGATAGTCCAATCGGTGATGGTCCTG</td></tr><tr><td class = \"rowNumber\" style = \"font-weight: bold; text-align: right;\">12</td><td style = \"text-align: left;\">ATAGCTGT</td><td style = \"text-align: left;\">SC365_sfYFP_i12_p7</td><td style = \"text-align: left;\">CAAGCAGAAGACGGCATACGAGATACAGCTATTCCAATCGGTGATGGTCCTG</td></tr><tr><td class = \"rowNumber\" style = \"font-weight: bold; text-align: right;\">13</td><td style = \"text-align: left;\">TCACGACG</td><td style = \"text-align: left;\">SC366_sfYFP_i13_p7</td><td style = \"text-align: left;\">CAAGCAGAAGACGGCATACGAGATCGTCGTGATCCAATCGGTGATGGTCCTG</td></tr><tr><td style = \"text-align: right;\">&vellip;</td><td style = \"text-align: right;\">&vellip;</td><td style = \"text-align: right;\">&vellip;</td><td style = \"text-align: right;\">&vellip;</td></tr><tr><td class = \"rowNumber\" style = \"font-weight: bold; text-align: right;\">47</td><td style = \"text-align: left;\">ATGTACTC</td><td style = \"text-align: left;\">SC400_sfYFP_i47_p7</td><td style = \"text-align: left;\">CAAGCAGAAGACGGCATACGAGATGAGTACATTCCAATCGGTGATGGTCCTG</td></tr><tr><td class = \"rowNumber\" style = \"font-weight: bold; text-align: right;\">48</td><td style = \"text-align: left;\">TGTATAGA</td><td style = \"text-align: left;\">SC401_sfYFP_i48_p7</td><td style = \"text-align: left;\">CAAGCAGAAGACGGCATACGAGATTCTATACATCCAATCGGTGATGGTCCTG</td></tr><tr><td class = \"rowNumber\" style = \"font-weight: bold; text-align: right;\">49</td><td style = \"text-align: left;\">AGCGCATC</td><td style = \"text-align: left;\">SC402_sfYFP_i49_p7</td><td style = \"text-align: left;\">CAAGCAGAAGACGGCATACGAGATGATGCGCTTCCAATCGGTGATGGTCCTG</td></tr><tr><td class = \"rowNumber\" style = \"font-weight: bold; text-align: right;\">50</td><td style = \"text-align: left;\">GACTGATC</td><td style = \"text-align: left;\">SC403_sfYFP_i50_p7</td><td style = \"text-align: left;\">CAAGCAGAAGACGGCATACGAGATGATCAGTCTCCAATCGGTGATGGTCCTG</td></tr><tr><td class = \"rowNumber\" style = \"font-weight: bold; text-align: right;\">51</td><td style = \"text-align: left;\">GTGTCACT</td><td style = \"text-align: left;\">SC404_sfYFP_i51_p7</td><td style = \"text-align: left;\">CAAGCAGAAGACGGCATACGAGATAGTGACACTCCAATCGGTGATGGTCCTG</td></tr><tr><td class = \"rowNumber\" style = \"font-weight: bold; text-align: right;\">52</td><td style = \"text-align: left;\">TATCGCAT</td><td style = \"text-align: left;\">SC405_sfYFP_i52_p7</td><td style = \"text-align: left;\">CAAGCAGAAGACGGCATACGAGATATGCGATATCCAATCGGTGATGGTCCTG</td></tr><tr><td class = \"rowNumber\" style = \"font-weight: bold; text-align: right;\">53</td><td style = \"text-align: left;\">AGATAGCG</td><td style = \"text-align: left;\">SC406_sfYFP_i53_p7</td><td style = \"text-align: left;\">CAAGCAGAAGACGGCATACGAGATCGCTATCTTCCAATCGGTGATGGTCCTG</td></tr><tr><td class = \"rowNumber\" style = \"font-weight: bold; text-align: right;\">54</td><td style = \"text-align: left;\">AGTAGATG</td><td style = \"text-align: left;\">SC407_sfYFP_i54_p7</td><td style = \"text-align: left;\">CAAGCAGAAGACGGCATACGAGATCATCTACTTCCAATCGGTGATGGTCCTG</td></tr><tr><td class = \"rowNumber\" style = \"font-weight: bold; text-align: right;\">55</td><td style = \"text-align: left;\">CGTCATCG</td><td style = \"text-align: left;\">SC408_sfYFP_i55_p7</td><td style = \"text-align: left;\">CAAGCAGAAGACGGCATACGAGATCGATGACGTCCAATCGGTGATGGTCCTG</td></tr><tr><td class = \"rowNumber\" style = \"font-weight: bold; text-align: right;\">56</td><td style = \"text-align: left;\">TCTCACGA</td><td style = \"text-align: left;\">SC409_sfYFP_i56_p7</td><td style = \"text-align: left;\">CAAGCAGAAGACGGCATACGAGATTCGTGAGATCCAATCGGTGATGGTCCTG</td></tr><tr><td class = \"rowNumber\" style = \"font-weight: bold; text-align: right;\">57</td><td style = \"text-align: left;\">CGCGTGAT</td><td style = \"text-align: left;\">SC410_sfYFP_i57_p7</td><td style = \"text-align: left;\">CAAGCAGAAGACGGCATACGAGATATCACGCGTCCAATCGGTGATGGTCCTG</td></tr><tr><td class = \"rowNumber\" style = \"font-weight: bold; text-align: right;\">58</td><td style = \"text-align: left;\">GCTAGACT</td><td style = \"text-align: left;\">SC411_sfYFP_i58_p7</td><td style = \"text-align: left;\">CAAGCAGAAGACGGCATACGAGATAGTCTAGCTCCAATCGGTGATGGTCCTG</td></tr></tbody></table></div>"
      ],
      "text/latex": [
       "\\begin{tabular}{r|ccc}\n",
       "\t& index & primer & sequence\\\\\n",
       "\t\\hline\n",
       "\t& LongSequ… & String & String\\\\\n",
       "\t\\hline\n",
       "\t1 & GTAGAGCA & SC354\\_sfYFP\\_i1\\_p7 & CAAGCAGAAGACGGCATACGAGATTGCTCTACTCCAATCGGTGATGGTCCTG \\\\\n",
       "\t2 & TACTACAG & SC355\\_sfYFP\\_i2\\_p7 & CAAGCAGAAGACGGCATACGAGATCTGTAGTATCCAATCGGTGATGGTCCTG \\\\\n",
       "\t3 & CGCTGTAG & SC356\\_sfYFP\\_i3\\_p7 & CAAGCAGAAGACGGCATACGAGATCTACAGCGTCCAATCGGTGATGGTCCTG \\\\\n",
       "\t4 & CTGCGCTG & SC357\\_sfYFP\\_i4\\_p7 & CAAGCAGAAGACGGCATACGAGATCAGCGCAGTCCAATCGGTGATGGTCCTG \\\\\n",
       "\t5 & GTCGACTG & SC358\\_sfYFP\\_i5\\_p7 & CAAGCAGAAGACGGCATACGAGATCAGTCGACTCCAATCGGTGATGGTCCTG \\\\\n",
       "\t6 & TCTAGCTC & SC359\\_sfYFP\\_i6\\_p7 & CAAGCAGAAGACGGCATACGAGATGAGCTAGATCCAATCGGTGATGGTCCTG \\\\\n",
       "\t7 & TGAGATAC & SC360\\_sfYFP\\_i7\\_p7 & CAAGCAGAAGACGGCATACGAGATGTATCTCATCCAATCGGTGATGGTCCTG \\\\\n",
       "\t8 & GTCAGTGT & SC361\\_sfYFP\\_i8\\_p7 & CAAGCAGAAGACGGCATACGAGATACACTGACTCCAATCGGTGATGGTCCTG \\\\\n",
       "\t9 & GTGAGATA & SC362\\_sfYFP\\_i9\\_p7 & CAAGCAGAAGACGGCATACGAGATTATCTCACTCCAATCGGTGATGGTCCTG \\\\\n",
       "\t10 & AGTCTACT & SC363\\_sfYFP\\_i10\\_p7 & CAAGCAGAAGACGGCATACGAGATAGTAGACTTCCAATCGGTGATGGTCCTG \\\\\n",
       "\t11 & CTATCGAT & SC364\\_sfYFP\\_i11\\_p7 & CAAGCAGAAGACGGCATACGAGATATCGATAGTCCAATCGGTGATGGTCCTG \\\\\n",
       "\t12 & ATAGCTGT & SC365\\_sfYFP\\_i12\\_p7 & CAAGCAGAAGACGGCATACGAGATACAGCTATTCCAATCGGTGATGGTCCTG \\\\\n",
       "\t13 & TCACGACG & SC366\\_sfYFP\\_i13\\_p7 & CAAGCAGAAGACGGCATACGAGATCGTCGTGATCCAATCGGTGATGGTCCTG \\\\\n",
       "\t14 & TAGTATGT & SC367\\_sfYFP\\_i14\\_p7 & CAAGCAGAAGACGGCATACGAGATACATACTATCCAATCGGTGATGGTCCTG \\\\\n",
       "\t15 & ATCTCGTA & SC368\\_sfYFP\\_i15\\_p7 & CAAGCAGAAGACGGCATACGAGATTACGAGATTCCAATCGGTGATGGTCCTG \\\\\n",
       "\t16 & CACATCGA & SC369\\_sfYFP\\_i16\\_p7 & CAAGCAGAAGACGGCATACGAGATTCGATGTGTCCAATCGGTGATGGTCCTG \\\\\n",
       "\t17 & GCGCTGTA & SC370\\_sfYFP\\_i17\\_p7 & CAAGCAGAAGACGGCATACGAGATTACAGCGCTCCAATCGGTGATGGTCCTG \\\\\n",
       "\t18 & CGTGACGC & SC371\\_sfYFP\\_i18\\_p7 & CAAGCAGAAGACGGCATACGAGATGCGTCACGTCCAATCGGTGATGGTCCTG \\\\\n",
       "\t19 & GTATGCGC & SC372\\_sfYFP\\_i19\\_p7 & CAAGCAGAAGACGGCATACGAGATGCGCATACTCCAATCGGTGATGGTCCTG \\\\\n",
       "\t20 & CATGAGTA & SC373\\_sfYFP\\_i20\\_p7 & CAAGCAGAAGACGGCATACGAGATTACTCATGTCCAATCGGTGATGGTCCTG \\\\\n",
       "\t21 & AGTGCTCA & SC374\\_sfYFP\\_i21\\_p7 & CAAGCAGAAGACGGCATACGAGATTGAGCACTTCCAATCGGTGATGGTCCTG \\\\\n",
       "\t22 & GTCGTAGC & SC375\\_sfYFP\\_i22\\_p7 & CAAGCAGAAGACGGCATACGAGATGCTACGACTCCAATCGGTGATGGTCCTG \\\\\n",
       "\t23 & CTCATGCG & SC376\\_sfYFP\\_i23\\_p7 & CAAGCAGAAGACGGCATACGAGATCGCATGAGTCCAATCGGTGATGGTCCTG \\\\\n",
       "\t24 & TCAGCAGA & SC377\\_sfYFP\\_i24\\_p7 & CAAGCAGAAGACGGCATACGAGATTCTGCTGATCCAATCGGTGATGGTCCTG \\\\\n",
       "\t25 & ACACACAC & SC378\\_sfYFP\\_i25\\_p7 & CAAGCAGAAGACGGCATACGAGATGTGTGTGTTCCAATCGGTGATGGTCCTG \\\\\n",
       "\t26 & TGTGTGCG & SC379\\_sfYFP\\_i26\\_p7 & CAAGCAGAAGACGGCATACGAGATCGCACACATCCAATCGGTGATGGTCCTG \\\\\n",
       "\t27 & TGATGCTG & SC380\\_sfYFP\\_i27\\_p7 & CAAGCAGAAGACGGCATACGAGATCAGCATCATCCAATCGGTGATGGTCCTG \\\\\n",
       "\t28 & GCAGTATG & SC381\\_sfYFP\\_i28\\_p7 & CAAGCAGAAGACGGCATACGAGATCATACTGCTCCAATCGGTGATGGTCCTG \\\\\n",
       "\t29 & ATGCAGCT & SC382\\_sfYFP\\_i29\\_p7 & CAAGCAGAAGACGGCATACGAGATAGCTGCATTCCAATCGGTGATGGTCCTG \\\\\n",
       "\t30 & TCATCGTC & SC383\\_sfYFP\\_i30\\_p7 & CAAGCAGAAGACGGCATACGAGATGACGATGATCCAATCGGTGATGGTCCTG \\\\\n",
       "\t$\\dots$ & $\\dots$ & $\\dots$ & $\\dots$ \\\\\n",
       "\\end{tabular}\n"
      ],
      "text/plain": [
       "\u001b[1m58×3 DataFrame\u001b[0m\n",
       "\u001b[1m Row \u001b[0m│\u001b[1m index     \u001b[0m\u001b[1m primer             \u001b[0m\u001b[1m sequence                          \u001b[0m\n",
       "     │\u001b[90m LongSequ… \u001b[0m\u001b[90m String             \u001b[0m\u001b[90m String                            \u001b[0m\n",
       "─────┼──────────────────────────────────────────────────────────────────\n",
       "   1 │ GTAGAGCA   SC354_sfYFP_i1_p7   CAAGCAGAAGACGGCATACGAGATTGCTCTAC…\n",
       "   2 │ TACTACAG   SC355_sfYFP_i2_p7   CAAGCAGAAGACGGCATACGAGATCTGTAGTA…\n",
       "   3 │ CGCTGTAG   SC356_sfYFP_i3_p7   CAAGCAGAAGACGGCATACGAGATCTACAGCG…\n",
       "   4 │ CTGCGCTG   SC357_sfYFP_i4_p7   CAAGCAGAAGACGGCATACGAGATCAGCGCAG…\n",
       "   5 │ GTCGACTG   SC358_sfYFP_i5_p7   CAAGCAGAAGACGGCATACGAGATCAGTCGAC…\n",
       "   6 │ TCTAGCTC   SC359_sfYFP_i6_p7   CAAGCAGAAGACGGCATACGAGATGAGCTAGA…\n",
       "   7 │ TGAGATAC   SC360_sfYFP_i7_p7   CAAGCAGAAGACGGCATACGAGATGTATCTCA…\n",
       "   8 │ GTCAGTGT   SC361_sfYFP_i8_p7   CAAGCAGAAGACGGCATACGAGATACACTGAC…\n",
       "   9 │ GTGAGATA   SC362_sfYFP_i9_p7   CAAGCAGAAGACGGCATACGAGATTATCTCAC…\n",
       "  10 │ AGTCTACT   SC363_sfYFP_i10_p7  CAAGCAGAAGACGGCATACGAGATAGTAGACT…\n",
       "  11 │ CTATCGAT   SC364_sfYFP_i11_p7  CAAGCAGAAGACGGCATACGAGATATCGATAG…\n",
       "  ⋮  │     ⋮              ⋮                           ⋮\n",
       "  49 │ AGCGCATC   SC402_sfYFP_i49_p7  CAAGCAGAAGACGGCATACGAGATGATGCGCT…\n",
       "  50 │ GACTGATC   SC403_sfYFP_i50_p7  CAAGCAGAAGACGGCATACGAGATGATCAGTC…\n",
       "  51 │ GTGTCACT   SC404_sfYFP_i51_p7  CAAGCAGAAGACGGCATACGAGATAGTGACAC…\n",
       "  52 │ TATCGCAT   SC405_sfYFP_i52_p7  CAAGCAGAAGACGGCATACGAGATATGCGATA…\n",
       "  53 │ AGATAGCG   SC406_sfYFP_i53_p7  CAAGCAGAAGACGGCATACGAGATCGCTATCT…\n",
       "  54 │ AGTAGATG   SC407_sfYFP_i54_p7  CAAGCAGAAGACGGCATACGAGATCATCTACT…\n",
       "  55 │ CGTCATCG   SC408_sfYFP_i55_p7  CAAGCAGAAGACGGCATACGAGATCGATGACG…\n",
       "  56 │ TCTCACGA   SC409_sfYFP_i56_p7  CAAGCAGAAGACGGCATACGAGATTCGTGAGA…\n",
       "  57 │ CGCGTGAT   SC410_sfYFP_i57_p7  CAAGCAGAAGACGGCATACGAGATATCACGCG…\n",
       "  58 │ GCTAGACT   SC411_sfYFP_i58_p7  CAAGCAGAAGACGGCATACGAGATAGTCTAGC…\n",
       "\u001b[36m                                                         37 rows omitted\u001b[0m"
      ]
     },
     "execution_count": 2,
     "metadata": {},
     "output_type": "execute_result"
    }
   ],
   "source": [
    "df = CSV.read(\"/Users/tomroeschinger/Downloads/Primers_-_2023-12-04.csv\", DataFrame, header=[\"primer\", \"sequence\"])\n",
    "primer_list = [\"SC$(i)_sfYFP_\" for i in 354:411]\n",
    "df_filter = df[map(x -> any([occursin(y, x) & occursin(\"p7\", x) for y in primer_list]), df.primer), [:primer, :sequence]]\n",
    "insertcols!(df_filter, 1, :index => map(x -> reverse_complement(LongDNA{4}(x[25:32])), df_filter.sequence)) "
   ]
  },
  {
   "cell_type": "code",
   "execution_count": 5,
   "id": "7a45a9d8-8d01-4879-a10d-fec410ee31ef",
   "metadata": {},
   "outputs": [
    {
     "data": {
      "text/plain": [
       "\"20231206_primer_index.csv\""
      ]
     },
     "execution_count": 5,
     "metadata": {},
     "output_type": "execute_result"
    }
   ],
   "source": [
    "CSV.write(\"20231206_primer_index.csv\", df_filter)"
   ]
  },
  {
   "cell_type": "code",
   "execution_count": null,
   "id": "524fe944-4f24-4e9c-bc26-ad3919ca9a20",
   "metadata": {},
   "outputs": [],
   "source": []
  }
 ],
 "metadata": {
  "kernelspec": {
   "display_name": "Julia 1.9.1",
   "language": "julia",
   "name": "julia-1.9"
  },
  "language_info": {
   "file_extension": ".jl",
   "mimetype": "application/julia",
   "name": "julia",
   "version": "1.9.1"
  }
 },
 "nbformat": 4,
 "nbformat_minor": 5
}
