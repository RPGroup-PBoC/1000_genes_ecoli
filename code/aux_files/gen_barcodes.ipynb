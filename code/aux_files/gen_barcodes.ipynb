{
 "cells": [
  {
   "cell_type": "code",
   "execution_count": 1,
   "metadata": {},
   "outputs": [],
   "source": [
    "using StatsBase, DataFrames, BioSequences"
   ]
  },
  {
   "cell_type": "code",
   "execution_count": 66,
   "metadata": {},
   "outputs": [],
   "source": [
    "barcodes = LongDNA{4}.([\n",
    "    \"ACTGTG\",\n",
    "    \"CTATGC\",\n",
    "    \"GTACTG\",\n",
    "    \"CAGTGT\",\n",
    "    \"GCTAGT\",\n",
    "    \"CGAATG\",\n",
    "    \"ATCTCG\",\n",
    "    \"AGCCAT\",\n",
    "    \"CTGGAG\",\n",
    "    \"TATCAG\",\n",
    "    \"GCGTAA\",\n",
    "    \"TCAGCT\",\n",
    "    \"TACGTC\",\n",
    "    \"CGTTCA\",\n",
    "    \"GTCAAC\",\n",
    "    \"TGCAGA\",\n",
    "    \"ATGCGA\",\n",
    "    \"AGGTTC\"\n",
    "])\n",
    "\n",
    "all_sixmers = LongDNA{4}.(vcat(collect(Iterators.product(fill(['A', 'C', 'T', 'G'], 6)...))...))\n",
    "\n",
    "candidates = LongDNA{4}[]\n",
    "\n",
    "for seq in all_sixmers\n",
    "    m = [matches(seq_bar, seq) for seq_bar in barcodes]\n",
    "    if maximum(m) < 3\n",
    "        if ~isrepetitive(seq, 3)\n",
    "            if ~any([x == 0 for x in [count(y, string(seq)) for y in ['A', 'C', 'G', 'T']]])\n",
    "                push!(candidates, seq)\n",
    "            end\n",
    "        end\n",
    "    end\n",
    "end"
   ]
  },
  {
   "cell_type": "code",
   "execution_count": 67,
   "metadata": {},
   "outputs": [
    {
     "data": {
      "text/plain": [
       "LongSequence{DNAAlphabet{4}}[]"
      ]
     },
     "execution_count": 67,
     "metadata": {},
     "output_type": "execute_result"
    }
   ],
   "source": [
    "candidates"
   ]
  },
  {
   "cell_type": "code",
   "execution_count": 41,
   "metadata": {},
   "outputs": [
    {
     "data": {
      "text/plain": [
       "0"
      ]
     },
     "execution_count": 41,
     "metadata": {},
     "output_type": "execute_result"
    }
   ],
   "source": [
    "count('T', string(candidates[1]))"
   ]
  },
  {
   "cell_type": "code",
   "execution_count": null,
   "metadata": {},
   "outputs": [],
   "source": []
  }
 ],
 "metadata": {
  "kernelspec": {
   "display_name": "Julia 1.9.0-rc1",
   "language": "julia",
   "name": "julia-1.9"
  },
  "language_info": {
   "file_extension": ".jl",
   "mimetype": "application/julia",
   "name": "julia",
   "version": "1.9.0"
  },
  "orig_nbformat": 4
 },
 "nbformat": 4,
 "nbformat_minor": 2
}
