{
 "cells": [
  {
   "cell_type": "code",
   "execution_count": 1,
   "metadata": {},
   "outputs": [],
   "source": [
    "using CSV, DataFrames, CairoMakie, wgregseq, Dates\n",
    "\n",
    "wgregseq.plotting_style.default_makie!()"
   ]
  },
  {
   "cell_type": "code",
   "execution_count": 10,
   "metadata": {},
   "outputs": [
    {
     "data": {
      "text/plain": [
       "2007-06-05"
      ]
     },
     "execution_count": 10,
     "metadata": {},
     "output_type": "execute_result"
    }
   ],
   "source": [
    "Date(\"06/05/2007\", dateformat\"m/d/y\")"
   ]
  },
  {
   "cell_type": "code",
   "execution_count": 11,
   "metadata": {},
   "outputs": [],
   "source": [
    "date_to_number(d::Date) = float(Dates.value(d) - Dates.value(Date(1970, 1, 1)))\n",
    "date_to_number(d::AbstractString) = date_to_number(Date(d, dateformat\"m/d/y\"))\n",
    "number_to_date(x::Real) = Date(unix2datetime(x * 24 * 3600))\n",
    "\n",
    "struct LinearDateTicks\n",
    "    n::Int\n",
    "end\n",
    "\n",
    "function MakieLayout.get_ticks(ticks::LinearDateTicks, ::typeof(identity), ::Makie.Automatic, vmin, vmax)\n",
    "    mindate = number_to_date(vmin)\n",
    "    maxdate = number_to_date(vmax)\n",
    "    step = (maxdate - mindate) ÷ ticks.n\n",
    "    @assert step >= Day(1)\n",
    "    tickdates = collect(range(mindate, maxdate; step=step))\n",
    "    tickvalues = date_to_number.(tickdates)\n",
    "    ticklabels = string.(tickdates)\n",
    "    return tickvalues, ticklabels\n",
    "end"
   ]
  },
  {
   "cell_type": "code",
   "execution_count": 3,
   "metadata": {},
   "outputs": [
    {
     "data": {
      "text/html": [
       "<div><div style = \"float: left;\"><span>4906×5 DataFrame</span></div><div style = \"float: right;\"><span style = \"font-style: italic;\">4881 rows omitted</span></div><div style = \"clear: both;\"></div></div><div class = \"data-frame\" style = \"overflow-x: scroll;\"><table class = \"data-frame\" style = \"margin-bottom: 6px;\"><thead><tr class = \"header\"><th class = \"rowNumber\" style = \"font-weight: bold; text-align: right;\">Row</th><th style = \"text-align: left;\">date</th><th style = \"text-align: left;\">bases</th><th style = \"text-align: left;\">open_access_bases</th><th style = \"text-align: left;\">bytes</th><th style = \"text-align: left;\">open_access_bytes</th></tr><tr class = \"subheader headerLastRow\"><th class = \"rowNumber\" style = \"font-weight: bold; text-align: right;\"></th><th title = \"String15\" style = \"text-align: left;\">String15</th><th title = \"Int64\" style = \"text-align: left;\">Int64</th><th title = \"Int64\" style = \"text-align: left;\">Int64</th><th title = \"Int64\" style = \"text-align: left;\">Int64</th><th title = \"Int64\" style = \"text-align: left;\">Int64</th></tr></thead><tbody><tr><td class = \"rowNumber\" style = \"font-weight: bold; text-align: right;\">1</td><td style = \"text-align: left;\">06/05/2007</td><td style = \"text-align: right;\">20304190150</td><td style = \"text-align: right;\">20304190150</td><td style = \"text-align: right;\">50496285115</td><td style = \"text-align: right;\">50496285115</td></tr><tr><td class = \"rowNumber\" style = \"font-weight: bold; text-align: right;\">2</td><td style = \"text-align: left;\">04/04/2008</td><td style = \"text-align: right;\">39591836573</td><td style = \"text-align: right;\">39591836573</td><td style = \"text-align: right;\">98175829054</td><td style = \"text-align: right;\">98175829054</td></tr><tr><td class = \"rowNumber\" style = \"font-weight: bold; text-align: right;\">3</td><td style = \"text-align: left;\">04/05/2008</td><td style = \"text-align: right;\">41196134195</td><td style = \"text-align: right;\">41196134195</td><td style = \"text-align: right;\">102158063571</td><td style = \"text-align: right;\">102158063571</td></tr><tr><td class = \"rowNumber\" style = \"font-weight: bold; text-align: right;\">4</td><td style = \"text-align: left;\">04/09/2008</td><td style = \"text-align: right;\">41645296177</td><td style = \"text-align: right;\">41645296177</td><td style = \"text-align: right;\">103295608811</td><td style = \"text-align: right;\">103295608811</td></tr><tr><td class = \"rowNumber\" style = \"font-weight: bold; text-align: right;\">5</td><td style = \"text-align: left;\">04/15/2008</td><td style = \"text-align: right;\">41771058665</td><td style = \"text-align: right;\">41771058665</td><td style = \"text-align: right;\">103601716949</td><td style = \"text-align: right;\">103601716949</td></tr><tr><td class = \"rowNumber\" style = \"font-weight: bold; text-align: right;\">6</td><td style = \"text-align: left;\">04/17/2008</td><td style = \"text-align: right;\">57166980893</td><td style = \"text-align: right;\">57166980893</td><td style = \"text-align: right;\">136281532630</td><td style = \"text-align: right;\">136281532630</td></tr><tr><td class = \"rowNumber\" style = \"font-weight: bold; text-align: right;\">7</td><td style = \"text-align: left;\">04/18/2008</td><td style = \"text-align: right;\">59666402505</td><td style = \"text-align: right;\">59666402505</td><td style = \"text-align: right;\">142020536150</td><td style = \"text-align: right;\">142020536150</td></tr><tr><td class = \"rowNumber\" style = \"font-weight: bold; text-align: right;\">8</td><td style = \"text-align: left;\">04/19/2008</td><td style = \"text-align: right;\">59832989101</td><td style = \"text-align: right;\">59832989101</td><td style = \"text-align: right;\">142367865452</td><td style = \"text-align: right;\">142367865452</td></tr><tr><td class = \"rowNumber\" style = \"font-weight: bold; text-align: right;\">9</td><td style = \"text-align: left;\">04/21/2008</td><td style = \"text-align: right;\">61634022162</td><td style = \"text-align: right;\">61634022162</td><td style = \"text-align: right;\">146270545189</td><td style = \"text-align: right;\">146270545189</td></tr><tr><td class = \"rowNumber\" style = \"font-weight: bold; text-align: right;\">10</td><td style = \"text-align: left;\">04/23/2008</td><td style = \"text-align: right;\">61712385563</td><td style = \"text-align: right;\">61712385563</td><td style = \"text-align: right;\">146460797100</td><td style = \"text-align: right;\">146460797100</td></tr><tr><td class = \"rowNumber\" style = \"font-weight: bold; text-align: right;\">11</td><td style = \"text-align: left;\">04/25/2008</td><td style = \"text-align: right;\">78124233926</td><td style = \"text-align: right;\">78124233926</td><td style = \"text-align: right;\">266507990537</td><td style = \"text-align: right;\">266507990537</td></tr><tr><td class = \"rowNumber\" style = \"font-weight: bold; text-align: right;\">12</td><td style = \"text-align: left;\">04/26/2008</td><td style = \"text-align: right;\">81069031598</td><td style = \"text-align: right;\">81069031598</td><td style = \"text-align: right;\">287936916796</td><td style = \"text-align: right;\">287936916796</td></tr><tr><td class = \"rowNumber\" style = \"font-weight: bold; text-align: right;\">13</td><td style = \"text-align: left;\">04/28/2008</td><td style = \"text-align: right;\">81264062840</td><td style = \"text-align: right;\">81264062840</td><td style = \"text-align: right;\">289272742892</td><td style = \"text-align: right;\">289272742892</td></tr><tr><td style = \"text-align: right;\">&vellip;</td><td style = \"text-align: right;\">&vellip;</td><td style = \"text-align: right;\">&vellip;</td><td style = \"text-align: right;\">&vellip;</td><td style = \"text-align: right;\">&vellip;</td><td style = \"text-align: right;\">&vellip;</td></tr><tr><td class = \"rowNumber\" style = \"font-weight: bold; text-align: right;\">4895</td><td style = \"text-align: left;\">06/11/2022</td><td style = \"text-align: right;\">66661821996874503</td><td style = \"text-align: right;\">32311226939965794</td><td style = \"text-align: right;\">22690460906429264</td><td style = \"text-align: right;\">13981585077395856</td></tr><tr><td class = \"rowNumber\" style = \"font-weight: bold; text-align: right;\">4896</td><td style = \"text-align: left;\">06/12/2022</td><td style = \"text-align: right;\">66665373131287599</td><td style = \"text-align: right;\">32314778074378890</td><td style = \"text-align: right;\">22691837489838357</td><td style = \"text-align: right;\">13982961660804949</td></tr><tr><td class = \"rowNumber\" style = \"font-weight: bold; text-align: right;\">4897</td><td style = \"text-align: left;\">06/13/2022</td><td style = \"text-align: right;\">66682731690275360</td><td style = \"text-align: right;\">32332136633366651</td><td style = \"text-align: right;\">22698520203271151</td><td style = \"text-align: right;\">13989644374237743</td></tr><tr><td class = \"rowNumber\" style = \"font-weight: bold; text-align: right;\">4898</td><td style = \"text-align: left;\">06/14/2022</td><td style = \"text-align: right;\">66727745245595930</td><td style = \"text-align: right;\">32377150188687221</td><td style = \"text-align: right;\">22713969816108011</td><td style = \"text-align: right;\">14005093987074603</td></tr><tr><td class = \"rowNumber\" style = \"font-weight: bold; text-align: right;\">4899</td><td style = \"text-align: left;\">06/15/2022</td><td style = \"text-align: right;\">66829134747233459</td><td style = \"text-align: right;\">32396235223524602</td><td style = \"text-align: right;\">22747332781126458</td><td style = \"text-align: right;\">14012396381706156</td></tr><tr><td class = \"rowNumber\" style = \"font-weight: bold; text-align: right;\">4900</td><td style = \"text-align: left;\">06/16/2022</td><td style = \"text-align: right;\">66886764870673277</td><td style = \"text-align: right;\">32441971973820464</td><td style = \"text-align: right;\">22765854671658772</td><td style = \"text-align: right;\">14029457451886621</td></tr><tr><td class = \"rowNumber\" style = \"font-weight: bold; text-align: right;\">4901</td><td style = \"text-align: left;\">06/17/2022</td><td style = \"text-align: right;\">66923067915680749</td><td style = \"text-align: right;\">32457787705117998</td><td style = \"text-align: right;\">22775606856146287</td><td style = \"text-align: right;\">14036561988864905</td></tr><tr><td class = \"rowNumber\" style = \"font-weight: bold; text-align: right;\">4902</td><td style = \"text-align: left;\">06/18/2022</td><td style = \"text-align: right;\">66959497642207174</td><td style = \"text-align: right;\">32471205306200905</td><td style = \"text-align: right;\">22786359332211847</td><td style = \"text-align: right;\">14041469147343507</td></tr><tr><td class = \"rowNumber\" style = \"font-weight: bold; text-align: right;\">4903</td><td style = \"text-align: left;\">06/19/2022</td><td style = \"text-align: right;\">66990636642733619</td><td style = \"text-align: right;\">32481966054436566</td><td style = \"text-align: right;\">22793102586546286</td><td style = \"text-align: right;\">14045470362059465</td></tr><tr><td class = \"rowNumber\" style = \"font-weight: bold; text-align: right;\">4904</td><td style = \"text-align: left;\">06/20/2022</td><td style = \"text-align: right;\">67027170528145040</td><td style = \"text-align: right;\">32491532454912017</td><td style = \"text-align: right;\">22800004096084302</td><td style = \"text-align: right;\">14048919703943538</td></tr><tr><td class = \"rowNumber\" style = \"font-weight: bold; text-align: right;\">4905</td><td style = \"text-align: left;\">06/21/2022</td><td style = \"text-align: right;\">67067907912066049</td><td style = \"text-align: right;\">32510821397971514</td><td style = \"text-align: right;\">22810356479857237</td><td style = \"text-align: right;\">14056508664030998</td></tr><tr><td class = \"rowNumber\" style = \"font-weight: bold; text-align: right;\">4906</td><td style = \"text-align: left;\">06/22/2022</td><td style = \"text-align: right;\">67107537475210338</td><td style = \"text-align: right;\">32540037307714139</td><td style = \"text-align: right;\">22825257325133945</td><td style = \"text-align: right;\">14070126399928011</td></tr></tbody></table></div>"
      ],
      "text/latex": [
       "\\begin{tabular}{r|ccccc}\n",
       "\t& date & bases & open\\_access\\_bases & bytes & open\\_access\\_bytes\\\\\n",
       "\t\\hline\n",
       "\t& String15 & Int64 & Int64 & Int64 & Int64\\\\\n",
       "\t\\hline\n",
       "\t1 & 06/05/2007 & 20304190150 & 20304190150 & 50496285115 & 50496285115 \\\\\n",
       "\t2 & 04/04/2008 & 39591836573 & 39591836573 & 98175829054 & 98175829054 \\\\\n",
       "\t3 & 04/05/2008 & 41196134195 & 41196134195 & 102158063571 & 102158063571 \\\\\n",
       "\t4 & 04/09/2008 & 41645296177 & 41645296177 & 103295608811 & 103295608811 \\\\\n",
       "\t5 & 04/15/2008 & 41771058665 & 41771058665 & 103601716949 & 103601716949 \\\\\n",
       "\t6 & 04/17/2008 & 57166980893 & 57166980893 & 136281532630 & 136281532630 \\\\\n",
       "\t7 & 04/18/2008 & 59666402505 & 59666402505 & 142020536150 & 142020536150 \\\\\n",
       "\t8 & 04/19/2008 & 59832989101 & 59832989101 & 142367865452 & 142367865452 \\\\\n",
       "\t9 & 04/21/2008 & 61634022162 & 61634022162 & 146270545189 & 146270545189 \\\\\n",
       "\t10 & 04/23/2008 & 61712385563 & 61712385563 & 146460797100 & 146460797100 \\\\\n",
       "\t11 & 04/25/2008 & 78124233926 & 78124233926 & 266507990537 & 266507990537 \\\\\n",
       "\t12 & 04/26/2008 & 81069031598 & 81069031598 & 287936916796 & 287936916796 \\\\\n",
       "\t13 & 04/28/2008 & 81264062840 & 81264062840 & 289272742892 & 289272742892 \\\\\n",
       "\t14 & 04/29/2008 & 81326847448 & 81326847448 & 289431431191 & 289431431191 \\\\\n",
       "\t15 & 04/30/2008 & 81457586277 & 81457586277 & 289756582979 & 289756582979 \\\\\n",
       "\t16 & 05/07/2008 & 83682431517 & 83682431517 & 295037477077 & 295037477077 \\\\\n",
       "\t17 & 05/09/2008 & 83780811089 & 83780811089 & 295276550474 & 295276550474 \\\\\n",
       "\t18 & 05/10/2008 & 83825808848 & 83825808848 & 295390267164 & 295390267164 \\\\\n",
       "\t19 & 05/14/2008 & 84726218328 & 84726218328 & 297583348906 & 297583348906 \\\\\n",
       "\t20 & 05/16/2008 & 85049729286 & 85049729286 & 298382603063 & 298382603063 \\\\\n",
       "\t21 & 05/19/2008 & 85117378496 & 85117378496 & 298552797146 & 298552797146 \\\\\n",
       "\t22 & 05/23/2008 & 85144414651 & 85144414651 & 298618704333 & 298618704333 \\\\\n",
       "\t23 & 06/02/2008 & 90592084604 & 90592084604 & 337600693677 & 337600693677 \\\\\n",
       "\t24 & 06/03/2008 & 101476787656 & 101476787656 & 416592712696 & 416592712696 \\\\\n",
       "\t25 & 06/18/2008 & 101743312002 & 101743312002 & 417168810025 & 417168810025 \\\\\n",
       "\t26 & 06/23/2008 & 103336023420 & 103336023420 & 420681659659 & 420681659659 \\\\\n",
       "\t27 & 06/24/2008 & 106058198865 & 106058198865 & 440856502849 & 440856502849 \\\\\n",
       "\t28 & 06/26/2008 & 113381042552 & 113381042552 & 494635300485 & 494635300485 \\\\\n",
       "\t29 & 06/27/2008 & 116018051444 & 116018051444 & 513903726394 & 513903726394 \\\\\n",
       "\t30 & 07/01/2008 & 135048731169 & 135048731169 & 555843491955 & 555843491955 \\\\\n",
       "\t$\\dots$ & $\\dots$ & $\\dots$ & $\\dots$ & $\\dots$ & $\\dots$ \\\\\n",
       "\\end{tabular}\n"
      ],
      "text/plain": [
       "\u001b[1m4906×5 DataFrame\u001b[0m\n",
       "\u001b[1m  Row \u001b[0m│\u001b[1m date       \u001b[0m\u001b[1m bases             \u001b[0m\u001b[1m open_access_bases \u001b[0m\u001b[1m bytes             \u001b[0m\u001b[1m o\u001b[0m ⋯\n",
       "      │\u001b[90m String15   \u001b[0m\u001b[90m Int64             \u001b[0m\u001b[90m Int64             \u001b[0m\u001b[90m Int64             \u001b[0m\u001b[90m I\u001b[0m ⋯\n",
       "──────┼─────────────────────────────────────────────────────────────────────────\n",
       "    1 │ 06/05/2007        20304190150        20304190150        50496285115    ⋯\n",
       "    2 │ 04/04/2008        39591836573        39591836573        98175829054\n",
       "    3 │ 04/05/2008        41196134195        41196134195       102158063571\n",
       "    4 │ 04/09/2008        41645296177        41645296177       103295608811\n",
       "    5 │ 04/15/2008        41771058665        41771058665       103601716949    ⋯\n",
       "    6 │ 04/17/2008        57166980893        57166980893       136281532630\n",
       "    7 │ 04/18/2008        59666402505        59666402505       142020536150\n",
       "    8 │ 04/19/2008        59832989101        59832989101       142367865452\n",
       "    9 │ 04/21/2008        61634022162        61634022162       146270545189    ⋯\n",
       "   10 │ 04/23/2008        61712385563        61712385563       146460797100\n",
       "   11 │ 04/25/2008        78124233926        78124233926       266507990537\n",
       "  ⋮   │     ⋮               ⋮                  ⋮                  ⋮            ⋱\n",
       " 4897 │ 06/13/2022  66682731690275360  32332136633366651  22698520203271151  1\n",
       " 4898 │ 06/14/2022  66727745245595930  32377150188687221  22713969816108011  1 ⋯\n",
       " 4899 │ 06/15/2022  66829134747233459  32396235223524602  22747332781126458  1\n",
       " 4900 │ 06/16/2022  66886764870673277  32441971973820464  22765854671658772  1\n",
       " 4901 │ 06/17/2022  66923067915680749  32457787705117998  22775606856146287  1\n",
       " 4902 │ 06/18/2022  66959497642207174  32471205306200905  22786359332211847  1 ⋯\n",
       " 4903 │ 06/19/2022  66990636642733619  32481966054436566  22793102586546286  1\n",
       " 4904 │ 06/20/2022  67027170528145040  32491532454912017  22800004096084302  1\n",
       " 4905 │ 06/21/2022  67067907912066049  32510821397971514  22810356479857237  1\n",
       " 4906 │ 06/22/2022  67107537475210338  32540037307714139  22825257325133945  1 ⋯\n",
       "\u001b[36m                                                  1 column and 4885 rows omitted\u001b[0m"
      ]
     },
     "execution_count": 3,
     "metadata": {},
     "output_type": "execute_result"
    }
   ],
   "source": [
    "df = CSV.read(\"../../data/misc/sra_stat.csv\", DataFrame)"
   ]
  },
  {
   "cell_type": "code",
   "execution_count": 30,
   "metadata": {},
   "outputs": [
    {
     "data": {
      "image/png": "[encoded data removed]"
     },
     "execution_count": 30,
     "metadata": {},
     "output_type": "execute_result"
    }
   ],
   "source": [
    "fig = Figure(resolution=(300, 300))\n",
    "\n",
    "ax = Axis(\n",
    "    fig[1, 1], \n",
    "    xticks=LinearDateTicks(6),\n",
    "    xticklabelrotation=0.5, \n",
    "    yscale=log10, \n",
    "    yticks=10 .^ collect(10:2:16), \n",
    "    yminorgridvisible=false,\n",
    "    xlabelfont = \"Lato\",\n",
    "    ylabelfont = \"Lato\",\n",
    "    xticklabelfont = \"Lato\",\n",
    "    yticklabelfont = \"Lato\",\n",
    "    titlefont = \"Lato\",\n",
    "    title = \"Total Bases Deposited in SRA Database\"\n",
    "    )\n",
    "\n",
    "lines!(ax, date_to_number.(df.date), df.bases, linewidth=2)\n",
    "save(\"total_bases_SRA.pdf\", fig)\n",
    "fig"
   ]
  },
  {
   "cell_type": "code",
   "execution_count": null,
   "metadata": {},
   "outputs": [],
   "source": []
  }
 ],
 "metadata": {
  "kernelspec": {
   "display_name": "Julia 1.9.0-rc1",
   "language": "julia",
   "name": "julia-1.9"
  },
  "language_info": {
   "file_extension": ".jl",
   "mimetype": "application/julia",
   "name": "julia",
   "version": "1.9.0"
  },
  "orig_nbformat": 4
 },
 "nbformat": 4,
 "nbformat_minor": 2
}
