{
 "cells": [
  {
   "cell_type": "code",
   "execution_count": 1,
   "metadata": {},
   "outputs": [],
   "source": [
    "import pandas as pd"
   ]
  },
  {
   "cell_type": "code",
   "execution_count": 2,
   "metadata": {},
   "outputs": [],
   "source": [
    "def read_data(file, barcode_length=20, trailing_sequence_length=21):\n",
    "    \"\"\"Load fastq file and extract sequence and barcode.\n",
    "    \n",
    "    Parameters\n",
    "    ----------\n",
    "    file : str\n",
    "        Path to fastq file\n",
    "    barcode_length : int, default 20\n",
    "        Length of barcode sequence\n",
    "    trailing_sequence_length : int, default 21\n",
    "        Number of bp trailing barcode\n",
    "        \n",
    "    Returns\n",
    "    -------\n",
    "    tagcounts : Pandas.Series\n",
    "        Panda Series contaning barcodes as index and how often they are counted\n",
    "    \"\"\"\n",
    "    # No maximum length for columns\n",
    "    pd.set_option('max_colwidth',int(1e8))\n",
    "    \n",
    "    # Load sequences\n",
    "    df = pd.read_csv(file, header=None)\n",
    "    \n",
    "    # Extract the sequences from fastq format\n",
    "    df = df.loc[1::4]\n",
    "    \n",
    "    # Extract barcodes\n",
    "    tags = df[0].str.slice(\n",
    "        -trailing_sequence_length - barcode_length,\n",
    "        -trailing_sequence_length\n",
    "    )\n",
    "    \n",
    "    # Count barcodes\n",
    "    tagcounts = tags.value_counts()\n",
    "    return tagcounts\n",
    "\n",
    "\n",
    "def combine_counts(\n",
    "    mRNA_file,\n",
    "    DNA_file,\n",
    "    tag_key_file,\n",
    "    output_file\n",
    "    ):\n",
    "    \"\"\"Compute counts for sequences from mRNA and DNA.\n",
    "    \n",
    "    Parameters\n",
    "    ----------\n",
    "    mRNA_file : str\n",
    "        Path of file for mRNA sequencing\n",
    "    DNA_file : str\n",
    "        Path of file for DNA sequencing\n",
    "    tag_key_file : str\n",
    "        Path of file for barcode/sequence mapping\n",
    "    output_file : str\n",
    "        Path of file constructed for output\n",
    "    \"\"\"\n",
    "    \n",
    "    # Load barcode key\n",
    "    tagkey = pd.read_csv(tag_key_file)\n",
    "    tagkey = tagkey.set_index('tag')\n",
    "    \n",
    "    # Load mRNA data\n",
    "    mRNA_counts = read_data(mRNA_file)\n",
    "    \n",
    "    # Make dataframe with mutated sequence and barcode\n",
    "    tempdf = tagkey.reindex(mRNA_counts.copy().index)\n",
    "\n",
    "    # Assign sequencing counts based on mRNA sequencing file\n",
    "    tempdf['ct_1'] = mRNA_counts.copy()\n",
    "    tempdf = tempdf.dropna()\n",
    "\n",
    "    # Load DNA plasmid data\n",
    "    DNA_counts = read_data(DNA_file)\n",
    "    \n",
    "    # Make dataframe with mutated sequence and barcode\n",
    "    c = tagkey.reindex(DNA_counts.copy().index)\n",
    "    \n",
    "    # Assign sequencing counts based on DNA plasmid sequencing file\n",
    "    c['ct_0'] = DNA_counts.copy()\n",
    "    c = c.dropna()\n",
    "    \n",
    "    # Concatenate DataFrames\n",
    "    output_df = pd.concat([tempdf, c], axis=0, sort=True)\n",
    "    \n",
    "    # Assign zero counts to NaN\n",
    "    output_df = output_df.fillna(0)\n",
    "    \n",
    "    # Remove unnecessary columns\n",
    "    output_df = output_df[['ct_0','ct_1','seq']]\n",
    "\n",
    "    # Total counts column\n",
    "    output_df['ct'] = output_df[['ct_0','ct_1']].sum(axis=1)\n",
    "    output_df = output_df.reset_index()\n",
    "    \n",
    "    # Rename barcode column\n",
    "    output_df = output_df.rename(columns={'index':'tag'})\n",
    "    \n",
    "    # Combine sequence and barcode\n",
    "    output_df['seq'] = output_df.apply(stitch, axis=1)\n",
    "\n",
    "    output_df = output_df.groupby(by=['seq']).sum()\n",
    "\n",
    "    output_df = output_df.reset_index()\n",
    "    output_df = output_df[['ct','ct_0','ct_1','seq']]\n",
    "\n",
    "    #Output the final dataset for associated gene.\n",
    "    output_df.to_csv(output_file, index=False)"
   ]
  },
  {
   "cell_type": "code",
   "execution_count": 4,
   "metadata": {},
   "outputs": [
    {
     "data": {
      "text/plain": [
       "TTTACACTGGCCGTCGTTTT    513047\n",
       "AGTGAATGACACTCTAGTAA    213442\n",
       "CCCAGATAAATGTGATCTTC    101318\n",
       "CTGGCCGTCGTTTTACATGA     86858\n",
       "CTTACCAAGAGGATGGTTAT     19626\n",
       "                         ...  \n",
       "ACCTATCTCCATCTCGCTAT         1\n",
       "TTAGTGGCTTGGGTTATTTT         1\n",
       "GGTCGTAGCAAGGCGTAGGT         1\n",
       "AAATGGTTGACGGACCGGTG         1\n",
       "NNNNNNNNNTTCCACAGCTT         1\n",
       "Name: 0, Length: 2963905, dtype: int64"
      ]
     },
     "execution_count": 4,
     "metadata": {},
     "output_type": "execute_result"
    }
   ],
   "source": [
    "read_data(\"/Volumes/rp_lab_ext/og_regseq_data/fastx_barcodes/LB_RNA.txt\", barcode_length=20, trailing_sequence_length=21)"
   ]
  },
  {
   "cell_type": "code",
   "execution_count": null,
   "metadata": {},
   "outputs": [],
   "source": []
  }
 ],
 "metadata": {
  "kernelspec": {
   "display_name": "base",
   "language": "python",
   "name": "python3"
  },
  "language_info": {
   "codemirror_mode": {
    "name": "ipython",
    "version": 3
   },
   "file_extension": ".py",
   "mimetype": "text/x-python",
   "name": "python",
   "nbconvert_exporter": "python",
   "pygments_lexer": "ipython3",
   "version": "3.9.15 | packaged by conda-forge | (main, Nov 22 2022, 08:48:25) \n[Clang 14.0.6 ]"
  },
  "orig_nbformat": 4,
  "vscode": {
   "interpreter": {
    "hash": "9d6dea3053e6c906f4b5e2f82eaabd83a1c07be5555f557c9597ac8732ad9cb8"
   }
  }
 },
 "nbformat": 4,
 "nbformat_minor": 2
}
