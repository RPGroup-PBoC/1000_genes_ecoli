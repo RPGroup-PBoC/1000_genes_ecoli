{
 "cells": [
  {
   "cell_type": "markdown",
   "id": "1b24a04f-338c-4584-86f1-397caf27884b",
   "metadata": {},
   "source": [
    "# Mapping barcodes and promoters"
   ]
  },
  {
   "cell_type": "markdown",
   "id": "d01c6be5-be14-4a3e-a208-7d59bc70f999",
   "metadata": {},
   "source": [
    "\n"
   ]
  },
  {
   "cell_type": "code",
   "execution_count": 22,
   "id": "c10dbc6a-a301-4362-97a0-fda328ee4911",
   "metadata": {},
   "outputs": [],
   "source": [
    "using wgregseq, CSV, DataFrames, Glob, BioSequences, CairoMakie\n",
    "import wgregseq\n",
    "\n",
    "wgregseq.plotting_style.default_makie!()"
   ]
  },
  {
   "cell_type": "code",
   "execution_count": 10,
   "id": "29304f7a-3874-4ea6-b019-ad27ca901dbd",
   "metadata": {},
   "outputs": [
    {
     "data": {
      "text/html": [
       "<div class=\"data-frame\"><p>5 rows × 3 columns</p><table class=\"data-frame\"><thead><tr><th></th><th>counts</th><th>barcode</th><th>promoter</th></tr><tr><th></th><th title=\"Int64\">Int64</th><th title=\"LongSequence{DNAAlphabet{4}}\">LongSequ…</th><th title=\"LongSequence{DNAAlphabet{4}}\">LongSequ…</th></tr></thead><tbody><tr><th>1</th><td>12585</td><td>TTATTAGGATCCCTCACCAA</td><td>CGGGGATGTTTTGGCGCGTTACTTGCGCTTCTAGTTTGGTTTTTCGTGCCGTATGTTCGTGCGGTTACAGGCGTTAGATTCACCTACTTTTGTGAATGTATGTAGCATAGCTCAACGACAATATAAACGCAGTAATGGGTTTATTAACTTTTGACCATTG</td></tr><tr><th>2</th><td>11223</td><td>GTCCCGATGGGCACCGATAA</td><td>TTTGACTGCCGATTGAGAAGTCATGTGTTAAATGGCGGCACATACATGCACTATGGCACATAACGCCAACCTCTTGCCGTAGCGGCTTCTGCTAGTATCCGCAATAATTTTACATTGTAATCGCGCTAAATACTGCTTCACCACAAGGAATTCAAATGAA</td></tr><tr><th>3</th><td>8181</td><td>GGCGGACTCTTTGACTTTCG</td><td>GCCTGCATGTCAAAGTCCTGGTAAAAGTCTTATTGTGACGGAAAACGAACGCCACGCAAAGCTAACCGGACAATAGTGTAGTGCTTTTCTGTGCTTAGCGGTTAGAATATTCTCATCACTATATCTGGCGTTGTCCATGTTATAGTTATTAAAAAGTTTA</td></tr><tr><th>4</th><td>7576</td><td>CAATGCTGTCGAACACATTC</td><td>CAGCCCATAGAGGAACTGCAACTATTGCAAATGAAGAAATTAAGCTGGATGGCATCGCGCAATGAGGAAGATTGGCCGGGGCTGACAGTAAATAGCAATCGTAGAATCAGCCGCAAGCCCGAAAGATTCCAGTGAGGCGCAATGTTCCGGGGGCTTTAGC</td></tr><tr><th>5</th><td>6880</td><td>ATTCGGTATTTAATATCGCC</td><td>TGGATCTGACTGGAGTGAGATAGGCATCATCTAACGCATCGTCGCTAATACCATACTAAAACGATTGTAACGACGTGCTGCTTTCATAACCTGCACGTACTGTATGATTATCCAGTTAGCTCTGAGGCGTTTTCACGCTGGCAAGGCGCATAAACTCTTT</td></tr></tbody></table></div>"
      ],
      "text/latex": [
       "\\begin{tabular}{r|ccc}\n",
       "\t& counts & barcode & promoter\\\\\n",
       "\t\\hline\n",
       "\t& Int64 & LongSequ… & LongSequ…\\\\\n",
       "\t\\hline\n",
       "\t1 & 12585 & TTATTAGGATCCCTCACCAA & CGGGGATGTTTTGGCGCGTTACTTGCGCTTCTAGTTTGGTTTTTCGTGCCGTATGTTCGTGCGGTTACAGGCGTTAGATTCACCTACTTTTGTGAATGTATGTAGCATAGCTCAACGACAATATAAACGCAGTAATGGGTTTATTAACTTTTGACCATTG \\\\\n",
       "\t2 & 11223 & GTCCCGATGGGCACCGATAA & TTTGACTGCCGATTGAGAAGTCATGTGTTAAATGGCGGCACATACATGCACTATGGCACATAACGCCAACCTCTTGCCGTAGCGGCTTCTGCTAGTATCCGCAATAATTTTACATTGTAATCGCGCTAAATACTGCTTCACCACAAGGAATTCAAATGAA \\\\\n",
       "\t3 & 8181 & GGCGGACTCTTTGACTTTCG & GCCTGCATGTCAAAGTCCTGGTAAAAGTCTTATTGTGACGGAAAACGAACGCCACGCAAAGCTAACCGGACAATAGTGTAGTGCTTTTCTGTGCTTAGCGGTTAGAATATTCTCATCACTATATCTGGCGTTGTCCATGTTATAGTTATTAAAAAGTTTA \\\\\n",
       "\t4 & 7576 & CAATGCTGTCGAACACATTC & CAGCCCATAGAGGAACTGCAACTATTGCAAATGAAGAAATTAAGCTGGATGGCATCGCGCAATGAGGAAGATTGGCCGGGGCTGACAGTAAATAGCAATCGTAGAATCAGCCGCAAGCCCGAAAGATTCCAGTGAGGCGCAATGTTCCGGGGGCTTTAGC \\\\\n",
       "\t5 & 6880 & ATTCGGTATTTAATATCGCC & TGGATCTGACTGGAGTGAGATAGGCATCATCTAACGCATCGTCGCTAATACCATACTAAAACGATTGTAACGACGTGCTGCTTTCATAACCTGCACGTACTGTATGATTATCCAGTTAGCTCTGAGGCGTTTTCACGCTGGCAAGGCGCATAAACTCTTT \\\\\n",
       "\\end{tabular}\n"
      ],
      "text/plain": [
       "\u001b[1m5×3 DataFrame\u001b[0m\n",
       "\u001b[1m Row \u001b[0m│\u001b[1m counts \u001b[0m\u001b[1m barcode              \u001b[0m\u001b[1m promoter                          \u001b[0m\n",
       "\u001b[1m     \u001b[0m│\u001b[90m Int64  \u001b[0m\u001b[90m LongSequ…            \u001b[0m\u001b[90m LongSequ…                         \u001b[0m\n",
       "─────┼─────────────────────────────────────────────────────────────────\n",
       "   1 │  12585  TTATTAGGATCCCTCACCAA  CGGGGATGTTTTGGCGCGTTACTTGCGCTTCT…\n",
       "   2 │  11223  GTCCCGATGGGCACCGATAA  TTTGACTGCCGATTGAGAAGTCATGTGTTAAA…\n",
       "   3 │   8181  GGCGGACTCTTTGACTTTCG  GCCTGCATGTCAAAGTCCTGGTAAAAGTCTTA…\n",
       "   4 │   7576  CAATGCTGTCGAACACATTC  CAGCCCATAGAGGAACTGCAACTATTGCAAAT…\n",
       "   5 │   6880  ATTCGGTATTTAATATCGCC  TGGATCTGACTGGAGTGAGATAGGCATCATCT…"
      ]
     },
     "execution_count": 10,
     "metadata": {},
     "output_type": "execute_result"
    }
   ],
   "source": [
    "df = CSV.read(\n",
    "    \"../../../data/barcodes/20220514_mapping/110_collapsed.txt\", \n",
    "    DataFrame, \n",
    "    delim=\" \", \n",
    "    ignorerepeated=true, \n",
    "    header=[:counts, :barcode, :promoter]\n",
    ")\n",
    "\n",
    "df.barcode = map(x -> LongDNA{4}(x), df.barcode)\n",
    "df.promoter = map(x -> LongDNA{4}(x), df.promoter)\n",
    "\n",
    "first(df, 5)"
   ]
  },
  {
   "cell_type": "code",
   "execution_count": 31,
   "id": "9337d4dd-4acc-4c3c-9bb9-0e582aa32152",
   "metadata": {},
   "outputs": [
    {
     "data": {
      "text/html": [
       "<div class=\"data-frame\"><p>5 rows × 10 columns (omitted printing of 8 columns)</p><table class=\"data-frame\"><thead><tr><th></th><th>genes</th><th>sequence</th></tr><tr><th></th><th title=\"Vector{String}\">Array…</th><th title=\"LongSequence{DNAAlphabet{4}}\">LongSequ…</th></tr></thead><tbody><tr><th>1</th><td>[&quot;rspA&quot;, &quot;rspB&quot;]</td><td>ACCTGTAATTCCAAGCGTCTACTAGTTTTCATCTTTTGTCAACCATTCACAGCGCAAATATACGCCTTTTTTTGTGATCACTCCGGCTTTTTTCGATCTTTATACTTGTATGGTAGTAGCTCAGTTGCGTAGATTTCATGCATCACGACAAGCGATGCAAGGAATCGAACATGAAGATCGTAAAGGGGGCCCGGGCACAGCAATCAAAAGTCGTGTAAAATCCGAGAACCGAATACGTGCCTGAGACAAC</td></tr><tr><th>2</th><td>[&quot;rspA&quot;, &quot;rspB&quot;]</td><td>ACCTGTAATTCCAAGCGTCTACTAGTTCTGATCTTTTGTAAATCATTCACAGTGCAAATTTAAGTCTTTTTTTGTGATCACTCCGGCTATATTCGATCTATTTACTTGTATGGTAGTAGCTCAGTTGCGTAGATTTCATGCGTCACGACAAGCGACGCAGGGAATCGAATATGAAGATCGTAAAGGGGGCCCGGGCACAGCAATCAAAAGTCGTGTAAAATCCGAGAACCGAATACGTGCCTGAGACAAC</td></tr><tr><th>3</th><td>[&quot;rspA&quot;, &quot;rspB&quot;]</td><td>ACCTGTAATTCCAAGCGTCTACTAGTTTTCATCTTTTCTCAACCACTCACAGCGTAAACTTACGCCTGTTTGTGTGATCACTACGGCGTTTTTCAATCTTTATACTTGTATGGTAGTCTCTCAGTTGCGTAGATTTGCTGCATCACGACAAGCGATGCATGGAATCGAACATGAAGGTCGTAAAGGGGGCCCGGGCACAGCAATCAAAAGTCGTGTAAAATCCGAGAACCGAATACGTGCCTGAGACAAC</td></tr><tr><th>4</th><td>[&quot;rspA&quot;, &quot;rspB&quot;]</td><td>ACCTGTAATTCCAAGCGTCTACTAGTGTTCATCCTTCTTCAACCATTCACAGCGGAAATATACGCCTTTTCTCGAGATCACTCCGGCTTTTTTCGATCTTTATACTTGTATGGTAGTAGCTGAGTTGTGTAGTTTTCATGCATCACAACACGCGATGCAAGGAATGAAACATGAGGATCGTAAAGGGGGCCCGGGCACAGCAATCAAAAGTCGTGTAAAATCCGAGAACCGAATACGTGCCTGAGACAAC</td></tr><tr><th>5</th><td>[&quot;rspA&quot;, &quot;rspB&quot;]</td><td>ACCTGTAATTCCAAGCGTCTACTAGTTTTCATCTTTTGTCAACCATTCACCGCGCAAATATACGCCTTCTTTTGTGATCACTCAGGCTCTTTTCGATCTTTCTACTAGTATGGTAATAGCTAATTTGCGTGGATTGCATGCATCACGACAAGCATTGCAAGGAATCGAACACGAAGATCCTTAAGGGGGCCCGGGCACAGCAATCAAAAGTCGTGTAAAATCCGAGAACCGAATACGTGCCTGAGACAAC</td></tr></tbody></table></div>"
      ],
      "text/latex": [
       "\\begin{tabular}{r|ccc}\n",
       "\t& genes & sequence & \\\\\n",
       "\t\\hline\n",
       "\t& Array… & LongSequ… & \\\\\n",
       "\t\\hline\n",
       "\t1 & [\"rspA\", \"rspB\"] & ACCTGTAATTCCAAGCGTCTACTAGTTTTCATCTTTTGTCAACCATTCACAGCGCAAATATACGCCTTTTTTTGTGATCACTCCGGCTTTTTTCGATCTTTATACTTGTATGGTAGTAGCTCAGTTGCGTAGATTTCATGCATCACGACAAGCGATGCAAGGAATCGAACATGAAGATCGTAAAGGGGGCCCGGGCACAGCAATCAAAAGTCGTGTAAAATCCGAGAACCGAATACGTGCCTGAGACAAC & $\\dots$ \\\\\n",
       "\t2 & [\"rspA\", \"rspB\"] & ACCTGTAATTCCAAGCGTCTACTAGTTCTGATCTTTTGTAAATCATTCACAGTGCAAATTTAAGTCTTTTTTTGTGATCACTCCGGCTATATTCGATCTATTTACTTGTATGGTAGTAGCTCAGTTGCGTAGATTTCATGCGTCACGACAAGCGACGCAGGGAATCGAATATGAAGATCGTAAAGGGGGCCCGGGCACAGCAATCAAAAGTCGTGTAAAATCCGAGAACCGAATACGTGCCTGAGACAAC & $\\dots$ \\\\\n",
       "\t3 & [\"rspA\", \"rspB\"] & ACCTGTAATTCCAAGCGTCTACTAGTTTTCATCTTTTCTCAACCACTCACAGCGTAAACTTACGCCTGTTTGTGTGATCACTACGGCGTTTTTCAATCTTTATACTTGTATGGTAGTCTCTCAGTTGCGTAGATTTGCTGCATCACGACAAGCGATGCATGGAATCGAACATGAAGGTCGTAAAGGGGGCCCGGGCACAGCAATCAAAAGTCGTGTAAAATCCGAGAACCGAATACGTGCCTGAGACAAC & $\\dots$ \\\\\n",
       "\t4 & [\"rspA\", \"rspB\"] & ACCTGTAATTCCAAGCGTCTACTAGTGTTCATCCTTCTTCAACCATTCACAGCGGAAATATACGCCTTTTCTCGAGATCACTCCGGCTTTTTTCGATCTTTATACTTGTATGGTAGTAGCTGAGTTGTGTAGTTTTCATGCATCACAACACGCGATGCAAGGAATGAAACATGAGGATCGTAAAGGGGGCCCGGGCACAGCAATCAAAAGTCGTGTAAAATCCGAGAACCGAATACGTGCCTGAGACAAC & $\\dots$ \\\\\n",
       "\t5 & [\"rspA\", \"rspB\"] & ACCTGTAATTCCAAGCGTCTACTAGTTTTCATCTTTTGTCAACCATTCACCGCGCAAATATACGCCTTCTTTTGTGATCACTCAGGCTCTTTTCGATCTTTCTACTAGTATGGTAATAGCTAATTTGCGTGGATTGCATGCATCACGACAAGCATTGCAAGGAATCGAACACGAAGATCCTTAAGGGGGCCCGGGCACAGCAATCAAAAGTCGTGTAAAATCCGAGAACCGAATACGTGCCTGAGACAAC & $\\dots$ \\\\\n",
       "\\end{tabular}\n"
      ],
      "text/plain": [
       "\u001b[1m5×10 DataFrame\u001b[0m\n",
       "\u001b[1m Row \u001b[0m│\u001b[1m genes            \u001b[0m\u001b[1m sequence                          \u001b[0m\u001b[1m promoter \u001b[0m\u001b[1m fwd_prim\u001b[0m ⋯\n",
       "\u001b[1m     \u001b[0m│\u001b[90m Array…           \u001b[0m\u001b[90m LongSequ…                         \u001b[0m\u001b[90m String   \u001b[0m\u001b[90m Tuple…  \u001b[0m ⋯\n",
       "─────┼──────────────────────────────────────────────────────────────────────────\n",
       "   1 │ [\"rspA\", \"rspB\"]  ACCTGTAATTCCAAGCGTCTACTAGTTTTCAT…  rspAp     (100, (1 ⋯\n",
       "   2 │ [\"rspA\", \"rspB\"]  ACCTGTAATTCCAAGCGTCTACTAGTTCTGAT…  rspAp     (100, (1\n",
       "   3 │ [\"rspA\", \"rspB\"]  ACCTGTAATTCCAAGCGTCTACTAGTTTTCAT…  rspAp     (100, (1\n",
       "   4 │ [\"rspA\", \"rspB\"]  ACCTGTAATTCCAAGCGTCTACTAGTGTTCAT…  rspAp     (100, (1\n",
       "   5 │ [\"rspA\", \"rspB\"]  ACCTGTAATTCCAAGCGTCTACTAGTTTTCAT…  rspAp     (100, (1 ⋯\n",
       "\u001b[36m                                                               7 columns omitted\u001b[0m"
      ]
     },
     "execution_count": 31,
     "metadata": {},
     "output_type": "execute_result"
    }
   ],
   "source": [
    "df_seqs = CSV.read(\n",
    "    \"../../../data/twist_orders/2022-02-15_twist_order.csv\", \n",
    "    DataFrame,\n",
    "    types=Dict(\n",
    "        \"fwd_primer\" => String,\n",
    "        \"rev_primer1\" => String,\n",
    "        \"rev_primer2\" => String,\n",
    "        \"rev_primer3\" => String,\n",
    "    )\n",
    ")\n",
    "\n",
    "df_seqs.fwd_primer = parse.(Tuple{Int64, Tuple{Int64, Int64}}, df_seqs.fwd_primer)\n",
    "df_seqs.rev_primer1 = parse.(Tuple{Int64, Tuple{Int64, Int64}}, df_seqs.rev_primer1)\n",
    "df_seqs.rev_primer2 = parse.(Tuple{Int64, Tuple{Int64, Int64}}, df_seqs.rev_primer2)\n",
    "df_seqs.rev_primer3 = parse.(Tuple{Int64, Tuple{Int64, Int64}}, df_seqs.rev_primer3)\n",
    "\n",
    "\n",
    "df_seqs.genes = parse.(Vector{String}, df_seqs.genes)\n",
    "df_seqs.sequence = [LongDNA{4}(seq) for seq in df_seqs.sequence]\n",
    "\n",
    "first(df_seqs, 5)"
   ]
  },
  {
   "cell_type": "code",
   "execution_count": 38,
   "id": "b99dfab8-41c0-48a3-bee6-bdc74d748967",
   "metadata": {},
   "outputs": [],
   "source": [
    "df_seqs_110 = df_seqs[map(x -> x[1] .== 110, df_seqs.rev_primer2), :]\n",
    "dict_110 = Dict(df_seqs_110.sequence .=>df_seqs_110.promoter);"
   ]
  },
  {
   "cell_type": "code",
   "execution_count": null,
   "id": "a0a20d91-d219-4abd-b7a9-70f913096e3b",
   "metadata": {},
   "outputs": [],
   "source": [
    "name_list = String[]\n",
    "\n",
    "for i in 1:nrow(df)\n",
    "    try\n",
    "        push!(name_list, sequence_dict[df.sequence[i]])\n",
    "    catch e\n",
    "        push!(name_list, \"None\")\n",
    "    end\n",
    "end\n",
    "\n",
    "name_list |> unique"
   ]
  },
  {
   "cell_type": "code",
   "execution_count": null,
   "id": "bdd480df-7121-425b-a3e3-d0236ca15475",
   "metadata": {},
   "outputs": [],
   "source": []
  }
 ],
 "metadata": {
  "kernelspec": {
   "display_name": "Julia 1.7.0",
   "language": "julia",
   "name": "julia-1.7"
  },
  "language_info": {
   "file_extension": ".jl",
   "mimetype": "application/julia",
   "name": "julia",
   "version": "1.7.0"
  }
 },
 "nbformat": 4,
 "nbformat_minor": 5
}
