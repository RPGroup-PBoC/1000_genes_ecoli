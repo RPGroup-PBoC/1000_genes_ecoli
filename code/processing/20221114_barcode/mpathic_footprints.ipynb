{
 "cells": [
  {
   "cell_type": "markdown",
   "id": "eafa859e-955a-41be-8e0a-d9e509bb7cd0",
   "metadata": {},
   "source": [
    "# Using mpathic to compute footprints"
   ]
  },
  {
   "cell_type": "code",
   "execution_count": 13,
   "id": "3a0b1bc1-5944-4e0c-aec7-7b6dcef63c96",
   "metadata": {},
   "outputs": [],
   "source": [
    "import pandas as pd\n",
    "import numpy as np\n",
    "import matplotlib.pyplot as plt"
   ]
  },
  {
   "cell_type": "code",
   "execution_count": 14,
   "id": "ca42390e-77f7-4c8b-9816-cf082e1829b8",
   "metadata": {},
   "outputs": [],
   "source": [
    "import sys\n",
    "sys.path.insert(0, '/home/tom/mpathic')\n"
   ]
  },
  {
   "cell_type": "code",
   "execution_count": 15,
   "id": "2f259944",
   "metadata": {},
   "outputs": [],
   "source": [
    "from mpathic import learn_model"
   ]
  },
  {
   "cell_type": "markdown",
   "id": "534b1873-c652-49fc-b96f-d02ed55173d9",
   "metadata": {},
   "source": [
    "First we import a test data set."
   ]
  },
  {
   "cell_type": "code",
   "execution_count": 16,
   "id": "47e47acb-9bd9-4101-b7d0-cc858ce18181",
   "metadata": {},
   "outputs": [
    {
     "data": {
      "text/html": [
       "<div>\n",
       "<style scoped>\n",
       "    .dataframe tbody tr th:only-of-type {\n",
       "        vertical-align: middle;\n",
       "    }\n",
       "\n",
       "    .dataframe tbody tr th {\n",
       "        vertical-align: top;\n",
       "    }\n",
       "\n",
       "    .dataframe thead th {\n",
       "        text-align: right;\n",
       "    }\n",
       "</style>\n",
       "<table border=\"1\" class=\"dataframe\">\n",
       "  <thead>\n",
       "    <tr style=\"text-align: right;\">\n",
       "      <th></th>\n",
       "      <th>cDNA_count</th>\n",
       "      <th>gDNA_count</th>\n",
       "      <th>barcode</th>\n",
       "      <th>name</th>\n",
       "      <th>mapping_count</th>\n",
       "      <th>promoter</th>\n",
       "    </tr>\n",
       "  </thead>\n",
       "  <tbody>\n",
       "    <tr>\n",
       "      <th>0</th>\n",
       "      <td>228337</td>\n",
       "      <td>38677</td>\n",
       "      <td>GGCCATACTTTTTGAAGTAT</td>\n",
       "      <td>araCp</td>\n",
       "      <td>39</td>\n",
       "      <td>GTCATGTAGCATCCGCTAATCTTATGGATAAAAATACTATGGCTTA...</td>\n",
       "    </tr>\n",
       "    <tr>\n",
       "      <th>1</th>\n",
       "      <td>79171</td>\n",
       "      <td>2461</td>\n",
       "      <td>CATACCTCATGGTGTGCGTA</td>\n",
       "      <td>araCp</td>\n",
       "      <td>3</td>\n",
       "      <td>GTCAGGTAGGATGCGCTAATCTTATGGATAAAAATGCTATGGCATA...</td>\n",
       "    </tr>\n",
       "    <tr>\n",
       "      <th>2</th>\n",
       "      <td>62180</td>\n",
       "      <td>23612</td>\n",
       "      <td>GTATATGTACGTCCCTGCGA</td>\n",
       "      <td>araCp</td>\n",
       "      <td>178</td>\n",
       "      <td>GTCAGCTAGGATCCGGTAATCTTATGGATAAAACTGCTCTGGCATA...</td>\n",
       "    </tr>\n",
       "    <tr>\n",
       "      <th>3</th>\n",
       "      <td>56594</td>\n",
       "      <td>38141</td>\n",
       "      <td>TAATTCATACTTCGGCGCAG</td>\n",
       "      <td>araCp</td>\n",
       "      <td>56</td>\n",
       "      <td>GTCTGGTAGGATCCGCTAATCTTATGGATATAAATGCTAGGGCATG...</td>\n",
       "    </tr>\n",
       "    <tr>\n",
       "      <th>4</th>\n",
       "      <td>55044</td>\n",
       "      <td>36067</td>\n",
       "      <td>CTTGAAAGGCTCTGTGCGTA</td>\n",
       "      <td>araCp</td>\n",
       "      <td>62</td>\n",
       "      <td>GTCATGTAGGAGCCCCTAATCTTAGGGATAAAAATGCTATGGCATA...</td>\n",
       "    </tr>\n",
       "  </tbody>\n",
       "</table>\n",
       "</div>"
      ],
      "text/plain": [
       "   cDNA_count  gDNA_count               barcode   name  mapping_count  \\\n",
       "0      228337       38677  GGCCATACTTTTTGAAGTAT  araCp             39   \n",
       "1       79171        2461  CATACCTCATGGTGTGCGTA  araCp              3   \n",
       "2       62180       23612  GTATATGTACGTCCCTGCGA  araCp            178   \n",
       "3       56594       38141  TAATTCATACTTCGGCGCAG  araCp             56   \n",
       "4       55044       36067  CTTGAAAGGCTCTGTGCGTA  araCp             62   \n",
       "\n",
       "                                            promoter  \n",
       "0  GTCATGTAGCATCCGCTAATCTTATGGATAAAAATACTATGGCTTA...  \n",
       "1  GTCAGGTAGGATGCGCTAATCTTATGGATAAAAATGCTATGGCATA...  \n",
       "2  GTCAGCTAGGATCCGGTAATCTTATGGATAAAACTGCTCTGGCATA...  \n",
       "3  GTCTGGTAGGATCCGCTAATCTTATGGATATAAATGCTAGGGCATG...  \n",
       "4  GTCATGTAGGAGCCCCTAATCTTAGGGATAAAAATGCTATGGCATA...  "
      ]
     },
     "execution_count": 16,
     "metadata": {},
     "output_type": "execute_result"
    }
   ],
   "source": [
    "df = pd.read_csv(\"../../../data/processed_barcodes/20221114_barcode/LB_by_promoter/araCp_counts.csv\")\n",
    "df.head(5)"
   ]
  },
  {
   "cell_type": "markdown",
   "id": "12f43d53-b58a-4652-ae73-26385ccdf261",
   "metadata": {},
   "source": [
    "Prep dataframe to work with mpathic, therefore renaming columns and sorting the dataframe."
   ]
  },
  {
   "cell_type": "code",
   "execution_count": 17,
   "id": "90e714af-5e8c-4bd6-a63b-946dfa4e13e6",
   "metadata": {},
   "outputs": [
    {
     "data": {
      "text/html": [
       "<div>\n",
       "<style scoped>\n",
       "    .dataframe tbody tr th:only-of-type {\n",
       "        vertical-align: middle;\n",
       "    }\n",
       "\n",
       "    .dataframe tbody tr th {\n",
       "        vertical-align: top;\n",
       "    }\n",
       "\n",
       "    .dataframe thead th {\n",
       "        text-align: right;\n",
       "    }\n",
       "</style>\n",
       "<table border=\"1\" class=\"dataframe\">\n",
       "  <thead>\n",
       "    <tr style=\"text-align: right;\">\n",
       "      <th></th>\n",
       "      <th>ct</th>\n",
       "      <th>ct_0</th>\n",
       "      <th>ct_1</th>\n",
       "      <th>seq</th>\n",
       "    </tr>\n",
       "  </thead>\n",
       "  <tbody>\n",
       "    <tr>\n",
       "      <th>0</th>\n",
       "      <td>267014</td>\n",
       "      <td>38677</td>\n",
       "      <td>228337</td>\n",
       "      <td>GTCATGTAGCATCCGCTAATCTTATGGATAAAAATACTATGGCTTA...</td>\n",
       "    </tr>\n",
       "    <tr>\n",
       "      <th>1</th>\n",
       "      <td>81632</td>\n",
       "      <td>2461</td>\n",
       "      <td>79171</td>\n",
       "      <td>GTCAGGTAGGATGCGCTAATCTTATGGATAAAAATGCTATGGCATA...</td>\n",
       "    </tr>\n",
       "    <tr>\n",
       "      <th>2</th>\n",
       "      <td>85792</td>\n",
       "      <td>23612</td>\n",
       "      <td>62180</td>\n",
       "      <td>GTCAGCTAGGATCCGGTAATCTTATGGATAAAACTGCTCTGGCATA...</td>\n",
       "    </tr>\n",
       "    <tr>\n",
       "      <th>3</th>\n",
       "      <td>94735</td>\n",
       "      <td>38141</td>\n",
       "      <td>56594</td>\n",
       "      <td>GTCTGGTAGGATCCGCTAATCTTATGGATATAAATGCTAGGGCATG...</td>\n",
       "    </tr>\n",
       "    <tr>\n",
       "      <th>4</th>\n",
       "      <td>91111</td>\n",
       "      <td>36067</td>\n",
       "      <td>55044</td>\n",
       "      <td>GTCATGTAGGAGCCCCTAATCTTAGGGATAAAAATGCTATGGCATA...</td>\n",
       "    </tr>\n",
       "  </tbody>\n",
       "</table>\n",
       "</div>"
      ],
      "text/plain": [
       "       ct   ct_0    ct_1                                                seq\n",
       "0  267014  38677  228337  GTCATGTAGCATCCGCTAATCTTATGGATAAAAATACTATGGCTTA...\n",
       "1   81632   2461   79171  GTCAGGTAGGATGCGCTAATCTTATGGATAAAAATGCTATGGCATA...\n",
       "2   85792  23612   62180  GTCAGCTAGGATCCGGTAATCTTATGGATAAAACTGCTCTGGCATA...\n",
       "3   94735  38141   56594  GTCTGGTAGGATCCGCTAATCTTATGGATATAAATGCTAGGGCATG...\n",
       "4   91111  36067   55044  GTCATGTAGGAGCCCCTAATCTTAGGGATAAAAATGCTATGGCATA..."
      ]
     },
     "execution_count": 17,
     "metadata": {},
     "output_type": "execute_result"
    }
   ],
   "source": [
    "df.rename(\n",
    "    columns={\n",
    "        \"cDNA_count\": \"ct_1\",\n",
    "        \"gDNA_count\": \"ct_0\",\n",
    "        \"promoter\": \"seq\"\n",
    "    },\n",
    "    inplace=True\n",
    ")\n",
    "df['ct'] = df['ct_0'] + df['ct_1']\n",
    "df = df[['ct', 'ct_0', 'ct_1', 'seq']]\n",
    "df.head(5)"
   ]
  },
  {
   "cell_type": "markdown",
   "id": "b3813c50-8769-4c58-aa1d-7a28594c4768",
   "metadata": {},
   "source": [
    "Run mpathic on dataframe."
   ]
  },
  {
   "cell_type": "code",
   "execution_count": null,
   "id": "78d7cc2d-ca22-4c52-90fb-ed049d664c9f",
   "metadata": {},
   "outputs": [
    {
     "name": "stdout",
     "output_type": "stream",
     "text": [
      " [---               8%                  ] 25575 of 300000 complete in 3709.4 sec"
     ]
    }
   ],
   "source": [
    "db = \"../../../data/mpathic_footprints/20221114_barcode/araCp_LB_dataset_db\"\n",
    "\n",
    "mcmc_df = learn_model.main(\n",
    "    df=df,\n",
    "    lm='IM',\n",
    "    modeltype='MAT',\n",
    "    LS_means_std=None,\n",
    "    db=db,\n",
    "    iteration=300000,\n",
    "    burnin=10000,\n",
    "    thin=10,\n",
    "    runnum=0,\n",
    "    initialize='rand',\n",
    "    start=0,\n",
    "    end=None,\n",
    "    foreground=1,\n",
    "    background=0,\n",
    "    alpha=0,\n",
    "    pseudocounts=1,\n",
    "    test=False,\n",
    "    drop_library=False,\n",
    "    verbose=True,\n",
    ")\n"
   ]
  },
  {
   "cell_type": "code",
   "execution_count": null,
   "id": "5104e90d",
   "metadata": {},
   "outputs": [
    {
     "data": {
      "text/html": [
       "<div>\n",
       "<style scoped>\n",
       "    .dataframe tbody tr th:only-of-type {\n",
       "        vertical-align: middle;\n",
       "    }\n",
       "\n",
       "    .dataframe tbody tr th {\n",
       "        vertical-align: top;\n",
       "    }\n",
       "\n",
       "    .dataframe thead th {\n",
       "        text-align: right;\n",
       "    }\n",
       "</style>\n",
       "<table border=\"1\" class=\"dataframe\">\n",
       "  <thead>\n",
       "    <tr style=\"text-align: right;\">\n",
       "      <th></th>\n",
       "      <th>pos</th>\n",
       "      <th>val_A</th>\n",
       "      <th>val_C</th>\n",
       "      <th>val_G</th>\n",
       "      <th>val_T</th>\n",
       "    </tr>\n",
       "  </thead>\n",
       "  <tbody>\n",
       "    <tr>\n",
       "      <th>0</th>\n",
       "      <td>0</td>\n",
       "      <td>0.044020</td>\n",
       "      <td>0.013355</td>\n",
       "      <td>0.020564</td>\n",
       "      <td>-0.077940</td>\n",
       "    </tr>\n",
       "    <tr>\n",
       "      <th>1</th>\n",
       "      <td>1</td>\n",
       "      <td>0.007296</td>\n",
       "      <td>0.033717</td>\n",
       "      <td>-0.016619</td>\n",
       "      <td>-0.024394</td>\n",
       "    </tr>\n",
       "    <tr>\n",
       "      <th>2</th>\n",
       "      <td>2</td>\n",
       "      <td>0.010933</td>\n",
       "      <td>-0.028751</td>\n",
       "      <td>-0.001826</td>\n",
       "      <td>0.019645</td>\n",
       "    </tr>\n",
       "    <tr>\n",
       "      <th>3</th>\n",
       "      <td>3</td>\n",
       "      <td>0.029397</td>\n",
       "      <td>-0.020677</td>\n",
       "      <td>-0.045234</td>\n",
       "      <td>0.036514</td>\n",
       "    </tr>\n",
       "    <tr>\n",
       "      <th>4</th>\n",
       "      <td>4</td>\n",
       "      <td>0.039015</td>\n",
       "      <td>-0.077516</td>\n",
       "      <td>0.027211</td>\n",
       "      <td>0.011289</td>\n",
       "    </tr>\n",
       "    <tr>\n",
       "      <th>...</th>\n",
       "      <td>...</td>\n",
       "      <td>...</td>\n",
       "      <td>...</td>\n",
       "      <td>...</td>\n",
       "      <td>...</td>\n",
       "    </tr>\n",
       "    <tr>\n",
       "      <th>155</th>\n",
       "      <td>155</td>\n",
       "      <td>0.012801</td>\n",
       "      <td>-0.019121</td>\n",
       "      <td>-0.032465</td>\n",
       "      <td>0.038785</td>\n",
       "    </tr>\n",
       "    <tr>\n",
       "      <th>156</th>\n",
       "      <td>156</td>\n",
       "      <td>0.012932</td>\n",
       "      <td>0.035863</td>\n",
       "      <td>0.002543</td>\n",
       "      <td>-0.051338</td>\n",
       "    </tr>\n",
       "    <tr>\n",
       "      <th>157</th>\n",
       "      <td>157</td>\n",
       "      <td>0.036668</td>\n",
       "      <td>0.017070</td>\n",
       "      <td>-0.019050</td>\n",
       "      <td>-0.034689</td>\n",
       "    </tr>\n",
       "    <tr>\n",
       "      <th>158</th>\n",
       "      <td>158</td>\n",
       "      <td>0.000197</td>\n",
       "      <td>0.002681</td>\n",
       "      <td>-0.002187</td>\n",
       "      <td>-0.000690</td>\n",
       "    </tr>\n",
       "    <tr>\n",
       "      <th>159</th>\n",
       "      <td>159</td>\n",
       "      <td>0.002755</td>\n",
       "      <td>0.033299</td>\n",
       "      <td>-0.033392</td>\n",
       "      <td>-0.002661</td>\n",
       "    </tr>\n",
       "  </tbody>\n",
       "</table>\n",
       "<p>160 rows × 5 columns</p>\n",
       "</div>"
      ],
      "text/plain": [
       "     pos     val_A     val_C     val_G     val_T\n",
       "0      0  0.044020  0.013355  0.020564 -0.077940\n",
       "1      1  0.007296  0.033717 -0.016619 -0.024394\n",
       "2      2  0.010933 -0.028751 -0.001826  0.019645\n",
       "3      3  0.029397 -0.020677 -0.045234  0.036514\n",
       "4      4  0.039015 -0.077516  0.027211  0.011289\n",
       "..   ...       ...       ...       ...       ...\n",
       "155  155  0.012801 -0.019121 -0.032465  0.038785\n",
       "156  156  0.012932  0.035863  0.002543 -0.051338\n",
       "157  157  0.036668  0.017070 -0.019050 -0.034689\n",
       "158  158  0.000197  0.002681 -0.002187 -0.000690\n",
       "159  159  0.002755  0.033299 -0.033392 -0.002661\n",
       "\n",
       "[160 rows x 5 columns]"
      ]
     },
     "execution_count": 13,
     "metadata": {},
     "output_type": "execute_result"
    }
   ],
   "source": [
    "mcmc_df"
   ]
  },
  {
   "cell_type": "markdown",
   "id": "5e3a8541-23d8-49b7-aa69-000212a9b657",
   "metadata": {},
   "source": [
    "Transform phenotype output to probabilities using exponential distribution."
   ]
  },
  {
   "cell_type": "code",
   "execution_count": 21,
   "id": "36c198fe-11e1-4620-9820-fbb542e91967",
   "metadata": {},
   "outputs": [],
   "source": [
    "inf_arr = mcmc_df[['val_A', 'val_C', 'val_G', 'val_T']].to_numpy()\n",
    "prob_mat = np.zeros((160, 4))\n",
    "\n",
    "for i in range(160):\n",
    "    prob_mat[i, :] = np.exp(inf_arr[i, :]) / np.sum(np.exp(inf_arr[i, :]))"
   ]
  },
  {
   "cell_type": "markdown",
   "id": "a5122c80-f328-45f0-a719-08e5bb36718a",
   "metadata": {},
   "source": [
    "Compute relative entropy."
   ]
  },
  {
   "cell_type": "code",
   "execution_count": 22,
   "id": "2cdc649f-8344-4e30-9b75-0cf2a1409baa",
   "metadata": {},
   "outputs": [],
   "source": [
    "relative_ent = np.zeros(160)\n",
    "for i in range(160):\n",
    "    relative_ent[i] = np.sum([prob_mat[i, j] * np.log2(prob_mat[i, j]/0.25) for j in range(4)])"
   ]
  },
  {
   "cell_type": "markdown",
   "id": "ef05766d-d530-4f3a-959e-85f27582e9c6",
   "metadata": {},
   "source": [
    "Plot relative entropy footprint."
   ]
  },
  {
   "cell_type": "code",
   "execution_count": 23,
   "id": "bfdc7d4e-25f9-4dd1-ace5-60db23e46efe",
   "metadata": {},
   "outputs": [
    {
     "data": {
      "text/plain": [
       "Text(0.5, 1.0, 'araC in LB')"
      ]
     },
     "execution_count": 23,
     "metadata": {},
     "output_type": "execute_result"
    },
    {
     "data": {
      "image/png": "[encoded data removed]",
      "text/plain": [
       "<Figure size 1080x216 with 1 Axes>"
      ]
     },
     "metadata": {
      "needs_background": "light"
     },
     "output_type": "display_data"
    }
   ],
   "source": [
    "fig, ax = plt.subplots(figsize=(15, 3))\n",
    "ax.bar(np.arange(-115, 45), relative_ent)\n",
    "ax.set_xlabel('position')\n",
    "ax.set_ylabel('relative entropy [bits]')\n",
    "ax.set_title('araC in LB')"
   ]
  },
  {
   "cell_type": "code",
   "execution_count": null,
   "id": "32a45fe1-04d3-42a7-8ca9-ef2c590f2011",
   "metadata": {},
   "outputs": [],
   "source": [
    "fig, ax = plt.subplots(figsize=(15, 3))\n",
    "ax.bar(np.arange(-115, 45), relative_ent)\n",
    "ax.set_xlabel('position')\n",
    "ax.set_ylabel('relative entropy [bits]')\n",
    "ax.set_title('araC in LB')"
   ]
  },
  {
   "cell_type": "markdown",
   "id": "2488a88e-acb1-4cf9-87e8-069f8a21dd7c",
   "metadata": {},
   "source": [
    "## RegSeq dataset"
   ]
  },
  {
   "cell_type": "code",
   "execution_count": 77,
   "id": "e301a205-e382-4418-89dc-bcd525c43b05",
   "metadata": {},
   "outputs": [
    {
     "data": {
      "text/html": [
       "<div>\n",
       "<style scoped>\n",
       "    .dataframe tbody tr th:only-of-type {\n",
       "        vertical-align: middle;\n",
       "    }\n",
       "\n",
       "    .dataframe tbody tr th {\n",
       "        vertical-align: top;\n",
       "    }\n",
       "\n",
       "    .dataframe thead th {\n",
       "        text-align: right;\n",
       "    }\n",
       "</style>\n",
       "<table border=\"1\" class=\"dataframe\">\n",
       "  <thead>\n",
       "    <tr style=\"text-align: right;\">\n",
       "      <th></th>\n",
       "      <th>ct</th>\n",
       "      <th>ct_0</th>\n",
       "      <th>ct_1</th>\n",
       "      <th>seq</th>\n",
       "    </tr>\n",
       "  </thead>\n",
       "  <tbody>\n",
       "    <tr>\n",
       "      <th>591</th>\n",
       "      <td>1141.0</td>\n",
       "      <td>726.0</td>\n",
       "      <td>415.0</td>\n",
       "      <td>TCGATTTCCCCAGAAGAAGGGAGCGAGGCCGAAAGAAATCAAATTA...</td>\n",
       "    </tr>\n",
       "    <tr>\n",
       "      <th>1526</th>\n",
       "      <td>234.0</td>\n",
       "      <td>109.0</td>\n",
       "      <td>125.0</td>\n",
       "      <td>TCGATTTCACCATAAAATGTCAGCGATGCCGAGAGAAATAAAATTA...</td>\n",
       "    </tr>\n",
       "    <tr>\n",
       "      <th>1543</th>\n",
       "      <td>107.0</td>\n",
       "      <td>97.0</td>\n",
       "      <td>10.0</td>\n",
       "      <td>CCGATTTCCCCATCAAATGTGAGCGGTGCCGGAAGAAATAAAATTA...</td>\n",
       "    </tr>\n",
       "    <tr>\n",
       "      <th>2173</th>\n",
       "      <td>87.0</td>\n",
       "      <td>77.0</td>\n",
       "      <td>10.0</td>\n",
       "      <td>TCGAGTTCCCCACAACATCTGAGCGATGCCCAAAGAAACAGAAATA...</td>\n",
       "    </tr>\n",
       "    <tr>\n",
       "      <th>3347</th>\n",
       "      <td>39.0</td>\n",
       "      <td>32.0</td>\n",
       "      <td>7.0</td>\n",
       "      <td>TCGATTTCCCCATAAAATGTGAGCGATGCCGAAAGAAATAAAAATA...</td>\n",
       "    </tr>\n",
       "  </tbody>\n",
       "</table>\n",
       "</div>"
      ],
      "text/plain": [
       "          ct   ct_0   ct_1                                                seq\n",
       "591   1141.0  726.0  415.0  TCGATTTCCCCAGAAGAAGGGAGCGAGGCCGAAAGAAATCAAATTA...\n",
       "1526   234.0  109.0  125.0  TCGATTTCACCATAAAATGTCAGCGATGCCGAGAGAAATAAAATTA...\n",
       "1543   107.0   97.0   10.0  CCGATTTCCCCATCAAATGTGAGCGGTGCCGGAAGAAATAAAATTA...\n",
       "2173    87.0   77.0   10.0  TCGAGTTCCCCACAACATCTGAGCGATGCCCAAAGAAACAGAAATA...\n",
       "3347    39.0   32.0    7.0  TCGATTTCCCCATAAAATGTGAGCGATGCCGAAAGAAATAAAAATA..."
      ]
     },
     "execution_count": 77,
     "metadata": {},
     "output_type": "execute_result"
    }
   ],
   "source": [
    "df = pd.read_csv(\"../../../../RegSeq/data/sequencing_data/LB_data.csv\", index_col=0)\n",
    "df = df.loc[df['gene'] == 'ykgE', :]\n",
    "df.rename(\n",
    "    columns={\n",
    "        'counts_RNA': 'ct_1',\n",
    "        'counts_DNA': 'ct_0',\n",
    "    },\n",
    "    inplace=True\n",
    ")\n",
    "df['ct'] = df['ct_0'] + df['ct_1']\n",
    "df = df[['ct', 'ct_0', 'ct_1', 'seq']]\n",
    "df.dropna(inplace=True)\n",
    "df.head(5)"
   ]
  },
  {
   "cell_type": "code",
   "execution_count": 92,
   "id": "5e97a24c-626f-479a-9131-a26d26e89713",
   "metadata": {},
   "outputs": [],
   "source": [
    "df = pd.read_csv(\"../../../../RegSeq/data/sequencing_data/ykgE_dataset_combined.csv\")\n",
    "df['seq'] = [x[0:160] for x in df['seq']]"
   ]
  },
  {
   "cell_type": "code",
   "execution_count": 93,
   "id": "cff31d5e-3d76-4af6-b610-80274b5856b7",
   "metadata": {},
   "outputs": [
    {
     "name": "stdout",
     "output_type": "stream",
     "text": [
      " [-----------------100%-----------------] 10000 of 10000 complete in 1294.2 sec"
     ]
    },
    {
     "name": "stderr",
     "output_type": "stream",
     "text": [
      "/home/tom/anaconda3/envs/mpathic_env/lib/python3.6/site-packages/numpy/core/fromnumeric.py:3373: RuntimeWarning: Mean of empty slice.\n",
      "  out=out, **kwargs)\n",
      "/home/tom/anaconda3/envs/mpathic_env/lib/python3.6/site-packages/numpy/core/_methods.py:163: RuntimeWarning: invalid value encountered in true_divide\n",
      "  ret, rcount, out=ret, casting='unsafe', subok=False)\n"
     ]
    },
    {
     "ename": "SortSeqError",
     "evalue": "'Nonfinite parameters encountered.'",
     "output_type": "error",
     "traceback": [
      "\u001b[0;31m---------------------------------------------------------------------------\u001b[0m",
      "\u001b[0;31mSortSeqError\u001b[0m                              Traceback (most recent call last)",
      "\u001b[0;32m<ipython-input-93-1f4c3116203b>\u001b[0m in \u001b[0;36m<module>\u001b[0;34m\u001b[0m\n\u001b[1;32m     18\u001b[0m     \u001b[0mtest\u001b[0m\u001b[0;34m=\u001b[0m\u001b[0;32mFalse\u001b[0m\u001b[0;34m,\u001b[0m\u001b[0;34m\u001b[0m\u001b[0;34m\u001b[0m\u001b[0m\n\u001b[1;32m     19\u001b[0m     \u001b[0mdrop_library\u001b[0m\u001b[0;34m=\u001b[0m\u001b[0;32mFalse\u001b[0m\u001b[0;34m,\u001b[0m\u001b[0;34m\u001b[0m\u001b[0;34m\u001b[0m\u001b[0m\n\u001b[0;32m---> 20\u001b[0;31m     \u001b[0mverbose\u001b[0m\u001b[0;34m=\u001b[0m\u001b[0;32mTrue\u001b[0m\u001b[0;34m,\u001b[0m\u001b[0;34m\u001b[0m\u001b[0;34m\u001b[0m\u001b[0m\n\u001b[0m\u001b[1;32m     21\u001b[0m )\n",
      "\u001b[0;32m~/anaconda3/envs/mpathic_env/lib/python3.6/site-packages/mpathic/learn_model.py\u001b[0m in \u001b[0;36mmain\u001b[0;34m(df, lm, modeltype, LS_means_std, db, iteration, burnin, thin, runnum, initialize, start, end, foreground, background, alpha, pseudocounts, test, drop_library, verbose)\u001b[0m\n\u001b[1;32m    261\u001b[0m \u001b[0;34m\u001b[0m\u001b[0m\n\u001b[1;32m    262\u001b[0m     \u001b[0;31m# Validate model and return\u001b[0m\u001b[0;34m\u001b[0m\u001b[0;34m\u001b[0m\u001b[0;34m\u001b[0m\u001b[0m\n\u001b[0;32m--> 263\u001b[0;31m     \u001b[0moutput_df\u001b[0m \u001b[0;34m=\u001b[0m \u001b[0mqc\u001b[0m\u001b[0;34m.\u001b[0m\u001b[0mvalidate_model\u001b[0m\u001b[0;34m(\u001b[0m\u001b[0moutput_df\u001b[0m\u001b[0;34m,\u001b[0m\u001b[0mfix\u001b[0m\u001b[0;34m=\u001b[0m\u001b[0;32mTrue\u001b[0m\u001b[0;34m)\u001b[0m\u001b[0;34m\u001b[0m\u001b[0;34m\u001b[0m\u001b[0m\n\u001b[0m\u001b[1;32m    264\u001b[0m     \u001b[0;32mreturn\u001b[0m \u001b[0moutput_df\u001b[0m\u001b[0;34m\u001b[0m\u001b[0;34m\u001b[0m\u001b[0m\n\u001b[1;32m    265\u001b[0m \u001b[0;34m\u001b[0m\u001b[0m\n",
      "\u001b[0;32m~/anaconda3/envs/mpathic_env/lib/python3.6/site-packages/mpathic/qc.py\u001b[0m in \u001b[0;36mvalidate_model\u001b[0;34m(df, fix)\u001b[0m\n\u001b[1;32m    945\u001b[0m \u001b[0;34m\u001b[0m\u001b[0m\n\u001b[1;32m    946\u001b[0m     \u001b[0;31m# Validate contents of all columns\u001b[0m\u001b[0;34m\u001b[0m\u001b[0;34m\u001b[0m\u001b[0;34m\u001b[0m\u001b[0m\n\u001b[0;32m--> 947\u001b[0;31m     \u001b[0mdf\u001b[0m \u001b[0;34m=\u001b[0m \u001b[0m_validate_cols\u001b[0m\u001b[0;34m(\u001b[0m\u001b[0mdf\u001b[0m\u001b[0;34m,\u001b[0m\u001b[0mfix\u001b[0m\u001b[0;34m=\u001b[0m\u001b[0mfix\u001b[0m\u001b[0;34m)\u001b[0m\u001b[0;34m\u001b[0m\u001b[0;34m\u001b[0m\u001b[0m\n\u001b[0m\u001b[1;32m    948\u001b[0m \u001b[0;34m\u001b[0m\u001b[0m\n\u001b[1;32m    949\u001b[0m     \u001b[0;32mreturn\u001b[0m \u001b[0mdf\u001b[0m\u001b[0;34m\u001b[0m\u001b[0;34m\u001b[0m\u001b[0m\n",
      "\u001b[0;32m~/anaconda3/envs/mpathic_env/lib/python3.6/site-packages/mpathic/qc.py\u001b[0m in \u001b[0;36m_validate_cols\u001b[0;34m(df, fix)\u001b[0m\n\u001b[1;32m    169\u001b[0m     \u001b[0mdf\u001b[0m \u001b[0;34m=\u001b[0m \u001b[0m_validate_bin_cols\u001b[0m\u001b[0;34m(\u001b[0m\u001b[0mdf\u001b[0m\u001b[0;34m,\u001b[0m\u001b[0mfix\u001b[0m\u001b[0;34m=\u001b[0m\u001b[0mfix\u001b[0m\u001b[0;34m)\u001b[0m\u001b[0;34m\u001b[0m\u001b[0;34m\u001b[0m\u001b[0m\n\u001b[1;32m    170\u001b[0m     \u001b[0mdf\u001b[0m \u001b[0;34m=\u001b[0m \u001b[0m_validate_mut_cols\u001b[0m\u001b[0;34m(\u001b[0m\u001b[0mdf\u001b[0m\u001b[0;34m,\u001b[0m\u001b[0mfix\u001b[0m\u001b[0;34m=\u001b[0m\u001b[0mfix\u001b[0m\u001b[0;34m)\u001b[0m\u001b[0;34m\u001b[0m\u001b[0;34m\u001b[0m\u001b[0m\n\u001b[0;32m--> 171\u001b[0;31m     \u001b[0mdf\u001b[0m \u001b[0;34m=\u001b[0m \u001b[0m_validate_val_cols\u001b[0m\u001b[0;34m(\u001b[0m\u001b[0mdf\u001b[0m\u001b[0;34m,\u001b[0m\u001b[0mfix\u001b[0m\u001b[0;34m=\u001b[0m\u001b[0mfix\u001b[0m\u001b[0;34m)\u001b[0m\u001b[0;34m\u001b[0m\u001b[0;34m\u001b[0m\u001b[0m\n\u001b[0m\u001b[1;32m    172\u001b[0m     \u001b[0mdf\u001b[0m \u001b[0;34m=\u001b[0m \u001b[0m_validate_freq_cols\u001b[0m\u001b[0;34m(\u001b[0m\u001b[0mdf\u001b[0m\u001b[0;34m,\u001b[0m\u001b[0mfix\u001b[0m\u001b[0;34m=\u001b[0m\u001b[0mfix\u001b[0m\u001b[0;34m)\u001b[0m\u001b[0;34m\u001b[0m\u001b[0;34m\u001b[0m\u001b[0m\n\u001b[1;32m    173\u001b[0m     \u001b[0mdf\u001b[0m \u001b[0;34m=\u001b[0m \u001b[0m_validate_info_cols\u001b[0m\u001b[0;34m(\u001b[0m\u001b[0mdf\u001b[0m\u001b[0;34m,\u001b[0m\u001b[0mfix\u001b[0m\u001b[0;34m=\u001b[0m\u001b[0mfix\u001b[0m\u001b[0;34m)\u001b[0m\u001b[0;34m\u001b[0m\u001b[0;34m\u001b[0m\u001b[0m\n",
      "\u001b[0;32m~/anaconda3/envs/mpathic_env/lib/python3.6/site-packages/mpathic/qc.py\u001b[0m in \u001b[0;36m_validate_val_cols\u001b[0;34m(df, fix)\u001b[0m\n\u001b[1;32m    520\u001b[0m         \u001b[0;31m# Make sure that all parameters are finite\u001b[0m\u001b[0;34m\u001b[0m\u001b[0;34m\u001b[0m\u001b[0;34m\u001b[0m\u001b[0m\n\u001b[1;32m    521\u001b[0m         \u001b[0;32mif\u001b[0m \u001b[0;32mnot\u001b[0m \u001b[0mall\u001b[0m\u001b[0;34m(\u001b[0m\u001b[0mnp\u001b[0m\u001b[0;34m.\u001b[0m\u001b[0misfinite\u001b[0m\u001b[0;34m(\u001b[0m\u001b[0mdf\u001b[0m\u001b[0;34m[\u001b[0m\u001b[0mcol\u001b[0m\u001b[0;34m]\u001b[0m\u001b[0;34m)\u001b[0m\u001b[0;34m)\u001b[0m\u001b[0;34m:\u001b[0m\u001b[0;34m\u001b[0m\u001b[0;34m\u001b[0m\u001b[0m\n\u001b[0;32m--> 522\u001b[0;31m             \u001b[0;32mraise\u001b[0m \u001b[0mSortSeqError\u001b[0m\u001b[0;34m(\u001b[0m\u001b[0;34m'Nonfinite parameters encountered.'\u001b[0m\u001b[0;34m)\u001b[0m\u001b[0;34m\u001b[0m\u001b[0;34m\u001b[0m\u001b[0m\n\u001b[0m\u001b[1;32m    523\u001b[0m     \u001b[0;32mreturn\u001b[0m \u001b[0mdf\u001b[0m\u001b[0;34m\u001b[0m\u001b[0;34m\u001b[0m\u001b[0m\n\u001b[1;32m    524\u001b[0m \u001b[0;34m\u001b[0m\u001b[0m\n",
      "\u001b[0;31mSortSeqError\u001b[0m: 'Nonfinite parameters encountered.'"
     ]
    }
   ],
   "source": [
    "mcmc_df = learn_model.main(\n",
    "    df=df,\n",
    "    lm='IM',\n",
    "    modeltype='MAT',\n",
    "    LS_means_std=None,\n",
    "    db=db,\n",
    "    iteration=300000,\n",
    "    burnin=10000,\n",
    "    thin=10,\n",
    "    runnum=0,\n",
    "    initialize='rand',\n",
    "    start=0,\n",
    "    end=None,\n",
    "    foreground=1,\n",
    "    background=0,\n",
    "    alpha=0,\n",
    "    pseudocounts=1,\n",
    "    test=False,\n",
    "    drop_library=False,\n",
    "    verbose=False,\n",
    ")\n"
   ]
  },
  {
   "cell_type": "code",
   "execution_count": null,
   "id": "a296246a-1b0e-4ef2-acd4-70447e3bdd29",
   "metadata": {},
   "outputs": [],
   "source": [
    "inf_arr = mcmc_df[['val_A', 'val_C', 'val_G', 'val_T']].to_numpy()\n",
    "prob_mat = np.zeros((160, 4))\n",
    "\n",
    "for i in range(160):\n",
    "    prob_mat[i, :] = np.exp(inf_arr[i, :]) / np.sum(np.exp(inf_arr[i, :]))"
   ]
  },
  {
   "cell_type": "code",
   "execution_count": null,
   "id": "b3bfee8b-1bc4-41e3-93d8-31435fce818f",
   "metadata": {},
   "outputs": [],
   "source": [
    "relative_ent = np.zeros(160)\n",
    "for i in range(160):\n",
    "    relative_ent[i] = np.sum([prob_mat[i, j] * np.log2(prob_mat[i, j]/0.25) for j in range(4)])"
   ]
  },
  {
   "cell_type": "code",
   "execution_count": null,
   "id": "96212078-a0d8-4d88-a83a-dd1c4eeacb97",
   "metadata": {},
   "outputs": [],
   "source": [
    "fig, ax = plt.subplots(figsize=(15, 3))\n",
    "ax.bar(np.arange(-115, 45), relative_ent)\n",
    "ax.set_xlabel('position')\n",
    "ax.set_ylabel('relative entropy [bits]')\n",
    "ax.set_title('ykgE in LB')"
   ]
  },
  {
   "cell_type": "code",
   "execution_count": null,
   "id": "59097e03-cbc3-4c2a-912a-60a29ba4cbb5",
   "metadata": {},
   "outputs": [],
   "source": [
    "pd.read_csv(\"../../../../RegSeq/data/sequencing_data/ykgE_dataset_combined.csv\")"
   ]
  },
  {
   "cell_type": "code",
   "execution_count": 94,
   "id": "77bf376e-5574-4a41-8e1f-2c74112405c8",
   "metadata": {},
   "outputs": [
    {
     "name": "stdout",
     "output_type": "stream",
     "text": [
      "/bin/bash: mpathic: command not found\n"
     ]
    }
   ],
   "source": [
    "!mpathic learn-model --help"
   ]
  },
  {
   "cell_type": "code",
   "execution_count": null,
   "id": "65146025-b492-4c01-9075-93d873ca65fa",
   "metadata": {},
   "outputs": [],
   "source": [
    "z`"
   ]
  }
 ],
 "metadata": {
  "kernelspec": {
   "display_name": "Python (mpathic)",
   "language": "python",
   "name": "mpathic_env"
  },
  "language_info": {
   "codemirror_mode": {
    "name": "ipython",
    "version": 3
   },
   "file_extension": ".py",
   "mimetype": "text/x-python",
   "name": "python",
   "nbconvert_exporter": "python",
   "pygments_lexer": "ipython3",
   "version": "3.6.15"
  }
 },
 "nbformat": 4,
 "nbformat_minor": 5
}
