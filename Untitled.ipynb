{
 "cells": [
  {
   "cell_type": "code",
   "execution_count": 1,
   "id": "10c86f98-2dc1-4334-9171-63999eb7f77b",
   "metadata": {},
   "outputs": [],
   "source": [
    "from sklearn.preprocessing import OneHotEncoder, LabelEncoder\n",
    "from Bio.Seq               import Seq\n",
    "from scipy                 import stats\n",
    "import numpy as np\n",
    "\n",
    "import itertools\n",
    "import collections\n",
    "import operator"
   ]
  },
  {
   "cell_type": "code",
   "execution_count": 2,
   "id": "936abb30-f7ac-464e-8969-8d3d9649277d",
   "metadata": {},
   "outputs": [],
   "source": [
    "def kmer_encoders(k):\n",
    "    # k is the kmer size for DNA sequence\n",
    "    # this will give bit vectors for 2mers or 3mers for us\n",
    "    kmer_array =[]\n",
    "    nts = ['A','T','G','C']\n",
    "    for output in itertools.product(nts, repeat = k):\n",
    "        kmer_array.append(''.join(output))\n",
    "    kmer_array = np.array(kmer_array)\n",
    "\n",
    "    #one hot encode the sequence\n",
    "    onehot_encoder = OneHotEncoder(sparse=False)\n",
    "    onehot_encoder.fit(kmer_array.reshape(-1, 1))\n",
    "    return onehot_encoder"
   ]
  },
  {
   "cell_type": "code",
   "execution_count": 16,
   "id": "90572715-ed5a-4c6b-a13a-70e425bc02f4",
   "metadata": {},
   "outputs": [],
   "source": [
    "def length_encoders(lower_bound, upper_bound):\n",
    "    length_array =[]\n",
    "    for x in range(lower_bound, upper_bound+1):\n",
    "        length_array.append(str(x))\n",
    "    length_array = np.array(length_array)\n",
    "\n",
    "    #one hot encode the array of length into bit vectors\n",
    "    onehot_encoder = OneHotEncoder(sparse=False)\n",
    "    onehot_encoder.fit(length_array.reshape(-1, 1))\n",
    "    return onehot_encoder"
   ]
  },
  {
   "cell_type": "code",
   "execution_count": 13,
   "id": "8b3c1fd0-b6ad-444c-8bc0-d1f8bd9dc5d1",
   "metadata": {},
   "outputs": [],
   "source": [
    "encoder = kmer_encoders(3).categories_[0]"
   ]
  },
  {
   "cell_type": "code",
   "execution_count": 22,
   "id": "86508eae-afb0-46a7-9f4e-0a29c0936fec",
   "metadata": {},
   "outputs": [
    {
     "data": {
      "text/plain": [
       "array([7, 8])"
      ]
     },
     "execution_count": 22,
     "metadata": {},
     "output_type": "execute_result"
    }
   ],
   "source": [
    "a = np.arange(10)\n",
    "a[-3:-1]"
   ]
  },
  {
   "cell_type": "code",
   "execution_count": 18,
   "id": "251b1c13-06f8-4333-ba29-b9c6908760ba",
   "metadata": {},
   "outputs": [
    {
     "data": {
      "text/plain": [
       "array(['0', '1', '2', '3', '4', '5'], dtype='<U1')"
      ]
     },
     "execution_count": 18,
     "metadata": {},
     "output_type": "execute_result"
    }
   ],
   "source": [
    "length_encoders(0, 5).categories_[0]"
   ]
  },
  {
   "cell_type": "code",
   "execution_count": null,
   "id": "5801f7de-f0b7-4f0a-a090-fc5f0045d669",
   "metadata": {},
   "outputs": [],
   "source": [
    "collect(Iterators.product(1:2, 3:5))"
   ]
  }
 ],
 "metadata": {
  "kernelspec": {
   "display_name": "Python 3",
   "language": "python",
   "name": "python3"
  },
  "language_info": {
   "codemirror_mode": {
    "name": "ipython",
    "version": 3
   },
   "file_extension": ".py",
   "mimetype": "text/x-python",
   "name": "python",
   "nbconvert_exporter": "python",
   "pygments_lexer": "ipython3",
   "version": "3.8.11"
  }
 },
 "nbformat": 4,
 "nbformat_minor": 5
}
